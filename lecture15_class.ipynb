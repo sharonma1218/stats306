{
  "cells": [
    {
      "cell_type": "markdown",
      "metadata": {
        "id": "view-in-github",
        "colab_type": "text"
      },
      "source": [
        "<a href=\"https://colab.research.google.com/github/sharonma1218/stats306/blob/main/lecture15_class.ipynb\" target=\"_parent\"><img src=\"https://colab.research.google.com/assets/colab-badge.svg\" alt=\"Open In Colab\"/></a>"
      ]
    },
    {
      "cell_type": "code",
      "source": [
        "install.packages(\"forcats\")\n",
        "install.packages(\"nycflights13\")\n",
        "install.packages(\"tidytext\")"
      ],
      "metadata": {
        "id": "TkbTHWUl3eoh",
        "colab": {
          "base_uri": "https://localhost:8080/"
        },
        "outputId": "4f6c5537-dc96-4766-d7af-5183a25920d7"
      },
      "execution_count": null,
      "outputs": [
        {
          "output_type": "stream",
          "name": "stderr",
          "text": [
            "Installing package into ‘/usr/local/lib/R/site-library’\n",
            "(as ‘lib’ is unspecified)\n",
            "\n",
            "Installing package into ‘/usr/local/lib/R/site-library’\n",
            "(as ‘lib’ is unspecified)\n",
            "\n"
          ]
        }
      ]
    },
    {
      "cell_type": "code",
      "execution_count": null,
      "metadata": {
        "id": "9fyZT4c53TuX"
      },
      "outputs": [],
      "source": [
        "library(tidyverse)\n",
        "library(forcats)\n",
        "library(nycflights13)\n",
        "library(tidytext)\n",
        "theme_set(theme_classic())\n",
        "options(repr.plot.width=8, repr.plot.height=5, repr.plot.res=150)"
      ]
    },
    {
      "cell_type": "markdown",
      "metadata": {
        "id": "uv_OoI983Tuf"
      },
      "source": [
        "# Lecture 15: Dates"
      ]
    },
    {
      "cell_type": "markdown",
      "metadata": {
        "id": "MuSTIN4D3Tuj"
      },
      "source": [
        "## 🤔 Quiz\n",
        "\n",
        "Every year has 365 days:\n",
        "\n",
        "<ol style=\"list-style-type: upper-alpha;\">\n",
        "    <li>True</li>\n",
        "    <li>False</li>\n",
        "</ol>\n",
        "\n",
        "False: leap years every 4 yrs except for 100 but includes 400!"
      ]
    },
    {
      "cell_type": "markdown",
      "metadata": {
        "id": "nC8kdJXc3Tuj"
      },
      "source": [
        "## 🤔 Quiz\n",
        "\n",
        "Every day has 24 hours:\n",
        "\n",
        "<ol style=\"list-style-type: upper-alpha;\">\n",
        "    <li>True</li>\n",
        "    <li>False</li>\n",
        "\n",
        "</ol>\n",
        "\n",
        "False: daylight savings, gain/lose an hour!"
      ]
    },
    {
      "cell_type": "markdown",
      "metadata": {
        "id": "cYHeaKnF3Tuk"
      },
      "source": [
        "## 🤔 Quiz\n",
        "\n",
        "Every minute has 60 seconds:\n",
        "\n",
        "&nbsp;A.&nbsp;&nbsp;True<br />\n",
        "&nbsp;B.&nbsp;&nbsp;False<br />\n",
        "&nbsp;C:&nbsp;I am not physically present in this room.\n",
        "\n",
        "False: leap seconds!"
      ]
    },
    {
      "cell_type": "markdown",
      "metadata": {
        "id": "bsCkKTcZ3Tul"
      },
      "source": [
        "## Dates\n",
        "Most of us have a pretty firm grasp on dates. But they can be more complicated than you might think. Consider these three questions from the book:\n",
        "* Does every year have 365 days?\n",
        "* Does every day have 24 hours?\n",
        "* Does every minute have 60 seconds?\n",
        "\n",
        "The answer to all three is \"no\"."
      ]
    },
    {
      "cell_type": "markdown",
      "metadata": {
        "id": "cBhAdmhF3Tum"
      },
      "source": [
        "As before, we'll rely on the `lubridate` package to work with dates:"
      ]
    },
    {
      "cell_type": "code",
      "execution_count": null,
      "metadata": {
        "id": "9PYpZzFv3Tum"
      },
      "outputs": [],
      "source": [
        "library(lubridate)"
      ]
    },
    {
      "cell_type": "markdown",
      "metadata": {
        "id": "fquTFR0G3Tun"
      },
      "source": [
        "There are three different date classes in R:\n",
        "\n",
        "* A date, printed in tibble as `<date>`, represents a full day on the calendar.\n",
        "* A time within a day, printed as `<time>`, represents a specific time within an (unspecified) day.\n",
        "* A date-time is a date plus a time (tibble: `<dttm>`). A date-time uniquely identifies an instant in time (up to a given precision, usually 1 second.)"
      ]
    },
    {
      "cell_type": "markdown",
      "metadata": {
        "id": "Jd8CktCb3Tup"
      },
      "source": [
        "We've already seen examples of date-times in the `flights` tibble:"
      ]
    },
    {
      "cell_type": "code",
      "execution_count": null,
      "metadata": {
        "id": "RW3ybknd3Tup",
        "outputId": "8fa0bb5d-e2f3-4fff-b670-cf7623b4eb71",
        "colab": {
          "base_uri": "https://localhost:8080/"
        }
      },
      "outputs": [
        {
          "output_type": "stream",
          "name": "stdout",
          "text": [
            "\u001b[90m# A tibble: 336,776 × 1\u001b[39m\n",
            "   time_hour          \n",
            "   \u001b[3m\u001b[90m<dttm>\u001b[39m\u001b[23m             \n",
            "\u001b[90m 1\u001b[39m 2013-01-01 \u001b[90m05:00:00\u001b[39m\n",
            "\u001b[90m 2\u001b[39m 2013-01-01 \u001b[90m05:00:00\u001b[39m\n",
            "\u001b[90m 3\u001b[39m 2013-01-01 \u001b[90m05:00:00\u001b[39m\n",
            "\u001b[90m 4\u001b[39m 2013-01-01 \u001b[90m05:00:00\u001b[39m\n",
            "\u001b[90m 5\u001b[39m 2013-01-01 \u001b[90m06:00:00\u001b[39m\n",
            "\u001b[90m 6\u001b[39m 2013-01-01 \u001b[90m05:00:00\u001b[39m\n",
            "\u001b[90m 7\u001b[39m 2013-01-01 \u001b[90m06:00:00\u001b[39m\n",
            "\u001b[90m 8\u001b[39m 2013-01-01 \u001b[90m06:00:00\u001b[39m\n",
            "\u001b[90m 9\u001b[39m 2013-01-01 \u001b[90m06:00:00\u001b[39m\n",
            "\u001b[90m10\u001b[39m 2013-01-01 \u001b[90m06:00:00\u001b[39m\n",
            "\u001b[90m# … with 336,766 more rows\u001b[39m\n"
          ]
        }
      ],
      "source": [
        "select(flights, time_hour) %>% print"
      ]
    },
    {
      "cell_type": "markdown",
      "metadata": {
        "id": "UARhRwUt3Tu5"
      },
      "source": [
        "You should tend to favor working with dates over date-times if possible. The latter are more complicated because of the need to handle time zones.\n",
        "\n"
      ]
    },
    {
      "cell_type": "markdown",
      "metadata": {
        "id": "X9PKw3dW3Tu6"
      },
      "source": [
        "We can get the current date and date-time using the `today()` and `now()` commands:"
      ]
    },
    {
      "cell_type": "code",
      "execution_count": null,
      "metadata": {
        "id": "KBDT1VtS3Tu-",
        "outputId": "763fafe8-3dc8-4619-8f8d-d44287836b96",
        "colab": {
          "base_uri": "https://localhost:8080/",
          "height": 34
        }
      },
      "outputs": [
        {
          "output_type": "display_data",
          "data": {
            "text/html": [
              "<time datetime=\"2023-03-15\">2023-03-15</time>"
            ],
            "text/markdown": "2023-03-15",
            "text/latex": "2023-03-15",
            "text/plain": [
              "[1] \"2023-03-15\""
            ]
          },
          "metadata": {}
        }
      ],
      "source": [
        "today()"
      ]
    },
    {
      "cell_type": "code",
      "execution_count": null,
      "metadata": {
        "id": "SXh1-TYJ3Tu-",
        "outputId": "dcb0353e-ee30-4c09-db05-ff627a208be4",
        "colab": {
          "base_uri": "https://localhost:8080/",
          "height": 35
        }
      },
      "outputs": [
        {
          "output_type": "display_data",
          "data": {
            "text/plain": [
              "[1] \"2023-03-15 20:13:22 UTC\""
            ]
          },
          "metadata": {}
        }
      ],
      "source": [
        "now()"
      ]
    },
    {
      "cell_type": "markdown",
      "metadata": {
        "id": "DTxscOyN3Tu_"
      },
      "source": [
        "### Converting strings to dates and times\n",
        "Frequently you will be encounter date and/or time data stored as text. You will need to convert these data into the native R date classes in order to use date functions on them. The `mdy/ymd/dmy` functions accomplish this."
      ]
    },
    {
      "cell_type": "code",
      "execution_count": null,
      "metadata": {
        "id": "b8eg-u_r3TvB",
        "outputId": "e438b802-5a28-4889-945e-003c6174f9d2",
        "colab": {
          "base_uri": "https://localhost:8080/",
          "height": 86
        }
      },
      "outputs": [
        {
          "output_type": "display_data",
          "data": {
            "text/html": [
              "<time datetime=\"2017-01-31\">2017-01-31</time>"
            ],
            "text/markdown": "2017-01-31",
            "text/latex": "2017-01-31",
            "text/plain": [
              "[1] \"2017-01-31\""
            ]
          },
          "metadata": {}
        },
        {
          "output_type": "display_data",
          "data": {
            "text/html": [
              "<time datetime=\"2017-01-31\">2017-01-31</time>"
            ],
            "text/markdown": "2017-01-31",
            "text/latex": "2017-01-31",
            "text/plain": [
              "[1] \"2017-01-31\""
            ]
          },
          "metadata": {}
        },
        {
          "output_type": "display_data",
          "data": {
            "text/html": [
              "<time datetime=\"2017-01-31\">2017-01-31</time>"
            ],
            "text/markdown": "2017-01-31",
            "text/latex": "2017-01-31",
            "text/plain": [
              "[1] \"2017-01-31\""
            ]
          },
          "metadata": {}
        },
        {
          "output_type": "display_data",
          "data": {
            "text/html": [
              "<time datetime=\"2017-01-31\">2017-01-31</time>"
            ],
            "text/markdown": "2017-01-31",
            "text/latex": "2017-01-31",
            "text/plain": [
              "[1] \"2017-01-31\""
            ]
          },
          "metadata": {}
        }
      ],
      "source": [
        "ymd(\"2017 01 31\")\n",
        "mdy(\"1 31 2017\")\n",
        "dmy(\"31 1 2017\")\n",
        "dmy(\"31-Jan-2017\")"
      ]
    },
    {
      "cell_type": "markdown",
      "metadata": {
        "id": "9Jl1Ok1l3TvB"
      },
      "source": [
        "#### Date-time parsers\n",
        "There are also equivalent functions for parsing date-times:"
      ]
    },
    {
      "cell_type": "code",
      "execution_count": null,
      "metadata": {
        "id": "Tzd4O3683TvB",
        "outputId": "23c6d950-703f-45b1-c460-0420784825dc",
        "colab": {
          "base_uri": "https://localhost:8080/",
          "height": 35
        }
      },
      "outputs": [
        {
          "output_type": "display_data",
          "data": {
            "text/plain": [
              "[1] \"2017-01-31 20:11:59 UTC\""
            ]
          },
          "metadata": {}
        }
      ],
      "source": [
        "ymd_hms(\"2017-01-31 20:11:59\")"
      ]
    },
    {
      "cell_type": "code",
      "execution_count": null,
      "metadata": {
        "id": "S_MSpIte3TvC",
        "outputId": "155d3d72-6051-4f34-f78a-3f219cf60a6c",
        "colab": {
          "base_uri": "https://localhost:8080/",
          "height": 35
        }
      },
      "outputs": [
        {
          "output_type": "display_data",
          "data": {
            "text/plain": [
              "[1] \"2017-01-31 08:01:00 UTC\""
            ]
          },
          "metadata": {}
        }
      ],
      "source": [
        "mdy_hm(\"01/31/2017 08:01\")"
      ]
    },
    {
      "cell_type": "markdown",
      "metadata": {
        "id": "WuqaeVuV3TvC"
      },
      "source": [
        "Sometimes you can get away with calling `as_datetime()`:"
      ]
    },
    {
      "cell_type": "code",
      "execution_count": null,
      "metadata": {
        "id": "4QKt-fZn3TvC",
        "outputId": "70b374b5-6a0e-45a2-8ea0-a4db2b68fd89",
        "colab": {
          "base_uri": "https://localhost:8080/",
          "height": 35
        }
      },
      "outputs": [
        {
          "output_type": "display_data",
          "data": {
            "text/plain": [
              "[1] \"2017-01-31 20:11:59 UTC\""
            ]
          },
          "metadata": {}
        }
      ],
      "source": [
        "as_datetime(\"2017-01-31 20:11:59\")\n"
      ]
    },
    {
      "cell_type": "markdown",
      "metadata": {
        "id": "gMn2MWz33TvC"
      },
      "source": [
        "But not always:"
      ]
    },
    {
      "cell_type": "code",
      "execution_count": null,
      "metadata": {
        "id": "JJ9Tn2Pl3TvC",
        "outputId": "b0b502f9-9c87-4eae-8f8b-197bf4a3a6cc",
        "colab": {
          "base_uri": "https://localhost:8080/",
          "height": 71
        }
      },
      "outputs": [
        {
          "output_type": "stream",
          "name": "stderr",
          "text": [
            "Warning message:\n",
            "“All formats failed to parse. No formats found.”\n"
          ]
        },
        {
          "output_type": "display_data",
          "data": {
            "text/plain": [
              "[1] NA"
            ]
          },
          "metadata": {}
        }
      ],
      "source": [
        "as_datetime(\"01/31/2017 08:01\") # must always be year, month, day"
      ]
    },
    {
      "cell_type": "markdown",
      "metadata": {
        "id": "5ROqb4Re3TvD"
      },
      "source": [
        "### Time zones\n",
        "When we create a date-time, the default time zone is \"UTC\":"
      ]
    },
    {
      "cell_type": "code",
      "execution_count": null,
      "metadata": {
        "id": "MgJKHPi33TvD",
        "outputId": "9457d716-d676-429d-f3d0-844881fd1f84",
        "colab": {
          "base_uri": "https://localhost:8080/",
          "height": 35
        }
      },
      "outputs": [
        {
          "output_type": "display_data",
          "data": {
            "text/plain": [
              "[1] \"2000-01-30 UTC\""
            ]
          },
          "metadata": {}
        }
      ],
      "source": [
        "ymd_hm(\"2000-01-30 00:00\")"
      ]
    },
    {
      "cell_type": "markdown",
      "metadata": {
        "id": "t0FXe6fN3TvD"
      },
      "source": [
        "This is a standard time zone which is, for historical reasons, equal to time in Greenwich, England."
      ]
    },
    {
      "cell_type": "markdown",
      "metadata": {
        "id": "B3dcABUu3TvD"
      },
      "source": [
        "If your times are coming from a different time zone you must specify using the `tz=` option:"
      ]
    },
    {
      "cell_type": "code",
      "execution_count": null,
      "metadata": {
        "id": "Z75WcsmE3TvH",
        "outputId": "f06fa298-2771-41a9-c3d9-57c6059a70ef",
        "colab": {
          "base_uri": "https://localhost:8080/",
          "height": 71
        }
      },
      "outputs": [
        {
          "output_type": "display_data",
          "data": {
            "text/plain": [
              "[1] \"2017-06-30 20:11:59 EDT\""
            ]
          },
          "metadata": {}
        },
        {
          "output_type": "display_data",
          "data": {
            "text/plain": [
              "[1] \"2017-06-30 20:11:59 EST\""
            ]
          },
          "metadata": {}
        },
        {
          "output_type": "display_data",
          "data": {
            "text/plain": [
              "[1] \"2017-06-30 20:11:59 PDT\""
            ]
          },
          "metadata": {}
        }
      ],
      "source": [
        "ymd_hms(\"2017-6-30 20:11:59\", tz=\"America/Detroit\")\n",
        "ymd_hms(\"2017-6-30 20:11:59\", tz=\"EST\") \n",
        "ymd_hms(\"2017-6-30 20:11:59\", tz=\"America/Los_Angeles\")"
      ]
    },
    {
      "cell_type": "markdown",
      "metadata": {
        "id": "_-h-IF1C3TvJ"
      },
      "source": [
        "You can find your local time zone using:"
      ]
    },
    {
      "cell_type": "code",
      "execution_count": null,
      "metadata": {
        "id": "0iXG2tID3TvJ",
        "outputId": "0f54476e-8abd-4cba-e625-117c56662dbf",
        "colab": {
          "base_uri": "https://localhost:8080/",
          "height": 34
        }
      },
      "outputs": [
        {
          "output_type": "display_data",
          "data": {
            "text/html": [
              "'Etc/UTC'"
            ],
            "text/markdown": "'Etc/UTC'",
            "text/latex": "'Etc/UTC'",
            "text/plain": [
              "[1] \"Etc/UTC\""
            ]
          },
          "metadata": {}
        }
      ],
      "source": [
        "Sys.timezone()"
      ]
    },
    {
      "cell_type": "markdown",
      "metadata": {
        "id": "xP5tqotP3TvJ"
      },
      "source": [
        "### `strptime()`\n",
        "Sometimes you are given a weird date format that can't be automatically recognized by any of the preceding methods. As a last resort, you have the `strptime()` function for low-level date parsing."
      ]
    },
    {
      "cell_type": "code",
      "execution_count": null,
      "metadata": {
        "id": "ThLFmcW33TvK",
        "outputId": "a156a875-fd9c-40e7-bc35-28a5768b3ac7",
        "colab": {
          "base_uri": "https://localhost:8080/",
          "height": 70
        }
      },
      "outputs": [
        {
          "output_type": "stream",
          "name": "stderr",
          "text": [
            "Warning message:\n",
            "“All formats failed to parse. No formats found.”\n"
          ]
        },
        {
          "output_type": "display_data",
          "data": {
            "text/html": [
              "<time datetime=\"&lt;NA&gt;\">&lt;NA&gt;</time>"
            ],
            "text/markdown": "&lt;NA&gt;",
            "text/latex": "<NA>",
            "text/plain": [
              "[1] NA"
            ]
          },
          "metadata": {}
        }
      ],
      "source": [
        "# date format: (year(month(day))) \n",
        "tdy <- \"March 15th, 2023\"\n",
        "ymd(tdy)\n",
        "# ?strptime"
      ]
    },
    {
      "cell_type": "markdown",
      "metadata": {
        "id": "SnL3ASM-3TvK"
      },
      "source": [
        "### The epoch\n",
        "UNIX systems sometimes represent time as \"the number of seconds which have elapsed since 1-1-1970.\" This date is known as \"[the epoch](https://en.wikipedia.org/wiki/Unix_time)\". So you may occasionally come across date-times that look like:"
      ]
    },
    {
      "cell_type": "code",
      "execution_count": null,
      "metadata": {
        "id": "NuOAPkkz3TvK",
        "outputId": "d55b8a76-61c3-468e-a931-f76e997fce00",
        "colab": {
          "base_uri": "https://localhost:8080/",
          "height": 52
        }
      },
      "outputs": [
        {
          "output_type": "display_data",
          "data": {
            "text/plain": [
              "[1] \"2023-03-15 20:27:54 UTC\""
            ]
          },
          "metadata": {}
        },
        {
          "output_type": "display_data",
          "data": {
            "text/html": [
              "1678912074"
            ],
            "text/markdown": "1678912074",
            "text/latex": "1678912074",
            "text/plain": [
              "[1] 1678912074"
            ]
          },
          "metadata": {}
        }
      ],
      "source": [
        "now()\n",
        "now() %>% as.integer() "
      ]
    },
    {
      "cell_type": "markdown",
      "metadata": {
        "id": "rIQAPI033TvL"
      },
      "source": [
        "To convert these to date format you can use `as_datetime`:"
      ]
    },
    {
      "cell_type": "code",
      "execution_count": null,
      "metadata": {
        "id": "AFGq1bUq3TvL",
        "outputId": "0e2b2536-2cd9-41df-9c08-10b97beebb60",
        "colab": {
          "base_uri": "https://localhost:8080/",
          "height": 35
        }
      },
      "outputs": [
        {
          "output_type": "display_data",
          "data": {
            "text/plain": [
              "[1] \"1970-01-02 UTC\""
            ]
          },
          "metadata": {}
        }
      ],
      "source": [
        "as_datetime(3600 * 24)  # 24 hours after the epoch"
      ]
    },
    {
      "cell_type": "code",
      "source": [
        "as_datetime(0) # orig \n",
        "as_datetime(1678912074) # now"
      ],
      "metadata": {
        "colab": {
          "base_uri": "https://localhost:8080/",
          "height": 53
        },
        "id": "8DXpxaP_9x4n",
        "outputId": "b3e5afff-0312-40da-84e2-127183f28603"
      },
      "execution_count": null,
      "outputs": [
        {
          "output_type": "display_data",
          "data": {
            "text/plain": [
              "[1] \"1970-01-01 UTC\""
            ]
          },
          "metadata": {}
        },
        {
          "output_type": "display_data",
          "data": {
            "text/plain": [
              "[1] \"2023-03-15 20:27:54 UTC\""
            ]
          },
          "metadata": {}
        }
      ]
    },
    {
      "cell_type": "markdown",
      "metadata": {
        "id": "Ril2Fy6z3TvL"
      },
      "source": [
        "## 🤔 Quiz\n",
        "\n",
        "Julian was born on September 22, 2019 at 1:05PM EDT. How many seconds old is Julian?\n",
        "\n",
        "<ol style=\"list-style-type: upper-alpha;\">\n",
        "    <li>About $10^7$</li>\n",
        "    <li>About $10^8$</li>\n",
        "    <li>About $10^9$</li>\n",
        "    <li>About $10^{10}$</li>\n",
        "</ol>"
      ]
    },
    {
      "cell_type": "code",
      "execution_count": null,
      "metadata": {
        "id": "Yy5Tb4gP3TvM",
        "colab": {
          "base_uri": "https://localhost:8080/",
          "height": 104
        },
        "outputId": "b7fcfa5b-a789-4400-8f91-664bcf936f0b"
      },
      "outputs": [
        {
          "output_type": "display_data",
          "data": {
            "text/html": [
              "1678912484"
            ],
            "text/markdown": "1678912484",
            "text/latex": "1678912484",
            "text/plain": [
              "[1] 1678912484"
            ]
          },
          "metadata": {}
        },
        {
          "output_type": "display_data",
          "data": {
            "text/html": [
              "1569175500"
            ],
            "text/markdown": "1569175500",
            "text/latex": "1569175500",
            "text/plain": [
              "[1] 1569175500"
            ]
          },
          "metadata": {}
        },
        {
          "output_type": "display_data",
          "data": {
            "text/html": [
              "109736849"
            ],
            "text/markdown": "109736849",
            "text/latex": "109736849",
            "text/plain": [
              "[1] 109736849"
            ]
          },
          "metadata": {}
        },
        {
          "output_type": "display_data",
          "data": {
            "text/html": [
              "109798184"
            ],
            "text/markdown": "109798184",
            "text/latex": "109798184",
            "text/plain": [
              "[1] 109798184"
            ]
          },
          "metadata": {}
        },
        {
          "output_type": "display_data",
          "data": {
            "text/html": [
              "8.04059515718783"
            ],
            "text/markdown": "8.04059515718783",
            "text/latex": "8.04059515718783",
            "text/plain": [
              "[1] 8.040595"
            ]
          },
          "metadata": {}
        }
      ],
      "source": [
        "# usually, when we want to find the diff b/w two points, we convert both to seconds:\n",
        "\n",
        "# my method:\n",
        "now()%>%as.integer()\n",
        "df<-ymd_hms(\"2019-09-22 13:05:00\", tz=\"EST\")\n",
        "as.integer(df)\n",
        "1678912349-1569175500\n",
        "\n",
        "# teacher's method\n",
        "b<-as_datetime(\"2019/09/22 1:05:00\") %>% as.integer\n",
        "today<-now()%>%as.integer\n",
        "today-b\n",
        "log10(today-b)"
      ]
    },
    {
      "cell_type": "markdown",
      "metadata": {
        "id": "l7lBjwYJ3TvM"
      },
      "source": [
        "### Making a date-time from components\n",
        "The `make_date` and `make_datetime` functions can make dates from individual (numerical) components:"
      ]
    },
    {
      "cell_type": "code",
      "execution_count": null,
      "metadata": {
        "id": "Mv1OiIDa3TvM",
        "outputId": "4e3963af-b57f-4551-acb4-9321ada06ab5",
        "colab": {
          "base_uri": "https://localhost:8080/",
          "height": 35
        }
      },
      "outputs": [
        {
          "output_type": "display_data",
          "data": {
            "text/plain": [
              "[1] \"2023-03-15 14:00:59 EDT\""
            ]
          },
          "metadata": {}
        }
      ],
      "source": [
        "make_datetime(2023, 3, 15, 10, 00, 59, tz=\"EDT\")"
      ]
    },
    {
      "cell_type": "markdown",
      "metadata": {
        "id": "bODOifO13TvN"
      },
      "source": [
        "#### Example: departure and arrival times in `flights`\n",
        "The `flights` table has scheduled as well as actual arrival and departure times. Let's create a date-time variable from the actual departure time. First we need to take note of the fact that `dep_time` and `arr_time` are in a weird format:"
      ]
    },
    {
      "cell_type": "code",
      "execution_count": null,
      "metadata": {
        "id": "t-FLQoVq3TvN",
        "outputId": "e2fdadbc-8a1a-43ea-9d3b-36aa8568db1d",
        "colab": {
          "base_uri": "https://localhost:8080/",
          "height": 304
        }
      },
      "outputs": [
        {
          "output_type": "display_data",
          "data": {
            "text/html": [
              "<table class=\"dataframe\">\n",
              "<caption>A tibble: 6 × 1</caption>\n",
              "<thead>\n",
              "\t<tr><th scope=col>dep_time</th></tr>\n",
              "\t<tr><th scope=col>&lt;int&gt;</th></tr>\n",
              "</thead>\n",
              "<tbody>\n",
              "\t<tr><td>517</td></tr>\n",
              "\t<tr><td>533</td></tr>\n",
              "\t<tr><td>542</td></tr>\n",
              "\t<tr><td>544</td></tr>\n",
              "\t<tr><td>554</td></tr>\n",
              "\t<tr><td>554</td></tr>\n",
              "</tbody>\n",
              "</table>\n"
            ],
            "text/markdown": "\nA tibble: 6 × 1\n\n| dep_time &lt;int&gt; |\n|---|\n| 517 |\n| 533 |\n| 542 |\n| 544 |\n| 554 |\n| 554 |\n\n",
            "text/latex": "A tibble: 6 × 1\n\\begin{tabular}{l}\n dep\\_time\\\\\n <int>\\\\\n\\hline\n\t 517\\\\\n\t 533\\\\\n\t 542\\\\\n\t 544\\\\\n\t 554\\\\\n\t 554\\\\\n\\end{tabular}\n",
            "text/plain": [
              "  dep_time\n",
              "1 517     \n",
              "2 533     \n",
              "3 542     \n",
              "4 544     \n",
              "5 554     \n",
              "6 554     "
            ]
          },
          "metadata": {}
        }
      ],
      "source": [
        "flights %>% select(dep_time) %>% head"
      ]
    },
    {
      "cell_type": "code",
      "source": [
        "517 %/% 100 # integer division, drops the remainder\n",
        "517 %% 100 # remainder "
      ],
      "metadata": {
        "colab": {
          "base_uri": "https://localhost:8080/",
          "height": 52
        },
        "id": "QNTpPlKSAG2a",
        "outputId": "ccdf7d0e-7cad-4086-df33-bfcfbed3d8d5"
      },
      "execution_count": null,
      "outputs": [
        {
          "output_type": "display_data",
          "data": {
            "text/html": [
              "5"
            ],
            "text/markdown": "5",
            "text/latex": "5",
            "text/plain": [
              "[1] 5"
            ]
          },
          "metadata": {}
        },
        {
          "output_type": "display_data",
          "data": {
            "text/html": [
              "17"
            ],
            "text/markdown": "17",
            "text/latex": "17",
            "text/plain": [
              "[1] 17"
            ]
          },
          "metadata": {}
        }
      ]
    },
    {
      "cell_type": "code",
      "source": [
        "flights%>%\n",
        "  mutate(new_date_arr=make_datetime(year,month,day,dep_time%/%100,dep_time%%100))%>%\n",
        "  select(dep_time,new_date_arr)%>%\n",
        "  head"
      ],
      "metadata": {
        "colab": {
          "base_uri": "https://localhost:8080/",
          "height": 286
        },
        "id": "av6RqKSf_o-D",
        "outputId": "1d9df4d1-e572-4eae-a78b-8bae3b7fe73c"
      },
      "execution_count": null,
      "outputs": [
        {
          "output_type": "display_data",
          "data": {
            "text/html": [
              "<table class=\"dataframe\">\n",
              "<caption>A tibble: 6 × 2</caption>\n",
              "<thead>\n",
              "\t<tr><th scope=col>dep_time</th><th scope=col>new_date_arr</th></tr>\n",
              "\t<tr><th scope=col>&lt;int&gt;</th><th scope=col>&lt;dttm&gt;</th></tr>\n",
              "</thead>\n",
              "<tbody>\n",
              "\t<tr><td>517</td><td>2013-01-01 05:17:00</td></tr>\n",
              "\t<tr><td>533</td><td>2013-01-01 05:33:00</td></tr>\n",
              "\t<tr><td>542</td><td>2013-01-01 05:42:00</td></tr>\n",
              "\t<tr><td>544</td><td>2013-01-01 05:44:00</td></tr>\n",
              "\t<tr><td>554</td><td>2013-01-01 05:54:00</td></tr>\n",
              "\t<tr><td>554</td><td>2013-01-01 05:54:00</td></tr>\n",
              "</tbody>\n",
              "</table>\n"
            ],
            "text/markdown": "\nA tibble: 6 × 2\n\n| dep_time &lt;int&gt; | new_date_arr &lt;dttm&gt; |\n|---|---|\n| 517 | 2013-01-01 05:17:00 |\n| 533 | 2013-01-01 05:33:00 |\n| 542 | 2013-01-01 05:42:00 |\n| 544 | 2013-01-01 05:44:00 |\n| 554 | 2013-01-01 05:54:00 |\n| 554 | 2013-01-01 05:54:00 |\n\n",
            "text/latex": "A tibble: 6 × 2\n\\begin{tabular}{ll}\n dep\\_time & new\\_date\\_arr\\\\\n <int> & <dttm>\\\\\n\\hline\n\t 517 & 2013-01-01 05:17:00\\\\\n\t 533 & 2013-01-01 05:33:00\\\\\n\t 542 & 2013-01-01 05:42:00\\\\\n\t 544 & 2013-01-01 05:44:00\\\\\n\t 554 & 2013-01-01 05:54:00\\\\\n\t 554 & 2013-01-01 05:54:00\\\\\n\\end{tabular}\n",
            "text/plain": [
              "  dep_time new_date_arr       \n",
              "1 517      2013-01-01 05:17:00\n",
              "2 533      2013-01-01 05:33:00\n",
              "3 542      2013-01-01 05:42:00\n",
              "4 544      2013-01-01 05:44:00\n",
              "5 554      2013-01-01 05:54:00\n",
              "6 554      2013-01-01 05:54:00"
            ]
          },
          "metadata": {}
        }
      ]
    },
    {
      "cell_type": "code",
      "execution_count": null,
      "metadata": {
        "scrolled": true,
        "id": "JM1Jf-4b3TvO"
      },
      "outputs": [],
      "source": [
        "# create datetime and sched_dep_time from flights\n",
        "flights_dt <- flights %>% mutate(across(c(dep_time, sched_dep_time, arr_time, sched_arr_time), \n",
        "                          ~ make_datetime(year, month, day, . %/% 100, . %% 100)))"
      ]
    },
    {
      "cell_type": "markdown",
      "metadata": {
        "id": "3dA5sSkU3TvO"
      },
      "source": [
        "Now we can use built in R command to query and plot these data based on actual departure time:"
      ]
    },
    {
      "cell_type": "code",
      "execution_count": null,
      "metadata": {
        "id": "-_ocGtK33TvO",
        "outputId": "e3547ae1-e8a5-46ee-b27e-64a8ec4940ba",
        "colab": {
          "base_uri": "https://localhost:8080/",
          "height": 392
        }
      },
      "outputs": [
        {
          "output_type": "display_data",
          "data": {
            "text/plain": [
              "plot without title"
            ],
            "image/png": "[encoded data removed]"
          },
          "metadata": {
            "image/png": {
              "width": 600,
              "height": 375
            }
          }
        }
      ],
      "source": [
        "flights_dt %>% \n",
        "  filter(dep_time <= ymd(20130130), dep_time >= ymd(20130120)) %>% # dates b/w jan 20th & 30th\n",
        "  ggplot(aes(x=dep_time)) + \n",
        "  geom_density(bw=3*3600)"
      ]
    },
    {
      "cell_type": "markdown",
      "metadata": {
        "id": "-0P3wm4R3TvO"
      },
      "source": [
        "Notice that this command and resulting graph looks much nicer than if we did not use the date classes:\n",
        "* The filter on `dep_time` looks more natural than `filter(day<2, month==1, year==2013)`.\n",
        "* We can easily express the bin-width of 600 seconds in `geom_freqpoly(binwidth = 600)`. When you use date-times in a numeric context (like in a histogram), 1 means 1 second; for dates, 1 means 1 day.\n",
        "* The plot x axis has nice readable labels."
      ]
    },
    {
      "cell_type": "markdown",
      "metadata": {
        "id": "jPZg2kWd3TvO"
      },
      "source": [
        "### Date-time components\n",
        "The functions `year()`, `month()`, `mday()` (day of the month), `yday()` (day of the year), `wday()` (day of the week), `hour()`, `minute()`, and `second()` can extract components from dates and times:"
      ]
    },
    {
      "cell_type": "code",
      "execution_count": null,
      "metadata": {
        "id": "hnRNZTuJ3TvO",
        "outputId": "d4e434ed-d780-4350-8dad-214b7430a70c",
        "colab": {
          "base_uri": "https://localhost:8080/",
          "height": 35
        }
      },
      "outputs": [
        {
          "output_type": "display_data",
          "data": {
            "text/plain": [
              "[1] \"2018-03-12 12:00:00 UTC\""
            ]
          },
          "metadata": {}
        }
      ],
      "source": [
        "mdy_hms(c(\"March 12, 2018 12:00:00\")) \n",
        "df2<-mdy_hms(c(\"March 12, 2018 12:00:00\")) "
      ]
    },
    {
      "cell_type": "code",
      "source": [
        "month(df2)\n",
        "month(df2,label=T) # can see the label instead of value \n",
        "mday(df2) # day of the month\n",
        "yday(df2) # day of the year (71 days since 1/1)\n",
        "wday(df2) # day of the week (tues)"
      ],
      "metadata": {
        "colab": {
          "base_uri": "https://localhost:8080/",
          "height": 121
        },
        "id": "79IR4lNmDJeT",
        "outputId": "2e1a873f-49bd-4477-909c-a0cb19f3630d"
      },
      "execution_count": null,
      "outputs": [
        {
          "output_type": "display_data",
          "data": {
            "text/html": [
              "3"
            ],
            "text/markdown": "3",
            "text/latex": "3",
            "text/plain": [
              "[1] 3"
            ]
          },
          "metadata": {}
        },
        {
          "output_type": "display_data",
          "data": {
            "text/html": [
              "Mar\n",
              "<details>\n",
              "\t<summary style=display:list-item;cursor:pointer>\n",
              "\t\t<strong>Levels</strong>:\n",
              "\t</summary>\n",
              "\t<style>\n",
              "\t.list-inline {list-style: none; margin:0; padding: 0}\n",
              "\t.list-inline>li {display: inline-block}\n",
              "\t.list-inline>li:not(:last-child)::after {content: \"\\00b7\"; padding: 0 .5ex}\n",
              "\t</style>\n",
              "\t<ol class=list-inline><li>'Jan'</li><li>'Feb'</li><li>'Mar'</li><li>'Apr'</li><li>'May'</li><li>'Jun'</li><li>'Jul'</li><li>'Aug'</li><li>'Sep'</li><li>'Oct'</li><li>'Nov'</li><li>'Dec'</li></ol>\n",
              "</details>"
            ],
            "text/markdown": "Mar\n**Levels**: 1. 'Jan'\n2. 'Feb'\n3. 'Mar'\n4. 'Apr'\n5. 'May'\n6. 'Jun'\n7. 'Jul'\n8. 'Aug'\n9. 'Sep'\n10. 'Oct'\n11. 'Nov'\n12. 'Dec'\n\n\n",
            "text/latex": "Mar\n\\emph{Levels}: \\begin{enumerate*}\n\\item 'Jan'\n\\item 'Feb'\n\\item 'Mar'\n\\item 'Apr'\n\\item 'May'\n\\item 'Jun'\n\\item 'Jul'\n\\item 'Aug'\n\\item 'Sep'\n\\item 'Oct'\n\\item 'Nov'\n\\item 'Dec'\n\\end{enumerate*}\n",
            "text/plain": [
              "[1] Mar\n",
              "12 Levels: Jan < Feb < Mar < Apr < May < Jun < Jul < Aug < Sep < ... < Dec"
            ]
          },
          "metadata": {}
        },
        {
          "output_type": "display_data",
          "data": {
            "text/html": [
              "12"
            ],
            "text/markdown": "12",
            "text/latex": "12",
            "text/plain": [
              "[1] 12"
            ]
          },
          "metadata": {}
        },
        {
          "output_type": "display_data",
          "data": {
            "text/html": [
              "71"
            ],
            "text/markdown": "71",
            "text/latex": "71",
            "text/plain": [
              "[1] 71"
            ]
          },
          "metadata": {}
        },
        {
          "output_type": "display_data",
          "data": {
            "text/html": [
              "2"
            ],
            "text/markdown": "2",
            "text/latex": "2",
            "text/plain": [
              "[1] 2"
            ]
          },
          "metadata": {}
        }
      ]
    },
    {
      "cell_type": "markdown",
      "metadata": {
        "id": "4tIJWmjv3TvP"
      },
      "source": [
        "### Example\n",
        "By extracting the minute component of scheduled departure time, we uncover a surprising pattern:"
      ]
    },
    {
      "cell_type": "code",
      "execution_count": null,
      "metadata": {
        "id": "KEbjZK9e3TvP",
        "outputId": "b98ca3f3-d9eb-49d3-d863-6a937a6108dc",
        "colab": {
          "base_uri": "https://localhost:8080/",
          "height": 428
        }
      },
      "outputs": [
        {
          "output_type": "stream",
          "name": "stderr",
          "text": [
            "Warning message:\n",
            "“\u001b[1m\u001b[22mRemoved 1 row containing missing values (`geom_line()`).”\n"
          ]
        },
        {
          "output_type": "display_data",
          "data": {
            "text/plain": [
              "plot without title"
            ],
            "image/png": "[encoded data removed]"
          },
          "metadata": {
            "image/png": {
              "width": 600,
              "height": 375
            }
          }
        }
      ],
      "source": [
        "flights_dt %>% \n",
        "  mutate(minute = minute(dep_time)) %>% \n",
        "  group_by(minute) %>% \n",
        "  summarise(\n",
        "    avg_delay = mean(dep_delay, na.rm = TRUE),\n",
        "    n = n()) %>% \n",
        "  ggplot(aes(minute, avg_delay)) +\n",
        "    geom_line() + labs(x=\"minute(dep_time)\")"
      ]
    },
    {
      "cell_type": "code",
      "source": [
        "flights_dt %>% \n",
        "  mutate(minute = minute(dep_time)) %>% \n",
        "  group_by(minute) %>% \n",
        "  summarise(\n",
        "    avg_delay = mean(dep_delay, na.rm = TRUE)) %>% # we didn't need the extra n\n",
        "  ggplot(aes(minute, avg_delay)) +\n",
        "    geom_line() + labs(x=\"minute(dep_time)\")\n",
        "# the delay is a lot less at the 30 min mark, which shows preference for exact half hours"
      ],
      "metadata": {
        "colab": {
          "base_uri": "https://localhost:8080/",
          "height": 428
        },
        "id": "VXgCcJ8TEAHb",
        "outputId": "b1760aa8-c2af-4680-ea86-75d5cf35dd76"
      },
      "execution_count": null,
      "outputs": [
        {
          "output_type": "stream",
          "name": "stderr",
          "text": [
            "Warning message:\n",
            "“\u001b[1m\u001b[22mRemoved 1 row containing missing values (`geom_line()`).”\n"
          ]
        },
        {
          "output_type": "display_data",
          "data": {
            "text/plain": [
              "plot without title"
            ],
            "image/png": "[encoded data removed]"
          },
          "metadata": {
            "image/png": {
              "width": 600,
              "height": 375
            }
          }
        }
      ]
    },
    {
      "cell_type": "markdown",
      "metadata": {
        "id": "O2DBacSO3TvQ"
      },
      "source": [
        "But when grouped by *scheduled departure*, time the delays seem to be random:"
      ]
    },
    {
      "cell_type": "code",
      "execution_count": null,
      "metadata": {
        "id": "GUgc0SL43TvQ",
        "outputId": "0d4c57cc-fd17-42b3-f1fb-9537947c3600",
        "colab": {
          "base_uri": "https://localhost:8080/",
          "height": 392
        }
      },
      "outputs": [
        {
          "output_type": "display_data",
          "data": {
            "text/plain": [
              "plot without title"
            ],
            "image/png": "[encoded data removed]"
          },
          "metadata": {
            "image/png": {
              "width": 600,
              "height": 375
            }
          }
        }
      ],
      "source": [
        "sched_dep <- flights_dt %>% \n",
        "  mutate(minute = minute(sched_dep_time)) %>% \n",
        "  group_by(minute) %>% \n",
        "  summarise(\n",
        "    avg_delay = mean(dep_delay, na.rm = TRUE),\n",
        "    n = n())\n",
        "\n",
        "ggplot(sched_dep, aes(minute, avg_delay)) +\n",
        "  geom_line()"
      ]
    },
    {
      "cell_type": "markdown",
      "metadata": {
        "id": "Zt_yNPGz3TvR"
      },
      "source": [
        "What explains this odd pattern? Hint:"
      ]
    },
    {
      "cell_type": "code",
      "execution_count": null,
      "metadata": {
        "id": "k-Bc_APK3TvR",
        "outputId": "2907e0f3-39ce-4fa9-abe4-25107fa27112",
        "colab": {
          "base_uri": "https://localhost:8080/",
          "height": 294
        }
      },
      "outputs": [
        {
          "output_type": "error",
          "ename": "ERROR",
          "evalue": "ignored",
          "traceback": [
            "\u001b[1m\u001b[33mError\u001b[39m in `ggplot()`:\u001b[22m\n\u001b[1m\u001b[22m\u001b[33m!\u001b[39m `mapping` should be created with `aes()`.\n\u001b[31m✖\u001b[39m You've supplied a \u001b[34m<tbl_df>\u001b[39m object\nTraceback:\n",
            "1. flights %>% ggplot(sched_dep, aes(minute, n))",
            "2. ggplot(., sched_dep, aes(minute, n))",
            "3. ggplot.default(., sched_dep, aes(minute, n))",
            "4. cli::cli_abort(c(\"{.arg mapping} should be created with {.fn aes}.\", \n .     x = \"You've supplied a {.cls {class(mapping)[1]}} object\"))",
            "5. rlang::abort(message, ..., call = call, use_cli_format = TRUE, \n .     .frame = .frame)",
            "6. signal_abort(cnd, .file)"
          ]
        }
      ],
      "source": [
        "flights %>% ggplot(sched_dep, aes(minute, n)) + geom_col()"
      ]
    },
    {
      "cell_type": "markdown",
      "metadata": {
        "id": "UnZfTGZb3TvS"
      },
      "source": [
        "### Time spans\n",
        "Time spans are the difference between two time points. These are represented in R by the `difftime` class:"
      ]
    },
    {
      "cell_type": "code",
      "source": [
        "y<-today()\n",
        "z<-update(y,year=2014)\n",
        "y\n",
        "z"
      ],
      "metadata": {
        "colab": {
          "base_uri": "https://localhost:8080/",
          "height": 52
        },
        "id": "4ASL67FHFVpJ",
        "outputId": "c8172d14-6848-47a2-8583-02f76cfda3cc"
      },
      "execution_count": null,
      "outputs": [
        {
          "output_type": "display_data",
          "data": {
            "text/html": [
              "<time datetime=\"2023-03-15\">2023-03-15</time>"
            ],
            "text/markdown": "2023-03-15",
            "text/latex": "2023-03-15",
            "text/plain": [
              "[1] \"2023-03-15\""
            ]
          },
          "metadata": {}
        },
        {
          "output_type": "display_data",
          "data": {
            "text/html": [
              "<time datetime=\"2014-03-15\">2014-03-15</time>"
            ],
            "text/markdown": "2014-03-15",
            "text/latex": "2014-03-15",
            "text/plain": [
              "[1] \"2014-03-15\""
            ]
          },
          "metadata": {}
        }
      ]
    },
    {
      "cell_type": "code",
      "execution_count": null,
      "metadata": {
        "id": "aQKITwwv3TvS",
        "outputId": "025867e1-90ef-40ff-d0d8-99d61bd707ca",
        "colab": {
          "base_uri": "https://localhost:8080/",
          "height": 52
        }
      },
      "outputs": [
        {
          "output_type": "display_data",
          "data": {
            "text/plain": [
              "Time difference of 4748 days"
            ]
          },
          "metadata": {}
        },
        {
          "output_type": "display_data",
          "data": {
            "text/html": [
              "'difftime'"
            ],
            "text/markdown": "'difftime'",
            "text/latex": "'difftime'",
            "text/plain": [
              "[1] \"difftime\""
            ]
          },
          "metadata": {}
        }
      ],
      "source": [
        "(d = today() - update(today(), year=2010))\n",
        "class(d)"
      ]
    },
    {
      "cell_type": "markdown",
      "metadata": {
        "id": "I_RlXOGf3TvS"
      },
      "source": [
        "Because it is usually simpler to reason about time differences in terms of a single number, `lubridate` also provides a `duration` class which is stored in terms of seconds:"
      ]
    },
    {
      "cell_type": "code",
      "execution_count": null,
      "metadata": {
        "id": "JJ23I2Ao3TvS",
        "outputId": "c54d1705-dee4-4cba-c312-cf159c8fe7ab",
        "colab": {
          "base_uri": "https://localhost:8080/",
          "height": 34
        }
      },
      "outputs": [
        {
          "output_type": "display_data",
          "data": {
            "text/html": [
              "1234s (~20.57 minutes)"
            ],
            "text/markdown": "1234s (~20.57 minutes)",
            "text/latex": "1234s (\\textasciitilde{}20.57 minutes)",
            "text/plain": [
              "[1] \"1234s (~20.57 minutes)\""
            ]
          },
          "metadata": {}
        }
      ],
      "source": [
        "as.duration(1234)"
      ]
    },
    {
      "cell_type": "code",
      "execution_count": null,
      "metadata": {
        "id": "c5gEEsVG3TvS",
        "outputId": "5e98db68-321b-44e8-a0d2-0d6c87ecbfa1",
        "colab": {
          "base_uri": "https://localhost:8080/",
          "height": 34
        }
      },
      "outputs": [
        {
          "output_type": "display_data",
          "data": {
            "text/html": [
              "10s"
            ],
            "text/markdown": "10s",
            "text/latex": "10s",
            "text/plain": [
              "[1] \"10s\""
            ]
          },
          "metadata": {}
        }
      ],
      "source": [
        "dseconds(10)"
      ]
    },
    {
      "cell_type": "code",
      "execution_count": null,
      "metadata": {
        "id": "Kx6kIYA-3TvS",
        "outputId": "d8f77fb0-d7e1-41bf-f41e-a371d688f10d"
      },
      "outputs": [
        {
          "data": {
            "text/plain": [
              "[1] \"1814400s (~3 weeks)\""
            ]
          },
          "metadata": {},
          "output_type": "display_data"
        }
      ],
      "source": [
        "dweeks(3)"
      ]
    },
    {
      "cell_type": "markdown",
      "metadata": {
        "id": "L5kbh3hc3TvT"
      },
      "source": [
        "Arithmetic with durations works as you would expect:"
      ]
    },
    {
      "cell_type": "code",
      "execution_count": null,
      "metadata": {
        "id": "MRLOTE_a3TvV",
        "outputId": "3f27152e-280e-461a-9168-ff96f7970ff5"
      },
      "outputs": [
        {
          "data": {
            "text/plain": [
              "[1] \"63072000s (~2 years)\""
            ]
          },
          "metadata": {},
          "output_type": "display_data"
        }
      ],
      "source": [
        "2 * dyears(1)"
      ]
    },
    {
      "cell_type": "code",
      "execution_count": null,
      "metadata": {
        "id": "tsl4WwoH3TvW",
        "outputId": "bc798197-5432-4265-f045-ad71db9eb21f"
      },
      "outputs": [
        {
          "data": {
            "text/plain": [
              "[1] \"38847600s (~1.23 years)\""
            ]
          },
          "metadata": {},
          "output_type": "display_data"
        }
      ],
      "source": [
        "dyears(1) + dweeks(12) + dhours(15)"
      ]
    },
    {
      "cell_type": "markdown",
      "metadata": {
        "id": "9evtkSIg3TvX"
      },
      "source": [
        "You have to be careful when adding durations and dates. What is 1 day after last Saturday at 1pm?"
      ]
    },
    {
      "cell_type": "code",
      "execution_count": null,
      "metadata": {
        "id": "vxsTWd993Tvz",
        "outputId": "c627ffd8-c5d7-478b-e929-c4a8121b6234",
        "colab": {
          "base_uri": "https://localhost:8080/",
          "height": 35
        }
      },
      "outputs": [
        {
          "output_type": "display_data",
          "data": {
            "text/plain": [
              "[1] \"2023-03-12 14:00:00 EDT\""
            ]
          },
          "metadata": {}
        }
      ],
      "source": [
        "next_saturday = mdy_hm(\"Mar. 11, 2023 13:00PM\", tz=\"America/Detroit\")\n",
        "next_saturday + ddays(1)"
      ]
    },
    {
      "cell_type": "markdown",
      "metadata": {
        "id": "9V7kVCNz3Tv0"
      },
      "source": [
        "To prevent this sort of thing from happening, `lubridate` also offers objects called \"periods\":"
      ]
    },
    {
      "cell_type": "code",
      "execution_count": null,
      "metadata": {
        "id": "fAf-XvGe3Tv0",
        "outputId": "deb5af26-3183-4561-b54f-233b7210f0a3"
      },
      "outputs": [
        {
          "data": {
            "text/plain": [
              "[1] \"1d 0H 0M 0S\""
            ]
          },
          "metadata": {},
          "output_type": "display_data"
        },
        {
          "data": {
            "text/plain": [
              "[1] \"Period\"\n",
              "attr(,\"package\")\n",
              "[1] \"lubridate\""
            ]
          },
          "metadata": {},
          "output_type": "display_data"
        }
      ],
      "source": [
        "days(1)\n",
        "class(days(1))"
      ]
    },
    {
      "cell_type": "markdown",
      "metadata": {
        "id": "Y8bZ7JxB3Tv4"
      },
      "source": [
        "Similarly, periods have the expected behaviour if you add one year to a leap year:"
      ]
    },
    {
      "cell_type": "code",
      "execution_count": null,
      "metadata": {
        "id": "pnwyduKw3Tv5",
        "outputId": "0a01a5ea-5a28-4759-b6ba-8933c02bd5d7",
        "colab": {
          "base_uri": "https://localhost:8080/",
          "height": 52
        }
      },
      "outputs": [
        {
          "output_type": "display_data",
          "data": {
            "text/plain": [
              "[1] \"2020-12-31 06:00:00 UTC\""
            ]
          },
          "metadata": {}
        },
        {
          "output_type": "display_data",
          "data": {
            "text/html": [
              "<time datetime=\"2021-01-01\">2021-01-01</time>"
            ],
            "text/markdown": "2021-01-01",
            "text/latex": "2021-01-01",
            "text/plain": [
              "[1] \"2021-01-01\""
            ]
          },
          "metadata": {}
        }
      ],
      "source": [
        "ymd(\"2020-01-01\") + dyears(1)\n",
        "ymd(\"2020-01-01\") + years(1)"
      ]
    },
    {
      "cell_type": "markdown",
      "metadata": {
        "id": "j9CVgRm_3Tv6"
      },
      "source": [
        "## 🤔 Quiz\n",
        "\n",
        "Leo was born on May 16, 2022. When will Leo be 1000 days old?\n",
        "\n",
        "<ol style=\"list-style-type: upper-alpha;\">\n",
        "    <li>Today</li>\n",
        "    <li>January 8, 2024</li>\n",
        "    <li>February 9, 2025</li>\n",
        "    <li>March 10, 2026</li>\n",
        "</ol>"
      ]
    },
    {
      "cell_type": "code",
      "execution_count": null,
      "metadata": {
        "id": "khI9k0k53Tv6"
      },
      "outputs": [],
      "source": [
        "# 1k days old"
      ]
    },
    {
      "cell_type": "markdown",
      "metadata": {
        "id": "GAu87zeb3Tv6"
      },
      "source": [
        "#### Using time spans\n",
        "Earlier in the semester we saw how some flights seem to have arrived before they departed:"
      ]
    },
    {
      "cell_type": "code",
      "execution_count": null,
      "metadata": {
        "id": "y7C_vObt3Tv6",
        "outputId": "00705c91-d4b8-4165-f201-9bac93eb222f"
      },
      "outputs": [
        {
          "name": "stdout",
          "output_type": "stream",
          "text": [
            "\u001b[90m# A tibble: 6 × 19\u001b[39m\n",
            "   year month   day dep_time sched_dep…¹ dep_d…² arr_t…³ sched…⁴ arr_d…⁵ carrier\n",
            "  \u001b[3m\u001b[90m<int>\u001b[39m\u001b[23m \u001b[3m\u001b[90m<int>\u001b[39m\u001b[23m \u001b[3m\u001b[90m<int>\u001b[39m\u001b[23m    \u001b[3m\u001b[90m<int>\u001b[39m\u001b[23m       \u001b[3m\u001b[90m<int>\u001b[39m\u001b[23m   \u001b[3m\u001b[90m<dbl>\u001b[39m\u001b[23m   \u001b[3m\u001b[90m<int>\u001b[39m\u001b[23m   \u001b[3m\u001b[90m<int>\u001b[39m\u001b[23m   \u001b[3m\u001b[90m<dbl>\u001b[39m\u001b[23m \u001b[3m\u001b[90m<chr>\u001b[39m\u001b[23m  \n",
            "\u001b[90m1\u001b[39m  \u001b[4m2\u001b[24m013     1     1     \u001b[4m1\u001b[24m929        \u001b[4m1\u001b[24m920       9       3       7      -\u001b[31m4\u001b[39m UA     \n",
            "\u001b[90m2\u001b[39m  \u001b[4m2\u001b[24m013     1     1     \u001b[4m1\u001b[24m939        \u001b[4m1\u001b[24m840      59      29    \u001b[4m2\u001b[24m151      \u001b[31mNA\u001b[39m 9E     \n",
            "\u001b[90m3\u001b[39m  \u001b[4m2\u001b[24m013     1     1     \u001b[4m2\u001b[24m058        \u001b[4m2\u001b[24m100      -\u001b[31m2\u001b[39m       8    \u001b[4m2\u001b[24m359       9 UA     \n",
            "\u001b[90m4\u001b[39m  \u001b[4m2\u001b[24m013     1     1     \u001b[4m2\u001b[24m102        \u001b[4m2\u001b[24m108      -\u001b[31m6\u001b[39m     146     158     -\u001b[31m12\u001b[39m UA     \n",
            "\u001b[90m5\u001b[39m  \u001b[4m2\u001b[24m013     1     1     \u001b[4m2\u001b[24m108        \u001b[4m2\u001b[24m057      11      25      39     -\u001b[31m14\u001b[39m UA     \n",
            "\u001b[90m6\u001b[39m  \u001b[4m2\u001b[24m013     1     1     \u001b[4m2\u001b[24m120        \u001b[4m2\u001b[24m130     -\u001b[31m10\u001b[39m      16      18      -\u001b[31m2\u001b[39m B6     \n",
            "\u001b[90m# … with 9 more variables: flight <int>, tailnum <chr>, origin <chr>,\u001b[39m\n",
            "\u001b[90m#   dest <chr>, air_time <dbl>, distance <dbl>, hour <dbl>, minute <dbl>,\u001b[39m\n",
            "\u001b[90m#   time_hour <dttm>, and abbreviated variable names ¹​sched_dep_time,\u001b[39m\n",
            "\u001b[90m#   ²​dep_delay, ³​arr_time, ⁴​sched_arr_time, ⁵​arr_delay\u001b[39m\n"
          ]
        }
      ],
      "source": [
        "filter(flights, arr_time < dep_time) %>% head %>% print"
      ]
    },
    {
      "cell_type": "markdown",
      "metadata": {
        "id": "BYCs7jCy3Tv8"
      },
      "source": [
        "This is because these are overnight flights. To fix this, we can now simply add one day to `arr_time`:"
      ]
    },
    {
      "cell_type": "code",
      "execution_count": null,
      "metadata": {
        "id": "vjZMi4Is3Tv8",
        "outputId": "3486fe9f-edac-466e-965a-8440e2a2cab3"
      },
      "outputs": [
        {
          "name": "stdout",
          "output_type": "stream",
          "text": [
            "# A tibble: 328,063 x 10\n",
            "   origin dest  dep_delay arr_delay dep_time            sched_dep_time     \n",
            "   <chr>  <chr>     <dbl>     <dbl> <dttm>              <dttm>             \n",
            " 1 EWR    IAH           2        11 2013-01-01 05:17:00 2013-01-01 05:15:00\n",
            " 2 LGA    IAH           4        20 2013-01-01 05:33:00 2013-01-01 05:29:00\n",
            " 3 JFK    MIA           2        33 2013-01-01 05:42:00 2013-01-01 05:40:00\n",
            " 4 JFK    BQN          -1       -18 2013-01-01 05:44:00 2013-01-01 05:45:00\n",
            " 5 LGA    ATL          -6       -25 2013-01-01 05:54:00 2013-01-01 06:00:00\n",
            " 6 EWR    ORD          -4        12 2013-01-01 05:54:00 2013-01-01 05:58:00\n",
            " 7 EWR    FLL          -5        19 2013-01-01 05:55:00 2013-01-01 06:00:00\n",
            " 8 LGA    IAD          -3       -14 2013-01-01 05:57:00 2013-01-01 06:00:00\n",
            " 9 JFK    MCO          -3        -8 2013-01-01 05:57:00 2013-01-01 06:00:00\n",
            "10 LGA    ORD          -2         8 2013-01-01 05:58:00 2013-01-01 06:00:00\n",
            "# … with 328,053 more rows, and 4 more variables: arr_time <dttm>,\n",
            "#   sched_arr_time <dttm>, air_time <dbl>, overnight <lgl>\n"
          ]
        }
      ],
      "source": [
        "# add one day to arr time"
      ]
    },
    {
      "cell_type": "code",
      "execution_count": null,
      "metadata": {
        "id": "4s1pxjbi3Tv8"
      },
      "outputs": [],
      "source": [
        "How does this affect calculations like average departure delay?"
      ]
    },
    {
      "cell_type": "markdown",
      "metadata": {
        "id": "BVJgmGE43Tv8"
      },
      "source": [
        "## Trump Twitter data\n",
        "Let's use what we learned in the past two classes to analyze some real data. "
      ]
    },
    {
      "cell_type": "code",
      "execution_count": null,
      "metadata": {
        "id": "ZbbD9qm53Tv8",
        "outputId": "1de0d342-796d-457f-a541-8efb675ce7d8"
      },
      "outputs": [
        {
          "name": "stderr",
          "output_type": "stream",
          "text": [
            "Warning message:\n",
            "“\u001b[1m\u001b[22mOne or more parsing issues, call `problems()` on your data frame for details, e.g.:\n",
            "  dat <- vroom(...)\n",
            "  problems(dat)”\n",
            "\u001b[1mRows: \u001b[22m\u001b[34m23073\u001b[39m \u001b[1mColumns: \u001b[22m\u001b[34m4\u001b[39m\n",
            "\u001b[36m──\u001b[39m \u001b[1mColumn specification\u001b[22m \u001b[36m──────────────────────────────────────────────────────────────────────────────────────────────────────────────────────────────\u001b[39m\n",
            "\u001b[1mDelimiter:\u001b[22m \",\"\n",
            "\u001b[31mchr\u001b[39m  (3): ID, Tweet URL, Tweet Text\n",
            "\u001b[34mdttm\u001b[39m (1): Time\n",
            "\n",
            "\u001b[36mℹ\u001b[39m Use `spec()` to retrieve the full column specification for this data.\n",
            "\u001b[36mℹ\u001b[39m Specify the column types or set `show_col_types = FALSE` to quiet this message.\n"
          ]
        }
      ],
      "source": [
        "trump_tweets <- read_csv(\"https://github.com/MarkHershey/CompleteTrumpTweetsArchive/blob/master/data/realDonaldTrump_in_office.csv?raw=true\")"
      ]
    },
    {
      "cell_type": "markdown",
      "metadata": {
        "id": "BCzI4vH53Tv8"
      },
      "source": [
        "`trump_tweets` is a dataset of all 23,073 Tweets that Donald Trump sent between taking office and getting kicked off Twitter in Jan 2021."
      ]
    },
    {
      "cell_type": "code",
      "execution_count": null,
      "metadata": {
        "id": "_MHmyJe93TwX",
        "outputId": "852005ad-21f6-421f-acfd-e08bfa93da47"
      },
      "outputs": [
        {
          "data": {
            "text/html": [
              "<table class=\"dataframe\">\n",
              "<caption>A tibble: 6 × 4</caption>\n",
              "<thead>\n",
              "\t<tr><th scope=col>ID</th><th scope=col>Time</th><th scope=col>Tweet URL</th><th scope=col>Tweet Text</th></tr>\n",
              "\t<tr><th scope=col>&lt;chr&gt;</th><th scope=col>&lt;dttm&gt;</th><th scope=col>&lt;chr&gt;</th><th scope=col>&lt;chr&gt;</th></tr>\n",
              "</thead>\n",
              "<tbody>\n",
              "\t<tr><td>@realDonaldTrump</td><td>2021-01-07 03:38:00</td><td>https://twitter.com/realDonaldTrump/status/1346904110969315332</td><td>Please support our Capitol Police and Law Enforcement. They are truly on the side of our Country. Stay peaceful!                                                                                                                  </td></tr>\n",
              "\t<tr><td>@realDonaldTrump</td><td>2021-01-07 04:13:00</td><td>https://twitter.com/realDonaldTrump/status/1346912780700577792</td><td><span style=white-space:pre-wrap>I am asking for everyone at the U.S. Capitol to remain peaceful. No violence! Remember, WE are the Party of Law &amp;amp; Order – respect the Law and our great men and women in Blue. Thank you!                                     </span></td></tr>\n",
              "\t<tr><td>@realDonaldTrump</td><td>2021-01-07 05:17:00</td><td>https://twitter.com/realDonaldTrump/status/1346928882595885058</td><td>https://t.co/Pm2PKV0Fp3                                                                                                                                                                                                           </td></tr>\n",
              "\t<tr><td>@realDonaldTrump</td><td>2021-01-08 08:10:00</td><td>https://twitter.com/realDonaldTrump/status/1347334804052844550</td><td>https://t.co/csX07ZVWGe                                                                                                                                                                                                           </td></tr>\n",
              "\t<tr><td>@realDonaldTrump</td><td>2021-01-08 22:46:00</td><td>https://twitter.com/realDonaldTrump/status/1347555316863553542</td><td>The 75,000,000 great American Patriots who voted for me, AMERICA FIRST, and MAKE AMERICA GREAT AGAIN, will have a GIANT VOICE long into the future. They will not be disrespected or treated unfairly in any way, shape or form!!!</td></tr>\n",
              "\t<tr><td>@realDonaldTrump</td><td>2021-01-08 23:44:00</td><td>https://twitter.com/realDonaldTrump/status/1347569870578266115</td><td>To all of those who have asked                                                                                                                                                                                                    </td></tr>\n",
              "</tbody>\n",
              "</table>\n"
            ],
            "text/latex": [
              "A tibble: 6 × 4\n",
              "\\begin{tabular}{llll}\n",
              " ID & Time & Tweet URL & Tweet Text\\\\\n",
              " <chr> & <dttm> & <chr> & <chr>\\\\\n",
              "\\hline\n",
              "\t @realDonaldTrump & 2021-01-07 03:38:00 & https://twitter.com/realDonaldTrump/status/1346904110969315332 & Please support our Capitol Police and Law Enforcement. They are truly on the side of our Country. Stay peaceful!                                                                                                                  \\\\\n",
              "\t @realDonaldTrump & 2021-01-07 04:13:00 & https://twitter.com/realDonaldTrump/status/1346912780700577792 & I am asking for everyone at the U.S. Capitol to remain peaceful. No violence! Remember, WE are the Party of Law \\&amp; Order – respect the Law and our great men and women in Blue. Thank you!                                     \\\\\n",
              "\t @realDonaldTrump & 2021-01-07 05:17:00 & https://twitter.com/realDonaldTrump/status/1346928882595885058 & https://t.co/Pm2PKV0Fp3                                                                                                                                                                                                           \\\\\n",
              "\t @realDonaldTrump & 2021-01-08 08:10:00 & https://twitter.com/realDonaldTrump/status/1347334804052844550 & https://t.co/csX07ZVWGe                                                                                                                                                                                                           \\\\\n",
              "\t @realDonaldTrump & 2021-01-08 22:46:00 & https://twitter.com/realDonaldTrump/status/1347555316863553542 & The 75,000,000 great American Patriots who voted for me, AMERICA FIRST, and MAKE AMERICA GREAT AGAIN, will have a GIANT VOICE long into the future. They will not be disrespected or treated unfairly in any way, shape or form!!!\\\\\n",
              "\t @realDonaldTrump & 2021-01-08 23:44:00 & https://twitter.com/realDonaldTrump/status/1347569870578266115 & To all of those who have asked                                                                                                                                                                                                    \\\\\n",
              "\\end{tabular}\n"
            ],
            "text/markdown": [
              "\n",
              "A tibble: 6 × 4\n",
              "\n",
              "| ID &lt;chr&gt; | Time &lt;dttm&gt; | Tweet URL &lt;chr&gt; | Tweet Text &lt;chr&gt; |\n",
              "|---|---|---|---|\n",
              "| @realDonaldTrump | 2021-01-07 03:38:00 | https://twitter.com/realDonaldTrump/status/1346904110969315332 | Please support our Capitol Police and Law Enforcement. They are truly on the side of our Country. Stay peaceful!                                                                                                                   |\n",
              "| @realDonaldTrump | 2021-01-07 04:13:00 | https://twitter.com/realDonaldTrump/status/1346912780700577792 | I am asking for everyone at the U.S. Capitol to remain peaceful. No violence! Remember, WE are the Party of Law &amp;amp; Order – respect the Law and our great men and women in Blue. Thank you!                                      |\n",
              "| @realDonaldTrump | 2021-01-07 05:17:00 | https://twitter.com/realDonaldTrump/status/1346928882595885058 | https://t.co/Pm2PKV0Fp3                                                                                                                                                                                                            |\n",
              "| @realDonaldTrump | 2021-01-08 08:10:00 | https://twitter.com/realDonaldTrump/status/1347334804052844550 | https://t.co/csX07ZVWGe                                                                                                                                                                                                            |\n",
              "| @realDonaldTrump | 2021-01-08 22:46:00 | https://twitter.com/realDonaldTrump/status/1347555316863553542 | The 75,000,000 great American Patriots who voted for me, AMERICA FIRST, and MAKE AMERICA GREAT AGAIN, will have a GIANT VOICE long into the future. They will not be disrespected or treated unfairly in any way, shape or form!!! |\n",
              "| @realDonaldTrump | 2021-01-08 23:44:00 | https://twitter.com/realDonaldTrump/status/1347569870578266115 | To all of those who have asked                                                                                                                                                                                                     |\n",
              "\n"
            ],
            "text/plain": [
              "  ID               Time               \n",
              "1 @realDonaldTrump 2021-01-07 03:38:00\n",
              "2 @realDonaldTrump 2021-01-07 04:13:00\n",
              "3 @realDonaldTrump 2021-01-07 05:17:00\n",
              "4 @realDonaldTrump 2021-01-08 08:10:00\n",
              "5 @realDonaldTrump 2021-01-08 22:46:00\n",
              "6 @realDonaldTrump 2021-01-08 23:44:00\n",
              "  Tweet URL                                                     \n",
              "1 https://twitter.com/realDonaldTrump/status/1346904110969315332\n",
              "2 https://twitter.com/realDonaldTrump/status/1346912780700577792\n",
              "3 https://twitter.com/realDonaldTrump/status/1346928882595885058\n",
              "4 https://twitter.com/realDonaldTrump/status/1347334804052844550\n",
              "5 https://twitter.com/realDonaldTrump/status/1347555316863553542\n",
              "6 https://twitter.com/realDonaldTrump/status/1347569870578266115\n",
              "  Tweet Text                                                                                                                                                                                                                        \n",
              "1 Please support our Capitol Police and Law Enforcement. They are truly on the side of our Country. Stay peaceful!                                                                                                                  \n",
              "2 I am asking for everyone at the U.S. Capitol to remain peaceful. No violence! Remember, WE are the Party of Law &amp; Order – respect the Law and our great men and women in Blue. Thank you!                                     \n",
              "3 https://t.co/Pm2PKV0Fp3                                                                                                                                                                                                           \n",
              "4 https://t.co/csX07ZVWGe                                                                                                                                                                                                           \n",
              "5 The 75,000,000 great American Patriots who voted for me, AMERICA FIRST, and MAKE AMERICA GREAT AGAIN, will have a GIANT VOICE long into the future. They will not be disrespected or treated unfairly in any way, shape or form!!!\n",
              "6 To all of those who have asked                                                                                                                                                                                                    "
            ]
          },
          "metadata": {},
          "output_type": "display_data"
        }
      ],
      "source": [
        "tail(trump_tweets)"
      ]
    },
    {
      "cell_type": "markdown",
      "metadata": {
        "id": "J7WKd03d3TwX"
      },
      "source": [
        "The number of Tweets that Donald Trump has made for each quarter of the year from 2010 to present."
      ]
    },
    {
      "cell_type": "code",
      "execution_count": null,
      "metadata": {
        "id": "kukC2XZI3TwX",
        "outputId": "5b1cb12e-fcd9-4314-c080-a13b889ecb3b"
      },
      "outputs": [
        {
          "data": {
            "image/png": "[encoded data removed]",
            "text/plain": [
              "plot without title"
            ]
          },
          "metadata": {
            "image/png": {
              "height": 375,
              "width": 600
            }
          },
          "output_type": "display_data"
        }
      ],
      "source": [
        "# number of tweets"
      ]
    },
    {
      "cell_type": "markdown",
      "metadata": {
        "id": "di1lT5533TwX"
      },
      "source": [
        "Recall that `words` contains common English words. After filtering out these words, and all words that were shorter than six characters, the most common words that the President used were:"
      ]
    },
    {
      "cell_type": "code",
      "execution_count": null,
      "metadata": {
        "id": "tOK4vDuU3TwX",
        "outputId": "ea8d4a3b-2e1d-48bb-837a-d5a8265f9cfd"
      },
      "outputs": [
        {
          "name": "stderr",
          "output_type": "stream",
          "text": [
            "\u001b[1m\u001b[22mJoining with `by = join_by(word)`\n",
            "\u001b[1m\u001b[22mSelecting by n\n"
          ]
        },
        {
          "data": {
            "text/html": [
              "<table class=\"dataframe\">\n",
              "<caption>A spec_tbl_df: 20 × 2</caption>\n",
              "<thead>\n",
              "\t<tr><th scope=col>word</th><th scope=col>n</th></tr>\n",
              "\t<tr><th scope=col>&lt;chr&gt;</th><th scope=col>&lt;int&gt;</th></tr>\n",
              "</thead>\n",
              "<tbody>\n",
              "\t<tr><td>america        </td><td> 1130</td></tr>\n",
              "\t<tr><td>american       </td><td> 1194</td></tr>\n",
              "\t<tr><td>amp            </td><td> 3468</td></tr>\n",
              "\t<tr><td>biden          </td><td>  946</td></tr>\n",
              "\t<tr><td>border         </td><td>  878</td></tr>\n",
              "\t<tr><td>country        </td><td> 1404</td></tr>\n",
              "\t<tr><td>democrats      </td><td> 1717</td></tr>\n",
              "\t<tr><td>election       </td><td>  922</td></tr>\n",
              "\t<tr><td>fake           </td><td> 1228</td></tr>\n",
              "\t<tr><td>house          </td><td>  868</td></tr>\n",
              "\t<tr><td>https          </td><td>12225</td></tr>\n",
              "\t<tr><td>media          </td><td>  902</td></tr>\n",
              "\t<tr><td>news           </td><td> 1526</td></tr>\n",
              "\t<tr><td>people         </td><td> 2219</td></tr>\n",
              "\t<tr><td>president      </td><td> 2883</td></tr>\n",
              "\t<tr><td>realdonaldtrump</td><td> 2371</td></tr>\n",
              "\t<tr><td>rt             </td><td> 7582</td></tr>\n",
              "\t<tr><td>time           </td><td> 1028</td></tr>\n",
              "\t<tr><td>trump          </td><td> 2249</td></tr>\n",
              "\t<tr><td>vote           </td><td>  980</td></tr>\n",
              "</tbody>\n",
              "</table>\n"
            ],
            "text/latex": [
              "A spec\\_tbl\\_df: 20 × 2\n",
              "\\begin{tabular}{ll}\n",
              " word & n\\\\\n",
              " <chr> & <int>\\\\\n",
              "\\hline\n",
              "\t america         &  1130\\\\\n",
              "\t american        &  1194\\\\\n",
              "\t amp             &  3468\\\\\n",
              "\t biden           &   946\\\\\n",
              "\t border          &   878\\\\\n",
              "\t country         &  1404\\\\\n",
              "\t democrats       &  1717\\\\\n",
              "\t election        &   922\\\\\n",
              "\t fake            &  1228\\\\\n",
              "\t house           &   868\\\\\n",
              "\t https           & 12225\\\\\n",
              "\t media           &   902\\\\\n",
              "\t news            &  1526\\\\\n",
              "\t people          &  2219\\\\\n",
              "\t president       &  2883\\\\\n",
              "\t realdonaldtrump &  2371\\\\\n",
              "\t rt              &  7582\\\\\n",
              "\t time            &  1028\\\\\n",
              "\t trump           &  2249\\\\\n",
              "\t vote            &   980\\\\\n",
              "\\end{tabular}\n"
            ],
            "text/markdown": [
              "\n",
              "A spec_tbl_df: 20 × 2\n",
              "\n",
              "| word &lt;chr&gt; | n &lt;int&gt; |\n",
              "|---|---|\n",
              "| america         |  1130 |\n",
              "| american        |  1194 |\n",
              "| amp             |  3468 |\n",
              "| biden           |   946 |\n",
              "| border          |   878 |\n",
              "| country         |  1404 |\n",
              "| democrats       |  1717 |\n",
              "| election        |   922 |\n",
              "| fake            |  1228 |\n",
              "| house           |   868 |\n",
              "| https           | 12225 |\n",
              "| media           |   902 |\n",
              "| news            |  1526 |\n",
              "| people          |  2219 |\n",
              "| president       |  2883 |\n",
              "| realdonaldtrump |  2371 |\n",
              "| rt              |  7582 |\n",
              "| time            |  1028 |\n",
              "| trump           |  2249 |\n",
              "| vote            |   980 |\n",
              "\n"
            ],
            "text/plain": [
              "   word            n    \n",
              "1  america          1130\n",
              "2  american         1194\n",
              "3  amp              3468\n",
              "4  biden             946\n",
              "5  border            878\n",
              "6  country          1404\n",
              "7  democrats        1717\n",
              "8  election          922\n",
              "9  fake             1228\n",
              "10 house             868\n",
              "11 https           12225\n",
              "12 media             902\n",
              "13 news             1526\n",
              "14 people           2219\n",
              "15 president        2883\n",
              "16 realdonaldtrump  2371\n",
              "17 rt               7582\n",
              "18 time             1028\n",
              "19 trump            2249\n",
              "20 vote              980"
            ]
          },
          "metadata": {},
          "output_type": "display_data"
        }
      ],
      "source": [
        "# top words"
      ]
    },
    {
      "cell_type": "markdown",
      "metadata": {
        "id": "zy4RH-WZ3TwZ"
      },
      "source": [
        "What were the president's favorite #hashtags?"
      ]
    },
    {
      "cell_type": "code",
      "execution_count": null,
      "metadata": {
        "scrolled": true,
        "id": "d2vMNnxs3TwZ"
      },
      "outputs": [],
      "source": [
        "# favorite hashtags"
      ]
    },
    {
      "cell_type": "markdown",
      "metadata": {
        "id": "HTfoBnDZ3TwZ"
      },
      "source": [
        "At what hour of the day (or night) is the Donald Trump most likely to tweet, and how has this changed over time?"
      ]
    },
    {
      "cell_type": "code",
      "execution_count": null,
      "metadata": {
        "id": "8urdJXeD3TwZ"
      },
      "outputs": [],
      "source": [
        "# Solution"
      ]
    },
    {
      "cell_type": "markdown",
      "metadata": {
        "id": "ADdEEg2L3TwZ"
      },
      "source": [
        "\"Sentiment analysis\" refers to the act of assigning a label such as \"positive\" or \"negative\" to a piece of text. We will perform a simple type of sentiment analysis by assigning a numerical score to certain words in each tweet, using the `sentiments` table:"
      ]
    },
    {
      "cell_type": "code",
      "execution_count": null,
      "metadata": {
        "id": "5ttVYRqt3TwZ",
        "outputId": "b391bc64-cd2b-4b3a-f15a-bd680e44cd68"
      },
      "outputs": [
        {
          "name": "stdout",
          "output_type": "stream",
          "text": [
            "# A tibble: 27,314 x 4\n",
            "   word        sentiment lexicon score\n",
            "   <chr>       <chr>     <chr>   <int>\n",
            " 1 abacus      trust     nrc        NA\n",
            " 2 abandon     fear      nrc        NA\n",
            " 3 abandon     negative  nrc        NA\n",
            " 4 abandon     sadness   nrc        NA\n",
            " 5 abandoned   anger     nrc        NA\n",
            " 6 abandoned   fear      nrc        NA\n",
            " 7 abandoned   negative  nrc        NA\n",
            " 8 abandoned   sadness   nrc        NA\n",
            " 9 abandonment anger     nrc        NA\n",
            "10 abandonment fear      nrc        NA\n",
            "# … with 27,304 more rows\n"
          ]
        }
      ],
      "source": [
        "library(tidytext)\n",
        "sentiments %>% print"
      ]
    },
    {
      "cell_type": "markdown",
      "metadata": {
        "id": "zKYx6a9Z3Twa"
      },
      "source": [
        "An example of how this works:"
      ]
    },
    {
      "cell_type": "code",
      "execution_count": null,
      "metadata": {
        "id": "wF6MkPLs3Twa",
        "outputId": "4c3c9687-869b-458d-90d3-2f4c895e2054"
      },
      "outputs": [
        {
          "name": "stderr",
          "output_type": "stream",
          "text": [
            "Joining, by = \"word\"\n"
          ]
        }
      ],
      "source": [
        "trump_sentiments <- trump_tweets2 %>%\n",
        "    mutate(month = month(dt), year = year(dt)) %>%\n",
        "    unnest_tokens(input=text, output=word, token=\"tweets\") %>% \n",
        "    inner_join(sentiments) %>% drop_na(score)"
      ]
    },
    {
      "cell_type": "markdown",
      "metadata": {
        "id": "wPri0-FU3Twa"
      },
      "source": [
        "Average the sentiment by month for the full data set, and make a plot of the monthly average from 2014 to 2018. \n",
        "\n",
        "President Trump declared his candidacy in June of 2015. Notice anything?"
      ]
    },
    {
      "cell_type": "code",
      "execution_count": null,
      "metadata": {
        "id": "6v42-09Q3Twd",
        "outputId": "86026fc8-6a6c-4768-ced1-530938c7f082"
      },
      "outputs": [
        {
          "data": {
            "image/png": "[encoded data removed]"
          },
          "metadata": {},
          "output_type": "display_data"
        }
      ],
      "source": [
        "trump_sentiments %>% group_by(year, month) %>% \n",
        "    summarize(m = mean(score), n = n()) %>% ungroup %>%\n",
        "    mutate(dev = m - mean(m), dt = make_date(year, month, 1)) %>% \n",
        "    ggplot + geom_col(aes(x = dt, y = dev))"
      ]
    },
    {
      "cell_type": "code",
      "execution_count": null,
      "metadata": {
        "id": "ClTHvqQm3Twd"
      },
      "outputs": [],
      "source": []
    },
    {
      "cell_type": "code",
      "execution_count": null,
      "metadata": {
        "id": "X5ciOZED3Twd"
      },
      "outputs": [],
      "source": [
        "## Trump Twitter data\n",
        "We will now use what we have learned in the past two classes to analyze some real data. \n",
        "\n",
        "load(\"tt.RData\")  # see tt/load_tweets.ipynb for code that produces this data.\n",
        "\n",
        "trump_tweets %>% slice(1)\n",
        "\n",
        "`trump_tweets` is a dataset of all ~~37,169~~ 41,958 Tweets that Donald Trump has sent since 2010.\n",
        "\n",
        "# print(trump_tweets)\n",
        "dttm <- \"Thu Dec 30 21:42:01 +0000 2010\"\n",
        "splitted <- str_split(dttm, \" \")[[1]] %>% print\n",
        "make_date()\n",
        "ymd(str_c(splitted[6], splitted[2], splitted[3], sep=\" \"))\n",
        "\n",
        "### Task #1\n",
        "Each tweet has a timestamp in the `created_at` column. We want to convert this column to a proper date-time object so that we can analyze the time component of these tweets.\n",
        "\n",
        "trump_tweets2 <- trump_tweets %>% mutate(\n",
        "    dt=str_replace(created_at,\n",
        "    \"\\\\w+ (\\\\w+ \\\\d+) ([\\\\d:]+) \\\\+0000 (\\\\d{4})\",\n",
        "    \"\\\\1 \\\\3 \\\\2\") %>% mdy_hms) %>% print\n",
        "\n",
        "### Task #2\n",
        "Plot the number of Tweets that Donald Trump has made for each quarter of the year from 2010 to present.\n",
        "![image.png](attachment:image.png)\n",
        "\n",
        "trump_tweets2 %>% mutate(year = year(dt), \n",
        "                         qtr = quarter(dt, with_year = T)) %>% \n",
        "    ggplot + geom_bar(aes(x=factor(qtr))) + coord_flip()\n",
        "\n",
        "### Task #3\n",
        "Recall that `words` contains common English words. After filtering out these words, and all words that were shorter than six characters, the most common words that the President used in 2018 were:\n",
        "\n",
        "```\n",
        "# A tibble: 11 x 2\n",
        "   words               n\n",
        "   <chr>           <int>\n",
        " 1 american          161\n",
        " 2 border            269\n",
        " 3 collusion         133\n",
        " 4 democrats         291\n",
        " 5 military          183\n",
        " 6 president         356\n",
        " 7 realdonaldtrump   182\n",
        " 8 russia            133\n",
        " 9 security          151\n",
        "10 states            150\n",
        "11 united            150\n",
        "\n",
        "```\n",
        "\n",
        "What about for 2012?\n",
        "\n",
        "filter(trump_tweets2, year(dt) == 2019) %>% \n",
        "    unnest_tokens(output = word, input = text) %>%\n",
        "    select(created_at, word) %>% \n",
        "    count(word) %>% \n",
        "    filter(str_length(word) >= 6) %>% top_n(15)\n",
        "\n",
        "\n",
        "\n",
        "\n",
        "### Task #4\n",
        "What were the president's favorite #hashtags in 2018? 2012?\n",
        "\n",
        "library(tidytext)\n",
        "\n",
        "filter(trump_tweets2, str_detect(text, \"#\")) %>% \n",
        "    unnest_tokens(input=text, output=word, token=\"tweets\") %>% \n",
        "    filter(str_detect(word, \"^#\")) %>% \n",
        "    count(year(dt), word) %>% top_n(20) %>% arrange(desc(n))\n",
        "\n",
        "### Task #5\n",
        "At what hour of the day (or night) is the Donald Trump most likely to tweet, and how has this changed over time?\n",
        "\n",
        "# Solution\n",
        "\n",
        "### Task #6\n",
        "\"Sentiment analysis\" refers to the act of assigning a label such as \"positive\" or \"negative\" to a piece of text. We will perform a simple type of sentiment analysis by assigning a numerical score to certain words in each tweet, using the `sentiments` table:\n",
        "\n",
        "library(tidytext)\n",
        "sentiments %>% print\n",
        "\n",
        "An example of how this works:\n",
        "\n",
        "trump_sentiments <- trump_tweets2 %>%\n",
        "    mutate(month = month(dt), year = year(dt)) %>%\n",
        "    unnest_tokens(input=text, output=word, token=\"tweets\") %>% \n",
        "    inner_join(sentiments) %>% drop_na(score)\n",
        "\n",
        "Average the sentiment by month for the full data set, and make a plot of the monthly average from 2014 to 2018. \n",
        "\n",
        "President Trump declared his candidacy in June of 2015. Notice anything?\n",
        "\n",
        "trump_sentiments %>% group_by(year, month) %>% \n",
        "    summarize(m = mean(score), n = n()) %>% ungroup %>%\n",
        "    mutate(dev = m - mean(m), dt = make_date(year, month, 1)) %>% \n",
        "    ggplot + geom_col(aes(x = dt, y = dev))"
      ]
    }
  ],
  "metadata": {
    "celltoolbar": "Slideshow",
    "kernelspec": {
      "display_name": "R",
      "language": "R",
      "name": "ir"
    },
    "language_info": {
      "codemirror_mode": "r",
      "file_extension": ".r",
      "mimetype": "text/x-r-source",
      "name": "R",
      "pygments_lexer": "r",
      "version": "4.2.1"
    },
    "toc": {
      "nav_menu": {},
      "number_sections": true,
      "sideBar": true,
      "skip_h1_title": true,
      "toc_cell": false,
      "toc_position": {},
      "toc_section_display": "block",
      "toc_window_display": true
    },
    "colab": {
      "provenance": [],
      "include_colab_link": true
    }
  },
  "nbformat": 4,
  "nbformat_minor": 0
}