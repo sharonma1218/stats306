{
  "cells": [
    {
      "cell_type": "markdown",
      "metadata": {
        "id": "view-in-github",
        "colab_type": "text"
      },
      "source": [
        "<a href=\"https://colab.research.google.com/github/sharonma1218/stats306/blob/main/homeworks/hw09.ipynb\" target=\"_parent\"><img src=\"https://colab.research.google.com/assets/colab-badge.svg\" alt=\"Open In Colab\"/></a>"
      ]
    },
    {
      "cell_type": "code",
      "execution_count": null,
      "metadata": {
        "deletable": false,
        "editable": false,
        "nbgrader": {
          "grade": false,
          "grade_id": "cell-892bf1ae756bcb37",
          "locked": true,
          "schema_version": 3,
          "solution": false
        },
        "scrolled": true,
        "id": "5M2OIl4EZxiC",
        "colab": {
          "base_uri": "https://localhost:8080/"
        },
        "outputId": "1c1cf352-389a-40f4-ee83-eff0d5f2d05f"
      },
      "outputs": [
        {
          "output_type": "stream",
          "name": "stderr",
          "text": [
            "Warning message in system(\"timedatectl\", intern = TRUE):\n",
            "“running command 'timedatectl' had status 1”\n",
            "── \u001b[1mAttaching packages\u001b[22m ─────────────────────────────────────── tidyverse 1.3.1 ──\n",
            "\n",
            "\u001b[32m✔\u001b[39m \u001b[34mggplot2\u001b[39m 3.4.1     \u001b[32m✔\u001b[39m \u001b[34mpurrr  \u001b[39m 1.0.1\n",
            "\u001b[32m✔\u001b[39m \u001b[34mtibble \u001b[39m 3.2.1     \u001b[32m✔\u001b[39m \u001b[34mdplyr  \u001b[39m 1.1.1\n",
            "\u001b[32m✔\u001b[39m \u001b[34mtidyr  \u001b[39m 1.3.0     \u001b[32m✔\u001b[39m \u001b[34mstringr\u001b[39m 1.4.1\n",
            "\u001b[32m✔\u001b[39m \u001b[34mreadr  \u001b[39m 2.1.4     \u001b[32m✔\u001b[39m \u001b[34mforcats\u001b[39m 1.0.0\n",
            "\n",
            "── \u001b[1mConflicts\u001b[22m ────────────────────────────────────────── tidyverse_conflicts() ──\n",
            "\u001b[31m✖\u001b[39m \u001b[34mdplyr\u001b[39m::\u001b[32mfilter()\u001b[39m masks \u001b[34mstats\u001b[39m::filter()\n",
            "\u001b[31m✖\u001b[39m \u001b[34mdplyr\u001b[39m::\u001b[32mlag()\u001b[39m    masks \u001b[34mstats\u001b[39m::lag()\n",
            "\n"
          ]
        }
      ],
      "source": [
        "library(tidyverse)"
      ]
    },
    {
      "cell_type": "markdown",
      "metadata": {
        "deletable": false,
        "editable": false,
        "nbgrader": {
          "grade": false,
          "grade_id": "cell-f73c39701a1d2ed0",
          "locked": true,
          "schema_version": 3,
          "solution": false
        },
        "run_control": {
          "frozen": true
        },
        "id": "TBzq9OHCZxiD"
      },
      "source": [
        "# STATS 306\n",
        "## Homework 9: Functions and regression"
      ]
    },
    {
      "cell_type": "markdown",
      "metadata": {
        "deletable": false,
        "editable": false,
        "nbgrader": {
          "grade": false,
          "grade_id": "cell-37fb95c8db0c1655",
          "locked": true,
          "schema_version": 3,
          "solution": false,
          "task": false
        },
        "run_control": {
          "frozen": true
        },
        "id": "gnHA2jHiZxiD"
      },
      "source": [
        "## Problem 1: Let's make a deal\n",
        "The *Monty Hall Problem* is a famous statistical paradox modeled after the TV game show [Let's Make a Deal](https://www.youtube.com/watch?v=hQpbsD5IueA). The problem goes as follows:\n",
        "    \n",
        "    You are a contestant on a game show, and are shown three doors. Behind one of the doors is a new car, \n",
        "    and behind the other two doors are Ohio State hoodies. Your goal (obviously) is to pick the door with \n",
        "    the new car. You pick a door, say number 1, and the host, who knows what's behind the doors, opens \n",
        "    another door, say No. 3, which is shown to have a hoodie. He then says to you, \"Do you want to \n",
        "    pick door No. 2?\" \n",
        "    \n",
        "    Is it to your advantage to switch your choice?\n",
        "    \n",
        "The correct answer is to switch, always. This caused something of an uproar when it was first noted by a newspaper columnist in the early 1990s.\n",
        "\n",
        "You will demonstrate that this answer is correct by writing functions that simulate playing Let's Make a Deal.\n",
        "\n",
        "To simulate the game, will use the following bit of code:"
      ]
    },
    {
      "cell_type": "code",
      "execution_count": null,
      "metadata": {
        "deletable": false,
        "editable": false,
        "id": "9TUHdLIxZxiE"
      },
      "outputs": [],
      "source": [
        "play_lmad <- function(.) {\n",
        "    # function to play let's make a deal. returns TRUE if the contestant wins the new car,\n",
        "    # and FALSE if they get a lame Ohio State hoodie.\n",
        "    \n",
        "    # step 1: randomly place the car behind door 1, 2, or 3\n",
        "    car_door <- place_car()\n",
        "    # step 2: contestant choose a door 1, 2, or 3\n",
        "    first_choice <- pick_door()\n",
        "    # step 3: monty reveals one of the two other doors\n",
        "    other_door <- reveal_other_door(car_door, first_choice)\n",
        "    # step 4: contestant decides whether to switch\n",
        "    switch <- choose_to_switch(first_choice, other_door)\n",
        "    # step 5:\n",
        "    if (switch) {\n",
        "        # if the contestant switched, then they win if their original choice was incorrect\n",
        "        return(first_choice != car_door)\n",
        "    } else {\n",
        "        # if they didn't switch, then they win if their original choice was correct.\n",
        "        return(first_choice == car_door)\n",
        "    }\n",
        "}"
      ]
    },
    {
      "cell_type": "markdown",
      "metadata": {
        "deletable": false,
        "editable": false,
        "nbgrader": {
          "grade": false,
          "grade_id": "cell-5e8a1da9cd69a6b1",
          "locked": true,
          "schema_version": 3,
          "solution": false,
          "task": false
        },
        "run_control": {
          "frozen": true
        },
        "id": "hn0aNkaiZxiE"
      },
      "source": [
        "**1(a)**\n",
        "Write a function `place_car()` which randomly places the car behind door 1-3. (In other words, `place_car()` returns a uniformly distributed random integer between 1 and 3.) This models how the producers set up the show before taping."
      ]
    },
    {
      "cell_type": "code",
      "source": [
        "library(purrr)"
      ],
      "metadata": {
        "id": "cd7Gkr11KpTl"
      },
      "execution_count": null,
      "outputs": []
    },
    {
      "cell_type": "code",
      "execution_count": null,
      "metadata": {
        "nbgrader": {
          "grade": true,
          "grade_id": "cell-efb24b36c6f840eb",
          "locked": false,
          "points": 0,
          "schema_version": 3,
          "solution": true,
          "task": false
        },
        "id": "fLOXxCMfZxiE",
        "colab": {
          "base_uri": "https://localhost:8080/",
          "height": 70
        },
        "outputId": "747bf71b-2071-437a-c081-384a6bcc366a"
      },
      "outputs": [
        {
          "output_type": "stream",
          "name": "stderr",
          "text": [
            "Warning message:\n",
            "“\u001b[1m\u001b[22m`rdunif()` was deprecated in purrr 1.0.0.”\n"
          ]
        },
        {
          "output_type": "display_data",
          "data": {
            "text/html": [
              "3"
            ],
            "text/markdown": "3",
            "text/latex": "3",
            "text/plain": [
              "[1] 3"
            ]
          },
          "metadata": {}
        }
      ],
      "source": [
        "# SOLUTION\n",
        "place_car=function(){\n",
        "  rdunif(1,b=1,a=3)\n",
        "}\n",
        "place_car()"
      ]
    },
    {
      "cell_type": "markdown",
      "metadata": {
        "deletable": false,
        "editable": false,
        "nbgrader": {
          "grade": false,
          "grade_id": "cell-f8425b9854ae99c4",
          "locked": true,
          "schema_version": 3,
          "solution": false,
          "task": false
        },
        "run_control": {
          "frozen": true
        },
        "id": "G8xiMK2mZxiE"
      },
      "source": [
        "**1(b)**\n",
        "Write a function `pick_door()` which selects a door 1-3, according to whatever strategy you like. This models how the contestant initially picks a door."
      ]
    },
    {
      "cell_type": "code",
      "execution_count": null,
      "metadata": {
        "nbgrader": {
          "grade": true,
          "grade_id": "cell-f4ff7ba0184c71d9",
          "locked": false,
          "points": 0,
          "schema_version": 3,
          "solution": true,
          "task": false
        },
        "id": "H4yJM9gdZxiE",
        "colab": {
          "base_uri": "https://localhost:8080/",
          "height": 34
        },
        "outputId": "c6add0b8-9798-4a1f-aaf7-9e1992619f56"
      },
      "outputs": [
        {
          "output_type": "display_data",
          "data": {
            "text/html": [
              "3"
            ],
            "text/markdown": "3",
            "text/latex": "3",
            "text/plain": [
              "[1] 3"
            ]
          },
          "metadata": {}
        }
      ],
      "source": [
        "# SOLUTION\n",
        "pick_door=function(){\n",
        "  sample(1:3,1)\n",
        "}\n",
        "pick_door()"
      ]
    },
    {
      "cell_type": "markdown",
      "metadata": {
        "deletable": false,
        "editable": false,
        "nbgrader": {
          "grade": false,
          "grade_id": "cell-5eff1ddf5c777f73",
          "locked": true,
          "schema_version": 3,
          "solution": false,
          "task": false
        },
        "run_control": {
          "frozen": true
        },
        "id": "z9yUPI43ZxiE"
      },
      "source": [
        "**1(c)** Write a function `reveal_other_door(car_door, chosen_door)` which, given the door hiding the car, as well as the contestant's chosen door (both pieces of information which are known to Monty), names one of the other doors which does not contain the car. For example, if the car is hiding behind door one, and the contestant chooses door two, then `reveal_other_door(1, 2)` would have to return `3`."
      ]
    },
    {
      "cell_type": "code",
      "execution_count": null,
      "metadata": {
        "nbgrader": {
          "grade": true,
          "grade_id": "cell-a02c88e9c0ef4481",
          "locked": false,
          "points": 0,
          "schema_version": 3,
          "solution": true,
          "task": false
        },
        "id": "TXe_DMEhZxiE",
        "colab": {
          "base_uri": "https://localhost:8080/",
          "height": 104
        },
        "outputId": "8f03242c-5f9d-48b7-b93b-9cafc5e90de1"
      },
      "outputs": [
        {
          "output_type": "display_data",
          "data": {
            "text/html": [
              "<pre class=language-r><code>function (car_door, chosen_door) \n",
              "{\n",
              "<span style=white-space:pre-wrap>    possible_doors_to_reveal = c(1, 2, 3)[-c(car_door, chosen_door)]</span>\n",
              "<span style=white-space:pre-wrap>    sample(possible_doors_to_reveal, 1)</span>\n",
              "}</code></pre>"
            ],
            "text/markdown": "```r\nfunction (car_door, chosen_door) \n{\n    possible_doors_to_reveal = c(1, 2, 3)[-c(car_door, chosen_door)]\n    sample(possible_doors_to_reveal, 1)\n}\n```",
            "text/latex": "\\begin{minted}{r}\nfunction (car\\_door, chosen\\_door) \n\\{\n    possible\\_doors\\_to\\_reveal = c(1, 2, 3){[}-c(car\\_door, chosen\\_door){]}\n    sample(possible\\_doors\\_to\\_reveal, 1)\n\\}\n\\end{minted}",
            "text/plain": [
              "function(car_door,chosen_door) {\n",
              "  possible_doors_to_reveal=c(1,2,3)[-c(car_door,chosen_door)]\n",
              "  sample(possible_doors_to_reveal,1)\n",
              "}"
            ]
          },
          "metadata": {}
        }
      ],
      "source": [
        "# SOLUTION\n",
        "reveal_other_door=function(car_door,chosen_door) {\n",
        "  possible_doors_to_reveal=c(1,2,3)[-c(car_door,chosen_door)]\n",
        "  sample(possible_doors_to_reveal,1)\n",
        "}"
      ]
    },
    {
      "cell_type": "markdown",
      "metadata": {
        "deletable": false,
        "editable": false,
        "nbgrader": {
          "grade": false,
          "grade_id": "cell-c36c5d47db0678a5",
          "locked": true,
          "schema_version": 3,
          "solution": false,
          "task": false
        },
        "run_control": {
          "frozen": true
        },
        "id": "7-1NVWncZxiE"
      },
      "source": [
        "**1(d)**\n",
        "Write a function `choose_to_switch(first_choice, other_door)` which returns `TRUE` if the contestant decides to switch her choice after Monty has revealed the contents of one door. For example, `choose_to_switch(1, 2)` should return `TRUE` if the contestant decides to switch after choosing door one and being shown the contents of door two."
      ]
    },
    {
      "cell_type": "code",
      "execution_count": null,
      "metadata": {
        "nbgrader": {
          "grade": true,
          "grade_id": "cell-a23cc3b39cfddb02",
          "locked": false,
          "points": 0,
          "schema_version": 3,
          "solution": true,
          "task": false
        },
        "id": "4FGNMmMlZxiF",
        "colab": {
          "base_uri": "https://localhost:8080/",
          "height": 34
        },
        "outputId": "f9ce298e-11a6-4372-b307-7a62bc2affaa"
      },
      "outputs": [
        {
          "output_type": "display_data",
          "data": {
            "text/html": [
              "3"
            ],
            "text/markdown": "3",
            "text/latex": "3",
            "text/plain": [
              "[1] 3"
            ]
          },
          "metadata": {}
        }
      ],
      "source": [
        "# SOLUTION\n",
        "choose_to_switch=function(first_choice,other_door){\n",
        "  switch_door=setdiff(1:3, c(first_choice,other_door))\n",
        "  return(switch_door)\n",
        "}\n",
        "choose_to_switch(1,2)"
      ]
    },
    {
      "cell_type": "markdown",
      "metadata": {
        "deletable": false,
        "editable": false,
        "nbgrader": {
          "grade": false,
          "grade_id": "cell-67df237e59e1667b",
          "locked": true,
          "schema_version": 3,
          "solution": false,
          "task": false
        },
        "run_control": {
          "frozen": true
        },
        "id": "5ATcrPX5ZxiF"
      },
      "source": [
        "**1(e)**\n",
        "Finally, use the `play_lmad()` function defined above to simulate the entire process. By experimenting with various choices for `choose_to_switch()` and repeatedly running `simulate_game()`, show that it is always better to switch when offered the choice. How much better is it?"
      ]
    },
    {
      "cell_type": "code",
      "source": [
        "# SOLUTION \n",
        "simulate_game=function(n){\n",
        "  results=numeric(n)\n",
        "  for(i in 1:n){\n",
        "    result=play_lmad\n",
        "    results[i]=result\n",
        "  }\n",
        "  return(results)\n",
        "}"
      ],
      "metadata": {
        "id": "KgH0jXNobUQH"
      },
      "execution_count": null,
      "outputs": []
    },
    {
      "cell_type": "markdown",
      "metadata": {
        "deletable": false,
        "editable": false,
        "nbgrader": {
          "grade": false,
          "grade_id": "cell-8a2e07e86f10fb73",
          "locked": true,
          "schema_version": 3,
          "solution": false
        },
        "run_control": {
          "frozen": true
        },
        "id": "Vvcaa9siZxiF"
      },
      "source": [
        "## Problem 2: Playing card experiment\n",
        "In this problem, you will use iteration (`for`/`while` loops) to simulate a playing card experiment. The experiment goes as follows. Suppose you are given two standard decks of playing cards (52 cards each, total of 104 cards) and you do the following:\n",
        "1.  Shuffle both decks thoroughly, so that they are randomly ordered.\n",
        "2.  Draw the top card off of each deck.\n",
        "3.  If the two cards exactly match (same suit and rank), award yourself one point; otherwise award yourself no points.\n",
        "4.  Repeat steps two and three for the remaining 51 pairs of cards.\n",
        "Let $X$ be your total score at the end of the experiment.\n",
        "\n",
        "By writing a loop which simulates this experiment, answer the following:"
      ]
    },
    {
      "cell_type": "markdown",
      "metadata": {
        "deletable": false,
        "editable": false,
        "nbgrader": {
          "grade": false,
          "grade_id": "cell-7a89102c744f738f",
          "locked": true,
          "schema_version": 3,
          "solution": false
        },
        "run_control": {
          "frozen": true
        },
        "id": "GwEzMCzCZxiF"
      },
      "source": [
        "**2(a)** What the expected value of $X$, i.e. what is $\\mathbb{E}X$?"
      ]
    },
    {
      "cell_type": "code",
      "source": [
        "# SOLUTION \n",
        "\n",
        "X=rep(0,1000)\n",
        "\n",
        "for (i in 1:1000) {\n",
        "  score=sum(sample(52)==sample(52))\n",
        "  X[i]=score\n",
        "}\n",
        "\n",
        "mean(X)"
      ],
      "metadata": {
        "colab": {
          "base_uri": "https://localhost:8080/",
          "height": 34
        },
        "id": "71nE20EtvwlH",
        "outputId": "a49dcd7c-9866-45a0-df3b-544a835bbdb9"
      },
      "execution_count": null,
      "outputs": [
        {
          "output_type": "display_data",
          "data": {
            "text/html": [
              "0.992"
            ],
            "text/markdown": "0.992",
            "text/latex": "0.992",
            "text/plain": [
              "[1] 0.992"
            ]
          },
          "metadata": {}
        }
      ]
    },
    {
      "cell_type": "markdown",
      "metadata": {
        "deletable": false,
        "editable": false,
        "run_control": {
          "frozen": true
        },
        "id": "NtntuyhrZxiF"
      },
      "source": [
        "**2(b)** What is the variance of $X$?"
      ]
    },
    {
      "cell_type": "code",
      "execution_count": null,
      "metadata": {
        "id": "q47lYmWuZxiF",
        "colab": {
          "base_uri": "https://localhost:8080/",
          "height": 34
        },
        "outputId": "b7c7568e-fbd2-4c7f-ce9c-a2bb0dffc89c"
      },
      "outputs": [
        {
          "output_type": "display_data",
          "data": {
            "text/html": [
              "1.06189289289289"
            ],
            "text/markdown": "1.06189289289289",
            "text/latex": "1.06189289289289",
            "text/plain": [
              "[1] 1.061893"
            ]
          },
          "metadata": {}
        }
      ],
      "source": [
        "# SOLUTION\n",
        "var(X) "
      ]
    },
    {
      "cell_type": "markdown",
      "metadata": {
        "deletable": false,
        "editable": false,
        "nbgrader": {
          "grade": false,
          "grade_id": "cell-b34ded43588d46db",
          "locked": true,
          "schema_version": 3,
          "solution": false
        },
        "run_control": {
          "frozen": true
        },
        "id": "rZ-4gObSZxiF"
      },
      "source": [
        "**2(c)** What is the probability that $X$ is equal to zero? I.e., what is $\\mathbb{P}(X=0)$? (*Hint*: the probability that $X=0$ roughly equals the fraction of times that this event happened in a large number of simulations.)"
      ]
    },
    {
      "cell_type": "code",
      "execution_count": null,
      "metadata": {
        "nbgrader": {
          "grade": true,
          "grade_id": "cell-a64a4b9b483aabb5",
          "locked": false,
          "points": 0,
          "schema_version": 3,
          "solution": true
        },
        "id": "6rDIQ1hJZxiF",
        "colab": {
          "base_uri": "https://localhost:8080/",
          "height": 34
        },
        "outputId": "629d305c-1e84-4a2a-836a-ea8544bcd66f"
      },
      "outputs": [
        {
          "output_type": "display_data",
          "data": {
            "text/html": [
              "0.361"
            ],
            "text/markdown": "0.361",
            "text/latex": "0.361",
            "text/plain": [
              "[1] 0.361"
            ]
          },
          "metadata": {}
        }
      ],
      "source": [
        "# SOLUTION \n",
        "sum(X==0)/1000 # the number of times in which X=0 divided by 1000 simulations (36.1%)"
      ]
    },
    {
      "cell_type": "markdown",
      "metadata": {
        "deletable": false,
        "editable": false,
        "run_control": {
          "frozen": true
        },
        "id": "gg807O18ZxiF"
      },
      "source": [
        "**2(d)** Suppose you and your friend both play this game using separate decks of cards. Let your score be $X$ and let their score be $Y$. What is the probability that your score is higher than their score (i.e. $X > Y$)?"
      ]
    },
    {
      "cell_type": "code",
      "execution_count": null,
      "metadata": {
        "id": "MPQzyTJRZxiF",
        "colab": {
          "base_uri": "https://localhost:8080/",
          "height": 34
        },
        "outputId": "fb590dcb-0445-474c-eea1-4b3db290306a"
      },
      "outputs": [
        {
          "output_type": "display_data",
          "data": {
            "text/html": [
              "0.351"
            ],
            "text/markdown": "0.351",
            "text/latex": "0.351",
            "text/plain": [
              "[1] 0.351"
            ]
          },
          "metadata": {}
        }
      ],
      "source": [
        "# SOLUTION \n",
        "\n",
        "Y=rep(0,1000)\n",
        "\n",
        "for (i in 1:1000) {\n",
        "  score=sum(sample(52)==sample(52))\n",
        "  Y[i]=score\n",
        "}\n",
        "\n",
        "sum(X>Y)/1000 # number of times in which X>Y divided by 1000 simulations (35.6%)"
      ]
    },
    {
      "cell_type": "markdown",
      "metadata": {
        "deletable": false,
        "editable": false,
        "nbgrader": {
          "grade": false,
          "grade_id": "cell-8a4fcd25e82f68a0",
          "locked": true,
          "schema_version": 3,
          "solution": false
        },
        "run_control": {
          "frozen": true
        },
        "id": "khwz1OfpZxiF"
      },
      "source": [
        "## Problem 3: Everything is regression\n",
        "\n",
        "In this problem, you will explore how various well-known statistical tests are special cases of linear regression."
      ]
    },
    {
      "cell_type": "markdown",
      "metadata": {
        "deletable": false,
        "editable": false,
        "run_control": {
          "frozen": true
        },
        "id": "NyPRdAuTZxiF"
      },
      "source": [
        "**3(a)** Pearson's correlation coefficient, denoted $\\rho$, measures the strength of a linear relationship between two variables $x$ and $y$. It's implemented using the `cor()` function in R:"
      ]
    },
    {
      "cell_type": "code",
      "execution_count": null,
      "metadata": {
        "deletable": false,
        "editable": false,
        "nbgrader": {
          "grade": false,
          "grade_id": "cell-30374ebf8d61de64",
          "locked": true,
          "schema_version": 3,
          "solution": false
        },
        "run_control": {
          "frozen": true
        },
        "id": "ZFExTUacZxiF",
        "outputId": "c6d12376-885f-4c14-a5e8-0d2dcde38033",
        "colab": {
          "base_uri": "https://localhost:8080/",
          "height": 34
        }
      },
      "outputs": [
        {
          "output_type": "display_data",
          "data": {
            "text/html": [
              "0.183381506888591"
            ],
            "text/markdown": "0.183381506888591",
            "text/latex": "0.183381506888591",
            "text/plain": [
              "[1] 0.1833815"
            ]
          },
          "metadata": {}
        }
      ],
      "source": [
        "set.seed(1)\n",
        "x = rnorm(100, sd=.1)\n",
        "y = 3 + 2 * x + rnorm(100, sd = 1)\n",
        "cor(x, y)"
      ]
    },
    {
      "cell_type": "markdown",
      "metadata": {
        "deletable": false,
        "editable": false,
        "nbgrader": {
          "grade": false,
          "grade_id": "cell-66d306d6b06dbb31",
          "locked": true,
          "schema_version": 3,
          "solution": false
        },
        "run_control": {
          "frozen": true
        },
        "id": "F4Wl7KBAZxiG"
      },
      "source": [
        "To test whether a linear relationship exists between two variables, we can use the function `cor.test()` to test the null hypothesis $H_0: \\rho=0$:"
      ]
    },
    {
      "cell_type": "code",
      "execution_count": null,
      "metadata": {
        "deletable": false,
        "editable": false,
        "nbgrader": {
          "grade": false,
          "grade_id": "cell-556264c837ba576f",
          "locked": true,
          "schema_version": 3,
          "solution": false
        },
        "run_control": {
          "frozen": true
        },
        "id": "n_ig57l7ZxiG",
        "outputId": "38ee7d98-7c78-4b8a-f1e6-53abd5db81c7",
        "colab": {
          "base_uri": "https://localhost:8080/",
          "height": 213
        }
      },
      "outputs": [
        {
          "output_type": "display_data",
          "data": {
            "text/plain": [
              "\n",
              "\tPearson's product-moment correlation\n",
              "\n",
              "data:  x and y\n",
              "t = 1.8467, df = 98, p-value = 0.06781\n",
              "alternative hypothesis: true correlation is not equal to 0\n",
              "95 percent confidence interval:\n",
              " -0.01352373  0.36659507\n",
              "sample estimates:\n",
              "      cor \n",
              "0.1833815 \n"
            ]
          },
          "metadata": {}
        }
      ],
      "source": [
        "cor.test(x, y)"
      ]
    },
    {
      "cell_type": "markdown",
      "metadata": {
        "deletable": false,
        "editable": false,
        "nbgrader": {
          "grade": false,
          "grade_id": "cell-96ec4249c290c1ce",
          "locked": true,
          "schema_version": 3,
          "solution": false
        },
        "run_control": {
          "frozen": true
        },
        "id": "um6q0P-jZxiG"
      },
      "source": [
        "Consider how you might test whether the correlation between $x$ and $y$ is zero using the linear model. By running an appropriate regression, show that you get *the exact same* $p$-value as that obtained by `cor.test()`. How can we infer the correlation coefficient $\\rho=0.183$ from the regression result?"
      ]
    },
    {
      "cell_type": "code",
      "execution_count": null,
      "metadata": {
        "nbgrader": {
          "grade": true,
          "grade_id": "cell-614d08251e323a57",
          "locked": false,
          "points": 0,
          "schema_version": 3,
          "solution": true
        },
        "id": "4v_UvSh5ZxiG",
        "colab": {
          "base_uri": "https://localhost:8080/",
          "height": 338
        },
        "outputId": "a90d109b-afed-44da-f6d5-1f5754fc04db"
      },
      "outputs": [
        {
          "output_type": "display_data",
          "data": {
            "text/plain": [
              "\n",
              "Call:\n",
              "lm(formula = y ~ x)\n",
              "\n",
              "Residuals:\n",
              "    Min      1Q  Median      3Q     Max \n",
              "-1.8768 -0.6138 -0.1395  0.5394  2.3462 \n",
              "\n",
              "Coefficients:\n",
              "            Estimate Std. Error t value Pr(>|t|)    \n",
              "(Intercept)  2.96231    0.09699  30.543   <2e-16 ***\n",
              "x            1.98940    1.07727   1.847   0.0678 .  \n",
              "---\n",
              "Signif. codes:  0 ‘***’ 0.001 ‘**’ 0.01 ‘*’ 0.05 ‘.’ 0.1 ‘ ’ 1\n",
              "\n",
              "Residual standard error: 0.9628 on 98 degrees of freedom\n",
              "Multiple R-squared:  0.03363,\tAdjusted R-squared:  0.02377 \n",
              "F-statistic:  3.41 on 1 and 98 DF,  p-value: 0.06781\n"
            ]
          },
          "metadata": {}
        }
      ],
      "source": [
        "# SOLUTION\n",
        "\n",
        "# The following regression produces the exact same p-value as the cor.test: \n",
        "lm<-lm(y~x)\n",
        "summary(lm) \n",
        "\n",
        "# Based on the regression results, b/c the p-value is 0.0678, we can reject the null hypothesis at the 10% confidence level, which means that there is a 90% chance that there is a correlation b/w the two variables and a 90% chance that the coefficient of that correlation is 0.183. "
      ]
    },
    {
      "cell_type": "markdown",
      "metadata": {
        "deletable": false,
        "editable": false,
        "nbgrader": {
          "grade": false,
          "grade_id": "cell-5343bbadaeba625b",
          "locked": true,
          "schema_version": 3,
          "solution": false
        },
        "id": "5NF1uEutZxiG"
      },
      "source": [
        "**3(b)**\n",
        "One criticism of Pearson's correlation is that it only measures the strength of a *linear* correlation between two random variables. Consider the variables $x$ and $y$ defined in the file `spearman.csv`:"
      ]
    },
    {
      "cell_type": "code",
      "execution_count": null,
      "metadata": {
        "deletable": false,
        "editable": false,
        "nbgrader": {
          "grade": false,
          "grade_id": "cell-df5f6966bdb2985e",
          "locked": true,
          "schema_version": 3,
          "solution": false
        },
        "id": "7rLqozUJZxiG",
        "colab": {
          "base_uri": "https://localhost:8080/"
        },
        "outputId": "16f8f432-3eed-4958-cbe7-ffb77c39b4ec"
      },
      "outputs": [
        {
          "output_type": "stream",
          "name": "stderr",
          "text": [
            "\u001b[1mRows: \u001b[22m\u001b[34m101\u001b[39m \u001b[1mColumns: \u001b[22m\u001b[34m2\u001b[39m\n",
            "\u001b[36m──\u001b[39m \u001b[1mColumn specification\u001b[22m \u001b[36m────────────────────────────────────────────────────────\u001b[39m\n",
            "\u001b[1mDelimiter:\u001b[22m \",\"\n",
            "\u001b[32mdbl\u001b[39m (2): x, y\n",
            "\n",
            "\u001b[36mℹ\u001b[39m Use `spec()` to retrieve the full column specification for this data.\n",
            "\u001b[36mℹ\u001b[39m Specify the column types or set `show_col_types = FALSE` to quiet this message.\n"
          ]
        },
        {
          "output_type": "stream",
          "name": "stdout",
          "text": [
            "\u001b[90m# A tibble: 101 × 2\u001b[39m\n",
            "        x       y\n",
            "    \u001b[3m\u001b[90m<dbl>\u001b[39m\u001b[23m   \u001b[3m\u001b[90m<dbl>\u001b[39m\u001b[23m\n",
            "\u001b[90m 1\u001b[39m 0.689   0.594 \n",
            "\u001b[90m 2\u001b[39m 0.468   0.119 \n",
            "\u001b[90m 3\u001b[39m 0.808   0.580 \n",
            "\u001b[90m 4\u001b[39m 0.093\u001b[4m4\u001b[24m  0.100 \n",
            "\u001b[90m 5\u001b[39m 0.238   0.098\u001b[4m1\u001b[24m\n",
            "\u001b[90m 6\u001b[39m 0.046\u001b[4m7\u001b[24m -\u001b[31m0\u001b[39m\u001b[31m.\u001b[39m\u001b[31m0\u001b[39m\u001b[31m13\u001b[4m8\u001b[24m\u001b[39m\n",
            "\u001b[90m 7\u001b[39m 0.655   0.412 \n",
            "\u001b[90m 8\u001b[39m 0.171   0.118 \n",
            "\u001b[90m 9\u001b[39m 0.591   0.251 \n",
            "\u001b[90m10\u001b[39m 0.508   0.512 \n",
            "\u001b[90m# ℹ 91 more rows\u001b[39m\n"
          ]
        }
      ],
      "source": [
        "sp <- read_csv(url(\"https://datasets.stats306.org/spearman.csv\")) %>% print"
      ]
    },
    {
      "cell_type": "markdown",
      "metadata": {
        "deletable": false,
        "editable": false,
        "nbgrader": {
          "grade": false,
          "grade_id": "cell-33ba4033c69711c3",
          "locked": true,
          "schema_version": 3,
          "solution": false
        },
        "run_control": {
          "frozen": true
        },
        "id": "C6PUokiDZxiG"
      },
      "source": [
        "Are $x$ and $y$ correlated according to Pearson's test? Are they related at all? Support your answer with an appropriate visual or statistical argument."
      ]
    },
    {
      "cell_type": "code",
      "execution_count": null,
      "metadata": {
        "nbgrader": {
          "grade": true,
          "grade_id": "cell-fc4663b01bcef603",
          "locked": false,
          "points": 0,
          "schema_version": 3,
          "solution": true
        },
        "id": "Do4TNh6aZxiG",
        "colab": {
          "base_uri": "https://localhost:8080/",
          "height": 535
        },
        "outputId": "7d0e933c-f2fe-422f-de47-caa858a03cab"
      },
      "outputs": [
        {
          "output_type": "display_data",
          "data": {
            "text/plain": [
              "\n",
              "\tPearson's product-moment correlation\n",
              "\n",
              "data:  sp$x and sp$y\n",
              "t = 0.16219, df = 99, p-value = 0.8715\n",
              "alternative hypothesis: true correlation is not equal to 0\n",
              "95 percent confidence interval:\n",
              " -0.1797128  0.2110658\n",
              "sample estimates:\n",
              "       cor \n",
              "0.01629891 \n"
            ]
          },
          "metadata": {}
        },
        {
          "output_type": "display_data",
          "data": {
            "text/plain": [
              "\n",
              "Call:\n",
              "lm(formula = y ~ x, data = sp)\n",
              "\n",
              "Residuals:\n",
              "    Min      1Q  Median      3Q     Max \n",
              "-0.4542 -0.2641 -0.1143  0.2049  2.6295 \n",
              "\n",
              "Coefficients:\n",
              "            Estimate Std. Error t value Pr(>|t|)    \n",
              "(Intercept)  0.36264    0.06077   5.967 3.76e-08 ***\n",
              "x            0.01572    0.09695   0.162    0.871    \n",
              "---\n",
              "Signif. codes:  0 ‘***’ 0.001 ‘**’ 0.01 ‘*’ 0.05 ‘.’ 0.1 ‘ ’ 1\n",
              "\n",
              "Residual standard error: 0.4061 on 99 degrees of freedom\n",
              "Multiple R-squared:  0.0002657,\tAdjusted R-squared:  -0.009833 \n",
              "F-statistic: 0.02631 on 1 and 99 DF,  p-value: 0.8715\n"
            ]
          },
          "metadata": {}
        }
      ],
      "source": [
        "# SOLUTION\n",
        "\n",
        "# Pearson's test: \n",
        "cor.test(sp$x,sp$y) # p-value=0.8715, coeff=0.0163\n",
        "\n",
        "# This test infers that x and y are not related at all b/c the p-value is 0.8715, which is a lot greater than the 10% threshold. i.e. There is a high chance that the results that we see are due to random chance. "
      ]
    },
    {
      "cell_type": "markdown",
      "metadata": {
        "deletable": false,
        "editable": false,
        "nbgrader": {
          "grade": false,
          "grade_id": "cell-0e523ead8c6e3ee3",
          "locked": true,
          "schema_version": 3,
          "solution": false
        },
        "run_control": {
          "frozen": true
        },
        "id": "K2_hftXpZxiG"
      },
      "source": [
        "**3(c)**\n",
        "Recall that the `rank()` function maps a vector to a vector of integers denoting the numerical rank of each entry of the vector:"
      ]
    },
    {
      "cell_type": "code",
      "execution_count": null,
      "metadata": {
        "deletable": false,
        "editable": false,
        "nbgrader": {
          "grade": false,
          "grade_id": "cell-3a72abe598e1d7a0",
          "locked": true,
          "schema_version": 3,
          "solution": false
        },
        "id": "zucqrsLqZxiG",
        "outputId": "2e437010-4038-43e9-9cbe-508eef541f35",
        "colab": {
          "base_uri": "https://localhost:8080/",
          "height": 34
        }
      },
      "outputs": [
        {
          "output_type": "display_data",
          "data": {
            "text/html": [
              "<style>\n",
              ".list-inline {list-style: none; margin:0; padding: 0}\n",
              ".list-inline>li {display: inline-block}\n",
              ".list-inline>li:not(:last-child)::after {content: \"\\00b7\"; padding: 0 .5ex}\n",
              "</style>\n",
              "<ol class=list-inline><li>1</li><li>2</li><li>4</li><li>5</li><li>3</li></ol>\n"
            ],
            "text/markdown": "1. 1\n2. 2\n3. 4\n4. 5\n5. 3\n\n\n",
            "text/latex": "\\begin{enumerate*}\n\\item 1\n\\item 2\n\\item 4\n\\item 5\n\\item 3\n\\end{enumerate*}\n",
            "text/plain": [
              "[1] 1 2 4 5 3"
            ]
          },
          "metadata": {}
        }
      ],
      "source": [
        "rank(c(2,6,9,10,8))"
      ]
    },
    {
      "cell_type": "markdown",
      "metadata": {
        "deletable": false,
        "editable": false,
        "nbgrader": {
          "grade": false,
          "grade_id": "cell-c7f6b3dee75be6af",
          "locked": true,
          "schema_version": 3,
          "solution": false
        },
        "run_control": {
          "frozen": true
        },
        "id": "dYFztdPqZxiG"
      },
      "source": [
        "To address potential shortcomings in Pearson's test, *Spearman's rank correlation test* looks for correlations between the *ranks* of two vectors $x$ and $y$. This will do a better job of picking out a non-linear relationship between $x$ and $y$, so long as that relationship is [monotonic](https://en.wikipedia.org/wiki/Monotonic_function). Verify this visualizing the relationship of `rank(x)` and `rank(y)`."
      ]
    },
    {
      "cell_type": "code",
      "source": [
        "# SOLUTION \n",
        "\n",
        "ggplot(sp,aes(x=rank(x),y=rank(y)))+\n",
        "  geom_point()\n",
        "\n",
        "# This visualization of rank(x) vs rank(y) suggests that there is a strong positive correlation, which suggests that there is a non-linear relationship b/w x and y."
      ],
      "metadata": {
        "colab": {
          "base_uri": "https://localhost:8080/",
          "height": 437
        },
        "id": "tPAc3WhtOAb5",
        "outputId": "ce7e1d30-fe7a-44d9-9275-2fd7a2cccea0"
      },
      "execution_count": null,
      "outputs": [
        {
          "output_type": "display_data",
          "data": {
            "text/plain": [
              "plot without title"
            ],
            "image/png": "[encoded data removed]"
          },
          "metadata": {
            "image/png": {
              "width": 420,
              "height": 420
            }
          }
        }
      ]
    },
    {
      "cell_type": "markdown",
      "metadata": {
        "deletable": false,
        "editable": false,
        "nbgrader": {
          "grade": false,
          "grade_id": "cell-62f7756b85d3e29e",
          "locked": true,
          "schema_version": 3,
          "solution": false
        },
        "run_control": {
          "frozen": true
        },
        "id": "diJwVEGVZxiG"
      },
      "source": [
        "**3(d)** Spearman's test is implemented using the `cor.test(..., method = \"spearman\")` command.\n",
        "\n",
        "Show that regressing the rank of `y` on the rank of `x` gives you you the *exact same* $p$-values and estimates for $\\rho$ as Spearman't test."
      ]
    },
    {
      "cell_type": "code",
      "execution_count": null,
      "metadata": {
        "nbgrader": {
          "grade": true,
          "grade_id": "cell-7c2681f67d5e97c7",
          "locked": false,
          "points": 0,
          "schema_version": 3,
          "solution": true
        },
        "id": "XPpZJ87TZxiG",
        "colab": {
          "base_uri": "https://localhost:8080/",
          "height": 499
        },
        "outputId": "de0d59c2-dba3-4b4c-a7d5-9873b6375984"
      },
      "outputs": [
        {
          "output_type": "display_data",
          "data": {
            "text/plain": [
              "\n",
              "\tSpearman's rank correlation rho\n",
              "\n",
              "data:  sp$x and sp$y\n",
              "S = 22534, p-value < 2.2e-16\n",
              "alternative hypothesis: true rho is not equal to 0\n",
              "sample estimates:\n",
              "      rho \n",
              "0.8687595 \n"
            ]
          },
          "metadata": {}
        },
        {
          "output_type": "display_data",
          "data": {
            "text/plain": [
              "\n",
              "Call:\n",
              "lm(formula = rank(y) ~ rank(x), data = sp)\n",
              "\n",
              "Residuals:\n",
              "    Min      1Q  Median      3Q     Max \n",
              "-30.050  -7.775   0.706   5.462  93.438 \n",
              "\n",
              "Coefficients:\n",
              "            Estimate Std. Error t value Pr(>|t|)    \n",
              "(Intercept)  6.69327    2.92392   2.289   0.0242 *  \n",
              "rank(x)      0.86876    0.04977  17.454   <2e-16 ***\n",
              "---\n",
              "Signif. codes:  0 ‘***’ 0.001 ‘**’ 0.01 ‘*’ 0.05 ‘.’ 0.1 ‘ ’ 1\n",
              "\n",
              "Residual standard error: 14.58 on 99 degrees of freedom\n",
              "Multiple R-squared:  0.7547,\tAdjusted R-squared:  0.7523 \n",
              "F-statistic: 304.7 on 1 and 99 DF,  p-value: < 2.2e-16\n"
            ]
          },
          "metadata": {}
        }
      ],
      "source": [
        "# SOLUTION\n",
        "\n",
        "# Spearman's rank correlation test:\n",
        "cor.test(sp$x,sp$y,method=\"spearman\") # p-value<2.2e-16, coeff=0.8688\n",
        "\n",
        "# Regression: \n",
        "sp_lm<-lm(rank(y)~rank(x),data=sp)\n",
        "summary(sp_lm) # p-value<2.2e-16, coeff=0.8688"
      ]
    },
    {
      "cell_type": "markdown",
      "metadata": {
        "deletable": false,
        "editable": false,
        "nbgrader": {
          "grade": false,
          "grade_id": "cell-79fbe388eff1e416",
          "locked": true,
          "schema_version": 3,
          "solution": false
        },
        "run_control": {
          "frozen": true
        },
        "id": "3zI1kvHlZxiG"
      },
      "source": [
        "Spearman's test is an example of a [non-parametric](https://en.wikipedia.org/wiki/Nonparametric_statistics) test: it does not make any assumptions about the distribution of the data. We will see other examples of non-parametric tests below."
      ]
    },
    {
      "cell_type": "markdown",
      "metadata": {
        "deletable": false,
        "editable": false,
        "nbgrader": {
          "grade": false,
          "grade_id": "cell-50d2b3d695df7c8c",
          "locked": true,
          "schema_version": 3,
          "solution": false
        },
        "run_control": {
          "frozen": true
        },
        "id": "qTugo1tlZxiG"
      },
      "source": [
        "**3(e)**\n",
        "The one-sample $t$-test is used to test the null hypothesis that the mean of a random variable is zero. It's implemented in R using the `t.test()` command:"
      ]
    },
    {
      "cell_type": "code",
      "execution_count": null,
      "metadata": {
        "deletable": false,
        "editable": false,
        "nbgrader": {
          "grade": false,
          "grade_id": "cell-567e578d7fa9d650",
          "locked": true,
          "schema_version": 3,
          "solution": false
        },
        "id": "WgQ4uRW-ZxiG",
        "colab": {
          "base_uri": "https://localhost:8080/",
          "height": 213
        },
        "outputId": "c9b3362d-ec31-4ebe-9e03-5e0ff20c8a22"
      },
      "outputs": [
        {
          "output_type": "display_data",
          "data": {
            "text/plain": [
              "\n",
              "\tOne Sample t-test\n",
              "\n",
              "data:  x\n",
              "t = 1.2538, df = 99, p-value = 0.2129\n",
              "alternative hypothesis: true mean is not equal to 0\n",
              "95 percent confidence interval:\n",
              " -0.07554718  0.33489425\n",
              "sample estimates:\n",
              "mean of x \n",
              "0.1296735 \n"
            ]
          },
          "metadata": {}
        }
      ],
      "source": [
        "x <- rnorm(100, mean=.1)\n",
        "t.test(x)"
      ]
    },
    {
      "cell_type": "markdown",
      "metadata": {
        "deletable": false,
        "editable": false,
        "nbgrader": {
          "grade": false,
          "grade_id": "cell-5b7c91dc23771f91",
          "locked": true,
          "schema_version": 3,
          "solution": false
        },
        "run_control": {
          "frozen": true
        },
        "id": "er6JwGMoZxiG"
      },
      "source": [
        "By running an appropriate regression, show that the linear model produces *the exact same* $t$ statistic, confidence intervals, and $p$-values as the $t$-test."
      ]
    },
    {
      "cell_type": "code",
      "execution_count": null,
      "metadata": {
        "nbgrader": {
          "grade": true,
          "grade_id": "cell-f54825f6e6acf9a3",
          "locked": false,
          "points": 0,
          "schema_version": 3,
          "solution": true
        },
        "id": "k7W-yoDHZxiH",
        "colab": {
          "base_uri": "https://localhost:8080/",
          "height": 527
        },
        "outputId": "497fd1a2-1c6e-4179-8107-6f9f18f7f434"
      },
      "outputs": [
        {
          "output_type": "display_data",
          "data": {
            "text/plain": [
              "\n",
              "\tOne Sample t-test\n",
              "\n",
              "data:  x\n",
              "t = 1.2538, df = 99, p-value = 0.2129\n",
              "alternative hypothesis: true mean is not equal to 0\n",
              "95 percent confidence interval:\n",
              " -0.07554718  0.33489425\n",
              "sample estimates:\n",
              "mean of x \n",
              "0.1296735 \n"
            ]
          },
          "metadata": {}
        },
        {
          "output_type": "display_data",
          "data": {
            "text/plain": [
              "\n",
              "Call:\n",
              "lm(formula = x ~ 1)\n",
              "\n",
              "Residuals:\n",
              "     Min       1Q   Median       3Q      Max \n",
              "-2.91859 -0.48482 -0.03128  0.66882  2.61949 \n",
              "\n",
              "Coefficients:\n",
              "            Estimate Std. Error t value Pr(>|t|)\n",
              "(Intercept)   0.1297     0.1034   1.254    0.213\n",
              "\n",
              "Residual standard error: 1.034 on 99 degrees of freedom\n"
            ]
          },
          "metadata": {}
        },
        {
          "output_type": "display_data",
          "data": {
            "text/html": [
              "<table class=\"dataframe\">\n",
              "<caption>A matrix: 1 × 2 of type dbl</caption>\n",
              "<thead>\n",
              "\t<tr><th></th><th scope=col>2.5 %</th><th scope=col>97.5 %</th></tr>\n",
              "</thead>\n",
              "<tbody>\n",
              "\t<tr><th scope=row>(Intercept)</th><td>-0.07554718</td><td>0.3348942</td></tr>\n",
              "</tbody>\n",
              "</table>\n"
            ],
            "text/markdown": "\nA matrix: 1 × 2 of type dbl\n\n| <!--/--> | 2.5 % | 97.5 % |\n|---|---|---|\n| (Intercept) | -0.07554718 | 0.3348942 |\n\n",
            "text/latex": "A matrix: 1 × 2 of type dbl\n\\begin{tabular}{r|ll}\n  & 2.5 \\% & 97.5 \\%\\\\\n\\hline\n\t(Intercept) & -0.07554718 & 0.3348942\\\\\n\\end{tabular}\n",
            "text/plain": [
              "            2.5 %       97.5 %   \n",
              "(Intercept) -0.07554718 0.3348942"
            ]
          },
          "metadata": {}
        }
      ],
      "source": [
        "# SOLUTION\n",
        "\n",
        "# Two Sample t-test: \n",
        "t.test(x) # p-value=0.213, CI=(-0.0755,0.3349)\n",
        "\n",
        "# Regression: \n",
        "ttest_lm<-lm(x~1)\n",
        "summary(ttest_lm) # p-value=0.213\n",
        "confint(ttest_lm) # CI=(-0.0755,0.3349)"
      ]
    }
  ],
  "metadata": {
    "celltoolbar": "Create Assignment",
    "kernelspec": {
      "display_name": "R",
      "language": "R",
      "name": "ir"
    },
    "language_info": {
      "codemirror_mode": "r",
      "file_extension": ".r",
      "mimetype": "text/x-r-source",
      "name": "R",
      "pygments_lexer": "r",
      "version": "4.2.1"
    },
    "colab": {
      "provenance": [],
      "include_colab_link": true
    }
  },
  "nbformat": 4,
  "nbformat_minor": 0
}