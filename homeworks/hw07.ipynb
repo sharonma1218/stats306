{
  "cells": [
    {
      "cell_type": "markdown",
      "metadata": {
        "id": "view-in-github",
        "colab_type": "text"
      },
      "source": [
        "<a href=\"https://colab.research.google.com/github/sharonma1218/stats306/blob/main/homeworks/hw7.ipynb\" target=\"_parent\"><img src=\"https://colab.research.google.com/assets/colab-badge.svg\" alt=\"Open In Colab\"/></a>"
      ]
    },
    {
      "cell_type": "code",
      "execution_count": null,
      "metadata": {
        "deletable": false,
        "editable": false,
        "id": "1SPCENz_KDM-",
        "nbgrader": {
          "grade": false,
          "grade_id": "cell-d1761bfdb43c7ec3",
          "locked": true,
          "schema_version": 3,
          "solution": false
        },
        "vscode": {
          "languageId": "r"
        },
        "colab": {
          "base_uri": "https://localhost:8080/"
        },
        "outputId": "027c5a0e-96b1-4400-e3e0-ba1a899b97ba"
      },
      "outputs": [
        {
          "output_type": "stream",
          "name": "stderr",
          "text": [
            "Installing package into ‘/usr/local/lib/R/site-library’\n",
            "(as ‘lib’ is unspecified)\n",
            "\n",
            "also installing the dependencies ‘textshaping’, ‘ragg’\n",
            "\n",
            "\n",
            "Warning message in install.packages(\"tidyverse\"):\n",
            "“installation of package ‘textshaping’ had non-zero exit status”\n",
            "Warning message in install.packages(\"tidyverse\"):\n",
            "“installation of package ‘ragg’ had non-zero exit status”\n",
            "Warning message in install.packages(\"tidyverse\"):\n",
            "“installation of package ‘tidyverse’ had non-zero exit status”\n",
            "Installing package into ‘/usr/local/lib/R/site-library’\n",
            "(as ‘lib’ is unspecified)\n",
            "\n",
            "Skipping install of 'harrypotter' from a github remote, the SHA1 (51f71461) has not changed since last install.\n",
            "  Use `force = TRUE` to force installation\n",
            "\n"
          ]
        }
      ],
      "source": [
        "install.packages(\"tidyverse\")\n",
        "install.packages(\"tidytext\")\n",
        "remotes::install_github(\"bradleyboehmke/harrypotter\")"
      ]
    },
    {
      "cell_type": "code",
      "source": [
        "library(tidyverse)\n",
        "library(stringr)\n",
        "library(harrypotter)\n",
        "library(tidytext)"
      ],
      "metadata": {
        "id": "5_zc8Z_7kuYO"
      },
      "execution_count": null,
      "outputs": []
    },
    {
      "cell_type": "code",
      "source": [
        "options(jupyter.rich_display=T)\n",
        "options(repr.plot.width=4, repr.plot.height=3)"
      ],
      "metadata": {
        "id": "zjKyn0Rdk1mP"
      },
      "execution_count": null,
      "outputs": []
    },
    {
      "cell_type": "markdown",
      "metadata": {
        "deletable": false,
        "editable": false,
        "id": "i8VBJe1DLrKG",
        "run_control": {
          "frozen": true
        }
      },
      "source": [
        "# STATS 306\n",
        "## Homework 7: Text Analysis\n",
        "\n",
        "For each problem, enter the R code in the cell marked \"YOUR SOLUTION HERE\"."
      ]
    },
    {
      "cell_type": "markdown",
      "metadata": {
        "deletable": false,
        "editable": false,
        "id": "Yp7WT7I1KDNF",
        "nbgrader": {
          "grade": false,
          "grade_id": "cell-2be6421ceea97f78",
          "locked": true,
          "schema_version": 3,
          "solution": false,
          "task": false
        },
        "run_control": {
          "frozen": true
        }
      },
      "source": [
        "## Problem 1: Sentiment Analysis (4 points)\n",
        "\n",
        "In problem 1 we will perform *sentiment analysis* of the Harry Potter books. The file `afinn.RData` contains a sentiment score for a large number of words in the English language:"
      ]
    },
    {
      "cell_type": "code",
      "execution_count": null,
      "metadata": {
        "colab": {
          "base_uri": "https://localhost:8080/",
          "height": 286
        },
        "deletable": false,
        "editable": false,
        "id": "rVaiwyOLKDNE",
        "nbgrader": {
          "grade": false,
          "grade_id": "cell-a0b1b3db5aa2f68d",
          "locked": true,
          "schema_version": 3,
          "solution": false,
          "task": false
        },
        "outputId": "4fef48b7-409a-4cd2-cc39-3bfc815a1ee7",
        "vscode": {
          "languageId": "r"
        }
      },
      "outputs": [
        {
          "output_type": "display_data",
          "data": {
            "text/html": [
              "<table class=\"dataframe\">\n",
              "<caption>A tibble: 6 × 2</caption>\n",
              "<thead>\n",
              "\t<tr><th scope=col>word</th><th scope=col>value</th></tr>\n",
              "\t<tr><th scope=col>&lt;chr&gt;</th><th scope=col>&lt;dbl&gt;</th></tr>\n",
              "</thead>\n",
              "<tbody>\n",
              "\t<tr><td>abandon   </td><td>-2</td></tr>\n",
              "\t<tr><td>abandoned </td><td>-2</td></tr>\n",
              "\t<tr><td>abandons  </td><td>-2</td></tr>\n",
              "\t<tr><td>abducted  </td><td>-2</td></tr>\n",
              "\t<tr><td>abduction </td><td>-2</td></tr>\n",
              "\t<tr><td>abductions</td><td>-2</td></tr>\n",
              "</tbody>\n",
              "</table>\n"
            ],
            "text/markdown": "\nA tibble: 6 × 2\n\n| word &lt;chr&gt; | value &lt;dbl&gt; |\n|---|---|\n| abandon    | -2 |\n| abandoned  | -2 |\n| abandons   | -2 |\n| abducted   | -2 |\n| abduction  | -2 |\n| abductions | -2 |\n\n",
            "text/latex": "A tibble: 6 × 2\n\\begin{tabular}{ll}\n word & value\\\\\n <chr> & <dbl>\\\\\n\\hline\n\t abandon    & -2\\\\\n\t abandoned  & -2\\\\\n\t abandons   & -2\\\\\n\t abducted   & -2\\\\\n\t abduction  & -2\\\\\n\t abductions & -2\\\\\n\\end{tabular}\n",
            "text/plain": [
              "  word       value\n",
              "1 abandon    -2   \n",
              "2 abandoned  -2   \n",
              "3 abandons   -2   \n",
              "4 abducted   -2   \n",
              "5 abduction  -2   \n",
              "6 abductions -2   "
            ]
          },
          "metadata": {}
        }
      ],
      "source": [
        "load(url(\"https://datasets.stats306.org/afinn.RData\"))\n",
        "head(afinn)"
      ]
    },
    {
      "cell_type": "markdown",
      "metadata": {
        "deletable": false,
        "editable": false,
        "id": "eQZaf91hKDNE",
        "nbgrader": {
          "grade": false,
          "grade_id": "cell-fd453d3925b1ec23",
          "locked": true,
          "schema_version": 3,
          "solution": false,
          "task": false
        },
        "run_control": {
          "frozen": true
        }
      },
      "source": [
        "Negatively connoted words receive low scores, while positively connoted words receive high scores:"
      ]
    },
    {
      "cell_type": "code",
      "execution_count": null,
      "metadata": {
        "colab": {
          "base_uri": "https://localhost:8080/",
          "height": 178
        },
        "deletable": false,
        "editable": false,
        "id": "GIRs7RepKDNF",
        "nbgrader": {
          "grade": false,
          "grade_id": "cell-727f2c40cd76f830",
          "locked": true,
          "schema_version": 3,
          "solution": false,
          "task": false
        },
        "outputId": "6edbaf44-afb0-4243-e63a-578e03e2b391",
        "vscode": {
          "languageId": "r"
        }
      },
      "outputs": [
        {
          "output_type": "display_data",
          "data": {
            "text/html": [
              "<table class=\"dataframe\">\n",
              "<caption>A spec_tbl_df: 2 × 2</caption>\n",
              "<thead>\n",
              "\t<tr><th scope=col>word</th><th scope=col>value</th></tr>\n",
              "\t<tr><th scope=col>&lt;chr&gt;</th><th scope=col>&lt;dbl&gt;</th></tr>\n",
              "</thead>\n",
              "<tbody>\n",
              "\t<tr><td>death </td><td>-2</td></tr>\n",
              "\t<tr><td>hurrah</td><td> 5</td></tr>\n",
              "</tbody>\n",
              "</table>\n"
            ],
            "text/markdown": "\nA spec_tbl_df: 2 × 2\n\n| word &lt;chr&gt; | value &lt;dbl&gt; |\n|---|---|\n| death  | -2 |\n| hurrah |  5 |\n\n",
            "text/latex": "A spec\\_tbl\\_df: 2 × 2\n\\begin{tabular}{ll}\n word & value\\\\\n <chr> & <dbl>\\\\\n\\hline\n\t death  & -2\\\\\n\t hurrah &  5\\\\\n\\end{tabular}\n",
            "text/plain": [
              "  word   value\n",
              "1 death  -2   \n",
              "2 hurrah  5   "
            ]
          },
          "metadata": {}
        }
      ],
      "source": [
        "filter(afinn, word %in% c(\"death\", \"hurrah\"))"
      ]
    },
    {
      "cell_type": "markdown",
      "metadata": {
        "deletable": false,
        "editable": false,
        "id": "bnxGYxYuN0Va",
        "run_control": {
          "frozen": true
        }
      },
      "source": [
        "The `tidytext::unnest_tokens()` function can be used to break a chunk of text into \"tokens\" (words, sentences, etc.) It works as follows. Consider the following tibble, which contains all 17 chapters of the first book in the Harry Potter series:"
      ]
    },
    {
      "cell_type": "code",
      "execution_count": null,
      "metadata": {
        "colab": {
          "base_uri": "https://localhost:8080/"
        },
        "deletable": false,
        "editable": false,
        "id": "afSFdPizKDNG",
        "nbgrader": {
          "grade": false,
          "grade_id": "cell-5720923eadb15f71",
          "locked": true,
          "schema_version": 3,
          "solution": false,
          "task": false
        },
        "outputId": "0582dc9d-58e3-4589-ec13-34ea116b0751",
        "vscode": {
          "languageId": "r"
        }
      },
      "outputs": [
        {
          "output_type": "stream",
          "name": "stdout",
          "text": [
            "\u001b[90m# A tibble: 17 × 2\u001b[39m\n",
            "   chapter text                                                                 \n",
            "     \u001b[3m\u001b[90m<int>\u001b[39m\u001b[23m \u001b[3m\u001b[90m<chr>\u001b[39m\u001b[23m                                                                \n",
            "\u001b[90m 1\u001b[39m       1 \u001b[90m\"\u001b[39mTHE BOY WHO LIVED　　Mr. and Mrs. Dursley, of number four, Privet D…\n",
            "\u001b[90m 2\u001b[39m       2 \u001b[90m\"\u001b[39mTHE VANISHING GLASS　　Nearly ten years had passed since the Dursle…\n",
            "\u001b[90m 3\u001b[39m       3 \u001b[90m\"\u001b[39mTHE LETTERS FROM NO ONE　　The escape of the Brazilian boa constric…\n",
            "\u001b[90m 4\u001b[39m       4 \u001b[90m\"\u001b[39mTHE KEEPER OF THE KEYS　　BOOM. They knocked again. Dudley jerked a…\n",
            "\u001b[90m 5\u001b[39m       5 \u001b[90m\"\u001b[39mDIAGON ALLEY　　Harry woke early the next morning. Although he coul…\n",
            "\u001b[90m 6\u001b[39m       6 \u001b[90m\"\u001b[39mTHE JOURNEY FROM PLATFORM NINE AND THREE-QUARTERS　　Harry's last m…\n",
            "\u001b[90m 7\u001b[39m       7 \u001b[90m\"\u001b[39mTHE SORTING HAT　　The door swung open at once. A tall, black-haire…\n",
            "\u001b[90m 8\u001b[39m       8 \u001b[90m\"\u001b[39mTHE POTIONS MASTER　　There, look.\\\"　　\\\"Where?\\\"　　\\\"Next to the…\n",
            "\u001b[90m 9\u001b[39m       9 \u001b[90m\"\u001b[39mTHE MIDNIGHT DUEL　　Harry had never believed he would meet a boy h…\n",
            "\u001b[90m10\u001b[39m      10 \u001b[90m\"\u001b[39mHALLOWEEN　　Malfoy couldn't believe his eyes when he saw that Harr…\n",
            "\u001b[90m11\u001b[39m      11 \u001b[90m\"\u001b[39mQUIDDITCH　　As they entered November, the weather turned very cold…\n",
            "\u001b[90m12\u001b[39m      12 \u001b[90m\"\u001b[39mTHE MIRROR OF ERISED　　Christmas was coming. One morning in mid-De…\n",
            "\u001b[90m13\u001b[39m      13 \u001b[90m\"\u001b[39mNICOLAS FLAMEL　　Dumbledore had convinced Harry not to go looking …\n",
            "\u001b[90m14\u001b[39m      14 \u001b[90m\"\u001b[39mNORBERT THE NORWEGIAN RIDGEBACK　　Quirrell, however, must have bee…\n",
            "\u001b[90m15\u001b[39m      15 \u001b[90m\"\u001b[39mTHE FORIBIDDEN FOREST　　Things couldn't have been worse.　　Filch …\n",
            "\u001b[90m16\u001b[39m      16 \u001b[90m\"\u001b[39mTHROUGH THE TRAPDOOR　　In years to come, Harry would never quite r…\n",
            "\u001b[90m17\u001b[39m      17 \u001b[90m\"\u001b[39mTHE MAN WITH TWO FACES　　It was Quirrell.　　\\\"You!\\\" gasped Harry…\n"
          ]
        }
      ],
      "source": [
        "phil_tbl <- tibble(chapter=seq_along(philosophers_stone), \n",
        "                   text=philosophers_stone) %>% print"
      ]
    },
    {
      "cell_type": "markdown",
      "metadata": {
        "deletable": false,
        "editable": false,
        "id": "dF5BEX6KKDNG",
        "nbgrader": {
          "grade": false,
          "grade_id": "cell-6458005323726b6c",
          "locked": true,
          "schema_version": 3,
          "solution": false,
          "task": false
        },
        "run_control": {
          "frozen": true
        }
      },
      "source": [
        "To perform sentiment analysis, we need to break each chapter into words so that we can join it to the `afinn` table. This is what `unnest_tokens()` does:"
      ]
    },
    {
      "cell_type": "code",
      "execution_count": null,
      "metadata": {
        "colab": {
          "base_uri": "https://localhost:8080/"
        },
        "deletable": false,
        "editable": false,
        "id": "k5JwDuDhKDNH",
        "nbgrader": {
          "grade": false,
          "grade_id": "cell-d9a1412ce1c67af4",
          "locked": true,
          "schema_version": 3,
          "solution": false,
          "task": false
        },
        "outputId": "fc78d66c-607d-402b-866d-a5ea195a4661",
        "vscode": {
          "languageId": "r"
        }
      },
      "outputs": [
        {
          "output_type": "stream",
          "name": "stdout",
          "text": [
            "\u001b[90m# A tibble: 77,875 × 2\u001b[39m\n",
            "   chapter word   \n",
            "     \u001b[3m\u001b[90m<int>\u001b[39m\u001b[23m \u001b[3m\u001b[90m<chr>\u001b[39m\u001b[23m  \n",
            "\u001b[90m 1\u001b[39m       1 the    \n",
            "\u001b[90m 2\u001b[39m       1 boy    \n",
            "\u001b[90m 3\u001b[39m       1 who    \n",
            "\u001b[90m 4\u001b[39m       1 lived  \n",
            "\u001b[90m 5\u001b[39m       1 mr     \n",
            "\u001b[90m 6\u001b[39m       1 and    \n",
            "\u001b[90m 7\u001b[39m       1 mrs    \n",
            "\u001b[90m 8\u001b[39m       1 dursley\n",
            "\u001b[90m 9\u001b[39m       1 of     \n",
            "\u001b[90m10\u001b[39m       1 number \n",
            "\u001b[90m# … with 77,865 more rows\u001b[39m\n"
          ]
        }
      ],
      "source": [
        "phil_tok <- unnest_tokens(phil_tbl, input=text, output=word) %>% print"
      ]
    },
    {
      "cell_type": "markdown",
      "metadata": {
        "deletable": false,
        "editable": false,
        "id": "kPM1RnIKKDNH",
        "nbgrader": {
          "grade": false,
          "grade_id": "cell-f434554a9cb77230",
          "locked": true,
          "schema_version": 3,
          "solution": false,
          "task": false
        },
        "run_control": {
          "frozen": true
        }
      },
      "source": [
        "**1(a)** By joining this table to other tables containing text data and summarizing, we can generate scores of how positive or negative the text is. Using the table and `afinn`, we can assign sentiment scores to various portions of text. Generate a plot reflecting how the sentiment changes over 17 chapters of the first book in the Harry Potter series. What conclusion can you draw from the plot? (1 point)"
      ]
    },
    {
      "cell_type": "code",
      "source": [
        "# Solution: \n",
        "\n",
        "phil_tok%>%\n",
        "  group_by(chapter,word)%>%\n",
        "  mutate(n=n())%>%\n",
        "  inner_join(afinn)%>%\n",
        "  mutate(total_value=n*value)%>%\n",
        "  group_by(chapter)%>%\n",
        "  summarize(avg_val_per_chap=mean(total_value))%>%\n",
        "  ggplot(aes(x=chapter,y=avg_val_per_chap))+\n",
        "  geom_bar(stat=\"identity\")+\n",
        "  theme_bw()+\n",
        "  labs(title=\"Sentiment in Philosopher's Stone\",\n",
        "        x=\"Chapter\",\n",
        "        y=\"Avg Sentiment Score\")\n",
        "\n",
        "# The overall sentiment of the first book in the Harry Potter series is more positive than negative. \n",
        "# The negative parts occurred around chapter 3, 11, and 13-15. \n",
        "# The latter makes sense b/c that's near the climax/turning point of the plot. "
      ],
      "metadata": {
        "colab": {
          "base_uri": "https://localhost:8080/",
          "height": 215
        },
        "id": "S46R75vH-TSf",
        "outputId": "ca228b52-fff3-4353-f8d1-2fd93f09e646"
      },
      "execution_count": null,
      "outputs": [
        {
          "output_type": "stream",
          "name": "stderr",
          "text": [
            "\u001b[1m\u001b[22mJoining with `by = join_by(word)`\n"
          ]
        },
        {
          "output_type": "display_data",
          "data": {
            "text/plain": [
              "plot without title"
            ],
            "image/png": "[encoded data removed]"
          },
          "metadata": {
            "image/png": {
              "width": 240,
              "height": 180
            }
          }
        }
      ]
    },
    {
      "cell_type": "markdown",
      "metadata": {
        "deletable": false,
        "editable": false,
        "id": "-YSgb5cqKDNH",
        "nbgrader": {
          "grade": false,
          "grade_id": "cell-764bdd8bbd4ec469",
          "locked": true,
          "schema_version": 3,
          "solution": false,
          "task": false
        },
        "run_control": {
          "frozen": true
        }
      },
      "source": [
        "**1(b)**\n",
        "Some people say that the Harry Potter books became darker (more negative) over time. Use sentiment analysis to investigate this, and report your conclusion here. (1 point)\n",
        "\n",
        "**HINT**: A list of all the Harry Potter books can be obtained by looking at the help page for the `harrypotter` package."
      ]
    },
    {
      "cell_type": "code",
      "source": [
        "# Solution: \n",
        "\n",
        "# Book 1:\n",
        "phil_book<-phil_tok%>%\n",
        "  group_by(chapter,word)%>%\n",
        "  mutate(n=n())%>%\n",
        "  inner_join(afinn)%>%\n",
        "  mutate(total_value=n*value)%>%\n",
        "  group_by(chapter)%>%\n",
        "  summarize(avg_val_per_chap=mean(total_value))%>%\n",
        "  mutate(book=\"1\")\n",
        "\n",
        "# Book 2:\n",
        "cham_tbl <- tibble(chapter=seq_along(chamber_of_secrets), \n",
        "                   text=chamber_of_secrets)\n",
        "cham_tok <- unnest_tokens(cham_tbl, input=text, output=word)\n",
        "cham_book<-cham_tok%>%\n",
        "  group_by(chapter,word)%>%\n",
        "  mutate(n=n())%>%\n",
        "  inner_join(afinn)%>%\n",
        "  mutate(total_value=n*value)%>%\n",
        "  group_by(chapter)%>%\n",
        "  summarize(avg_val_per_chap=mean(total_value))%>%\n",
        "  mutate(book=\"2\")\n",
        "\n",
        "# Book 3:\n",
        "prison_tbl <- tibble(chapter=seq_along(prisoner_of_azkaban), \n",
        "                   text=prisoner_of_azkaban)\n",
        "prison_tok <- unnest_tokens(prison_tbl, input=text, output=word)\n",
        "prison_book<-prison_tok%>%\n",
        "  group_by(chapter,word)%>%\n",
        "  mutate(n=n())%>%\n",
        "  inner_join(afinn)%>%\n",
        "  mutate(total_value=n*value)%>%\n",
        "  group_by(chapter)%>%\n",
        "  summarize(avg_val_per_chap=mean(total_value))%>%\n",
        "  mutate(book=\"3\")\n",
        "\n",
        "# Book 4:\n",
        "gob_tbl <- tibble(chapter=seq_along(goblet_of_fire), \n",
        "                   text=goblet_of_fire)\n",
        "gob_tok <- unnest_tokens(gob_tbl, input=text, output=word)\n",
        "gob_book<-gob_tok%>%\n",
        "  group_by(chapter,word)%>%\n",
        "  mutate(n=n())%>%\n",
        "  inner_join(afinn)%>%\n",
        "  mutate(total_value=n*value)%>%\n",
        "  group_by(chapter)%>%\n",
        "  summarize(avg_val_per_chap=mean(total_value))%>%\n",
        "  mutate(book=\"4\")\n",
        "\n",
        "# Book 5:\n",
        "order_tbl <- tibble(chapter=seq_along(order_of_the_phoenix), \n",
        "                   text=order_of_the_phoenix)\n",
        "order_tok <- unnest_tokens(order_tbl, input=text, output=word)\n",
        "order_book<-order_tok%>%\n",
        "  group_by(chapter,word)%>%\n",
        "  mutate(n=n())%>%\n",
        "  inner_join(afinn)%>%\n",
        "  mutate(total_value=n*value)%>%\n",
        "  group_by(chapter)%>%\n",
        "  summarize(avg_val_per_chap=mean(total_value))%>%\n",
        "  mutate(book=\"5\")\n",
        "\n",
        "# Book 6:\n",
        "half_tbl <- tibble(chapter=seq_along(half_blood_prince), \n",
        "                   text=half_blood_prince)\n",
        "half_tok <- unnest_tokens(half_tbl, input=text, output=word)\n",
        "half_book<-half_tok%>%\n",
        "  group_by(chapter,word)%>%\n",
        "  mutate(n=n())%>%\n",
        "  inner_join(afinn)%>%\n",
        "  mutate(total_value=n*value)%>%\n",
        "  group_by(chapter)%>%\n",
        "  summarize(avg_val_per_chap=mean(total_value))%>%\n",
        "  mutate(book=\"6\")\n",
        "\n",
        "# Book 7:\n",
        "death_tbl <- tibble(chapter=seq_along(deathly_hallows), \n",
        "                   text=deathly_hallows)\n",
        "death_tok <- unnest_tokens(death_tbl, input=text, output=word)\n",
        "death_book<-death_tok%>%\n",
        "  group_by(chapter,word)%>%\n",
        "  mutate(n=n())%>%\n",
        "  inner_join(afinn)%>%\n",
        "  mutate(total_value=n*value)%>%\n",
        "  group_by(chapter)%>%\n",
        "  summarize(avg_val_per_chap=mean(total_value))%>%\n",
        "  mutate(book=\"7\")\n",
        "\n",
        "# Combine Tables: \n",
        "all_books<-rbind(phil_book,cham_book)%>%\n",
        "  rbind(prison_book)%>%\n",
        "  rbind(gob_book)%>%\n",
        "  rbind(order_book)%>%\n",
        "  rbind(half_book)%>%\n",
        "  rbind(death_book)\n",
        "\n",
        "# Plot: \n",
        "all_books%>%\n",
        "  select(book,avg_val_per_chap)%>%\n",
        "  group_by(book)%>%\n",
        "  summarize(avg_val_per_book=mean(avg_val_per_chap))%>%\n",
        "  ggplot(aes(x=book,y=avg_val_per_book))+\n",
        "  geom_bar(stat=\"identity\")+\n",
        "  theme_bw()+\n",
        "  labs(title=\"Sentiment in the Harry Potter Series\",\n",
        "        x=\"Book\",\n",
        "        y=\"Avg Sentiment Score\")\n",
        "\n",
        "# I agree that the Harry Potter series became darker over time b/c the first book was the happiest,\n",
        "# the last book was the darkest, and there is an obvious decrease, although non-linear, b/w those two points. "
      ],
      "metadata": {
        "colab": {
          "base_uri": "https://localhost:8080/",
          "height": 322
        },
        "id": "kKzLcI4BPy8j",
        "outputId": "214d4873-048a-480c-cc63-505665fdc7b4"
      },
      "execution_count": null,
      "outputs": [
        {
          "output_type": "stream",
          "name": "stderr",
          "text": [
            "\u001b[1m\u001b[22mJoining with `by = join_by(word)`\n",
            "\u001b[1m\u001b[22mJoining with `by = join_by(word)`\n",
            "\u001b[1m\u001b[22mJoining with `by = join_by(word)`\n",
            "\u001b[1m\u001b[22mJoining with `by = join_by(word)`\n",
            "\u001b[1m\u001b[22mJoining with `by = join_by(word)`\n",
            "\u001b[1m\u001b[22mJoining with `by = join_by(word)`\n",
            "\u001b[1m\u001b[22mJoining with `by = join_by(word)`\n"
          ]
        },
        {
          "output_type": "display_data",
          "data": {
            "text/plain": [
              "plot without title"
            ],
            "image/png": "[encoded data removed]"
          },
          "metadata": {
            "image/png": {
              "width": 240,
              "height": 180
            }
          }
        }
      ]
    },
    {
      "cell_type": "markdown",
      "metadata": {
        "deletable": false,
        "editable": false,
        "id": "0mC9u3CgKDNI",
        "nbgrader": {
          "grade": false,
          "grade_id": "cell-0b846c7349b1ca76",
          "locked": true,
          "schema_version": 3,
          "solution": false,
          "task": false
        },
        "run_control": {
          "frozen": true
        }
      },
      "source": [
        "**1(c)** According to the sentiment scores, what are the most negative and positive chapters in any of the Harry Potter books? (1 point)"
      ]
    },
    {
      "cell_type": "code",
      "source": [
        "# Solution: \n",
        "\n",
        "# The most positive chapter was Chapter 5 of the Half Blood Prince:\n",
        "all_books%>%\n",
        "  group_by(book,chapter)%>%\n",
        "  arrange(desc(avg_val_per_chap))%>%\n",
        "  head\n",
        "\n",
        "# The most negative chapter was Chapter 35 of the Order of the Phoenix:\n",
        "all_books%>%\n",
        "  group_by(book,chapter)%>%\n",
        "  arrange(avg_val_per_chap)%>%\n",
        "  head"
      ],
      "metadata": {
        "colab": {
          "base_uri": "https://localhost:8080/",
          "height": 555
        },
        "id": "ei4V-DGBX5mi",
        "outputId": "2171adfe-dac5-4ad7-aec3-eb8d6d20aee7"
      },
      "execution_count": null,
      "outputs": [
        {
          "output_type": "display_data",
          "data": {
            "text/html": [
              "<table class=\"dataframe\">\n",
              "<caption>A grouped_df: 6 × 3</caption>\n",
              "<thead>\n",
              "\t<tr><th scope=col>chapter</th><th scope=col>avg_val_per_chap</th><th scope=col>book</th></tr>\n",
              "\t<tr><th scope=col>&lt;int&gt;</th><th scope=col>&lt;dbl&gt;</th><th scope=col>&lt;chr&gt;</th></tr>\n",
              "</thead>\n",
              "<tbody>\n",
              "\t<tr><td> 5</td><td>6.541284</td><td>6</td></tr>\n",
              "\t<tr><td>15</td><td>5.689855</td><td>6</td></tr>\n",
              "\t<tr><td> 7</td><td>5.398104</td><td>4</td></tr>\n",
              "\t<tr><td> 6</td><td>4.961078</td><td>3</td></tr>\n",
              "\t<tr><td>15</td><td>4.870968</td><td>5</td></tr>\n",
              "\t<tr><td> 9</td><td>4.790850</td><td>6</td></tr>\n",
              "</tbody>\n",
              "</table>\n"
            ],
            "text/markdown": "\nA grouped_df: 6 × 3\n\n| chapter &lt;int&gt; | avg_val_per_chap &lt;dbl&gt; | book &lt;chr&gt; |\n|---|---|---|\n|  5 | 6.541284 | 6 |\n| 15 | 5.689855 | 6 |\n|  7 | 5.398104 | 4 |\n|  6 | 4.961078 | 3 |\n| 15 | 4.870968 | 5 |\n|  9 | 4.790850 | 6 |\n\n",
            "text/latex": "A grouped\\_df: 6 × 3\n\\begin{tabular}{lll}\n chapter & avg\\_val\\_per\\_chap & book\\\\\n <int> & <dbl> & <chr>\\\\\n\\hline\n\t  5 & 6.541284 & 6\\\\\n\t 15 & 5.689855 & 6\\\\\n\t  7 & 5.398104 & 4\\\\\n\t  6 & 4.961078 & 3\\\\\n\t 15 & 4.870968 & 5\\\\\n\t  9 & 4.790850 & 6\\\\\n\\end{tabular}\n",
            "text/plain": [
              "  chapter avg_val_per_chap book\n",
              "1  5      6.541284         6   \n",
              "2 15      5.689855         6   \n",
              "3  7      5.398104         4   \n",
              "4  6      4.961078         3   \n",
              "5 15      4.870968         5   \n",
              "6  9      4.790850         6   "
            ]
          },
          "metadata": {}
        },
        {
          "output_type": "display_data",
          "data": {
            "text/html": [
              "<table class=\"dataframe\">\n",
              "<caption>A grouped_df: 6 × 3</caption>\n",
              "<thead>\n",
              "\t<tr><th scope=col>chapter</th><th scope=col>avg_val_per_chap</th><th scope=col>book</th></tr>\n",
              "\t<tr><th scope=col>&lt;int&gt;</th><th scope=col>&lt;dbl&gt;</th><th scope=col>&lt;chr&gt;</th></tr>\n",
              "</thead>\n",
              "<tbody>\n",
              "\t<tr><td>35</td><td>-20.544828</td><td>5</td></tr>\n",
              "\t<tr><td>25</td><td> -9.452703</td><td>4</td></tr>\n",
              "\t<tr><td>35</td><td> -8.250000</td><td>4</td></tr>\n",
              "\t<tr><td>28</td><td> -7.024631</td><td>6</td></tr>\n",
              "\t<tr><td>34</td><td> -6.383234</td><td>4</td></tr>\n",
              "\t<tr><td> 4</td><td> -6.166667</td><td>7</td></tr>\n",
              "</tbody>\n",
              "</table>\n"
            ],
            "text/markdown": "\nA grouped_df: 6 × 3\n\n| chapter &lt;int&gt; | avg_val_per_chap &lt;dbl&gt; | book &lt;chr&gt; |\n|---|---|---|\n| 35 | -20.544828 | 5 |\n| 25 |  -9.452703 | 4 |\n| 35 |  -8.250000 | 4 |\n| 28 |  -7.024631 | 6 |\n| 34 |  -6.383234 | 4 |\n|  4 |  -6.166667 | 7 |\n\n",
            "text/latex": "A grouped\\_df: 6 × 3\n\\begin{tabular}{lll}\n chapter & avg\\_val\\_per\\_chap & book\\\\\n <int> & <dbl> & <chr>\\\\\n\\hline\n\t 35 & -20.544828 & 5\\\\\n\t 25 &  -9.452703 & 4\\\\\n\t 35 &  -8.250000 & 4\\\\\n\t 28 &  -7.024631 & 6\\\\\n\t 34 &  -6.383234 & 4\\\\\n\t  4 &  -6.166667 & 7\\\\\n\\end{tabular}\n",
            "text/plain": [
              "  chapter avg_val_per_chap book\n",
              "1 35      -20.544828       5   \n",
              "2 25       -9.452703       4   \n",
              "3 35       -8.250000       4   \n",
              "4 28       -7.024631       6   \n",
              "5 34       -6.383234       4   \n",
              "6  4       -6.166667       7   "
            ]
          },
          "metadata": {}
        }
      ]
    },
    {
      "cell_type": "markdown",
      "metadata": {
        "deletable": false,
        "editable": false,
        "id": "aqZmeQx9hHVl",
        "run_control": {
          "frozen": true
        }
      },
      "source": [
        "**1(d)** Of the sentences that contain three or more scored words, what is the happiest (most positive)? (1 points)"
      ]
    },
    {
      "cell_type": "code",
      "source": [
        "# Solution: \n",
        "\n",
        "# Combined Tables: \n",
        "phil_tbl <- tibble(chapter=seq_along(philosophers_stone), \n",
        "                   text=philosophers_stone) %>% mutate(book=1)\n",
        "cham_tbl <- tibble(chapter=seq_along(chamber_of_secrets), \n",
        "                   text=chamber_of_secrets) %>% mutate(book=2)\n",
        "prison_tbl <- tibble(chapter=seq_along(prisoner_of_azkaban), \n",
        "                   text=prisoner_of_azkaban) %>% mutate(book=3)\n",
        "gob_tbl <- tibble(chapter=seq_along(goblet_of_fire), \n",
        "                   text=goblet_of_fire) %>% mutate(book=4)\n",
        "order_tbl <- tibble(chapter=seq_along(order_of_the_phoenix), \n",
        "                   text=order_of_the_phoenix) %>% mutate(book=5)\n",
        "half_tbl <- tibble(chapter=seq_along(half_blood_prince), \n",
        "                   text=half_blood_prince) %>% mutate(book=6)\n",
        "death_tbl <- tibble(chapter=seq_along(deathly_hallows), \n",
        "                   text=deathly_hallows) %>% mutate(book=7)\n",
        "all_books<-bind_rows(phil_tbl,cham_tbl,prison_tbl,gob_tbl,order_tbl,half_tbl,death_tbl)\n",
        "\n",
        "all_books%>%\n",
        "  unnest_sentences(input=text,output=sentence)%>%\n",
        "  group_by(book,chapter)%>%\n",
        "  mutate(sentence_n=row_number())%>%\n",
        "  ungroup()%>%\n",
        "  unnest_tokens(input=sentence,output=word)%>%\n",
        "  inner_join(afinn,by=\"word\")%>%\n",
        "  group_by(book,chapter,sentence_n)%>%\n",
        "  summarize(words_n=sum(!is.na(value)),\n",
        "            val_per_sentence=sum(value,na.rm=T))%>%\n",
        "  filter(words_n>=3)%>%\n",
        "  ungroup()%>%\n",
        "  top_n(1,val_per_sentence)\n",
        "\n",
        "# The happiest sentence (that contains at least 3 words) is in Chapter 24 of the Order of the Phoenix."
      ],
      "metadata": {
        "colab": {
          "base_uri": "https://localhost:8080/",
          "height": 165
        },
        "id": "TD3GWSjYVQ4E",
        "outputId": "5fa69ed5-aef2-4dba-fd3b-4a5ea38c374c"
      },
      "execution_count": null,
      "outputs": [
        {
          "output_type": "stream",
          "name": "stderr",
          "text": [
            "\u001b[1m\u001b[22m`summarise()` has grouped output by 'book', 'chapter'. You can override using\n",
            "the `.groups` argument.\n"
          ]
        },
        {
          "output_type": "display_data",
          "data": {
            "text/html": [
              "<table class=\"dataframe\">\n",
              "<caption>A tibble: 1 × 5</caption>\n",
              "<thead>\n",
              "\t<tr><th scope=col>book</th><th scope=col>chapter</th><th scope=col>sentence_n</th><th scope=col>words_n</th><th scope=col>val_per_sentence</th></tr>\n",
              "\t<tr><th scope=col>&lt;dbl&gt;</th><th scope=col>&lt;int&gt;</th><th scope=col>&lt;int&gt;</th><th scope=col>&lt;int&gt;</th><th scope=col>&lt;dbl&gt;</th></tr>\n",
              "</thead>\n",
              "<tbody>\n",
              "\t<tr><td>5</td><td>24</td><td>560</td><td>5</td><td>19</td></tr>\n",
              "</tbody>\n",
              "</table>\n"
            ],
            "text/markdown": "\nA tibble: 1 × 5\n\n| book &lt;dbl&gt; | chapter &lt;int&gt; | sentence_n &lt;int&gt; | words_n &lt;int&gt; | val_per_sentence &lt;dbl&gt; |\n|---|---|---|---|---|\n| 5 | 24 | 560 | 5 | 19 |\n\n",
            "text/latex": "A tibble: 1 × 5\n\\begin{tabular}{lllll}\n book & chapter & sentence\\_n & words\\_n & val\\_per\\_sentence\\\\\n <dbl> & <int> & <int> & <int> & <dbl>\\\\\n\\hline\n\t 5 & 24 & 560 & 5 & 19\\\\\n\\end{tabular}\n",
            "text/plain": [
              "  book chapter sentence_n words_n val_per_sentence\n",
              "1 5    24      560        5       19              "
            ]
          },
          "metadata": {}
        }
      ]
    },
    {
      "cell_type": "markdown",
      "metadata": {
        "deletable": false,
        "editable": false,
        "id": "XnnFosC3KDNJ",
        "nbgrader": {
          "grade": false,
          "grade_id": "cell-718c986a9bef0aca",
          "locked": true,
          "schema_version": 3,
          "solution": false
        },
        "run_control": {
          "frozen": true
        }
      },
      "source": [
        "## Problem 2: Reddit dataset (4 points)\n",
        "The file `reddit_xmas_2017.RData` contains 100,000 comments posted to Reddit on Christmas Day, 2017. Unless specified otherwise, all matches are case insensitive."
      ]
    },
    {
      "cell_type": "code",
      "execution_count": null,
      "metadata": {
        "colab": {
          "base_uri": "https://localhost:8080/"
        },
        "id": "4v6vwcp0KDNJ",
        "nbgrader": {
          "grade": false,
          "grade_id": "cell-1fa7cd0e5989af42",
          "locked": true,
          "schema_version": 3,
          "solution": false
        },
        "outputId": "03368213-3945-4146-8f35-58a651d61336",
        "vscode": {
          "languageId": "r"
        }
      },
      "outputs": [
        {
          "output_type": "stream",
          "name": "stdout",
          "text": [
            "\u001b[90m# A tibble: 100,000 × 3\u001b[39m\n",
            "   author              body                                  created_utc        \n",
            "   \u001b[3m\u001b[90m<chr>\u001b[39m\u001b[23m               \u001b[3m\u001b[90m<chr>\u001b[39m\u001b[23m                                 \u001b[3m\u001b[90m<dttm>\u001b[39m\u001b[23m             \n",
            "\u001b[90m 1\u001b[39m br_shadow           \u001b[90m\"\u001b[39mThank you for this, there is a pers… 2017-12-25 \u001b[90m15:49:08\u001b[39m\n",
            "\u001b[90m 2\u001b[39m Ksalol              \u001b[90m\"\u001b[39mThey are not to quick actually. It'… 2017-12-25 \u001b[90m17:42:50\u001b[39m\n",
            "\u001b[90m 3\u001b[39m itscool83           \u001b[90m\"\u001b[39mtell her you guys should hang out w… 2017-12-25 \u001b[90m18:54:13\u001b[39m\n",
            "\u001b[90m 4\u001b[39m Glu7enFree          \u001b[90m\"\u001b[39mAutism is a high honor in the tech … 2017-12-25 \u001b[90m07:48:17\u001b[39m\n",
            "\u001b[90m 5\u001b[39m Theotheogreato      \u001b[90m\"\u001b[39mYou thought a cat was your son?! \u001b[90m\"\u001b[39m   2017-12-25 \u001b[90m20:58:08\u001b[39m\n",
            "\u001b[90m 6\u001b[39m Shadrac121          \u001b[90m\"\u001b[39mHopfully she takes wat people say i… 2017-12-25 \u001b[90m22:27:31\u001b[39m\n",
            "\u001b[90m 7\u001b[39m 1fzUjhemoSB1QV7zI7  \u001b[90m\"\u001b[39mSi ce propui sa facem cu toata piel… 2017-12-25 \u001b[90m07:41:31\u001b[39m\n",
            "\u001b[90m 8\u001b[39m MinisterOfEducation \u001b[90m\"\u001b[39mI don't mean to be impolite, but if… 2017-12-25 \u001b[90m19:28:35\u001b[39m\n",
            "\u001b[90m 9\u001b[39m AabidS10            \u001b[90m\"\u001b[39mi dont have a 720p x265 of it, sorr… 2017-12-25 \u001b[90m13:20:32\u001b[39m\n",
            "\u001b[90m10\u001b[39m S3RG10              \u001b[90m\"\u001b[39mI'm dying to try Guatemalan sandals… 2017-12-25 \u001b[90m00:48:46\u001b[39m\n",
            "\u001b[90m# … with 99,990 more rows\u001b[39m\n"
          ]
        }
      ],
      "source": [
        "load(url('https://datasets.stats306.org/reddit_xmas_2017.RData'))\n",
        "reddit %>% print"
      ]
    },
    {
      "cell_type": "markdown",
      "metadata": {
        "id": "YZErB86_KDNK",
        "nbgrader": {
          "grade": false,
          "grade_id": "cell-d055c5ffc0dc61ba",
          "locked": true,
          "schema_version": 3,
          "solution": false
        }
      },
      "source": [
        "Comment 174 wishes everyone a happy holidays:"
      ]
    },
    {
      "cell_type": "code",
      "execution_count": null,
      "metadata": {
        "colab": {
          "base_uri": "https://localhost:8080/",
          "height": 129
        },
        "id": "fvlU2g-fKDNK",
        "nbgrader": {
          "grade": false,
          "grade_id": "cell-f56b4f43b6f4cafa",
          "locked": true,
          "schema_version": 3,
          "solution": false,
          "task": false
        },
        "outputId": "f185c2cf-84ff-4eb5-bb9f-b66255ad3516",
        "vscode": {
          "languageId": "r"
        }
      },
      "outputs": [
        {
          "output_type": "display_data",
          "data": {
            "text/html": [
              "<table class=\"dataframe\">\n",
              "<caption>A tibble: 1 × 3</caption>\n",
              "<thead>\n",
              "\t<tr><th scope=col>author</th><th scope=col>body</th><th scope=col>created_utc</th></tr>\n",
              "\t<tr><th scope=col>&lt;chr&gt;</th><th scope=col>&lt;chr&gt;</th><th scope=col>&lt;dttm&gt;</th></tr>\n",
              "</thead>\n",
              "<tbody>\n",
              "\t<tr><td>Bareilles</td><td>Thank you. Happy holidays everyone!</td><td>2017-12-25 01:33:50</td></tr>\n",
              "</tbody>\n",
              "</table>\n"
            ],
            "text/markdown": "\nA tibble: 1 × 3\n\n| author &lt;chr&gt; | body &lt;chr&gt; | created_utc &lt;dttm&gt; |\n|---|---|---|\n| Bareilles | Thank you. Happy holidays everyone! | 2017-12-25 01:33:50 |\n\n",
            "text/latex": "A tibble: 1 × 3\n\\begin{tabular}{lll}\n author & body & created\\_utc\\\\\n <chr> & <chr> & <dttm>\\\\\n\\hline\n\t Bareilles & Thank you. Happy holidays everyone! & 2017-12-25 01:33:50\\\\\n\\end{tabular}\n",
            "text/plain": [
              "  author    body                                created_utc        \n",
              "1 Bareilles Thank you. Happy holidays everyone! 2017-12-25 01:33:50"
            ]
          },
          "metadata": {}
        }
      ],
      "source": [
        "reddit %>% slice(174)"
      ]
    },
    {
      "cell_type": "markdown",
      "metadata": {
        "id": "jWuZAcnAKDNK",
        "nbgrader": {
          "grade": false,
          "grade_id": "cell-ce3d459d5d49dde1",
          "locked": true,
          "schema_version": 3,
          "solution": false
        }
      },
      "source": [
        "**2(a)**  What are other people wishing? Count the first occurrence of the string \"Happy `<word>`\" or \"Merry `<word>`\" in the comment body, if any, count the matches. To keep things interesting, do *not* include phrases matching `(happy|merry) (to|with|for|about|and|that|if|i|you|when)`. \n",
        "\n",
        "Print a table containing the top 10 matches; a few of the rows are:\n",
        "\n",
        "<table>\n",
        "<thead>\n",
        "    <tr><th scope=\"col\">greeting</th><th scope=\"col\">n</th></tr>\n",
        "    <tr><th scope=\"col\">&lt;chr&gt;</th><th scope=\"col\">&lt;int&gt;</th></tr>\n",
        "</thead>\n",
        "<tbody>\n",
        "    <tr><td>merry christmas</td><td>2040</td></tr>\n",
        "    <tr><td>happy holidays </td><td> &mdash;</td></tr>\n",
        "    <tr><td>&mdash;        </td><td> &mdash;</td></tr>\n",
        "    <tr><td>&mdash;        </td><td> &mdash;</td></tr>\n",
        "    <tr><td>&mdash;        </td><td> &mdash;</td></tr>\n",
        "    <tr><td>&mdash;        </td><td> &mdash;</td></tr>\n",
        "    <tr><td>&mdash;        </td><td> &mdash;</td></tr>\n",
        "    <tr><td>&mdash;        </td><td> &mdash;</td></tr>\n",
        "    <tr><td>&mdash;        </td><td>   7</td></tr>\n",
        "    <tr><td>happy cakeday  </td><td>   6</td></tr>\n",
        "</tbody>\n",
        "</table>\n",
        "\n",
        "Your numbers may vary slightly depending on how you performed the match."
      ]
    },
    {
      "cell_type": "code",
      "source": [
        "# Solution: \n",
        "reddit%>%\n",
        "  mutate(new_body=str_to_lower(body))%>%\n",
        "  mutate(greeting=str_extract(new_body,\"(happy|merry)\\\\s\\\\w+\"))%>%\n",
        "  filter(!is.na(greeting))%>%\n",
        "  group_by(greeting)%>%\n",
        "  summarize(n=n())%>%\n",
        "  filter(!str_detect(greeting,\"\\\\s(to|with|for|about|and|that|if|i|you|when)\"))%>%\n",
        "  arrange(desc(n))%>%\n",
        "  head(10)"
      ],
      "metadata": {
        "colab": {
          "base_uri": "https://localhost:8080/",
          "height": 412
        },
        "id": "l3cjaoMNYzQN",
        "outputId": "a87f343f-a2fa-4e35-f021-20fd60af943d"
      },
      "execution_count": null,
      "outputs": [
        {
          "output_type": "display_data",
          "data": {
            "text/html": [
              "<table class=\"dataframe\">\n",
              "<caption>A tibble: 10 × 2</caption>\n",
              "<thead>\n",
              "\t<tr><th scope=col>greeting</th><th scope=col>n</th></tr>\n",
              "\t<tr><th scope=col>&lt;chr&gt;</th><th scope=col>&lt;int&gt;</th></tr>\n",
              "</thead>\n",
              "<tbody>\n",
              "\t<tr><td>merry christmas</td><td>2040</td></tr>\n",
              "\t<tr><td>happy holidays </td><td> 477</td></tr>\n",
              "\t<tr><td>merry xmas     </td><td>  93</td></tr>\n",
              "\t<tr><td>happy christmas</td><td>  44</td></tr>\n",
              "\t<tr><td>happy cake     </td><td>  28</td></tr>\n",
              "\t<tr><td>happy birthday </td><td>  23</td></tr>\n",
              "\t<tr><td>happy new      </td><td>  15</td></tr>\n",
              "\t<tr><td>happy holiday  </td><td>  13</td></tr>\n",
              "\t<tr><td>merry x        </td><td>   7</td></tr>\n",
              "\t<tr><td>happy cakeday  </td><td>   6</td></tr>\n",
              "</tbody>\n",
              "</table>\n"
            ],
            "text/markdown": "\nA tibble: 10 × 2\n\n| greeting &lt;chr&gt; | n &lt;int&gt; |\n|---|---|\n| merry christmas | 2040 |\n| happy holidays  |  477 |\n| merry xmas      |   93 |\n| happy christmas |   44 |\n| happy cake      |   28 |\n| happy birthday  |   23 |\n| happy new       |   15 |\n| happy holiday   |   13 |\n| merry x         |    7 |\n| happy cakeday   |    6 |\n\n",
            "text/latex": "A tibble: 10 × 2\n\\begin{tabular}{ll}\n greeting & n\\\\\n <chr> & <int>\\\\\n\\hline\n\t merry christmas & 2040\\\\\n\t happy holidays  &  477\\\\\n\t merry xmas      &   93\\\\\n\t happy christmas &   44\\\\\n\t happy cake      &   28\\\\\n\t happy birthday  &   23\\\\\n\t happy new       &   15\\\\\n\t happy holiday   &   13\\\\\n\t merry x         &    7\\\\\n\t happy cakeday   &    6\\\\\n\\end{tabular}\n",
            "text/plain": [
              "   greeting        n   \n",
              "1  merry christmas 2040\n",
              "2  happy holidays   477\n",
              "3  merry xmas        93\n",
              "4  happy christmas   44\n",
              "5  happy cake        28\n",
              "6  happy birthday    23\n",
              "7  happy new         15\n",
              "8  happy holiday     13\n",
              "9  merry x            7\n",
              "10 happy cakeday      6"
            ]
          },
          "metadata": {}
        }
      ]
    },
    {
      "cell_type": "markdown",
      "metadata": {
        "deletable": false,
        "editable": false,
        "id": "nStN0Jb5KDNL",
        "nbgrader": {
          "grade": false,
          "grade_id": "cell-0868e4922137bd0e",
          "locked": true,
          "schema_version": 3,
          "solution": false
        },
        "run_control": {
          "frozen": true
        }
      },
      "source": [
        "**2(b)** Find the number of times `christmas`or `xmas` mentioned each hour. Similarly, find the number of mentions per hour of `snow` or `flakes`. Draw a plot comparing these two time series. (1 point)"
      ]
    },
    {
      "cell_type": "code",
      "source": [
        "library(lubridate)"
      ],
      "metadata": {
        "id": "EAAB8Ux2hFkD"
      },
      "execution_count": null,
      "outputs": []
    },
    {
      "cell_type": "code",
      "source": [
        "# Solution:\n",
        "reddit%>%\n",
        "  mutate(hour=hour(created_utc))%>%\n",
        "  mutate(xmas=str_detect(body,regex(\"christmas|xmas\",ignore_case=T)),\n",
        "          snow=str_detect(body,regex(\"snow|flakes\",ignore_case=T)))%>% # ignore lower/upper case; col does t or f\n",
        "  group_by(hour)%>% # better to group before summarize\n",
        "  summarize(xmas=sum(xmas),\n",
        "            snow=sum(snow))%>%\n",
        "  pivot_longer(c(\"xmas\",\"snow\"),names_to=\"word\",values_to=\"count\")%>%\n",
        "  ggplot(aes(x=hour,y=count,color=word))+\n",
        "  geom_line()+\n",
        "  labs(title=\"Count of Xmas or Snow Words per Hour\",\n",
        "        x=\"Hour\",\n",
        "        y=\"Count\",\n",
        "        color=\"Word\")+\n",
        "  theme_classic()"
      ],
      "metadata": {
        "colab": {
          "base_uri": "https://localhost:8080/",
          "height": 197
        },
        "id": "P3bt-BpUgjAG",
        "outputId": "54937b7b-8a14-4d95-c691-a718faba1812"
      },
      "execution_count": null,
      "outputs": [
        {
          "output_type": "display_data",
          "data": {
            "text/plain": [
              "plot without title"
            ],
            "image/png": "[encoded data removed]"
          },
          "metadata": {
            "image/png": {
              "width": 240,
              "height": 180
            }
          }
        }
      ]
    },
    {
      "cell_type": "markdown",
      "metadata": {
        "deletable": false,
        "editable": false,
        "id": "Bl53I2qzKDNM",
        "nbgrader": {
          "grade": false,
          "grade_id": "cell-7674a04533f8934b",
          "locked": true,
          "schema_version": 3,
          "solution": false
        },
        "run_control": {
          "frozen": true
        }
      },
      "source": [
        "**2(c)** On Christmas Day, the word `christmas` occurs 4264 times. What is the next most common word after Christmas, and how many times does it appear? (1 point)"
      ]
    },
    {
      "cell_type": "code",
      "source": [
        "# Solution:\n",
        "\n",
        "reddit%>%\n",
        "  unnest_tokens(output=word,input=body,token=\"words\")%>%\n",
        "  group_by(word)%>%\n",
        "  summarize(n=n())%>%\n",
        "  arrange(desc(n))%>%\n",
        "  slice(71:80)\n",
        "\n",
        "# The next most common word after \"christmas\" is \"only\", which appears 4151 times."
      ],
      "metadata": {
        "colab": {
          "base_uri": "https://localhost:8080/",
          "height": 412
        },
        "id": "gb0eEHMndc_k",
        "outputId": "ce50ea22-45b6-4f28-908c-a4b4776b20e0"
      },
      "execution_count": null,
      "outputs": [
        {
          "output_type": "display_data",
          "data": {
            "text/html": [
              "<table class=\"dataframe\">\n",
              "<caption>A tibble: 10 × 2</caption>\n",
              "<thead>\n",
              "\t<tr><th scope=col>word</th><th scope=col>n</th></tr>\n",
              "\t<tr><th scope=col>&lt;chr&gt;</th><th scope=col>&lt;int&gt;</th></tr>\n",
              "</thead>\n",
              "<tbody>\n",
              "\t<tr><td>christmas     </td><td>4259</td></tr>\n",
              "\t<tr><td>only          </td><td>4151</td></tr>\n",
              "\t<tr><td>am            </td><td>4017</td></tr>\n",
              "\t<tr><td>then          </td><td>3992</td></tr>\n",
              "\t<tr><td>been          </td><td>3929</td></tr>\n",
              "\t<tr><td>please        </td><td>3860</td></tr>\n",
              "\t<tr><td>also          </td><td>3823</td></tr>\n",
              "\t<tr><td>www.reddit.com</td><td>3786</td></tr>\n",
              "\t<tr><td>than          </td><td>3695</td></tr>\n",
              "\t<tr><td>too           </td><td>3640</td></tr>\n",
              "</tbody>\n",
              "</table>\n"
            ],
            "text/markdown": "\nA tibble: 10 × 2\n\n| word &lt;chr&gt; | n &lt;int&gt; |\n|---|---|\n| christmas      | 4259 |\n| only           | 4151 |\n| am             | 4017 |\n| then           | 3992 |\n| been           | 3929 |\n| please         | 3860 |\n| also           | 3823 |\n| www.reddit.com | 3786 |\n| than           | 3695 |\n| too            | 3640 |\n\n",
            "text/latex": "A tibble: 10 × 2\n\\begin{tabular}{ll}\n word & n\\\\\n <chr> & <int>\\\\\n\\hline\n\t christmas      & 4259\\\\\n\t only           & 4151\\\\\n\t am             & 4017\\\\\n\t then           & 3992\\\\\n\t been           & 3929\\\\\n\t please         & 3860\\\\\n\t also           & 3823\\\\\n\t www.reddit.com & 3786\\\\\n\t than           & 3695\\\\\n\t too            & 3640\\\\\n\\end{tabular}\n",
            "text/plain": [
              "   word           n   \n",
              "1  christmas      4259\n",
              "2  only           4151\n",
              "3  am             4017\n",
              "4  then           3992\n",
              "5  been           3929\n",
              "6  please         3860\n",
              "7  also           3823\n",
              "8  www.reddit.com 3786\n",
              "9  than           3695\n",
              "10 too            3640"
            ]
          },
          "metadata": {}
        }
      ]
    },
    {
      "cell_type": "markdown",
      "metadata": {
        "deletable": false,
        "editable": false,
        "id": "lr2DRmGZvcXQ",
        "run_control": {
          "frozen": true
        }
      },
      "source": [
        "**2(d)** Using `afinn` dataset, calculate the average sentiment scores of reddit comments for each hour. When is the most positive time in Christmas Day? (1 point)"
      ]
    },
    {
      "cell_type": "code",
      "execution_count": null,
      "metadata": {
        "id": "BcjSBHwl0Dtr",
        "vscode": {
          "languageId": "r"
        },
        "colab": {
          "base_uri": "https://localhost:8080/",
          "height": 304
        },
        "outputId": "15009660-25cb-42d3-ac75-02d877a49926"
      },
      "outputs": [
        {
          "output_type": "stream",
          "name": "stderr",
          "text": [
            "\u001b[1m\u001b[22mJoining with `by = join_by(word)`\n"
          ]
        },
        {
          "output_type": "display_data",
          "data": {
            "text/html": [
              "<table class=\"dataframe\">\n",
              "<caption>A tibble: 6 × 2</caption>\n",
              "<thead>\n",
              "\t<tr><th scope=col>hour</th><th scope=col>avg_score</th></tr>\n",
              "\t<tr><th scope=col>&lt;int&gt;</th><th scope=col>&lt;dbl&gt;</th></tr>\n",
              "</thead>\n",
              "<tbody>\n",
              "\t<tr><td> 4</td><td>0.9891790</td></tr>\n",
              "\t<tr><td> 5</td><td>0.9697171</td></tr>\n",
              "\t<tr><td>21</td><td>0.9642078</td></tr>\n",
              "\t<tr><td>14</td><td>0.9584906</td></tr>\n",
              "\t<tr><td>11</td><td>0.9511098</td></tr>\n",
              "\t<tr><td>19</td><td>0.9363501</td></tr>\n",
              "</tbody>\n",
              "</table>\n"
            ],
            "text/markdown": "\nA tibble: 6 × 2\n\n| hour &lt;int&gt; | avg_score &lt;dbl&gt; |\n|---|---|\n|  4 | 0.9891790 |\n|  5 | 0.9697171 |\n| 21 | 0.9642078 |\n| 14 | 0.9584906 |\n| 11 | 0.9511098 |\n| 19 | 0.9363501 |\n\n",
            "text/latex": "A tibble: 6 × 2\n\\begin{tabular}{ll}\n hour & avg\\_score\\\\\n <int> & <dbl>\\\\\n\\hline\n\t  4 & 0.9891790\\\\\n\t  5 & 0.9697171\\\\\n\t 21 & 0.9642078\\\\\n\t 14 & 0.9584906\\\\\n\t 11 & 0.9511098\\\\\n\t 19 & 0.9363501\\\\\n\\end{tabular}\n",
            "text/plain": [
              "  hour avg_score\n",
              "1  4   0.9891790\n",
              "2  5   0.9697171\n",
              "3 21   0.9642078\n",
              "4 14   0.9584906\n",
              "5 11   0.9511098\n",
              "6 19   0.9363501"
            ]
          },
          "metadata": {}
        }
      ],
      "source": [
        "# Solution: \n",
        "\n",
        "reddit%>%\n",
        "  unnest_tokens(output=word,input=body,token=\"words\")%>%\n",
        "  mutate(hour=hour(created_utc))%>%\n",
        "  inner_join(afinn)%>%\n",
        "  group_by(hour)%>%\n",
        "  summarize(avg_score=mean(value))%>%\n",
        "  arrange(desc(avg_score))%>%\n",
        "  head\n",
        "\n",
        "# The most positive time on Christmas Day was at 4AM UTC."
      ]
    },
    {
      "cell_type": "markdown",
      "metadata": {
        "id": "_DTj2_MG0dDA"
      },
      "source": [
        "## Challenge Problem: Text Ranking (2 points)\n",
        "Not all terms/words are equally important, and some carry more information about contents. But how do we measure the importance? One popular method is using TF-IDF (term frequency–inverse document frequency). TF-IDF is a numerical statistic that is intended to reflect how important a word is to a document in a collection. Term Frequency measures the relative frequency of term within document. Inverse Document Frequency measures of how much information the word provides for the collection. \n",
        "\n",
        "We defined TF-IDF as:\n",
        "$$\\text{TF-IDF} = \\operatorname{TF}(t,d) \\times \\operatorname{IDF}(t)$$\n",
        "$$\\operatorname{TF}(t, d) = \\log(1+c(t,d))$$\n",
        "$$\\operatorname{IDF}(t) = 1 + \\log(N/k)$$\n",
        "where $c(t,d)$ is the frequency count of term $t$ in document $d$, $N$ is the total number of documents in the collection, $k$ is the number\n",
        "of documents containing term $t$\n"
      ]
    },
    {
      "cell_type": "markdown",
      "metadata": {
        "deletable": false,
        "editable": false,
        "id": "hZu4hDN843rC",
        "run_control": {
          "frozen": true
        }
      },
      "source": [
        "**(a)** Consider the Harry Potter series as a collection of documents(books), find top 5 words in each book ranked by TF-IDF. Comment on your finding. (1 point) \n",
        "\n",
        "_Hint_: You can either compute this by hand, using the definitions shown above, or employ built-in functions in the `tidytext` package."
      ]
    },
    {
      "cell_type": "code",
      "source": [
        "# Solution:\n",
        "\n",
        "# The top 5 words in each book ranked by TF-IDF: \n",
        "\n",
        "# Book 1: \n",
        "phil_tok%>%\n",
        "  group_by(word)%>%\n",
        "  summarize(n=n())%>%\n",
        "  mutate(tfidf=(log(1+n))*(1+log(7/7)))%>%\n",
        "  arrange(desc(tfidf))%>%\n",
        "  head(5)\n",
        "\n",
        "# Book 2: \n",
        "cham_tok%>%\n",
        "  group_by(word)%>%\n",
        "  summarize(n=n())%>%\n",
        "  mutate(tfidf=(log(1+n))*(1+log(7/7)))%>%\n",
        "  arrange(desc(tfidf))%>%\n",
        "  head(5)\n",
        "\n",
        "# Book 3: \n",
        "prison_tok%>%\n",
        "  group_by(word)%>%\n",
        "  summarize(n=n())%>%\n",
        "  mutate(tfidf=(log(1+n))*(1+log(7/7)))%>%\n",
        "  arrange(desc(tfidf))%>%\n",
        "  head(5)\n",
        "\n",
        "# Book 4: \n",
        "gob_tok%>%\n",
        "  group_by(word)%>%\n",
        "  summarize(n=n())%>%\n",
        "  mutate(tfidf=(log(1+n))*(1+log(7/7)))%>%\n",
        "  arrange(desc(tfidf))%>%\n",
        "  head(5)\n",
        "\n",
        "# Book 5:\n",
        "order_tok%>%\n",
        "  group_by(word)%>%\n",
        "  summarize(n=n())%>%\n",
        "  mutate(tfidf=(log(1+n))*(1+log(7/7)))%>%\n",
        "  arrange(desc(tfidf))%>%\n",
        "  head(5)\n",
        "\n",
        "# Book 6: \n",
        "half_tok%>%\n",
        "  group_by(word)%>%\n",
        "  summarize(n=n())%>%\n",
        "  mutate(tfidf=(log(1+n))*(1+log(7/7)))%>%\n",
        "  arrange(desc(tfidf))%>%\n",
        "  head(5)\n",
        "\n",
        "# Book 7:\n",
        "death_tok%>%\n",
        "  group_by(word)%>%\n",
        "  summarize(n=n())%>%\n",
        "  mutate(tfidf=(log(1+n))*(1+log(7/7)))%>%\n",
        "  arrange(desc(tfidf))%>%\n",
        "  head(5)\n",
        "\n",
        "# Not surprisingly, the most important words in all of the books are stop words,\n",
        "# such as \"the, and, to, a, he, of, a\". "
      ],
      "metadata": {
        "colab": {
          "base_uri": "https://localhost:8080/",
          "height": 1000
        },
        "id": "tuHW6JPEkyq5",
        "outputId": "3a861aff-33a8-4362-b9a5-e15f0fa79c76"
      },
      "execution_count": null,
      "outputs": [
        {
          "output_type": "display_data",
          "data": {
            "text/html": [
              "<table class=\"dataframe\">\n",
              "<caption>A tibble: 5 × 3</caption>\n",
              "<thead>\n",
              "\t<tr><th scope=col>word</th><th scope=col>n</th><th scope=col>tfidf</th></tr>\n",
              "\t<tr><th scope=col>&lt;chr&gt;</th><th scope=col>&lt;int&gt;</th><th scope=col>&lt;dbl&gt;</th></tr>\n",
              "</thead>\n",
              "<tbody>\n",
              "\t<tr><td>the</td><td>3629</td><td>8.196988</td></tr>\n",
              "\t<tr><td>and</td><td>1923</td><td>7.562162</td></tr>\n",
              "\t<tr><td>to </td><td>1861</td><td>7.529406</td></tr>\n",
              "\t<tr><td>a  </td><td>1691</td><td>7.433667</td></tr>\n",
              "\t<tr><td>he </td><td>1528</td><td>7.332369</td></tr>\n",
              "</tbody>\n",
              "</table>\n"
            ],
            "text/markdown": "\nA tibble: 5 × 3\n\n| word &lt;chr&gt; | n &lt;int&gt; | tfidf &lt;dbl&gt; |\n|---|---|---|\n| the | 3629 | 8.196988 |\n| and | 1923 | 7.562162 |\n| to  | 1861 | 7.529406 |\n| a   | 1691 | 7.433667 |\n| he  | 1528 | 7.332369 |\n\n",
            "text/latex": "A tibble: 5 × 3\n\\begin{tabular}{lll}\n word & n & tfidf\\\\\n <chr> & <int> & <dbl>\\\\\n\\hline\n\t the & 3629 & 8.196988\\\\\n\t and & 1923 & 7.562162\\\\\n\t to  & 1861 & 7.529406\\\\\n\t a   & 1691 & 7.433667\\\\\n\t he  & 1528 & 7.332369\\\\\n\\end{tabular}\n",
            "text/plain": [
              "  word n    tfidf   \n",
              "1 the  3629 8.196988\n",
              "2 and  1923 7.562162\n",
              "3 to   1861 7.529406\n",
              "4 a    1691 7.433667\n",
              "5 he   1528 7.332369"
            ]
          },
          "metadata": {}
        },
        {
          "output_type": "display_data",
          "data": {
            "text/html": [
              "<table class=\"dataframe\">\n",
              "<caption>A tibble: 5 × 3</caption>\n",
              "<thead>\n",
              "\t<tr><th scope=col>word</th><th scope=col>n</th><th scope=col>tfidf</th></tr>\n",
              "\t<tr><th scope=col>&lt;chr&gt;</th><th scope=col>&lt;int&gt;</th><th scope=col>&lt;dbl&gt;</th></tr>\n",
              "</thead>\n",
              "<tbody>\n",
              "\t<tr><td>the</td><td>4086</td><td>8.315566</td></tr>\n",
              "\t<tr><td>and</td><td>2166</td><td>7.681099</td></tr>\n",
              "\t<tr><td>to </td><td>2023</td><td>7.612831</td></tr>\n",
              "\t<tr><td>a  </td><td>1805</td><td>7.498870</td></tr>\n",
              "\t<tr><td>of </td><td>1636</td><td>7.400621</td></tr>\n",
              "</tbody>\n",
              "</table>\n"
            ],
            "text/markdown": "\nA tibble: 5 × 3\n\n| word &lt;chr&gt; | n &lt;int&gt; | tfidf &lt;dbl&gt; |\n|---|---|---|\n| the | 4086 | 8.315566 |\n| and | 2166 | 7.681099 |\n| to  | 2023 | 7.612831 |\n| a   | 1805 | 7.498870 |\n| of  | 1636 | 7.400621 |\n\n",
            "text/latex": "A tibble: 5 × 3\n\\begin{tabular}{lll}\n word & n & tfidf\\\\\n <chr> & <int> & <dbl>\\\\\n\\hline\n\t the & 4086 & 8.315566\\\\\n\t and & 2166 & 7.681099\\\\\n\t to  & 2023 & 7.612831\\\\\n\t a   & 1805 & 7.498870\\\\\n\t of  & 1636 & 7.400621\\\\\n\\end{tabular}\n",
            "text/plain": [
              "  word n    tfidf   \n",
              "1 the  4086 8.315566\n",
              "2 and  2166 7.681099\n",
              "3 to   2023 7.612831\n",
              "4 a    1805 7.498870\n",
              "5 of   1636 7.400621"
            ]
          },
          "metadata": {}
        },
        {
          "output_type": "display_data",
          "data": {
            "text/html": [
              "<table class=\"dataframe\">\n",
              "<caption>A tibble: 5 × 3</caption>\n",
              "<thead>\n",
              "\t<tr><th scope=col>word</th><th scope=col>n</th><th scope=col>tfidf</th></tr>\n",
              "\t<tr><th scope=col>&lt;chr&gt;</th><th scope=col>&lt;int&gt;</th><th scope=col>&lt;dbl&gt;</th></tr>\n",
              "</thead>\n",
              "<tbody>\n",
              "\t<tr><td>the</td><td>4990</td><td>8.515392</td></tr>\n",
              "\t<tr><td>and</td><td>2619</td><td>7.870930</td></tr>\n",
              "\t<tr><td>to </td><td>2554</td><td>7.845808</td></tr>\n",
              "\t<tr><td>a  </td><td>2109</td><td>7.654443</td></tr>\n",
              "\t<tr><td>of </td><td>2029</td><td>7.615791</td></tr>\n",
              "</tbody>\n",
              "</table>\n"
            ],
            "text/markdown": "\nA tibble: 5 × 3\n\n| word &lt;chr&gt; | n &lt;int&gt; | tfidf &lt;dbl&gt; |\n|---|---|---|\n| the | 4990 | 8.515392 |\n| and | 2619 | 7.870930 |\n| to  | 2554 | 7.845808 |\n| a   | 2109 | 7.654443 |\n| of  | 2029 | 7.615791 |\n\n",
            "text/latex": "A tibble: 5 × 3\n\\begin{tabular}{lll}\n word & n & tfidf\\\\\n <chr> & <int> & <dbl>\\\\\n\\hline\n\t the & 4990 & 8.515392\\\\\n\t and & 2619 & 7.870930\\\\\n\t to  & 2554 & 7.845808\\\\\n\t a   & 2109 & 7.654443\\\\\n\t of  & 2029 & 7.615791\\\\\n\\end{tabular}\n",
            "text/plain": [
              "  word n    tfidf   \n",
              "1 the  4990 8.515392\n",
              "2 and  2619 7.870930\n",
              "3 to   2554 7.845808\n",
              "4 a    2109 7.654443\n",
              "5 of   2029 7.615791"
            ]
          },
          "metadata": {}
        },
        {
          "output_type": "display_data",
          "data": {
            "text/html": [
              "<table class=\"dataframe\">\n",
              "<caption>A tibble: 5 × 3</caption>\n",
              "<thead>\n",
              "\t<tr><th scope=col>word</th><th scope=col>n</th><th scope=col>tfidf</th></tr>\n",
              "\t<tr><th scope=col>&lt;chr&gt;</th><th scope=col>&lt;int&gt;</th><th scope=col>&lt;dbl&gt;</th></tr>\n",
              "</thead>\n",
              "<tbody>\n",
              "\t<tr><td>the</td><td>9305</td><td>9.138415</td></tr>\n",
              "\t<tr><td>and</td><td>4959</td><td>8.509161</td></tr>\n",
              "\t<tr><td>to </td><td>4801</td><td>8.476788</td></tr>\n",
              "\t<tr><td>of </td><td>3917</td><td>8.273337</td></tr>\n",
              "\t<tr><td>he </td><td>3667</td><td>8.207402</td></tr>\n",
              "</tbody>\n",
              "</table>\n"
            ],
            "text/markdown": "\nA tibble: 5 × 3\n\n| word &lt;chr&gt; | n &lt;int&gt; | tfidf &lt;dbl&gt; |\n|---|---|---|\n| the | 9305 | 9.138415 |\n| and | 4959 | 8.509161 |\n| to  | 4801 | 8.476788 |\n| of  | 3917 | 8.273337 |\n| he  | 3667 | 8.207402 |\n\n",
            "text/latex": "A tibble: 5 × 3\n\\begin{tabular}{lll}\n word & n & tfidf\\\\\n <chr> & <int> & <dbl>\\\\\n\\hline\n\t the & 9305 & 9.138415\\\\\n\t and & 4959 & 8.509161\\\\\n\t to  & 4801 & 8.476788\\\\\n\t of  & 3917 & 8.273337\\\\\n\t he  & 3667 & 8.207402\\\\\n\\end{tabular}\n",
            "text/plain": [
              "  word n    tfidf   \n",
              "1 the  9305 9.138415\n",
              "2 and  4959 8.509161\n",
              "3 to   4801 8.476788\n",
              "4 of   3917 8.273337\n",
              "5 he   3667 8.207402"
            ]
          },
          "metadata": {}
        },
        {
          "output_type": "display_data",
          "data": {
            "text/html": [
              "<table class=\"dataframe\">\n",
              "<caption>A tibble: 5 × 3</caption>\n",
              "<thead>\n",
              "\t<tr><th scope=col>word</th><th scope=col>n</th><th scope=col>tfidf</th></tr>\n",
              "\t<tr><th scope=col>&lt;chr&gt;</th><th scope=col>&lt;int&gt;</th><th scope=col>&lt;dbl&gt;</th></tr>\n",
              "</thead>\n",
              "<tbody>\n",
              "\t<tr><td>the</td><td>11740</td><td>9.370842</td></tr>\n",
              "\t<tr><td>to </td><td> 6518</td><td>8.782476</td></tr>\n",
              "\t<tr><td>and</td><td> 6189</td><td>8.730690</td></tr>\n",
              "\t<tr><td>of </td><td> 5332</td><td>8.581669</td></tr>\n",
              "\t<tr><td>a  </td><td> 4856</td><td>8.488176</td></tr>\n",
              "</tbody>\n",
              "</table>\n"
            ],
            "text/markdown": "\nA tibble: 5 × 3\n\n| word &lt;chr&gt; | n &lt;int&gt; | tfidf &lt;dbl&gt; |\n|---|---|---|\n| the | 11740 | 9.370842 |\n| to  |  6518 | 8.782476 |\n| and |  6189 | 8.730690 |\n| of  |  5332 | 8.581669 |\n| a   |  4856 | 8.488176 |\n\n",
            "text/latex": "A tibble: 5 × 3\n\\begin{tabular}{lll}\n word & n & tfidf\\\\\n <chr> & <int> & <dbl>\\\\\n\\hline\n\t the & 11740 & 9.370842\\\\\n\t to  &  6518 & 8.782476\\\\\n\t and &  6189 & 8.730690\\\\\n\t of  &  5332 & 8.581669\\\\\n\t a   &  4856 & 8.488176\\\\\n\\end{tabular}\n",
            "text/plain": [
              "  word n     tfidf   \n",
              "1 the  11740 9.370842\n",
              "2 to    6518 8.782476\n",
              "3 and   6189 8.730690\n",
              "4 of    5332 8.581669\n",
              "5 a     4856 8.488176"
            ]
          },
          "metadata": {}
        },
        {
          "output_type": "display_data",
          "data": {
            "text/html": [
              "<table class=\"dataframe\">\n",
              "<caption>A tibble: 5 × 3</caption>\n",
              "<thead>\n",
              "\t<tr><th scope=col>word</th><th scope=col>n</th><th scope=col>tfidf</th></tr>\n",
              "\t<tr><th scope=col>&lt;chr&gt;</th><th scope=col>&lt;int&gt;</th><th scope=col>&lt;dbl&gt;</th></tr>\n",
              "</thead>\n",
              "<tbody>\n",
              "\t<tr><td>the</td><td>7508</td><td>8.923858</td></tr>\n",
              "\t<tr><td>to </td><td>4296</td><td>8.365672</td></tr>\n",
              "\t<tr><td>and</td><td>4064</td><td>8.310169</td></tr>\n",
              "\t<tr><td>of </td><td>3419</td><td>8.137396</td></tr>\n",
              "\t<tr><td>he </td><td>3319</td><td>8.107720</td></tr>\n",
              "</tbody>\n",
              "</table>\n"
            ],
            "text/markdown": "\nA tibble: 5 × 3\n\n| word &lt;chr&gt; | n &lt;int&gt; | tfidf &lt;dbl&gt; |\n|---|---|---|\n| the | 7508 | 8.923858 |\n| to  | 4296 | 8.365672 |\n| and | 4064 | 8.310169 |\n| of  | 3419 | 8.137396 |\n| he  | 3319 | 8.107720 |\n\n",
            "text/latex": "A tibble: 5 × 3\n\\begin{tabular}{lll}\n word & n & tfidf\\\\\n <chr> & <int> & <dbl>\\\\\n\\hline\n\t the & 7508 & 8.923858\\\\\n\t to  & 4296 & 8.365672\\\\\n\t and & 4064 & 8.310169\\\\\n\t of  & 3419 & 8.137396\\\\\n\t he  & 3319 & 8.107720\\\\\n\\end{tabular}\n",
            "text/plain": [
              "  word n    tfidf   \n",
              "1 the  7508 8.923858\n",
              "2 to   4296 8.365672\n",
              "3 and  4064 8.310169\n",
              "4 of   3419 8.137396\n",
              "5 he   3319 8.107720"
            ]
          },
          "metadata": {}
        },
        {
          "output_type": "display_data",
          "data": {
            "text/html": [
              "<table class=\"dataframe\">\n",
              "<caption>A tibble: 5 × 3</caption>\n",
              "<thead>\n",
              "\t<tr><th scope=col>word</th><th scope=col>n</th><th scope=col>tfidf</th></tr>\n",
              "\t<tr><th scope=col>&lt;chr&gt;</th><th scope=col>&lt;int&gt;</th><th scope=col>&lt;dbl&gt;</th></tr>\n",
              "</thead>\n",
              "<tbody>\n",
              "\t<tr><td>the</td><td>10335</td><td>9.243388</td></tr>\n",
              "\t<tr><td>and</td><td> 5510</td><td>8.614501</td></tr>\n",
              "\t<tr><td>to </td><td> 4932</td><td>8.503703</td></tr>\n",
              "\t<tr><td>of </td><td> 4202</td><td>8.343554</td></tr>\n",
              "\t<tr><td>he </td><td> 3953</td><td>8.282483</td></tr>\n",
              "</tbody>\n",
              "</table>\n"
            ],
            "text/markdown": "\nA tibble: 5 × 3\n\n| word &lt;chr&gt; | n &lt;int&gt; | tfidf &lt;dbl&gt; |\n|---|---|---|\n| the | 10335 | 9.243388 |\n| and |  5510 | 8.614501 |\n| to  |  4932 | 8.503703 |\n| of  |  4202 | 8.343554 |\n| he  |  3953 | 8.282483 |\n\n",
            "text/latex": "A tibble: 5 × 3\n\\begin{tabular}{lll}\n word & n & tfidf\\\\\n <chr> & <int> & <dbl>\\\\\n\\hline\n\t the & 10335 & 9.243388\\\\\n\t and &  5510 & 8.614501\\\\\n\t to  &  4932 & 8.503703\\\\\n\t of  &  4202 & 8.343554\\\\\n\t he  &  3953 & 8.282483\\\\\n\\end{tabular}\n",
            "text/plain": [
              "  word n     tfidf   \n",
              "1 the  10335 9.243388\n",
              "2 and   5510 8.614501\n",
              "3 to    4932 8.503703\n",
              "4 of    4202 8.343554\n",
              "5 he    3953 8.282483"
            ]
          },
          "metadata": {}
        }
      ]
    },
    {
      "cell_type": "markdown",
      "metadata": {
        "deletable": false,
        "editable": false,
        "id": "wK3R5ekO50Lj",
        "run_control": {
          "frozen": true
        }
      },
      "source": [
        "**(b)** Stop words are a set of commonly used words in a language like \"the\", \"of\", \"and\", \"to\", \"a\". The `stop_words` table contains a list of such words. If you ignore all the words in `stop_words`, what are the top 10 words (again ranked by TF-IDF) in each Harry Potter book? (1 point)\n",
        "\n",
        "_Hint_: use `anti_join` to exclude words in `stop_words`."
      ]
    },
    {
      "cell_type": "code",
      "source": [
        "# Solution: \n",
        "\n",
        "# Book 1: \n",
        "phil_tok%>%\n",
        "  group_by(word)%>%\n",
        "  summarize(n=n())%>%\n",
        "  mutate(tfidf=(log(1+n))*(1+log(7/7)))%>%\n",
        "  anti_join(stop_words,by=\"word\")%>%\n",
        "  arrange(desc(n))%>%\n",
        "  head(10)\n",
        "\n",
        "# Book 2: \n",
        "cham_tok%>%\n",
        "  group_by(word)%>%\n",
        "  summarize(n=n())%>%\n",
        "  mutate(tfidf=(log(1+n))*(1+log(7/7)))%>%\n",
        "  anti_join(stop_words,by=\"word\")%>%\n",
        "  arrange(desc(n))%>%\n",
        "  head(10)\n",
        "\n",
        "# Book 3: \n",
        "prison_tok%>%\n",
        "  group_by(word)%>%\n",
        "  summarize(n=n())%>%\n",
        "  mutate(tfidf=(log(1+n))*(1+log(7/7)))%>%\n",
        "  anti_join(stop_words,by=\"word\")%>%\n",
        "  arrange(desc(n))%>%\n",
        "  head(10)\n",
        "\n",
        "# Book 4:\n",
        "gob_tok%>%\n",
        "  group_by(word)%>%\n",
        "  summarize(n=n())%>%\n",
        "  mutate(tfidf=(log(1+n))*(1+log(7/7)))%>%\n",
        "  anti_join(stop_words,by=\"word\")%>%\n",
        "  arrange(desc(n))%>%\n",
        "  head(10)\n",
        "\n",
        "# Book 5: \n",
        "order_tok%>%\n",
        "  group_by(word)%>%\n",
        "  summarize(n=n())%>%\n",
        "  mutate(tfidf=(log(1+n))*(1+log(7/7)))%>%\n",
        "  anti_join(stop_words,by=\"word\")%>%\n",
        "  arrange(desc(n))%>%\n",
        "  head(10)\n",
        "\n",
        "# Book 6: \n",
        "half_tok%>%\n",
        "  group_by(word)%>%\n",
        "  summarize(n=n())%>%\n",
        "  mutate(tfidf=(log(1+n))*(1+log(7/7)))%>%\n",
        "  anti_join(stop_words,by=\"word\")%>%\n",
        "  arrange(desc(n))%>%\n",
        "  head(10)\n",
        "\n",
        "# Book 7: \n",
        "new_death_tfidf<-death_tok%>%\n",
        "  group_by(word)%>%\n",
        "  summarize(n=n())%>%\n",
        "  mutate(tfidf=(log(1+n))*(1+log(7/7)))%>%\n",
        "  anti_join(stop_words,by=\"word\")%>%\n",
        "  arrange(desc(n))%>%\n",
        "  head(10)\n",
        "\n",
        "# Not surprisingly, after removing all the stop words, the most important words are the characters, \n",
        "# such as Harry, Ron, and Hermoine. "
      ],
      "metadata": {
        "colab": {
          "base_uri": "https://localhost:8080/",
          "height": 1000
        },
        "id": "w2qnILKmsXlO",
        "outputId": "811bcb47-078a-4782-9c06-a7e3bd1f232c"
      },
      "execution_count": null,
      "outputs": [
        {
          "output_type": "display_data",
          "data": {
            "text/html": [
              "<table class=\"dataframe\">\n",
              "<caption>A tibble: 10 × 3</caption>\n",
              "<thead>\n",
              "\t<tr><th scope=col>word</th><th scope=col>n</th><th scope=col>tfidf</th></tr>\n",
              "\t<tr><th scope=col>&lt;chr&gt;</th><th scope=col>&lt;int&gt;</th><th scope=col>&lt;dbl&gt;</th></tr>\n",
              "</thead>\n",
              "<tbody>\n",
              "\t<tr><td>harry     </td><td>1213</td><td>7.101676</td></tr>\n",
              "\t<tr><td>ron       </td><td> 410</td><td>6.018593</td></tr>\n",
              "\t<tr><td>hagrid    </td><td> 336</td><td>5.820083</td></tr>\n",
              "\t<tr><td>hermione  </td><td> 257</td><td>5.552960</td></tr>\n",
              "\t<tr><td>professor </td><td> 181</td><td>5.204007</td></tr>\n",
              "\t<tr><td>looked    </td><td> 169</td><td>5.135798</td></tr>\n",
              "\t<tr><td>snape     </td><td> 145</td><td>4.983607</td></tr>\n",
              "\t<tr><td>dumbledore</td><td> 143</td><td>4.969813</td></tr>\n",
              "\t<tr><td>uncle     </td><td> 121</td><td>4.804021</td></tr>\n",
              "\t<tr><td>time      </td><td> 120</td><td>4.795791</td></tr>\n",
              "</tbody>\n",
              "</table>\n"
            ],
            "text/markdown": "\nA tibble: 10 × 3\n\n| word &lt;chr&gt; | n &lt;int&gt; | tfidf &lt;dbl&gt; |\n|---|---|---|\n| harry      | 1213 | 7.101676 |\n| ron        |  410 | 6.018593 |\n| hagrid     |  336 | 5.820083 |\n| hermione   |  257 | 5.552960 |\n| professor  |  181 | 5.204007 |\n| looked     |  169 | 5.135798 |\n| snape      |  145 | 4.983607 |\n| dumbledore |  143 | 4.969813 |\n| uncle      |  121 | 4.804021 |\n| time       |  120 | 4.795791 |\n\n",
            "text/latex": "A tibble: 10 × 3\n\\begin{tabular}{lll}\n word & n & tfidf\\\\\n <chr> & <int> & <dbl>\\\\\n\\hline\n\t harry      & 1213 & 7.101676\\\\\n\t ron        &  410 & 6.018593\\\\\n\t hagrid     &  336 & 5.820083\\\\\n\t hermione   &  257 & 5.552960\\\\\n\t professor  &  181 & 5.204007\\\\\n\t looked     &  169 & 5.135798\\\\\n\t snape      &  145 & 4.983607\\\\\n\t dumbledore &  143 & 4.969813\\\\\n\t uncle      &  121 & 4.804021\\\\\n\t time       &  120 & 4.795791\\\\\n\\end{tabular}\n",
            "text/plain": [
              "   word       n    tfidf   \n",
              "1  harry      1213 7.101676\n",
              "2  ron         410 6.018593\n",
              "3  hagrid      336 5.820083\n",
              "4  hermione    257 5.552960\n",
              "5  professor   181 5.204007\n",
              "6  looked      169 5.135798\n",
              "7  snape       145 4.983607\n",
              "8  dumbledore  143 4.969813\n",
              "9  uncle       121 4.804021\n",
              "10 time        120 4.795791"
            ]
          },
          "metadata": {}
        },
        {
          "output_type": "display_data",
          "data": {
            "text/html": [
              "<table class=\"dataframe\">\n",
              "<caption>A tibble: 10 × 3</caption>\n",
              "<thead>\n",
              "\t<tr><th scope=col>word</th><th scope=col>n</th><th scope=col>tfidf</th></tr>\n",
              "\t<tr><th scope=col>&lt;chr&gt;</th><th scope=col>&lt;int&gt;</th><th scope=col>&lt;dbl&gt;</th></tr>\n",
              "</thead>\n",
              "<tbody>\n",
              "\t<tr><td>harry    </td><td>1503</td><td>7.315884</td></tr>\n",
              "\t<tr><td>ron      </td><td> 650</td><td>6.478510</td></tr>\n",
              "\t<tr><td>hermione </td><td> 289</td><td>5.669881</td></tr>\n",
              "\t<tr><td>malfoy   </td><td> 202</td><td>5.313206</td></tr>\n",
              "\t<tr><td>lockhart </td><td> 197</td><td>5.288267</td></tr>\n",
              "\t<tr><td>professor</td><td> 190</td><td>5.252273</td></tr>\n",
              "\t<tr><td>weasley  </td><td> 157</td><td>5.062595</td></tr>\n",
              "\t<tr><td>looked   </td><td> 155</td><td>5.049856</td></tr>\n",
              "\t<tr><td>time     </td><td> 148</td><td>5.003946</td></tr>\n",
              "\t<tr><td>eyes     </td><td> 145</td><td>4.983607</td></tr>\n",
              "</tbody>\n",
              "</table>\n"
            ],
            "text/markdown": "\nA tibble: 10 × 3\n\n| word &lt;chr&gt; | n &lt;int&gt; | tfidf &lt;dbl&gt; |\n|---|---|---|\n| harry     | 1503 | 7.315884 |\n| ron       |  650 | 6.478510 |\n| hermione  |  289 | 5.669881 |\n| malfoy    |  202 | 5.313206 |\n| lockhart  |  197 | 5.288267 |\n| professor |  190 | 5.252273 |\n| weasley   |  157 | 5.062595 |\n| looked    |  155 | 5.049856 |\n| time      |  148 | 5.003946 |\n| eyes      |  145 | 4.983607 |\n\n",
            "text/latex": "A tibble: 10 × 3\n\\begin{tabular}{lll}\n word & n & tfidf\\\\\n <chr> & <int> & <dbl>\\\\\n\\hline\n\t harry     & 1503 & 7.315884\\\\\n\t ron       &  650 & 6.478510\\\\\n\t hermione  &  289 & 5.669881\\\\\n\t malfoy    &  202 & 5.313206\\\\\n\t lockhart  &  197 & 5.288267\\\\\n\t professor &  190 & 5.252273\\\\\n\t weasley   &  157 & 5.062595\\\\\n\t looked    &  155 & 5.049856\\\\\n\t time      &  148 & 5.003946\\\\\n\t eyes      &  145 & 4.983607\\\\\n\\end{tabular}\n",
            "text/plain": [
              "   word      n    tfidf   \n",
              "1  harry     1503 7.315884\n",
              "2  ron        650 6.478510\n",
              "3  hermione   289 5.669881\n",
              "4  malfoy     202 5.313206\n",
              "5  lockhart   197 5.288267\n",
              "6  professor  190 5.252273\n",
              "7  weasley    157 5.062595\n",
              "8  looked     155 5.049856\n",
              "9  time       148 5.003946\n",
              "10 eyes       145 4.983607"
            ]
          },
          "metadata": {}
        },
        {
          "output_type": "display_data",
          "data": {
            "text/html": [
              "<table class=\"dataframe\">\n",
              "<caption>A tibble: 10 × 3</caption>\n",
              "<thead>\n",
              "\t<tr><th scope=col>word</th><th scope=col>n</th><th scope=col>tfidf</th></tr>\n",
              "\t<tr><th scope=col>&lt;chr&gt;</th><th scope=col>&lt;int&gt;</th><th scope=col>&lt;dbl&gt;</th></tr>\n",
              "</thead>\n",
              "<tbody>\n",
              "\t<tr><td>harry    </td><td>1824</td><td>7.509335</td></tr>\n",
              "\t<tr><td>ron      </td><td> 690</td><td>6.538140</td></tr>\n",
              "\t<tr><td>hermione </td><td> 603</td><td>6.403574</td></tr>\n",
              "\t<tr><td>professor</td><td> 395</td><td>5.981414</td></tr>\n",
              "\t<tr><td>lupin    </td><td> 369</td><td>5.913503</td></tr>\n",
              "\t<tr><td>black    </td><td> 332</td><td>5.808142</td></tr>\n",
              "\t<tr><td>looked   </td><td> 235</td><td>5.463832</td></tr>\n",
              "\t<tr><td>hagrid   </td><td> 206</td><td>5.332719</td></tr>\n",
              "\t<tr><td>snape    </td><td> 206</td><td>5.332719</td></tr>\n",
              "\t<tr><td>harry's  </td><td> 180</td><td>5.198497</td></tr>\n",
              "</tbody>\n",
              "</table>\n"
            ],
            "text/markdown": "\nA tibble: 10 × 3\n\n| word &lt;chr&gt; | n &lt;int&gt; | tfidf &lt;dbl&gt; |\n|---|---|---|\n| harry     | 1824 | 7.509335 |\n| ron       |  690 | 6.538140 |\n| hermione  |  603 | 6.403574 |\n| professor |  395 | 5.981414 |\n| lupin     |  369 | 5.913503 |\n| black     |  332 | 5.808142 |\n| looked    |  235 | 5.463832 |\n| hagrid    |  206 | 5.332719 |\n| snape     |  206 | 5.332719 |\n| harry's   |  180 | 5.198497 |\n\n",
            "text/latex": "A tibble: 10 × 3\n\\begin{tabular}{lll}\n word & n & tfidf\\\\\n <chr> & <int> & <dbl>\\\\\n\\hline\n\t harry     & 1824 & 7.509335\\\\\n\t ron       &  690 & 6.538140\\\\\n\t hermione  &  603 & 6.403574\\\\\n\t professor &  395 & 5.981414\\\\\n\t lupin     &  369 & 5.913503\\\\\n\t black     &  332 & 5.808142\\\\\n\t looked    &  235 & 5.463832\\\\\n\t hagrid    &  206 & 5.332719\\\\\n\t snape     &  206 & 5.332719\\\\\n\t harry's   &  180 & 5.198497\\\\\n\\end{tabular}\n",
            "text/plain": [
              "   word      n    tfidf   \n",
              "1  harry     1824 7.509335\n",
              "2  ron        690 6.538140\n",
              "3  hermione   603 6.403574\n",
              "4  professor  395 5.981414\n",
              "5  lupin      369 5.913503\n",
              "6  black      332 5.808142\n",
              "7  looked     235 5.463832\n",
              "8  hagrid     206 5.332719\n",
              "9  snape      206 5.332719\n",
              "10 harry's    180 5.198497"
            ]
          },
          "metadata": {}
        },
        {
          "output_type": "display_data",
          "data": {
            "text/html": [
              "<table class=\"dataframe\">\n",
              "<caption>A tibble: 10 × 3</caption>\n",
              "<thead>\n",
              "\t<tr><th scope=col>word</th><th scope=col>n</th><th scope=col>tfidf</th></tr>\n",
              "\t<tr><th scope=col>&lt;chr&gt;</th><th scope=col>&lt;int&gt;</th><th scope=col>&lt;dbl&gt;</th></tr>\n",
              "</thead>\n",
              "<tbody>\n",
              "\t<tr><td>harry     </td><td>2936</td><td>7.985144</td></tr>\n",
              "\t<tr><td>ron       </td><td> 980</td><td>6.888572</td></tr>\n",
              "\t<tr><td>hermione  </td><td> 826</td><td>6.717805</td></tr>\n",
              "\t<tr><td>dumbledore</td><td> 529</td><td>6.272877</td></tr>\n",
              "\t<tr><td>looked    </td><td> 483</td><td>6.182085</td></tr>\n",
              "\t<tr><td>weasley   </td><td> 370</td><td>5.916202</td></tr>\n",
              "\t<tr><td>hagrid    </td><td> 326</td><td>5.789960</td></tr>\n",
              "\t<tr><td>eyes      </td><td> 316</td><td>5.758902</td></tr>\n",
              "\t<tr><td>moody     </td><td> 309</td><td>5.736572</td></tr>\n",
              "\t<tr><td>professor </td><td> 290</td><td>5.673323</td></tr>\n",
              "</tbody>\n",
              "</table>\n"
            ],
            "text/markdown": "\nA tibble: 10 × 3\n\n| word &lt;chr&gt; | n &lt;int&gt; | tfidf &lt;dbl&gt; |\n|---|---|---|\n| harry      | 2936 | 7.985144 |\n| ron        |  980 | 6.888572 |\n| hermione   |  826 | 6.717805 |\n| dumbledore |  529 | 6.272877 |\n| looked     |  483 | 6.182085 |\n| weasley    |  370 | 5.916202 |\n| hagrid     |  326 | 5.789960 |\n| eyes       |  316 | 5.758902 |\n| moody      |  309 | 5.736572 |\n| professor  |  290 | 5.673323 |\n\n",
            "text/latex": "A tibble: 10 × 3\n\\begin{tabular}{lll}\n word & n & tfidf\\\\\n <chr> & <int> & <dbl>\\\\\n\\hline\n\t harry      & 2936 & 7.985144\\\\\n\t ron        &  980 & 6.888572\\\\\n\t hermione   &  826 & 6.717805\\\\\n\t dumbledore &  529 & 6.272877\\\\\n\t looked     &  483 & 6.182085\\\\\n\t weasley    &  370 & 5.916202\\\\\n\t hagrid     &  326 & 5.789960\\\\\n\t eyes       &  316 & 5.758902\\\\\n\t moody      &  309 & 5.736572\\\\\n\t professor  &  290 & 5.673323\\\\\n\\end{tabular}\n",
            "text/plain": [
              "   word       n    tfidf   \n",
              "1  harry      2936 7.985144\n",
              "2  ron         980 6.888572\n",
              "3  hermione    826 6.717805\n",
              "4  dumbledore  529 6.272877\n",
              "5  looked      483 6.182085\n",
              "6  weasley     370 5.916202\n",
              "7  hagrid      326 5.789960\n",
              "8  eyes        316 5.758902\n",
              "9  moody       309 5.736572\n",
              "10 professor   290 5.673323"
            ]
          },
          "metadata": {}
        },
        {
          "output_type": "display_data",
          "data": {
            "text/html": [
              "<table class=\"dataframe\">\n",
              "<caption>A tibble: 10 × 3</caption>\n",
              "<thead>\n",
              "\t<tr><th scope=col>word</th><th scope=col>n</th><th scope=col>tfidf</th></tr>\n",
              "\t<tr><th scope=col>&lt;chr&gt;</th><th scope=col>&lt;int&gt;</th><th scope=col>&lt;dbl&gt;</th></tr>\n",
              "</thead>\n",
              "<tbody>\n",
              "\t<tr><td>harry     </td><td>3730</td><td>8.224432</td></tr>\n",
              "\t<tr><td>hermione  </td><td>1220</td><td>7.107425</td></tr>\n",
              "\t<tr><td>ron       </td><td>1189</td><td>7.081709</td></tr>\n",
              "\t<tr><td>sirius    </td><td> 588</td><td>6.378426</td></tr>\n",
              "\t<tr><td>professor </td><td> 586</td><td>6.375025</td></tr>\n",
              "\t<tr><td>dumbledore</td><td> 568</td><td>6.343880</td></tr>\n",
              "\t<tr><td>looked    </td><td> 537</td><td>6.287859</td></tr>\n",
              "\t<tr><td>umbridge  </td><td> 496</td><td>6.208590</td></tr>\n",
              "\t<tr><td>weasley   </td><td> 434</td><td>6.075346</td></tr>\n",
              "\t<tr><td>voice     </td><td> 433</td><td>6.073045</td></tr>\n",
              "</tbody>\n",
              "</table>\n"
            ],
            "text/markdown": "\nA tibble: 10 × 3\n\n| word &lt;chr&gt; | n &lt;int&gt; | tfidf &lt;dbl&gt; |\n|---|---|---|\n| harry      | 3730 | 8.224432 |\n| hermione   | 1220 | 7.107425 |\n| ron        | 1189 | 7.081709 |\n| sirius     |  588 | 6.378426 |\n| professor  |  586 | 6.375025 |\n| dumbledore |  568 | 6.343880 |\n| looked     |  537 | 6.287859 |\n| umbridge   |  496 | 6.208590 |\n| weasley    |  434 | 6.075346 |\n| voice      |  433 | 6.073045 |\n\n",
            "text/latex": "A tibble: 10 × 3\n\\begin{tabular}{lll}\n word & n & tfidf\\\\\n <chr> & <int> & <dbl>\\\\\n\\hline\n\t harry      & 3730 & 8.224432\\\\\n\t hermione   & 1220 & 7.107425\\\\\n\t ron        & 1189 & 7.081709\\\\\n\t sirius     &  588 & 6.378426\\\\\n\t professor  &  586 & 6.375025\\\\\n\t dumbledore &  568 & 6.343880\\\\\n\t looked     &  537 & 6.287859\\\\\n\t umbridge   &  496 & 6.208590\\\\\n\t weasley    &  434 & 6.075346\\\\\n\t voice      &  433 & 6.073045\\\\\n\\end{tabular}\n",
            "text/plain": [
              "   word       n    tfidf   \n",
              "1  harry      3730 8.224432\n",
              "2  hermione   1220 7.107425\n",
              "3  ron        1189 7.081709\n",
              "4  sirius      588 6.378426\n",
              "5  professor   586 6.375025\n",
              "6  dumbledore  568 6.343880\n",
              "7  looked      537 6.287859\n",
              "8  umbridge    496 6.208590\n",
              "9  weasley     434 6.075346\n",
              "10 voice       433 6.073045"
            ]
          },
          "metadata": {}
        },
        {
          "output_type": "display_data",
          "data": {
            "text/html": [
              "<table class=\"dataframe\">\n",
              "<caption>A tibble: 10 × 3</caption>\n",
              "<thead>\n",
              "\t<tr><th scope=col>word</th><th scope=col>n</th><th scope=col>tfidf</th></tr>\n",
              "\t<tr><th scope=col>&lt;chr&gt;</th><th scope=col>&lt;int&gt;</th><th scope=col>&lt;dbl&gt;</th></tr>\n",
              "</thead>\n",
              "<tbody>\n",
              "\t<tr><td>harry     </td><td>2581</td><td>7.856320</td></tr>\n",
              "\t<tr><td>dumbledore</td><td> 873</td><td>6.773080</td></tr>\n",
              "\t<tr><td>ron       </td><td> 791</td><td>6.674561</td></tr>\n",
              "\t<tr><td>hermione  </td><td> 640</td><td>6.463029</td></tr>\n",
              "\t<tr><td>looked    </td><td> 335</td><td>5.817111</td></tr>\n",
              "\t<tr><td>slughorn  </td><td> 335</td><td>5.817111</td></tr>\n",
              "\t<tr><td>snape     </td><td> 327</td><td>5.793014</td></tr>\n",
              "\t<tr><td>malfoy    </td><td> 325</td><td>5.786897</td></tr>\n",
              "\t<tr><td>time      </td><td> 313</td><td>5.749393</td></tr>\n",
              "\t<tr><td>professor </td><td> 272</td><td>5.609472</td></tr>\n",
              "</tbody>\n",
              "</table>\n"
            ],
            "text/markdown": "\nA tibble: 10 × 3\n\n| word &lt;chr&gt; | n &lt;int&gt; | tfidf &lt;dbl&gt; |\n|---|---|---|\n| harry      | 2581 | 7.856320 |\n| dumbledore |  873 | 6.773080 |\n| ron        |  791 | 6.674561 |\n| hermione   |  640 | 6.463029 |\n| looked     |  335 | 5.817111 |\n| slughorn   |  335 | 5.817111 |\n| snape      |  327 | 5.793014 |\n| malfoy     |  325 | 5.786897 |\n| time       |  313 | 5.749393 |\n| professor  |  272 | 5.609472 |\n\n",
            "text/latex": "A tibble: 10 × 3\n\\begin{tabular}{lll}\n word & n & tfidf\\\\\n <chr> & <int> & <dbl>\\\\\n\\hline\n\t harry      & 2581 & 7.856320\\\\\n\t dumbledore &  873 & 6.773080\\\\\n\t ron        &  791 & 6.674561\\\\\n\t hermione   &  640 & 6.463029\\\\\n\t looked     &  335 & 5.817111\\\\\n\t slughorn   &  335 & 5.817111\\\\\n\t snape      &  327 & 5.793014\\\\\n\t malfoy     &  325 & 5.786897\\\\\n\t time       &  313 & 5.749393\\\\\n\t professor  &  272 & 5.609472\\\\\n\\end{tabular}\n",
            "text/plain": [
              "   word       n    tfidf   \n",
              "1  harry      2581 7.856320\n",
              "2  dumbledore  873 6.773080\n",
              "3  ron         791 6.674561\n",
              "4  hermione    640 6.463029\n",
              "5  looked      335 5.817111\n",
              "6  slughorn    335 5.817111\n",
              "7  snape       327 5.793014\n",
              "8  malfoy      325 5.786897\n",
              "9  time        313 5.749393\n",
              "10 professor   272 5.609472"
            ]
          },
          "metadata": {}
        }
      ]
    }
  ],
  "metadata": {
    "celltoolbar": "Create Assignment",
    "colab": {
      "provenance": [],
      "include_colab_link": true
    },
    "kernelspec": {
      "display_name": "R",
      "language": "R",
      "name": "ir"
    },
    "language_info": {
      "codemirror_mode": "r",
      "file_extension": ".r",
      "mimetype": "text/x-r-source",
      "name": "R",
      "pygments_lexer": "r",
      "version": "4.2.1"
    }
  },
  "nbformat": 4,
  "nbformat_minor": 0
}
