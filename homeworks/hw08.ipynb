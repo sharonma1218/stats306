{
  "cells": [
    {
      "cell_type": "markdown",
      "metadata": {
        "id": "view-in-github",
        "colab_type": "text"
      },
      "source": [
        "<a href=\"https://colab.research.google.com/github/sharonma1218/stats306/blob/main/homeworks/hw08.ipynb\" target=\"_parent\"><img src=\"https://colab.research.google.com/assets/colab-badge.svg\" alt=\"Open In Colab\"/></a>"
      ]
    },
    {
      "cell_type": "code",
      "execution_count": null,
      "metadata": {
        "deletable": false,
        "editable": false,
        "id": "1SPCENz_KDM-",
        "nbgrader": {
          "grade": false,
          "grade_id": "cell-d1761bfdb43c7ec3",
          "locked": true,
          "schema_version": 3,
          "solution": false
        },
        "vscode": {
          "languageId": "r"
        }
      },
      "outputs": [],
      "source": [
        "library(tidyverse)\n",
        "library(dplyr)\n",
        "library(stringr)\n",
        "library(lubridate)\n",
        "options(repr.plot.width=5, repr.plot.height=3)"
      ]
    },
    {
      "cell_type": "markdown",
      "metadata": {
        "deletable": false,
        "editable": false,
        "id": "6RuyPfWaABA8",
        "run_control": {
          "frozen": true
        }
      },
      "source": [
        "## Problem 1: March Madness"
      ]
    },
    {
      "cell_type": "markdown",
      "metadata": {
        "deletable": false,
        "editable": false,
        "id": "IgVzG5SYD_mn",
        "run_control": {
          "frozen": true
        }
      },
      "source": [
        "This month is [March Madness](https://en.wikipedia.org/wiki/NCAA_Division_I_men%27s_basketball_tournament). The following dataset contains March Madness results for the years 1985&mdash;2016:"
      ]
    },
    {
      "cell_type": "code",
      "execution_count": null,
      "metadata": {
        "deletable": false,
        "editable": false,
        "id": "YjW2idCoJWG3",
        "colab": {
          "base_uri": "https://localhost:8080/"
        },
        "outputId": "5217243a-4e54-429a-937b-42ea13176c8b"
      },
      "outputs": [
        {
          "output_type": "stream",
          "name": "stderr",
          "text": [
            "\u001b[1mRows: \u001b[22m\u001b[34m2050\u001b[39m \u001b[1mColumns: \u001b[22m\u001b[34m10\u001b[39m\n",
            "\u001b[36m──\u001b[39m \u001b[1mColumn specification\u001b[22m \u001b[36m────────────────────────────────────────────────────────\u001b[39m\n",
            "\u001b[1mDelimiter:\u001b[22m \",\"\n",
            "\u001b[31mchr\u001b[39m (6): Date, Round, Region, Winner, Loser, Overtime\n",
            "\u001b[32mdbl\u001b[39m (4): Winning Seed, Winning Score, Losing Seed, Losing Score\n",
            "\n",
            "\u001b[36mℹ\u001b[39m Use `spec()` to retrieve the full column specification for this data.\n",
            "\u001b[36mℹ\u001b[39m Specify the column types or set `show_col_types = FALSE` to quiet this message.\n"
          ]
        }
      ],
      "source": [
        "ncaa <- read_csv(\"https://datasets.stats306.org/ncaa.csv.gz\")"
      ]
    },
    {
      "cell_type": "markdown",
      "metadata": {
        "id": "b_bO8xEce4cE"
      },
      "source": [
        "(Note: this table is missing some data for various years, teams and rounds. For this exercise, assume the data are complete, and do not worry about any missing entries.)"
      ]
    },
    {
      "cell_type": "markdown",
      "metadata": {
        "deletable": false,
        "editable": false,
        "id": "CS_msQBUGUpd",
        "run_control": {
          "frozen": true
        }
      },
      "source": [
        "**1(a)** (2 pts) In 1985, Michigan made it to the Round of 32, before losing to Villanova. In 1989 Michigan won the national championship. Michigan also advanced to the national championship, but did not win, in 1992, 1993, and 2013.\n",
        "\n",
        "Make a plot showing how far Michigan advanced each year. In years where Michigan did not make the tournament at all, your plot should have a missing entry. Use a different color, fill, or marker to indicate years where Michigan won the national championship. \n",
        "\n",
        "Hints: \n",
        "\n",
        "- The same plot for Villanova could look like:\n",
        "\n",
        "- To find the furthest, i.e. _maximum_, round reached each year, convert `Round` to an ordered factor, and use `group_by` and `summarize` along with an appropriate summary function."
      ]
    },
    {
      "cell_type": "code",
      "source": [
        "# Solution:\n",
        "\n",
        "lvls<-c(\"Opening Round\",\"Round of 64\",\"Round of 32\",\"Sweet Sixteen\",\"Elite Eight\",\"National Semifinals\",\"National Championship\")\n",
        "ncaa$Round<-factor(ncaa$Round,levels=lvls)\n",
        "\n",
        "ncaa%>%\n",
        "  filter(Winner==\"Michigan\")%>%\n",
        "  mutate(Date=mdy(Date),year=year(Date))%>%\n",
        "  group_by(year,Winner)%>%\n",
        "  summarize(num_round=max(as.numeric(Round)))%>%\n",
        "  mutate(champ=if_else(num_round==7,\"Won Championship\",NA))%>%\n",
        "  ggplot(aes(x=year,y=num_round,fill=champ))+\n",
        "  geom_bar(stat=\"identity\")+\n",
        "  labs(title=\"March Madness Results: Michigan\",\n",
        "        x=\"Year\",\n",
        "        y=\"Furthest round reached\")+\n",
        "  theme_classic()+\n",
        "  theme(legend.title=element_blank())"
      ],
      "metadata": {
        "colab": {
          "base_uri": "https://localhost:8080/",
          "height": 233
        },
        "id": "4jwHbptBsl0x",
        "outputId": "533518df-8258-451a-9f8d-ac5a64a94c52"
      },
      "execution_count": null,
      "outputs": [
        {
          "output_type": "stream",
          "name": "stderr",
          "text": [
            "\u001b[1m\u001b[22m`summarise()` has grouped output by 'year'. You can override using the\n",
            "`.groups` argument.\n"
          ]
        },
        {
          "output_type": "display_data",
          "data": {
            "text/plain": [
              "plot without title"
            ],
            "image/png": "[encoded data removed]"
          },
          "metadata": {
            "image/png": {
              "width": 300,
              "height": 180
            }
          }
        }
      ]
    },
    {
      "cell_type": "markdown",
      "metadata": {
        "id": "qDSJ0vJZ2_dR"
      },
      "source": [
        "**1(b)** (2 points)\n",
        "A [_Cinderella story_](https://www.ncaa.com/news/basketball-men/article/2021-03-01/11-greatest-march-madness-cinderella-stories) is a low-seeded team that goes deep in the NCAA tournament. For example, in 1986, the number 11 seed, Lousiana State, beat the number 6, 3, 2, and 1 seeds in succession, before ultimately losing in the semifinals:\n",
        "\n",
        "```\n",
        "# A tibble: 5 × 6\n",
        "  Date       Round               Winner          `Winning Seed` Loser    Losin…¹\n",
        "  <date>     <chr>               <chr>                    <dbl> <chr>      <dbl>\n",
        "1 1986-03-13 Round of 64         Louisiana State             11 Purdue         6\n",
        "2 1986-03-15 Round of 32         Louisiana State             11 Memphis        3\n",
        "3 1986-03-20 Sweet Sixteen       Louisiana State             11 Georgia…       2\n",
        "4 1986-03-22 Elite Eight         Louisiana State             11 Kentucky       1\n",
        "5 1986-03-29 National Semifinals Louisville                   2 Louisia…      11\n",
        "# … with abbreviated variable name ¹​`Losing Seed`\n",
        "```"
      ]
    },
    {
      "cell_type": "markdown",
      "metadata": {
        "deletable": false,
        "editable": false,
        "run_control": {
          "frozen": true
        },
        "id": "5JVF58jhe4cG"
      },
      "source": [
        "Define a team's \"Cinderella index\" to be the difference in seeding between the winning and losing team for each game that the team _won_. For example, the Cinderella index for the 1986 Louisiana State team shown above is $5 + 8 + 9 + 10 = 32$.\n",
        "\n",
        "Make a plot showing the top ten teams with the highest Cinderella index.\n",
        "\n",
        "Hint: the team with the highest Cinderella index is Lousiana State, 1986. The team with the second-highest is Villanova, 1985. There are actually 12 teams in the top 10 due to some ties."
      ]
    },
    {
      "cell_type": "code",
      "source": [
        "# Solution: \n",
        "ncaa%>%\n",
        "  select(Date,Round,Winner,\"Winning Seed\",Loser,\"Losing Seed\")%>%\n",
        "  rename(winning_seed=\"Winning Seed\",losing_seed=\"Losing Seed\")%>%\n",
        "  mutate(CI=winning_seed-losing_seed)%>%\n",
        "  filter(CI>0)%>%\n",
        "  group_by(Winner)%>%\n",
        "  summarize(sum_CI=sum(CI))%>%\n",
        "  arrange(desc(sum_CI))%>%\n",
        "  top_n(12)"
      ],
      "metadata": {
        "colab": {
          "base_uri": "https://localhost:8080/",
          "height": 492
        },
        "id": "uo-g5kl2pnEq",
        "outputId": "44a7d49c-e446-401d-97c9-c2e70d77f167"
      },
      "execution_count": null,
      "outputs": [
        {
          "output_type": "stream",
          "name": "stderr",
          "text": [
            "\u001b[1m\u001b[22mSelecting by sum_CI\n"
          ]
        },
        {
          "output_type": "display_data",
          "data": {
            "text/html": [
              "<table class=\"dataframe\">\n",
              "<caption>A tibble: 12 × 2</caption>\n",
              "<thead>\n",
              "\t<tr><th scope=col>Winner</th><th scope=col>sum_CI</th></tr>\n",
              "\t<tr><th scope=col>&lt;chr&gt;</th><th scope=col>&lt;dbl&gt;</th></tr>\n",
              "</thead>\n",
              "<tbody>\n",
              "\t<tr><td>Louisiana State      </td><td>55</td></tr>\n",
              "\t<tr><td>Villanova            </td><td>53</td></tr>\n",
              "\t<tr><td>Gonzaga              </td><td>52</td></tr>\n",
              "\t<tr><td>Richmond             </td><td>48</td></tr>\n",
              "\t<tr><td>Butler               </td><td>44</td></tr>\n",
              "\t<tr><td>Kentucky             </td><td>44</td></tr>\n",
              "\t<tr><td>Xavier, Ohio         </td><td>40</td></tr>\n",
              "\t<tr><td>Virginia Commonwealth</td><td>39</td></tr>\n",
              "\t<tr><td>Tulsa                </td><td>38</td></tr>\n",
              "\t<tr><td>Temple               </td><td>37</td></tr>\n",
              "\t<tr><td>Auburn               </td><td>35</td></tr>\n",
              "\t<tr><td>North Carolina State </td><td>35</td></tr>\n",
              "</tbody>\n",
              "</table>\n"
            ],
            "text/markdown": "\nA tibble: 12 × 2\n\n| Winner &lt;chr&gt; | sum_CI &lt;dbl&gt; |\n|---|---|\n| Louisiana State       | 55 |\n| Villanova             | 53 |\n| Gonzaga               | 52 |\n| Richmond              | 48 |\n| Butler                | 44 |\n| Kentucky              | 44 |\n| Xavier, Ohio          | 40 |\n| Virginia Commonwealth | 39 |\n| Tulsa                 | 38 |\n| Temple                | 37 |\n| Auburn                | 35 |\n| North Carolina State  | 35 |\n\n",
            "text/latex": "A tibble: 12 × 2\n\\begin{tabular}{ll}\n Winner & sum\\_CI\\\\\n <chr> & <dbl>\\\\\n\\hline\n\t Louisiana State       & 55\\\\\n\t Villanova             & 53\\\\\n\t Gonzaga               & 52\\\\\n\t Richmond              & 48\\\\\n\t Butler                & 44\\\\\n\t Kentucky              & 44\\\\\n\t Xavier, Ohio          & 40\\\\\n\t Virginia Commonwealth & 39\\\\\n\t Tulsa                 & 38\\\\\n\t Temple                & 37\\\\\n\t Auburn                & 35\\\\\n\t North Carolina State  & 35\\\\\n\\end{tabular}\n",
            "text/plain": [
              "   Winner                sum_CI\n",
              "1  Louisiana State       55    \n",
              "2  Villanova             53    \n",
              "3  Gonzaga               52    \n",
              "4  Richmond              48    \n",
              "5  Butler                44    \n",
              "6  Kentucky              44    \n",
              "7  Xavier, Ohio          40    \n",
              "8  Virginia Commonwealth 39    \n",
              "9  Tulsa                 38    \n",
              "10 Temple                37    \n",
              "11 Auburn                35    \n",
              "12 North Carolina State  35    "
            ]
          },
          "metadata": {}
        }
      ]
    },
    {
      "cell_type": "markdown",
      "metadata": {
        "deletable": false,
        "editable": false,
        "id": "dJDYVm6qGBfc",
        "run_control": {
          "frozen": true
        }
      },
      "source": [
        "## Problem 2\n",
        "The file `tweets.txt.gz` contains tweets from June, 2009. The file is in a special format. The first few lines are:"
      ]
    },
    {
      "cell_type": "code",
      "execution_count": null,
      "metadata": {
        "id": "uLMQlmrJGHEh",
        "colab": {
          "base_uri": "https://localhost:8080/"
        },
        "outputId": "7bacba4e-f890-4dac-bc0f-4ed11ce2298d"
      },
      "outputs": [
        {
          "output_type": "stream",
          "name": "stdout",
          "text": [
            "\n",
            "\n",
            "\n",
            "\n",
            "\n",
            "\n",
            "\n",
            "<!DOCTYPE html>\n",
            "<html lang=\"en\" data-color-mode=\"auto\" data-light-theme=\"light\" data-dark-theme=\"dark\" data-a11y-animated-images=\"system\">\n",
            "  <head>\n",
            "    <meta charset=\"utf-8\">\n"
          ]
        }
      ],
      "source": [
        "download.file(\"https://github.com/stats306/w23/tree/main/homeworks/hw8/tweets.txt.gz\", \"tweets.txt.gz\")\n",
        "readLines(\"tweets.txt.gz\", n = 11) %>% writeLines"
      ]
    },
    {
      "cell_type": "markdown",
      "metadata": {
        "deletable": false,
        "editable": false,
        "id": "PB2CayssGf7u",
        "run_control": {
          "frozen": true
        }
      },
      "source": [
        "Each datum consists of a triple of lines marked `T`, `U` and `W` containing the time of the tweet, the user, and the message itself, respectively. Each triple is separated by an empty line."
      ]
    },
    {
      "cell_type": "markdown",
      "metadata": {
        "deletable": false,
        "editable": false,
        "id": "fB7AeyDaGoU9",
        "run_control": {
          "frozen": true
        }
      },
      "source": [
        "**2(a) (0.5 point)**\n",
        "Read `tweets.txt.gz` in and store it as an R data frame/tibble called `tweets1`. It should have two character columns and 1.03m rows:\n",
        "```{r}\n",
        "# A tibble: 1,039,879 × 2\n",
        "   X1    X2                                                                     \n",
        "   <chr> <chr>                                                                  \n",
        " 1 T     \"2009-06-11 00:00:03\"                                                  \n",
        " 2 U     \"http://twitter.com/imdb\"                                              \n",
        " 3 W     \"No Post Title\"                                                        \n",
        " 4 T     \"2009-06-11 16:37:14\"                                                  \n",
        " 5 U     \"http://twitter.com/ncruralhealth\"                                     \n",
        " 6 W     \"No Post Title\"                                                        \n",
        " 7 T     \"2009-06-11 16:56:23\"                                                  \n",
        " 8 U     \"http://twitter.com/boydjones\"                                         \n",
        " 9 W     \"listening to \\\"Big Lizard - The Dead Milkmen\\\" ♫ http://blip.fm/~81kw…\n",
        "10 T     \"2009-06-11 16:56:59\"                                                  \n",
        "# … with 1,039,869 more rows\n",
        "```\n",
        "(**Hint**: The `.gz` file extension indicates that this file is compressed to save space. You can load the table using the **usual `tidyverse` table loading commands**, as if it were a regular text file."
      ]
    },
    {
      "cell_type": "code",
      "source": [
        "# Solution: \n",
        "tweets1<-read_tsv(\"https://raw.githubusercontent.com/stats306/w23/main/homeworks/hw8/tweets.txt.gz\",col_names = FALSE)\n",
        "tweets1%>%\n",
        "  print"
      ],
      "metadata": {
        "colab": {
          "base_uri": "https://localhost:8080/"
        },
        "id": "GhIeylLGVYLk",
        "outputId": "d86fcec3-30cd-4a69-f4e4-6f1cfe93a6da"
      },
      "execution_count": null,
      "outputs": [
        {
          "output_type": "stream",
          "name": "stderr",
          "text": [
            "\u001b[1mRows: \u001b[22m\u001b[34m1039879\u001b[39m \u001b[1mColumns: \u001b[22m\u001b[34m2\u001b[39m\n",
            "\u001b[36m──\u001b[39m \u001b[1mColumn specification\u001b[22m \u001b[36m────────────────────────────────────────────────────────\u001b[39m\n",
            "\u001b[1mDelimiter:\u001b[22m \"\\t\"\n",
            "\u001b[31mchr\u001b[39m (2): X1, X2\n",
            "\n",
            "\u001b[36mℹ\u001b[39m Use `spec()` to retrieve the full column specification for this data.\n",
            "\u001b[36mℹ\u001b[39m Specify the column types or set `show_col_types = FALSE` to quiet this message.\n"
          ]
        },
        {
          "output_type": "stream",
          "name": "stdout",
          "text": [
            "\u001b[90m# A tibble: 1,039,879 × 2\u001b[39m\n",
            "   X1    X2                                                                     \n",
            "   \u001b[3m\u001b[90m<chr>\u001b[39m\u001b[23m \u001b[3m\u001b[90m<chr>\u001b[39m\u001b[23m                                                                  \n",
            "\u001b[90m 1\u001b[39m T     \u001b[90m\"\u001b[39m2009-06-11 00:00:03\u001b[90m\"\u001b[39m                                                  \n",
            "\u001b[90m 2\u001b[39m U     \u001b[90m\"\u001b[39mhttp://twitter.com/imdb\u001b[90m\"\u001b[39m                                              \n",
            "\u001b[90m 3\u001b[39m W     \u001b[90m\"\u001b[39mNo Post Title\u001b[90m\"\u001b[39m                                                        \n",
            "\u001b[90m 4\u001b[39m T     \u001b[90m\"\u001b[39m2009-06-11 16:37:14\u001b[90m\"\u001b[39m                                                  \n",
            "\u001b[90m 5\u001b[39m U     \u001b[90m\"\u001b[39mhttp://twitter.com/ncruralhealth\u001b[90m\"\u001b[39m                                     \n",
            "\u001b[90m 6\u001b[39m W     \u001b[90m\"\u001b[39mNo Post Title\u001b[90m\"\u001b[39m                                                        \n",
            "\u001b[90m 7\u001b[39m T     \u001b[90m\"\u001b[39m2009-06-11 16:56:23\u001b[90m\"\u001b[39m                                                  \n",
            "\u001b[90m 8\u001b[39m U     \u001b[90m\"\u001b[39mhttp://twitter.com/boydjones\u001b[90m\"\u001b[39m                                         \n",
            "\u001b[90m 9\u001b[39m W     \u001b[90m\"\u001b[39mlistening to \\\"Big Lizard - The Dead Milkmen\\\" ♫ http://blip.fm/~81kw…\n",
            "\u001b[90m10\u001b[39m T     \u001b[90m\"\u001b[39m2009-06-11 16:56:59\u001b[90m\"\u001b[39m                                                  \n",
            "\u001b[90m# … with 1,039,869 more rows\u001b[39m\n"
          ]
        }
      ]
    },
    {
      "cell_type": "markdown",
      "metadata": {
        "deletable": false,
        "editable": false,
        "id": "WBpEubc3GuwA",
        "run_control": {
          "frozen": true
        }
      },
      "source": [
        "**2(b) (0.5 point)**\n",
        "Next, convert `tweets1` so that it has three columns reflecting the three variables present in this data set. Store the resulting table in a variable called `tweets2`. The first rows of `tweets2` will now look like:\n",
        "```\n",
        "# A tibble: 3 x 3\n",
        "  T                   U                                W                       \n",
        "  <chr>               <chr>                            <chr>                   \n",
        "1 2009-06-11 00:00:03 http://twitter.com/imdb          No Post Title           \n",
        "2 2009-06-11 16:37:14 http://twitter.com/ncruralhealth No Post Title           \n",
        "3 2009-06-11 16:56:23 http://twitter.com/boydjones     \"listening to \\\"Big Liz…\n",
        "```\n",
        "(*Hint*: If you are having trouble getting this working on the full data set, try subsetting the table to a small number of rows in order to debug your code. Most likely you will use a function which requires each tripplet T, U, W to have the same row index.)"
      ]
    },
    {
      "cell_type": "code",
      "execution_count": null,
      "metadata": {
        "id": "gPUCzjPCG1L7",
        "colab": {
          "base_uri": "https://localhost:8080/"
        },
        "outputId": "b81bd350-0984-495c-9e92-5803f6083632"
      },
      "outputs": [
        {
          "output_type": "stream",
          "name": "stdout",
          "text": [
            "\u001b[90m# A tibble: 346,627 × 4\u001b[39m\n",
            "     row T                   U                                W                 \n",
            "   \u001b[3m\u001b[90m<dbl>\u001b[39m\u001b[23m \u001b[3m\u001b[90m<chr>\u001b[39m\u001b[23m               \u001b[3m\u001b[90m<chr>\u001b[39m\u001b[23m                            \u001b[3m\u001b[90m<chr>\u001b[39m\u001b[23m             \n",
            "\u001b[90m 1\u001b[39m     1 2009-06-11 00:00:03 http://twitter.com/imdb          \u001b[90m\"\u001b[39mNo Post Title\u001b[90m\"\u001b[39m   \n",
            "\u001b[90m 2\u001b[39m     2 2009-06-11 16:37:14 http://twitter.com/ncruralhealth \u001b[90m\"\u001b[39mNo Post Title\u001b[90m\"\u001b[39m   \n",
            "\u001b[90m 3\u001b[39m     3 2009-06-11 16:56:23 http://twitter.com/boydjones     \u001b[90m\"\u001b[39mlistening to \\\"B…\n",
            "\u001b[90m 4\u001b[39m     4 2009-06-11 16:56:59 http://twitter.com/cameron987    \u001b[90m\"\u001b[39m@beatrizchavez A…\n",
            "\u001b[90m 5\u001b[39m     5 2009-06-11 16:57:03 http://twitter.com/selenato      \u001b[90m\"\u001b[39m@okaaaa 本当ね！…\n",
            "\u001b[90m 6\u001b[39m     6 2009-06-11 16:57:30 http://twitter.com/nbeasley10    \u001b[90m\"\u001b[39mJust got a chanc…\n",
            "\u001b[90m 7\u001b[39m     7 2009-06-11 16:57:31 http://twitter.com/littlewing333 \u001b[90m\"\u001b[39m@kidhum and if a…\n",
            "\u001b[90m 8\u001b[39m     8 2009-06-11 16:57:33 http://twitter.com/lolcute       \u001b[90m\"\u001b[39mmebbe U fetch ht…\n",
            "\u001b[90m 9\u001b[39m     9 2009-06-11 16:57:36 http://twitter.com/fr0st22       \u001b[90m\"\u001b[39mI have broken 1,…\n",
            "\u001b[90m10\u001b[39m    10 2009-06-11 16:57:59 http://twitter.com/mavellsyrup   \u001b[90m\"\u001b[39mFood timmeeee :'…\n",
            "\u001b[90m# … with 346,617 more rows\u001b[39m\n"
          ]
        }
      ],
      "source": [
        "# Solution \n",
        "tweets2<-tweets1%>%\n",
        "  mutate(row=ceiling(row_number()/3))%>% # divide by 3 b/c 3 types of variables (T,U,W) \n",
        "  pivot_wider(names_from=X1,values_from=X2)%>%\n",
        "  print"
      ]
    },
    {
      "cell_type": "markdown",
      "metadata": {
        "deletable": false,
        "editable": false,
        "id": "Q3et2QFPG2vh",
        "run_control": {
          "frozen": true
        }
      },
      "source": [
        "**2(c) (0.5 point)**\n",
        "Convert the `T` column to a properly formatted `datetime` object and give it (and the rest of the columns) an appropriate name. Also, strip off the leading `http://twitter.com/` from each user. Store the resulting table as `tweets3`. It will look like:\n",
        "```\n",
        "# A tibble: 346,627 × 3\n",
        "   time                user          tweet                                      \n",
        "   <dttm>              <chr>         <chr>                                      \n",
        " 1 2009-06-11 00:00:03 imdb          \"No Post Title\"                            \n",
        " 2 2009-06-11 16:37:14 ncruralhealth \"No Post Title\"                            \n",
        " 3 2009-06-11 16:56:23 boydjones     \"listening to \\\"Big Lizard - The Dead Milk…\n",
        " 4 2009-06-11 16:56:59 cameron987    \"@beatrizchavez A dork? NO way... you are.…\n",
        " 5 2009-06-11 16:57:03 selenato      \"@okaaaa 本当ね！2週間楽しみがありすぎわ、…\n",
        " 6 2009-06-11 16:57:30 nbeasley10    \"Just got a chance to buy All-Star tickets…\n",
        " 7 2009-06-11 16:57:31 littlewing333 \"@kidhum and if an act has pull and they d…\n",
        " 8 2009-06-11 16:57:33 lolcute       \"mebbe U fetch http://tinyurl.com/nz4fbr\"  \n",
        " 9 2009-06-11 16:57:36 fr0st22       \"I have broken 1,000 twitter updates. Paaa…\n",
        "10 2009-06-11 16:57:59 mavellsyrup   \"Food timmeeee :'D\"                        \n",
        "# … with 346,617 more rows\n",
        "```"
      ]
    },
    {
      "cell_type": "code",
      "execution_count": null,
      "metadata": {
        "id": "sNbaJNtpG_Q4",
        "colab": {
          "base_uri": "https://localhost:8080/"
        },
        "outputId": "76e0e49d-90ec-4982-d9a2-1aa60600fd92"
      },
      "outputs": [
        {
          "output_type": "stream",
          "name": "stdout",
          "text": [
            "\u001b[90m# A tibble: 346,627 × 3\u001b[39m\n",
            "   time                user          tweet                                      \n",
            "   \u001b[3m\u001b[90m<dttm>\u001b[39m\u001b[23m              \u001b[3m\u001b[90m<chr>\u001b[39m\u001b[23m         \u001b[3m\u001b[90m<chr>\u001b[39m\u001b[23m                                      \n",
            "\u001b[90m 1\u001b[39m 2009-06-11 \u001b[90m00:00:03\u001b[39m imdb          \u001b[90m\"\u001b[39mNo Post Title\u001b[90m\"\u001b[39m                            \n",
            "\u001b[90m 2\u001b[39m 2009-06-11 \u001b[90m16:37:14\u001b[39m ncruralhealth \u001b[90m\"\u001b[39mNo Post Title\u001b[90m\"\u001b[39m                            \n",
            "\u001b[90m 3\u001b[39m 2009-06-11 \u001b[90m16:56:23\u001b[39m boydjones     \u001b[90m\"\u001b[39mlistening to \\\"Big Lizard - The Dead Milk…\n",
            "\u001b[90m 4\u001b[39m 2009-06-11 \u001b[90m16:56:59\u001b[39m cameron987    \u001b[90m\"\u001b[39m@beatrizchavez A dork? NO way... you are.…\n",
            "\u001b[90m 5\u001b[39m 2009-06-11 \u001b[90m16:57:03\u001b[39m selenato      \u001b[90m\"\u001b[39m@okaaaa 本当ね！2週間楽しみがありすぎわ、…\n",
            "\u001b[90m 6\u001b[39m 2009-06-11 \u001b[90m16:57:30\u001b[39m nbeasley10    \u001b[90m\"\u001b[39mJust got a chance to buy All-Star tickets…\n",
            "\u001b[90m 7\u001b[39m 2009-06-11 \u001b[90m16:57:31\u001b[39m littlewing333 \u001b[90m\"\u001b[39m@kidhum and if an act has pull and they d…\n",
            "\u001b[90m 8\u001b[39m 2009-06-11 \u001b[90m16:57:33\u001b[39m lolcute       \u001b[90m\"\u001b[39mmebbe U fetch http://tinyurl.com/nz4fbr\u001b[90m\"\u001b[39m  \n",
            "\u001b[90m 9\u001b[39m 2009-06-11 \u001b[90m16:57:36\u001b[39m fr0st22       \u001b[90m\"\u001b[39mI have broken 1,000 twitter updates. Paaa…\n",
            "\u001b[90m10\u001b[39m 2009-06-11 \u001b[90m16:57:59\u001b[39m mavellsyrup   \u001b[90m\"\u001b[39mFood timmeeee :'D\u001b[90m\"\u001b[39m                        \n",
            "\u001b[90m# … with 346,617 more rows\u001b[39m\n"
          ]
        }
      ],
      "source": [
        "# Solution: \n",
        "tweets3<-tweets2%>%\n",
        "  mutate(time=ymd_hms(T),user=U,tweet=W)%>%\n",
        "  select(time,user,tweet)%>%\n",
        "  mutate(user=str_remove_all(user,\"http://twitter.com/\"))%>%\n",
        "  print"
      ]
    },
    {
      "cell_type": "markdown",
      "metadata": {
        "id": "ji7X4G-TG794"
      },
      "source": [
        "**2(d) (1 point)**\n",
        "Create a plot that shows the tweet volume for each day of June 2009. For what **day of the month** was there the largest volume of tweets? Can you give an explanation for what caused this spike?\n",
        "\n",
        "*Hint*: Try reading tweets on the day of highest volume around 11:00PM, and/or Google the date."
      ]
    },
    {
      "cell_type": "code",
      "execution_count": null,
      "metadata": {
        "id": "ASqLc1ziHBsG",
        "colab": {
          "base_uri": "https://localhost:8080/",
          "height": 197
        },
        "outputId": "d5614d5e-8833-4ded-b0ba-fd318a1cb646"
      },
      "outputs": [
        {
          "output_type": "display_data",
          "data": {
            "text/plain": [
              "plot without title"
            ],
            "image/png": "[encoded data removed]"
          },
          "metadata": {
            "image/png": {
              "width": 300,
              "height": 180
            }
          }
        }
      ],
      "source": [
        "# Solution: \n",
        "tweets3%>%\n",
        "  mutate(day=day(time))%>%\n",
        "  group_by(day)%>%\n",
        "  summarize(n=n())%>%\n",
        "  ggplot(aes(x=day,y=n))+\n",
        "  geom_bar(stat=\"identity\")+\n",
        "  labs(title=\"Tweet Volume in June 2009\",\n",
        "        x=\"Days\",\n",
        "        y=\"# of Tweets\")+\n",
        "  theme_classic()\n",
        "# The largest vol of tweets occurred on June 25, 2009; probably due to the deaths of Michael Jackson and Farrah Fawcett.  "
      ]
    },
    {
      "cell_type": "markdown",
      "metadata": {
        "id": "ctqC29ScHDIh"
      },
      "source": [
        "**2(e) (1 points)** One of the reason for the spike in 2(d) was related to a public figure in the music industry. On the day of highest volume in 2(d), what is the percentage of tweets that mentioned either **their first or last name**?"
      ]
    },
    {
      "cell_type": "code",
      "execution_count": null,
      "metadata": {
        "id": "ajo4NHNKLrz4",
        "colab": {
          "base_uri": "https://localhost:8080/",
          "height": 129
        },
        "outputId": "bf6e447d-555b-4d73-9f61-07fe8117ed7d"
      },
      "outputs": [
        {
          "output_type": "display_data",
          "data": {
            "text/html": [
              "<table class=\"dataframe\">\n",
              "<caption>A tibble: 1 × 2</caption>\n",
              "<thead>\n",
              "\t<tr><th scope=col>day</th><th scope=col>mean(mentioned)</th></tr>\n",
              "\t<tr><th scope=col>&lt;int&gt;</th><th scope=col>&lt;dbl&gt;</th></tr>\n",
              "</thead>\n",
              "<tbody>\n",
              "\t<tr><td>25</td><td>0.02205723</td></tr>\n",
              "</tbody>\n",
              "</table>\n"
            ],
            "text/markdown": "\nA tibble: 1 × 2\n\n| day &lt;int&gt; | mean(mentioned) &lt;dbl&gt; |\n|---|---|\n| 25 | 0.02205723 |\n\n",
            "text/latex": "A tibble: 1 × 2\n\\begin{tabular}{ll}\n day & mean(mentioned)\\\\\n <int> & <dbl>\\\\\n\\hline\n\t 25 & 0.02205723\\\\\n\\end{tabular}\n",
            "text/plain": [
              "  day mean(mentioned)\n",
              "1 25  0.02205723     "
            ]
          },
          "metadata": {}
        }
      ],
      "source": [
        "# Solution: \n",
        "tweets3%>%\n",
        "  mutate(day=day(time))%>%\n",
        "  filter(day==25)%>%\n",
        "  mutate(mentioned=if_else(str_detect(tweet,\"Michael|Jackson\"),1,0))%>%\n",
        "  group_by(day)%>%\n",
        "  summarize(mean(mentioned))\n",
        "# 2% of the tweets on June 25, 2009 mentioned either their first or last name."
      ]
    },
    {
      "cell_type": "markdown",
      "metadata": {
        "deletable": false,
        "editable": false,
        "id": "qUtlpiTQHG9j",
        "run_control": {
          "frozen": true
        }
      },
      "source": [
        "# Challenge Problem: Writing a function\n",
        "\n",
        "(2 points) A few weeks ago, the university announced that it was pushing the start of the winter semester [back by one week](https://www.michigandaily.com/news/administration/board-of-regents-approves-extended-winter-break/) to January 10, 2024. Assume that the winter semester will always begin on the second Wednesday in January. Write a function called `winter_start_date(year)` which takes a year and returns the date on which winter classes will commence:\n",
        "\n",
        "    > winter_start_date(2024)\n",
        "    2024-01-10\n",
        "    > winter_start_date(3024)\n",
        "    3024-01-14"
      ]
    },
    {
      "cell_type": "code",
      "source": [
        "# Solution:\n",
        "\n",
        "winter_start_date=function(x){\n",
        "data.frame(\n",
        "  year=rep(x,31),\n",
        "  month=rep(1,31),\n",
        "  day=seq(1,31)\n",
        ")%>%\n",
        "  unite(col=\"combined\",c(\"year\",\"month\",\"day\"),sep=\"-\")%>%\n",
        "  mutate(dates=ymd(combined))%>% # also mutate(date_time=as.Date(paste0(year,\"-\",month,\"-\",day)))\n",
        "  mutate(wkday=wday(dates))%>% # 1=sunday,7=saturday\n",
        "  filter(wkday==4)%>%\n",
        "  select(dates)%>%\n",
        "  slice(2)\n",
        "}\n",
        "\n",
        "winter_start_date(2024)\n",
        "\n",
        "winter_start_date(3024)"
      ],
      "metadata": {
        "colab": {
          "base_uri": "https://localhost:8080/",
          "height": 277
        },
        "id": "VllkWbhjkUSK",
        "outputId": "cf2fa7a8-1f3c-4947-ce7b-536bd2f1e54f"
      },
      "execution_count": null,
      "outputs": [
        {
          "output_type": "display_data",
          "data": {
            "text/html": [
              "<table class=\"dataframe\">\n",
              "<caption>A data.frame: 1 × 1</caption>\n",
              "<thead>\n",
              "\t<tr><th scope=col>dates</th></tr>\n",
              "\t<tr><th scope=col>&lt;date&gt;</th></tr>\n",
              "</thead>\n",
              "<tbody>\n",
              "\t<tr><td>2024-01-10</td></tr>\n",
              "</tbody>\n",
              "</table>\n"
            ],
            "text/markdown": "\nA data.frame: 1 × 1\n\n| dates &lt;date&gt; |\n|---|\n| 2024-01-10 |\n\n",
            "text/latex": "A data.frame: 1 × 1\n\\begin{tabular}{l}\n dates\\\\\n <date>\\\\\n\\hline\n\t 2024-01-10\\\\\n\\end{tabular}\n",
            "text/plain": [
              "  dates     \n",
              "1 2024-01-10"
            ]
          },
          "metadata": {}
        },
        {
          "output_type": "display_data",
          "data": {
            "text/html": [
              "<table class=\"dataframe\">\n",
              "<caption>A data.frame: 1 × 1</caption>\n",
              "<thead>\n",
              "\t<tr><th scope=col>dates</th></tr>\n",
              "\t<tr><th scope=col>&lt;date&gt;</th></tr>\n",
              "</thead>\n",
              "<tbody>\n",
              "\t<tr><td>3024-01-14</td></tr>\n",
              "</tbody>\n",
              "</table>\n"
            ],
            "text/markdown": "\nA data.frame: 1 × 1\n\n| dates &lt;date&gt; |\n|---|\n| 3024-01-14 |\n\n",
            "text/latex": "A data.frame: 1 × 1\n\\begin{tabular}{l}\n dates\\\\\n <date>\\\\\n\\hline\n\t 3024-01-14\\\\\n\\end{tabular}\n",
            "text/plain": [
              "  dates     \n",
              "1 3024-01-14"
            ]
          },
          "metadata": {}
        }
      ]
    }
  ],
  "metadata": {
    "celltoolbar": "Create Assignment",
    "colab": {
      "provenance": [],
      "include_colab_link": true
    },
    "kernelspec": {
      "display_name": "R",
      "language": "R",
      "name": "ir"
    },
    "language_info": {
      "codemirror_mode": "r",
      "file_extension": ".r",
      "mimetype": "text/x-r-source",
      "name": "R",
      "pygments_lexer": "r",
      "version": "4.2.1"
    }
  },
  "nbformat": 4,
  "nbformat_minor": 0
}