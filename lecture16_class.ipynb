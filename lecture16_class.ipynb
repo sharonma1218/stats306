{
  "cells": [
    {
      "cell_type": "markdown",
      "metadata": {
        "id": "view-in-github",
        "colab_type": "text"
      },
      "source": [
        "<a href=\"https://colab.research.google.com/github/sharonma1218/stats306/blob/main/lecture16_class.ipynb\" target=\"_parent\"><img src=\"https://colab.research.google.com/assets/colab-badge.svg\" alt=\"Open In Colab\"/></a>"
      ]
    },
    {
      "cell_type": "markdown",
      "metadata": {
        "id": "XlOf9RFL1GTi"
      },
      "source": [
        "# Lecture 16: Writing Functions in R\n",
        "<div style=\"border: 1px double black; padding: 10px; margin: 10px\">\n",
        "\n",
        "**After today's lecture you will understand:**\n",
        "* How to write functions in R\n",
        "</div>\n",
        "\n",
        "These notes correspond to Chapter 26 of the book.\n",
        "\n",
        "\n",
        "\n"
      ]
    },
    {
      "cell_type": "code",
      "execution_count": 1,
      "metadata": {
        "colab": {
          "base_uri": "https://localhost:8080/"
        },
        "id": "LNaTvkfD1GTn",
        "outputId": "499db3e9-25e6-416f-86ec-901542ef98ad"
      },
      "outputs": [
        {
          "output_type": "stream",
          "name": "stderr",
          "text": [
            "Warning message in system(\"timedatectl\", intern = TRUE):\n",
            "“running command 'timedatectl' had status 1”\n",
            "── \u001b[1mAttaching packages\u001b[22m ─────────────────────────────────────── tidyverse 1.3.1 ──\n",
            "\n",
            "\u001b[32m✔\u001b[39m \u001b[34mggplot2\u001b[39m 3.4.1     \u001b[32m✔\u001b[39m \u001b[34mpurrr  \u001b[39m 1.0.1\n",
            "\u001b[32m✔\u001b[39m \u001b[34mtibble \u001b[39m 3.2.0     \u001b[32m✔\u001b[39m \u001b[34mdplyr  \u001b[39m 1.1.0\n",
            "\u001b[32m✔\u001b[39m \u001b[34mtidyr  \u001b[39m 1.3.0     \u001b[32m✔\u001b[39m \u001b[34mstringr\u001b[39m 1.4.1\n",
            "\u001b[32m✔\u001b[39m \u001b[34mreadr  \u001b[39m 2.1.4     \u001b[32m✔\u001b[39m \u001b[34mforcats\u001b[39m 1.0.0\n",
            "\n",
            "── \u001b[1mConflicts\u001b[22m ────────────────────────────────────────── tidyverse_conflicts() ──\n",
            "\u001b[31m✖\u001b[39m \u001b[34mdplyr\u001b[39m::\u001b[32mfilter()\u001b[39m masks \u001b[34mstats\u001b[39m::filter()\n",
            "\u001b[31m✖\u001b[39m \u001b[34mdplyr\u001b[39m::\u001b[32mlag()\u001b[39m    masks \u001b[34mstats\u001b[39m::lag()\n",
            "\n",
            "Downloading GitHub repo bradleyboehmke/harrypotter@HEAD\n",
            "\n"
          ]
        },
        {
          "output_type": "stream",
          "name": "stdout",
          "text": [
            "\u001b[36m──\u001b[39m \u001b[36mR CMD build\u001b[39m \u001b[36m─────────────────────────────────────────────────────────────────\u001b[39m\n",
            "* checking for file ‘/tmp/RtmpPhpyYN/remotes1f118636c09/bradleyboehmke-harrypotter-51f7146/DESCRIPTION’ ... OK\n",
            "* preparing ‘harrypotter’:\n",
            "* checking DESCRIPTION meta-information ... OK\n",
            "* checking for LF line-endings in source and make files and shell scripts\n",
            "* checking for empty or unneeded directories\n",
            "* building ‘harrypotter_0.1.0.tar.gz’\n",
            "\n"
          ]
        },
        {
          "output_type": "stream",
          "name": "stderr",
          "text": [
            "Installing package into ‘/usr/local/lib/R/site-library’\n",
            "(as ‘lib’ is unspecified)\n",
            "\n",
            "Installing package into ‘/usr/local/lib/R/site-library’\n",
            "(as ‘lib’ is unspecified)\n",
            "\n",
            "also installing the dependencies ‘Rcpp’, ‘SnowballC’, ‘janeaustenr’, ‘tokenizers’\n",
            "\n",
            "\n"
          ]
        }
      ],
      "source": [
        "library(tidyverse)\n",
        "remotes::install_github(\"bradleyboehmke/harrypotter\")\n",
        "install.packages(\"tidytext\")\n",
        "library(harrypotter)\n",
        "library(tidytext)\n",
        "load(url('https://datasets.stats306.org/afinn.RData'))"
      ]
    },
    {
      "cell_type": "markdown",
      "metadata": {
        "id": "6ExfqTZandop"
      },
      "source": [
        "## Why get better at programming?\n",
        "\n",
        "This week we will learn how to become better R programmers, by studying functions and iteration. The goal is to learn how to write code that is simulataneously:\n",
        "- Easier to read;\n",
        "- Less buggy;\n",
        "- More enjoyable to write;\n",
        "- More efficient."
      ]
    },
    {
      "cell_type": "markdown",
      "metadata": {
        "id": "j0bPmzIOndop"
      },
      "source": [
        "## Example from HW7\n",
        "\n",
        "<pre style=\"font-size: 8px; line-height: 1;\">\n",
        "chamber_tibble<-tibble(chapter=seq_along(chamber_of_secrets), text=chamber_of_secrets)%>%\n",
        "  unnest_tokens(input=text, output=word)%>%\n",
        "  left_join(afinn)%>%\n",
        "  filter(!is.na(value))%>%\n",
        "  group_by(chapter)%>%\n",
        "  summarize(mean_sentiment_value=mean(value,na.rm=T))%>%\n",
        "  mutate(book=\"2.chamber_of_secrets\")\n",
        "\n",
        "prisoner_tibble<-tibble(chapter=seq_along(prisoner_of_azkaban), text=prisoner_of_azkaban)%>%\n",
        "  unnest_tokens(input=text, output=word)%>%\n",
        "  left_join(afinn)%>%\n",
        "  filter(!is.na(value))%>%\n",
        "  group_by(chapter)%>%\n",
        "  summarize(mean_sentiment_value=mean(value,na.rm=T))%>%\n",
        "  mutate(book=\"3.prisoner_of_azkaban\")\n",
        "\n",
        "goblet_tibble<-tibble(chapter=seq_along(goblet_of_fire), text=goblet_of_fire)%>%\n",
        "  unnest_tokens(input=text, output=word)%>%\n",
        "  left_join(afinn)%>%\n",
        "  filter(!is.na(value))%>%\n",
        "  group_by(chapter)%>%\n",
        "  summarize(mean_sentiment_value=mean(value,na.rm=T))%>%\n",
        "  mutate(book=\"4.goblet_of_fire\")\n",
        "\n",
        "phoenix_tibble<-tibble(chapter=seq_along(order_of_the_phoenix), text=order_of_the_phoenix)%>%\n",
        "  unnest_tokens(input=text, output=word)%>%\n",
        "  left_join(afinn)%>%\n",
        "  filter(!is.na(value))%>%\n",
        "  group_by(chapter)%>%\n",
        "  summarize(mean_sentiment_value=mean(value,na.rm=T))%>%\n",
        "  mutate(book=\"5.order_of_the_phoenix\")\n",
        "\n",
        "prince_tibble<-tibble(chapter=seq_along(half_blood_prince), text=half_blood_prince)%>%\n",
        "  unnest_tokens(input=text, output=word)%>%\n",
        "  left_join(afinn)%>%\n",
        "  filter(!is.na(value))%>%\n",
        "  group_by(chapter)%>%\n",
        "  summarize(mean_sentiment_value=mean(value,na.rm=T))%>%\n",
        "  mutate(book=\"6.half_blood_prince\")\n",
        "\n",
        "hallows_tibble<-tibble(chapter=seq_along(deathly_hallows), text=deathly_hallows)%>%\n",
        "  unnest_tokens(input=text, output=word)%>%\n",
        "  left_join(afinn)%>%\n",
        "  filter(!is.na(value))%>%\n",
        "  group_by(chapter)%>%\n",
        "  summarize(mean_sentiment_value=mean(value,na.rm=T))%>%\n",
        "  mutate(book=\"7.deathly_hallows\")\n",
        "</pre>"
      ]
    },
    {
      "cell_type": "code",
      "execution_count": null,
      "metadata": {
        "id": "hEnDR9CYndoq",
        "outputId": "6f77c683-766e-4e1c-8aed-3cc462561719"
      },
      "outputs": [
        {
          "name": "stderr",
          "output_type": "stream",
          "text": [
            "\u001b[1m\u001b[22mJoining with `by = join_by(word)`\n"
          ]
        },
        {
          "data": {
            "text/html": [
              "<table class=\"dataframe\">\n",
              "<caption>A tibble: 5 × 3</caption>\n",
              "<thead>\n",
              "\t<tr><th scope=col>title</th><th scope=col>chapter</th><th scope=col>msv</th></tr>\n",
              "\t<tr><th scope=col>&lt;chr&gt;</th><th scope=col>&lt;int&gt;</th><th scope=col>&lt;dbl&gt;</th></tr>\n",
              "</thead>\n",
              "<tbody>\n",
              "\t<tr><td>goblet_of_fire      </td><td>32</td><td>-1.0439560</td></tr>\n",
              "\t<tr><td>goblet_of_fire      </td><td>34</td><td>-0.7664671</td></tr>\n",
              "\t<tr><td>half_blood_prince   </td><td>28</td><td>-1.1428571</td></tr>\n",
              "\t<tr><td>order_of_the_phoenix</td><td>36</td><td>-0.9166667</td></tr>\n",
              "\t<tr><td>prisoner_of_azkaban </td><td>17</td><td>-0.7350000</td></tr>\n",
              "</tbody>\n",
              "</table>\n"
            ],
            "text/latex": [
              "A tibble: 5 × 3\n",
              "\\begin{tabular}{lll}\n",
              " title & chapter & msv\\\\\n",
              " <chr> & <int> & <dbl>\\\\\n",
              "\\hline\n",
              "\t goblet\\_of\\_fire       & 32 & -1.0439560\\\\\n",
              "\t goblet\\_of\\_fire       & 34 & -0.7664671\\\\\n",
              "\t half\\_blood\\_prince    & 28 & -1.1428571\\\\\n",
              "\t order\\_of\\_the\\_phoenix & 36 & -0.9166667\\\\\n",
              "\t prisoner\\_of\\_azkaban  & 17 & -0.7350000\\\\\n",
              "\\end{tabular}\n"
            ],
            "text/markdown": [
              "\n",
              "A tibble: 5 × 3\n",
              "\n",
              "| title &lt;chr&gt; | chapter &lt;int&gt; | msv &lt;dbl&gt; |\n",
              "|---|---|---|\n",
              "| goblet_of_fire       | 32 | -1.0439560 |\n",
              "| goblet_of_fire       | 34 | -0.7664671 |\n",
              "| half_blood_prince    | 28 | -1.1428571 |\n",
              "| order_of_the_phoenix | 36 | -0.9166667 |\n",
              "| prisoner_of_azkaban  | 17 | -0.7350000 |\n",
              "\n"
            ],
            "text/plain": [
              "  title                chapter msv       \n",
              "1 goblet_of_fire       32      -1.0439560\n",
              "2 goblet_of_fire       34      -0.7664671\n",
              "3 half_blood_prince    28      -1.1428571\n",
              "4 order_of_the_phoenix 36      -0.9166667\n",
              "5 prisoner_of_azkaban  17      -0.7350000"
            ]
          },
          "metadata": {},
          "output_type": "display_data"
        }
      ],
      "source": [
        "ls(\"package:harrypotter\") %>% \n",
        "    map_dfr(~ tibble(title = ., text = getExportedValue('harrypotter', .), \n",
        "                     chapter = seq_along(text))) %>% \n",
        "    unnest_tokens(input=text, output=word) %>% \n",
        "    left_join(afinn) %>%\n",
        "    group_by(title, chapter) %>% \n",
        "    summarize(msv = mean(value, na.rm=T), .groups = \"drop\") %>% \n",
        "    top_n(5, -msv)"
      ]
    },
    {
      "cell_type": "markdown",
      "metadata": {
        "id": "xJgocmutIfof"
      },
      "source": [
        "# Function\n",
        "This lecture will be about writing our own functions. \n",
        "- Functions are not new to us; we have been using them since the very first lecture.\n",
        "- `print`, `filter`, `mutate`, `summarize`, `tibble`, etc.: all are functions."
      ]
    },
    {
      "cell_type": "code",
      "execution_count": null,
      "metadata": {
        "id": "eNl_WKUKndoq",
        "outputId": "52c72843-3fce-4228-87b7-c98db0023e7f"
      },
      "outputs": [
        {
          "data": {
            "text/html": [
              "'function'"
            ],
            "text/latex": [
              "'function'"
            ],
            "text/markdown": [
              "'function'"
            ],
            "text/plain": [
              "[1] \"function\""
            ]
          },
          "metadata": {},
          "output_type": "display_data"
        }
      ],
      "source": [
        "class(filter)"
      ]
    },
    {
      "cell_type": "markdown",
      "metadata": {
        "id": "GjeuBDWQ7ubr"
      },
      "source": [
        "### Why write our own functions??\n",
        "\n",
        "Often when programming we find ourselves repeating the same block of code with minor modifications. \n",
        "\n",
        "Did you encounter this situation in your HW7 when you applied the same logic again and again, while deriving the sentiment score for all the Harry Potter books??\n",
        "\n",
        "That is precisely when a function is defined to save ourselves from repetition!\n",
        "\n",
        "Let us start with simple examples. When building machine learning models (which you will learn next week) it is common practice to normalize all the columns values to the same scale; typically between 0 and 1. Let us take the `mpg` dataset and see its current min and max values:"
      ]
    },
    {
      "cell_type": "code",
      "execution_count": 2,
      "metadata": {
        "colab": {
          "base_uri": "https://localhost:8080/",
          "height": 34
        },
        "id": "ZwBcWuaSC65I",
        "outputId": "5cb7fb77-e596-4e61-fa38-b79ae4d1c1eb"
      },
      "outputs": [
        {
          "output_type": "display_data",
          "data": {
            "text/html": [
              "<style>\n",
              ".list-inline {list-style: none; margin:0; padding: 0}\n",
              ".list-inline>li {display: inline-block}\n",
              ".list-inline>li:not(:last-child)::after {content: \"\\00b7\"; padding: 0 .5ex}\n",
              "</style>\n",
              "<ol class=list-inline><li>12</li><li>44</li></ol>\n"
            ],
            "text/markdown": "1. 12\n2. 44\n\n\n",
            "text/latex": "\\begin{enumerate*}\n\\item 12\n\\item 44\n\\end{enumerate*}\n",
            "text/plain": [
              "[1] 12 44"
            ]
          },
          "metadata": {}
        }
      ],
      "source": [
        "mpg$hwy %>% range\n",
        "# r returns a vector that contains the min & max values of the given argument"
      ]
    },
    {
      "cell_type": "markdown",
      "metadata": {
        "id": "tZi8Sl3BDGrg"
      },
      "source": [
        "Let us now normalize it:"
      ]
    },
    {
      "cell_type": "code",
      "execution_count": 3,
      "metadata": {
        "colab": {
          "base_uri": "https://localhost:8080/",
          "height": 34
        },
        "id": "IbO0bI637vLy",
        "outputId": "6bbe2154-e428-4399-c3ec-e1fb81f268e3"
      },
      "outputs": [
        {
          "output_type": "display_data",
          "data": {
            "text/html": [
              "<style>\n",
              ".list-inline {list-style: none; margin:0; padding: 0}\n",
              ".list-inline>li {display: inline-block}\n",
              ".list-inline>li:not(:last-child)::after {content: \"\\00b7\"; padding: 0 .5ex}\n",
              "</style>\n",
              "<ol class=list-inline><li>0</li><li>1</li></ol>\n"
            ],
            "text/markdown": "1. 0\n2. 1\n\n\n",
            "text/latex": "\\begin{enumerate*}\n\\item 0\n\\item 1\n\\end{enumerate*}\n",
            "text/plain": [
              "[1] 0 1"
            ]
          },
          "metadata": {}
        }
      ],
      "source": [
        "hwy_a <- (mpg$hwy - min(mpg$hwy, na.rm = TRUE)) / (max(mpg$hwy, na.rm = TRUE) - min(mpg$hwy, na.rm = TRUE))\n",
        "hwy_a %>% range\n",
        "# take value, subtract by min, divide by max minus min "
      ]
    },
    {
      "cell_type": "markdown",
      "metadata": {
        "id": "d39irSk0DU7K"
      },
      "source": [
        "We need to do the exact same for all columns; to begin with let us do for all numerical columns. And it is easy to copy and paste the same code from above and change the variable names"
      ]
    },
    {
      "cell_type": "markdown",
      "metadata": {
        "id": "FqR4F90Xndor"
      },
      "source": [
        "## 🤔 Quiz"
      ]
    },
    {
      "cell_type": "code",
      "execution_count": 4,
      "metadata": {
        "colab": {
          "base_uri": "https://localhost:8080/",
          "height": 34
        },
        "id": "55332GY1Dk5k",
        "outputId": "68f63e46-36b8-4ecf-c218-b4b6fbb2eb30"
      },
      "outputs": [
        {
          "output_type": "display_data",
          "data": {
            "text/html": [
              "<style>\n",
              ".list-inline {list-style: none; margin:0; padding: 0}\n",
              ".list-inline>li {display: inline-block}\n",
              ".list-inline>li:not(:last-child)::after {content: \"\\00b7\"; padding: 0 .5ex}\n",
              "</style>\n",
              "<ol class=list-inline><li>0</li><li>1.1304347826087</li></ol>\n"
            ],
            "text/markdown": "1. 0\n2. 1.1304347826087\n\n\n",
            "text/latex": "\\begin{enumerate*}\n\\item 0\n\\item 1.1304347826087\n\\end{enumerate*}\n",
            "text/plain": [
              "[1] 0.000000 1.130435"
            ]
          },
          "metadata": {}
        }
      ],
      "source": [
        "cty_a <- (mpg$cty - min(mpg$cty, na.rm = TRUE)) / (max(mpg$cty, na.rm = TRUE) - min(mpg$hwy, na.rm = TRUE))\n",
        "cty_a %>% range"
      ]
    },
    {
      "cell_type": "markdown",
      "metadata": {
        "id": "9Xgz9o_wD5wP"
      },
      "source": [
        "Why is the range not showing a maximum of 1?\n",
        "\n",
        "&nbsp;A. For the `cty` values it cannot have a maximum value of 1<br/>\n",
        "&nbsp;B. The numerator should use `max` function<br/>\n",
        "&nbsp;C. Copy-paste led to making an accidental mistake in the formula.<br/>"
      ]
    },
    {
      "cell_type": "markdown",
      "metadata": {
        "id": "-phP4EpQFT3l"
      },
      "source": [
        "We still need to do the exact same procedure for all other columns as well and so intead of repeating ourselves we can introduce a function to do the repeats. \n",
        "\n",
        "Specifically, we want to create a procedure that \"fills in\" the black boxes in the pattern below with whatever we pass in:"
      ]
    },
    {
      "cell_type": "markdown",
      "metadata": {
        "id": "_wTFYi9hndos"
      },
      "source": [
        "(█ - min(█, na.rm = TRUE)) / (max(█, na.rm = TRUE) - min(█, na.rm = TRUE))"
      ]
    },
    {
      "cell_type": "markdown",
      "metadata": {
        "id": "Pp_j9XXuGHxC"
      },
      "source": [
        "## Anatomy of a function\n",
        "\n",
        "To write a function we should first think about the inputs and output. A function takes input(s), does something(s) to them, and then returns an output.\n",
        "\n",
        "\n",
        "    f <- function(input) {\n",
        "        <do some things>\n",
        "        return(output)\n",
        "    }\n",
        "    output <- f(input)\n",
        "\n"
      ]
    },
    {
      "cell_type": "markdown",
      "metadata": {
        "id": "lBsoPV3Lndos"
      },
      "source": [
        "Now let's create a \"rescale\" function from the above code:"
      ]
    },
    {
      "cell_type": "code",
      "execution_count": 16,
      "metadata": {
        "id": "hUKlfVJDndos",
        "colab": {
          "base_uri": "https://localhost:8080/",
          "height": 208
        },
        "outputId": "6f462d55-5099-41ec-8aa2-b5e395c6ea59"
      },
      "outputs": [
        {
          "output_type": "display_data",
          "data": {
            "text/html": [
              "<style>\n",
              ".list-inline {list-style: none; margin:0; padding: 0}\n",
              ".list-inline>li {display: inline-block}\n",
              ".list-inline>li:not(:last-child)::after {content: \"\\00b7\"; padding: 0 .5ex}\n",
              "</style>\n",
              "<ol class=list-inline><li>0</li><li>1</li></ol>\n"
            ],
            "text/markdown": "1. 0\n2. 1\n\n\n",
            "text/latex": "\\begin{enumerate*}\n\\item 0\n\\item 1\n\\end{enumerate*}\n",
            "text/plain": [
              "[1] 0 1"
            ]
          },
          "metadata": {}
        },
        {
          "output_type": "display_data",
          "data": {
            "text/html": [
              "<style>\n",
              ".list-inline {list-style: none; margin:0; padding: 0}\n",
              ".list-inline>li {display: inline-block}\n",
              ".list-inline>li:not(:last-child)::after {content: \"\\00b7\"; padding: 0 .5ex}\n",
              "</style>\n",
              "<ol class=list-inline><li>0.53125</li><li>0.53125</li><li>0.59375</li><li>0.5625</li><li>0.4375</li><li>0.4375</li><li>0.46875</li><li>0.4375</li><li>0.40625</li><li>0.5</li><li>0.46875</li><li>0.40625</li><li>0.40625</li><li>0.40625</li><li>0.40625</li><li>0.375</li><li>0.40625</li><li>0.34375</li><li>0.25</li><li>0.09375</li><li>0.25</li><li>0.15625</li><li>0.15625</li><li>0.4375</li><li>0.34375</li><li>0.4375</li><li>0.40625</li><li>0.375</li><li>0.21875</li><li>0.0625</li><li>0.09375</li><li>0.15625</li><li>0.46875</li><li>0.5625</li><li>0.4375</li><li>0.53125</li><li>0.4375</li><li>0.375</li><li>0.375</li><li>0.3125</li><li>0.3125</li><li>0.375</li><li>0.375</li><li>0.15625</li><li>0.3125</li><li>0.28125</li><li>0.34375</li><li>0.34375</li><li>0.21875</li><li>0.1875</li><li>0.15625</li><li>0.15625</li><li>0.21875</li><li>0.21875</li><li>0</li><li>0.15625</li><li>0.09375</li><li>0.15625</li><li>0.15625</li><li>0</li><li>0.15625</li><li>0.125</li><li>0.1875</li><li>0.09375</li><li>0.125</li><li>0</li><li>0.15625</li><li>0.15625</li><li>0.125</li><li>0</li><li>0.09375</li><li>0.125</li><li>0.15625</li><li>0.09375</li><li>0.15625</li><li>0.15625</li><li>0.1875</li><li>0.15625</li><li>0.21875</li><li>0.15625</li><li>0.21875</li><li>0.21875</li><li>0.15625</li><li>0.15625</li><li>0.15625</li><li>0.125</li><li>0.125</li><li>0.15625</li><li>0.09375</li><li>0.15625</li><li>0.4375</li><li>0.40625</li><li>0.4375</li><li>0.375</li><li>0.28125</li><li>0.3125</li><li>0.34375</li><li>0.3125</li><li>0.25</li><li>0.65625</li><li>0.625</li><li>0.625</li><li>0.53125</li><li>0.625</li><li>0.6875</li><li>0.75</li><li>0.75</li><li>0.53125</li><li>0.4375</li><li>0.46875</li><li>0.5625</li><li>0.59375</li><li>0.4375</li><li>0.4375</li><li>0.5</li><li>0.4375</li><li>0.53125</li><li>0.5</li><li>0.46875</li><li>0.375</li><li>0.375</li><li>0.375</li><li>0.3125</li><li>0.21875</li><li>0.25</li><li>0.15625</li><li>0</li><li>0.21875</li><li>0.1875</li><li>0.0625</li><li>0.09375</li><li>0.1875</li><li>0.1875</li><li>0.09375</li><li>0.15625</li><li>0.125</li><li>0.1875</li><li>0.15625</li><li>0.21875</li><li>0.21875</li><li>0.15625</li><li>0.53125</li><li>0.46875</li><li>0.59375</li><li>0.625</li><li>0.46875</li><li>0.4375</li><li>0.4375</li><li>0.40625</li><li>0.40625</li><li>0.15625</li><li>0.15625</li><li>0.25</li><li>0.1875</li><li>0.4375</li><li>0.4375</li><li>0.46875</li><li>0.5</li><li>0.40625</li><li>0.40625</li><li>0.375</li><li>0.46875</li><li>0.40625</li><li>0.4375</li><li>0.34375</li><li>0.4375</li><li>0.4375</li><li>0.4375</li><li>0.4375</li><li>0.40625</li><li>0.46875</li><li>0.40625</li><li>0.46875</li><li>0.25</li><li>0.25</li><li>0.21875</li><li>0.15625</li><li>0.25</li><li>0.15625</li><li>0.53125</li><li>0.46875</li><li>0.59375</li><li>0.59375</li><li>0.4375</li><li>0.4375</li><li>0.5</li><li>0.46875</li><li>0.53125</li><li>0.59375</li><li>0.59375</li><li>0.4375</li><li>0.4375</li><li>0.46875</li><li>0.5625</li><li>0.65625</li><li>0.71875</li><li>0.78125</li><li>0.71875</li><li>0.09375</li><li>0.1875</li><li>0.25</li><li>0.25</li><li>0.3125</li><li>0.15625</li><li>0.21875</li><li>0.1875</li><li>0.25</li><li>0.53125</li><li>0.4375</li><li>0.53125</li><li>0.53125</li><li>0.375</li><li>1</li><li>0.53125</li><li>0.4375</li><li>0.53125</li><li>0.53125</li><li>0.53125</li><li>0.53125</li><li>0.34375</li><li>0.375</li><li>1</li><li>0.90625</li><li>0.53125</li><li>0.4375</li><li>0.5</li><li>0.53125</li><li>0.53125</li><li>0.53125</li><li>0.5</li><li>0.53125</li><li>0.4375</li><li>0.4375</li><li>0.4375</li></ol>\n"
            ],
            "text/markdown": "1. 0.53125\n2. 0.53125\n3. 0.59375\n4. 0.5625\n5. 0.4375\n6. 0.4375\n7. 0.46875\n8. 0.4375\n9. 0.40625\n10. 0.5\n11. 0.46875\n12. 0.40625\n13. 0.40625\n14. 0.40625\n15. 0.40625\n16. 0.375\n17. 0.40625\n18. 0.34375\n19. 0.25\n20. 0.09375\n21. 0.25\n22. 0.15625\n23. 0.15625\n24. 0.4375\n25. 0.34375\n26. 0.4375\n27. 0.40625\n28. 0.375\n29. 0.21875\n30. 0.0625\n31. 0.09375\n32. 0.15625\n33. 0.46875\n34. 0.5625\n35. 0.4375\n36. 0.53125\n37. 0.4375\n38. 0.375\n39. 0.375\n40. 0.3125\n41. 0.3125\n42. 0.375\n43. 0.375\n44. 0.15625\n45. 0.3125\n46. 0.28125\n47. 0.34375\n48. 0.34375\n49. 0.21875\n50. 0.1875\n51. 0.15625\n52. 0.15625\n53. 0.21875\n54. 0.21875\n55. 0\n56. 0.15625\n57. 0.09375\n58. 0.15625\n59. 0.15625\n60. 0\n61. 0.15625\n62. 0.125\n63. 0.1875\n64. 0.09375\n65. 0.125\n66. 0\n67. 0.15625\n68. 0.15625\n69. 0.125\n70. 0\n71. 0.09375\n72. 0.125\n73. 0.15625\n74. 0.09375\n75. 0.15625\n76. 0.15625\n77. 0.1875\n78. 0.15625\n79. 0.21875\n80. 0.15625\n81. 0.21875\n82. 0.21875\n83. 0.15625\n84. 0.15625\n85. 0.15625\n86. 0.125\n87. 0.125\n88. 0.15625\n89. 0.09375\n90. 0.15625\n91. 0.4375\n92. 0.40625\n93. 0.4375\n94. 0.375\n95. 0.28125\n96. 0.3125\n97. 0.34375\n98. 0.3125\n99. 0.25\n100. 0.65625\n101. 0.625\n102. 0.625\n103. 0.53125\n104. 0.625\n105. 0.6875\n106. 0.75\n107. 0.75\n108. 0.53125\n109. 0.4375\n110. 0.46875\n111. 0.5625\n112. 0.59375\n113. 0.4375\n114. 0.4375\n115. 0.5\n116. 0.4375\n117. 0.53125\n118. 0.5\n119. 0.46875\n120. 0.375\n121. 0.375\n122. 0.375\n123. 0.3125\n124. 0.21875\n125. 0.25\n126. 0.15625\n127. 0\n128. 0.21875\n129. 0.1875\n130. 0.0625\n131. 0.09375\n132. 0.1875\n133. 0.1875\n134. 0.09375\n135. 0.15625\n136. 0.125\n137. 0.1875\n138. 0.15625\n139. 0.21875\n140. 0.21875\n141. 0.15625\n142. 0.53125\n143. 0.46875\n144. 0.59375\n145. 0.625\n146. 0.46875\n147. 0.4375\n148. 0.4375\n149. 0.40625\n150. 0.40625\n151. 0.15625\n152. 0.15625\n153. 0.25\n154. 0.1875\n155. 0.4375\n156. 0.4375\n157. 0.46875\n158. 0.5\n159. 0.40625\n160. 0.40625\n161. 0.375\n162. 0.46875\n163. 0.40625\n164. 0.4375\n165. 0.34375\n166. 0.4375\n167. 0.4375\n168. 0.4375\n169. 0.4375\n170. 0.40625\n171. 0.46875\n172. 0.40625\n173. 0.46875\n174. 0.25\n175. 0.25\n176. 0.21875\n177. 0.15625\n178. 0.25\n179. 0.15625\n180. 0.53125\n181. 0.46875\n182. 0.59375\n183. 0.59375\n184. 0.4375\n185. 0.4375\n186. 0.5\n187. 0.46875\n188. 0.53125\n189. 0.59375\n190. 0.59375\n191. 0.4375\n192. 0.4375\n193. 0.46875\n194. 0.5625\n195. 0.65625\n196. 0.71875\n197. 0.78125\n198. 0.71875\n199. 0.09375\n200. 0.1875\n201. 0.25\n202. 0.25\n203. 0.3125\n204. 0.15625\n205. 0.21875\n206. 0.1875\n207. 0.25\n208. 0.53125\n209. 0.4375\n210. 0.53125\n211. 0.53125\n212. 0.375\n213. 1\n214. 0.53125\n215. 0.4375\n216. 0.53125\n217. 0.53125\n218. 0.53125\n219. 0.53125\n220. 0.34375\n221. 0.375\n222. 1\n223. 0.90625\n224. 0.53125\n225. 0.4375\n226. 0.5\n227. 0.53125\n228. 0.53125\n229. 0.53125\n230. 0.5\n231. 0.53125\n232. 0.4375\n233. 0.4375\n234. 0.4375\n\n\n",
            "text/latex": "\\begin{enumerate*}\n\\item 0.53125\n\\item 0.53125\n\\item 0.59375\n\\item 0.5625\n\\item 0.4375\n\\item 0.4375\n\\item 0.46875\n\\item 0.4375\n\\item 0.40625\n\\item 0.5\n\\item 0.46875\n\\item 0.40625\n\\item 0.40625\n\\item 0.40625\n\\item 0.40625\n\\item 0.375\n\\item 0.40625\n\\item 0.34375\n\\item 0.25\n\\item 0.09375\n\\item 0.25\n\\item 0.15625\n\\item 0.15625\n\\item 0.4375\n\\item 0.34375\n\\item 0.4375\n\\item 0.40625\n\\item 0.375\n\\item 0.21875\n\\item 0.0625\n\\item 0.09375\n\\item 0.15625\n\\item 0.46875\n\\item 0.5625\n\\item 0.4375\n\\item 0.53125\n\\item 0.4375\n\\item 0.375\n\\item 0.375\n\\item 0.3125\n\\item 0.3125\n\\item 0.375\n\\item 0.375\n\\item 0.15625\n\\item 0.3125\n\\item 0.28125\n\\item 0.34375\n\\item 0.34375\n\\item 0.21875\n\\item 0.1875\n\\item 0.15625\n\\item 0.15625\n\\item 0.21875\n\\item 0.21875\n\\item 0\n\\item 0.15625\n\\item 0.09375\n\\item 0.15625\n\\item 0.15625\n\\item 0\n\\item 0.15625\n\\item 0.125\n\\item 0.1875\n\\item 0.09375\n\\item 0.125\n\\item 0\n\\item 0.15625\n\\item 0.15625\n\\item 0.125\n\\item 0\n\\item 0.09375\n\\item 0.125\n\\item 0.15625\n\\item 0.09375\n\\item 0.15625\n\\item 0.15625\n\\item 0.1875\n\\item 0.15625\n\\item 0.21875\n\\item 0.15625\n\\item 0.21875\n\\item 0.21875\n\\item 0.15625\n\\item 0.15625\n\\item 0.15625\n\\item 0.125\n\\item 0.125\n\\item 0.15625\n\\item 0.09375\n\\item 0.15625\n\\item 0.4375\n\\item 0.40625\n\\item 0.4375\n\\item 0.375\n\\item 0.28125\n\\item 0.3125\n\\item 0.34375\n\\item 0.3125\n\\item 0.25\n\\item 0.65625\n\\item 0.625\n\\item 0.625\n\\item 0.53125\n\\item 0.625\n\\item 0.6875\n\\item 0.75\n\\item 0.75\n\\item 0.53125\n\\item 0.4375\n\\item 0.46875\n\\item 0.5625\n\\item 0.59375\n\\item 0.4375\n\\item 0.4375\n\\item 0.5\n\\item 0.4375\n\\item 0.53125\n\\item 0.5\n\\item 0.46875\n\\item 0.375\n\\item 0.375\n\\item 0.375\n\\item 0.3125\n\\item 0.21875\n\\item 0.25\n\\item 0.15625\n\\item 0\n\\item 0.21875\n\\item 0.1875\n\\item 0.0625\n\\item 0.09375\n\\item 0.1875\n\\item 0.1875\n\\item 0.09375\n\\item 0.15625\n\\item 0.125\n\\item 0.1875\n\\item 0.15625\n\\item 0.21875\n\\item 0.21875\n\\item 0.15625\n\\item 0.53125\n\\item 0.46875\n\\item 0.59375\n\\item 0.625\n\\item 0.46875\n\\item 0.4375\n\\item 0.4375\n\\item 0.40625\n\\item 0.40625\n\\item 0.15625\n\\item 0.15625\n\\item 0.25\n\\item 0.1875\n\\item 0.4375\n\\item 0.4375\n\\item 0.46875\n\\item 0.5\n\\item 0.40625\n\\item 0.40625\n\\item 0.375\n\\item 0.46875\n\\item 0.40625\n\\item 0.4375\n\\item 0.34375\n\\item 0.4375\n\\item 0.4375\n\\item 0.4375\n\\item 0.4375\n\\item 0.40625\n\\item 0.46875\n\\item 0.40625\n\\item 0.46875\n\\item 0.25\n\\item 0.25\n\\item 0.21875\n\\item 0.15625\n\\item 0.25\n\\item 0.15625\n\\item 0.53125\n\\item 0.46875\n\\item 0.59375\n\\item 0.59375\n\\item 0.4375\n\\item 0.4375\n\\item 0.5\n\\item 0.46875\n\\item 0.53125\n\\item 0.59375\n\\item 0.59375\n\\item 0.4375\n\\item 0.4375\n\\item 0.46875\n\\item 0.5625\n\\item 0.65625\n\\item 0.71875\n\\item 0.78125\n\\item 0.71875\n\\item 0.09375\n\\item 0.1875\n\\item 0.25\n\\item 0.25\n\\item 0.3125\n\\item 0.15625\n\\item 0.21875\n\\item 0.1875\n\\item 0.25\n\\item 0.53125\n\\item 0.4375\n\\item 0.53125\n\\item 0.53125\n\\item 0.375\n\\item 1\n\\item 0.53125\n\\item 0.4375\n\\item 0.53125\n\\item 0.53125\n\\item 0.53125\n\\item 0.53125\n\\item 0.34375\n\\item 0.375\n\\item 1\n\\item 0.90625\n\\item 0.53125\n\\item 0.4375\n\\item 0.5\n\\item 0.53125\n\\item 0.53125\n\\item 0.53125\n\\item 0.5\n\\item 0.53125\n\\item 0.4375\n\\item 0.4375\n\\item 0.4375\n\\end{enumerate*}\n",
            "text/plain": [
              "  [1] 0.53125 0.53125 0.59375 0.56250 0.43750 0.43750 0.46875 0.43750 0.40625\n",
              " [10] 0.50000 0.46875 0.40625 0.40625 0.40625 0.40625 0.37500 0.40625 0.34375\n",
              " [19] 0.25000 0.09375 0.25000 0.15625 0.15625 0.43750 0.34375 0.43750 0.40625\n",
              " [28] 0.37500 0.21875 0.06250 0.09375 0.15625 0.46875 0.56250 0.43750 0.53125\n",
              " [37] 0.43750 0.37500 0.37500 0.31250 0.31250 0.37500 0.37500 0.15625 0.31250\n",
              " [46] 0.28125 0.34375 0.34375 0.21875 0.18750 0.15625 0.15625 0.21875 0.21875\n",
              " [55] 0.00000 0.15625 0.09375 0.15625 0.15625 0.00000 0.15625 0.12500 0.18750\n",
              " [64] 0.09375 0.12500 0.00000 0.15625 0.15625 0.12500 0.00000 0.09375 0.12500\n",
              " [73] 0.15625 0.09375 0.15625 0.15625 0.18750 0.15625 0.21875 0.15625 0.21875\n",
              " [82] 0.21875 0.15625 0.15625 0.15625 0.12500 0.12500 0.15625 0.09375 0.15625\n",
              " [91] 0.43750 0.40625 0.43750 0.37500 0.28125 0.31250 0.34375 0.31250 0.25000\n",
              "[100] 0.65625 0.62500 0.62500 0.53125 0.62500 0.68750 0.75000 0.75000 0.53125\n",
              "[109] 0.43750 0.46875 0.56250 0.59375 0.43750 0.43750 0.50000 0.43750 0.53125\n",
              "[118] 0.50000 0.46875 0.37500 0.37500 0.37500 0.31250 0.21875 0.25000 0.15625\n",
              "[127] 0.00000 0.21875 0.18750 0.06250 0.09375 0.18750 0.18750 0.09375 0.15625\n",
              "[136] 0.12500 0.18750 0.15625 0.21875 0.21875 0.15625 0.53125 0.46875 0.59375\n",
              "[145] 0.62500 0.46875 0.43750 0.43750 0.40625 0.40625 0.15625 0.15625 0.25000\n",
              "[154] 0.18750 0.43750 0.43750 0.46875 0.50000 0.40625 0.40625 0.37500 0.46875\n",
              "[163] 0.40625 0.43750 0.34375 0.43750 0.43750 0.43750 0.43750 0.40625 0.46875\n",
              "[172] 0.40625 0.46875 0.25000 0.25000 0.21875 0.15625 0.25000 0.15625 0.53125\n",
              "[181] 0.46875 0.59375 0.59375 0.43750 0.43750 0.50000 0.46875 0.53125 0.59375\n",
              "[190] 0.59375 0.43750 0.43750 0.46875 0.56250 0.65625 0.71875 0.78125 0.71875\n",
              "[199] 0.09375 0.18750 0.25000 0.25000 0.31250 0.15625 0.21875 0.18750 0.25000\n",
              "[208] 0.53125 0.43750 0.53125 0.53125 0.37500 1.00000 0.53125 0.43750 0.53125\n",
              "[217] 0.53125 0.53125 0.53125 0.34375 0.37500 1.00000 0.90625 0.53125 0.43750\n",
              "[226] 0.50000 0.53125 0.53125 0.53125 0.50000 0.53125 0.43750 0.43750 0.43750"
            ]
          },
          "metadata": {}
        }
      ],
      "source": [
        "# rescale01 function\n",
        "\n",
        "rescale<-function(x){\n",
        "  (x - min(x, na.rm = TRUE)) / (max(x, na.rm = TRUE) - min(x, na.rm = TRUE))\n",
        "}\n",
        "\n",
        "rescale(mpg$hwy)%>%range\n",
        "rescale(mpg$hwy)"
      ]
    },
    {
      "cell_type": "code",
      "source": [
        "rescale<-function(x){\n",
        "  y=(x - min(x, na.rm = TRUE)) / (max(x, na.rm = TRUE) - min(x, na.rm = TRUE))\n",
        "}\n",
        "\n",
        "rescale(mpg$hwy) # when you save a function to a variable, however, it doesn't print anything"
      ],
      "metadata": {
        "id": "W5VJ0lpOtL9D"
      },
      "execution_count": 17,
      "outputs": []
    },
    {
      "cell_type": "markdown",
      "metadata": {
        "id": "dtRoursTGxz4"
      },
      "source": [
        "Note: in R (and unlike Python, C++, Java, or other languages), it is not necessary to use a `return` keyword to specify the return value of a function. The return value of a function is simply the value of the last expression evaluated within the function body. "
      ]
    },
    {
      "cell_type": "markdown",
      "metadata": {
        "id": "gUmAiBFQGUgk"
      },
      "source": [
        "## 🤔 Quiz\n",
        "\n",
        "What is the output of our `rescale01` function?\n",
        "\n",
        "* A. x\n",
        "* B. nothing\n",
        "* C. rescaled vector values\n"
      ]
    },
    {
      "cell_type": "markdown",
      "source": [
        "### Common Interview Q: Fizzbuzz"
      ],
      "metadata": {
        "id": "INbL377rvIB8"
      }
    },
    {
      "cell_type": "code",
      "source": [
        "fizzbuzz<-function(x){\n",
        "  if(x%%3==0){ # if x is a multiple of 3\n",
        "    return(\"fizz\")\n",
        "  } else if(x%%5==0){\n",
        "    return(\"buzz\")\n",
        "  }\n",
        "  return(x)\n",
        "}\n",
        "\n",
        "fizzbuzz(3)\n",
        "fizzbuzz(5)\n",
        "fizzbuzz(7)"
      ],
      "metadata": {
        "colab": {
          "base_uri": "https://localhost:8080/",
          "height": 69
        },
        "id": "aO23qYQuuhKs",
        "outputId": "ac37849b-bb15-4a45-ac92-5ac545f15d2f"
      },
      "execution_count": 25,
      "outputs": [
        {
          "output_type": "display_data",
          "data": {
            "text/html": [
              "'fizz'"
            ],
            "text/markdown": "'fizz'",
            "text/latex": "'fizz'",
            "text/plain": [
              "[1] \"fizz\""
            ]
          },
          "metadata": {}
        },
        {
          "output_type": "display_data",
          "data": {
            "text/html": [
              "'buzz'"
            ],
            "text/markdown": "'buzz'",
            "text/latex": "'buzz'",
            "text/plain": [
              "[1] \"buzz\""
            ]
          },
          "metadata": {}
        },
        {
          "output_type": "display_data",
          "data": {
            "text/html": [
              "7"
            ],
            "text/markdown": "7",
            "text/latex": "7",
            "text/plain": [
              "[1] 7"
            ]
          },
          "metadata": {}
        }
      ]
    },
    {
      "cell_type": "markdown",
      "metadata": {
        "id": "fCgIwRmV1GT3"
      },
      "source": [
        "\n",
        "### Arguments\n",
        "\n",
        "Functions will often have multiple arguments. Some arguments have default values, others do not. All arguments without default values must be passed to a function. Arguments can be passed by name or position. For instance, \n",
        "\n",
        "\n"
      ]
    },
    {
      "cell_type": "code",
      "source": [
        "# classic example:\n",
        "ggplot(data=data,mapping=aes(x=x,y=y)) \n",
        "# but we don't ever actually write \"data=\" nor \"mapping=\" "
      ],
      "metadata": {
        "id": "wA25aBe7vxjg"
      },
      "execution_count": null,
      "outputs": []
    },
    {
      "cell_type": "code",
      "execution_count": 26,
      "metadata": {
        "colab": {
          "base_uri": "https://localhost:8080/",
          "height": 241
        },
        "id": "eNJoozbP1GT4",
        "outputId": "fee8748b-80c3-4e2c-fe05-3b45b3167830"
      },
      "outputs": [
        {
          "output_type": "display_data",
          "data": {
            "text/html": [
              "<table class=\"dataframe\">\n",
              "<caption>A matrix: 5 × 4 of type dbl</caption>\n",
              "<thead>\n",
              "\t<tr><th scope=col>w</th><th scope=col>x</th><th scope=col>y</th><th scope=col>z</th></tr>\n",
              "</thead>\n",
              "<tbody>\n",
              "\t<tr><td>-1.5</td><td> 1.1</td><td>0.6</td><td>-0.4</td></tr>\n",
              "\t<tr><td> 0.8</td><td>-0.5</td><td>0.7</td><td> 1.6</td></tr>\n",
              "\t<tr><td> 2.2</td><td> 1.0</td><td>2.0</td><td>-0.1</td></tr>\n",
              "\t<tr><td> 0.8</td><td>-0.8</td><td>1.1</td><td> 2.5</td></tr>\n",
              "\t<tr><td>-0.6</td><td> 0.8</td><td>0.3</td><td>-0.7</td></tr>\n",
              "</tbody>\n",
              "</table>\n"
            ],
            "text/markdown": "\nA matrix: 5 × 4 of type dbl\n\n| w | x | y | z |\n|---|---|---|---|\n| -1.5 |  1.1 | 0.6 | -0.4 |\n|  0.8 | -0.5 | 0.7 |  1.6 |\n|  2.2 |  1.0 | 2.0 | -0.1 |\n|  0.8 | -0.8 | 1.1 |  2.5 |\n| -0.6 |  0.8 | 0.3 | -0.7 |\n\n",
            "text/latex": "A matrix: 5 × 4 of type dbl\n\\begin{tabular}{llll}\n w & x & y & z\\\\\n\\hline\n\t -1.5 &  1.1 & 0.6 & -0.4\\\\\n\t  0.8 & -0.5 & 0.7 &  1.6\\\\\n\t  2.2 &  1.0 & 2.0 & -0.1\\\\\n\t  0.8 & -0.8 & 1.1 &  2.5\\\\\n\t -0.6 &  0.8 & 0.3 & -0.7\\\\\n\\end{tabular}\n",
            "text/plain": [
              "     w    x    y   z   \n",
              "[1,] -1.5  1.1 0.6 -0.4\n",
              "[2,]  0.8 -0.5 0.7  1.6\n",
              "[3,]  2.2  1.0 2.0 -0.1\n",
              "[4,]  0.8 -0.8 1.1  2.5\n",
              "[5,] -0.6  0.8 0.3 -0.7"
            ]
          },
          "metadata": {}
        }
      ],
      "source": [
        "# generate 5 numbers from a Normal(0, 1) distribution: \n",
        "w = rnorm(5, mean = 0, sd = 1)\n",
        "x = rnorm(n = 5, mean = 0, sd = 1)\n",
        "y = rnorm(5, 0, 1)\n",
        "z = rnorm(5)\n",
        "round(cbind(w, x, y, z), 1)"
      ]
    },
    {
      "cell_type": "markdown",
      "metadata": {
        "id": "LIZuAcKF1GT9"
      },
      "source": [
        "Arguments passed by name need not be in order:"
      ]
    },
    {
      "cell_type": "code",
      "execution_count": 27,
      "metadata": {
        "colab": {
          "base_uri": "https://localhost:8080/",
          "height": 97
        },
        "id": "nAeMGzyS1GT-",
        "outputId": "df1a8fa9-a3fa-43e3-fe3a-eacb6a3765d0"
      },
      "outputs": [
        {
          "output_type": "display_data",
          "data": {
            "text/html": [
              "<table class=\"dataframe\">\n",
              "<caption>A matrix: 2 × 5 of type dbl</caption>\n",
              "<tbody>\n",
              "\t<tr><th scope=row>u</th><td> 0.9</td><td>-0.2</td><td>-0.6</td><td>0.5</td><td> 1.5</td></tr>\n",
              "\t<tr><th scope=row>w</th><td>-0.6</td><td> 0.4</td><td>-0.3</td><td>0.6</td><td>-1.9</td></tr>\n",
              "</tbody>\n",
              "</table>\n"
            ],
            "text/markdown": "\nA matrix: 2 × 5 of type dbl\n\n| u |  0.9 | -0.2 | -0.6 | 0.5 |  1.5 |\n| w | -0.6 |  0.4 | -0.3 | 0.6 | -1.9 |\n\n",
            "text/latex": "A matrix: 2 × 5 of type dbl\n\\begin{tabular}{r|lllll}\n\tu &  0.9 & -0.2 & -0.6 & 0.5 &  1.5\\\\\n\tw & -0.6 &  0.4 & -0.3 & 0.6 & -1.9\\\\\n\\end{tabular}\n",
            "text/plain": [
              "  [,1] [,2] [,3] [,4] [,5]\n",
              "u  0.9 -0.2 -0.6 0.5   1.5\n",
              "w -0.6  0.4 -0.3 0.6  -1.9"
            ]
          },
          "metadata": {}
        }
      ],
      "source": [
        "w = rnorm(mean = 0, sd = 1, n = 5)\n",
        "u = rnorm(mean = 0, sd = 1, 5) # This also works but is bad style. \n",
        "round(rbind(u = u, w = w), 1)\n",
        "\n",
        "# unnamed arguments get passed to the first argument after the names arguments are assigned"
      ]
    },
    {
      "cell_type": "markdown",
      "metadata": {
        "id": "C5_mtH3Xndos"
      },
      "source": [
        "## Vector functions\n",
        "The first type of function we'll look at are functions that take a vector, and maybe some other options, and return a vector. We follow the book and call these \"vector functions\"."
      ]
    },
    {
      "cell_type": "markdown",
      "metadata": {
        "id": "AR9KrJnn1GUL"
      },
      "source": [
        "### $z$-score function\n",
        "\n",
        "Let us create a function to compute $z$-scores of a vector:"
      ]
    },
    {
      "cell_type": "code",
      "execution_count": 39,
      "metadata": {
        "id": "qaLeKXql1GUL",
        "colab": {
          "base_uri": "https://localhost:8080/",
          "height": 191
        },
        "outputId": "def7fdd6-be4f-48b2-d5b5-0f9ae7ff5a76"
      },
      "outputs": [
        {
          "output_type": "display_data",
          "data": {
            "text/html": [
              "<pre class=language-r><code>function (x) \n",
              "{\n",
              "<span style=white-space:pre-wrap>    xbar = mean(x)</span>\n",
              "<span style=white-space:pre-wrap>    s = sd(x)</span>\n",
              "<span style=white-space:pre-wrap>    print(s)</span>\n",
              "<span style=white-space:pre-wrap>    z = (x - xbar)/s</span>\n",
              "<span style=white-space:pre-wrap>    return(z)</span>\n",
              "}</code></pre>"
            ],
            "text/markdown": "```r\nfunction (x) \n{\n    xbar = mean(x)\n    s = sd(x)\n    print(s)\n    z = (x - xbar)/s\n    return(z)\n}\n```",
            "text/latex": "\\begin{minted}{r}\nfunction (x) \n\\{\n    xbar = mean(x)\n    s = sd(x)\n    print(s)\n    z = (x - xbar)/s\n    return(z)\n\\}\n\\end{minted}",
            "text/plain": [
              "function(x) { # inputs: x, a numeric vector\n",
              "    xbar=mean(x) # scalar, one value\n",
              "    s=sd(x) # scalar, one value \n",
              "    print(s)\n",
              "    z=(x-xbar)/s # vector, many values \n",
              "    return(z) # outputs: z-scores for x \n",
              "}"
            ]
          },
          "metadata": {}
        },
        {
          "output_type": "stream",
          "name": "stdout",
          "text": [
            "[1] 7.234178\n"
          ]
        },
        {
          "output_type": "display_data",
          "data": {
            "text/html": [
              "<style>\n",
              ".list-inline {list-style: none; margin:0; padding: 0}\n",
              ".list-inline>li {display: inline-block}\n",
              ".list-inline>li:not(:last-child)::after {content: \"\\00b7\"; padding: 0 .5ex}\n",
              "</style>\n",
              "<ol class=list-inline><li>-0.645085948617728</li><li>-0.5068532453425</li><li>1.15193919396023</li></ol>\n"
            ],
            "text/markdown": "1. -0.645085948617728\n2. -0.5068532453425\n3. 1.15193919396023\n\n\n",
            "text/latex": "\\begin{enumerate*}\n\\item -0.645085948617728\n\\item -0.5068532453425\n\\item 1.15193919396023\n\\end{enumerate*}\n",
            "text/plain": [
              "[1] -0.6450859 -0.5068532  1.1519392"
            ]
          },
          "metadata": {}
        }
      ],
      "source": [
        "# function to compute z-scores:\n",
        "\n",
        "z_score <- function(x) { # inputs: x, a numeric vector\n",
        "    xbar=mean(x) # scalar, one value\n",
        "    s=sd(x) \n",
        "    print(s) # scalar, one value \n",
        "    z=(x-xbar)/s # vector, many values \n",
        "    return(z) # outputs: z-scores for x \n",
        "}\n",
        "\n",
        "z_score # prints function definition\n",
        "\n",
        "z_score(c(10,11,23)) # prints z scores"
      ]
    },
    {
      "cell_type": "markdown",
      "metadata": {
        "id": "3lIvlpaL1GUM"
      },
      "source": [
        "The return statement is not strictly necessary, but can make complex functions more readable. It is good practice to avoid creating intermediate objects to store values only used once.\n",
        "\n"
      ]
    },
    {
      "cell_type": "markdown",
      "metadata": {
        "id": "mTPxbzoZ1GUQ"
      },
      "source": [
        "#### Parameters\n",
        "\n",
        "We can set default values for parameters using the construction `parameter = xx` in the function definition.\n",
        "\n",
        "\n"
      ]
    },
    {
      "cell_type": "code",
      "execution_count": 40,
      "metadata": {
        "id": "X7FzgVA21GUR",
        "colab": {
          "base_uri": "https://localhost:8080/",
          "height": 34
        },
        "outputId": "d9bb4630-9fc4-46d5-f9df-6f968343a425"
      },
      "outputs": [
        {
          "output_type": "display_data",
          "data": {
            "text/html": [
              "<style>\n",
              ".list-inline {list-style: none; margin:0; padding: 0}\n",
              ".list-inline>li {display: inline-block}\n",
              ".list-inline>li:not(:last-child)::after {content: \"\\00b7\"; padding: 0 .5ex}\n",
              "</style>\n",
              "<ol class=list-inline><li>-0.645085948617728</li><li>-0.5068532453425</li><li>1.15193919396023</li></ol>\n"
            ],
            "text/markdown": "1. -0.645085948617728\n2. -0.5068532453425\n3. 1.15193919396023\n\n\n",
            "text/latex": "\\begin{enumerate*}\n\\item -0.645085948617728\n\\item -0.5068532453425\n\\item 1.15193919396023\n\\end{enumerate*}\n",
            "text/plain": [
              "[1] -0.6450859 -0.5068532  1.1519392"
            ]
          },
          "metadata": {}
        }
      ],
      "source": [
        "# more concise function to compute z-scores:\n",
        "z_score2<-function(x, na.rm){\n",
        "    (x-mean(x))/sd(x)\n",
        "}\n",
        "z_score2(c(10,11,23)) # prints z scores"
      ]
    },
    {
      "cell_type": "markdown",
      "metadata": {
        "id": "bdtKqM_4ndot"
      },
      "source": [
        "Sometimes it makes sense to set a default value for the parameter. We can do this by specifying the default afterwards:"
      ]
    },
    {
      "cell_type": "code",
      "execution_count": 44,
      "metadata": {
        "id": "637mAQHt1GUR",
        "colab": {
          "base_uri": "https://localhost:8080/",
          "height": 34
        },
        "outputId": "69b752b3-a375-4ee5-8fba-36720f66597c"
      },
      "outputs": [
        {
          "output_type": "display_data",
          "data": {
            "text/html": [
              "<style>\n",
              ".list-inline {list-style: none; margin:0; padding: 0}\n",
              ".list-inline>li {display: inline-block}\n",
              ".list-inline>li:not(:last-child)::after {content: \"\\00b7\"; padding: 0 .5ex}\n",
              "</style>\n",
              "<ol class=list-inline><li>-0.645085948617728</li><li>-0.5068532453425</li><li>1.15193919396023</li></ol>\n"
            ],
            "text/markdown": "1. -0.645085948617728\n2. -0.5068532453425\n3. 1.15193919396023\n\n\n",
            "text/latex": "\\begin{enumerate*}\n\\item -0.645085948617728\n\\item -0.5068532453425\n\\item 1.15193919396023\n\\end{enumerate*}\n",
            "text/plain": [
              "[1] -0.6450859 -0.5068532  1.1519392"
            ]
          },
          "metadata": {}
        }
      ],
      "source": [
        "# more concise function to compute z-scores that ignores NAs: \n",
        "z_score3<-function(x, na.rm=T){\n",
        "    (x-mean(x,na.rm=na.rm))/sd(x,na.rm=na.rm) # na.rm=na.rm works b/c we've set na.rm=T\n",
        "}\n",
        "z_score2(c(10,11,23)) # prints z scores"
      ]
    },
    {
      "cell_type": "markdown",
      "metadata": {
        "id": "3_FYLpQandot"
      },
      "source": [
        "Is it better to make the default `na.rm=True` or `na.rm=False`?"
      ]
    },
    {
      "cell_type": "markdown",
      "metadata": {
        "id": "8jaA8tkdndot"
      },
      "source": [
        "### Coefficient of variation\n",
        "The coefficient of variation is defined as the ratio of a (continuous) variable's standard deviation to its mean."
      ]
    },
    {
      "cell_type": "code",
      "execution_count": null,
      "metadata": {
        "id": "lwZ0bi1_ndot"
      },
      "outputs": [],
      "source": [
        "cv <- function(x) {\n",
        "    # fill in\n",
        "}"
      ]
    },
    {
      "cell_type": "markdown",
      "metadata": {
        "id": "oNQX0e22ndot"
      },
      "source": [
        "### How old\n",
        "Write a function that, given a vector of people's birthdays, returns a vector of how old each person is:"
      ]
    },
    {
      "cell_type": "code",
      "execution_count": null,
      "metadata": {
        "id": "FBCMCoxpndot"
      },
      "outputs": [],
      "source": [
        "how_old <- function(birthdays) {\n",
        "    # fill in\n",
        "}"
      ]
    },
    {
      "cell_type": "markdown",
      "metadata": {
        "id": "NdpbCj-wndot"
      },
      "source": [
        "## Summarize functions\n",
        "The preceding functions all took a vector as input, and returned a vector of the same length as output. These are appropriate for use in operations like **mutate** and **filter**, which expect a function to behave in such a way. \n",
        "\n",
        "A second type of function takes a vector and returns a single number. These are suitable for use with the **summarize** function."
      ]
    },
    {
      "cell_type": "markdown",
      "metadata": {
        "id": "y6kRkvI4ndot"
      },
      "source": [
        "###  Example: skewness\n",
        "The _skewness_ of a random variable is defined as $$\\mathbb{E} \\left( \\frac{X - \\mu}{\\sigma} \\right)^3.$$"
      ]
    },
    {
      "cell_type": "markdown",
      "metadata": {
        "id": "CXoaT4qindot"
      },
      "source": [
        "Let's write a function that takes a vector of numerical values and computes its skewness:"
      ]
    },
    {
      "cell_type": "code",
      "execution_count": null,
      "metadata": {
        "id": "Jb5ktZugndot"
      },
      "outputs": [],
      "source": [
        "skewness <- function(x) {\n",
        "    # fill in\n",
        "}"
      ]
    },
    {
      "cell_type": "markdown",
      "metadata": {
        "id": "bPz-X8Snndot"
      },
      "source": [
        "Now let's use this function in a summary."
      ]
    },
    {
      "cell_type": "code",
      "execution_count": null,
      "metadata": {
        "id": "zDAIojc1ndot"
      },
      "outputs": [],
      "source": [
        "# skewness inside of summary"
      ]
    },
    {
      "cell_type": "markdown",
      "metadata": {
        "id": "5TFrrXCAcnDe"
      },
      "source": [
        "## Dataframe functions\n",
        "\n",
        "The second class of functions we'll look at take a _dataframe_ as input, and also return a _dataframe_. We have already seen many examples of this type of function:\n",
        "- mutate\n",
        "- filter\n",
        "- summarize\n",
        "- arrange\n",
        "- select\n",
        "\n",
        "\n",
        "A case of a problem of `indirection`, as `dplyr` uses `tidy evaluation` to allow you to refer to the names of variables inside your data frame without any special treatment."
      ]
    },
    {
      "cell_type": "markdown",
      "metadata": {
        "id": "3krujYPFndot"
      },
      "source": [
        "Let's consider writing a function called \"grouped_mean\" that takes a data frame, a grouping variable, and a mean variable, and summarizes it. We might think to write it like this:"
      ]
    },
    {
      "cell_type": "code",
      "execution_count": 71,
      "metadata": {
        "id": "7wSvTLhXc1BY"
      },
      "outputs": [],
      "source": [
        "grouped_mean <- function(df, group_var, mean_var) {\n",
        "  df %>%  \n",
        "    group_by(group_var) %>% \n",
        "    summarize(mean(mean_var))\n",
        "}"
      ]
    },
    {
      "cell_type": "markdown",
      "metadata": {
        "id": "R9LDNb78ndot"
      },
      "source": [
        "However, this won't quite work:"
      ]
    },
    {
      "cell_type": "code",
      "execution_count": null,
      "metadata": {
        "id": "Bv8bECjZndot",
        "outputId": "04ba4407-eec5-4d6a-d34b-3a9a959fc065"
      },
      "outputs": [
        {
          "ename": "ERROR",
          "evalue": "\u001b[1m\u001b[33mError\u001b[39m in `group_by()`:\u001b[22m\n\u001b[1m\u001b[22m\u001b[33m!\u001b[39m Must group by variables found in `.data`.\n\u001b[31m✖\u001b[39m Column `group_var` is not found.\n",
          "output_type": "error",
          "traceback": [
            "\u001b[1m\u001b[33mError\u001b[39m in `group_by()`:\u001b[22m\n\u001b[1m\u001b[22m\u001b[33m!\u001b[39m Must group by variables found in `.data`.\n\u001b[31m✖\u001b[39m Column `group_var` is not found.\nTraceback:\n",
            "1. grouped_mean(mpg, model, hwy)",
            "2. df %>% group_by(group_var) %>% summarize(mean(mean_var))   # at line 2-4 of file <text>",
            "3. summarize(., mean(mean_var))",
            "4. group_by(., group_var)",
            "5. group_by.data.frame(., group_var)",
            "6. group_by_prepare(.data, ..., .add = .add, error_call = current_env())",
            "7. abort(bullets, call = error_call)",
            "8. signal_abort(cnd, .file)"
          ]
        }
      ],
      "source": [
        "grouped_mean(mpg, model, hwy)"
      ]
    },
    {
      "cell_type": "markdown",
      "metadata": {
        "id": "e-HInchNexcy"
      },
      "source": [
        "### Embracing `{{ }}`\n",
        "The reason why this doesn't work is that R does not understand that `model` and `hwy` are columns inside of `mpg`. (This is the way most computer languages work.) To fix this, R has a very special syntax for indicating that certain arguments to the function are columns inside of a data frame:\n"
      ]
    },
    {
      "cell_type": "code",
      "execution_count": 72,
      "metadata": {
        "id": "2lvE6L_adDSS",
        "colab": {
          "base_uri": "https://localhost:8080/",
          "height": 151
        },
        "outputId": "abdc2a49-40ae-475d-968a-40ce3b5a82fe"
      },
      "outputs": [
        {
          "output_type": "error",
          "ename": "ERROR",
          "evalue": "ignored",
          "traceback": [
            "Error in parse(text = x, srcfile = src): <text>:2:6: unexpected '>'\n1: grouped_mean <- function(df, group_var, mean_var) {\n2:   df$>\n        ^\nTraceback:\n"
          ]
        }
      ],
      "source": [
        "grouped_mean <- function(df, group_var, mean_var) {\n",
        "  df$>$\n",
        "  group_by(group_var)%>%\n",
        "    summarize(mean(group_var))\n",
        "}\n",
        "# error: group_var not found "
      ]
    },
    {
      "cell_type": "markdown",
      "metadata": {
        "id": "lqwLQ9S1ndou"
      },
      "source": [
        "This is called _embracing_ in the book."
      ]
    },
    {
      "cell_type": "markdown",
      "metadata": {
        "id": "jQLYhZgmndou"
      },
      "source": [
        "Now let's try a simple modification of our `grouped_mean` function, that allows use to group over _multiple_ variables:"
      ]
    },
    {
      "cell_type": "code",
      "execution_count": null,
      "metadata": {
        "id": "JVlOoMFandou",
        "outputId": "6d6ce4c2-7585-4045-effe-201fbd444318"
      },
      "outputs": [
        {
          "ename": "ERROR",
          "evalue": "\u001b[1m\u001b[33mError\u001b[39m in `group_by()`:\u001b[22m\n\u001b[1m\u001b[22m\u001b[36mℹ\u001b[39m In argument: `c(model, class)`.\n\u001b[1mCaused by error:\u001b[22m\n\u001b[1m\u001b[22m\u001b[33m!\u001b[39m `c(model, class)` must be size 234 or 1, not 468.\n",
          "output_type": "error",
          "traceback": [
            "\u001b[1m\u001b[33mError\u001b[39m in `group_by()`:\u001b[22m\n\u001b[1m\u001b[22m\u001b[36mℹ\u001b[39m In argument: `c(model, class)`.\n\u001b[1mCaused by error:\u001b[22m\n\u001b[1m\u001b[22m\u001b[33m!\u001b[39m `c(model, class)` must be size 234 or 1, not 468.\nTraceback:\n",
            "1. grouped_mean(mpg, c(model, class), hwy) %>% head",
            "2. head(.)",
            "3. grouped_mean(mpg, c(model, class), hwy)",
            "4. df %>% group_by({\n .     {\n .         group_vars\n .     }\n . }) %>% summarize(mean({\n .     {\n .         mean_var\n .     }\n . }))   # at line 2-4 of file <text>",
            "5. summarize(., mean({\n .     {\n .         mean_var\n .     }\n . }))",
            "6. group_by(., {\n .     {\n .         group_vars\n .     }\n . })",
            "7. group_by.data.frame(., {\n .     {\n .         group_vars\n .     }\n . })",
            "8. group_by_prepare(.data, ..., .add = .add, error_call = current_env())",
            "9. add_computed_columns(.data, new_groups, error_call = error_call)",
            "10. mutate_cols(bare_data, dplyr_quosures(!!!vars), by = by, error_call = error_call)",
            "11. withCallingHandlers(for (i in seq_along(dots)) {\n  .     poke_error_context(dots, i, mask = mask)\n  .     context_poke(\"column\", old_current_column)\n  .     new_columns <- mutate_col(dots[[i]], data, mask, new_columns)\n  . }, error = dplyr_error_handler(dots = dots, mask = mask, bullets = mutate_bullets, \n  .     error_call = error_call, error_class = \"dplyr:::mutate_error\"), \n  .     warning = dplyr_warning_handler(state = warnings_state, mask = mask, \n  .         error_call = error_call))",
            "12. mutate_col(dots[[i]], data, mask, new_columns)",
            "13. mask$eval_all_mutate(quo)",
            "14. eval()",
            "15. dplyr_internal_error(\"dplyr:::mutate_incompatible_size\", list(\n  .     result_size = 468L, expected_size = 234L))",
            "16. abort(class = c(class, \"dplyr:::internal_error\"), dplyr_error_data = data)",
            "17. signal_abort(cnd, .file)",
            "18. signalCondition(cnd)",
            "19. (function (cnd) \n  . {\n  .     local_error_context(dots, i = frame[[i_sym]], mask = mask)\n  .     if (inherits(cnd, \"dplyr:::internal_error\")) {\n  .         parent <- error_cnd(message = bullets(cnd))\n  .     }\n  .     else {\n  .         parent <- cnd\n  .     }\n  .     message <- c(cnd_bullet_header(action), i = if (has_active_group_context(mask)) cnd_bullet_cur_group_label())\n  .     abort(message, class = error_class, parent = parent, call = error_call)\n  . })(structure(list(message = \"\", trace = structure(list(call = list(\n  .     IRkernel::main(), kernel$run(), handle_shell(), executor$execute(msg), \n  .     tryCatch(evaluate(request$content$code, envir = .GlobalEnv, \n  .         output_handler = oh, stop_on_error = 1L), interrupt = function(cond) {\n  .         log_debug(\"Interrupt during execution\")\n  .         interrupted <<- TRUE\n  .     }, error = .self$handle_error), tryCatchList(expr, classes, \n  .         parentenv, handlers), tryCatchOne(tryCatchList(expr, \n  .         names[-nh], parentenv, handlers[-nh]), names[nh], parentenv, \n  .         handlers[[nh]]), doTryCatch(return(expr), name, parentenv, \n  .         handler), tryCatchList(expr, names[-nh], parentenv, handlers[-nh]), \n  .     tryCatchOne(expr, names, parentenv, handlers[[1L]]), doTryCatch(return(expr), \n  .         name, parentenv, handler), evaluate(request$content$code, \n  .         envir = .GlobalEnv, output_handler = oh, stop_on_error = 1L), \n  .     evaluate_call(expr, parsed$src[[i]], envir = envir, enclos = enclos, \n  .         debug = debug, last = i == length(out), use_try = stop_on_error != \n  .             2L, keep_warning = keep_warning, keep_message = keep_message, \n  .         output_handler = output_handler, include_timing = include_timing), \n  .     timing_fn(handle(ev <- withCallingHandlers(withVisible(eval_with_user_handlers(expr, \n  .         envir, enclos, user_handlers)), warning = wHandler, error = eHandler, \n  .         message = mHandler))), handle(ev <- withCallingHandlers(withVisible(eval_with_user_handlers(expr, \n  .         envir, enclos, user_handlers)), warning = wHandler, error = eHandler, \n  .         message = mHandler)), try(f, silent = TRUE), tryCatch(expr, \n  .         error = function(e) {\n  .             call <- conditionCall(e)\n  .             if (!is.null(call)) {\n  .                 if (identical(call[[1L]], quote(doTryCatch))) \n  .                   call <- sys.call(-4L)\n  .                 dcall <- deparse(call, nlines = 1L)\n  .                 prefix <- paste(\"Error in\", dcall, \": \")\n  .                 LONG <- 75L\n  .                 sm <- strsplit(conditionMessage(e), \"\\n\")[[1L]]\n  .                 w <- 14L + nchar(dcall, type = \"w\") + nchar(sm[1L], \n  .                   type = \"w\")\n  .                 if (is.na(w)) \n  .                   w <- 14L + nchar(dcall, type = \"b\") + nchar(sm[1L], \n  .                     type = \"b\")\n  .                 if (w > LONG) \n  .                   prefix <- paste0(prefix, \"\\n  \")\n  .             }\n  .             else prefix <- \"Error : \"\n  .             msg <- paste0(prefix, conditionMessage(e), \"\\n\")\n  .             .Internal(seterrmessage(msg[1L]))\n  .             if (!silent && isTRUE(getOption(\"show.error.messages\"))) {\n  .                 cat(msg, file = outFile)\n  .                 .Internal(printDeferredWarnings())\n  .             }\n  .             invisible(structure(msg, class = \"try-error\", condition = e))\n  .         }), tryCatchList(expr, classes, parentenv, handlers), \n  .     tryCatchOne(expr, names, parentenv, handlers[[1L]]), doTryCatch(return(expr), \n  .         name, parentenv, handler), withCallingHandlers(withVisible(eval_with_user_handlers(expr, \n  .         envir, enclos, user_handlers)), warning = wHandler, error = eHandler, \n  .         message = mHandler), withVisible(eval_with_user_handlers(expr, \n  .         envir, enclos, user_handlers)), eval_with_user_handlers(expr, \n  .         envir, enclos, user_handlers), eval(expr, envir, enclos), \n  .     eval(expr, envir, enclos), grouped_mean(mpg, c(model, class), \n  .         hwy) %>% head, head(.), grouped_mean(mpg, c(model, class), \n  .         hwy), df %>% group_by({\n  .         {\n  .             group_vars\n  .         }\n  .     }) %>% summarize(mean({\n  .         {\n  .             mean_var\n  .         }\n  .     })), summarize(., mean({\n  .         {\n  .             mean_var\n  .         }\n  .     })), group_by(., {\n  .         {\n  .             group_vars\n  .         }\n  .     }), group_by.data.frame(., {\n  .         {\n  .             group_vars\n  .         }\n  .     }), group_by_prepare(.data, ..., .add = .add, error_call = current_env()), \n  .     add_computed_columns(.data, new_groups, error_call = error_call), \n  .     mutate_cols(bare_data, dplyr_quosures(!!!vars), by = by, \n  .         error_call = error_call), withCallingHandlers(for (i in seq_along(dots)) {\n  .         poke_error_context(dots, i, mask = mask)\n  .         context_poke(\"column\", old_current_column)\n  .         new_columns <- mutate_col(dots[[i]], data, mask, new_columns)\n  .     }, error = dplyr_error_handler(dots = dots, mask = mask, \n  .         bullets = mutate_bullets, error_call = error_call, error_class = \"dplyr:::mutate_error\"), \n  .         warning = dplyr_warning_handler(state = warnings_state, \n  .             mask = mask, error_call = error_call)), mutate_col(dots[[i]], \n  .         data, mask, new_columns), mask$eval_all_mutate(quo), \n  .     eval(), dplyr_internal_error(\"dplyr:::mutate_incompatible_size\", \n  .         `<named list>`), abort(class = c(class, \"dplyr:::internal_error\"), \n  .         dplyr_error_data = data)), parent = c(0L, 1L, 2L, 3L, \n  . 4L, 5L, 6L, 7L, 6L, 9L, 10L, 4L, 12L, 13L, 13L, 15L, 16L, 17L, \n  . 18L, 19L, 13L, 13L, 13L, 23L, 24L, 0L, 0L, 0L, 28L, 0L, 0L, 0L, \n  . 32L, 33L, 34L, 35L, 35L, 37L, 38L, 0L, 40L), visible = c(TRUE, \n  . TRUE, TRUE, TRUE, TRUE, TRUE, TRUE, TRUE, TRUE, TRUE, TRUE, TRUE, \n  . TRUE, TRUE, TRUE, TRUE, TRUE, TRUE, TRUE, TRUE, TRUE, TRUE, TRUE, \n  . TRUE, TRUE, TRUE, TRUE, TRUE, TRUE, TRUE, TRUE, TRUE, TRUE, TRUE, \n  . TRUE, TRUE, TRUE, TRUE, TRUE, TRUE, FALSE), namespace = c(\"IRkernel\", \n  . NA, \"IRkernel\", NA, \"base\", \"base\", \"base\", \"base\", \"base\", \"base\", \n  . \"base\", \"evaluate\", \"evaluate\", \"evaluate\", \"evaluate\", \"base\", \n  . \"base\", \"base\", \"base\", \"base\", \"base\", \"base\", \"evaluate\", \"base\", \n  . \"base\", NA, \"utils\", NA, NA, \"dplyr\", \"dplyr\", \"dplyr\", \"dplyr\", \n  . \"dplyr\", \"dplyr\", \"base\", \"dplyr\", NA, \"dplyr\", \"dplyr\", \"rlang\"\n  . ), scope = c(\"::\", NA, \"local\", NA, \"::\", \"local\", \"local\", \"local\", \n  . \"local\", \"local\", \"local\", \"::\", \":::\", \"local\", \"local\", \"::\", \n  . \"::\", \"local\", \"local\", \"local\", \"::\", \"::\", \":::\", \"::\", \"::\", \n  . NA, \"::\", \"global\", NA, \"::\", \"::\", \":::\", \"::\", \":::\", \":::\", \n  . \"::\", \":::\", NA, \"local\", \":::\", \"::\"), error_frame = c(FALSE, \n  . FALSE, FALSE, FALSE, FALSE, FALSE, FALSE, FALSE, FALSE, FALSE, \n  . FALSE, FALSE, FALSE, FALSE, FALSE, FALSE, FALSE, FALSE, FALSE, \n  . FALSE, FALSE, FALSE, FALSE, FALSE, FALSE, FALSE, FALSE, FALSE, \n  . FALSE, FALSE, FALSE, FALSE, FALSE, FALSE, FALSE, FALSE, FALSE, \n  . FALSE, FALSE, TRUE, FALSE)), row.names = c(NA, -41L), version = 2L, class = c(\"rlang_trace\", \n  . \"rlib_trace\", \"tbl\", \"data.frame\")), parent = NULL, dplyr_error_data = list(\n  .     result_size = 468L, expected_size = 234L), call = dplyr_internal_error(\"dplyr:::mutate_incompatible_size\", \n  .     list(result_size = 468L, expected_size = 234L)), use_cli_format = TRUE), class = c(\"dplyr:::mutate_incompatible_size\", \n  . \"dplyr:::internal_error\", \"rlang_error\", \"error\", \"condition\"\n  . )))",
            "20. abort(message, class = error_class, parent = parent, call = error_call)",
            "21. signal_abort(cnd, .file)"
          ]
        }
      ],
      "source": [
        "grouped_mean <- function(df, group_vars, mean_var) {\n",
        "    # group by group_vars then summarize by mean\n",
        "}\n",
        "\n",
        "# grouped_mean(mpg, c(model, class), hwy)"
      ]
    },
    {
      "cell_type": "markdown",
      "metadata": {
        "id": "eaaqoymmgTe2"
      },
      "source": [
        "Why did we get this error? It turns out there are two forms of \"embracing\":\n",
        "\n",
        "* Data-masking: this is used in functions like arrange(), filter(), and summarize() that compute with variables.\n",
        "\n",
        "* Tidy-selection: this is used for functions like select(), relocate(), and rename() that select variables.\n",
        "\n",
        "You can tell which functions take which by looking at the help file. But generally, your intuition is correct: functions that do computations on columns of data are \"data-masking\"; functions that select columns are \"tidy-selection\"."
      ]
    },
    {
      "cell_type": "markdown",
      "metadata": {
        "id": "gclOUru_tZRC"
      },
      "source": [
        "To fix our `grouped_mean` function, we'll use the `pick()` function, which lets you use tidy-selection inside data-masking functions:"
      ]
    },
    {
      "cell_type": "code",
      "execution_count": 70,
      "metadata": {
        "colab": {
          "base_uri": "https://localhost:8080/",
          "height": 1000
        },
        "id": "LjMSX_YrskNs",
        "outputId": "d25b2498-45ea-4310-ee57-9d75bf92e97f"
      },
      "outputs": [
        {
          "output_type": "error",
          "ename": "ERROR",
          "evalue": "ignored",
          "traceback": [
            "Error in (function (arg) : object 'group_var' not found\nTraceback:\n",
            "1. grouped_mean(mpg, 1999, mode, hwy) %>% head",
            "2. head(.)",
            "3. grouped_mean(mpg, 1999, mode, hwy)",
            "4. df %>% group_by({\n .     {\n .         group_var\n .     }\n . }) %>% summarize(mean({\n .     {\n .         mean_var\n .     }\n . }))   # at line 2-4 of file <text>",
            "5. summarize(., mean({\n .     {\n .         mean_var\n .     }\n . }))",
            "6. group_by(., {\n .     {\n .         group_var\n .     }\n . })",
            "7. group_by.data.frame(., {\n .     {\n .         group_var\n .     }\n . })",
            "8. group_by_prepare(.data, ..., .add = .add, error_call = current_env())",
            "9. enquos(..., .ignore_empty = \"all\")",
            "10. endots(call = sys.call(), frame_env = parent.frame(), capture_arg = ffi_enquo, \n  .     capture_dots = ffi_quos_interp, named = .named, ignore_empty = .ignore_empty, \n  .     unquote_names = .unquote_names, homonyms = .homonyms, check_assign = .check_assign)",
            "11. map(syms, function(sym) {\n  .     if (!is_symbol(sym)) {\n  .         abort(\"Inputs to defuse must be argument names.\", call = error_call)\n  .     }\n  .     if (identical(sym, dots_sym)) {\n  .         splice_dots <<- TRUE\n  .         splice(dot_call(capture_dots, frame_env = frame_env, \n  .             named = named, ignore_empty = ignore_empty, unquote_names = unquote_names, \n  .             homonyms = homonyms, check_assign = check_assign))\n  .     }\n  .     else {\n  .         dot_call(capture_arg, sym, frame_env)\n  .     }\n  . })",
            "12. lapply(.x, .f, ...)",
            "13. FUN(X[[i]], ...)",
            "14. splice(dot_call(capture_dots, frame_env = frame_env, named = named, \n  .     ignore_empty = ignore_empty, unquote_names = unquote_names, \n  .     homonyms = homonyms, check_assign = check_assign))",
            "15. (function (arg) \n  . {\n  .     .External(ffi_capturearginfo, environment(), parent.frame())\n  . })(group_var)"
          ]
        }
      ],
      "source": [
        "grouped_mean <- function(df, year,group_vars, mean_var) {\n",
        "  df%>%\n",
        "    group_by({{group_var}})%>%\n",
        "    summarize(mean({{mean_var}}))\n",
        "}\n",
        "\n",
        "grouped_mean(mpg,1999,mode,hwy) %>% head"
      ]
    },
    {
      "cell_type": "markdown",
      "metadata": {
        "id": "GdqKBF9hndou"
      },
      "source": [
        "## Abstraction\n",
        "\n",
        "The main reason to use functions is abstraction: they enable us to break down complex problems into smaller pieces, that we can then reason about individually. "
      ]
    },
    {
      "cell_type": "markdown",
      "metadata": {
        "id": "mryyT9KOndou"
      },
      "source": [
        "![example of a stack trace](http://2.bp.blogspot.com/-9nBb0CvqBIg/T2UKV06nD5I/AAAAAAAAAkQ/Pl2Hfj5HUlY/s1600/short-stack.png)"
      ]
    },
    {
      "cell_type": "markdown",
      "metadata": {
        "id": "kdcLpf3andou"
      },
      "source": [
        "Let's try this principle out on a problem from last ~night's~week's homework:\n",
        "\n",
        "    Consider the Harry Potter series as a collection of documents(books), find top 5 words in each book ranked by TF-IDF. Comment on your finding. (1 point)"
      ]
    },
    {
      "cell_type": "markdown",
      "metadata": {
        "id": "Un8IRscqndou"
      },
      "source": [
        "A possible solution:\n",
        "<pre style=\"font-size: 6px; line-height: 1\">\n",
        "phil_words<-tibble(text=philosophers_stone)%>%\n",
        "  unnest_tokens(input=text, output=word)%>%mutate(book=1)\n",
        "chamber_words<-tibble(text=chamber_of_secrets)%>%\n",
        "  unnest_tokens(input=text, output=word)%>%mutate(book=2)\n",
        "prisoner_words<-tibble(text=prisoner_of_azkaban)%>%\n",
        "  unnest_tokens(input=text, output=word)%>%mutate(book=3)\n",
        "goblet_words<-tibble(text=goblet_of_fire)%>%\n",
        "  unnest_tokens(input=text, output=word)%>%mutate(book=4)\n",
        "phoenix_words<-tibble(text=order_of_the_phoenix)%>%\n",
        "  unnest_tokens(input=text, output=word)%>%mutate(book=5)\n",
        "prince_words<-tibble(text=half_blood_prince)%>%\n",
        "  unnest_tokens(input=text, output=word)%>%mutate(book=6)\n",
        "hallows_words<-tibble(text=deathly_hallows)%>%\n",
        "  unnest_tokens(input=text, output=word)%>%mutate(book=7)\n",
        "\n",
        "wordlist<-phil_words%>%bind_rows(chamber_words,prisoner_words,goblet_words,phoenix_words,prince_words,hallows_words)%>%\n",
        "  group_by(word)%>%\n",
        "  summarize(k=n_distinct(book))\n",
        "\n",
        "phil_tbl<-phil_words%>%left_join(wordlist)%>%\n",
        "  group_by(word,k)%>%\n",
        "  count()%>%\n",
        "  mutate(IDF=1+log(7/k),TF=log(1+n))%>%\n",
        "  mutate(TF_IDF=TF*IDF)%>%\n",
        "  ungroup%>%\n",
        "  arrange(desc(TF_IDF))\n",
        "\n",
        "chamber_tbl<-chamber_words%>%left_join(wordlist)%>%\n",
        "  group_by(word,k)%>%\n",
        "  count()%>%\n",
        "  mutate(IDF=1+log(7/k),TF=log(1+n))%>%\n",
        "  mutate(TF_IDF=TF*IDF)%>%\n",
        "  ungroup%>%\n",
        "  arrange(desc(TF_IDF))\n",
        "\n",
        "prisoner_tbl<-prisoner_words%>%left_join(wordlist)%>%\n",
        "  group_by(word,k)%>%\n",
        "  count()%>%\n",
        "  mutate(IDF=1+log(7/k),TF=log(1+n))%>%\n",
        "  mutate(TF_IDF=TF*IDF)%>%\n",
        "  ungroup%>%\n",
        "  arrange(desc(TF_IDF))\n",
        "\n",
        "goblet_tbl<-goblet_words%>%left_join(wordlist)%>%\n",
        "  group_by(word,k)%>%\n",
        "  count()%>%\n",
        "  mutate(IDF=1+log(7/k),TF=log(1+n))%>%\n",
        "  mutate(TF_IDF=TF*IDF)%>%\n",
        "  ungroup%>%\n",
        "  arrange(desc(TF_IDF))\n",
        "\n",
        "phoenix_tbl<-phoenix_words%>%left_join(wordlist)%>%\n",
        "  group_by(word,k)%>%\n",
        "  count()%>%\n",
        "  mutate(IDF=1+log(7/k),TF=log(1+n))%>%\n",
        "  mutate(TF_IDF=TF*IDF)%>%\n",
        "  ungroup%>%\n",
        "  arrange(desc(TF_IDF))\n",
        "\n",
        "prince_tbl<-prince_words%>%left_join(wordlist)%>%\n",
        "  group_by(word,k)%>%\n",
        "  count()%>%\n",
        "  mutate(IDF=1+log(7/k),TF=log(1+n))%>%\n",
        "  mutate(TF_IDF=TF*IDF)%>%\n",
        "  ungroup%>%\n",
        "  arrange(desc(TF_IDF))\n",
        "\n",
        "hallows_tbl<-hallows_words%>%left_join(wordlist)%>%\n",
        "  group_by(word,k)%>%\n",
        "  count()%>%\n",
        "  mutate(IDF=1+log(7/k),TF=log(1+n))%>%\n",
        "  mutate(TF_IDF=TF*IDF)%>%\n",
        "  ungroup%>%\n",
        "  arrange(desc(TF_IDF))\n",
        "\n",
        "phil_tbl%>%top_n(5,TF_IDF)\n",
        "chamber_tbl%>%top_n(5,TF_IDF)\n",
        "prisoner_tbl%>%top_n(5,TF_IDF)\n",
        "goblet_tbl%>%top_n(5,TF_IDF)\n",
        "phoenix_tbl%>%top_n(5,TF_IDF)\n",
        "prince_tbl%>%top_n(5,TF_IDF)\n",
        "hallows_tbl%>%top_n(5,TF_IDF)\n",
        "</pre>"
      ]
    },
    {
      "cell_type": "markdown",
      "metadata": {
        "id": "YaKc5YwFndou"
      },
      "source": [
        "Let's think abstractly about how to solve this problem:"
      ]
    },
    {
      "cell_type": "code",
      "execution_count": null,
      "metadata": {
        "id": "V-KxHnF3ndou"
      },
      "outputs": [],
      "source": [
        "hp_tbl <- ls(\"package:harrypotter\") %>% \n",
        "    map_dfr(~ tibble(book = ., text = getExportedValue('harrypotter', .), \n",
        "                     chapter = seq_along(text)))"
      ]
    },
    {
      "cell_type": "code",
      "execution_count": null,
      "metadata": {
        "id": "j5IzbqTpndou"
      },
      "outputs": [],
      "source": [
        "# outline of solution for hp_tbl"
      ]
    },
    {
      "cell_type": "code",
      "execution_count": null,
      "metadata": {
        "id": "tzMPTOtandou"
      },
      "outputs": [],
      "source": [
        "# TF-IDF(t,d) = TF(t,d)×IDF(t)\n",
        "# TF(t,d) = log(1 + c(t,d))\n",
        "# IDF(t) = log(N/k)\n",
        "\n",
        "tf_idf <- function(df, document_col, word_col) {\n",
        "    # fill in\n",
        "}"
      ]
    },
    {
      "cell_type": "markdown",
      "metadata": {
        "id": "zd8lUNBT1GUU"
      },
      "source": [
        "## Scope\n",
        "\n",
        "Scoping refers to how R looks up the value associated with an object referred to by name. There are two types of scoping – lexical and dynamic – but we will concern ourselves only with lexical scoping here. There are four keys to understanding scoping:\n",
        "\n",
        "- environments\n",
        "- name masking\n",
        "- variables vs functions\n",
        "- dynamic look up \n"
      ]
    },
    {
      "cell_type": "markdown",
      "metadata": {
        "id": "WKt7nGqZ1GUV"
      },
      "source": [
        "An environment can be thought of as a context in which names are associated with objects. Each time a function is called, it generates a new environment for the computation.\n",
        "\n",
        "Consider the following examples:"
      ]
    },
    {
      "cell_type": "code",
      "execution_count": 45,
      "metadata": {
        "colab": {
          "base_uri": "https://localhost:8080/",
          "height": 34
        },
        "id": "0wNRpFvV1GUV",
        "outputId": "36e2f616-84ce-459e-b297-9c40ade7fa4b"
      },
      "outputs": [
        {
          "output_type": "display_data",
          "data": {
            "text/html": [
              "<style>\n",
              ".list-inline {list-style: none; margin:0; padding: 0}\n",
              ".list-inline>li {display: inline-block}\n",
              ".list-inline>li:not(:last-child)::after {content: \"\\00b7\"; padding: 0 .5ex}\n",
              "</style>\n",
              "<ol class=list-inline><li>'afinn'</li><li>'cty_a'</li><li>'fizzbuzz'</li><li>'hwy_a'</li><li>'rescale'</li><li>'u'</li><li>'w'</li><li>'x'</li><li>'y'</li><li>'z'</li><li>'z_score'</li><li>'z_score2'</li><li>'z_score3'</li></ol>\n"
            ],
            "text/markdown": "1. 'afinn'\n2. 'cty_a'\n3. 'fizzbuzz'\n4. 'hwy_a'\n5. 'rescale'\n6. 'u'\n7. 'w'\n8. 'x'\n9. 'y'\n10. 'z'\n11. 'z_score'\n12. 'z_score2'\n13. 'z_score3'\n\n\n",
            "text/latex": "\\begin{enumerate*}\n\\item 'afinn'\n\\item 'cty\\_a'\n\\item 'fizzbuzz'\n\\item 'hwy\\_a'\n\\item 'rescale'\n\\item 'u'\n\\item 'w'\n\\item 'x'\n\\item 'y'\n\\item 'z'\n\\item 'z\\_score'\n\\item 'z\\_score2'\n\\item 'z\\_score3'\n\\end{enumerate*}\n",
            "text/plain": [
              " [1] \"afinn\"    \"cty_a\"    \"fizzbuzz\" \"hwy_a\"    \"rescale\"  \"u\"       \n",
              " [7] \"w\"        \"x\"        \"y\"        \"z\"        \"z_score\"  \"z_score2\"\n",
              "[13] \"z_score3\""
            ]
          },
          "metadata": {}
        }
      ],
      "source": [
        "ls() # gives all objects (dfs, vars) in environment"
      ]
    },
    {
      "cell_type": "code",
      "execution_count": 49,
      "metadata": {
        "colab": {
          "base_uri": "https://localhost:8080/",
          "height": 52
        },
        "id": "qyf0VEhu1GUY",
        "outputId": "9077e6ef-953a-485a-c86e-00510d02dbcd"
      },
      "outputs": [
        {
          "output_type": "display_data",
          "data": {
            "text/html": [
              "<style>\n",
              ".list-inline {list-style: none; margin:0; padding: 0}\n",
              ".list-inline>li {display: inline-block}\n",
              ".list-inline>li:not(:last-child)::after {content: \"\\00b7\"; padding: 0 .5ex}\n",
              "</style>\n",
              "<ol class=list-inline><li>'f1_message'</li><li>'x'</li></ol>\n"
            ],
            "text/markdown": "1. 'f1_message'\n2. 'x'\n\n\n",
            "text/latex": "\\begin{enumerate*}\n\\item 'f1\\_message'\n\\item 'x'\n\\end{enumerate*}\n",
            "text/plain": [
              "[1] \"f1_message\" \"x\"         "
            ]
          },
          "metadata": {}
        },
        {
          "output_type": "display_data",
          "data": {
            "text/html": [
              "<style>\n",
              ".list-inline {list-style: none; margin:0; padding: 0}\n",
              ".list-inline>li {display: inline-block}\n",
              ".list-inline>li:not(:last-child)::after {content: \"\\00b7\"; padding: 0 .5ex}\n",
              "</style>\n",
              "<ol class=list-inline><li>'afinn'</li><li>'cty_a'</li><li>'f1'</li><li>'fizzbuzz'</li><li>'hwy_a'</li><li>'rescale'</li><li>'u'</li><li>'w'</li><li>'x'</li><li>'y'</li><li>'z'</li><li>'z_score'</li><li>'z_score2'</li><li>'z_score3'</li></ol>\n"
            ],
            "text/markdown": "1. 'afinn'\n2. 'cty_a'\n3. 'f1'\n4. 'fizzbuzz'\n5. 'hwy_a'\n6. 'rescale'\n7. 'u'\n8. 'w'\n9. 'x'\n10. 'y'\n11. 'z'\n12. 'z_score'\n13. 'z_score2'\n14. 'z_score3'\n\n\n",
            "text/latex": "\\begin{enumerate*}\n\\item 'afinn'\n\\item 'cty\\_a'\n\\item 'f1'\n\\item 'fizzbuzz'\n\\item 'hwy\\_a'\n\\item 'rescale'\n\\item 'u'\n\\item 'w'\n\\item 'x'\n\\item 'y'\n\\item 'z'\n\\item 'z\\_score'\n\\item 'z\\_score2'\n\\item 'z\\_score3'\n\\end{enumerate*}\n",
            "text/plain": [
              " [1] \"afinn\"    \"cty_a\"    \"f1\"       \"fizzbuzz\" \"hwy_a\"    \"rescale\" \n",
              " [7] \"u\"        \"w\"        \"x\"        \"y\"        \"z\"        \"z_score\" \n",
              "[13] \"z_score2\" \"z_score3\""
            ]
          },
          "metadata": {}
        }
      ],
      "source": [
        "f1 = function() {\n",
        "  f1_message = \"I'm defined inside of f!\"  # `message` is a function in base\n",
        "  x=10\n",
        "  ls()\n",
        "}\n",
        "f1()\n",
        "ls()"
      ]
    },
    {
      "cell_type": "code",
      "execution_count": 50,
      "metadata": {
        "colab": {
          "base_uri": "https://localhost:8080/",
          "height": 34
        },
        "id": "D_nbqpJY1GUZ",
        "outputId": "c2e8344b-03af-4c66-b919-766a69579d00"
      },
      "outputs": [
        {
          "output_type": "display_data",
          "data": {
            "text/html": [
              "TRUE"
            ],
            "text/markdown": "TRUE",
            "text/latex": "TRUE",
            "text/plain": [
              "[1] TRUE"
            ]
          },
          "metadata": {}
        }
      ],
      "source": [
        "exists('f1') # yes, f1 exists in environ "
      ]
    },
    {
      "cell_type": "code",
      "execution_count": 52,
      "metadata": {
        "colab": {
          "base_uri": "https://localhost:8080/",
          "height": 34
        },
        "id": "_QG0qrLD1GUa",
        "outputId": "8fb278e9-ce0e-443b-e301-4c5f903544c4"
      },
      "outputs": [
        {
          "output_type": "display_data",
          "data": {
            "text/html": [
              "FALSE"
            ],
            "text/markdown": "FALSE",
            "text/latex": "FALSE",
            "text/plain": [
              "[1] FALSE"
            ]
          },
          "metadata": {}
        }
      ],
      "source": [
        "exists('f1_message') # no, f1_message does not exist in environ"
      ]
    },
    {
      "cell_type": "code",
      "execution_count": 53,
      "metadata": {
        "colab": {
          "base_uri": "https://localhost:8080/",
          "height": 35
        },
        "id": "7olP1gHu1GUa",
        "outputId": "15ed2a57-cdf3-47ad-bdbc-9c30038d6b4b"
      },
      "outputs": [
        {
          "output_type": "display_data",
          "data": {
            "text/plain": [
              "<environment: R_GlobalEnv>"
            ]
          },
          "metadata": {}
        }
      ],
      "source": [
        "environment() # here we are in the global environment"
      ]
    },
    {
      "cell_type": "code",
      "execution_count": 54,
      "metadata": {
        "colab": {
          "base_uri": "https://localhost:8080/",
          "height": 35
        },
        "id": "UvGiVtd91GUd",
        "outputId": "5251b981-5689-4072-95d7-20c9f0e65048"
      },
      "outputs": [
        {
          "output_type": "display_data",
          "data": {
            "text/plain": [
              "<environment: 0x55d8096386b8>"
            ]
          },
          "metadata": {}
        }
      ],
      "source": [
        "f2 = function(){\n",
        "  environment() # here we are in the local environment -- each time we get a different local environment\n",
        "    # created for the purpose of this function\n",
        "}\n",
        "f2()"
      ]
    },
    {
      "cell_type": "code",
      "execution_count": 55,
      "metadata": {
        "id": "57mLeAoN1GUd"
      },
      "outputs": [],
      "source": [
        "rm(f1, f2)"
      ]
    },
    {
      "cell_type": "markdown",
      "metadata": {
        "id": "kG--gm7L1GUe"
      },
      "source": [
        "Name masking refers to where and in what order `R` looks for object names.\n",
        "When we call `f1` above, `R` first looks in the current environment which happens to be the global environment. The call to `ls()` however, happens within the environment created by the function call and hence returns only the objects defined in the local environment."
      ]
    },
    {
      "cell_type": "markdown",
      "metadata": {
        "id": "aCkUBwRM1GUg"
      },
      "source": [
        "When an environment is created, it gets nested within the current environment referred to as the “parent environment”. When an object is referenced we first look in the current environment and move recursively up through parent environments until we find a value bound to that name.\n",
        "\n"
      ]
    },
    {
      "cell_type": "markdown",
      "metadata": {
        "id": "kdykZtFW1GUh"
      },
      "source": [
        "Name masking refers to the notion that objects of the same name can exist in different environments. Consider these examples:\n",
        "\n"
      ]
    },
    {
      "cell_type": "code",
      "execution_count": 56,
      "metadata": {
        "colab": {
          "base_uri": "https://localhost:8080/"
        },
        "id": "Rqu63x6V1GUh",
        "outputId": "b55c6ef3-14de-472f-8a0b-32e20980f972"
      },
      "outputs": [
        {
          "output_type": "stream",
          "name": "stdout",
          "text": [
            "[1] \"x = I came from inside of f! and y = I came from outside of f!\"\n",
            "[1] \"outside-x = I came from outside of f! and outside-y = I came from outside of f!\"\n"
          ]
        }
      ],
      "source": [
        "#  Example 3 -- lexical scoping\n",
        "y = x = 'I came from outside of f!'\n",
        "f3 = function(){\n",
        "  x =  'I came from inside of f!'\n",
        "  print(paste(\"x =\", x, \"and y =\", y))\n",
        "}\n",
        "f3()\n",
        "print(paste(\"outside-x =\", x, \"and outside-y =\", y))"
      ]
    },
    {
      "cell_type": "markdown",
      "metadata": {
        "id": "B4v1OFQzaYdN"
      },
      "source": [
        "* x is redefined inside the function enviornment\n",
        "* y is not, so R will search for y in the parent environment and keep moving up\n",
        "* x that is associated with f3, is not going to change the x in the global environment, unless we explicitly write the code to do that"
      ]
    },
    {
      "cell_type": "code",
      "execution_count": 59,
      "metadata": {
        "id": "KsUNVcUK1GUk",
        "outputId": "f9767afa-bc89-4bba-82d4-b15e159119aa",
        "colab": {
          "base_uri": "https://localhost:8080/",
          "height": 34
        }
      },
      "outputs": [
        {
          "output_type": "display_data",
          "data": {
            "text/html": [
              "<style>\n",
              ".list-inline {list-style: none; margin:0; padding: 0}\n",
              ".list-inline>li {display: inline-block}\n",
              ".list-inline>li:not(:last-child)::after {content: \"\\00b7\"; padding: 0 .5ex}\n",
              "</style>\n",
              "<ol class=list-inline><li>55</li><li>27.5</li><li>18.3333333333333</li><li>13.75</li><li>11</li><li>9.16666666666667</li><li>7.85714285714286</li><li>6.875</li><li>6.11111111111111</li><li>5.5</li></ol>\n"
            ],
            "text/markdown": "1. 55\n2. 27.5\n3. 18.3333333333333\n4. 13.75\n5. 11\n6. 9.16666666666667\n7. 7.85714285714286\n8. 6.875\n9. 6.11111111111111\n10. 5.5\n\n\n",
            "text/latex": "\\begin{enumerate*}\n\\item 55\n\\item 27.5\n\\item 18.3333333333333\n\\item 13.75\n\\item 11\n\\item 9.16666666666667\n\\item 7.85714285714286\n\\item 6.875\n\\item 6.11111111111111\n\\item 5.5\n\\end{enumerate*}\n",
            "text/plain": [
              " [1] 55.000000 27.500000 18.333333 13.750000 11.000000  9.166667  7.857143\n",
              " [8]  6.875000  6.111111  5.500000"
            ]
          },
          "metadata": {}
        }
      ],
      "source": [
        "#  Example 4 -- masking\n",
        "mean = function(x){ \n",
        "    sum(x)\n",
        "}\n",
        "mean(1:10)\n",
        "# notice that we created an incorrect mean function"
      ]
    },
    {
      "cell_type": "code",
      "execution_count": 61,
      "metadata": {
        "id": "-UZUcOyz1GUl",
        "outputId": "65373db5-180f-4e4a-d509-2f0d3ea0d64f",
        "colab": {
          "base_uri": "https://localhost:8080/",
          "height": 34
        }
      },
      "outputs": [
        {
          "output_type": "display_data",
          "data": {
            "text/html": [
              "5.5"
            ],
            "text/markdown": "5.5",
            "text/latex": "5.5",
            "text/plain": [
              "[1] 5.5"
            ]
          },
          "metadata": {}
        }
      ],
      "source": [
        "base::mean(1:10)\n",
        "# so we need to use base mean function, instead of whatever is in our environ, to get the right mean "
      ]
    },
    {
      "cell_type": "code",
      "execution_count": 63,
      "metadata": {
        "id": "Kgp1U3nd1GUm",
        "colab": {
          "base_uri": "https://localhost:8080/"
        },
        "outputId": "2188d91b-889f-45f9-8e78-963741481517"
      },
      "outputs": [
        {
          "output_type": "stream",
          "name": "stderr",
          "text": [
            "Warning message in rm(mean):\n",
            "“object 'mean' not found”\n"
          ]
        }
      ],
      "source": [
        "rm(mean)\n",
        "# to ensure the incorrectwrong mean function doesn't stay in our environ "
      ]
    },
    {
      "cell_type": "markdown",
      "metadata": {
        "id": "_sroTkw31GUo"
      },
      "source": [
        "R also uses dynamic look up, meaning values are searched for when a function is called, not when it is created. In the example above, y was defined in the global environment rather than within the function body. This means the value returned by f3 depends on the value of y in the global environment. You should generally avoid this, but there are occasions where it can be useful.\n",
        "\n"
      ]
    },
    {
      "cell_type": "code",
      "execution_count": 64,
      "metadata": {
        "id": "9KRL-9jU1GUp",
        "outputId": "5a888230-ed7b-475e-95ae-f91328b405f3",
        "colab": {
          "base_uri": "https://localhost:8080/"
        }
      },
      "outputs": [
        {
          "output_type": "stream",
          "name": "stdout",
          "text": [
            "[1] \"x = I came from inside of f! and y = I have been reinvented!\"\n"
          ]
        }
      ],
      "source": [
        "# Example 5 - dynamic lookup\n",
        "y = \"I have been reinvented!\"\n",
        "f3()"
      ]
    }
  ],
  "metadata": {
    "celltoolbar": "Slideshow",
    "colab": {
      "provenance": [],
      "include_colab_link": true
    },
    "kernelspec": {
      "display_name": "R",
      "language": "R",
      "name": "ir"
    },
    "language_info": {
      "codemirror_mode": "r",
      "file_extension": ".r",
      "mimetype": "text/x-r-source",
      "name": "R",
      "pygments_lexer": "r",
      "version": "4.2.1"
    }
  },
  "nbformat": 4,
  "nbformat_minor": 0
}