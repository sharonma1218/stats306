{
  "cells": [
    {
      "cell_type": "markdown",
      "metadata": {
        "id": "view-in-github",
        "colab_type": "text"
      },
      "source": [
        "<a href=\"https://colab.research.google.com/github/sharonma1218/stats306/blob/main/lecture14_class.ipynb\" target=\"_parent\"><img src=\"https://colab.research.google.com/assets/colab-badge.svg\" alt=\"Open In Colab\"/></a>"
      ]
    },
    {
      "cell_type": "code",
      "source": [
        "install.packages('nycflights13')"
      ],
      "metadata": {
        "colab": {
          "base_uri": "https://localhost:8080/"
        },
        "id": "GvdY22Adkyuo",
        "outputId": "3a8080ac-49b2-4af4-931c-b252d91b4f90"
      },
      "execution_count": 3,
      "outputs": [
        {
          "output_type": "stream",
          "name": "stderr",
          "text": [
            "Installing package into ‘/usr/local/lib/R/site-library’\n",
            "(as ‘lib’ is unspecified)\n",
            "\n"
          ]
        }
      ]
    },
    {
      "cell_type": "code",
      "execution_count": 4,
      "metadata": {
        "id": "Q3npv-g7kpbo"
      },
      "outputs": [],
      "source": [
        "library(tidyverse)\n",
        "library(lubridate)\n",
        "library(forcats)\n",
        "library(nycflights13)\n",
        "options(repr.plot.width=8, repr.plot.height=5, repl.plot.dpi=150)\n",
        "theme_set(theme_classic())"
      ]
    },
    {
      "cell_type": "markdown",
      "metadata": {
        "id": "2jSopqPykpbt"
      },
      "source": [
        "# Lecture 14: Factors"
      ]
    },
    {
      "cell_type": "markdown",
      "metadata": {
        "id": "i-GZuF_Gkpbu"
      },
      "source": [
        "In this lecture we will use the [General Social Survey](https://gss.norc.org) to study various social indicators in the U.S. The book covers an example extract of this dataset called `gss_cat`. However, it is not up to date; in particular it does not include any data from people who were born after the year 2000 (i.e. almost everyone in this room except the professor). So to make it more relevant, we are going to load a more recent version of the data."
      ]
    },
    {
      "cell_type": "code",
      "execution_count": 5,
      "metadata": {
        "id": "owoxJqdakpbv"
      },
      "outputs": [],
      "source": [
        "load(url('https://datasets.stats306.org/gss18.RData'))"
      ]
    },
    {
      "cell_type": "markdown",
      "metadata": {
        "id": "Dbrc_Evjkpbv"
      },
      "source": [
        "This command has loaded two tables into your workspace: `gss18.raw` contains the raw data, and `gss18.doc` contains \n",
        "information about what each column in `gss18.raw` represents:"
      ]
    },
    {
      "cell_type": "code",
      "execution_count": 6,
      "metadata": {
        "id": "I9kdybbVkpbw",
        "outputId": "abaf7d8a-6e84-4ce4-f1f9-83992408d4d7",
        "colab": {
          "base_uri": "https://localhost:8080/"
        }
      },
      "outputs": [
        {
          "output_type": "stream",
          "name": "stdout",
          "text": [
            "\u001b[90m# A tibble: 2,348 × 14\u001b[39m\n",
            "     age  race   sex relig relpast sexbirth sexnow yearsusa unhappy  educ income\n",
            "   \u001b[3m\u001b[90m<int>\u001b[39m\u001b[23m \u001b[3m\u001b[90m<int>\u001b[39m\u001b[23m \u001b[3m\u001b[90m<int>\u001b[39m\u001b[23m \u001b[3m\u001b[90m<int>\u001b[39m\u001b[23m   \u001b[3m\u001b[90m<int>\u001b[39m\u001b[23m    \u001b[3m\u001b[90m<int>\u001b[39m\u001b[23m  \u001b[3m\u001b[90m<int>\u001b[39m\u001b[23m    \u001b[3m\u001b[90m<int>\u001b[39m\u001b[23m   \u001b[3m\u001b[90m<int>\u001b[39m\u001b[23m \u001b[3m\u001b[90m<int>\u001b[39m\u001b[23m  \u001b[3m\u001b[90m<int>\u001b[39m\u001b[23m\n",
            "\u001b[90m 1\u001b[39m    43     1     1    11       5       \u001b[31mNA\u001b[39m     \u001b[31mNA\u001b[39m       \u001b[31mNA\u001b[39m      \u001b[31mNA\u001b[39m    14     \u001b[31mNA\u001b[39m\n",
            "\u001b[90m 2\u001b[39m    74     1     2     2      \u001b[31mNA\u001b[39m        1      1       \u001b[31mNA\u001b[39m       1    10     12\n",
            "\u001b[90m 3\u001b[39m    42     1     1     4       3        2      2       \u001b[31mNA\u001b[39m      \u001b[31mNA\u001b[39m    16     12\n",
            "\u001b[90m 4\u001b[39m    63     1     2     1      \u001b[31mNA\u001b[39m        1      1       \u001b[31mNA\u001b[39m       2    16     \u001b[31mNA\u001b[39m\n",
            "\u001b[90m 5\u001b[39m    71     2     1     2      \u001b[31mNA\u001b[39m        2      2       \u001b[31mNA\u001b[39m       1    18     \u001b[31mNA\u001b[39m\n",
            "\u001b[90m 6\u001b[39m    67     1     2     2       4       \u001b[31mNA\u001b[39m     \u001b[31mNA\u001b[39m       \u001b[31mNA\u001b[39m      \u001b[31mNA\u001b[39m    16     \u001b[31mNA\u001b[39m\n",
            "\u001b[90m 7\u001b[39m    59     2     2     1      \u001b[31mNA\u001b[39m       \u001b[31mNA\u001b[39m     \u001b[31mNA\u001b[39m       \u001b[31mNA\u001b[39m       2    13     10\n",
            "\u001b[90m 8\u001b[39m    43     1     1     2      \u001b[31mNA\u001b[39m        2      2       \u001b[31mNA\u001b[39m       2    12     12\n",
            "\u001b[90m 9\u001b[39m    62     1     2     4       4        1      1       \u001b[31mNA\u001b[39m      \u001b[31mNA\u001b[39m     8      5\n",
            "\u001b[90m10\u001b[39m    55     1     1     1      \u001b[31mNA\u001b[39m        2      2       \u001b[31mNA\u001b[39m       4    12     12\n",
            "\u001b[90m# … with 2,338 more rows, and 3 more variables: phone <int>, tvhours <int>,\u001b[39m\n",
            "\u001b[90m#   partyid <int>\u001b[39m\n"
          ]
        }
      ],
      "source": [
        "gss18.raw %>% print"
      ]
    },
    {
      "cell_type": "markdown",
      "metadata": {
        "id": "qnYKZpV_kpbx"
      },
      "source": [
        "## Factors\n",
        "Except for `age` and `tvhours`, each of the columns in `gss18.raw` is a categorical random variable. (Recall that a random variable is *categorical* if it takes on one of a (small) number of discrete values.) In R we represent categorical variables using *factors*."
      ]
    },
    {
      "cell_type": "markdown",
      "metadata": {
        "id": "y9OfwIQ5kpbx"
      },
      "source": [
        "To learn the basics, we'll start with a simple example, before returning to the `gss` data:"
      ]
    },
    {
      "cell_type": "code",
      "execution_count": 7,
      "metadata": {
        "id": "kIfPLGcjkpby"
      },
      "outputs": [],
      "source": [
        "birth_months = c(\"Jan\", \"Feb\", \"Sep\", \"Sep\", \"Dec\", \"Jan\", \"Jul\", \"Aug\")  # categorical variable"
      ]
    },
    {
      "cell_type": "markdown",
      "metadata": {
        "id": "PlYfx1wFkpby"
      },
      "source": [
        "The *possible* values of a categorical variable are called the *levels*. The levels of `birth_months` are `Jan`, `Feb`, ..., `Dec`. The *actual* values of `birth_months` are just called the values."
      ]
    },
    {
      "cell_type": "markdown",
      "metadata": {
        "id": "Oof0PQiSkpby"
      },
      "source": [
        "*Factors* are the traditional way to represent categorical data in R. To create a factor, we must specify the levels and the values:"
      ]
    },
    {
      "cell_type": "code",
      "execution_count": 8,
      "metadata": {
        "id": "CIDKnkojkpbz",
        "outputId": "6c9aa9a2-8e77-4e27-8a2c-aa46b7927a40",
        "colab": {
          "base_uri": "https://localhost:8080/"
        }
      },
      "outputs": [
        {
          "output_type": "stream",
          "name": "stdout",
          "text": [
            "[1] Jan Feb Sep Sep Dec Jan Jul Aug\n",
            "Levels: Jan Feb Mar Apr May Jun Jul Aug Sep Oct Nov Dec\n"
          ]
        }
      ],
      "source": [
        "birth_months_fac = factor(birth_months, levels=month.abb) %>% print"
      ]
    },
    {
      "cell_type": "markdown",
      "metadata": {
        "id": "6C5n4BXtkpbz"
      },
      "source": [
        "If you don't specify the levels, R will infer them based on all the observed values of the variable:"
      ]
    },
    {
      "cell_type": "code",
      "execution_count": 9,
      "metadata": {
        "id": "m_gvXrgBkpbz",
        "outputId": "0eff1340-72bc-45ae-f925-5f7c92370315",
        "colab": {
          "base_uri": "https://localhost:8080/"
        }
      },
      "outputs": [
        {
          "output_type": "stream",
          "name": "stdout",
          "text": [
            " Factor w/ 6 levels \"Aug\",\"Dec\",\"Feb\",..: 4 3 6 6 2 4 5 1\n"
          ]
        }
      ],
      "source": [
        "factor(birth_months) %>% str"
      ]
    },
    {
      "cell_type": "markdown",
      "metadata": {
        "id": "5XPknMM1kpb0"
      },
      "source": [
        "It's best to be explicit about the factor levels. This way, if you there are typos or data entry errors, you will catch them more easily:"
      ]
    },
    {
      "cell_type": "code",
      "execution_count": 10,
      "metadata": {
        "id": "9pCtVkEPkpb0",
        "outputId": "e3c31447-ad94-4c4a-a947-e13955559619",
        "colab": {
          "base_uri": "https://localhost:8080/",
          "height": 52
        }
      },
      "outputs": [
        {
          "output_type": "display_data",
          "data": {
            "text/html": [
              "<style>\n",
              ".list-inline {list-style: none; margin:0; padding: 0}\n",
              ".list-inline>li {display: inline-block}\n",
              ".list-inline>li:not(:last-child)::after {content: \"\\00b7\"; padding: 0 .5ex}\n",
              "</style>\n",
              "<ol class=list-inline><li>Jan</li><li>Feb</li><li>Sep</li><li>&lt;NA&gt;</li><li>Dec</li><li>Jan</li><li>Jul</li><li>Aug</li></ol>\n",
              "\n",
              "<details>\n",
              "\t<summary style=display:list-item;cursor:pointer>\n",
              "\t\t<strong>Levels</strong>:\n",
              "\t</summary>\n",
              "\t<style>\n",
              "\t.list-inline {list-style: none; margin:0; padding: 0}\n",
              "\t.list-inline>li {display: inline-block}\n",
              "\t.list-inline>li:not(:last-child)::after {content: \"\\00b7\"; padding: 0 .5ex}\n",
              "\t</style>\n",
              "\t<ol class=list-inline><li>'Jan'</li><li>'Feb'</li><li>'Mar'</li><li>'Apr'</li><li>'May'</li><li>'Jun'</li><li>'Jul'</li><li>'Aug'</li><li>'Sep'</li><li>'Oct'</li><li>'Nov'</li><li>'Dec'</li></ol>\n",
              "</details>"
            ],
            "text/markdown": "1. Jan\n2. Feb\n3. Sep\n4. &lt;NA&gt;\n5. Dec\n6. Jan\n7. Jul\n8. Aug\n\n\n\n**Levels**: 1. 'Jan'\n2. 'Feb'\n3. 'Mar'\n4. 'Apr'\n5. 'May'\n6. 'Jun'\n7. 'Jul'\n8. 'Aug'\n9. 'Sep'\n10. 'Oct'\n11. 'Nov'\n12. 'Dec'\n\n\n",
            "text/latex": "\\begin{enumerate*}\n\\item Jan\n\\item Feb\n\\item Sep\n\\item <NA>\n\\item Dec\n\\item Jan\n\\item Jul\n\\item Aug\n\\end{enumerate*}\n\n\\emph{Levels}: \\begin{enumerate*}\n\\item 'Jan'\n\\item 'Feb'\n\\item 'Mar'\n\\item 'Apr'\n\\item 'May'\n\\item 'Jun'\n\\item 'Jul'\n\\item 'Aug'\n\\item 'Sep'\n\\item 'Oct'\n\\item 'Nov'\n\\item 'Dec'\n\\end{enumerate*}\n",
            "text/plain": [
              "[1] Jan  Feb  Sep  <NA> Dec  Jan  Jul  Aug \n",
              "Levels: Jan Feb Mar Apr May Jun Jul Aug Sep Oct Nov Dec"
            ]
          },
          "metadata": {}
        }
      ],
      "source": [
        "bad = c(\"Jan\", \"Feb\", \"Sep\", \"Ser\", \"Dec\", \"Jan\", \"Jul\", \"Aug\")\n",
        "#                               ^ note typo\n",
        "# factor(bad)\n",
        "factor(bad, levels=month.abb)"
      ]
    },
    {
      "cell_type": "markdown",
      "metadata": {
        "id": "8xardbJbkpb0"
      },
      "source": [
        "### Order\n",
        "One advantage of factors is that they can be ordered. This enables them to sort and plot in the way you would expect. Compare:"
      ]
    },
    {
      "cell_type": "code",
      "execution_count": 11,
      "metadata": {
        "id": "WzWO6cSmkpb0",
        "outputId": "e5d2b9e4-7789-475d-d6b2-1fadf5f6ac9b",
        "colab": {
          "base_uri": "https://localhost:8080/",
          "height": 34
        }
      },
      "outputs": [
        {
          "output_type": "display_data",
          "data": {
            "text/html": [
              "<style>\n",
              ".list-inline {list-style: none; margin:0; padding: 0}\n",
              ".list-inline>li {display: inline-block}\n",
              ".list-inline>li:not(:last-child)::after {content: \"\\00b7\"; padding: 0 .5ex}\n",
              "</style>\n",
              "<ol class=list-inline><li>'Aug'</li><li>'Dec'</li><li>'Feb'</li><li>'Jan'</li><li>'Jan'</li><li>'Jul'</li><li>'Sep'</li><li>'Sep'</li></ol>\n"
            ],
            "text/markdown": "1. 'Aug'\n2. 'Dec'\n3. 'Feb'\n4. 'Jan'\n5. 'Jan'\n6. 'Jul'\n7. 'Sep'\n8. 'Sep'\n\n\n",
            "text/latex": "\\begin{enumerate*}\n\\item 'Aug'\n\\item 'Dec'\n\\item 'Feb'\n\\item 'Jan'\n\\item 'Jan'\n\\item 'Jul'\n\\item 'Sep'\n\\item 'Sep'\n\\end{enumerate*}\n",
            "text/plain": [
              "[1] \"Aug\" \"Dec\" \"Feb\" \"Jan\" \"Jan\" \"Jul\" \"Sep\" \"Sep\""
            ]
          },
          "metadata": {}
        }
      ],
      "source": [
        "sort(birth_months)"
      ]
    },
    {
      "cell_type": "code",
      "execution_count": 12,
      "metadata": {
        "id": "gNnY_lrGkpb1",
        "outputId": "8ff684b9-51f9-49b0-a1f4-e51c3c89ef98",
        "colab": {
          "base_uri": "https://localhost:8080/",
          "height": 52
        }
      },
      "outputs": [
        {
          "output_type": "display_data",
          "data": {
            "text/html": [
              "<style>\n",
              ".list-inline {list-style: none; margin:0; padding: 0}\n",
              ".list-inline>li {display: inline-block}\n",
              ".list-inline>li:not(:last-child)::after {content: \"\\00b7\"; padding: 0 .5ex}\n",
              "</style>\n",
              "<ol class=list-inline><li>Jan</li><li>Jan</li><li>Feb</li><li>Jul</li><li>Aug</li><li>Sep</li><li>Sep</li><li>Dec</li></ol>\n",
              "\n",
              "<details>\n",
              "\t<summary style=display:list-item;cursor:pointer>\n",
              "\t\t<strong>Levels</strong>:\n",
              "\t</summary>\n",
              "\t<style>\n",
              "\t.list-inline {list-style: none; margin:0; padding: 0}\n",
              "\t.list-inline>li {display: inline-block}\n",
              "\t.list-inline>li:not(:last-child)::after {content: \"\\00b7\"; padding: 0 .5ex}\n",
              "\t</style>\n",
              "\t<ol class=list-inline><li>'Jan'</li><li>'Feb'</li><li>'Mar'</li><li>'Apr'</li><li>'May'</li><li>'Jun'</li><li>'Jul'</li><li>'Aug'</li><li>'Sep'</li><li>'Oct'</li><li>'Nov'</li><li>'Dec'</li></ol>\n",
              "</details>"
            ],
            "text/markdown": "1. Jan\n2. Jan\n3. Feb\n4. Jul\n5. Aug\n6. Sep\n7. Sep\n8. Dec\n\n\n\n**Levels**: 1. 'Jan'\n2. 'Feb'\n3. 'Mar'\n4. 'Apr'\n5. 'May'\n6. 'Jun'\n7. 'Jul'\n8. 'Aug'\n9. 'Sep'\n10. 'Oct'\n11. 'Nov'\n12. 'Dec'\n\n\n",
            "text/latex": "\\begin{enumerate*}\n\\item Jan\n\\item Jan\n\\item Feb\n\\item Jul\n\\item Aug\n\\item Sep\n\\item Sep\n\\item Dec\n\\end{enumerate*}\n\n\\emph{Levels}: \\begin{enumerate*}\n\\item 'Jan'\n\\item 'Feb'\n\\item 'Mar'\n\\item 'Apr'\n\\item 'May'\n\\item 'Jun'\n\\item 'Jul'\n\\item 'Aug'\n\\item 'Sep'\n\\item 'Oct'\n\\item 'Nov'\n\\item 'Dec'\n\\end{enumerate*}\n",
            "text/plain": [
              "[1] Jan Jan Feb Jul Aug Sep Sep Dec\n",
              "Levels: Jan Feb Mar Apr May Jun Jul Aug Sep Oct Nov Dec"
            ]
          },
          "metadata": {}
        }
      ],
      "source": [
        "sort(birth_months_fac)"
      ]
    },
    {
      "cell_type": "markdown",
      "metadata": {
        "id": "r9V1cYxikpb1"
      },
      "source": [
        "If you specify the factor levels using the `levels=` option, then that will specify the default order. If you do *not* specify the levels, then they will be sorted alphabetically by default:"
      ]
    },
    {
      "cell_type": "code",
      "execution_count": 13,
      "metadata": {
        "id": "JayJTXyrkpb1",
        "outputId": "1558cb78-34ec-44c4-a080-bfd76dc078fc",
        "colab": {
          "base_uri": "https://localhost:8080/",
          "height": 34
        }
      },
      "outputs": [
        {
          "output_type": "display_data",
          "data": {
            "text/html": [
              "<style>\n",
              ".list-inline {list-style: none; margin:0; padding: 0}\n",
              ".list-inline>li {display: inline-block}\n",
              ".list-inline>li:not(:last-child)::after {content: \"\\00b7\"; padding: 0 .5ex}\n",
              "</style>\n",
              "<ol class=list-inline><li>'Jan'</li><li>'Feb'</li><li>'Mar'</li><li>'Apr'</li><li>'May'</li><li>'Jun'</li><li>'Jul'</li><li>'Aug'</li><li>'Sep'</li><li>'Oct'</li><li>'Nov'</li><li>'Dec'</li></ol>\n"
            ],
            "text/markdown": "1. 'Jan'\n2. 'Feb'\n3. 'Mar'\n4. 'Apr'\n5. 'May'\n6. 'Jun'\n7. 'Jul'\n8. 'Aug'\n9. 'Sep'\n10. 'Oct'\n11. 'Nov'\n12. 'Dec'\n\n\n",
            "text/latex": "\\begin{enumerate*}\n\\item 'Jan'\n\\item 'Feb'\n\\item 'Mar'\n\\item 'Apr'\n\\item 'May'\n\\item 'Jun'\n\\item 'Jul'\n\\item 'Aug'\n\\item 'Sep'\n\\item 'Oct'\n\\item 'Nov'\n\\item 'Dec'\n\\end{enumerate*}\n",
            "text/plain": [
              " [1] \"Jan\" \"Feb\" \"Mar\" \"Apr\" \"May\" \"Jun\" \"Jul\" \"Aug\" \"Sep\" \"Oct\" \"Nov\" \"Dec\""
            ]
          },
          "metadata": {}
        }
      ],
      "source": [
        "levels(birth_months_fac)"
      ]
    },
    {
      "cell_type": "code",
      "execution_count": 14,
      "metadata": {
        "id": "R7BzX49xkpb1",
        "outputId": "cacd6b76-81b5-4762-bc2a-06dfe1093ffc",
        "colab": {
          "base_uri": "https://localhost:8080/",
          "height": 34
        }
      },
      "outputs": [
        {
          "output_type": "display_data",
          "data": {
            "text/html": [
              "<style>\n",
              ".list-inline {list-style: none; margin:0; padding: 0}\n",
              ".list-inline>li {display: inline-block}\n",
              ".list-inline>li:not(:last-child)::after {content: \"\\00b7\"; padding: 0 .5ex}\n",
              "</style>\n",
              "<ol class=list-inline><li>'Aug'</li><li>'Dec'</li><li>'Feb'</li><li>'Jan'</li><li>'Jul'</li><li>'Sep'</li></ol>\n"
            ],
            "text/markdown": "1. 'Aug'\n2. 'Dec'\n3. 'Feb'\n4. 'Jan'\n5. 'Jul'\n6. 'Sep'\n\n\n",
            "text/latex": "\\begin{enumerate*}\n\\item 'Aug'\n\\item 'Dec'\n\\item 'Feb'\n\\item 'Jan'\n\\item 'Jul'\n\\item 'Sep'\n\\end{enumerate*}\n",
            "text/plain": [
              "[1] \"Aug\" \"Dec\" \"Feb\" \"Jan\" \"Jul\" \"Sep\""
            ]
          },
          "metadata": {}
        }
      ],
      "source": [
        "levels(factor(birth_months))"
      ]
    },
    {
      "cell_type": "markdown",
      "metadata": {
        "id": "issE7tGTkpb1"
      },
      "source": [
        "Now, back to `gss18`. Let's focus on the [`race`](https://gssdataexplorer.norc.org/variables/82/vshow) column:"
      ]
    },
    {
      "cell_type": "code",
      "execution_count": 15,
      "metadata": {
        "id": "HdoLSIDykpb1",
        "outputId": "74721bc1-2d17-41d1-bbca-1de8941b1359",
        "colab": {
          "base_uri": "https://localhost:8080/"
        }
      },
      "outputs": [
        {
          "output_type": "stream",
          "name": "stdout",
          "text": [
            "\u001b[90m# A tibble: 2,348 × 1\u001b[39m\n",
            "    race\n",
            "   \u001b[3m\u001b[90m<int>\u001b[39m\u001b[23m\n",
            "\u001b[90m 1\u001b[39m     1\n",
            "\u001b[90m 2\u001b[39m     1\n",
            "\u001b[90m 3\u001b[39m     1\n",
            "\u001b[90m 4\u001b[39m     1\n",
            "\u001b[90m 5\u001b[39m     2\n",
            "\u001b[90m 6\u001b[39m     1\n",
            "\u001b[90m 7\u001b[39m     2\n",
            "\u001b[90m 8\u001b[39m     1\n",
            "\u001b[90m 9\u001b[39m     1\n",
            "\u001b[90m10\u001b[39m     1\n",
            "\u001b[90m# … with 2,338 more rows\u001b[39m\n"
          ]
        }
      ],
      "source": [
        "gss18.raw %>% select(race) %>% print"
      ]
    },
    {
      "cell_type": "markdown",
      "metadata": {
        "id": "FC_O5m8rkpb2"
      },
      "source": [
        "These data have been encoded for us into numbers. To get the coding scheme, we can consult the accompanying `gss18.doc` table:"
      ]
    },
    {
      "cell_type": "code",
      "execution_count": 16,
      "metadata": {
        "id": "u8VOPnM6kpb2",
        "colab": {
          "base_uri": "https://localhost:8080/",
          "height": 224
        },
        "outputId": "093a42ad-9482-40c8-8cfd-f06960470237"
      },
      "outputs": [
        {
          "output_type": "display_data",
          "data": {
            "text/html": [
              "<table class=\"dataframe\">\n",
              "<caption>A tibble: 4 × 5</caption>\n",
              "<thead>\n",
              "\t<tr><th scope=col>percent</th><th scope=col>n</th><th scope=col>value</th><th scope=col>label</th><th scope=col>id</th></tr>\n",
              "\t<tr><th scope=col>&lt;dbl&gt;</th><th scope=col>&lt;chr&gt;</th><th scope=col>&lt;chr&gt;</th><th scope=col>&lt;chr&gt;</th><th scope=col>&lt;chr&gt;</th></tr>\n",
              "</thead>\n",
              "<tbody>\n",
              "\t<tr><td> 80.3</td><td>52,033</td><td>1 </td><td>WHITE</td><td>RACE</td></tr>\n",
              "\t<tr><td> 14.2</td><td>9,187 </td><td>2 </td><td>BLACK</td><td>RACE</td></tr>\n",
              "\t<tr><td>  5.5</td><td>3,594 </td><td>3 </td><td>OTHER</td><td>RACE</td></tr>\n",
              "\t<tr><td>100.0</td><td>64,814</td><td>NA</td><td>Total</td><td>RACE</td></tr>\n",
              "</tbody>\n",
              "</table>\n"
            ],
            "text/markdown": "\nA tibble: 4 × 5\n\n| percent &lt;dbl&gt; | n &lt;chr&gt; | value &lt;chr&gt; | label &lt;chr&gt; | id &lt;chr&gt; |\n|---|---|---|---|---|\n|  80.3 | 52,033 | 1  | WHITE | RACE |\n|  14.2 | 9,187  | 2  | BLACK | RACE |\n|   5.5 | 3,594  | 3  | OTHER | RACE |\n| 100.0 | 64,814 | NA | Total | RACE |\n\n",
            "text/latex": "A tibble: 4 × 5\n\\begin{tabular}{lllll}\n percent & n & value & label & id\\\\\n <dbl> & <chr> & <chr> & <chr> & <chr>\\\\\n\\hline\n\t  80.3 & 52,033 & 1  & WHITE & RACE\\\\\n\t  14.2 & 9,187  & 2  & BLACK & RACE\\\\\n\t   5.5 & 3,594  & 3  & OTHER & RACE\\\\\n\t 100.0 & 64,814 & NA & Total & RACE\\\\\n\\end{tabular}\n",
            "text/plain": [
              "  percent n      value label id  \n",
              "1  80.3   52,033 1     WHITE RACE\n",
              "2  14.2   9,187  2     BLACK RACE\n",
              "3   5.5   3,594  3     OTHER RACE\n",
              "4 100.0   64,814 NA    Total RACE"
            ]
          },
          "metadata": {}
        }
      ],
      "source": [
        "# pull up data on race column\n",
        "gss18.doc%>%\n",
        "  filter(id==\"race\")%>%\n",
        "  select(marginals)%>%\n",
        "  unnest(cols=c(marginals))"
      ]
    },
    {
      "cell_type": "markdown",
      "metadata": {
        "id": "rG5JRlZpkpb2"
      },
      "source": [
        "Let's convert race in `gss18.raw` from an integer into a factor:"
      ]
    },
    {
      "cell_type": "code",
      "execution_count": 19,
      "metadata": {
        "id": "fbwqkW3Zkpb2",
        "outputId": "1b9415ad-d52d-4755-df47-87925d456dd2",
        "colab": {
          "base_uri": "https://localhost:8080/",
          "height": 286
        }
      },
      "outputs": [
        {
          "output_type": "display_data",
          "data": {
            "text/html": [
              "<table class=\"dataframe\">\n",
              "<caption>A tibble: 6 × 14</caption>\n",
              "<thead>\n",
              "\t<tr><th scope=col>age</th><th scope=col>race</th><th scope=col>sex</th><th scope=col>relig</th><th scope=col>relpast</th><th scope=col>sexbirth</th><th scope=col>sexnow</th><th scope=col>yearsusa</th><th scope=col>unhappy</th><th scope=col>educ</th><th scope=col>income</th><th scope=col>phone</th><th scope=col>tvhours</th><th scope=col>partyid</th></tr>\n",
              "\t<tr><th scope=col>&lt;int&gt;</th><th scope=col>&lt;fct&gt;</th><th scope=col>&lt;int&gt;</th><th scope=col>&lt;int&gt;</th><th scope=col>&lt;int&gt;</th><th scope=col>&lt;int&gt;</th><th scope=col>&lt;int&gt;</th><th scope=col>&lt;int&gt;</th><th scope=col>&lt;int&gt;</th><th scope=col>&lt;int&gt;</th><th scope=col>&lt;int&gt;</th><th scope=col>&lt;int&gt;</th><th scope=col>&lt;int&gt;</th><th scope=col>&lt;int&gt;</th></tr>\n",
              "</thead>\n",
              "<tbody>\n",
              "\t<tr><td>43</td><td>white</td><td>1</td><td>11</td><td> 5</td><td>NA</td><td>NA</td><td>NA</td><td>NA</td><td>14</td><td>NA</td><td>6</td><td> 3</td><td>5</td></tr>\n",
              "\t<tr><td>74</td><td>white</td><td>2</td><td> 2</td><td>NA</td><td> 1</td><td> 1</td><td>NA</td><td> 1</td><td>10</td><td>12</td><td>3</td><td>NA</td><td>2</td></tr>\n",
              "\t<tr><td>42</td><td>white</td><td>1</td><td> 4</td><td> 3</td><td> 2</td><td> 2</td><td>NA</td><td>NA</td><td>16</td><td>12</td><td>3</td><td> 1</td><td>4</td></tr>\n",
              "\t<tr><td>63</td><td>white</td><td>2</td><td> 1</td><td>NA</td><td> 1</td><td> 1</td><td>NA</td><td> 2</td><td>16</td><td>NA</td><td>3</td><td> 1</td><td>2</td></tr>\n",
              "\t<tr><td>71</td><td>black</td><td>1</td><td> 2</td><td>NA</td><td> 2</td><td> 2</td><td>NA</td><td> 1</td><td>18</td><td>NA</td><td>3</td><td>NA</td><td>6</td></tr>\n",
              "\t<tr><td>67</td><td>white</td><td>2</td><td> 2</td><td> 4</td><td>NA</td><td>NA</td><td>NA</td><td>NA</td><td>16</td><td>NA</td><td>3</td><td>10</td><td>2</td></tr>\n",
              "</tbody>\n",
              "</table>\n"
            ],
            "text/markdown": "\nA tibble: 6 × 14\n\n| age &lt;int&gt; | race &lt;fct&gt; | sex &lt;int&gt; | relig &lt;int&gt; | relpast &lt;int&gt; | sexbirth &lt;int&gt; | sexnow &lt;int&gt; | yearsusa &lt;int&gt; | unhappy &lt;int&gt; | educ &lt;int&gt; | income &lt;int&gt; | phone &lt;int&gt; | tvhours &lt;int&gt; | partyid &lt;int&gt; |\n|---|---|---|---|---|---|---|---|---|---|---|---|---|---|\n| 43 | white | 1 | 11 |  5 | NA | NA | NA | NA | 14 | NA | 6 |  3 | 5 |\n| 74 | white | 2 |  2 | NA |  1 |  1 | NA |  1 | 10 | 12 | 3 | NA | 2 |\n| 42 | white | 1 |  4 |  3 |  2 |  2 | NA | NA | 16 | 12 | 3 |  1 | 4 |\n| 63 | white | 2 |  1 | NA |  1 |  1 | NA |  2 | 16 | NA | 3 |  1 | 2 |\n| 71 | black | 1 |  2 | NA |  2 |  2 | NA |  1 | 18 | NA | 3 | NA | 6 |\n| 67 | white | 2 |  2 |  4 | NA | NA | NA | NA | 16 | NA | 3 | 10 | 2 |\n\n",
            "text/latex": "A tibble: 6 × 14\n\\begin{tabular}{llllllllllllll}\n age & race & sex & relig & relpast & sexbirth & sexnow & yearsusa & unhappy & educ & income & phone & tvhours & partyid\\\\\n <int> & <fct> & <int> & <int> & <int> & <int> & <int> & <int> & <int> & <int> & <int> & <int> & <int> & <int>\\\\\n\\hline\n\t 43 & white & 1 & 11 &  5 & NA & NA & NA & NA & 14 & NA & 6 &  3 & 5\\\\\n\t 74 & white & 2 &  2 & NA &  1 &  1 & NA &  1 & 10 & 12 & 3 & NA & 2\\\\\n\t 42 & white & 1 &  4 &  3 &  2 &  2 & NA & NA & 16 & 12 & 3 &  1 & 4\\\\\n\t 63 & white & 2 &  1 & NA &  1 &  1 & NA &  2 & 16 & NA & 3 &  1 & 2\\\\\n\t 71 & black & 1 &  2 & NA &  2 &  2 & NA &  1 & 18 & NA & 3 & NA & 6\\\\\n\t 67 & white & 2 &  2 &  4 & NA & NA & NA & NA & 16 & NA & 3 & 10 & 2\\\\\n\\end{tabular}\n",
            "text/plain": [
              "  age race  sex relig relpast sexbirth sexnow yearsusa unhappy educ income\n",
              "1 43  white 1   11     5      NA       NA     NA       NA      14   NA    \n",
              "2 74  white 2    2    NA       1        1     NA        1      10   12    \n",
              "3 42  white 1    4     3       2        2     NA       NA      16   12    \n",
              "4 63  white 2    1    NA       1        1     NA        2      16   NA    \n",
              "5 71  black 1    2    NA       2        2     NA        1      18   NA    \n",
              "6 67  white 2    2     4      NA       NA     NA       NA      16   NA    \n",
              "  phone tvhours partyid\n",
              "1 6      3      5      \n",
              "2 3     NA      2      \n",
              "3 3      1      4      \n",
              "4 3      1      2      \n",
              "5 3     NA      6      \n",
              "6 3     10      2      "
            ]
          },
          "metadata": {}
        }
      ],
      "source": [
        "# convert race to factor\n",
        "gss18.raw%>%\n",
        "  mutate(race=factor(race,labels=c('white',\"black\",\"other\")))%>%\n",
        "  head"
      ]
    },
    {
      "cell_type": "markdown",
      "metadata": {
        "id": "Bwr1tekKkpb2"
      },
      "source": [
        "Notice that the order mattered -- R matched `white` with `1`, `black` with `2`, etc. If we had \n",
        "specified `labels=c(\"black\", \"white\", \"other\")` it would have given us an incorrect factor."
      ]
    },
    {
      "cell_type": "markdown",
      "metadata": {
        "id": "XyOBlmA3kpb2"
      },
      "source": [
        "## 🤔 Quiz\n",
        "\n",
        "What percent of people in `gss18` identified as 'other' when asked their race?\n",
        "\n",
        "<ol style=\"list-style-type: upper-alpha;\">\n",
        "    <li>0-10%</li>\n",
        "    <li>10-20%</li>\n",
        "    <li>20-30%</li>\n",
        "    <li>More than 30%</li>\n",
        "</ol>\n"
      ]
    },
    {
      "cell_type": "code",
      "execution_count": 33,
      "metadata": {
        "id": "Tzh7_fimkpb2",
        "outputId": "0ec71c8a-0942-4b20-b08c-ca4a7ffa42da",
        "colab": {
          "base_uri": "https://localhost:8080/",
          "height": 263
        }
      },
      "outputs": [
        {
          "output_type": "display_data",
          "data": {
            "text/html": [
              "<table class=\"dataframe\">\n",
              "<caption>A tibble: 3 × 2</caption>\n",
              "<thead>\n",
              "\t<tr><th scope=col>race</th><th scope=col>n</th></tr>\n",
              "\t<tr><th scope=col>&lt;fct&gt;</th><th scope=col>&lt;int&gt;</th></tr>\n",
              "</thead>\n",
              "<tbody>\n",
              "\t<tr><td>white</td><td>1693</td></tr>\n",
              "\t<tr><td>black</td><td> 385</td></tr>\n",
              "\t<tr><td>other</td><td> 270</td></tr>\n",
              "</tbody>\n",
              "</table>\n"
            ],
            "text/markdown": "\nA tibble: 3 × 2\n\n| race &lt;fct&gt; | n &lt;int&gt; |\n|---|---|\n| white | 1693 |\n| black |  385 |\n| other |  270 |\n\n",
            "text/latex": "A tibble: 3 × 2\n\\begin{tabular}{ll}\n race & n\\\\\n <fct> & <int>\\\\\n\\hline\n\t white & 1693\\\\\n\t black &  385\\\\\n\t other &  270\\\\\n\\end{tabular}\n",
            "text/plain": [
              "  race  n   \n",
              "1 white 1693\n",
              "2 black  385\n",
              "3 other  270"
            ]
          },
          "metadata": {}
        },
        {
          "output_type": "display_data",
          "data": {
            "text/html": [
              "0.114991482112436"
            ],
            "text/markdown": "0.114991482112436",
            "text/latex": "0.114991482112436",
            "text/plain": [
              "[1] 0.1149915"
            ]
          },
          "metadata": {}
        },
        {
          "output_type": "display_data",
          "data": {
            "text/plain": [
              "race\n",
              "    white     black     other \n",
              "0.7210392 0.1639693 0.1149915 "
            ]
          },
          "metadata": {}
        }
      ],
      "source": [
        "# other\n",
        "\n",
        "gss18%>%count(race)\n",
        "270/(1693+385+270)\n",
        "\n",
        "gss18%>%\n",
        "  select(race)%>%\n",
        "  table%>%\n",
        "  prop.table\n",
        "\n",
        "# 11.5%"
      ]
    },
    {
      "cell_type": "markdown",
      "metadata": {
        "id": "_qH-od9rkpb2"
      },
      "source": [
        "Now let's do this for all the other categorical variables in `gss18.raw`..."
      ]
    },
    {
      "cell_type": "markdown",
      "metadata": {
        "id": "1xSw0xjMkpb3"
      },
      "source": [
        "Just kidding! I did the work for you, and stored it in the table `gss18`:"
      ]
    },
    {
      "cell_type": "code",
      "execution_count": null,
      "metadata": {
        "id": "yvIWDq-6kpb3",
        "outputId": "f8a99127-5c86-4e7b-c005-dff06a6a06f3"
      },
      "outputs": [
        {
          "name": "stdout",
          "output_type": "stream",
          "text": [
            "\u001b[90m# A tibble: 2,348 × 13\u001b[39m\n",
            "     age race  sex    relig  relpast sexbi…¹ sexnow years…² unhappy educ  income\n",
            "   \u001b[3m\u001b[90m<int>\u001b[39m\u001b[23m \u001b[3m\u001b[90m<fct>\u001b[39m\u001b[23m \u001b[3m\u001b[90m<fct>\u001b[39m\u001b[23m  \u001b[3m\u001b[90m<fct>\u001b[39m\u001b[23m  \u001b[3m\u001b[90m<fct>\u001b[39m\u001b[23m   \u001b[3m\u001b[90m<fct>\u001b[39m\u001b[23m   \u001b[3m\u001b[90m<fct>\u001b[39m\u001b[23m  \u001b[3m\u001b[90m<fct>\u001b[39m\u001b[23m   \u001b[3m\u001b[90m<fct>\u001b[39m\u001b[23m   \u001b[3m\u001b[90m<fct>\u001b[39m\u001b[23m \u001b[3m\u001b[90m<fct>\u001b[39m\u001b[23m \n",
            "\u001b[90m 1\u001b[39m    43 white male   chris… strong… \u001b[31mNA\u001b[39m      \u001b[31mNA\u001b[39m     \u001b[31mNA\u001b[39m      \u001b[31mNA\u001b[39m      14    \u001b[31mNA\u001b[39m    \n",
            "\u001b[90m 2\u001b[39m    74 white female catho… \u001b[31mNA\u001b[39m      female  women  \u001b[31mNA\u001b[39m      never   10    $2500…\n",
            "\u001b[90m 3\u001b[39m    42 white male   none   neithe… male    man    \u001b[31mNA\u001b[39m      \u001b[31mNA\u001b[39m      16    $2500…\n",
            "\u001b[90m 4\u001b[39m    63 white female prote… \u001b[31mNA\u001b[39m      female  women  \u001b[31mNA\u001b[39m      rarely  16    \u001b[31mNA\u001b[39m    \n",
            "\u001b[90m 5\u001b[39m    71 black male   catho… \u001b[31mNA\u001b[39m      male    man    \u001b[31mNA\u001b[39m      never   18    \u001b[31mNA\u001b[39m    \n",
            "\u001b[90m 6\u001b[39m    67 white female catho… disagr… \u001b[31mNA\u001b[39m      \u001b[31mNA\u001b[39m     \u001b[31mNA\u001b[39m      \u001b[31mNA\u001b[39m      16    \u001b[31mNA\u001b[39m    \n",
            "\u001b[90m 7\u001b[39m    59 black female prote… \u001b[31mNA\u001b[39m      \u001b[31mNA\u001b[39m      \u001b[31mNA\u001b[39m     \u001b[31mNA\u001b[39m      rarely  13    $1500…\n",
            "\u001b[90m 8\u001b[39m    43 white male   catho… \u001b[31mNA\u001b[39m      male    man    \u001b[31mNA\u001b[39m      rarely  12    $2500…\n",
            "\u001b[90m 9\u001b[39m    62 white female none   disagr… female  women  \u001b[31mNA\u001b[39m      \u001b[31mNA\u001b[39m      8     $5000…\n",
            "\u001b[90m10\u001b[39m    55 white male   prote… \u001b[31mNA\u001b[39m      male    man    \u001b[31mNA\u001b[39m      often   12    $2500…\n",
            "\u001b[90m# … with 2,338 more rows, 2 more variables: phone <fct>, tvhours <int>, and\u001b[39m\n",
            "\u001b[90m#   abbreviated variable names ¹​sexbirth, ²​yearsusa\u001b[39m\n"
          ]
        }
      ],
      "source": [
        "print(gss18)"
      ]
    },
    {
      "cell_type": "markdown",
      "metadata": {
        "id": "Io8NfBRskpb3"
      },
      "source": [
        "### The `forcats` package\n",
        "`tidyverse` contains a package that has some tools for working with factors. Sometimes it is not automatically loaded by the `tidyverse` metapackage, in which case you must load it manually:"
      ]
    },
    {
      "cell_type": "code",
      "execution_count": 34,
      "metadata": {
        "id": "qDij7hrEkpb3"
      },
      "outputs": [],
      "source": [
        "library(forcats) "
      ]
    },
    {
      "cell_type": "markdown",
      "metadata": {
        "id": "QIETGQIZkpb3"
      },
      "source": [
        "`forcats` commands are prefixed by `fct_` (compare `stringr`)."
      ]
    },
    {
      "cell_type": "markdown",
      "metadata": {
        "id": "UJJPghCgkpb3"
      },
      "source": [
        "## Generations\n",
        "Here are the ages of everybody in the dataset:"
      ]
    },
    {
      "cell_type": "code",
      "execution_count": 35,
      "metadata": {
        "id": "SPjqk94xkpb3",
        "outputId": "c1a239d7-c238-4fee-c948-00f0886325a2",
        "colab": {
          "base_uri": "https://localhost:8080/",
          "height": 371
        }
      },
      "outputs": [
        {
          "output_type": "stream",
          "name": "stderr",
          "text": [
            "\u001b[1m\u001b[22m`stat_bin()` using `bins = 30`. Pick better value with `binwidth`.\n",
            "Warning message:\n",
            "“\u001b[1m\u001b[22mRemoved 7 rows containing non-finite values (`stat_bin()`).”\n"
          ]
        },
        {
          "output_type": "display_data",
          "data": {
            "text/plain": [
              "plot without title"
            ],
            "image/png": "[encoded data removed]"
          },
          "metadata": {
            "image/png": {
              "width": 480,
              "height": 300
            }
          }
        }
      ],
      "source": [
        "ggplot(gss18) + geom_histogram(aes(x=age)) "
      ]
    },
    {
      "cell_type": "markdown",
      "metadata": {
        "id": "-5FsCMwwkpb3"
      },
      "source": [
        "## 🤔 Quiz\n",
        "\n",
        "In what year was the oldest person in this dataset born?\n",
        "\n",
        "<ol style=\"list-style-type: upper-alpha;\">\n",
        "    <li>1910-1919</li>\n",
        "    <li>1920-1929</li>\n",
        "    <li>1930-1939</li>\n",
        "    <li>1940-1949</li>\n",
        "</ol>\n"
      ]
    },
    {
      "cell_type": "code",
      "execution_count": 40,
      "metadata": {
        "id": "dTViunjNkpb3",
        "colab": {
          "base_uri": "https://localhost:8080/",
          "height": 284
        },
        "outputId": "203459f8-b71f-4e25-856c-973e018796fc"
      },
      "outputs": [
        {
          "output_type": "stream",
          "name": "stdout",
          "text": [
            "\u001b[90m# A tibble: 2,348 × 1\u001b[39m\n",
            "     age\n",
            "   \u001b[3m\u001b[90m<int>\u001b[39m\u001b[23m\n",
            "\u001b[90m 1\u001b[39m    89\n",
            "\u001b[90m 2\u001b[39m    89\n",
            "\u001b[90m 3\u001b[39m    89\n",
            "\u001b[90m 4\u001b[39m    89\n",
            "\u001b[90m 5\u001b[39m    89\n",
            "\u001b[90m 6\u001b[39m    89\n",
            "\u001b[90m 7\u001b[39m    89\n",
            "\u001b[90m 8\u001b[39m    89\n",
            "\u001b[90m 9\u001b[39m    89\n",
            "\u001b[90m10\u001b[39m    89\n",
            "\u001b[90m# … with 2,338 more rows\u001b[39m\n"
          ]
        },
        {
          "output_type": "display_data",
          "data": {
            "text/html": [
              "1929"
            ],
            "text/markdown": "1929",
            "text/latex": "1929",
            "text/plain": [
              "[1] 1929"
            ]
          },
          "metadata": {}
        }
      ],
      "source": [
        "# oldest person\n",
        "\n",
        "gss18%>%\n",
        "  select(age)%>%\n",
        "  arrange(desc(age))%>%\n",
        "  print\n",
        "\n",
        "2018-89"
      ]
    },
    {
      "cell_type": "markdown",
      "metadata": {
        "id": "N7sLuXGJkpb4"
      },
      "source": [
        "Let's define the following generations\n",
        "- [Silent generation](https://en.wikipedia.org/wiki/Silent_Generation): 1929&mdash;1945\n",
        "- [Baby boomers](https://en.wikipedia.org/wiki/Baby_boomers): 1946&mdash;1964\n",
        "- [Gen X](https://en.wikipedia.org/wiki/Generation_X): 1964&mdash;1981\n",
        "- [Gen Y/Millennial](https://en.wikipedia.org/wiki/Millennials): 1982&mdash;1996\n",
        "- [Gen Z](https://en.wikipedia.org/wiki/Generation_Z): 1997&mdash;20teens"
      ]
    },
    {
      "cell_type": "code",
      "execution_count": 41,
      "metadata": {
        "id": "rA16dtUikpb4"
      },
      "outputs": [],
      "source": [
        "# create a generations column in gss18\n",
        "gss18 <- mutate(gss18, birth_year = 2018 - age,\n",
        "                generation = cut(birth_year, breaks=c(1929, 1946, 1964, 1982, 1997, 2020),\n",
        "                                 labels=c('silent', 'boomer', 'x', 'millennial', 'z')))"
      ]
    },
    {
      "cell_type": "code",
      "execution_count": 42,
      "metadata": {
        "id": "BoMnsniTkpb4",
        "outputId": "f740b398-ecef-4146-b28c-29a71e7bd5ec",
        "colab": {
          "base_uri": "https://localhost:8080/",
          "height": 317
        }
      },
      "outputs": [
        {
          "output_type": "display_data",
          "data": {
            "text/plain": [
              "plot without title"
            ],
            "image/png": "[encoded data removed]"
          },
          "metadata": {
            "image/png": {
              "width": 480,
              "height": 300
            }
          }
        }
      ],
      "source": [
        "ggplot(gss18) + geom_bar(aes(x=generation, fill=generation))"
      ]
    },
    {
      "cell_type": "markdown",
      "metadata": {
        "id": "c4OnBmzMkpb4"
      },
      "source": [
        "## Attitudes about religion\n",
        "Here is the overall distribution of religious affiliation in the data:"
      ]
    },
    {
      "cell_type": "code",
      "execution_count": null,
      "metadata": {
        "id": "dXIK9vC-kpb4",
        "outputId": "41a4e9dd-f1d9-4063-ccb4-8259e0c8d440"
      },
      "outputs": [
        {
          "data": {
            "image/png": "[encoded data removed]",
            "text/plain": [
              "plot without title"
            ]
          },
          "metadata": {
            "image/png": {
              "height": 300,
              "width": 480
            }
          },
          "output_type": "display_data"
        }
      ],
      "source": [
        "# distribution of religion\n",
        "gss18%>%\n",
        "  ggplot(aes(x=relig,fill=relig))+\n",
        "  geom_bar()"
      ]
    },
    {
      "cell_type": "markdown",
      "metadata": {
        "id": "QI7khPNFkpb4"
      },
      "source": [
        "Let's think of ways to improve this jumbled plot. First, we can turn it sideways for better readability:"
      ]
    },
    {
      "cell_type": "code",
      "execution_count": 46,
      "metadata": {
        "id": "c9VPuzWCkpb4",
        "outputId": "1a962268-f4cb-4e77-959b-242c2a030682",
        "colab": {
          "base_uri": "https://localhost:8080/",
          "height": 317
        }
      },
      "outputs": [
        {
          "output_type": "display_data",
          "data": {
            "text/plain": [
              "plot without title"
            ],
            "image/png": "[encoded data removed]"
          },
          "metadata": {
            "image/png": {
              "width": 480,
              "height": 300
            }
          }
        }
      ],
      "source": [
        "# distribution of religion \n",
        "gss18%>%\n",
        "  ggplot(aes(y=relig,fill=relig))+\n",
        "  geom_bar()"
      ]
    },
    {
      "cell_type": "markdown",
      "metadata": {
        "id": "9YKi1FT7kpb4"
      },
      "source": [
        "By default, the order of the labels shown by R corresponds to the order of the factor levels:"
      ]
    },
    {
      "cell_type": "code",
      "execution_count": 47,
      "metadata": {
        "id": "PvB6-Vl4kpb4",
        "outputId": "5883f247-5535-43a6-96ed-9d75a6b5aa09",
        "colab": {
          "base_uri": "https://localhost:8080/",
          "height": 34
        }
      },
      "outputs": [
        {
          "output_type": "display_data",
          "data": {
            "text/html": [
              "<style>\n",
              ".list-inline {list-style: none; margin:0; padding: 0}\n",
              ".list-inline>li {display: inline-block}\n",
              ".list-inline>li:not(:last-child)::after {content: \"\\00b7\"; padding: 0 .5ex}\n",
              "</style>\n",
              "<ol class=list-inline><li>'protestant'</li><li>'catholic'</li><li>'jewish'</li><li>'none'</li><li>'other'</li><li>'buddhism'</li><li>'hinduism'</li><li>'other eastern'</li><li>'moslem/islam'</li><li>'orthodox-christian'</li><li>'christian'</li><li>'native american'</li><li>'inter-nondenominational'</li></ol>\n"
            ],
            "text/markdown": "1. 'protestant'\n2. 'catholic'\n3. 'jewish'\n4. 'none'\n5. 'other'\n6. 'buddhism'\n7. 'hinduism'\n8. 'other eastern'\n9. 'moslem/islam'\n10. 'orthodox-christian'\n11. 'christian'\n12. 'native american'\n13. 'inter-nondenominational'\n\n\n",
            "text/latex": "\\begin{enumerate*}\n\\item 'protestant'\n\\item 'catholic'\n\\item 'jewish'\n\\item 'none'\n\\item 'other'\n\\item 'buddhism'\n\\item 'hinduism'\n\\item 'other eastern'\n\\item 'moslem/islam'\n\\item 'orthodox-christian'\n\\item 'christian'\n\\item 'native american'\n\\item 'inter-nondenominational'\n\\end{enumerate*}\n",
            "text/plain": [
              " [1] \"protestant\"              \"catholic\"               \n",
              " [3] \"jewish\"                  \"none\"                   \n",
              " [5] \"other\"                   \"buddhism\"               \n",
              " [7] \"hinduism\"                \"other eastern\"          \n",
              " [9] \"moslem/islam\"            \"orthodox-christian\"     \n",
              "[11] \"christian\"               \"native american\"        \n",
              "[13] \"inter-nondenominational\""
            ]
          },
          "metadata": {}
        }
      ],
      "source": [
        "# levels of gss18$relig\n",
        "levels(gss18$relig)"
      ]
    },
    {
      "cell_type": "markdown",
      "metadata": {
        "id": "m_Gzfq5jkpb5"
      },
      "source": [
        "To improve the appearance of the plot, we can use `fct_infreq` to reorder the levels such in increasing order of frequency:"
      ]
    },
    {
      "cell_type": "code",
      "execution_count": 50,
      "metadata": {
        "id": "rtRHlRPWkpb5",
        "colab": {
          "base_uri": "https://localhost:8080/",
          "height": 352
        },
        "outputId": "d4348d13-f9bc-4ab1-9c27-4ac51a6bd986"
      },
      "outputs": [
        {
          "output_type": "display_data",
          "data": {
            "text/html": [
              "<style>\n",
              ".list-inline {list-style: none; margin:0; padding: 0}\n",
              ".list-inline>li {display: inline-block}\n",
              ".list-inline>li:not(:last-child)::after {content: \"\\00b7\"; padding: 0 .5ex}\n",
              "</style>\n",
              "<ol class=list-inline><li>christian</li><li>catholic</li><li>none</li><li>protestant</li><li>moslem/islam</li><li>orthodox-christian</li><li>buddhism</li><li>jewish</li><li>other</li><li>hinduism</li><li>&lt;NA&gt;</li><li>inter-nondenominational</li><li>other eastern</li><li>native american</li></ol>\n",
              "\n",
              "<details>\n",
              "\t<summary style=display:list-item;cursor:pointer>\n",
              "\t\t<strong>Levels</strong>:\n",
              "\t</summary>\n",
              "\t<style>\n",
              "\t.list-inline {list-style: none; margin:0; padding: 0}\n",
              "\t.list-inline>li {display: inline-block}\n",
              "\t.list-inline>li:not(:last-child)::after {content: \"\\00b7\"; padding: 0 .5ex}\n",
              "\t</style>\n",
              "\t<ol class=list-inline><li>'protestant'</li><li>'catholic'</li><li>'jewish'</li><li>'none'</li><li>'other'</li><li>'buddhism'</li><li>'hinduism'</li><li>'other eastern'</li><li>'moslem/islam'</li><li>'orthodox-christian'</li><li>'christian'</li><li>'native american'</li><li>'inter-nondenominational'</li></ol>\n",
              "</details>"
            ],
            "text/markdown": "1. christian\n2. catholic\n3. none\n4. protestant\n5. moslem/islam\n6. orthodox-christian\n7. buddhism\n8. jewish\n9. other\n10. hinduism\n11. &lt;NA&gt;\n12. inter-nondenominational\n13. other eastern\n14. native american\n\n\n\n**Levels**: 1. 'protestant'\n2. 'catholic'\n3. 'jewish'\n4. 'none'\n5. 'other'\n6. 'buddhism'\n7. 'hinduism'\n8. 'other eastern'\n9. 'moslem/islam'\n10. 'orthodox-christian'\n11. 'christian'\n12. 'native american'\n13. 'inter-nondenominational'\n\n\n",
            "text/latex": "\\begin{enumerate*}\n\\item christian\n\\item catholic\n\\item none\n\\item protestant\n\\item moslem/islam\n\\item orthodox-christian\n\\item buddhism\n\\item jewish\n\\item other\n\\item hinduism\n\\item <NA>\n\\item inter-nondenominational\n\\item other eastern\n\\item native american\n\\end{enumerate*}\n\n\\emph{Levels}: \\begin{enumerate*}\n\\item 'protestant'\n\\item 'catholic'\n\\item 'jewish'\n\\item 'none'\n\\item 'other'\n\\item 'buddhism'\n\\item 'hinduism'\n\\item 'other eastern'\n\\item 'moslem/islam'\n\\item 'orthodox-christian'\n\\item 'christian'\n\\item 'native american'\n\\item 'inter-nondenominational'\n\\end{enumerate*}\n",
            "text/plain": [
              " [1] christian               catholic                none                   \n",
              " [4] protestant              moslem/islam            orthodox-christian     \n",
              " [7] buddhism                jewish                  other                  \n",
              "[10] hinduism                <NA>                    inter-nondenominational\n",
              "[13] other eastern           native american        \n",
              "13 Levels: protestant catholic jewish none other buddhism ... inter-nondenominational"
            ]
          },
          "metadata": {}
        },
        {
          "output_type": "display_data",
          "data": {
            "text/plain": [
              "plot without title"
            ],
            "image/png": "[encoded data removed]"
          },
          "metadata": {
            "image/png": {
              "width": 480,
              "height": 300
            }
          }
        }
      ],
      "source": [
        "# sort the levels by their frequency\n",
        "gss18$relig%>%unique"
      ]
    },
    {
      "cell_type": "code",
      "execution_count": 51,
      "metadata": {
        "id": "651tN3sokpb5",
        "outputId": "6cf36abb-50b0-47af-84d3-1b333ecec028",
        "colab": {
          "base_uri": "https://localhost:8080/",
          "height": 317
        }
      },
      "outputs": [
        {
          "output_type": "display_data",
          "data": {
            "text/plain": [
              "plot without title"
            ],
            "image/png": "[encoded data removed]"
          },
          "metadata": {
            "image/png": {
              "width": 480,
              "height": 300
            }
          }
        }
      ],
      "source": [
        "# plot levels sorted by frequency\n",
        "gss18%>%\n",
        " mutate(fct_relig=fct_infreq(relig))%>%\n",
        " ggplot(aes(y=fct_relig,fill=relig))+\n",
        " geom_bar()"
      ]
    },
    {
      "cell_type": "markdown",
      "metadata": {
        "id": "RuX179Uikpb5"
      },
      "source": [
        "We may also want to simplify the plot by grouping some factors together. The `fct_lump` command will combine uncommon factor levels into a new level, \"other\":"
      ]
    },
    {
      "cell_type": "code",
      "execution_count": 56,
      "metadata": {
        "id": "Qv6imuhKkpb5",
        "outputId": "3e028c1e-b6a5-4c09-c484-36d94c31004e",
        "colab": {
          "base_uri": "https://localhost:8080/",
          "height": 317
        }
      },
      "outputs": [
        {
          "output_type": "display_data",
          "data": {
            "text/plain": [
              "plot without title"
            ],
            "image/png": "[encoded data removed]"
          },
          "metadata": {
            "image/png": {
              "width": 480,
              "height": 300
            }
          }
        }
      ],
      "source": [
        "# lump uncommon factors together\n",
        "?fct_lump"
      ]
    },
    {
      "cell_type": "code",
      "execution_count": null,
      "metadata": {
        "id": "82LLXbNBkpb5",
        "outputId": "577c7280-bb17-45f6-c137-d9ffdb526864"
      },
      "outputs": [
        {
          "data": {
            "image/png": "[encoded data removed]",
            "text/plain": [
              "plot without title"
            ]
          },
          "metadata": {
            "image/png": {
              "height": 300,
              "width": 480
            }
          },
          "output_type": "display_data"
        }
      ],
      "source": [
        "# religions lumped\n",
        "gss18%>%\n",
        "  mutate(fct_lump_relig=fct_lump(relig))%>%\n",
        "  ggplot(aes(x=fct_lump_relig,fill=fct_lump_relig))+\n",
        "  geom_bar()"
      ]
    },
    {
      "cell_type": "markdown",
      "metadata": {
        "id": "2_6DEuHDkpb5"
      },
      "source": [
        "Be careful with this. Not everybody enjoys being lumped into the \"Other\" category. A good compromise in this case could be to use one bar for \"Other\", but still break everyone out in the legend:"
      ]
    },
    {
      "cell_type": "code",
      "execution_count": 58,
      "metadata": {
        "id": "F-zL63qXkpb5",
        "outputId": "8465c8c1-f68c-4203-b949-460d8af5ca93",
        "colab": {
          "base_uri": "https://localhost:8080/",
          "height": 317
        }
      },
      "outputs": [
        {
          "output_type": "display_data",
          "data": {
            "text/plain": [
              "plot without title"
            ],
            "image/png": "[encoded data removed]"
          },
          "metadata": {
            "image/png": {
              "width": 480,
              "height": 300
            }
          }
        }
      ],
      "source": [
        "# lumped levels, by still showing the variation\n",
        "gss18%>%\n",
        "  mutate(fct_lump_relig=fct_lump(relig))%>%\n",
        "  ggplot(aes(x=fct_lump_relig,fill=relig))+\n",
        "  geom_bar()"
      ]
    },
    {
      "cell_type": "markdown",
      "metadata": {
        "id": "Rs1s_xHEkpb5"
      },
      "source": [
        "## Religious affiliation by generation\n",
        "How does religious affiliation vary from one generation to the next? To study this, we will first use a simple table. The `table` command will take a dataframe containing two categorical columns and create a 2-way table of counts from them:"
      ]
    },
    {
      "cell_type": "code",
      "source": [
        "df<-gss18%>%\n",
        "  mutate(fct_lump_relig=fct_lump(relig))"
      ],
      "metadata": {
        "id": "bgxFPfDovpEw"
      },
      "execution_count": 63,
      "outputs": []
    },
    {
      "cell_type": "code",
      "execution_count": 62,
      "metadata": {
        "id": "wzhMCKKFkpb5",
        "outputId": "fed0184e-edb1-4f7d-f6cb-fb9937ef87ac",
        "colab": {
          "base_uri": "https://localhost:8080/",
          "height": 142
        }
      },
      "outputs": [
        {
          "output_type": "display_data",
          "data": {
            "text/plain": [
              "            fct_lump_relig\n",
              "generation   protestant catholic none Other\n",
              "  silent            162       51   26    11\n",
              "  boomer            371      159  114    42\n",
              "  x                 332      155  157    45\n",
              "  millennial        235      101  221    48\n",
              "  z                  16       20   21     6"
            ]
          },
          "metadata": {}
        }
      ],
      "source": [
        "# religious by generation\n",
        "df%>%\n",
        "  select(generation,fct_lump_relig)%>%\n",
        "  table"
      ]
    },
    {
      "cell_type": "markdown",
      "metadata": {
        "id": "zL4DG_E2kpb6"
      },
      "source": [
        "We probably want to normalize this table so that the data are expressed as percentages, with the rows summing to one:"
      ]
    },
    {
      "cell_type": "code",
      "execution_count": 68,
      "metadata": {
        "id": "qqD_OwsJkpb6",
        "outputId": "e361b6ac-5ef6-414e-dc04-172362ca360f",
        "colab": {
          "base_uri": "https://localhost:8080/",
          "height": 142
        }
      },
      "outputs": [
        {
          "output_type": "display_data",
          "data": {
            "text/plain": [
              "            fct_lump_relig\n",
              "generation   protestant   catholic       none      Other\n",
              "  silent     0.64800000 0.20400000 0.10400000 0.04400000\n",
              "  boomer     0.54081633 0.23177843 0.16618076 0.06122449\n",
              "  x          0.48185776 0.22496372 0.22786647 0.06531205\n",
              "  millennial 0.38842975 0.16694215 0.36528926 0.07933884\n",
              "  z          0.25396825 0.31746032 0.33333333 0.09523810"
            ]
          },
          "metadata": {}
        }
      ],
      "source": [
        "# normalize the table \n",
        "df%>%\n",
        "  select(generation,fct_lump_relig)%>%\n",
        "  table%>%\n",
        "  prop.table(1) # conditional by row/gen\n",
        "# protestants dropped off over time "
      ]
    },
    {
      "cell_type": "code",
      "source": [
        "?prop.table"
      ],
      "metadata": {
        "id": "jT7oZIqtw61Y"
      },
      "execution_count": 70,
      "outputs": []
    },
    {
      "cell_type": "code",
      "source": [
        "df%>%\n",
        "  select(generation,fct_lump_relig)%>%\n",
        "  table%>%\n",
        "  prop.table(1) # conditional by col/relig"
      ],
      "metadata": {
        "colab": {
          "base_uri": "https://localhost:8080/",
          "height": 142
        },
        "id": "wh7oMlOPwa7s",
        "outputId": "09818f7c-2dfa-4a4b-95ee-7df1dade6839"
      },
      "execution_count": 69,
      "outputs": [
        {
          "output_type": "display_data",
          "data": {
            "text/plain": [
              "            fct_lump_relig\n",
              "generation   protestant   catholic       none      Other\n",
              "  silent     0.64800000 0.20400000 0.10400000 0.04400000\n",
              "  boomer     0.54081633 0.23177843 0.16618076 0.06122449\n",
              "  x          0.48185776 0.22496372 0.22786647 0.06531205\n",
              "  millennial 0.38842975 0.16694215 0.36528926 0.07933884\n",
              "  z          0.25396825 0.31746032 0.33333333 0.09523810"
            ]
          },
          "metadata": {}
        }
      ]
    },
    {
      "cell_type": "markdown",
      "metadata": {
        "id": "5TTvEAfykpb6"
      },
      "source": [
        "Not that by normalizing the rows or columns, we are now studying the *conditional* distribution of race given generational status (or vice versa). This was a point of confusion on the midterm."
      ]
    },
    {
      "cell_type": "markdown",
      "metadata": {
        "id": "XKzDqO4mkpb6"
      },
      "source": [
        "Next, let's test whether religious affiliation and generational status are statistically independent. To do this, we'll perform a chi-squared test of independence, using `chisq.test()`:"
      ]
    },
    {
      "cell_type": "code",
      "execution_count": 71,
      "metadata": {
        "id": "zXmnZJvEkpb6",
        "colab": {
          "base_uri": "https://localhost:8080/",
          "height": 142
        },
        "outputId": "dc19a8ac-b71e-450b-d513-3555e73b8a58"
      },
      "outputs": [
        {
          "output_type": "stream",
          "name": "stderr",
          "text": [
            "Warning message in chisq.test(.):\n",
            "“Chi-squared approximation may be incorrect”\n"
          ]
        },
        {
          "output_type": "display_data",
          "data": {
            "text/plain": [
              "\n",
              "\tPearson's Chi-squared test\n",
              "\n",
              "data:  .\n",
              "X-squared = 130.53, df = 12, p-value < 2.2e-16\n"
            ]
          },
          "metadata": {}
        }
      ],
      "source": [
        "# chi-squared test of independence\n",
        "df%>%\n",
        "  select(generation,fct_lump_relig)%>%\n",
        "  table%>%\n",
        "  chisq.test()"
      ]
    },
    {
      "cell_type": "code",
      "source": [
        "?chisq.test"
      ],
      "metadata": {
        "id": "Wfsr2KftxnnQ"
      },
      "execution_count": 72,
      "outputs": []
    },
    {
      "cell_type": "markdown",
      "metadata": {
        "id": "TwXOqXC4kpb6"
      },
      "source": [
        "## Hours of TV watched\n",
        "How does TV watching vary from generation to generation?"
      ]
    },
    {
      "cell_type": "code",
      "execution_count": 75,
      "metadata": {
        "id": "pKchCO3Ikpb6",
        "outputId": "16a8f3fa-f2a1-440a-c9d0-2a9f4fe52986",
        "colab": {
          "base_uri": "https://localhost:8080/",
          "height": 353
        }
      },
      "outputs": [
        {
          "output_type": "stream",
          "name": "stderr",
          "text": [
            "Warning message:\n",
            "“\u001b[1m\u001b[22mRemoved 793 rows containing non-finite values (`stat_boxplot()`).”\n"
          ]
        },
        {
          "output_type": "display_data",
          "data": {
            "text/plain": [
              "plot without title"
            ],
            "image/png": "[encoded data removed]"
          },
          "metadata": {
            "image/png": {
              "width": 480,
              "height": 300
            }
          }
        }
      ],
      "source": [
        "# hours of TV\n",
        "gss18%>%\n",
        "  ggplot(aes(x=generation,y=tvhours))+\n",
        "  geom_boxplot()"
      ]
    },
    {
      "cell_type": "markdown",
      "metadata": {
        "id": "dhePi9Hxkpb6"
      },
      "source": [
        "This plot could maybe be improved by ordering the boxes so that the medians are in ascending order:"
      ]
    },
    {
      "cell_type": "code",
      "execution_count": 76,
      "metadata": {
        "id": "VL26bgJzkpb6",
        "colab": {
          "base_uri": "https://localhost:8080/",
          "height": 496
        },
        "outputId": "da773d6c-3c15-47ca-a822-78b7520fa8bf"
      },
      "outputs": [
        {
          "output_type": "stream",
          "name": "stderr",
          "text": [
            "Warning message:\n",
            "“\u001b[1m\u001b[22m`fct_reorder()` removing 793 missing values.\n",
            "\u001b[36mℹ\u001b[39m Use `.na_rm = TRUE` to silence this message.\n",
            "\u001b[36mℹ\u001b[39m Use `.na_rm = FALSE` to preserve NAs.”\n",
            "Warning message:\n",
            "“\u001b[1m\u001b[22m`fct_reorder()` removing 793 missing values.\n",
            "\u001b[36mℹ\u001b[39m Use `.na_rm = TRUE` to silence this message.\n",
            "\u001b[36mℹ\u001b[39m Use `.na_rm = FALSE` to preserve NAs.”\n",
            "Warning message:\n",
            "“\u001b[1m\u001b[22mRemoved 793 rows containing non-finite values (`stat_boxplot()`).”\n"
          ]
        },
        {
          "output_type": "display_data",
          "data": {
            "text/plain": [
              "plot without title"
            ],
            "image/png": "[encoded data removed]"
          },
          "metadata": {
            "image/png": {
              "width": 480,
              "height": 300
            }
          }
        }
      ],
      "source": [
        "# reorder the factor in ascending order of median\n",
        "gss18%>%\n",
        "  ggplot(aes(x=fct_reorder(generation,tvhours),y=tvhours))+\n",
        "  geom_boxplot()"
      ]
    },
    {
      "cell_type": "markdown",
      "metadata": {
        "id": "NwmN96Xdkpb6"
      },
      "source": [
        "Do gen Z watch significantly less TV than everyone else?"
      ]
    },
    {
      "cell_type": "code",
      "execution_count": null,
      "metadata": {
        "id": "lIJvz2wmkpb6"
      },
      "outputs": [],
      "source": [
        "# t.test of means"
      ]
    },
    {
      "cell_type": "code",
      "execution_count": null,
      "metadata": {
        "id": "46ylvVuzkpb6",
        "outputId": "0765c2b7-5168-4808-ebf8-f0287e18c666"
      },
      "outputs": [
        {
          "data": {
            "text/plain": [
              "\n",
              "Call:\n",
              "lm(formula = tvhours ~ I(generation == \"millennial\"), data = gss18)\n",
              "\n",
              "Residuals:\n",
              "    Min      1Q  Median      3Q     Max \n",
              "-3.0762 -1.4194 -1.0762  0.9238 20.9238 \n",
              "\n",
              "Coefficients:\n",
              "                                  Estimate Std. Error t value Pr(>|t|)    \n",
              "(Intercept)                        3.07619    0.08192  37.552  < 2e-16 ***\n",
              "I(generation == \"millennial\")TRUE -0.65684    0.16597  -3.958 7.92e-05 ***\n",
              "---\n",
              "Signif. codes:  0 ‘***’ 0.001 ‘**’ 0.01 ‘*’ 0.05 ‘.’ 0.1 ‘ ’ 1\n",
              "\n",
              "Residual standard error: 2.784 on 1525 degrees of freedom\n",
              "  (821 observations deleted due to missingness)\n",
              "Multiple R-squared:  0.01017,\tAdjusted R-squared:  0.009517 \n",
              "F-statistic: 15.66 on 1 and 1525 DF,  p-value: 7.92e-05\n"
            ]
          },
          "metadata": {},
          "output_type": "display_data"
        }
      ],
      "source": [
        "# another way"
      ]
    },
    {
      "cell_type": "markdown",
      "metadata": {
        "id": "2U9nP4mskpb7"
      },
      "source": [
        "Why might this be?"
      ]
    },
    {
      "cell_type": "markdown",
      "metadata": {
        "id": "Py3RakxTkpb7"
      },
      "source": [
        "## Phone usage\n",
        "How many people in each generation use a {land line, cell phone}?"
      ]
    },
    {
      "cell_type": "code",
      "execution_count": 80,
      "metadata": {
        "id": "xYmtsNvikpb7",
        "outputId": "d311505a-1da8-4acf-c7e7-6cea5f22bab9",
        "colab": {
          "base_uri": "https://localhost:8080/",
          "height": 267
        }
      },
      "outputs": [
        {
          "output_type": "display_data",
          "data": {
            "text/plain": [
              "            phone\n",
              "generation      no phone     refused phone in home phone elsewhere\n",
              "  silent     0.028000000 0.028000000   0.676000000     0.016000000\n",
              "  boomer     0.004322767 0.050432277   0.423631124     0.024495677\n",
              "  x          0.004310345 0.041666667   0.231321839     0.014367816\n",
              "  millennial 0.003284072 0.016420361   0.090311987     0.003284072\n",
              "  z          0.000000000 0.047619048   0.174603175     0.031746032\n",
              "            phone\n",
              "generation   phone,dk where   cellphone\n",
              "  silent        0.000000000 0.252000000\n",
              "  boomer        0.000000000 0.497118156\n",
              "  x             0.000000000 0.708333333\n",
              "  millennial    0.000000000 0.886699507\n",
              "  z             0.000000000 0.746031746"
            ]
          },
          "metadata": {}
        }
      ],
      "source": [
        "gss18 %>% select(generation, phone) %>% table %>% prop.table(1)"
      ]
    },
    {
      "cell_type": "markdown",
      "metadata": {
        "id": "CeZIBrKekpb7"
      },
      "source": [
        "## Political orientation"
      ]
    },
    {
      "cell_type": "code",
      "execution_count": 79,
      "metadata": {
        "id": "El4YipsQkpb7",
        "outputId": "1632ff41-f5e9-4433-a113-17ee902478c4",
        "colab": {
          "base_uri": "https://localhost:8080/",
          "height": 267
        }
      },
      "outputs": [
        {
          "output_type": "display_data",
          "data": {
            "text/plain": [
              "            partyid\n",
              "generation   strong democrat not str democrat ind,near dem independent\n",
              "  silent          0.21285141       0.10843373   0.14056225  0.12449799\n",
              "  boomer          0.19202363       0.14327917   0.11225997  0.12703102\n",
              "  x               0.16204380       0.15474453   0.14160584  0.17518248\n",
              "  millennial      0.11570248       0.17024793   0.15206612  0.25950413\n",
              "  z               0.07936508       0.22222222   0.07936508  0.20634921\n",
              "            partyid\n",
              "generation   ind,near rep not str republican strong republican other party\n",
              "  silent       0.09638554         0.10843373        0.18875502  0.02008032\n",
              "  boomer       0.11078287         0.12407681        0.16100443  0.02954210\n",
              "  x            0.10656934         0.13430657        0.09635036  0.02919708\n",
              "  millennial   0.12231405         0.09256198        0.04297521  0.04462810\n",
              "  z            0.15873016         0.14285714        0.06349206  0.04761905"
            ]
          },
          "metadata": {}
        }
      ],
      "source": [
        "select(gss18, generation, partyid) %>% table %>% prop.table(1)"
      ]
    },
    {
      "cell_type": "markdown",
      "metadata": {
        "id": "KnawXevikpb7"
      },
      "source": [
        "We can visualize these proportions, but it gets a bit messy because of all the levels."
      ]
    },
    {
      "cell_type": "markdown",
      "metadata": {
        "id": "UWpQHuq7kpb7"
      },
      "source": [
        "### Recoding factors\n",
        "Sometimes we want to recode factors to make their labels more interpretable/plottable/whatever. We can use `fct_recode` to this. The syntax is\n",
        "\n",
        "    fct_recode(<factor>, \"new_level1\" = \"old level1\", \"new level2\" = \"old level2\", ...)\n",
        "    \n",
        "A useful feature of `fct_recode` is for combining multiple factors into one:"
      ]
    },
    {
      "cell_type": "code",
      "source": [
        "gss18$partyid%>%unique"
      ],
      "metadata": {
        "colab": {
          "base_uri": "https://localhost:8080/",
          "height": 52
        },
        "id": "EacmZ7uBypkD",
        "outputId": "35da50a0-f795-41b0-f440-63f67602ffa1"
      },
      "execution_count": 81,
      "outputs": [
        {
          "output_type": "display_data",
          "data": {
            "text/html": [
              "<style>\n",
              ".list-inline {list-style: none; margin:0; padding: 0}\n",
              ".list-inline>li {display: inline-block}\n",
              ".list-inline>li:not(:last-child)::after {content: \"\\00b7\"; padding: 0 .5ex}\n",
              "</style>\n",
              "<ol class=list-inline><li>not str republican</li><li>ind,near dem</li><li>ind,near rep</li><li>strong republican</li><li>strong democrat</li><li>independent</li><li>not str democrat</li><li>&lt;NA&gt;</li><li>other party</li></ol>\n",
              "\n",
              "<details>\n",
              "\t<summary style=display:list-item;cursor:pointer>\n",
              "\t\t<strong>Levels</strong>:\n",
              "\t</summary>\n",
              "\t<style>\n",
              "\t.list-inline {list-style: none; margin:0; padding: 0}\n",
              "\t.list-inline>li {display: inline-block}\n",
              "\t.list-inline>li:not(:last-child)::after {content: \"\\00b7\"; padding: 0 .5ex}\n",
              "\t</style>\n",
              "\t<ol class=list-inline><li>'strong democrat'</li><li>'not str democrat'</li><li>'ind,near dem'</li><li>'independent'</li><li>'ind,near rep'</li><li>'not str republican'</li><li>'strong republican'</li><li>'other party'</li></ol>\n",
              "</details>"
            ],
            "text/markdown": "1. not str republican\n2. ind,near dem\n3. ind,near rep\n4. strong republican\n5. strong democrat\n6. independent\n7. not str democrat\n8. &lt;NA&gt;\n9. other party\n\n\n\n**Levels**: 1. 'strong democrat'\n2. 'not str democrat'\n3. 'ind,near dem'\n4. 'independent'\n5. 'ind,near rep'\n6. 'not str republican'\n7. 'strong republican'\n8. 'other party'\n\n\n",
            "text/latex": "\\begin{enumerate*}\n\\item not str republican\n\\item ind,near dem\n\\item ind,near rep\n\\item strong republican\n\\item strong democrat\n\\item independent\n\\item not str democrat\n\\item <NA>\n\\item other party\n\\end{enumerate*}\n\n\\emph{Levels}: \\begin{enumerate*}\n\\item 'strong democrat'\n\\item 'not str democrat'\n\\item 'ind,near dem'\n\\item 'independent'\n\\item 'ind,near rep'\n\\item 'not str republican'\n\\item 'strong republican'\n\\item 'other party'\n\\end{enumerate*}\n",
            "text/plain": [
              "[1] not str republican ind,near dem       ind,near rep       strong republican \n",
              "[5] strong democrat    independent        not str democrat   <NA>              \n",
              "[9] other party       \n",
              "8 Levels: strong democrat not str democrat ind,near dem ... other party"
            ]
          },
          "metadata": {}
        }
      ]
    },
    {
      "cell_type": "code",
      "execution_count": 85,
      "metadata": {
        "id": "Y_E1Rb0Skpb7",
        "outputId": "fc34cf22-3890-45dc-f416-6b1d5b6ab71f",
        "colab": {
          "base_uri": "https://localhost:8080/",
          "height": 380
        }
      },
      "outputs": [
        {
          "output_type": "display_data",
          "data": {
            "text/html": [
              "<table class=\"dataframe\">\n",
              "<caption>A tibble: 9 × 2</caption>\n",
              "<thead>\n",
              "\t<tr><th scope=col>partyid</th><th scope=col>n</th></tr>\n",
              "\t<tr><th scope=col>&lt;fct&gt;</th><th scope=col>&lt;int&gt;</th></tr>\n",
              "</thead>\n",
              "<tbody>\n",
              "\t<tr><td>Democrat, strong            </td><td>379</td></tr>\n",
              "\t<tr><td>Democrat, weak              </td><td>352</td></tr>\n",
              "\t<tr><td>Independent, near democrat  </td><td>307</td></tr>\n",
              "\t<tr><td>independent                 </td><td>414</td></tr>\n",
              "\t<tr><td>Independent, near republican</td><td>259</td></tr>\n",
              "\t<tr><td>Republican, weak            </td><td>272</td></tr>\n",
              "\t<tr><td>Republican, strong          </td><td>255</td></tr>\n",
              "\t<tr><td>other party                 </td><td> 77</td></tr>\n",
              "\t<tr><td>NA                          </td><td> 33</td></tr>\n",
              "</tbody>\n",
              "</table>\n"
            ],
            "text/markdown": "\nA tibble: 9 × 2\n\n| partyid &lt;fct&gt; | n &lt;int&gt; |\n|---|---|\n| Democrat, strong             | 379 |\n| Democrat, weak               | 352 |\n| Independent, near democrat   | 307 |\n| independent                  | 414 |\n| Independent, near republican | 259 |\n| Republican, weak             | 272 |\n| Republican, strong           | 255 |\n| other party                  |  77 |\n| NA                           |  33 |\n\n",
            "text/latex": "A tibble: 9 × 2\n\\begin{tabular}{ll}\n partyid & n\\\\\n <fct> & <int>\\\\\n\\hline\n\t Democrat, strong             & 379\\\\\n\t Democrat, weak               & 352\\\\\n\t Independent, near democrat   & 307\\\\\n\t independent                  & 414\\\\\n\t Independent, near republican & 259\\\\\n\t Republican, weak             & 272\\\\\n\t Republican, strong           & 255\\\\\n\t other party                  &  77\\\\\n\t NA                           &  33\\\\\n\\end{tabular}\n",
            "text/plain": [
              "  partyid                      n  \n",
              "1 Democrat, strong             379\n",
              "2 Democrat, weak               352\n",
              "3 Independent, near democrat   307\n",
              "4 independent                  414\n",
              "5 Independent, near republican 259\n",
              "6 Republican, weak             272\n",
              "7 Republican, strong           255\n",
              "8 other party                   77\n",
              "9 NA                            33"
            ]
          },
          "metadata": {}
        }
      ],
      "source": [
        "# lump everyone into Democrat, Independent, Republican, or Other\n",
        "\n",
        "gss18%>%\n",
        "  mutate(partyid=fct_recode(partyid,\n",
        "        \"Republican, strong\"=\"strong republican\",\n",
        "        \"Republican, weak\"=\"not str republican\",\n",
        "        \"Independent, near republican\"=\"ind,near rep\",\n",
        "        \"Independent, near democrat\"=\"ind,near dem\",\n",
        "        \"Democrat, weak\"=\"not str democrat\",\n",
        "        \"Democrat, strong\"=\"strong democrat\"))%>%\n",
        "  count(partyid)"
      ]
    },
    {
      "cell_type": "markdown",
      "metadata": {
        "id": "l6ZwgJJLkpb7"
      },
      "source": [
        "If there are many levels this gets repetitious, so we have an additional command called `fct_collapse` which is specifically designed to handle this case:"
      ]
    },
    {
      "cell_type": "code",
      "execution_count": null,
      "metadata": {
        "id": "krRhRAjakpb8",
        "outputId": "922b37ee-228c-46c9-fb0c-108240345da3"
      },
      "outputs": [
        {
          "name": "stderr",
          "output_type": "stream",
          "text": [
            "Warning message:\n",
            "“\u001b[1m\u001b[22mThere was 1 warning in `mutate()`.\n",
            "\u001b[1m\u001b[22m\u001b[36mℹ\u001b[39m In argument: `partyid = fct_collapse(...)`.\n",
            "Caused by warning:\n",
            "\u001b[33m!\u001b[39m Unknown levels in `f`: no answer, don't know”\n"
          ]
        },
        {
          "data": {
            "text/html": [
              "<table class=\"dataframe\">\n",
              "<caption>A tibble: 5 × 2</caption>\n",
              "<thead>\n",
              "\t<tr><th scope=col>partyid</th><th scope=col>n</th></tr>\n",
              "\t<tr><th scope=col>&lt;fct&gt;</th><th scope=col>&lt;int&gt;</th></tr>\n",
              "</thead>\n",
              "<tbody>\n",
              "\t<tr><td>Democrat   </td><td>731</td></tr>\n",
              "\t<tr><td>Independent</td><td>980</td></tr>\n",
              "\t<tr><td>Republican </td><td>527</td></tr>\n",
              "\t<tr><td>Other      </td><td> 77</td></tr>\n",
              "\t<tr><td>NA         </td><td> 33</td></tr>\n",
              "</tbody>\n",
              "</table>\n"
            ],
            "text/latex": [
              "A tibble: 5 × 2\n",
              "\\begin{tabular}{ll}\n",
              " partyid & n\\\\\n",
              " <fct> & <int>\\\\\n",
              "\\hline\n",
              "\t Democrat    & 731\\\\\n",
              "\t Independent & 980\\\\\n",
              "\t Republican  & 527\\\\\n",
              "\t Other       &  77\\\\\n",
              "\t NA          &  33\\\\\n",
              "\\end{tabular}\n"
            ],
            "text/markdown": [
              "\n",
              "A tibble: 5 × 2\n",
              "\n",
              "| partyid &lt;fct&gt; | n &lt;int&gt; |\n",
              "|---|---|\n",
              "| Democrat    | 731 |\n",
              "| Independent | 980 |\n",
              "| Republican  | 527 |\n",
              "| Other       |  77 |\n",
              "| NA          |  33 |\n",
              "\n"
            ],
            "text/plain": [
              "  partyid     n  \n",
              "1 Democrat    731\n",
              "2 Independent 980\n",
              "3 Republican  527\n",
              "4 Other        77\n",
              "5 NA           33"
            ]
          },
          "metadata": {},
          "output_type": "display_data"
        }
      ],
      "source": [
        "gss18 %>%\n",
        "  mutate(partyid = fct_collapse(partyid,\n",
        "    Other = c(\"no answer\", \"don't know\", \"other party\"),\n",
        "    Republican = c(\"strong republican\", \"not str republican\"),\n",
        "    Independent = c(\"ind,near rep\", \"independent\", \"ind,near dem\"),\n",
        "    Democrat = c(\"not str democrat\", \"strong democrat\")\n",
        "  )) %>%\n",
        "  count(partyid)"
      ]
    },
    {
      "cell_type": "markdown",
      "metadata": {
        "id": "MhhquM2Ykpb8"
      },
      "source": [
        "## Party affiliation across generations\n",
        "How does general party affiliation vary across generations?"
      ]
    },
    {
      "cell_type": "code",
      "execution_count": null,
      "metadata": {
        "id": "MnTZNTiekpb8"
      },
      "outputs": [],
      "source": []
    },
    {
      "cell_type": "markdown",
      "metadata": {
        "id": "8_W2CAyHkpb_"
      },
      "source": [
        "## Happiness\n",
        "The `unhappy` survey question asks:"
      ]
    },
    {
      "cell_type": "code",
      "execution_count": null,
      "metadata": {
        "id": "GEyEklJskpb_",
        "outputId": "172bfe5e-a159-43b7-aa4c-9bddb682efb0"
      },
      "outputs": [
        {
          "data": {
            "text/html": [
              "<table class=\"dataframe\">\n",
              "<caption>A tibble: 1 × 1</caption>\n",
              "<thead>\n",
              "\t<tr><th scope=col>description</th></tr>\n",
              "\t<tr><th scope=col>&lt;chr&gt;</th></tr>\n",
              "</thead>\n",
              "<tbody>\n",
              "\t<tr><td>How often R was unhappy or depressed in past 4 weeks</td></tr>\n",
              "</tbody>\n",
              "</table>\n"
            ],
            "text/latex": [
              "A tibble: 1 × 1\n",
              "\\begin{tabular}{l}\n",
              " description\\\\\n",
              " <chr>\\\\\n",
              "\\hline\n",
              "\t How often R was unhappy or depressed in past 4 weeks\\\\\n",
              "\\end{tabular}\n"
            ],
            "text/markdown": [
              "\n",
              "A tibble: 1 × 1\n",
              "\n",
              "| description &lt;chr&gt; |\n",
              "|---|\n",
              "| How often R was unhappy or depressed in past 4 weeks |\n",
              "\n"
            ],
            "text/plain": [
              "  description                                         \n",
              "1 How often R was unhappy or depressed in past 4 weeks"
            ]
          },
          "metadata": {},
          "output_type": "display_data"
        }
      ],
      "source": [
        "gss18.doc %>% filter(id=='unhappy') %>% select(description)"
      ]
    },
    {
      "cell_type": "markdown",
      "metadata": {
        "id": "NbYQrffzkpb_"
      },
      "source": [
        "How does happiness vary with political orientation?"
      ]
    },
    {
      "cell_type": "code",
      "execution_count": null,
      "metadata": {
        "id": "6SdPCsmmkpb_",
        "outputId": "d3a9106a-476e-4ae3-e989-12aaf36354ce"
      },
      "outputs": [
        {
          "data": {
            "text/plain": [
              "                    unhappy\n",
              "partyid                    never      rarely   sometimes       often\n",
              "  strong democrat    0.406417112 0.320855615 0.197860963 0.064171123\n",
              "  not str democrat   0.287425150 0.371257485 0.191616766 0.107784431\n",
              "  ind,near dem       0.300613497 0.349693252 0.239263804 0.085889571\n",
              "  independent        0.352941176 0.310160428 0.203208556 0.074866310\n",
              "  ind,near rep       0.372093023 0.310077519 0.263565891 0.046511628\n",
              "  not str republican 0.442028986 0.318840580 0.152173913 0.065217391\n",
              "  strong republican  0.464285714 0.335714286 0.157142857 0.028571429\n",
              "  other party        0.333333333 0.404761905 0.166666667 0.071428571\n",
              "                    unhappy\n",
              "partyid               very often\n",
              "  strong democrat    0.010695187\n",
              "  not str democrat   0.041916168\n",
              "  ind,near dem       0.024539877\n",
              "  independent        0.058823529\n",
              "  ind,near rep       0.007751938\n",
              "  not str republican 0.021739130\n",
              "  strong republican  0.014285714\n",
              "  other party        0.023809524"
            ]
          },
          "metadata": {},
          "output_type": "display_data"
        }
      ],
      "source": [
        "# happiness v politics"
      ]
    }
  ],
  "metadata": {
    "celltoolbar": "Slideshow",
    "kernelspec": {
      "display_name": "R",
      "language": "R",
      "name": "ir"
    },
    "language_info": {
      "codemirror_mode": "r",
      "file_extension": ".r",
      "mimetype": "text/x-r-source",
      "name": "R",
      "pygments_lexer": "r",
      "version": "4.2.2"
    },
    "toc": {
      "nav_menu": {},
      "number_sections": true,
      "sideBar": true,
      "skip_h1_title": true,
      "toc_cell": false,
      "toc_position": {},
      "toc_section_display": "block",
      "toc_window_display": true
    },
    "colab": {
      "provenance": [],
      "include_colab_link": true
    }
  },
  "nbformat": 4,
  "nbformat_minor": 0
}
