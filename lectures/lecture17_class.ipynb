{
  "cells": [
    {
      "cell_type": "markdown",
      "metadata": {
        "id": "view-in-github",
        "colab_type": "text"
      },
      "source": [
        "<a href=\"https://colab.research.google.com/github/sharonma1218/stats306/blob/main/lecture17_class.ipynb\" target=\"_parent\"><img src=\"https://colab.research.google.com/assets/colab-badge.svg\" alt=\"Open In Colab\"/></a>"
      ]
    },
    {
      "cell_type": "code",
      "execution_count": 1,
      "metadata": {
        "colab": {
          "base_uri": "https://localhost:8080/"
        },
        "id": "__szmnTH1lex",
        "outputId": "0e00e7b5-3e99-4b3a-9651-669d36101e34"
      },
      "outputs": [
        {
          "output_type": "stream",
          "name": "stderr",
          "text": [
            "Warning message in system(\"timedatectl\", intern = TRUE):\n",
            "“running command 'timedatectl' had status 1”\n",
            "── \u001b[1mAttaching packages\u001b[22m ─────────────────────────────────────── tidyverse 1.3.1 ──\n",
            "\n",
            "\u001b[32m✔\u001b[39m \u001b[34mggplot2\u001b[39m 3.4.1     \u001b[32m✔\u001b[39m \u001b[34mpurrr  \u001b[39m 1.0.1\n",
            "\u001b[32m✔\u001b[39m \u001b[34mtibble \u001b[39m 3.2.0     \u001b[32m✔\u001b[39m \u001b[34mdplyr  \u001b[39m 1.1.0\n",
            "\u001b[32m✔\u001b[39m \u001b[34mtidyr  \u001b[39m 1.3.0     \u001b[32m✔\u001b[39m \u001b[34mstringr\u001b[39m 1.4.1\n",
            "\u001b[32m✔\u001b[39m \u001b[34mreadr  \u001b[39m 2.1.4     \u001b[32m✔\u001b[39m \u001b[34mforcats\u001b[39m 1.0.0\n",
            "\n",
            "── \u001b[1mConflicts\u001b[22m ────────────────────────────────────────── tidyverse_conflicts() ──\n",
            "\u001b[31m✖\u001b[39m \u001b[34mdplyr\u001b[39m::\u001b[32mfilter()\u001b[39m masks \u001b[34mstats\u001b[39m::filter()\n",
            "\u001b[31m✖\u001b[39m \u001b[34mdplyr\u001b[39m::\u001b[32mlag()\u001b[39m    masks \u001b[34mstats\u001b[39m::lag()\n",
            "\n",
            "Installing package into ‘/usr/local/lib/R/site-library’\n",
            "(as ‘lib’ is unspecified)\n",
            "\n",
            "Downloading GitHub repo bradleyboehmke/harrypotter@HEAD\n",
            "\n"
          ]
        },
        {
          "output_type": "stream",
          "name": "stdout",
          "text": [
            "\u001b[36m──\u001b[39m \u001b[36mR CMD build\u001b[39m \u001b[36m─────────────────────────────────────────────────────────────────\u001b[39m\n",
            "* checking for file ‘/tmp/RtmpFEkSaV/remotes812ba4da4e/bradleyboehmke-harrypotter-51f7146/DESCRIPTION’ ... OK\n",
            "* preparing ‘harrypotter’:\n",
            "* checking DESCRIPTION meta-information ... OK\n",
            "* checking for LF line-endings in source and make files and shell scripts\n",
            "* checking for empty or unneeded directories\n",
            "* building ‘harrypotter_0.1.0.tar.gz’\n",
            "\n"
          ]
        },
        {
          "output_type": "stream",
          "name": "stderr",
          "text": [
            "Installing package into ‘/usr/local/lib/R/site-library’\n",
            "(as ‘lib’ is unspecified)\n",
            "\n",
            "Installing package into ‘/usr/local/lib/R/site-library’\n",
            "(as ‘lib’ is unspecified)\n",
            "\n",
            "also installing the dependencies ‘Rcpp’, ‘SnowballC’, ‘janeaustenr’, ‘tokenizers’\n",
            "\n",
            "\n"
          ]
        }
      ],
      "source": [
        "library(tidyverse)\n",
        "install.packages('nycflights13')\n",
        "library(nycflights13)\n",
        "\n",
        "remotes::install_github(\"bradleyboehmke/harrypotter\")\n",
        "install.packages(\"tidytext\")\n",
        "library(harrypotter)"
      ]
    },
    {
      "cell_type": "markdown",
      "metadata": {
        "id": "m-DHRmHF1lev"
      },
      "source": [
        "# Lecture 17: Iteration and Functional Programming\n",
        "<div style=\"border: 1px double black; padding: 10px; margin: 10px\">\n",
        "\n",
        "**After today's lecture you will understand:**\n",
        "- [Iteration](#Iteration): `for`/`while` loops.\n",
        "- [Functional programming](#Functional-programming) (FP): functions that operate on other functions.\n",
        "</div>\n",
        "\n",
        "These notes correspond to Chapter 27 of the book."
      ]
    },
    {
      "cell_type": "markdown",
      "metadata": {
        "id": "rnNHqlbv7H_F"
      },
      "source": [
        "## Doing the same thing over and over again\n",
        "Very often in programming, it happens that you need to perform the same \"action\" on multiple \"things\". Examples we have already seen in this class:\n",
        "- `facet_wrap()`, `facet_grid()`: make the same plot for various combinations of factors.\n",
        "- `group_by()` + `summarize()`: compute the same statistic for various groups of data.\n",
        "\n",
        "We've also encountered examples where we needed to do the same thing repeatedly, but didn't have a ready-made function (so probably resorted to copy-paste):\n",
        "\n",
        "- HW5: \n",
        "- HW7: bind together all the Harry Potter books into one data frame."
      ]
    },
    {
      "cell_type": "markdown",
      "metadata": {
        "id": "y_V5gOCL7H_F"
      },
      "source": [
        "### Performing the same action on multiple columns\n",
        "Consider the following table with four columns `a`-`d`:"
      ]
    },
    {
      "cell_type": "code",
      "execution_count": 3,
      "metadata": {
        "id": "h8sulGTN7H_F"
      },
      "outputs": [],
      "source": [
        "df <- tibble(\n",
        "  a = rnorm(10),\n",
        "  b = rnorm(10),\n",
        "  c = rnorm(10),\n",
        "  d = rnorm(10)\n",
        ")"
      ]
    },
    {
      "cell_type": "markdown",
      "metadata": {
        "id": "veLgNTp57H_F"
      },
      "source": [
        "Yesterday we wrote a `z_score()` function which standardizes a vector of data to have unit variance and zero mean:"
      ]
    },
    {
      "cell_type": "code",
      "execution_count": 9,
      "metadata": {
        "id": "uBa22vMc7H_F"
      },
      "outputs": [],
      "source": [
        "z_score <- function(x, na.rm = F) {\n",
        "    (x - mean(x, na.rm = na.rm)) / sd(x, na.rm = na.rm)\n",
        "}"
      ]
    },
    {
      "cell_type": "markdown",
      "metadata": {
        "id": "t5BuyYCi7H_F"
      },
      "source": [
        "Let's say we want to standardize the four coulmns in our data frame. Up to now, we would probably write:"
      ]
    },
    {
      "cell_type": "code",
      "execution_count": 5,
      "metadata": {
        "id": "hkg5tleY7H_F",
        "outputId": "986362e5-6c38-418b-ddf2-23798d90dc8a",
        "colab": {
          "base_uri": "https://localhost:8080/",
          "height": 412
        }
      },
      "outputs": [
        {
          "output_type": "display_data",
          "data": {
            "text/html": [
              "<table class=\"dataframe\">\n",
              "<caption>A tibble: 10 × 4</caption>\n",
              "<thead>\n",
              "\t<tr><th scope=col>a</th><th scope=col>b</th><th scope=col>c</th><th scope=col>d</th></tr>\n",
              "\t<tr><th scope=col>&lt;dbl&gt;</th><th scope=col>&lt;dbl&gt;</th><th scope=col>&lt;dbl&gt;</th><th scope=col>&lt;dbl&gt;</th></tr>\n",
              "</thead>\n",
              "<tbody>\n",
              "\t<tr><td> 1.1935839</td><td> 0.15565761</td><td>-0.4110766</td><td>-0.66069348</td></tr>\n",
              "\t<tr><td> 0.2547614</td><td>-0.64498580</td><td>-0.0359779</td><td> 0.07638365</td></tr>\n",
              "\t<tr><td>-0.6914299</td><td> 1.58271917</td><td>-1.2222882</td><td> 0.74421196</td></tr>\n",
              "\t<tr><td>-0.8374356</td><td>-0.89361001</td><td> 1.5763080</td><td> 1.59954103</td></tr>\n",
              "\t<tr><td>-0.3530247</td><td>-0.62193555</td><td> 0.1748174</td><td>-1.31692608</td></tr>\n",
              "\t<tr><td> 0.4046379</td><td>-1.32470314</td><td> 1.6100716</td><td>-1.45080969</td></tr>\n",
              "\t<tr><td> 1.0555154</td><td> 1.08912234</td><td>-0.9697665</td><td> 0.61903632</td></tr>\n",
              "\t<tr><td>-0.3055407</td><td>-0.65128124</td><td>-0.6263422</td><td> 0.63880392</td></tr>\n",
              "\t<tr><td> 1.1519617</td><td> 1.22348371</td><td>-0.7152405</td><td>-0.75075713</td></tr>\n",
              "\t<tr><td>-1.8730293</td><td> 0.08553291</td><td> 0.6194949</td><td> 0.50120950</td></tr>\n",
              "</tbody>\n",
              "</table>\n"
            ],
            "text/markdown": "\nA tibble: 10 × 4\n\n| a &lt;dbl&gt; | b &lt;dbl&gt; | c &lt;dbl&gt; | d &lt;dbl&gt; |\n|---|---|---|---|\n|  1.1935839 |  0.15565761 | -0.4110766 | -0.66069348 |\n|  0.2547614 | -0.64498580 | -0.0359779 |  0.07638365 |\n| -0.6914299 |  1.58271917 | -1.2222882 |  0.74421196 |\n| -0.8374356 | -0.89361001 |  1.5763080 |  1.59954103 |\n| -0.3530247 | -0.62193555 |  0.1748174 | -1.31692608 |\n|  0.4046379 | -1.32470314 |  1.6100716 | -1.45080969 |\n|  1.0555154 |  1.08912234 | -0.9697665 |  0.61903632 |\n| -0.3055407 | -0.65128124 | -0.6263422 |  0.63880392 |\n|  1.1519617 |  1.22348371 | -0.7152405 | -0.75075713 |\n| -1.8730293 |  0.08553291 |  0.6194949 |  0.50120950 |\n\n",
            "text/latex": "A tibble: 10 × 4\n\\begin{tabular}{llll}\n a & b & c & d\\\\\n <dbl> & <dbl> & <dbl> & <dbl>\\\\\n\\hline\n\t  1.1935839 &  0.15565761 & -0.4110766 & -0.66069348\\\\\n\t  0.2547614 & -0.64498580 & -0.0359779 &  0.07638365\\\\\n\t -0.6914299 &  1.58271917 & -1.2222882 &  0.74421196\\\\\n\t -0.8374356 & -0.89361001 &  1.5763080 &  1.59954103\\\\\n\t -0.3530247 & -0.62193555 &  0.1748174 & -1.31692608\\\\\n\t  0.4046379 & -1.32470314 &  1.6100716 & -1.45080969\\\\\n\t  1.0555154 &  1.08912234 & -0.9697665 &  0.61903632\\\\\n\t -0.3055407 & -0.65128124 & -0.6263422 &  0.63880392\\\\\n\t  1.1519617 &  1.22348371 & -0.7152405 & -0.75075713\\\\\n\t -1.8730293 &  0.08553291 &  0.6194949 &  0.50120950\\\\\n\\end{tabular}\n",
            "text/plain": [
              "   a          b           c          d          \n",
              "1   1.1935839  0.15565761 -0.4110766 -0.66069348\n",
              "2   0.2547614 -0.64498580 -0.0359779  0.07638365\n",
              "3  -0.6914299  1.58271917 -1.2222882  0.74421196\n",
              "4  -0.8374356 -0.89361001  1.5763080  1.59954103\n",
              "5  -0.3530247 -0.62193555  0.1748174 -1.31692608\n",
              "6   0.4046379 -1.32470314  1.6100716 -1.45080969\n",
              "7   1.0555154  1.08912234 -0.9697665  0.61903632\n",
              "8  -0.3055407 -0.65128124 -0.6263422  0.63880392\n",
              "9   1.1519617  1.22348371 -0.7152405 -0.75075713\n",
              "10 -1.8730293  0.08553291  0.6194949  0.50120950"
            ]
          },
          "metadata": {}
        }
      ],
      "source": [
        "# mutate the manual way \n",
        "df%>%\n",
        "  mutate(a=z_score(a),\n",
        "        b=z_score(b),\n",
        "        c=z_score(c),\n",
        "        d=z_score(d))"
      ]
    },
    {
      "cell_type": "markdown",
      "metadata": {
        "id": "58bgFtyQ7H_G"
      },
      "source": [
        "In the preceding example, we just copy-pasted the same bit of code four times. From now on, we shall adopt a rule: \"never copy-paste more than twice!\" If you find yourself copy-pasting code more than two times, it pays to think of a better way to accomplish the task at hand."
      ]
    },
    {
      "cell_type": "markdown",
      "metadata": {
        "id": "x0aVrt6q7H_G"
      },
      "source": [
        "### `across()`\n",
        "The better way in this case is to use a new `dplyr` verb called `across()`. It's easiest to explain with an example:"
      ]
    },
    {
      "cell_type": "code",
      "execution_count": 10,
      "metadata": {
        "id": "XF2ne2bc7H_G",
        "outputId": "6f27ed28-ebed-449a-be04-ae2c9c22ce3f",
        "colab": {
          "base_uri": "https://localhost:8080/"
        }
      },
      "outputs": [
        {
          "output_type": "stream",
          "name": "stdout",
          "text": [
            "\u001b[90m# A tibble: 10 × 4\u001b[39m\n",
            "        a       b       c       d\n",
            "    \u001b[3m\u001b[90m<dbl>\u001b[39m\u001b[23m   \u001b[3m\u001b[90m<dbl>\u001b[39m\u001b[23m   \u001b[3m\u001b[90m<dbl>\u001b[39m\u001b[23m   \u001b[3m\u001b[90m<dbl>\u001b[39m\u001b[23m\n",
            "\u001b[90m 1\u001b[39m  1.19   0.156  -\u001b[31m0\u001b[39m\u001b[31m.\u001b[39m\u001b[31m411\u001b[39m  -\u001b[31m0\u001b[39m\u001b[31m.\u001b[39m\u001b[31m661\u001b[39m \n",
            "\u001b[90m 2\u001b[39m  0.255 -\u001b[31m0\u001b[39m\u001b[31m.\u001b[39m\u001b[31m645\u001b[39m  -\u001b[31m0\u001b[39m\u001b[31m.\u001b[39m\u001b[31m0\u001b[39m\u001b[31m36\u001b[4m0\u001b[24m\u001b[39m  0.076\u001b[4m4\u001b[24m\n",
            "\u001b[90m 3\u001b[39m -\u001b[31m0\u001b[39m\u001b[31m.\u001b[39m\u001b[31m691\u001b[39m  1.58   -\u001b[31m1\u001b[39m\u001b[31m.\u001b[39m\u001b[31m22\u001b[39m    0.744 \n",
            "\u001b[90m 4\u001b[39m -\u001b[31m0\u001b[39m\u001b[31m.\u001b[39m\u001b[31m837\u001b[39m -\u001b[31m0\u001b[39m\u001b[31m.\u001b[39m\u001b[31m894\u001b[39m   1.58    1.60  \n",
            "\u001b[90m 5\u001b[39m -\u001b[31m0\u001b[39m\u001b[31m.\u001b[39m\u001b[31m353\u001b[39m -\u001b[31m0\u001b[39m\u001b[31m.\u001b[39m\u001b[31m622\u001b[39m   0.175  -\u001b[31m1\u001b[39m\u001b[31m.\u001b[39m\u001b[31m32\u001b[39m  \n",
            "\u001b[90m 6\u001b[39m  0.405 -\u001b[31m1\u001b[39m\u001b[31m.\u001b[39m\u001b[31m32\u001b[39m    1.61   -\u001b[31m1\u001b[39m\u001b[31m.\u001b[39m\u001b[31m45\u001b[39m  \n",
            "\u001b[90m 7\u001b[39m  1.06   1.09   -\u001b[31m0\u001b[39m\u001b[31m.\u001b[39m\u001b[31m970\u001b[39m   0.619 \n",
            "\u001b[90m 8\u001b[39m -\u001b[31m0\u001b[39m\u001b[31m.\u001b[39m\u001b[31m306\u001b[39m -\u001b[31m0\u001b[39m\u001b[31m.\u001b[39m\u001b[31m651\u001b[39m  -\u001b[31m0\u001b[39m\u001b[31m.\u001b[39m\u001b[31m626\u001b[39m   0.639 \n",
            "\u001b[90m 9\u001b[39m  1.15   1.22   -\u001b[31m0\u001b[39m\u001b[31m.\u001b[39m\u001b[31m715\u001b[39m  -\u001b[31m0\u001b[39m\u001b[31m.\u001b[39m\u001b[31m751\u001b[39m \n",
            "\u001b[90m10\u001b[39m -\u001b[31m1\u001b[39m\u001b[31m.\u001b[39m\u001b[31m87\u001b[39m   0.085\u001b[4m5\u001b[24m  0.619   0.501 \n"
          ]
        }
      ],
      "source": [
        "# use across instead\n",
        "df%>%\n",
        "  mutate(across(a:d,z_score))%>%\n",
        "  print"
      ]
    },
    {
      "cell_type": "markdown",
      "metadata": {
        "id": "DY2PgTww7H_G"
      },
      "source": [
        "The columns selected by `across()` work in the same way as `select`:"
      ]
    },
    {
      "cell_type": "code",
      "execution_count": 13,
      "metadata": {
        "id": "lP8nx9Hi7H_G",
        "outputId": "92806e75-52c8-48ab-d0e2-5389f59e42f8",
        "colab": {
          "base_uri": "https://localhost:8080/",
          "height": 129
        }
      },
      "outputs": [
        {
          "output_type": "display_data",
          "data": {
            "text/html": [
              "<table class=\"dataframe\">\n",
              "<caption>A tibble: 1 × 4</caption>\n",
              "<thead>\n",
              "\t<tr><th scope=col>a</th><th scope=col>b</th><th scope=col>c</th><th scope=col>d</th></tr>\n",
              "\t<tr><th scope=col>&lt;dbl&gt;</th><th scope=col>&lt;dbl&gt;</th><th scope=col>&lt;dbl&gt;</th><th scope=col>&lt;dbl&gt;</th></tr>\n",
              "</thead>\n",
              "<tbody>\n",
              "\t<tr><td>0.372604</td><td>3.887542e-17</td><td>-1.387779e-17</td><td>1.665335e-17</td></tr>\n",
              "</tbody>\n",
              "</table>\n"
            ],
            "text/markdown": "\nA tibble: 1 × 4\n\n| a &lt;dbl&gt; | b &lt;dbl&gt; | c &lt;dbl&gt; | d &lt;dbl&gt; |\n|---|---|---|---|\n| 0.372604 | 3.887542e-17 | -1.387779e-17 | 1.665335e-17 |\n\n",
            "text/latex": "A tibble: 1 × 4\n\\begin{tabular}{llll}\n a & b & c & d\\\\\n <dbl> & <dbl> & <dbl> & <dbl>\\\\\n\\hline\n\t 0.372604 & 3.887542e-17 & -1.387779e-17 & 1.665335e-17\\\\\n\\end{tabular}\n",
            "text/plain": [
              "  a        b            c             d           \n",
              "1 0.372604 3.887542e-17 -1.387779e-17 1.665335e-17"
            ]
          },
          "metadata": {}
        }
      ],
      "source": [
        "# standardize everything except column a, then compute the mean\n",
        "df%>%\n",
        "  mutate(across((b:d),z_score))%>%\n",
        "  summarize(across(everything(),mean))"
      ]
    },
    {
      "cell_type": "markdown",
      "metadata": {
        "id": "A3p1CEEV7H_G"
      },
      "source": [
        "### Selecting columns based on their type\n",
        "It only makes sense to standardize a numerical random variable. Hence, the following won't work:\n",
        "\n",
        "    mpg %>% mutate(across(everything(), z_score))"
      ]
    },
    {
      "cell_type": "code",
      "source": [
        "mpg%>%\n",
        "  mutate(across(everything(),z_score))\n",
        "# not happy bc manufacturer = chr (not the right data type)"
      ],
      "metadata": {
        "id": "fEAqDQSq81JB"
      },
      "execution_count": null,
      "outputs": []
    },
    {
      "cell_type": "markdown",
      "metadata": {
        "id": "F4OE_UR27H_G"
      },
      "source": [
        "Instead, we can use `where()` to select columns that have a particular type:"
      ]
    },
    {
      "cell_type": "code",
      "execution_count": 15,
      "metadata": {
        "id": "5se3AmQm7H_G",
        "outputId": "f4a50538-cf09-4a59-ff2c-ef11ffcb783d",
        "colab": {
          "base_uri": "https://localhost:8080/"
        }
      },
      "outputs": [
        {
          "output_type": "stream",
          "name": "stderr",
          "text": [
            "Warning message:\n",
            "“\u001b[1m\u001b[22mThere was 1 warning in `mutate()`.\n",
            "\u001b[1m\u001b[22m\u001b[36mℹ\u001b[39m In argument: `across(is.numeric, z_score)`.\n",
            "Caused by warning:\n",
            "\u001b[1m\u001b[22m\u001b[33m!\u001b[39m Use of bare predicate functions was deprecated in tidyselect 1.1.0.\n",
            "\u001b[36mℹ\u001b[39m Please use wrap predicates in `where()` instead.\n",
            "  # Was:\n",
            "  data %>% select(is.numeric)\n",
            "\n",
            "  # Now:\n",
            "  data %>% select(where(is.numeric))”\n"
          ]
        },
        {
          "output_type": "stream",
          "name": "stdout",
          "text": [
            "\u001b[90m# A tibble: 234 × 11\u001b[39m\n",
            "   manufacturer model  displ   year     cyl trans drv      cty   hwy fl    class\n",
            "   \u001b[3m\u001b[90m<chr>\u001b[39m\u001b[23m        \u001b[3m\u001b[90m<chr>\u001b[39m\u001b[23m  \u001b[3m\u001b[90m<dbl>\u001b[39m\u001b[23m  \u001b[3m\u001b[90m<dbl>\u001b[39m\u001b[23m   \u001b[3m\u001b[90m<dbl>\u001b[39m\u001b[23m \u001b[3m\u001b[90m<chr>\u001b[39m\u001b[23m \u001b[3m\u001b[90m<chr>\u001b[39m\u001b[23m  \u001b[3m\u001b[90m<dbl>\u001b[39m\u001b[23m \u001b[3m\u001b[90m<dbl>\u001b[39m\u001b[23m \u001b[3m\u001b[90m<chr>\u001b[39m\u001b[23m \u001b[3m\u001b[90m<chr>\u001b[39m\u001b[23m\n",
            "\u001b[90m 1\u001b[39m audi         a4    -\u001b[31m1\u001b[39m\u001b[31m.\u001b[39m\u001b[31m29\u001b[39m  -\u001b[31m0\u001b[39m\u001b[31m.\u001b[39m\u001b[31m998\u001b[39m -\u001b[31m1\u001b[39m\u001b[31m.\u001b[39m\u001b[31m17\u001b[39m   auto… f      0.268 0.934 p     comp…\n",
            "\u001b[90m 2\u001b[39m audi         a4    -\u001b[31m1\u001b[39m\u001b[31m.\u001b[39m\u001b[31m29\u001b[39m  -\u001b[31m0\u001b[39m\u001b[31m.\u001b[39m\u001b[31m998\u001b[39m -\u001b[31m1\u001b[39m\u001b[31m.\u001b[39m\u001b[31m17\u001b[39m   manu… f      0.973 0.934 p     comp…\n",
            "\u001b[90m 3\u001b[39m audi         a4    -\u001b[31m1\u001b[39m\u001b[31m.\u001b[39m\u001b[31m14\u001b[39m   0.998 -\u001b[31m1\u001b[39m\u001b[31m.\u001b[39m\u001b[31m17\u001b[39m   manu… f      0.738 1.27  p     comp…\n",
            "\u001b[90m 4\u001b[39m audi         a4    -\u001b[31m1\u001b[39m\u001b[31m.\u001b[39m\u001b[31m14\u001b[39m   0.998 -\u001b[31m1\u001b[39m\u001b[31m.\u001b[39m\u001b[31m17\u001b[39m   auto… f      0.973 1.10  p     comp…\n",
            "\u001b[90m 5\u001b[39m audi         a4    -\u001b[31m0\u001b[39m\u001b[31m.\u001b[39m\u001b[31m520\u001b[39m -\u001b[31m0\u001b[39m\u001b[31m.\u001b[39m\u001b[31m998\u001b[39m  0.068\u001b[4m9\u001b[24m auto… f     -\u001b[31m0\u001b[39m\u001b[31m.\u001b[39m\u001b[31m202\u001b[39m 0.430 p     comp…\n",
            "\u001b[90m 6\u001b[39m audi         a4    -\u001b[31m0\u001b[39m\u001b[31m.\u001b[39m\u001b[31m520\u001b[39m -\u001b[31m0\u001b[39m\u001b[31m.\u001b[39m\u001b[31m998\u001b[39m  0.068\u001b[4m9\u001b[24m manu… f      0.268 0.430 p     comp…\n",
            "\u001b[90m 7\u001b[39m audi         a4    -\u001b[31m0\u001b[39m\u001b[31m.\u001b[39m\u001b[31m288\u001b[39m  0.998  0.068\u001b[4m9\u001b[24m auto… f      0.268 0.598 p     comp…\n",
            "\u001b[90m 8\u001b[39m audi         a4 q… -\u001b[31m1\u001b[39m\u001b[31m.\u001b[39m\u001b[31m29\u001b[39m  -\u001b[31m0\u001b[39m\u001b[31m.\u001b[39m\u001b[31m998\u001b[39m -\u001b[31m1\u001b[39m\u001b[31m.\u001b[39m\u001b[31m17\u001b[39m   manu… 4      0.268 0.430 p     comp…\n",
            "\u001b[90m 9\u001b[39m audi         a4 q… -\u001b[31m1\u001b[39m\u001b[31m.\u001b[39m\u001b[31m29\u001b[39m  -\u001b[31m0\u001b[39m\u001b[31m.\u001b[39m\u001b[31m998\u001b[39m -\u001b[31m1\u001b[39m\u001b[31m.\u001b[39m\u001b[31m17\u001b[39m   auto… 4     -\u001b[31m0\u001b[39m\u001b[31m.\u001b[39m\u001b[31m202\u001b[39m 0.262 p     comp…\n",
            "\u001b[90m10\u001b[39m audi         a4 q… -\u001b[31m1\u001b[39m\u001b[31m.\u001b[39m\u001b[31m14\u001b[39m   0.998 -\u001b[31m1\u001b[39m\u001b[31m.\u001b[39m\u001b[31m17\u001b[39m   manu… 4      0.738 0.766 p     comp…\n",
            "\u001b[90m# … with 224 more rows\u001b[39m\n"
          ]
        }
      ],
      "source": [
        "# standardize only the numerical columns\n",
        "\n",
        "mpg%>%\n",
        "  mutate(across(is.numeric,z_score))%>%\n",
        "  print\n",
        "\n",
        "# replaces orig val"
      ]
    },
    {
      "cell_type": "markdown",
      "metadata": {
        "id": "4eRHoQ3V7H_G"
      },
      "source": [
        "### Anonymous functions\n",
        "In the preceding example, we wrote a function, `z_score`, and then applied it to multiple columns using the `across()` verb. Often, we want to apply a relatively simple function that we are only going to use once. In these cases, we can define an \"anonymous\" function that only exists temporarily. "
      ]
    },
    {
      "cell_type": "code",
      "execution_count": 19,
      "metadata": {
        "id": "qTn7u74m7H_G",
        "outputId": "079767f9-6bfc-4bfd-cea2-5b668718c82d",
        "colab": {
          "base_uri": "https://localhost:8080/",
          "height": 467
        }
      },
      "outputs": [
        {
          "output_type": "display_data",
          "data": {
            "text/html": [
              "<table class=\"dataframe\">\n",
              "<caption>A tibble: 1 × 4</caption>\n",
              "<thead>\n",
              "\t<tr><th scope=col>a</th><th scope=col>b</th><th scope=col>c</th><th scope=col>d</th></tr>\n",
              "\t<tr><th scope=col>&lt;dbl&gt;</th><th scope=col>&lt;dbl&gt;</th><th scope=col>&lt;dbl&gt;</th><th scope=col>&lt;dbl&gt;</th></tr>\n",
              "</thead>\n",
              "<tbody>\n",
              "\t<tr><td>0.3557816</td><td>-0.5661914</td><td>-0.2013339</td><td>0.2314661</td></tr>\n",
              "</tbody>\n",
              "</table>\n"
            ],
            "text/markdown": "\nA tibble: 1 × 4\n\n| a &lt;dbl&gt; | b &lt;dbl&gt; | c &lt;dbl&gt; | d &lt;dbl&gt; |\n|---|---|---|---|\n| 0.3557816 | -0.5661914 | -0.2013339 | 0.2314661 |\n\n",
            "text/latex": "A tibble: 1 × 4\n\\begin{tabular}{llll}\n a & b & c & d\\\\\n <dbl> & <dbl> & <dbl> & <dbl>\\\\\n\\hline\n\t 0.3557816 & -0.5661914 & -0.2013339 & 0.2314661\\\\\n\\end{tabular}\n",
            "text/plain": [
              "  a         b          c          d        \n",
              "1 0.3557816 -0.5661914 -0.2013339 0.2314661"
            ]
          },
          "metadata": {}
        },
        {
          "output_type": "display_data",
          "data": {
            "text/html": [
              "<table class=\"dataframe\">\n",
              "<caption>A tibble: 1 × 4</caption>\n",
              "<thead>\n",
              "\t<tr><th scope=col>a</th><th scope=col>b</th><th scope=col>c</th><th scope=col>d</th></tr>\n",
              "\t<tr><th scope=col>&lt;dbl&gt;</th><th scope=col>&lt;dbl&gt;</th><th scope=col>&lt;dbl&gt;</th><th scope=col>&lt;dbl&gt;</th></tr>\n",
              "</thead>\n",
              "<tbody>\n",
              "\t<tr><td>0.3557816</td><td>-0.5661914</td><td>-0.2013339</td><td>0.2314661</td></tr>\n",
              "</tbody>\n",
              "</table>\n"
            ],
            "text/markdown": "\nA tibble: 1 × 4\n\n| a &lt;dbl&gt; | b &lt;dbl&gt; | c &lt;dbl&gt; | d &lt;dbl&gt; |\n|---|---|---|---|\n| 0.3557816 | -0.5661914 | -0.2013339 | 0.2314661 |\n\n",
            "text/latex": "A tibble: 1 × 4\n\\begin{tabular}{llll}\n a & b & c & d\\\\\n <dbl> & <dbl> & <dbl> & <dbl>\\\\\n\\hline\n\t 0.3557816 & -0.5661914 & -0.2013339 & 0.2314661\\\\\n\\end{tabular}\n",
            "text/plain": [
              "  a         b          c          d        \n",
              "1 0.3557816 -0.5661914 -0.2013339 0.2314661"
            ]
          },
          "metadata": {}
        },
        {
          "output_type": "display_data",
          "data": {
            "text/html": [
              "<table class=\"dataframe\">\n",
              "<caption>A tibble: 1 × 4</caption>\n",
              "<thead>\n",
              "\t<tr><th scope=col>a</th><th scope=col>b</th><th scope=col>c</th><th scope=col>d</th></tr>\n",
              "\t<tr><th scope=col>&lt;dbl&gt;</th><th scope=col>&lt;dbl&gt;</th><th scope=col>&lt;dbl&gt;</th><th scope=col>&lt;dbl&gt;</th></tr>\n",
              "</thead>\n",
              "<tbody>\n",
              "\t<tr><td>0.3557816</td><td>-0.5661914</td><td>-0.2013339</td><td>0.2314661</td></tr>\n",
              "</tbody>\n",
              "</table>\n"
            ],
            "text/markdown": "\nA tibble: 1 × 4\n\n| a &lt;dbl&gt; | b &lt;dbl&gt; | c &lt;dbl&gt; | d &lt;dbl&gt; |\n|---|---|---|---|\n| 0.3557816 | -0.5661914 | -0.2013339 | 0.2314661 |\n\n",
            "text/latex": "A tibble: 1 × 4\n\\begin{tabular}{llll}\n a & b & c & d\\\\\n <dbl> & <dbl> & <dbl> & <dbl>\\\\\n\\hline\n\t 0.3557816 & -0.5661914 & -0.2013339 & 0.2314661\\\\\n\\end{tabular}\n",
            "text/plain": [
              "  a         b          c          d        \n",
              "1 0.3557816 -0.5661914 -0.2013339 0.2314661"
            ]
          },
          "metadata": {}
        },
        {
          "output_type": "display_data",
          "data": {
            "text/html": [
              "<table class=\"dataframe\">\n",
              "<caption>A tibble: 1 × 4</caption>\n",
              "<thead>\n",
              "\t<tr><th scope=col>a</th><th scope=col>b</th><th scope=col>c</th><th scope=col>d</th></tr>\n",
              "\t<tr><th scope=col>&lt;dbl&gt;</th><th scope=col>&lt;dbl&gt;</th><th scope=col>&lt;dbl&gt;</th><th scope=col>&lt;dbl&gt;</th></tr>\n",
              "</thead>\n",
              "<tbody>\n",
              "\t<tr><td>0.3557816</td><td>-0.5661914</td><td>-0.2013339</td><td>0.2314661</td></tr>\n",
              "</tbody>\n",
              "</table>\n"
            ],
            "text/markdown": "\nA tibble: 1 × 4\n\n| a &lt;dbl&gt; | b &lt;dbl&gt; | c &lt;dbl&gt; | d &lt;dbl&gt; |\n|---|---|---|---|\n| 0.3557816 | -0.5661914 | -0.2013339 | 0.2314661 |\n\n",
            "text/latex": "A tibble: 1 × 4\n\\begin{tabular}{llll}\n a & b & c & d\\\\\n <dbl> & <dbl> & <dbl> & <dbl>\\\\\n\\hline\n\t 0.3557816 & -0.5661914 & -0.2013339 & 0.2314661\\\\\n\\end{tabular}\n",
            "text/plain": [
              "  a         b          c          d        \n",
              "1 0.3557816 -0.5661914 -0.2013339 0.2314661"
            ]
          },
          "metadata": {}
        }
      ],
      "source": [
        "#  df %>% summarize(across(a:d, median(na.rm = T))) won't work\n",
        "\n",
        "# use anonymous function instead\n",
        "df%>%\n",
        "  summarize(across(a:d,function(x){median(x,na.rm=T)})) # anon func = function(x)\n",
        "\n",
        "# another notation\n",
        "df%>%\n",
        "  summarize(across(a:d,function(x)median(x,na.rm=T))) # no curly brackets\n",
        "\n",
        "# yet another notation\n",
        "df%>%\n",
        "  summarize(across(a:d,\\(x)median(x,na.rm=T))) # no curly brackets\n",
        "\n",
        "# last one \n",
        "df%>%\n",
        "  summarize(across(everything(),\\(x)median(x,na.rm=T))) # no curly brackets"
      ]
    },
    {
      "cell_type": "markdown",
      "metadata": {
        "id": "aDafr9ER7H_G"
      },
      "source": [
        "### Multiple columns at once\n",
        "What if we want to use `across()` with multiple columns at once? "
      ]
    },
    {
      "cell_type": "code",
      "execution_count": 20,
      "metadata": {
        "id": "RBQ1m33s7H_G",
        "colab": {
          "base_uri": "https://localhost:8080/",
          "height": 129
        },
        "outputId": "81cfac1f-e05a-4ccc-ad97-e95ee3f6358e"
      },
      "outputs": [
        {
          "output_type": "display_data",
          "data": {
            "text/html": [
              "<table class=\"dataframe\">\n",
              "<caption>A tibble: 1 × 8</caption>\n",
              "<thead>\n",
              "\t<tr><th scope=col>a_1</th><th scope=col>a_2</th><th scope=col>b_1</th><th scope=col>b_2</th><th scope=col>c_1</th><th scope=col>c_2</th><th scope=col>d_1</th><th scope=col>d_2</th></tr>\n",
              "\t<tr><th scope=col>&lt;dbl&gt;</th><th scope=col>&lt;dbl&gt;</th><th scope=col>&lt;dbl&gt;</th><th scope=col>&lt;dbl&gt;</th><th scope=col>&lt;dbl&gt;</th><th scope=col>&lt;dbl&gt;</th><th scope=col>&lt;dbl&gt;</th><th scope=col>&lt;dbl&gt;</th></tr>\n",
              "</thead>\n",
              "<tbody>\n",
              "\t<tr><td>0.3557816</td><td>0.372604</td><td>-0.5661914</td><td>-0.3316303</td><td>-0.2013339</td><td>0.01390667</td><td>0.2314661</td><td>0.006080539</td></tr>\n",
              "</tbody>\n",
              "</table>\n"
            ],
            "text/markdown": "\nA tibble: 1 × 8\n\n| a_1 &lt;dbl&gt; | a_2 &lt;dbl&gt; | b_1 &lt;dbl&gt; | b_2 &lt;dbl&gt; | c_1 &lt;dbl&gt; | c_2 &lt;dbl&gt; | d_1 &lt;dbl&gt; | d_2 &lt;dbl&gt; |\n|---|---|---|---|---|---|---|---|\n| 0.3557816 | 0.372604 | -0.5661914 | -0.3316303 | -0.2013339 | 0.01390667 | 0.2314661 | 0.006080539 |\n\n",
            "text/latex": "A tibble: 1 × 8\n\\begin{tabular}{llllllll}\n a\\_1 & a\\_2 & b\\_1 & b\\_2 & c\\_1 & c\\_2 & d\\_1 & d\\_2\\\\\n <dbl> & <dbl> & <dbl> & <dbl> & <dbl> & <dbl> & <dbl> & <dbl>\\\\\n\\hline\n\t 0.3557816 & 0.372604 & -0.5661914 & -0.3316303 & -0.2013339 & 0.01390667 & 0.2314661 & 0.006080539\\\\\n\\end{tabular}\n",
            "text/plain": [
              "  a_1       a_2      b_1        b_2        c_1        c_2        d_1      \n",
              "1 0.3557816 0.372604 -0.5661914 -0.3316303 -0.2013339 0.01390667 0.2314661\n",
              "  d_2        \n",
              "1 0.006080539"
            ]
          },
          "metadata": {}
        }
      ],
      "source": [
        "# df %>% summarize(across(a:d, median, mean)) won't work -- use a named list instead\n",
        "df%>%\n",
        "  summarize(across(everything(),list(median,mean)))"
      ]
    },
    {
      "cell_type": "markdown",
      "metadata": {
        "id": "xpOYSKIV7H_G"
      },
      "source": [
        "## `list()`\n",
        "\n",
        "In the previous example we used a new data type that we have not seen before:"
      ]
    },
    {
      "cell_type": "code",
      "execution_count": 21,
      "metadata": {
        "id": "E03xKvMG7H_G",
        "outputId": "3c67aa3c-078a-46be-f68d-9ddbfeaba496",
        "colab": {
          "base_uri": "https://localhost:8080/",
          "height": 132
        }
      },
      "outputs": [
        {
          "output_type": "display_data",
          "data": {
            "text/html": [
              "<ol>\n",
              "\t<li>'a'</li>\n",
              "\t<li>1</li>\n",
              "\t<li>FALSE</li>\n",
              "\t<li>3.14159265358979</li>\n",
              "\t<li><ol>\n",
              "\t<li><style>\n",
              ".list-inline {list-style: none; margin:0; padding: 0}\n",
              ".list-inline>li {display: inline-block}\n",
              ".list-inline>li:not(:last-child)::after {content: \"\\00b7\"; padding: 0 .5ex}\n",
              "</style>\n",
              "<ol class=list-inline><li>1</li><li>2</li><li>3</li></ol>\n",
              "</li>\n",
              "</ol>\n",
              "</li>\n",
              "</ol>\n"
            ],
            "text/markdown": "1. 'a'\n2. 1\n3. FALSE\n4. 3.14159265358979\n5. 1. 1. 1\n2. 2\n3. 3\n\n\n\n\n\n\n\n\n",
            "text/latex": "\\begin{enumerate}\n\\item 'a'\n\\item 1\n\\item FALSE\n\\item 3.14159265358979\n\\item \\begin{enumerate}\n\\item \\begin{enumerate*}\n\\item 1\n\\item 2\n\\item 3\n\\end{enumerate*}\n\n\\end{enumerate}\n\n\\end{enumerate}\n",
            "text/plain": [
              "[[1]]\n",
              "[1] \"a\"\n",
              "\n",
              "[[2]]\n",
              "[1] 1\n",
              "\n",
              "[[3]]\n",
              "[1] FALSE\n",
              "\n",
              "[[4]]\n",
              "[1] 3.141593\n",
              "\n",
              "[[5]]\n",
              "[[5]][[1]]\n",
              "[1] 1 2 3\n",
              "\n"
            ]
          },
          "metadata": {}
        }
      ],
      "source": [
        "x <- list('a', 1L, FALSE, pi, list(1:3))\n",
        "x"
      ]
    },
    {
      "cell_type": "markdown",
      "metadata": {
        "id": "mwvvGRXz7H_H"
      },
      "source": [
        "As the printout suggests, you can think of a list as a \"vector of vectors\". For this reason, they are sometimes referred to as \"recursive vectors\"."
      ]
    },
    {
      "cell_type": "markdown",
      "metadata": {
        "id": "TTmWoK9F7H_H"
      },
      "source": [
        "The `str` command will print out the **str**ucture of a vector:"
      ]
    },
    {
      "cell_type": "code",
      "execution_count": 22,
      "metadata": {
        "id": "E9gXdxeV7H_H",
        "outputId": "bff41048-9084-423e-8df9-a96af984343c",
        "colab": {
          "base_uri": "https://localhost:8080/"
        }
      },
      "outputs": [
        {
          "output_type": "stream",
          "name": "stdout",
          "text": [
            "List of 5\n",
            " $ : chr \"a\"\n",
            " $ : int 1\n",
            " $ : logi FALSE\n",
            " $ : num 3.14\n",
            " $ :List of 1\n",
            "  ..$ : int [1:3] 1 2 3\n"
          ]
        }
      ],
      "source": [
        "str(x) "
      ]
    },
    {
      "cell_type": "markdown",
      "metadata": {
        "id": "Z6b0PXlZ7H_H"
      },
      "source": [
        "You can name each individual entry of a list:"
      ]
    },
    {
      "cell_type": "code",
      "execution_count": 23,
      "metadata": {
        "id": "nssKs2Tl7H_H",
        "outputId": "327bea48-75b5-436f-95e2-2d97582bca89",
        "colab": {
          "base_uri": "https://localhost:8080/",
          "height": 141
        }
      },
      "outputs": [
        {
          "output_type": "display_data",
          "data": {
            "text/html": [
              "<style>\n",
              ".list-inline {list-style: none; margin:0; padding: 0}\n",
              ".list-inline>li {display: inline-block}\n",
              ".list-inline>li:not(:last-child)::after {content: \"\\00b7\"; padding: 0 .5ex}\n",
              "</style>\n",
              "<ol class=list-inline><li>'a'</li><li>'b'</li><li>'c'</li><li>''</li></ol>\n"
            ],
            "text/markdown": "1. 'a'\n2. 'b'\n3. 'c'\n4. ''\n\n\n",
            "text/latex": "\\begin{enumerate*}\n\\item 'a'\n\\item 'b'\n\\item 'c'\n\\item ''\n\\end{enumerate*}\n",
            "text/plain": [
              "[1] \"a\" \"b\" \"c\" \"\" "
            ]
          },
          "metadata": {}
        },
        {
          "output_type": "stream",
          "name": "stdout",
          "text": [
            "List of 4\n",
            " $ a: num 1\n",
            " $ b: num 2\n",
            " $ c: num 3\n",
            " $  : num 4\n"
          ]
        },
        {
          "output_type": "display_data",
          "data": {
            "text/html": [
              "1"
            ],
            "text/markdown": "1",
            "text/latex": "1",
            "text/plain": [
              "[1] 1"
            ]
          },
          "metadata": {}
        }
      ],
      "source": [
        "x_named <- list(a = 1, b = 2, c = 3, 4)\n",
        "\n",
        "names(x_named)\n",
        "\n",
        "str(x_named)\n",
        "\n",
        "x_named$a"
      ]
    },
    {
      "cell_type": "markdown",
      "metadata": {
        "id": "HshvVtlK7H_H"
      },
      "source": [
        "### Sub-setting lists\n",
        "Subsetting lists is a little more complex than subsetting atomic vectors. We will use the following example list:"
      ]
    },
    {
      "cell_type": "code",
      "execution_count": 24,
      "metadata": {
        "id": "c2OKB_pJ7H_H",
        "outputId": "e27d16df-3c49-4834-9e23-74f1bfd0ced5",
        "colab": {
          "base_uri": "https://localhost:8080/"
        }
      },
      "outputs": [
        {
          "output_type": "stream",
          "name": "stdout",
          "text": [
            "List of 4\n",
            " $ a: int [1:3] 1 2 3\n",
            " $ b: chr \"a string\"\n",
            " $ c: num 3.14\n",
            " $ d:List of 2\n",
            "  ..$ : num -1\n",
            "  ..$ : num -5\n"
          ]
        }
      ],
      "source": [
        "str(example_list <- list(a = 1:3, b = \"a string\", c = pi, d = list(-1, -5)))"
      ]
    },
    {
      "cell_type": "markdown",
      "metadata": {
        "id": "XYWP29mu7H_H"
      },
      "source": [
        "#### `[]`\n",
        "The `[]` operator extracts a sub-list. That is, the return type will always be a list:"
      ]
    },
    {
      "cell_type": "code",
      "execution_count": 25,
      "metadata": {
        "id": "iV-_r4D47H_H",
        "outputId": "08506116-5089-47ff-9863-ba0763ec9df2",
        "colab": {
          "base_uri": "https://localhost:8080/"
        }
      },
      "outputs": [
        {
          "output_type": "stream",
          "name": "stdout",
          "text": [
            "List of 1\n",
            " $ : chr \"a\"\n"
          ]
        }
      ],
      "source": [
        "x[1] %>% str"
      ]
    },
    {
      "cell_type": "markdown",
      "metadata": {
        "id": "UHMl9qIr7H_H"
      },
      "source": [
        "#### `[[]]`\n",
        "The double-brackets will extract a single component from the list:"
      ]
    },
    {
      "cell_type": "code",
      "execution_count": 26,
      "metadata": {
        "id": "CQCO9mh17H_H",
        "outputId": "bd8e3989-615a-4b71-e7af-c7a256c087f4",
        "colab": {
          "base_uri": "https://localhost:8080/"
        }
      },
      "outputs": [
        {
          "output_type": "stream",
          "name": "stdout",
          "text": [
            " chr \"a\"\n"
          ]
        }
      ],
      "source": [
        "x[[1]] %>% str"
      ]
    },
    {
      "cell_type": "markdown",
      "metadata": {
        "id": "endYcpr17H_H"
      },
      "source": [
        "### Data frames are lists\n",
        "Many data types in R are actually lists plus some additional attributes. For example, tibbles and data frames are both lists:"
      ]
    },
    {
      "cell_type": "code",
      "execution_count": 27,
      "metadata": {
        "id": "Es-z8q557H_H",
        "outputId": "02a0026e-4cb7-49f2-84b2-3350d7906389",
        "colab": {
          "base_uri": "https://localhost:8080/",
          "height": 249
        }
      },
      "outputs": [
        {
          "output_type": "display_data",
          "data": {
            "text/html": [
              "'list'"
            ],
            "text/markdown": "'list'",
            "text/latex": "'list'",
            "text/plain": [
              "[1] \"list\""
            ]
          },
          "metadata": {}
        },
        {
          "output_type": "stream",
          "name": "stdout",
          "text": [
            "tibble [234 × 11] (S3: tbl_df/tbl/data.frame)\n",
            " $ manufacturer: chr [1:234] \"audi\" \"audi\" \"audi\" \"audi\" ...\n",
            " $ model       : chr [1:234] \"a4\" \"a4\" \"a4\" \"a4\" ...\n",
            " $ displ       : num [1:234] 1.8 1.8 2 2 2.8 2.8 3.1 1.8 1.8 2 ...\n",
            " $ year        : int [1:234] 1999 1999 2008 2008 1999 1999 2008 1999 1999 2008 ...\n",
            " $ cyl         : int [1:234] 4 4 4 4 6 6 6 4 4 4 ...\n",
            " $ trans       : chr [1:234] \"auto(l5)\" \"manual(m5)\" \"manual(m6)\" \"auto(av)\" ...\n",
            " $ drv         : chr [1:234] \"f\" \"f\" \"f\" \"f\" ...\n",
            " $ cty         : int [1:234] 18 21 20 21 16 18 18 18 16 20 ...\n",
            " $ hwy         : int [1:234] 29 29 31 30 26 26 27 26 25 28 ...\n",
            " $ fl          : chr [1:234] \"p\" \"p\" \"p\" \"p\" ...\n",
            " $ class       : chr [1:234] \"compact\" \"compact\" \"compact\" \"compact\" ...\n"
          ]
        }
      ],
      "source": [
        "typeof(mpg)\n",
        "str(mpg)"
      ]
    },
    {
      "cell_type": "markdown",
      "metadata": {
        "id": "uqklugFT7H_H"
      },
      "source": [
        "The `names()` of a tibble/data frame correspond to columns. This means we can use the list indexing methods shown above to access columns:"
      ]
    },
    {
      "cell_type": "code",
      "execution_count": 28,
      "metadata": {
        "id": "aa0dCvJx7H_H",
        "outputId": "4d8364ba-9df5-497e-b5cf-2f942983b47d",
        "colab": {
          "base_uri": "https://localhost:8080/",
          "height": 34
        }
      },
      "outputs": [
        {
          "output_type": "display_data",
          "data": {
            "text/html": [
              "<style>\n",
              ".list-inline {list-style: none; margin:0; padding: 0}\n",
              ".list-inline>li {display: inline-block}\n",
              ".list-inline>li:not(:last-child)::after {content: \"\\00b7\"; padding: 0 .5ex}\n",
              "</style>\n",
              "<ol class=list-inline><li>'manufacturer'</li><li>'model'</li><li>'displ'</li><li>'year'</li><li>'cyl'</li><li>'trans'</li><li>'drv'</li><li>'cty'</li><li>'hwy'</li><li>'fl'</li><li>'class'</li></ol>\n"
            ],
            "text/markdown": "1. 'manufacturer'\n2. 'model'\n3. 'displ'\n4. 'year'\n5. 'cyl'\n6. 'trans'\n7. 'drv'\n8. 'cty'\n9. 'hwy'\n10. 'fl'\n11. 'class'\n\n\n",
            "text/latex": "\\begin{enumerate*}\n\\item 'manufacturer'\n\\item 'model'\n\\item 'displ'\n\\item 'year'\n\\item 'cyl'\n\\item 'trans'\n\\item 'drv'\n\\item 'cty'\n\\item 'hwy'\n\\item 'fl'\n\\item 'class'\n\\end{enumerate*}\n",
            "text/plain": [
              " [1] \"manufacturer\" \"model\"        \"displ\"        \"year\"         \"cyl\"         \n",
              " [6] \"trans\"        \"drv\"          \"cty\"          \"hwy\"          \"fl\"          \n",
              "[11] \"class\"       "
            ]
          },
          "metadata": {}
        }
      ],
      "source": [
        "names(mpg)"
      ]
    },
    {
      "cell_type": "markdown",
      "metadata": {
        "id": "tj3ZpxLl7H_H"
      },
      "source": [
        "## Lists and functional programming\n",
        "Lists are useful to use because they can represent a sequence of values. Let's see an example from HW7: combining all the Harry Potter books into one data frame:"
      ]
    },
    {
      "cell_type": "markdown",
      "metadata": {
        "id": "n-NaCa2m7H_H"
      },
      "source": [
        "First, we need to load the library and get the names of all the books:"
      ]
    },
    {
      "cell_type": "code",
      "execution_count": 29,
      "metadata": {
        "id": "2fOWB5ix7H_H",
        "outputId": "b6530cde-f7b8-4874-a4ba-a47b262d7bc0",
        "colab": {
          "base_uri": "https://localhost:8080/",
          "height": 34
        }
      },
      "outputs": [
        {
          "output_type": "display_data",
          "data": {
            "text/html": [
              "<style>\n",
              ".list-inline {list-style: none; margin:0; padding: 0}\n",
              ".list-inline>li {display: inline-block}\n",
              ".list-inline>li:not(:last-child)::after {content: \"\\00b7\"; padding: 0 .5ex}\n",
              "</style>\n",
              "<ol class=list-inline><li>'chamber_of_secrets'</li><li>'deathly_hallows'</li><li>'goblet_of_fire'</li><li>'half_blood_prince'</li><li>'order_of_the_phoenix'</li><li>'philosophers_stone'</li><li>'prisoner_of_azkaban'</li></ol>\n"
            ],
            "text/markdown": "1. 'chamber_of_secrets'\n2. 'deathly_hallows'\n3. 'goblet_of_fire'\n4. 'half_blood_prince'\n5. 'order_of_the_phoenix'\n6. 'philosophers_stone'\n7. 'prisoner_of_azkaban'\n\n\n",
            "text/latex": "\\begin{enumerate*}\n\\item 'chamber\\_of\\_secrets'\n\\item 'deathly\\_hallows'\n\\item 'goblet\\_of\\_fire'\n\\item 'half\\_blood\\_prince'\n\\item 'order\\_of\\_the\\_phoenix'\n\\item 'philosophers\\_stone'\n\\item 'prisoner\\_of\\_azkaban'\n\\end{enumerate*}\n",
            "text/plain": [
              "[1] \"chamber_of_secrets\"   \"deathly_hallows\"      \"goblet_of_fire\"      \n",
              "[4] \"half_blood_prince\"    \"order_of_the_phoenix\" \"philosophers_stone\"  \n",
              "[7] \"prisoner_of_azkaban\" "
            ]
          },
          "metadata": {}
        }
      ],
      "source": [
        "hp <- ls('package:harrypotter')\n",
        "hp"
      ]
    },
    {
      "cell_type": "markdown",
      "metadata": {
        "id": "4aD3g3qW7H_H"
      },
      "source": [
        "This has returned a character vector containing the seven titles in the database. To access any one of them, we can write:"
      ]
    },
    {
      "cell_type": "code",
      "execution_count": 30,
      "metadata": {
        "id": "pusK5QBD7H_I",
        "outputId": "44422c52-7970-43b5-c34c-c587f608ba47",
        "colab": {
          "base_uri": "https://localhost:8080/"
        }
      },
      "outputs": [
        {
          "output_type": "stream",
          "name": "stdout",
          "text": [
            " chr [1:37] \"The two men appeared out of nowhere, a few yards apart in the narrow, moonlit lane. For a second they stood qui\"| __truncated__ ...\n"
          ]
        }
      ],
      "source": [
        "getExportedValue('harrypotter', hp[2]) %>% str"
      ]
    },
    {
      "cell_type": "markdown",
      "metadata": {
        "id": "Xu5gvzD61le-"
      },
      "source": [
        "## Iteration\n",
        "Now let's think about how we can automate the process of joining all of these books into one data frame. \n",
        "\n",
        "If you're coming from a C++ or Java background, your first instinct is probably to use a `for()` loop. In R, for loops look like this:\n",
        "```{r}\n",
        "for (<index> in <vector>) {\n",
        "    [do something for each value of <index>]\n",
        "}\n",
        "```"
      ]
    },
    {
      "cell_type": "code",
      "execution_count": 32,
      "metadata": {
        "id": "NnFK6Pj27H_I",
        "outputId": "dc012651-1f27-45bf-d8bd-e371fff366af",
        "colab": {
          "base_uri": "https://localhost:8080/",
          "height": 133
        }
      },
      "outputs": [
        {
          "output_type": "stream",
          "name": "stdout",
          "text": [
            "[1] \"chamber_of_secrets\"\n",
            "[1] \"deathly_hallows\"\n"
          ]
        },
        {
          "output_type": "error",
          "ename": "ERROR",
          "evalue": "ignored",
          "traceback": [
            "Error in eval(expr, envir, enclos): '...' used in an incorrect context\nTraceback:\n"
          ]
        }
      ],
      "source": [
        "# manual \n",
        "# print(hp[1])\n",
        "# print(hp[2])\n",
        "# ... \n",
        "\n",
        "# auto\n",
        "for (title in hp) {\n",
        "    print(tigtle)\n",
        "}"
      ]
    },
    {
      "cell_type": "markdown",
      "metadata": {
        "id": "GX2_Vz1c1le_",
        "outputId": "d56f8efa-49cc-4087-bc00-f50e2d929093"
      },
      "source": [
        "By tweaking this for loop, we could make it create a dataset of all the chapters in HP:"
      ]
    },
    {
      "cell_type": "code",
      "execution_count": 33,
      "metadata": {
        "id": "nk_Fr2Ql7H_I",
        "outputId": "278051f1-f4fb-40f5-cc01-704b77a89215",
        "colab": {
          "base_uri": "https://localhost:8080/"
        }
      },
      "outputs": [
        {
          "output_type": "stream",
          "name": "stdout",
          "text": [
            "\u001b[90m# A tibble: 200 × 2\u001b[39m\n",
            "   title              text                                                      \n",
            "   \u001b[3m\u001b[90m<chr>\u001b[39m\u001b[23m              \u001b[3m\u001b[90m<chr>\u001b[39m\u001b[23m                                                     \n",
            "\u001b[90m 1\u001b[39m chamber_of_secrets \u001b[90m\"\u001b[39mTHE WORST BIRTHDAY　　Not for the first time, an argumen…\n",
            "\u001b[90m 2\u001b[39m chamber_of_secrets \u001b[90m\"\u001b[39m　　DOBBY'S WARNING　　arry managed not to shout out, bu…\n",
            "\u001b[90m 3\u001b[39m chamber_of_secrets \u001b[90m\"\u001b[39mTHE BURROW　　Ron.l\\\" breathed Harry, creeping to the wi…\n",
            "\u001b[90m 4\u001b[39m chamber_of_secrets \u001b[90m\"\u001b[39mAT FL0VRR 11 $ HAND BLOTTS　　ife at the Burrow was as d…\n",
            "\u001b[90m 5\u001b[39m chamber_of_secrets \u001b[90m\"\u001b[39mTHE WHOMPING　　WILLOW　　he end of the summer vacation …\n",
            "\u001b[90m 6\u001b[39m chamber_of_secrets \u001b[90m\"\u001b[39mGILDEROY LOCKHART　　he next day, however, Harry barely …\n",
            "\u001b[90m 7\u001b[39m chamber_of_secrets \u001b[90m\"\u001b[39mHarry looked bemusedly at the photograph Colin was brand…\n",
            "\u001b[90m 8\u001b[39m chamber_of_secrets \u001b[90m\"\u001b[39m　　\\\"What are you talking about, Harry? Perhaps you're …\n",
            "\u001b[90m 9\u001b[39m chamber_of_secrets \u001b[90m\"\u001b[39mTHE WRTITING ON THE WALL　　What's going on here? What's…\n",
            "\u001b[90m10\u001b[39m chamber_of_secrets \u001b[90m\"\u001b[39m　　THE ROGUE BLUDGER　　ince the disastrous episode of …\n",
            "\u001b[90m# … with 190 more rows\u001b[39m\n"
          ]
        }
      ],
      "source": [
        "df <- tibble()\n",
        "for (title in hp) {\n",
        "    df <- bind_rows(df, tibble(title=title, text=getExportedValue('harrypotter', title)))\n",
        "}\n",
        "df %>% print"
      ]
    },
    {
      "cell_type": "markdown",
      "metadata": {
        "id": "hKaDkkuH7H_I"
      },
      "source": [
        "## `map()` \n",
        "An alternative to writing a for loop is to use the `map(f, seq)` function. This takes a function `f` and \"maps\" it over each element of a sequence (list or vector) `seq`.\n",
        "\n",
        "![map](https://d33wubrfki0l68.cloudfront.net/f0494d020aa517ae7b1011cea4c4a9f21702df8b/2577b/diagrams/functionals/map.png)"
      ]
    },
    {
      "cell_type": "code",
      "execution_count": null,
      "metadata": {
        "id": "I6g9FC5q7H_I",
        "outputId": "67198e49-a238-4601-d92a-595dbfe6dcc8"
      },
      "outputs": [
        {
          "name": "stdout",
          "output_type": "stream",
          "text": [
            "List of 7\n",
            " $ : tibble [19 × 2] (S3: tbl_df/tbl/data.frame)\n",
            "  ..$ title: chr [1:19] \"chamber_of_secrets\" \"chamber_of_secrets\" \"chamber_of_secrets\" \"chamber_of_secrets\" ...\n",
            "  ..$ text : chr [1:19] \"THE WORST BIRTHDAY　　Not for the first time, an argument had broken out over breakfast at number four, Privet \"| __truncated__ \"　　DOBBY'S WARNING　　arry managed not to shout out, but it was a close thing. The little creature on the bed \"| __truncated__ \"THE BURROW　　Ron.l\\\" breathed Harry, creeping to the window and pushing it up so they could talk through the b\"| __truncated__ \"AT FL0VRR 11 $ HAND BLOTTS　　ife at the Burrow was as different as possible from life on Privet Drive. The Dur\"| __truncated__ ...\n",
            " $ : tibble [37 × 2] (S3: tbl_df/tbl/data.frame)\n",
            "  ..$ title: chr [1:37] \"deathly_hallows\" \"deathly_hallows\" \"deathly_hallows\" \"deathly_hallows\" ...\n",
            "  ..$ text : chr [1:37] \"The two men appeared out of nowhere, a few yards apart in the narrow, moonlit lane. For a second they stood qui\"| __truncated__ \"Harry was bleeding. Clutching his right hand in his left and swearing under his breath, he shouldered open his \"| __truncated__ \"The sound of the front door slamming echoed up the stairs and a voice roared, \\\"Oh! You!\\\"Sixteen years of bein\"| __truncated__ \"Harry ran back upstairs to his bedroom, arriving at the window just in time to see the Dursleys' car swinging o\"| __truncated__ ...\n",
            " $ : tibble [37 × 2] (S3: tbl_df/tbl/data.frame)\n",
            "  ..$ title: chr [1:37] \"goblet_of_fire\" \"goblet_of_fire\" \"goblet_of_fire\" \"goblet_of_fire\" ...\n",
            "  ..$ text : chr [1:37] \"　　The villagers of Little Hangleron still called it \\\"the Riddle House,\\\" even though it had been many years \"| __truncated__ \"　　Harry lay flat on his back, breathing hard as though he had been running. He had awoken from a vivid dream \"| __truncated__ \"　　By the time Harry arrived in the kitchen, the three Dursleys were already seated around the table. None of \"| __truncated__ \"　　By twelve o'clock the next day, Harry's school trunk was packed with his school things and all his most pri\"| __truncated__ ...\n",
            " $ : tibble [30 × 2] (S3: tbl_df/tbl/data.frame)\n",
            "  ..$ title: chr [1:30] \"half_blood_prince\" \"half_blood_prince\" \"half_blood_prince\" \"half_blood_prince\" ...\n",
            "  ..$ text : chr [1:30] \" It was nearing midnight and the Prime Minister was sitting alone in his office, reading a long memo that was s\"| __truncated__ \" Many miles away the chilly mist that had pressed against the Prime Minister's windows drifted over a dirty riv\"| __truncated__ \" Harry Potter was snoring loudly. He had been sitting in a chair beside his bedroom window for the best part of\"| __truncated__ \" Despite the fact that he had spent every waking moment of the past few days hoping desperately that Dumbledore\"| __truncated__ ...\n",
            " $ : tibble [38 × 2] (S3: tbl_df/tbl/data.frame)\n",
            "  ..$ title: chr [1:38] \"order_of_the_phoenix\" \"order_of_the_phoenix\" \"order_of_the_phoenix\" \"order_of_the_phoenix\" ...\n",
            "  ..$ text : chr [1:38] \"Dudley Demented    The hottest day of the summer so far was drawing to a close and a drowsy silence lay over th\"| __truncated__ \"    A Peck of Owls    'What?' said Harry blankly.    'He left!' said Mrs Figg, wringing her hands. 'Left to see\"| __truncated__ \"    The Advance Guard    I've just been attacked by Dementors and I might be expelled from Hogwarts. I want to \"| __truncated__ \"    Number Twelve,Grimmauld Place    'What's the Order of the - ?' Harry began.    'Not here, boy!' snarled Moo\"| __truncated__ ...\n",
            " $ : tibble [17 × 2] (S3: tbl_df/tbl/data.frame)\n",
            "  ..$ title: chr [1:17] \"philosophers_stone\" \"philosophers_stone\" \"philosophers_stone\" \"philosophers_stone\" ...\n",
            "  ..$ text : chr [1:17] \"THE BOY WHO LIVED　　Mr. and Mrs. Dursley, of number four, Privet Drive, were proud to say that they were perfe\"| __truncated__ \"THE VANISHING GLASS　　Nearly ten years had passed since the Dursleys had woken up to find their nephew on the \"| __truncated__ \"THE LETTERS FROM NO ONE　　The escape of the Brazilian boa constrictor earned Harry his longest-ever punishment\"| __truncated__ \"THE KEEPER OF THE KEYS　　BOOM. They knocked again. Dudley jerked awake. \\\"Where's the cannon?\\\" he said stupid\"| __truncated__ ...\n",
            " $ : tibble [22 × 2] (S3: tbl_df/tbl/data.frame)\n",
            "  ..$ title: chr [1:22] \"prisoner_of_azkaban\" \"prisoner_of_azkaban\" \"prisoner_of_azkaban\" \"prisoner_of_azkaban\" ...\n",
            "  ..$ text : chr [1:22] \"　　OWL POST　　Harry Potter was a highly unusual boy in many ways. For one thing, he hated the summer holidays\"| __truncated__ \"　　AUNT MARGE'S BIG MISTAKE　　Harry went down to breakfast the next morning to find the three Dursleys alread\"| __truncated__ \"　　THE KNIGHT BUS　　Harry was several streets away before he collapsed onto a low wall in Magnolia Crescent, \"| __truncated__ \"　　THE LEAKY CAULDRON　　It took Harry several days to get used to his strange new freedom. Never before had h\"| __truncated__ ...\n"
          ]
        }
      ],
      "source": [
        "tbl_from_title <- function(title) {\n",
        "    text <- getExportedValue('harrypotter', title)\n",
        "    tibble(title=title, text=text)\n",
        "}\n",
        "\n",
        "hp %>% map(tbl_from_title) %>% str"
      ]
    },
    {
      "cell_type": "markdown",
      "metadata": {
        "id": "RyDDp7Cc7H_I"
      },
      "source": [
        "Finally, we need to take this list of dataframes and combine it into one large dataframe:"
      ]
    },
    {
      "cell_type": "code",
      "execution_count": 34,
      "metadata": {
        "id": "WyjPohDy7H_I",
        "outputId": "42326d37-c943-464c-8845-6151b6aff396",
        "colab": {
          "base_uri": "https://localhost:8080/"
        }
      },
      "outputs": [
        {
          "output_type": "stream",
          "name": "stdout",
          "text": [
            "\u001b[90m# A tibble: 200 × 2\u001b[39m\n",
            "   title              text                                                      \n",
            "   \u001b[3m\u001b[90m<chr>\u001b[39m\u001b[23m              \u001b[3m\u001b[90m<chr>\u001b[39m\u001b[23m                                                     \n",
            "\u001b[90m 1\u001b[39m chamber_of_secrets \u001b[90m\"\u001b[39mTHE WORST BIRTHDAY　　Not for the first time, an argumen…\n",
            "\u001b[90m 2\u001b[39m chamber_of_secrets \u001b[90m\"\u001b[39m　　DOBBY'S WARNING　　arry managed not to shout out, bu…\n",
            "\u001b[90m 3\u001b[39m chamber_of_secrets \u001b[90m\"\u001b[39mTHE BURROW　　Ron.l\\\" breathed Harry, creeping to the wi…\n",
            "\u001b[90m 4\u001b[39m chamber_of_secrets \u001b[90m\"\u001b[39mAT FL0VRR 11 $ HAND BLOTTS　　ife at the Burrow was as d…\n",
            "\u001b[90m 5\u001b[39m chamber_of_secrets \u001b[90m\"\u001b[39mTHE WHOMPING　　WILLOW　　he end of the summer vacation …\n",
            "\u001b[90m 6\u001b[39m chamber_of_secrets \u001b[90m\"\u001b[39mGILDEROY LOCKHART　　he next day, however, Harry barely …\n",
            "\u001b[90m 7\u001b[39m chamber_of_secrets \u001b[90m\"\u001b[39mHarry looked bemusedly at the photograph Colin was brand…\n",
            "\u001b[90m 8\u001b[39m chamber_of_secrets \u001b[90m\"\u001b[39m　　\\\"What are you talking about, Harry? Perhaps you're …\n",
            "\u001b[90m 9\u001b[39m chamber_of_secrets \u001b[90m\"\u001b[39mTHE WRTITING ON THE WALL　　What's going on here? What's…\n",
            "\u001b[90m10\u001b[39m chamber_of_secrets \u001b[90m\"\u001b[39m　　THE ROGUE BLUDGER　　ince the disastrous episode of …\n",
            "\u001b[90m# … with 190 more rows\u001b[39m\n"
          ]
        }
      ],
      "source": [
        "hp %>% \n",
        "    setNames(hp) %>% \n",
        "    map(\\(title) tibble(text = getExportedValue('harrypotter', title))) %>%\n",
        "    list_rbind(names_to = \"title\") %>% print"
      ]
    },
    {
      "cell_type": "code",
      "source": [
        "hp # prints all the titles\n",
        "\n",
        "hp%>%setNames(hp) # we can now access ech book by their names, instead of index positions"
      ],
      "metadata": {
        "id": "Xlm4V9IlF0NK"
      },
      "execution_count": null,
      "outputs": []
    },
    {
      "cell_type": "markdown",
      "metadata": {
        "id": "e1_w2vKE7H_I"
      },
      "source": [
        "### Example: raw NCAA data\n",
        "On HW8 you are analysing NCAA data. These data actually came from a much larger dataset spread across many files. The you can load the raw data here:"
      ]
    },
    {
      "cell_type": "code",
      "execution_count": null,
      "metadata": {
        "id": "GE2RPYYw7H_I"
      },
      "outputs": [],
      "source": [
        "# ncaa games data (men's bball)\n",
        "u <- \"https://datasets.stats306.org/ncaa/ncaa_games_2002.csv.gz\"  # contains data for 2002-2019\n",
        "read_csv(u)"
      ]
    },
    {
      "cell_type": "markdown",
      "metadata": {
        "id": "hF2EIipF7H_I"
      },
      "source": [
        "Let's think about how we could combine these data into one big table for further analysis. First, we'll use a for loop:"
      ]
    },
    {
      "cell_type": "code",
      "execution_count": null,
      "metadata": {
        "id": "h_ykx1_a7H_I"
      },
      "outputs": [],
      "source": [
        "# for loop way\n",
        "\n",
        "link=\"https://datasets.stats306.org/ncaa/ncaa_games_{year}.csv.gz\"\n",
        "\n",
        "tbl=tibble()\n",
        "  for(year in 2002:2019){\n",
        "    tbl=bind_rows(tbl,read_csv(str_replace(link,\"\\\\{year\\\\}\",as.character(year))))\n",
        "  }"
      ]
    },
    {
      "cell_type": "markdown",
      "metadata": {
        "id": "rX9jyjKF7H_I"
      },
      "source": [
        "Next, we will use map:"
      ]
    },
    {
      "cell_type": "code",
      "source": [
        "# map way \n",
        "str_c(\"https://datasets.stats306.org/ncaa/ncaa_games_\",2002:2019,\".csv.gz\")%>%\n",
        "  map_dfr(read_csv)%>%\n",
        "  glimpse"
      ],
      "metadata": {
        "colab": {
          "base_uri": "https://localhost:8080/"
        },
        "id": "PAEV7ECvIP2q",
        "outputId": "3815f18e-52d5-4a8f-9d6b-9611370c9252"
      },
      "execution_count": 39,
      "outputs": [
        {
          "output_type": "stream",
          "name": "stderr",
          "text": [
            "\u001b[1mRows: \u001b[22m\u001b[34m27708\u001b[39m \u001b[1mColumns: \u001b[22m\u001b[34m11\u001b[39m\n",
            "\u001b[36m──\u001b[39m \u001b[1mColumn specification\u001b[22m \u001b[36m────────────────────────────────────────────────────────\u001b[39m\n",
            "\u001b[1mDelimiter:\u001b[22m \",\"\n",
            "\u001b[31mchr\u001b[39m (5): opponent_name, game_date, location, neutral_site_location, game_length\n",
            "\u001b[32mdbl\u001b[39m (6): score, opponent_score, attendence, opponent_id, year, school_id\n",
            "\n",
            "\u001b[36mℹ\u001b[39m Use `spec()` to retrieve the full column specification for this data.\n",
            "\u001b[36mℹ\u001b[39m Specify the column types or set `show_col_types = FALSE` to quiet this message.\n",
            "\u001b[1mRows: \u001b[22m\u001b[34m27253\u001b[39m \u001b[1mColumns: \u001b[22m\u001b[34m11\u001b[39m\n",
            "\u001b[36m──\u001b[39m \u001b[1mColumn specification\u001b[22m \u001b[36m────────────────────────────────────────────────────────\u001b[39m\n",
            "\u001b[1mDelimiter:\u001b[22m \",\"\n",
            "\u001b[31mchr\u001b[39m (5): opponent_name, game_date, location, neutral_site_location, game_length\n",
            "\u001b[32mdbl\u001b[39m (6): score, opponent_score, attendence, opponent_id, year, school_id\n",
            "\n",
            "\u001b[36mℹ\u001b[39m Use `spec()` to retrieve the full column specification for this data.\n",
            "\u001b[36mℹ\u001b[39m Specify the column types or set `show_col_types = FALSE` to quiet this message.\n",
            "\u001b[1mRows: \u001b[22m\u001b[34m27549\u001b[39m \u001b[1mColumns: \u001b[22m\u001b[34m11\u001b[39m\n",
            "\u001b[36m──\u001b[39m \u001b[1mColumn specification\u001b[22m \u001b[36m────────────────────────────────────────────────────────\u001b[39m\n",
            "\u001b[1mDelimiter:\u001b[22m \",\"\n",
            "\u001b[31mchr\u001b[39m (5): opponent_name, game_date, location, neutral_site_location, game_length\n",
            "\u001b[32mdbl\u001b[39m (6): score, opponent_score, attendence, opponent_id, year, school_id\n",
            "\n",
            "\u001b[36mℹ\u001b[39m Use `spec()` to retrieve the full column specification for this data.\n",
            "\u001b[36mℹ\u001b[39m Specify the column types or set `show_col_types = FALSE` to quiet this message.\n",
            "\u001b[1mRows: \u001b[22m\u001b[34m28181\u001b[39m \u001b[1mColumns: \u001b[22m\u001b[34m11\u001b[39m\n",
            "\u001b[36m──\u001b[39m \u001b[1mColumn specification\u001b[22m \u001b[36m────────────────────────────────────────────────────────\u001b[39m\n",
            "\u001b[1mDelimiter:\u001b[22m \",\"\n",
            "\u001b[31mchr\u001b[39m (5): opponent_name, game_date, location, neutral_site_location, game_length\n",
            "\u001b[32mdbl\u001b[39m (6): score, opponent_score, attendence, opponent_id, year, school_id\n",
            "\n",
            "\u001b[36mℹ\u001b[39m Use `spec()` to retrieve the full column specification for this data.\n",
            "\u001b[36mℹ\u001b[39m Specify the column types or set `show_col_types = FALSE` to quiet this message.\n",
            "\u001b[1mRows: \u001b[22m\u001b[34m28184\u001b[39m \u001b[1mColumns: \u001b[22m\u001b[34m11\u001b[39m\n",
            "\u001b[36m──\u001b[39m \u001b[1mColumn specification\u001b[22m \u001b[36m────────────────────────────────────────────────────────\u001b[39m\n",
            "\u001b[1mDelimiter:\u001b[22m \",\"\n",
            "\u001b[31mchr\u001b[39m (5): opponent_name, game_date, location, neutral_site_location, game_length\n",
            "\u001b[32mdbl\u001b[39m (6): score, opponent_score, attendence, opponent_id, year, school_id\n",
            "\n",
            "\u001b[36mℹ\u001b[39m Use `spec()` to retrieve the full column specification for this data.\n",
            "\u001b[36mℹ\u001b[39m Specify the column types or set `show_col_types = FALSE` to quiet this message.\n",
            "\u001b[1mRows: \u001b[22m\u001b[34m31579\u001b[39m \u001b[1mColumns: \u001b[22m\u001b[34m11\u001b[39m\n",
            "\u001b[36m──\u001b[39m \u001b[1mColumn specification\u001b[22m \u001b[36m────────────────────────────────────────────────────────\u001b[39m\n",
            "\u001b[1mDelimiter:\u001b[22m \",\"\n",
            "\u001b[31mchr\u001b[39m (5): opponent_name, game_date, location, neutral_site_location, game_length\n",
            "\u001b[32mdbl\u001b[39m (6): score, opponent_score, attendence, opponent_id, year, school_id\n",
            "\n",
            "\u001b[36mℹ\u001b[39m Use `spec()` to retrieve the full column specification for this data.\n",
            "\u001b[36mℹ\u001b[39m Specify the column types or set `show_col_types = FALSE` to quiet this message.\n",
            "\u001b[1mRows: \u001b[22m\u001b[34m30266\u001b[39m \u001b[1mColumns: \u001b[22m\u001b[34m11\u001b[39m\n",
            "\u001b[36m──\u001b[39m \u001b[1mColumn specification\u001b[22m \u001b[36m────────────────────────────────────────────────────────\u001b[39m\n",
            "\u001b[1mDelimiter:\u001b[22m \",\"\n",
            "\u001b[31mchr\u001b[39m (5): opponent_name, game_date, location, neutral_site_location, game_length\n",
            "\u001b[32mdbl\u001b[39m (6): score, opponent_score, attendence, opponent_id, year, school_id\n",
            "\n",
            "\u001b[36mℹ\u001b[39m Use `spec()` to retrieve the full column specification for this data.\n",
            "\u001b[36mℹ\u001b[39m Specify the column types or set `show_col_types = FALSE` to quiet this message.\n",
            "\u001b[1mRows: \u001b[22m\u001b[34m31315\u001b[39m \u001b[1mColumns: \u001b[22m\u001b[34m11\u001b[39m\n",
            "\u001b[36m──\u001b[39m \u001b[1mColumn specification\u001b[22m \u001b[36m────────────────────────────────────────────────────────\u001b[39m\n",
            "\u001b[1mDelimiter:\u001b[22m \",\"\n",
            "\u001b[31mchr\u001b[39m (5): opponent_name, game_date, location, neutral_site_location, game_length\n",
            "\u001b[32mdbl\u001b[39m (6): score, opponent_score, attendence, opponent_id, year, school_id\n",
            "\n",
            "\u001b[36mℹ\u001b[39m Use `spec()` to retrieve the full column specification for this data.\n",
            "\u001b[36mℹ\u001b[39m Specify the column types or set `show_col_types = FALSE` to quiet this message.\n",
            "\u001b[1mRows: \u001b[22m\u001b[34m30930\u001b[39m \u001b[1mColumns: \u001b[22m\u001b[34m11\u001b[39m\n",
            "\u001b[36m──\u001b[39m \u001b[1mColumn specification\u001b[22m \u001b[36m────────────────────────────────────────────────────────\u001b[39m\n",
            "\u001b[1mDelimiter:\u001b[22m \",\"\n",
            "\u001b[31mchr\u001b[39m (5): opponent_name, game_date, location, neutral_site_location, game_length\n",
            "\u001b[32mdbl\u001b[39m (6): score, opponent_score, attendence, opponent_id, year, school_id\n",
            "\n",
            "\u001b[36mℹ\u001b[39m Use `spec()` to retrieve the full column specification for this data.\n",
            "\u001b[36mℹ\u001b[39m Specify the column types or set `show_col_types = FALSE` to quiet this message.\n",
            "\u001b[1mRows: \u001b[22m\u001b[34m29840\u001b[39m \u001b[1mColumns: \u001b[22m\u001b[34m11\u001b[39m\n",
            "\u001b[36m──\u001b[39m \u001b[1mColumn specification\u001b[22m \u001b[36m────────────────────────────────────────────────────────\u001b[39m\n",
            "\u001b[1mDelimiter:\u001b[22m \",\"\n",
            "\u001b[31mchr\u001b[39m (5): opponent_name, game_date, location, neutral_site_location, game_length\n",
            "\u001b[32mdbl\u001b[39m (6): score, opponent_score, attendence, opponent_id, year, school_id\n",
            "\n",
            "\u001b[36mℹ\u001b[39m Use `spec()` to retrieve the full column specification for this data.\n",
            "\u001b[36mℹ\u001b[39m Specify the column types or set `show_col_types = FALSE` to quiet this message.\n",
            "\u001b[1mRows: \u001b[22m\u001b[34m30186\u001b[39m \u001b[1mColumns: \u001b[22m\u001b[34m11\u001b[39m\n",
            "\u001b[36m──\u001b[39m \u001b[1mColumn specification\u001b[22m \u001b[36m────────────────────────────────────────────────────────\u001b[39m\n",
            "\u001b[1mDelimiter:\u001b[22m \",\"\n",
            "\u001b[31mchr\u001b[39m (5): opponent_name, game_date, location, neutral_site_location, game_length\n",
            "\u001b[32mdbl\u001b[39m (6): score, opponent_score, attendence, opponent_id, year, school_id\n",
            "\n",
            "\u001b[36mℹ\u001b[39m Use `spec()` to retrieve the full column specification for this data.\n",
            "\u001b[36mℹ\u001b[39m Specify the column types or set `show_col_types = FALSE` to quiet this message.\n",
            "\u001b[1mRows: \u001b[22m\u001b[34m30610\u001b[39m \u001b[1mColumns: \u001b[22m\u001b[34m11\u001b[39m\n",
            "\u001b[36m──\u001b[39m \u001b[1mColumn specification\u001b[22m \u001b[36m────────────────────────────────────────────────────────\u001b[39m\n",
            "\u001b[1mDelimiter:\u001b[22m \",\"\n",
            "\u001b[31mchr\u001b[39m (5): opponent_name, game_date, location, neutral_site_location, game_length\n",
            "\u001b[32mdbl\u001b[39m (6): score, opponent_score, attendence, opponent_id, year, school_id\n",
            "\n",
            "\u001b[36mℹ\u001b[39m Use `spec()` to retrieve the full column specification for this data.\n",
            "\u001b[36mℹ\u001b[39m Specify the column types or set `show_col_types = FALSE` to quiet this message.\n",
            "\u001b[1mRows: \u001b[22m\u001b[34m31018\u001b[39m \u001b[1mColumns: \u001b[22m\u001b[34m11\u001b[39m\n",
            "\u001b[36m──\u001b[39m \u001b[1mColumn specification\u001b[22m \u001b[36m────────────────────────────────────────────────────────\u001b[39m\n",
            "\u001b[1mDelimiter:\u001b[22m \",\"\n",
            "\u001b[31mchr\u001b[39m (5): opponent_name, game_date, location, neutral_site_location, game_length\n",
            "\u001b[32mdbl\u001b[39m (6): score, opponent_score, attendence, opponent_id, year, school_id\n",
            "\n",
            "\u001b[36mℹ\u001b[39m Use `spec()` to retrieve the full column specification for this data.\n",
            "\u001b[36mℹ\u001b[39m Specify the column types or set `show_col_types = FALSE` to quiet this message.\n",
            "\u001b[1mRows: \u001b[22m\u001b[34m31327\u001b[39m \u001b[1mColumns: \u001b[22m\u001b[34m11\u001b[39m\n",
            "\u001b[36m──\u001b[39m \u001b[1mColumn specification\u001b[22m \u001b[36m────────────────────────────────────────────────────────\u001b[39m\n",
            "\u001b[1mDelimiter:\u001b[22m \",\"\n",
            "\u001b[31mchr\u001b[39m (5): opponent_name, game_date, location, neutral_site_location, game_length\n",
            "\u001b[32mdbl\u001b[39m (6): score, opponent_score, attendence, opponent_id, year, school_id\n",
            "\n",
            "\u001b[36mℹ\u001b[39m Use `spec()` to retrieve the full column specification for this data.\n",
            "\u001b[36mℹ\u001b[39m Specify the column types or set `show_col_types = FALSE` to quiet this message.\n",
            "\u001b[1mRows: \u001b[22m\u001b[34m31576\u001b[39m \u001b[1mColumns: \u001b[22m\u001b[34m11\u001b[39m\n",
            "\u001b[36m──\u001b[39m \u001b[1mColumn specification\u001b[22m \u001b[36m────────────────────────────────────────────────────────\u001b[39m\n",
            "\u001b[1mDelimiter:\u001b[22m \",\"\n",
            "\u001b[31mchr\u001b[39m (5): opponent_name, game_date, location, neutral_site_location, game_length\n",
            "\u001b[32mdbl\u001b[39m (6): score, opponent_score, attendence, opponent_id, year, school_id\n",
            "\n",
            "\u001b[36mℹ\u001b[39m Use `spec()` to retrieve the full column specification for this data.\n",
            "\u001b[36mℹ\u001b[39m Specify the column types or set `show_col_types = FALSE` to quiet this message.\n",
            "\u001b[1mRows: \u001b[22m\u001b[34m31566\u001b[39m \u001b[1mColumns: \u001b[22m\u001b[34m11\u001b[39m\n",
            "\u001b[36m──\u001b[39m \u001b[1mColumn specification\u001b[22m \u001b[36m────────────────────────────────────────────────────────\u001b[39m\n",
            "\u001b[1mDelimiter:\u001b[22m \",\"\n",
            "\u001b[31mchr\u001b[39m (5): opponent_name, game_date, location, neutral_site_location, game_length\n",
            "\u001b[32mdbl\u001b[39m (6): score, opponent_score, attendence, opponent_id, year, school_id\n",
            "\n",
            "\u001b[36mℹ\u001b[39m Use `spec()` to retrieve the full column specification for this data.\n",
            "\u001b[36mℹ\u001b[39m Specify the column types or set `show_col_types = FALSE` to quiet this message.\n",
            "\u001b[1mRows: \u001b[22m\u001b[34m31753\u001b[39m \u001b[1mColumns: \u001b[22m\u001b[34m11\u001b[39m\n",
            "\u001b[36m──\u001b[39m \u001b[1mColumn specification\u001b[22m \u001b[36m────────────────────────────────────────────────────────\u001b[39m\n",
            "\u001b[1mDelimiter:\u001b[22m \",\"\n",
            "\u001b[31mchr\u001b[39m (5): opponent_name, game_date, location, neutral_site_location, game_length\n",
            "\u001b[32mdbl\u001b[39m (6): score, opponent_score, attendence, opponent_id, year, school_id\n",
            "\n",
            "\u001b[36mℹ\u001b[39m Use `spec()` to retrieve the full column specification for this data.\n",
            "\u001b[36mℹ\u001b[39m Specify the column types or set `show_col_types = FALSE` to quiet this message.\n",
            "\u001b[1mRows: \u001b[22m\u001b[34m31956\u001b[39m \u001b[1mColumns: \u001b[22m\u001b[34m11\u001b[39m\n",
            "\u001b[36m──\u001b[39m \u001b[1mColumn specification\u001b[22m \u001b[36m────────────────────────────────────────────────────────\u001b[39m\n",
            "\u001b[1mDelimiter:\u001b[22m \",\"\n",
            "\u001b[31mchr\u001b[39m (5): opponent_name, game_date, location, neutral_site_location, game_length\n",
            "\u001b[32mdbl\u001b[39m (6): score, opponent_score, attendence, opponent_id, year, school_id\n",
            "\n",
            "\u001b[36mℹ\u001b[39m Use `spec()` to retrieve the full column specification for this data.\n",
            "\u001b[36mℹ\u001b[39m Specify the column types or set `show_col_types = FALSE` to quiet this message.\n"
          ]
        },
        {
          "output_type": "stream",
          "name": "stdout",
          "text": [
            "Rows: 542,797\n",
            "Columns: 11\n",
            "$ opponent_name         \u001b[3m\u001b[90m<chr>\u001b[39m\u001b[23m \"Sul Ross St.\", \"Texas St.\", \"Loyola Chicago\", \"…\n",
            "$ game_date             \u001b[3m\u001b[90m<chr>\u001b[39m\u001b[23m \"11/16/2001\", \"11/25/2001\", \"11/29/2001\", \"12/01…\n",
            "$ score                 \u001b[3m\u001b[90m<dbl>\u001b[39m\u001b[23m 93, 89, 66, 56, 64, 56, 67, 80, 81, 92, 102, 69,…\n",
            "$ opponent_score        \u001b[3m\u001b[90m<dbl>\u001b[39m\u001b[23m 59, 99, 86, 80, 89, 82, 69, 75, 79, 83, 98, 82, …\n",
            "$ location              \u001b[3m\u001b[90m<chr>\u001b[39m\u001b[23m \"Home\", \"Home\", \"Away\", \"Away\", \"Away\", \"Away\", …\n",
            "$ neutral_site_location \u001b[3m\u001b[90m<chr>\u001b[39m\u001b[23m NA, NA, NA, NA, NA, NA, NA, NA, NA, NA, NA, NA, …\n",
            "$ game_length           \u001b[3m\u001b[90m<chr>\u001b[39m\u001b[23m NA, NA, NA, NA, NA, NA, NA, NA, NA, NA, \"2 OT\", …\n",
            "$ attendence            \u001b[3m\u001b[90m<dbl>\u001b[39m\u001b[23m 2041, 1493, 1128, 16500, 6099, 6203, 1342, 1360,…\n",
            "$ opponent_id           \u001b[3m\u001b[90m<dbl>\u001b[39m\u001b[23m 1390, 670, 371, 301, 703, 704, 346, 629, 183, NA…\n",
            "$ year                  \u001b[3m\u001b[90m<dbl>\u001b[39m\u001b[23m 2002, 2002, 2002, 2002, 2002, 2002, 2002, 2002, …\n",
            "$ school_id             \u001b[3m\u001b[90m<dbl>\u001b[39m\u001b[23m 26172, 26172, 26172, 26172, 26172, 26172, 26172,…\n"
          ]
        }
      ]
    },
    {
      "cell_type": "code",
      "execution_count": 38,
      "metadata": {
        "id": "MU7EJ_7_7H_I",
        "colab": {
          "base_uri": "https://localhost:8080/"
        },
        "outputId": "b7416e8c-43db-4a0a-bfcd-090cefd08aff"
      },
      "outputs": [
        {
          "output_type": "stream",
          "name": "stdout",
          "text": [
            "\u001b[90m# A tibble: 200 × 2\u001b[39m\n",
            "   title              text                                                      \n",
            "   \u001b[3m\u001b[90m<chr>\u001b[39m\u001b[23m              \u001b[3m\u001b[90m<chr>\u001b[39m\u001b[23m                                                     \n",
            "\u001b[90m 1\u001b[39m chamber_of_secrets \u001b[90m\"\u001b[39mTHE WORST BIRTHDAY　　Not for the first time, an argumen…\n",
            "\u001b[90m 2\u001b[39m chamber_of_secrets \u001b[90m\"\u001b[39m　　DOBBY'S WARNING　　arry managed not to shout out, bu…\n",
            "\u001b[90m 3\u001b[39m chamber_of_secrets \u001b[90m\"\u001b[39mTHE BURROW　　Ron.l\\\" breathed Harry, creeping to the wi…\n",
            "\u001b[90m 4\u001b[39m chamber_of_secrets \u001b[90m\"\u001b[39mAT FL0VRR 11 $ HAND BLOTTS　　ife at the Burrow was as d…\n",
            "\u001b[90m 5\u001b[39m chamber_of_secrets \u001b[90m\"\u001b[39mTHE WHOMPING　　WILLOW　　he end of the summer vacation …\n",
            "\u001b[90m 6\u001b[39m chamber_of_secrets \u001b[90m\"\u001b[39mGILDEROY LOCKHART　　he next day, however, Harry barely …\n",
            "\u001b[90m 7\u001b[39m chamber_of_secrets \u001b[90m\"\u001b[39mHarry looked bemusedly at the photograph Colin was brand…\n",
            "\u001b[90m 8\u001b[39m chamber_of_secrets \u001b[90m\"\u001b[39m　　\\\"What are you talking about, Harry? Perhaps you're …\n",
            "\u001b[90m 9\u001b[39m chamber_of_secrets \u001b[90m\"\u001b[39mTHE WRTITING ON THE WALL　　What's going on here? What's…\n",
            "\u001b[90m10\u001b[39m chamber_of_secrets \u001b[90m\"\u001b[39m　　THE ROGUE BLUDGER　　ince the disastrous episode of …\n",
            "\u001b[90m# … with 190 more rows\u001b[39m\n"
          ]
        }
      ],
      "source": [
        "# back to hp ex\n",
        "hp%>%\n",
        "  setNames(hp)%>%\n",
        "  map(\\(title) tibble(text=getExportedValue(\"harrypotter\",title)))%>%\n",
        "  list_rbind(names_to=\"title\")%>%\n",
        "  print"
      ]
    },
    {
      "cell_type": "markdown",
      "metadata": {
        "id": "de42UBDE7H_I"
      },
      "source": [
        "Do you find the `map()` way easier to use? Easier to read? More enjoyable to write? (Hopefully at least one of the three.)"
      ]
    },
    {
      "cell_type": "markdown",
      "metadata": {
        "id": "yV-CdS2c1lfA"
      },
      "source": [
        "## `while`\n",
        "\n",
        "The last kind of loop we will consider is `while()`. \n",
        "\n",
        "A while statement can be useful when you aren’t sure how many iterations are needed. This happens sometimes in statistics or data science when you are simulating a random quantity. \n",
        "\n",
        "Here is an example that takes a random walk and terminates if the value is more than 10 units from 0."
      ]
    },
    {
      "cell_type": "markdown",
      "metadata": {
        "id": "fzSqSfxe7H_I"
      },
      "source": [
        "## Example: random walk\n",
        "A random walk is a "
      ]
    },
    {
      "cell_type": "code",
      "execution_count": 40,
      "metadata": {
        "colab": {
          "base_uri": "https://localhost:8080/",
          "height": 437
        },
        "id": "gQKfbPfE1lfB",
        "outputId": "2fd6b3f8-1b67-445f-e580-c034238bd156"
      },
      "outputs": [
        {
          "output_type": "display_data",
          "data": {
            "text/plain": [
              "plot without title"
            ],
            "image/png": "[encoded data removed]"
          },
          "metadata": {
            "image/png": {
              "width": 420,
              "height": 420
            }
          }
        }
      ],
      "source": [
        "maxIter = 1e3 # always limit the total iterations allowed\n",
        "val = vector(mode = 'numeric', length = maxIter)\n",
        "val[1] = rnorm(1) ## initialize\n",
        "\n",
        "k = 1\n",
        "while (abs(val[k]) < 10 && k <= maxIter) {\n",
        "  val[k + 1] = val[k] + rnorm(1)\n",
        "  k = k + 1\n",
        "}\n",
        "val = val[1:k-1]\n",
        "\n",
        "plot(val, type = 'l')"
      ]
    },
    {
      "cell_type": "markdown",
      "metadata": {
        "id": "9ahuf46D1lfB"
      },
      "source": [
        "#### key words\n",
        "The following key words are useful within loops:\n",
        "\n",
        "- break - break out of the currently executing loop\n",
        "- next - move to the next iteration immediately, without executing the rest of this iteration (continue in other languages such as C++)\n",
        "\n",
        "Here is an example using next:\n",
        "\n"
      ]
    },
    {
      "cell_type": "code",
      "execution_count": null,
      "metadata": {
        "id": "jfwvQ6XI1lfC",
        "outputId": "5d3ff682-86a2-4178-d9aa-f7fa33c04920"
      },
      "outputs": [
        {
          "name": "stdout",
          "output_type": "stream",
          "text": [
            "1 \n",
            "3 \n",
            "5 \n",
            "7 \n",
            "9 \n"
          ]
        }
      ],
      "source": [
        "for ( i in 1:10 ) {\n",
        "  if (i %% 2 == 0) next\n",
        "  cat(i,'\\n')\n",
        "}"
      ]
    },
    {
      "cell_type": "markdown",
      "metadata": {
        "id": "IX8vabsh1lfC"
      },
      "source": [
        "## Conditional execution\n",
        "\n",
        "Often when writing functions we need to do different things depending on what data is passed in. This is known as conditional execution, and is accomplished using the if and/or else construct:\n",
        "\n",
        "```\n",
        "if (condition) {\n",
        "  # code executed when condition is TRUE\n",
        "} else {\n",
        "  # code executed when condition is FALSE\n",
        "}\n",
        "```\n",
        "\n"
      ]
    },
    {
      "cell_type": "markdown",
      "metadata": {
        "id": "UE6q3f6y1lfD"
      },
      "source": [
        "#### if statements\n",
        "\n",
        "The workhorse for conditional execution in `R` is the if statement.\n",
        "In the syntax below, note the spacing around the condition enclosed in the parentheses."
      ]
    },
    {
      "cell_type": "code",
      "execution_count": 41,
      "metadata": {
        "colab": {
          "base_uri": "https://localhost:8080/"
        },
        "id": "wSFPNGnE1lfE",
        "outputId": "e59f4786-2660-4c25-fc4a-add25ca499e2"
      },
      "outputs": [
        {
          "output_type": "stream",
          "name": "stdout",
          "text": [
            "[1] \"do something if true\"\n"
          ]
        }
      ],
      "source": [
        "if ( TRUE ) {  # this condition is hard-coded to TRUE and will also execute the if-block\n",
        "  print('do something if true')\n",
        "}"
      ]
    },
    {
      "cell_type": "markdown",
      "metadata": {
        "id": "gBXuD_Nw1lfE"
      },
      "source": [
        "## Optional `else` block\n",
        "\n",
        "Use an else to control the flow without separately checking the condition’s negation:\n",
        "\n"
      ]
    },
    {
      "cell_type": "code",
      "execution_count": 42,
      "metadata": {
        "colab": {
          "base_uri": "https://localhost:8080/"
        },
        "id": "OrzGXaXz1lfF",
        "outputId": "4a0baa2d-a027-4e41-a70b-738b30d65da1"
      },
      "outputs": [
        {
          "output_type": "stream",
          "name": "stdout",
          "text": [
            "[1] \"the statement is false\"\n"
          ]
        }
      ],
      "source": [
        "if ((2 + 2) == 5 ) {\n",
        "  print('the statement is true')\n",
        "} else {\n",
        "  print('the statement is false')\n",
        "}"
      ]
    },
    {
      "cell_type": "markdown",
      "metadata": {
        "id": "KcXPZoVbbZ96"
      },
      "source": [
        "### `ifelse` function\n",
        "\n",
        "ifelse() is a function that takes three vector arguments and returns a new vector. As you can see this is not the same as above"
      ]
    },
    {
      "cell_type": "code",
      "execution_count": 43,
      "metadata": {
        "colab": {
          "base_uri": "https://localhost:8080/",
          "height": 34
        },
        "id": "F2oGqHgo1lfF",
        "outputId": "7c3a0c72-206a-4a60-f66e-12bbd5c12194"
      },
      "outputs": [
        {
          "output_type": "display_data",
          "data": {
            "text/html": [
              "<style>\n",
              ".list-inline {list-style: none; margin:0; padding: 0}\n",
              ".list-inline>li {display: inline-block}\n",
              ".list-inline>li:not(:last-child)::after {content: \"\\00b7\"; padding: 0 .5ex}\n",
              "</style>\n",
              "<ol class=list-inline><li>'small'</li><li>'small'</li><li>'small'</li><li>'large'</li><li>'large'</li></ol>\n"
            ],
            "text/markdown": "1. 'small'\n2. 'small'\n3. 'small'\n4. 'large'\n5. 'large'\n\n\n",
            "text/latex": "\\begin{enumerate*}\n\\item 'small'\n\\item 'small'\n\\item 'small'\n\\item 'large'\n\\item 'large'\n\\end{enumerate*}\n",
            "text/plain": [
              "[1] \"small\" \"small\" \"small\" \"large\" \"large\""
            ]
          },
          "metadata": {}
        }
      ],
      "source": [
        "# Define a vector\n",
        "x <- c(1, 2, 3, 4, 5)\n",
        "\n",
        "# Use ifelse to create a new vector\n",
        "y <- ifelse(x > 3, \"large\", \"small\")\n",
        "\n",
        "y"
      ]
    },
    {
      "cell_type": "markdown",
      "metadata": {
        "id": "QNL14LdgZdAo"
      },
      "source": [
        "# What about if_else?\n",
        "\n",
        "`if_else` comes from dplyr and works the same as ifelse except the output from the if_else should be of the same type"
      ]
    },
    {
      "cell_type": "code",
      "execution_count": 44,
      "metadata": {
        "colab": {
          "base_uri": "https://localhost:8080/",
          "height": 633
        },
        "id": "CjMS7Jr-ZotZ",
        "outputId": "fdf16142-a3fc-40cc-8c9e-f0c30d18f5ab"
      },
      "outputs": [
        {
          "output_type": "error",
          "ename": "ERROR",
          "evalue": "ignored",
          "traceback": [
            "\u001b[1m\u001b[33mError\u001b[39m in `if_else()`:\u001b[22m\n\u001b[33m!\u001b[39m Can't combine `true` <character> and `false` <double>.\nTraceback:\n",
            "1. if_else(x > 3, \"large\", 10)",
            "2. vec_case_when(conditions = conditions, values = values, conditions_arg = \"\", \n .     values_arg = \"\", default = missing, default_arg = \"missing\", \n .     ptype = ptype, size = size, call = current_env())",
            "3. vec_ptype_common(!!!everything, .ptype = ptype, .call = call)",
            "4. (function () \n . vec_default_ptype2(x = x, y = y, x_arg = x_arg, y_arg = y_arg, \n .     call = call, `vctrs:::from_dispatch` = `vctrs:::from_dispatch`, \n .     `vctrs:::s3_fallback` = `vctrs:::s3_fallback`))()",
            "5. vec_default_ptype2(x = x, y = y, x_arg = x_arg, y_arg = y_arg, \n .     call = call, `vctrs:::from_dispatch` = `vctrs:::from_dispatch`, \n .     `vctrs:::s3_fallback` = `vctrs:::s3_fallback`)",
            "6. withRestarts(stop_incompatible_type(x, y, x_arg = x_arg, y_arg = y_arg, \n .     `vctrs:::from_dispatch` = match_from_dispatch(...), call = call), \n .     vctrs_restart_ptype2 = function(ptype) {\n .         ptype\n .     })",
            "7. withOneRestart(expr, restarts[[1L]])",
            "8. doWithOneRestart(return(expr), restart)",
            "9. stop_incompatible_type(x, y, x_arg = x_arg, y_arg = y_arg, `vctrs:::from_dispatch` = match_from_dispatch(...), \n .     call = call)",
            "10. stop_incompatible(x, y, x_arg = x_arg, y_arg = y_arg, details = details, \n  .     ..., message = message, class = c(class, subclass, \"vctrs_error_incompatible_type\"), \n  .     call = call)",
            "11. stop_vctrs(message, class = c(class, \"vctrs_error_incompatible\"), \n  .     x = x, y = y, details = details, ..., call = call)",
            "12. abort(message, class = c(class, \"vctrs_error\"), ..., call = call)",
            "13. signal_abort(cnd, .file)"
          ]
        }
      ],
      "source": [
        "y <- if_else(x > 3, \"large\", 10) # does not like character OR number \n",
        "y"
      ]
    },
    {
      "cell_type": "code",
      "source": [
        "y <- if_else(x > 3, \"large\", \"small\") # works if character AND character\n",
        "y"
      ],
      "metadata": {
        "colab": {
          "base_uri": "https://localhost:8080/",
          "height": 34
        },
        "id": "Ih9ixcCMJ6ZA",
        "outputId": "23674fe0-8f46-4a34-d139-3692853dd3ee"
      },
      "execution_count": 45,
      "outputs": [
        {
          "output_type": "display_data",
          "data": {
            "text/html": [
              "<style>\n",
              ".list-inline {list-style: none; margin:0; padding: 0}\n",
              ".list-inline>li {display: inline-block}\n",
              ".list-inline>li:not(:last-child)::after {content: \"\\00b7\"; padding: 0 .5ex}\n",
              "</style>\n",
              "<ol class=list-inline><li>'small'</li><li>'small'</li><li>'small'</li><li>'large'</li><li>'large'</li></ol>\n"
            ],
            "text/markdown": "1. 'small'\n2. 'small'\n3. 'small'\n4. 'large'\n5. 'large'\n\n\n",
            "text/latex": "\\begin{enumerate*}\n\\item 'small'\n\\item 'small'\n\\item 'small'\n\\item 'large'\n\\item 'large'\n\\end{enumerate*}\n",
            "text/plain": [
              "[1] \"small\" \"small\" \"small\" \"large\" \"large\""
            ]
          },
          "metadata": {}
        }
      ]
    },
    {
      "cell_type": "markdown",
      "metadata": {
        "id": "OMv0zdAYZ56b"
      },
      "source": [
        "### if-else chain\n",
        "\n",
        "For more complex cases, you may want to check multiple conditions:"
      ]
    },
    {
      "cell_type": "code",
      "execution_count": 46,
      "metadata": {
        "id": "oBYAergA1lfG",
        "outputId": "b866f144-572a-4b43-de8a-ea8a1a4f93d3",
        "colab": {
          "base_uri": "https://localhost:8080/",
          "height": 34
        }
      },
      "outputs": [
        {
          "output_type": "display_data",
          "data": {
            "text/html": [
              "<style>\n",
              ".list-inline {list-style: none; margin:0; padding: 0}\n",
              ".list-inline>li {display: inline-block}\n",
              ".list-inline>li:not(:last-child)::after {content: \"\\00b7\"; padding: 0 .5ex}\n",
              "</style>\n",
              "<ol class=list-inline><li>-1</li><li>1</li></ol>\n"
            ],
            "text/markdown": "1. -1\n2. 1\n\n\n",
            "text/latex": "\\begin{enumerate*}\n\\item -1\n\\item 1\n\\end{enumerate*}\n",
            "text/plain": [
              "[1] -1  1"
            ]
          },
          "metadata": {}
        }
      ],
      "source": [
        "a = -1\n",
        "b = 1\n",
        "\n",
        "if (a * b > 0) {\n",
        "  print('Zero is not between a and b')\n",
        "} else if ( a < b ) {\n",
        "    smaller = a\n",
        "    larger = b\n",
        "} else {\n",
        "    smaller = b\n",
        "    larger  = a\n",
        "}\n",
        "\n",
        "c(smaller, larger)"
      ]
    },
    {
      "cell_type": "markdown",
      "metadata": {
        "id": "ZX6-d_Xp7H_J"
      },
      "source": [
        "## The wiki-link game\n",
        "To illustrate how and when to write functions, we will write a program that plays the [wiki-link game](https://en.wikipedia.org/wiki/Wikipedia:Wiki-Link_Game). An abbreviate version of the rules are:\n",
        "\n",
        "1. Pick a whole number between 1 and 8 -- call it $N$.\n",
        "2. Pick a random page on Wikipedia by visiting [the random page page](https://en.wikipedia.org/wiki/Special:Random).\n",
        "3. Now read the article until you reach the $N$th link.\n",
        "  -  If you arrive at a page you have already visited since the start of a run, then game over (the ''infinite loop ending''). \n",
        "  - If your page doesn't have $N$ links, then game over. (the ''short page ending'').\n",
        "  - If the $N$th link is a red link to edit a page which does not exist yet, then game over (the ''empty link ending'');\n",
        "  - If you arrive at an off-site, non-Wikipedia page, then game over (the ''off-site ending''); more commonly you can choose to skip over external links.\n",
        "  - ...otherwise, follow the link at go back to step 3...\n",
        "4. How many pages can you visit?\n"
      ]
    },
    {
      "cell_type": "markdown",
      "metadata": {
        "id": "9JbXhOyE7H_J"
      },
      "source": [
        "Relative to what we have seen so far, this is advanced. To solve it, we will break the problem into smaller pieces which we can then tackle."
      ]
    },
    {
      "cell_type": "code",
      "execution_count": null,
      "metadata": {
        "id": "dpbZ9pu57H_J",
        "outputId": "d0822047-8a2c-4cc0-8613-2f39a7ec6641"
      },
      "outputs": [
        {
          "ename": "ERROR",
          "evalue": "Error in get_random_page(): could not find function \"get_random_page\"\n",
          "output_type": "error",
          "traceback": [
            "Error in get_random_page(): could not find function \"get_random_page\"\nTraceback:\n",
            "1. play_wiki_link(5)"
          ]
        }
      ],
      "source": [
        "play_wiki_link <- function(n) {\n",
        "    current_url <- get_random_page()\n",
        "    i <- 0\n",
        "    seen_before <- c()\n",
        "    while (TRUE) {\n",
        "        print(current_url)\n",
        "        print(i)\n",
        "        flush.console()\n",
        "        seen_before <- c(seen_before, current_url)\n",
        "        nth_link <- get_nth_link(current_url, n) %>% filter_meta\n",
        "        if (is.na(nth_link)) stop(str_c(\"no n-th link \", i))\n",
        "        if (nth_link %in% seen_before) stop(str_c(\"infinite loop \", i))\n",
        "        if (is_red_link(nth_link)) stop(str_c(\"red link \", i))\n",
        "        current_url <- str_c(\"https://en.wikipedia.org\", nth_link)\n",
        "        i <- i + 1\n",
        "    }\n",
        "}\n",
        "\n",
        "play_wiki_link(5)"
      ]
    }
  ],
  "metadata": {
    "celltoolbar": "Slideshow",
    "colab": {
      "provenance": [],
      "include_colab_link": true
    },
    "kernelspec": {
      "display_name": "R",
      "language": "R",
      "name": "ir"
    },
    "language_info": {
      "codemirror_mode": "r",
      "file_extension": ".r",
      "mimetype": "text/x-r-source",
      "name": "R",
      "pygments_lexer": "r",
      "version": "4.2.1"
    }
  },
  "nbformat": 4,
  "nbformat_minor": 0
}
