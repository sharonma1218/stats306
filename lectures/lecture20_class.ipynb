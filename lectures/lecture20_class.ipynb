{
  "cells": [
    {
      "cell_type": "markdown",
      "metadata": {
        "id": "view-in-github",
        "colab_type": "text"
      },
      "source": [
        "<a href=\"https://colab.research.google.com/github/sharonma1218/stats306/blob/main/lecture20_class.ipynb\" target=\"_parent\"><img src=\"https://colab.research.google.com/assets/colab-badge.svg\" alt=\"Open In Colab\"/></a>"
      ]
    },
    {
      "cell_type": "code",
      "execution_count": 1,
      "metadata": {
        "id": "xEm3GpZRuQ-B",
        "outputId": "120a2c30-0f79-4069-d519-b8690965ca6c",
        "colab": {
          "base_uri": "https://localhost:8080/"
        }
      },
      "outputs": [
        {
          "output_type": "stream",
          "name": "stderr",
          "text": [
            "Warning message in system(\"timedatectl\", intern = TRUE):\n",
            "“running command 'timedatectl' had status 1”\n",
            "── \u001b[1mAttaching packages\u001b[22m ─────────────────────────────────────── tidyverse 1.3.1 ──\n",
            "\n",
            "\u001b[32m✔\u001b[39m \u001b[34mggplot2\u001b[39m 3.4.1     \u001b[32m✔\u001b[39m \u001b[34mpurrr  \u001b[39m 1.0.1\n",
            "\u001b[32m✔\u001b[39m \u001b[34mtibble \u001b[39m 3.2.1     \u001b[32m✔\u001b[39m \u001b[34mdplyr  \u001b[39m 1.1.1\n",
            "\u001b[32m✔\u001b[39m \u001b[34mtidyr  \u001b[39m 1.3.0     \u001b[32m✔\u001b[39m \u001b[34mstringr\u001b[39m 1.4.1\n",
            "\u001b[32m✔\u001b[39m \u001b[34mreadr  \u001b[39m 2.1.4     \u001b[32m✔\u001b[39m \u001b[34mforcats\u001b[39m 1.0.0\n",
            "\n",
            "── \u001b[1mConflicts\u001b[22m ────────────────────────────────────────── tidyverse_conflicts() ──\n",
            "\u001b[31m✖\u001b[39m \u001b[34mdplyr\u001b[39m::\u001b[32mfilter()\u001b[39m masks \u001b[34mstats\u001b[39m::filter()\n",
            "\u001b[31m✖\u001b[39m \u001b[34mdplyr\u001b[39m::\u001b[32mlag()\u001b[39m    masks \u001b[34mstats\u001b[39m::lag()\n",
            "\n"
          ]
        }
      ],
      "source": [
        "library(tidyverse)\n",
        "options(repr.plot.height=4, repr.plot.width=6)\n",
        "theme_set(theme_classic())"
      ]
    },
    {
      "cell_type": "code",
      "source": [
        "library(modelr)"
      ],
      "metadata": {
        "id": "6jiJCWFC3LgO"
      },
      "execution_count": 18,
      "outputs": []
    },
    {
      "cell_type": "code",
      "source": [
        "install.packages(\"tidymodels\")\n",
        "library(tidymodels)"
      ],
      "metadata": {
        "colab": {
          "base_uri": "https://localhost:8080/",
          "height": 133
        },
        "id": "xMIjCStn3Qeu",
        "outputId": "136d97d1-ec60-48fe-907e-b58f77cff3d5"
      },
      "execution_count": 20,
      "outputs": [
        {
          "output_type": "error",
          "ename": "ERROR",
          "evalue": "ignored",
          "traceback": [
            "Error in library(tidymodels): there is no package called ‘tidymodels’\nTraceback:\n",
            "1. library(tidymodels)"
          ]
        }
      ]
    },
    {
      "cell_type": "code",
      "source": [
        "install.packages(c(\"glmnet\", \"tidymodels\", \"ranger\"))\n",
        "library(glmnet)"
      ],
      "metadata": {
        "id": "k8VjqaHDvt6G"
      },
      "execution_count": null,
      "outputs": []
    },
    {
      "cell_type": "markdown",
      "metadata": {
        "id": "F8RKjhgmuQ-C"
      },
      "source": [
        "# Lecture 20: Classification and logistic regression\n",
        "\n",
        "<div style=\"border: 1px double black; padding: 10px; margin: 10px\">\n",
        "\n",
        "**After today's lecture you will understand:**\n",
        "* Fitting logistic regression models in R using `glm()`.\n",
        "* Use the fitted model to predict outcome for new dataset.\n",
        "* Ways to measure the accuracy of a binary classifier.\n",
        "</div>\n",
        "\n"
      ]
    },
    {
      "cell_type": "markdown",
      "metadata": {
        "id": "quyulZ5zuQ-D"
      },
      "source": [
        "## Modeling with categorical outcomes\n",
        "Last lecture we learned all about regression. In regression, we have a continuous outcome (height, population growth, etc.), and some predictors which could be either categorical or continuous. We built a function that predicts the mean of the outcome given the predictors, e.g.\n",
        "\n",
        "$$\n",
        "\\mathbb{E}(y \\mid x) = a_0 + a_1 x.\n",
        "$$"
      ]
    },
    {
      "cell_type": "markdown",
      "metadata": {
        "id": "8KmBKhXeuQ-D"
      },
      "source": [
        "For example, we fit the following model:"
      ]
    },
    {
      "cell_type": "code",
      "execution_count": null,
      "metadata": {
        "id": "plEQnBBjuQ-D",
        "outputId": "3cb2668b-bc88-4da8-86cc-91c77c8bf701"
      },
      "outputs": [
        {
          "data": {
            "text/plain": [
              "\n",
              "Call:\n",
              "lm(formula = log(price) ~ log(carat), data = diamonds)\n",
              "\n",
              "Coefficients:\n",
              "(Intercept)   log(carat)  \n",
              "      8.449        1.676  \n"
            ]
          },
          "metadata": {},
          "output_type": "display_data"
        }
      ],
      "source": [
        "lm(log(price) ~ log(carat), diamonds)"
      ]
    },
    {
      "cell_type": "markdown",
      "metadata": {
        "id": "kmcCMcLnuQ-D"
      },
      "source": [
        "This says that the average value of `log(price)` given `log(carat)` is \n",
        "\n",
        "$$8.449 + 1.676 \\cdot \\log(\\text{carat})\\quad\\text{(avg. value of log(price))}$$"
      ]
    },
    {
      "cell_type": "markdown",
      "metadata": {
        "id": "Of3ciGuLuQ-E"
      },
      "source": [
        "In today's lecture, we are going to look at a different kind of regression model, with the main difference being that our outcome is no longer a continuous variable like price or log(price). Instead, the outcome is a True/False variable which indicates whether or not some event happened."
      ]
    },
    {
      "cell_type": "markdown",
      "metadata": {
        "id": "zK8uoo19uQ-E"
      },
      "source": [
        "## Deaths on the *RMS Titanic*\n",
        "The [RMS Titanic](https://en.wikipedia.org/wiki/Titanic) famously sank on April 15, 1912 during its maiden voyage, killing about 2/3rds of its passengers. The `titanic` data set records the fates of everyone aboard."
      ]
    },
    {
      "cell_type": "code",
      "execution_count": 2,
      "metadata": {
        "id": "UcJj9hq6uQ-E",
        "outputId": "dc7aa4cb-1fd1-40bc-8891-a9d2c166f691",
        "colab": {
          "base_uri": "https://localhost:8080/",
          "height": 286
        }
      },
      "outputs": [
        {
          "output_type": "display_data",
          "data": {
            "text/html": [
              "<table class=\"dataframe\">\n",
              "<caption>A tibble: 6 × 4</caption>\n",
              "<thead>\n",
              "\t<tr><th scope=col>Class</th><th scope=col>Sex</th><th scope=col>Age</th><th scope=col>Survived</th></tr>\n",
              "\t<tr><th scope=col>&lt;chr&gt;</th><th scope=col>&lt;chr&gt;</th><th scope=col>&lt;chr&gt;</th><th scope=col>&lt;lgl&gt;</th></tr>\n",
              "</thead>\n",
              "<tbody>\n",
              "\t<tr><td>3rd</td><td>Male</td><td>Child</td><td>FALSE</td></tr>\n",
              "\t<tr><td>3rd</td><td>Male</td><td>Child</td><td>FALSE</td></tr>\n",
              "\t<tr><td>3rd</td><td>Male</td><td>Child</td><td>FALSE</td></tr>\n",
              "\t<tr><td>3rd</td><td>Male</td><td>Child</td><td>FALSE</td></tr>\n",
              "\t<tr><td>3rd</td><td>Male</td><td>Child</td><td>FALSE</td></tr>\n",
              "\t<tr><td>3rd</td><td>Male</td><td>Child</td><td>FALSE</td></tr>\n",
              "</tbody>\n",
              "</table>\n"
            ],
            "text/markdown": "\nA tibble: 6 × 4\n\n| Class &lt;chr&gt; | Sex &lt;chr&gt; | Age &lt;chr&gt; | Survived &lt;lgl&gt; |\n|---|---|---|---|\n| 3rd | Male | Child | FALSE |\n| 3rd | Male | Child | FALSE |\n| 3rd | Male | Child | FALSE |\n| 3rd | Male | Child | FALSE |\n| 3rd | Male | Child | FALSE |\n| 3rd | Male | Child | FALSE |\n\n",
            "text/latex": "A tibble: 6 × 4\n\\begin{tabular}{llll}\n Class & Sex & Age & Survived\\\\\n <chr> & <chr> & <chr> & <lgl>\\\\\n\\hline\n\t 3rd & Male & Child & FALSE\\\\\n\t 3rd & Male & Child & FALSE\\\\\n\t 3rd & Male & Child & FALSE\\\\\n\t 3rd & Male & Child & FALSE\\\\\n\t 3rd & Male & Child & FALSE\\\\\n\t 3rd & Male & Child & FALSE\\\\\n\\end{tabular}\n",
            "text/plain": [
              "  Class Sex  Age   Survived\n",
              "1 3rd   Male Child FALSE   \n",
              "2 3rd   Male Child FALSE   \n",
              "3 3rd   Male Child FALSE   \n",
              "4 3rd   Male Child FALSE   \n",
              "5 3rd   Male Child FALSE   \n",
              "6 3rd   Male Child FALSE   "
            ]
          },
          "metadata": {}
        }
      ],
      "source": [
        "data(Titanic)\n",
        "titanic_df <- Titanic %>% as_tibble %>% mutate(Survived = Survived == \"Yes\") \n",
        "titanic_df <- titanic_df[rep(row.names(titanic_df), titanic_df$n), -5]\n",
        "titanic_df %>% head"
      ]
    },
    {
      "cell_type": "code",
      "execution_count": 3,
      "metadata": {
        "id": "ZzblIxD3uQ-E",
        "outputId": "063d80da-779d-43ee-c6b0-33c11faba25c",
        "colab": {
          "base_uri": "https://localhost:8080/",
          "height": 257
        }
      },
      "outputs": [
        {
          "output_type": "display_data",
          "data": {
            "text/plain": [
              "plot without title"
            ],
            "image/png": "[encoded data removed]"
          },
          "metadata": {
            "image/png": {
              "width": 360,
              "height": 240
            }
          }
        }
      ],
      "source": [
        "ggplot(titanic_df) + geom_bar(aes(x=interaction(Class, Sex, Age), fill=Survived), \n",
        "                              position='dodge') + coord_flip()"
      ]
    },
    {
      "cell_type": "markdown",
      "metadata": {
        "id": "wyCgcWeWuQ-E"
      },
      "source": [
        "We have three categorical predictors: sex, age (adult / child), and class (1st-3rd or crew). Our outcome is also categorical: survived or not."
      ]
    },
    {
      "cell_type": "markdown",
      "metadata": {
        "id": "-0R2U5bluQ-E"
      },
      "source": [
        "## Logistic regression\n",
        "Suppose we want to build a regression model for predicting categorical outcomes.\n",
        "In all of the regressions we have seen so far, the dependent ($y$) variable has been continuous: population growth, life expectancy, price, etc. However, there are many situations where the outcome is categorical. For simplicity, we will assume it's binary, and can be coded as 0/1. How should we model binary data?"
      ]
    },
    {
      "cell_type": "markdown",
      "metadata": {
        "id": "lzrN-aAGuQ-E"
      },
      "source": [
        "One idea is to just stick what we know and use the linear model. Will this work?"
      ]
    },
    {
      "cell_type": "code",
      "execution_count": 4,
      "metadata": {
        "id": "NxJ_5FlyuQ-E",
        "outputId": "83bf7f0a-5265-410e-e732-2aa266361834",
        "colab": {
          "base_uri": "https://localhost:8080/",
          "height": 410
        }
      },
      "outputs": [
        {
          "output_type": "display_data",
          "data": {
            "text/plain": [
              "\n",
              "Call:\n",
              "lm(formula = Survived ~ Class + Sex + Age, data = titanic_df)\n",
              "\n",
              "Residuals:\n",
              "    Min      1Q  Median      3Q     Max \n",
              "-0.8930 -0.2268 -0.2163  0.2324  0.9044 \n",
              "\n",
              "Coefficients:\n",
              "            Estimate Std. Error t value Pr(>|t|)    \n",
              "(Intercept)  0.89303    0.02585  34.546  < 2e-16 ***\n",
              "Class2nd    -0.18608    0.03301  -5.637 1.95e-08 ***\n",
              "Class3rd    -0.30673    0.02771 -11.070  < 2e-16 ***\n",
              "ClassCrew   -0.17555    0.02797  -6.277 4.15e-10 ***\n",
              "SexMale     -0.49068    0.02301 -21.329  < 2e-16 ***\n",
              "AgeChild     0.18130    0.04097   4.425 1.01e-05 ***\n",
              "---\n",
              "Signif. codes:  0 ‘***’ 0.001 ‘**’ 0.01 ‘*’ 0.05 ‘.’ 0.1 ‘ ’ 1\n",
              "\n",
              "Residual standard error: 0.4047 on 2195 degrees of freedom\n",
              "Multiple R-squared:  0.2529,\tAdjusted R-squared:  0.2512 \n",
              "F-statistic: 148.6 on 5 and 2195 DF,  p-value: < 2.2e-16\n"
            ]
          },
          "metadata": {}
        }
      ],
      "source": [
        "mdl <- lm(Survived ~ Class + Sex + Age, data = titanic_df)\n",
        "summary(mdl)"
      ]
    },
    {
      "cell_type": "markdown",
      "metadata": {
        "id": "QmAOSVAjuQ-E"
      },
      "source": [
        "R did not generate any errors. But the regression looks \"weird\" in many ways:\n",
        "- The $R$-squared low.\n",
        "- The residual standard error is large relative to the outcome (which is always either zero or one).\n",
        "- The residuals look weird:"
      ]
    },
    {
      "cell_type": "code",
      "execution_count": null,
      "metadata": {
        "id": "ki0bTAWduQ-E",
        "outputId": "76768a15-e382-43bd-d205-73defda65b3a"
      },
      "outputs": [
        {
          "data": {
            "image/png": "[encoded data removed]",
            "text/plain": [
              "plot without title"
            ]
          },
          "metadata": {
            "image/png": {
              "height": 300,
              "width": 480
            }
          },
          "output_type": "display_data"
        }
      ],
      "source": [
        "tu %>% add_residuals(mdl) %>% mutate(resid=as.numeric(resid)) %>% \n",
        "    ggplot + geom_histogram(aes(x=resid), binwidth=.1)"
      ]
    },
    {
      "cell_type": "markdown",
      "metadata": {
        "id": "SbVbFgQkuQ-E"
      },
      "source": [
        "What about predictions? The predicted outcomes are decimal numbers, whereas in the original model, the outcome was `TRUE` or `FALSE`."
      ]
    },
    {
      "cell_type": "code",
      "execution_count": null,
      "metadata": {
        "id": "o8mlgA3ouQ-E",
        "outputId": "9ce1e9a5-6740-4462-8f4c-322020814376"
      },
      "outputs": [
        {
          "data": {
            "text/html": [
              "<table class=\"dataframe\">\n",
              "<caption>A tibble: 6 × 5</caption>\n",
              "<thead>\n",
              "\t<tr><th scope=col>Class</th><th scope=col>Sex</th><th scope=col>Age</th><th scope=col>Survived</th><th scope=col>pred</th></tr>\n",
              "\t<tr><th scope=col>&lt;chr&gt;</th><th scope=col>&lt;chr&gt;</th><th scope=col>&lt;chr&gt;</th><th scope=col>&lt;lgl&gt;</th><th scope=col>&lt;dbl&gt;</th></tr>\n",
              "</thead>\n",
              "<tbody>\n",
              "\t<tr><td>3rd </td><td>Male  </td><td>Child</td><td>FALSE</td><td>0.2769110</td></tr>\n",
              "\t<tr><td>3rd </td><td>Female</td><td>Child</td><td>FALSE</td><td>0.7675908</td></tr>\n",
              "\t<tr><td>1st </td><td>Male  </td><td>Adult</td><td>FALSE</td><td>0.4023497</td></tr>\n",
              "\t<tr><td>2nd </td><td>Male  </td><td>Adult</td><td>FALSE</td><td>0.2162696</td></tr>\n",
              "\t<tr><td>3rd </td><td>Male  </td><td>Adult</td><td>FALSE</td><td>0.0956153</td></tr>\n",
              "\t<tr><td>Crew</td><td>Male  </td><td>Adult</td><td>FALSE</td><td>0.2267959</td></tr>\n",
              "</tbody>\n",
              "</table>\n"
            ],
            "text/latex": [
              "A tibble: 6 × 5\n",
              "\\begin{tabular}{lllll}\n",
              " Class & Sex & Age & Survived & pred\\\\\n",
              " <chr> & <chr> & <chr> & <lgl> & <dbl>\\\\\n",
              "\\hline\n",
              "\t 3rd  & Male   & Child & FALSE & 0.2769110\\\\\n",
              "\t 3rd  & Female & Child & FALSE & 0.7675908\\\\\n",
              "\t 1st  & Male   & Adult & FALSE & 0.4023497\\\\\n",
              "\t 2nd  & Male   & Adult & FALSE & 0.2162696\\\\\n",
              "\t 3rd  & Male   & Adult & FALSE & 0.0956153\\\\\n",
              "\t Crew & Male   & Adult & FALSE & 0.2267959\\\\\n",
              "\\end{tabular}\n"
            ],
            "text/markdown": [
              "\n",
              "A tibble: 6 × 5\n",
              "\n",
              "| Class &lt;chr&gt; | Sex &lt;chr&gt; | Age &lt;chr&gt; | Survived &lt;lgl&gt; | pred &lt;dbl&gt; |\n",
              "|---|---|---|---|---|\n",
              "| 3rd  | Male   | Child | FALSE | 0.2769110 |\n",
              "| 3rd  | Female | Child | FALSE | 0.7675908 |\n",
              "| 1st  | Male   | Adult | FALSE | 0.4023497 |\n",
              "| 2nd  | Male   | Adult | FALSE | 0.2162696 |\n",
              "| 3rd  | Male   | Adult | FALSE | 0.0956153 |\n",
              "| Crew | Male   | Adult | FALSE | 0.2267959 |\n",
              "\n"
            ],
            "text/plain": [
              "  Class Sex    Age   Survived pred     \n",
              "1 3rd   Male   Child FALSE    0.2769110\n",
              "2 3rd   Female Child FALSE    0.7675908\n",
              "3 1st   Male   Adult FALSE    0.4023497\n",
              "4 2nd   Male   Adult FALSE    0.2162696\n",
              "5 3rd   Male   Adult FALSE    0.0956153\n",
              "6 Crew  Male   Adult FALSE    0.2267959"
            ]
          },
          "metadata": {},
          "output_type": "display_data"
        }
      ],
      "source": [
        "titanic_df %>% add_predictions(mdl) %>% distinct %>% head"
      ]
    },
    {
      "cell_type": "markdown",
      "metadata": {
        "id": "oHjPw3DluQ-F"
      },
      "source": [
        "The linear model says:\n",
        "\n",
        "$$y = f(a + b x)$$ \n",
        "\n",
        "for $f(x)=x$. For 0/1 outcomes, let's instead try to think probabilistically:\n",
        "\n",
        "$$\\text{Prob}(y=1) = \\underbrace{f(a + b x)}_{(\\text{some function of the covariates})}$$"
      ]
    },
    {
      "cell_type": "markdown",
      "metadata": {
        "id": "x2f6OR9NuQ-F"
      },
      "source": [
        "What criteria should this function $f$ have?\n",
        "- It's range needs to be $[0,1]$.\n",
        "- For \"extreme\" values of $a + bx$ it should tend to zero one one.\n",
        "\n",
        "A function which satisfies both the properties is the **logistic function**:\n",
        "$$f(x) = \\frac{1}{1 + e^{-x}}.$$"
      ]
    },
    {
      "cell_type": "code",
      "execution_count": 6,
      "metadata": {
        "id": "rnupeZjIuQ-F",
        "colab": {
          "base_uri": "https://localhost:8080/",
          "height": 257
        },
        "outputId": "b90f3967-ac4d-4bb4-db17-b7aff2dc2646"
      },
      "outputs": [
        {
          "output_type": "display_data",
          "data": {
            "text/plain": [
              "plot without title"
            ],
            "image/png": "[encoded data removed]"
          },
          "metadata": {
            "image/png": {
              "width": 360,
              "height": 240
            }
          }
        }
      ],
      "source": [
        "expand.grid(x=seq(-5, 5, .1)) %>% ggplot(aes(x=x)) + \n",
        "  stat_function(fun=function(x) (1 / (1 + exp(-x))), xlim=c(-5, 5), color=\"blue\") +\n",
        "  stat_function(fun=function(x) 1/2 + x/5, xlim=c(-5, 5), color=\"red\") +\n",
        "  annotate(x=3.5, y=1.5, geom=\"text\", label=\"linear model\", color=\"red\") +\n",
        "  annotate(x=4.0, y=.85, geom=\"text\", label=\"logistic model\", color=\"blue\") + \n",
        "  ylab(\"predicted probability\")"
      ]
    },
    {
      "cell_type": "markdown",
      "metadata": {
        "id": "0QHnfE0wuQ-F"
      },
      "source": [
        "To fit this model in R, we use a similar command as for linear regression: `glm()`. (The \"g\" stands for **g**eneralized linear model.) We'll start as we did with linear regression, using a single predictor:"
      ]
    },
    {
      "cell_type": "code",
      "execution_count": 8,
      "metadata": {
        "id": "10i2CS2duQ-F",
        "outputId": "b4650435-6478-4099-e576-278c0a667ec3",
        "colab": {
          "base_uri": "https://localhost:8080/",
          "height": 196
        }
      },
      "outputs": [
        {
          "output_type": "display_data",
          "data": {
            "text/plain": [
              "\n",
              "Call:  glm(formula = Survived ~ Sex, family = \"binomial\", data = titanic_df)\n",
              "\n",
              "Coefficients:\n",
              "(Intercept)      SexMale  \n",
              "      1.004       -2.317  \n",
              "\n",
              "Degrees of Freedom: 2200 Total (i.e. Null);  2199 Residual\n",
              "Null Deviance:\t    2769 \n",
              "Residual Deviance: 2335 \tAIC: 2339"
            ]
          },
          "metadata": {}
        }
      ],
      "source": [
        "mdl <- glm(Survived ~ Sex, data = titanic_df, family = \"binomial\")\n",
        "#                                             ^^^^^^ important ; whether they survived or died \n",
        "mdl"
      ]
    },
    {
      "cell_type": "markdown",
      "metadata": {
        "id": "qlRGmZgruQ-F"
      },
      "source": [
        "Although these results look similar to linear regression, their interpretation is quite different. Specifically, they are interpreted in terms of their effect on the *log-odds ratio*."
      ]
    },
    {
      "cell_type": "markdown",
      "metadata": {
        "id": "PU7YE1dwuQ-F"
      },
      "source": [
        " The model we estimated above is \n",
        " \n",
        " $$\\log \\left( \\frac{p}{1-p} \\right) = a_0 + a_1 \\cdot \\{\\text{Male}\\}$$\n",
        "\n",
        "where $p$ is now the probability that a passenger survived"
      ]
    },
    {
      "cell_type": "markdown",
      "metadata": {
        "id": "UMDUqZGJuQ-F"
      },
      "source": [
        "Let's confirm this by calculating the percentage of male passengers that survived:"
      ]
    },
    {
      "cell_type": "code",
      "execution_count": 7,
      "metadata": {
        "id": "BS0aY6XWuQ-F",
        "outputId": "d7b05311-4028-409b-87df-31ef9aeb70f7",
        "colab": {
          "base_uri": "https://localhost:8080/",
          "height": 88
        }
      },
      "outputs": [
        {
          "output_type": "display_data",
          "data": {
            "text/plain": [
              "        Sex\n",
              "Survived    Female      Male\n",
              "   FALSE 0.2680851 0.7879838\n",
              "   TRUE  0.7319149 0.2120162"
            ]
          },
          "metadata": {}
        }
      ],
      "source": [
        "xtabs(~ Survived + Sex, data = titanic_df) %>% prop.table(2)"
      ]
    },
    {
      "cell_type": "markdown",
      "metadata": {
        "id": "KBtm0npquQ-F"
      },
      "source": [
        "The odds of survival by gender were:"
      ]
    },
    {
      "cell_type": "code",
      "execution_count": 9,
      "metadata": {
        "id": "jI-M1PPkuQ-F",
        "outputId": "26bb93ba-19d5-459f-fc6c-0a650507d4e2",
        "colab": {
          "base_uri": "https://localhost:8080/",
          "height": 34
        }
      },
      "outputs": [
        {
          "output_type": "display_data",
          "data": {
            "text/html": [
              "<style>\n",
              ".dl-inline {width: auto; margin:0; padding: 0}\n",
              ".dl-inline>dt, .dl-inline>dd {float: none; width: auto; display: inline-block}\n",
              ".dl-inline>dt::after {content: \":\\0020\"; padding-right: .5ex}\n",
              ".dl-inline>dt:not(:first-of-type) {padding-left: .5ex}\n",
              "</style><dl class=dl-inline><dt>male</dt><dd>-1.31291181518587</dd><dt>female</dt><dd>1.00342647923892</dd></dl>\n"
            ],
            "text/markdown": "male\n:   -1.31291181518587female\n:   1.00342647923892\n\n",
            "text/latex": "\\begin{description*}\n\\item[male] -1.31291181518587\n\\item[female] 1.00342647923892\n\\end{description*}\n",
            "text/plain": [
              "     male    female \n",
              "-1.312912  1.003426 "
            ]
          },
          "metadata": {}
        }
      ],
      "source": [
        "odds <- c(male = .212 / .788, female = .731 / .268)\n",
        "log(odds)"
      ]
    },
    {
      "cell_type": "markdown",
      "metadata": {
        "id": "zMRXOUE-uQ-F"
      },
      "source": [
        "These numbers are what are what the model fits:"
      ]
    },
    {
      "cell_type": "code",
      "execution_count": 10,
      "metadata": {
        "id": "kfUSawQNuQ-F",
        "outputId": "c1f5d7e8-314c-4080-bc7b-ca3288a15c38",
        "colab": {
          "base_uri": "https://localhost:8080/",
          "height": 52
        }
      },
      "outputs": [
        {
          "output_type": "display_data",
          "data": {
            "text/html": [
              "<strong>(Intercept):</strong> 1.00435975041915"
            ],
            "text/markdown": "**(Intercept):** 1.00435975041915",
            "text/latex": "\\textbf{(Intercept):} 1.00435975041915",
            "text/plain": [
              "(Intercept) \n",
              "    1.00436 "
            ]
          },
          "metadata": {}
        },
        {
          "output_type": "display_data",
          "data": {
            "text/html": [
              "-1.31281499034812"
            ],
            "text/markdown": "-1.31281499034812",
            "text/latex": "-1.31281499034812",
            "text/plain": [
              "[1] -1.312815"
            ]
          },
          "metadata": {}
        }
      ],
      "source": [
        "coef(mdl)[1]  # female\n",
        "coef(mdl)[1:2] %>% sum  # male"
      ]
    },
    {
      "cell_type": "markdown",
      "metadata": {
        "id": "qvcB_3eRuQ-F"
      },
      "source": [
        "### The logistic function\n",
        "The logistic function is $\\sigma(x) = 1 / (1 + e^{-x})$. It is the inverse of the log-odds function:\n",
        "\n",
        "$$\\sigma \\left( \\log \\frac{p}{1-p} \\right) = p.$$\n",
        "\n",
        "So, to calculate predicted probabilities from the log-odds, we apply the $\\sigma(x)$ function to the predicted log-odds:"
      ]
    },
    {
      "cell_type": "code",
      "execution_count": 11,
      "metadata": {
        "scrolled": true,
        "id": "15p69ZlXuQ-G",
        "outputId": "9c3d20d6-74b3-4d7b-e5c4-c021b125bb4d",
        "colab": {
          "base_uri": "https://localhost:8080/",
          "height": 52
        }
      },
      "outputs": [
        {
          "output_type": "display_data",
          "data": {
            "text/html": [
              "<strong>(Intercept):</strong> 0.731914893616478"
            ],
            "text/markdown": "**(Intercept):** 0.731914893616478",
            "text/latex": "\\textbf{(Intercept):} 0.731914893616478",
            "text/plain": [
              "(Intercept) \n",
              "  0.7319149 "
            ]
          },
          "metadata": {}
        },
        {
          "output_type": "display_data",
          "data": {
            "text/html": [
              "0.212016175621147"
            ],
            "text/markdown": "0.212016175621147",
            "text/latex": "0.212016175621147",
            "text/plain": [
              "[1] 0.2120162"
            ]
          },
          "metadata": {}
        }
      ],
      "source": [
        "sigma <- function(x) 1 / (1 + exp(-x))\n",
        "sigma(coef(mdl)[1])  # probability of survival for females\n",
        "sigma(sum(coef(mdl)))  # probability of survival for males"
      ]
    },
    {
      "cell_type": "markdown",
      "metadata": {
        "id": "Xqdo1dn_uQ-G"
      },
      "source": [
        "## 🤔 Quiz\n",
        "\n",
        "```\n",
        "Call:  glm(formula = Survived ~ Age, family = \"binomial\", data = titanic_df)\n",
        "\n",
        "Coefficients:\n",
        "(Intercept)     AgeChild  \n",
        "    -0.7879       0.8797  \n",
        "\n",
        "Degrees of Freedom: 2200 Total (i.e. Null);  2199 Residual\n",
        "Null Deviance:\t    2769 \n",
        "Residual Deviance: 2750 \tAIC: 2754\n",
        "```\n",
        "\n",
        "According to the model, what is predicted probability that a child survived the sinking of the Titanic?\n",
        "\n",
        "<ol style=\"list-style-type: upper-alpha;\">\n",
        "    <li>50-60%</li>\n",
        "    <li>60-70%</li>\n",
        "    <li>70-80%</li>\n",
        "    <li>80-90%</li>\n",
        "    <li>&gt; 90%</li>\n",
        "</ol>"
      ]
    },
    {
      "cell_type": "code",
      "execution_count": null,
      "metadata": {
        "id": "vHzT_Ro3uQ-G"
      },
      "outputs": [],
      "source": [
        "# probability of survival"
      ]
    },
    {
      "cell_type": "markdown",
      "metadata": {
        "id": "PcbO4qiiuQ-G"
      },
      "source": [
        "### Continuous predictor\n",
        "Now let's consider logistic regression using a continuous predictor. To do this we'll download a richer version of this dataset which includes age as a number, instead of just classifying each passenger as adult or child:"
      ]
    },
    {
      "cell_type": "code",
      "execution_count": 12,
      "metadata": {
        "id": "gS5ljDjAuQ-G",
        "outputId": "3fd89382-a29e-4275-a917-c87da6bb9454",
        "colab": {
          "base_uri": "https://localhost:8080/"
        }
      },
      "outputs": [
        {
          "output_type": "stream",
          "name": "stderr",
          "text": [
            "\u001b[1mRows: \u001b[22m\u001b[34m891\u001b[39m \u001b[1mColumns: \u001b[22m\u001b[34m12\u001b[39m\n",
            "\u001b[36m──\u001b[39m \u001b[1mColumn specification\u001b[22m \u001b[36m────────────────────────────────────────────────────────\u001b[39m\n",
            "\u001b[1mDelimiter:\u001b[22m \",\"\n",
            "\u001b[31mchr\u001b[39m (5): Name, Sex, Ticket, Cabin, Embarked\n",
            "\u001b[32mdbl\u001b[39m (7): PassengerId, Survived, Pclass, Age, SibSp, Parch, Fare\n",
            "\n",
            "\u001b[36mℹ\u001b[39m Use `spec()` to retrieve the full column specification for this data.\n",
            "\u001b[36mℹ\u001b[39m Specify the column types or set `show_col_types = FALSE` to quiet this message.\n"
          ]
        }
      ],
      "source": [
        "titanic_df2 <- read_csv('https://raw.githubusercontent.com/datasciencedojo/datasets/master/titanic.csv')"
      ]
    },
    {
      "cell_type": "code",
      "source": [
        "titanic_df2%>%print # pclass, sex, age, sibsp & parch (maybe, need to plot first), fare, cabin"
      ],
      "metadata": {
        "colab": {
          "base_uri": "https://localhost:8080/"
        },
        "id": "Ye6JRDG602hq",
        "outputId": "62b6fa2b-6aa2-4747-e669-01595b0105d2"
      },
      "execution_count": 14,
      "outputs": [
        {
          "output_type": "stream",
          "name": "stdout",
          "text": [
            "\u001b[90m# A tibble: 891 × 12\u001b[39m\n",
            "   PassengerId Survived Pclass Name   Sex     Age SibSp Parch Ticket  Fare Cabin\n",
            "         \u001b[3m\u001b[90m<dbl>\u001b[39m\u001b[23m    \u001b[3m\u001b[90m<dbl>\u001b[39m\u001b[23m  \u001b[3m\u001b[90m<dbl>\u001b[39m\u001b[23m \u001b[3m\u001b[90m<chr>\u001b[39m\u001b[23m  \u001b[3m\u001b[90m<chr>\u001b[39m\u001b[23m \u001b[3m\u001b[90m<dbl>\u001b[39m\u001b[23m \u001b[3m\u001b[90m<dbl>\u001b[39m\u001b[23m \u001b[3m\u001b[90m<dbl>\u001b[39m\u001b[23m \u001b[3m\u001b[90m<chr>\u001b[39m\u001b[23m  \u001b[3m\u001b[90m<dbl>\u001b[39m\u001b[23m \u001b[3m\u001b[90m<chr>\u001b[39m\u001b[23m\n",
            "\u001b[90m 1\u001b[39m           1        0      3 Braun… male     22     1     0 A/5 2…  7.25 \u001b[31mNA\u001b[39m   \n",
            "\u001b[90m 2\u001b[39m           2        1      1 Cumin… fema…    38     1     0 PC 17… 71.3  C85  \n",
            "\u001b[90m 3\u001b[39m           3        1      3 Heikk… fema…    26     0     0 STON/…  7.92 \u001b[31mNA\u001b[39m   \n",
            "\u001b[90m 4\u001b[39m           4        1      1 Futre… fema…    35     1     0 113803 53.1  C123 \n",
            "\u001b[90m 5\u001b[39m           5        0      3 Allen… male     35     0     0 373450  8.05 \u001b[31mNA\u001b[39m   \n",
            "\u001b[90m 6\u001b[39m           6        0      3 Moran… male     \u001b[31mNA\u001b[39m     0     0 330877  8.46 \u001b[31mNA\u001b[39m   \n",
            "\u001b[90m 7\u001b[39m           7        0      1 McCar… male     54     0     0 17463  51.9  E46  \n",
            "\u001b[90m 8\u001b[39m           8        0      3 Palss… male      2     3     1 349909 21.1  \u001b[31mNA\u001b[39m   \n",
            "\u001b[90m 9\u001b[39m           9        1      3 Johns… fema…    27     0     2 347742 11.1  \u001b[31mNA\u001b[39m   \n",
            "\u001b[90m10\u001b[39m          10        1      2 Nasse… fema…    14     1     0 237736 30.1  \u001b[31mNA\u001b[39m   \n",
            "\u001b[90m# ℹ 881 more rows\u001b[39m\n",
            "\u001b[90m# ℹ 1 more variable: Embarked <chr>\u001b[39m\n"
          ]
        }
      ]
    },
    {
      "cell_type": "code",
      "execution_count": 15,
      "metadata": {
        "id": "Cc7NBqjnuQ-G",
        "outputId": "805b758e-bb69-4cfa-aa87-bb97b0c4409a",
        "colab": {
          "base_uri": "https://localhost:8080/",
          "height": 428
        }
      },
      "outputs": [
        {
          "output_type": "display_data",
          "data": {
            "text/plain": [
              "\n",
              "Call:\n",
              "glm(formula = Survived ~ Age, family = \"binomial\", data = titanic_df2)\n",
              "\n",
              "Deviance Residuals: \n",
              "    Min       1Q   Median       3Q      Max  \n",
              "-1.1488  -1.0361  -0.9544   1.3159   1.5908  \n",
              "\n",
              "Coefficients:\n",
              "            Estimate Std. Error z value Pr(>|z|)  \n",
              "(Intercept) -0.05672    0.17358  -0.327   0.7438  \n",
              "Age         -0.01096    0.00533  -2.057   0.0397 *\n",
              "---\n",
              "Signif. codes:  0 ‘***’ 0.001 ‘**’ 0.01 ‘*’ 0.05 ‘.’ 0.1 ‘ ’ 1\n",
              "\n",
              "(Dispersion parameter for binomial family taken to be 1)\n",
              "\n",
              "    Null deviance: 964.52  on 713  degrees of freedom\n",
              "Residual deviance: 960.23  on 712  degrees of freedom\n",
              "  (177 observations deleted due to missingness)\n",
              "AIC: 964.23\n",
              "\n",
              "Number of Fisher Scoring iterations: 4\n"
            ]
          },
          "metadata": {}
        }
      ],
      "source": [
        "mdl <- glm(Survived ~ Age, data = titanic_df2, family = \"binomial\")\n",
        "summary(mdl)"
      ]
    },
    {
      "cell_type": "markdown",
      "metadata": {
        "id": "VdyozlG8uQ-G"
      },
      "source": [
        "Now our regression model is\n",
        "\n",
        "$$\\log \\left( \\frac{p}{1-p} \\right) = a_0 + a_1 \\cdot \\text{Age}.$$"
      ]
    },
    {
      "cell_type": "markdown",
      "metadata": {
        "id": "-ZR75-_GuQ-G"
      },
      "source": [
        "## 🤔 Quiz\n",
        "\n",
        "```\n",
        "Call:\n",
        "glm(formula = Survived ~ Age, family = \"binomial\")\n",
        "\n",
        "Deviance Residuals: \n",
        "    Min       1Q   Median       3Q      Max  \n",
        "-1.1488  -1.0361  -0.9544   1.3159   1.5908  \n",
        "\n",
        "Coefficients:\n",
        "            Estimate Std. Error z value Pr(>|z|)  \n",
        "(Intercept) -0.05672    0.17358  -0.327   0.7438  \n",
        "Age         -0.01096    0.00533  -2.057   0.0397 *\n",
        "```\n",
        "\n",
        "According to the model, what is predicted probability that an 11-year old child survived the sinking of the Titanic?\n",
        "\n",
        "<ol style=\"list-style-type: upper-alpha;\">\n",
        "    <li>&lt; 60%</li>\n",
        "    <li>60-70%</li>\n",
        "    <li>70-80%</li>\n",
        "    <li>80-90%</li>\n",
        "    <li>&gt; 90%</li>\n",
        "</ol>"
      ]
    },
    {
      "cell_type": "code",
      "source": [
        "# 11-year old survival\n",
        "\n",
        "tibble(Age=11)%>%\n",
        "  add_predictions(mdl)%>%\n",
        "  sigma\n",
        "\n",
        "sigma(-0.05672+11*-0.0106)"
      ],
      "metadata": {
        "colab": {
          "base_uri": "https://localhost:8080/",
          "height": 147
        },
        "id": "u7Rml_4g2_aw",
        "outputId": "50521379-06c7-4e5e-fac7-5ae42d836f6d"
      },
      "execution_count": 22,
      "outputs": [
        {
          "output_type": "display_data",
          "data": {
            "text/html": [
              "<table class=\"dataframe\">\n",
              "<caption>A data.frame: 1 × 2</caption>\n",
              "<thead>\n",
              "\t<tr><th scope=col>Age</th><th scope=col>pred</th></tr>\n",
              "\t<tr><th scope=col>&lt;dbl&gt;</th><th scope=col>&lt;dbl&gt;</th></tr>\n",
              "</thead>\n",
              "<tbody>\n",
              "\t<tr><td>0.9999833</td><td>0.4557854</td></tr>\n",
              "</tbody>\n",
              "</table>\n"
            ],
            "text/markdown": "\nA data.frame: 1 × 2\n\n| Age &lt;dbl&gt; | pred &lt;dbl&gt; |\n|---|---|\n| 0.9999833 | 0.4557854 |\n\n",
            "text/latex": "A data.frame: 1 × 2\n\\begin{tabular}{ll}\n Age & pred\\\\\n <dbl> & <dbl>\\\\\n\\hline\n\t 0.9999833 & 0.4557854\\\\\n\\end{tabular}\n",
            "text/plain": [
              "  Age       pred     \n",
              "1 0.9999833 0.4557854"
            ]
          },
          "metadata": {}
        },
        {
          "output_type": "display_data",
          "data": {
            "text/html": [
              "0.456778143941184"
            ],
            "text/markdown": "0.456778143941184",
            "text/latex": "0.456778143941184",
            "text/plain": [
              "[1] 0.4567781"
            ]
          },
          "metadata": {}
        }
      ]
    },
    {
      "cell_type": "markdown",
      "metadata": {
        "id": "HS79-wyfuQ-G"
      },
      "source": [
        "### Visualizing the model \n",
        "\n",
        "There are a few ways we can visualize the output of logistic regression. With one continuous predictor, we can directly compare the predicted probability with the predictor value:"
      ]
    },
    {
      "cell_type": "code",
      "execution_count": 23,
      "metadata": {
        "id": "qYlKn528uQ-G",
        "outputId": "e85de012-43bf-4dfe-cda3-9efcaeb54498",
        "colab": {
          "base_uri": "https://localhost:8080/",
          "height": 293
        }
      },
      "outputs": [
        {
          "output_type": "stream",
          "name": "stderr",
          "text": [
            "Warning message:\n",
            "“\u001b[1m\u001b[22mRemoved 177 rows containing missing values (`geom_line()`).”\n"
          ]
        },
        {
          "output_type": "display_data",
          "data": {
            "text/plain": [
              "plot without title"
            ],
            "image/png": "[encoded data removed]"
          },
          "metadata": {
            "image/png": {
              "width": 360,
              "height": 240
            }
          }
        }
      ],
      "source": [
        "titanic_df2 %>% add_predictions(mdl, type = \"response\")  %>% ggplot() + geom_line(aes(x = Age, y = pred)) +\n",
        "    geom_rug(aes(x = Age, y = Survived, color = factor(Survived)))"
      ]
    },
    {
      "cell_type": "markdown",
      "metadata": {
        "id": "1VlXpgjjuQ-G"
      },
      "source": [
        "### Logistic regression with multiple predictors\n",
        "\n",
        "Just like with linear regression, multiple predictors can be added to logistic regression. The predicted log-odds becomes a multilinear function of the predictors:\n",
        "\n",
        "$$\\log \\left( \\frac{p}{1-p} \\right) = a_0 + a_1 x_1 + \\cdots + a_k x_k $$"
      ]
    },
    {
      "cell_type": "code",
      "execution_count": 24,
      "metadata": {
        "id": "TTVDp3huuQ-H",
        "outputId": "5d138fd8-2870-4958-d725-194c7cc58153",
        "colab": {
          "base_uri": "https://localhost:8080/",
          "height": 499
        }
      },
      "outputs": [
        {
          "output_type": "display_data",
          "data": {
            "text/plain": [
              "\n",
              "Call:\n",
              "glm(formula = factor(Survived) ~ Class + Age + Sex, family = \"binomial\", \n",
              "    data = titanic_df)\n",
              "\n",
              "Deviance Residuals: \n",
              "    Min       1Q   Median       3Q      Max  \n",
              "-2.0812  -0.7149  -0.6656   0.6858   2.1278  \n",
              "\n",
              "Coefficients:\n",
              "            Estimate Std. Error z value Pr(>|z|)    \n",
              "(Intercept)   2.0438     0.1679  12.171  < 2e-16 ***\n",
              "Class2nd     -1.0181     0.1960  -5.194 2.05e-07 ***\n",
              "Class3rd     -1.7778     0.1716 -10.362  < 2e-16 ***\n",
              "ClassCrew    -0.8577     0.1573  -5.451 5.00e-08 ***\n",
              "AgeChild      1.0615     0.2440   4.350 1.36e-05 ***\n",
              "SexMale      -2.4201     0.1404 -17.236  < 2e-16 ***\n",
              "---\n",
              "Signif. codes:  0 ‘***’ 0.001 ‘**’ 0.01 ‘*’ 0.05 ‘.’ 0.1 ‘ ’ 1\n",
              "\n",
              "(Dispersion parameter for binomial family taken to be 1)\n",
              "\n",
              "    Null deviance: 2769.5  on 2200  degrees of freedom\n",
              "Residual deviance: 2210.1  on 2195  degrees of freedom\n",
              "AIC: 2222.1\n",
              "\n",
              "Number of Fisher Scoring iterations: 4\n"
            ]
          },
          "metadata": {}
        }
      ],
      "source": [
        "mdl <- glm(factor(Survived) ~ Class + Age + Sex, data = titanic_df, family = \"binomial\")\n",
        "#                                                                   ^^^^^^ important! \n",
        "summary(mdl)"
      ]
    },
    {
      "cell_type": "markdown",
      "metadata": {
        "id": "hD62fhFHuQ-H"
      },
      "source": [
        "The model we are fitting here is:\n",
        "\n",
        "$$\\underbrace{ \\log\\left( \\frac{p_\\text{survival}}{1-p_\\text{survival}}  \\right)}_\\text{log odds ratio} = 2.04-1.02\\times\\texttt{\\{2nd class\\}}+\\cdots-2.42\\times \\texttt{male}$$"
      ]
    },
    {
      "cell_type": "markdown",
      "metadata": {
        "id": "fKqcqrlquQ-H"
      },
      "source": [
        "To be clear, the \"model\" for how the above data was generated is the following:\n",
        "1. First, I use all the predictors to form the log-odds ratio. For example, for an adult, male, third-class passenger, the predicted log-odds ratio is:"
      ]
    },
    {
      "cell_type": "code",
      "execution_count": 25,
      "metadata": {
        "id": "XnEUontruQ-H",
        "outputId": "0aba2634-8dc1-4d7f-da9a-69464117b3cb",
        "colab": {
          "base_uri": "https://localhost:8080/",
          "height": 286
        }
      },
      "outputs": [
        {
          "output_type": "display_data",
          "data": {
            "text/html": [
              "<table class=\"dataframe\">\n",
              "<caption>A tibble: 6 × 5</caption>\n",
              "<thead>\n",
              "\t<tr><th scope=col>Class</th><th scope=col>Sex</th><th scope=col>Age</th><th scope=col>Survived</th><th scope=col>pred</th></tr>\n",
              "\t<tr><th scope=col>&lt;chr&gt;</th><th scope=col>&lt;chr&gt;</th><th scope=col>&lt;chr&gt;</th><th scope=col>&lt;lgl&gt;</th><th scope=col>&lt;dbl&gt;</th></tr>\n",
              "</thead>\n",
              "<tbody>\n",
              "\t<tr><td>3rd</td><td>Male</td><td>Adult</td><td>FALSE</td><td>-2.153985</td></tr>\n",
              "\t<tr><td>3rd</td><td>Male</td><td>Adult</td><td>FALSE</td><td>-2.153985</td></tr>\n",
              "\t<tr><td>3rd</td><td>Male</td><td>Adult</td><td>FALSE</td><td>-2.153985</td></tr>\n",
              "\t<tr><td>3rd</td><td>Male</td><td>Adult</td><td>FALSE</td><td>-2.153985</td></tr>\n",
              "\t<tr><td>3rd</td><td>Male</td><td>Adult</td><td>FALSE</td><td>-2.153985</td></tr>\n",
              "\t<tr><td>3rd</td><td>Male</td><td>Adult</td><td>FALSE</td><td>-2.153985</td></tr>\n",
              "</tbody>\n",
              "</table>\n"
            ],
            "text/markdown": "\nA tibble: 6 × 5\n\n| Class &lt;chr&gt; | Sex &lt;chr&gt; | Age &lt;chr&gt; | Survived &lt;lgl&gt; | pred &lt;dbl&gt; |\n|---|---|---|---|---|\n| 3rd | Male | Adult | FALSE | -2.153985 |\n| 3rd | Male | Adult | FALSE | -2.153985 |\n| 3rd | Male | Adult | FALSE | -2.153985 |\n| 3rd | Male | Adult | FALSE | -2.153985 |\n| 3rd | Male | Adult | FALSE | -2.153985 |\n| 3rd | Male | Adult | FALSE | -2.153985 |\n\n",
            "text/latex": "A tibble: 6 × 5\n\\begin{tabular}{lllll}\n Class & Sex & Age & Survived & pred\\\\\n <chr> & <chr> & <chr> & <lgl> & <dbl>\\\\\n\\hline\n\t 3rd & Male & Adult & FALSE & -2.153985\\\\\n\t 3rd & Male & Adult & FALSE & -2.153985\\\\\n\t 3rd & Male & Adult & FALSE & -2.153985\\\\\n\t 3rd & Male & Adult & FALSE & -2.153985\\\\\n\t 3rd & Male & Adult & FALSE & -2.153985\\\\\n\t 3rd & Male & Adult & FALSE & -2.153985\\\\\n\\end{tabular}\n",
            "text/plain": [
              "  Class Sex  Age   Survived pred     \n",
              "1 3rd   Male Adult FALSE    -2.153985\n",
              "2 3rd   Male Adult FALSE    -2.153985\n",
              "3 3rd   Male Adult FALSE    -2.153985\n",
              "4 3rd   Male Adult FALSE    -2.153985\n",
              "5 3rd   Male Adult FALSE    -2.153985\n",
              "6 3rd   Male Adult FALSE    -2.153985"
            ]
          },
          "metadata": {}
        }
      ],
      "source": [
        "titanic_df %>% add_predictions(mdl) %>% \n",
        "    filter(Class == \"3rd\", Sex == \"Male\", Age == \"Adult\") %>% head"
      ]
    },
    {
      "cell_type": "markdown",
      "metadata": {
        "id": "acQ2CjquuQ-H"
      },
      "source": [
        "2. The log-odds ratio is -2.153985. The predicted probability of survival is obtained by solving \n",
        "\n",
        "$$\\log\\left(\\frac{p}{1-p}\\right) = -2.153985$$ for $p$. \n",
        "\n",
        "To do this we apply the logistic function $f(x)=1/(1+e^{-x})$ to both sides:\n",
        "\n",
        "$$p = \\frac{1}{1 + \\exp(2.153985)} = .104$$\n",
        "\n",
        "\n",
        "3. Flip a coin that has $p=.104$ of coming up heads. If the coin is heads, the model predicts survival; if not, ..."
      ]
    },
    {
      "cell_type": "markdown",
      "metadata": {
        "id": "Lp4wlTiUuQ-H"
      },
      "source": [
        "## 🤔 Quiz\n",
        "\n",
        "```\n",
        "Call:\n",
        "glm(formula = Survived ~ Class + Age + Sex, family = \"binomial\", \n",
        "    data = titanic_df)\n",
        "\n",
        "Coefficients:\n",
        "            Estimate Std. Error z value Pr(>|z|)    \n",
        "(Intercept)   2.0438     0.1679  12.171  < 2e-16 ***\n",
        "Class2nd     -1.0181     0.1960  -5.194 2.05e-07 ***\n",
        "Class3rd     -1.7778     0.1716 -10.362  < 2e-16 ***\n",
        "ClassCrew    -0.8577     0.1573  -5.451 5.00e-08 ***\n",
        "AgeChild      1.0615     0.2440   4.350 1.36e-05 ***\n",
        "SexMale      -2.4201     0.1404 -17.236  < 2e-16 ***\n",
        "```\n",
        "\n",
        "According to this model, what is the predicted probability that a first-class child female passenger survived?\n",
        "<ol style=\"list-style-type: upper-alpha;\">\n",
        "    <li>60-70%</li>\n",
        "    <li>70-80%</li>\n",
        "    <li>80-90%</li>\n",
        "    <li>&gt; 90%</li>\n",
        "</ol>"
      ]
    },
    {
      "cell_type": "code",
      "execution_count": null,
      "metadata": {
        "id": "hSnJnodFuQ-H"
      },
      "outputs": [],
      "source": [
        "# first class child female"
      ]
    },
    {
      "cell_type": "markdown",
      "metadata": {
        "id": "Dh8gplD6uQ-H"
      },
      "source": [
        "### ROC curve\n",
        "With multiple predictors, we can no longer easily visualize the logistic regression model as we did above. However, there is a very useful visualization for assessing its performance as a classifier called the receiver operating characteric (ROC) curve. To understand what this represents, let's add the predicted probabilities to our model:"
      ]
    },
    {
      "cell_type": "code",
      "execution_count": 27,
      "metadata": {
        "id": "mIlLLG9huQ-H",
        "outputId": "f56b1b13-915a-4048-d584-6bd33ac2b6b2",
        "colab": {
          "base_uri": "https://localhost:8080/"
        }
      },
      "outputs": [
        {
          "output_type": "stream",
          "name": "stdout",
          "text": [
            "\u001b[90m# A tibble: 2,201 × 5\u001b[39m\n",
            "   Class Sex   Age   Survived  pred\n",
            "   \u001b[3m\u001b[90m<chr>\u001b[39m\u001b[23m \u001b[3m\u001b[90m<chr>\u001b[39m\u001b[23m \u001b[3m\u001b[90m<chr>\u001b[39m\u001b[23m \u001b[3m\u001b[90m<lgl>\u001b[39m\u001b[23m    \u001b[3m\u001b[90m<dbl>\u001b[39m\u001b[23m\n",
            "\u001b[90m 1\u001b[39m 3rd   Male  Child FALSE    0.251\n",
            "\u001b[90m 2\u001b[39m 3rd   Male  Child FALSE    0.251\n",
            "\u001b[90m 3\u001b[39m 3rd   Male  Child FALSE    0.251\n",
            "\u001b[90m 4\u001b[39m 3rd   Male  Child FALSE    0.251\n",
            "\u001b[90m 5\u001b[39m 3rd   Male  Child FALSE    0.251\n",
            "\u001b[90m 6\u001b[39m 3rd   Male  Child FALSE    0.251\n",
            "\u001b[90m 7\u001b[39m 3rd   Male  Child FALSE    0.251\n",
            "\u001b[90m 8\u001b[39m 3rd   Male  Child FALSE    0.251\n",
            "\u001b[90m 9\u001b[39m 3rd   Male  Child FALSE    0.251\n",
            "\u001b[90m10\u001b[39m 3rd   Male  Child FALSE    0.251\n",
            "\u001b[90m# ℹ 2,191 more rows\u001b[39m\n"
          ]
        }
      ],
      "source": [
        "titanic_pred <- titanic_df %>% add_predictions(mdl, type = \"response\") %>% print"
      ]
    },
    {
      "cell_type": "markdown",
      "metadata": {
        "id": "QETRUF0YuQ-H"
      },
      "source": [
        "The output of logistic regression is a set of _probabilities_ (numbers between 0 and 1), whereas the observed value is either 0 or 1. To convert from probabilities to prediction of 0 or 1, most of use would probably use the common sense rule\n",
        "\n",
        "> Predict that Survived=1 if the predicted probability of survival is > 1/2."
      ]
    },
    {
      "cell_type": "code",
      "execution_count": 28,
      "metadata": {
        "id": "KqXZfxqzuQ-H",
        "outputId": "8f387cb5-89d2-4d0b-86f6-784fdd06008d",
        "colab": {
          "base_uri": "https://localhost:8080/",
          "height": 286
        }
      },
      "outputs": [
        {
          "output_type": "display_data",
          "data": {
            "text/html": [
              "<table class=\"dataframe\">\n",
              "<caption>A tibble: 6 × 6</caption>\n",
              "<thead>\n",
              "\t<tr><th scope=col>Class</th><th scope=col>Sex</th><th scope=col>Age</th><th scope=col>Survived</th><th scope=col>pred</th><th scope=col>Survived_hat</th></tr>\n",
              "\t<tr><th scope=col>&lt;chr&gt;</th><th scope=col>&lt;chr&gt;</th><th scope=col>&lt;chr&gt;</th><th scope=col>&lt;lgl&gt;</th><th scope=col>&lt;dbl&gt;</th><th scope=col>&lt;int&gt;</th></tr>\n",
              "</thead>\n",
              "<tbody>\n",
              "\t<tr><td>3rd</td><td>Male</td><td>Child</td><td>FALSE</td><td>0.2511586</td><td>0</td></tr>\n",
              "\t<tr><td>3rd</td><td>Male</td><td>Child</td><td>FALSE</td><td>0.2511586</td><td>0</td></tr>\n",
              "\t<tr><td>3rd</td><td>Male</td><td>Child</td><td>FALSE</td><td>0.2511586</td><td>0</td></tr>\n",
              "\t<tr><td>3rd</td><td>Male</td><td>Child</td><td>FALSE</td><td>0.2511586</td><td>0</td></tr>\n",
              "\t<tr><td>3rd</td><td>Male</td><td>Child</td><td>FALSE</td><td>0.2511586</td><td>0</td></tr>\n",
              "\t<tr><td>3rd</td><td>Male</td><td>Child</td><td>FALSE</td><td>0.2511586</td><td>0</td></tr>\n",
              "</tbody>\n",
              "</table>\n"
            ],
            "text/markdown": "\nA tibble: 6 × 6\n\n| Class &lt;chr&gt; | Sex &lt;chr&gt; | Age &lt;chr&gt; | Survived &lt;lgl&gt; | pred &lt;dbl&gt; | Survived_hat &lt;int&gt; |\n|---|---|---|---|---|---|\n| 3rd | Male | Child | FALSE | 0.2511586 | 0 |\n| 3rd | Male | Child | FALSE | 0.2511586 | 0 |\n| 3rd | Male | Child | FALSE | 0.2511586 | 0 |\n| 3rd | Male | Child | FALSE | 0.2511586 | 0 |\n| 3rd | Male | Child | FALSE | 0.2511586 | 0 |\n| 3rd | Male | Child | FALSE | 0.2511586 | 0 |\n\n",
            "text/latex": "A tibble: 6 × 6\n\\begin{tabular}{llllll}\n Class & Sex & Age & Survived & pred & Survived\\_hat\\\\\n <chr> & <chr> & <chr> & <lgl> & <dbl> & <int>\\\\\n\\hline\n\t 3rd & Male & Child & FALSE & 0.2511586 & 0\\\\\n\t 3rd & Male & Child & FALSE & 0.2511586 & 0\\\\\n\t 3rd & Male & Child & FALSE & 0.2511586 & 0\\\\\n\t 3rd & Male & Child & FALSE & 0.2511586 & 0\\\\\n\t 3rd & Male & Child & FALSE & 0.2511586 & 0\\\\\n\t 3rd & Male & Child & FALSE & 0.2511586 & 0\\\\\n\\end{tabular}\n",
            "text/plain": [
              "  Class Sex  Age   Survived pred      Survived_hat\n",
              "1 3rd   Male Child FALSE    0.2511586 0           \n",
              "2 3rd   Male Child FALSE    0.2511586 0           \n",
              "3 3rd   Male Child FALSE    0.2511586 0           \n",
              "4 3rd   Male Child FALSE    0.2511586 0           \n",
              "5 3rd   Male Child FALSE    0.2511586 0           \n",
              "6 3rd   Male Child FALSE    0.2511586 0           "
            ]
          },
          "metadata": {}
        }
      ],
      "source": [
        "titanic_pred %>% mutate(Survived_hat = as.integer(pred > 1/2)) %>% head"
      ]
    },
    {
      "cell_type": "code",
      "source": [
        "# confusion matrix \n",
        "# true class: cols: pos/neg\n",
        "# predicted class: rows: neg/pos\n",
        "# L to R, T to B: true cos count (TP), false pos count (FP), false neg count (FN), true neg count (TN)\n",
        "# the falses are errors "
      ],
      "metadata": {
        "id": "eL0TtfNn5cmr"
      },
      "execution_count": null,
      "outputs": []
    },
    {
      "cell_type": "markdown",
      "metadata": {
        "id": "mSWVDSL6uQ-H"
      },
      "source": [
        "To evaluate our classifier we'll think about two measures:\n",
        "\n",
        "- True positive rate: The percentage of people who are predicted to survive who in fact survived.\n",
        "- False positive rate: The percentage of people who are predicted to perish who in fact perished."
      ]
    },
    {
      "cell_type": "code",
      "execution_count": 29,
      "metadata": {
        "id": "zc64-pWTuQ-H",
        "outputId": "08013f60-ab5e-4964-ae17-0376bf756fa9",
        "colab": {
          "base_uri": "https://localhost:8080/",
          "height": 129
        }
      },
      "outputs": [
        {
          "output_type": "display_data",
          "data": {
            "text/html": [
              "<table class=\"dataframe\">\n",
              "<caption>A tibble: 1 × 2</caption>\n",
              "<thead>\n",
              "\t<tr><th scope=col>fpr</th><th scope=col>tpr</th></tr>\n",
              "\t<tr><th scope=col>&lt;dbl&gt;</th><th scope=col>&lt;dbl&gt;</th></tr>\n",
              "</thead>\n",
              "<tbody>\n",
              "\t<tr><td>0.1637584</td><td>0.5864979</td></tr>\n",
              "</tbody>\n",
              "</table>\n"
            ],
            "text/markdown": "\nA tibble: 1 × 2\n\n| fpr &lt;dbl&gt; | tpr &lt;dbl&gt; |\n|---|---|\n| 0.1637584 | 0.5864979 |\n\n",
            "text/latex": "A tibble: 1 × 2\n\\begin{tabular}{ll}\n fpr & tpr\\\\\n <dbl> & <dbl>\\\\\n\\hline\n\t 0.1637584 & 0.5864979\\\\\n\\end{tabular}\n",
            "text/plain": [
              "  fpr       tpr      \n",
              "1 0.1637584 0.5864979"
            ]
          },
          "metadata": {}
        }
      ],
      "source": [
        "titanic_pred %>% mutate(\n",
        "    Survived_hat = pred > .3,\n",
        "    Perished = !Survived, \n",
        "    Perished_hat = !Survived_hat,\n",
        "    tn = Perished_hat & Perished,  # true -\n",
        "    tp = Survived & Survived_hat,  # true +\n",
        "    fp = Survived_hat & Perished,  # false +\n",
        "    fn = Perished_hat & Survived   # false -\n",
        ") %>% summarize(\n",
        "    fpr = sum(fp) / (sum(fp) + sum(tn)),  # fraction of true - incorrectly classified as +,\n",
        "    tpr = sum(tp) / (sum(tp) + sum(fn))  # fraction of true + correctly classified as +\n",
        ")"
      ]
    },
    {
      "cell_type": "markdown",
      "metadata": {
        "id": "TB02kusluQ-H"
      },
      "source": [
        "When we choose an extreme high value of the threshold, our classification rule always predicts `Survival = 0`, it has a false-positive rate of zero. This is good; we want our classifier to make as few false-positive predictions as possible. \n",
        "\n",
        "However, it also has a true positive rate of zero! So it has no power to correctly predict that any of the true survivors in fact survived.\n",
        "\n",
        "Conversely, when we choose an extremely low value, it always predicts survival, so `TPR = FPR = 1`."
      ]
    },
    {
      "cell_type": "markdown",
      "metadata": {
        "id": "1Kv-Zx5vuQ-H"
      },
      "source": [
        "From the preceding discussion, we see that, given any probabilistic classifier, we can always make it have $\\text{FPR}=\\text{TPR}=1$ or $\\text{FPR}=\\text{TPR}=0$ by choosing an extreme probability cutoff. In other words, there is a tradeoff between having a good (i.e. close to zero) false-positive rate and a good (i.e. close to 1) true positive rate.\n",
        "\n",
        "The ROC curve is a visual summary of this tradeoff. It plots the false positive rate on the $x$-axis, and the true positive rate on the $y$ axis. "
      ]
    },
    {
      "cell_type": "code",
      "execution_count": null,
      "metadata": {
        "id": "Ju_RsrlKuQ-H",
        "outputId": "32208d4f-e84a-49cc-a004-6e5b76fafcdf"
      },
      "outputs": [
        {
          "data": {
            "image/png": "[encoded data removed]",
            "text/plain": [
              "plot without title"
            ]
          },
          "metadata": {
            "image/png": {
              "height": 300,
              "width": 480
            }
          },
          "output_type": "display_data"
        }
      ],
      "source": [
        "roc <- titanic_pred %>% roc_curve(factor(!Survived), pred)\n",
        "autoplot(roc)"
      ]
    },
    {
      "cell_type": "markdown",
      "metadata": {
        "id": "AVLv27YvuQ-H"
      },
      "source": [
        "The black curve plots the tradeoff between FPR and TPR as we vary the probability threshold of our classifier. The dotted line is $y=x$. The ROC curve should never dip below the dotted line (why?).\n",
        "\n",
        "ROC curves can be useful for comparing two different classifiers. Let's try building a second model containing more terms:"
      ]
    },
    {
      "cell_type": "code",
      "execution_count": null,
      "metadata": {
        "id": "sGry4XsmuQ-H",
        "outputId": "04d76751-1c70-4da5-98f1-bd464937228a"
      },
      "outputs": [
        {
          "data": {
            "text/plain": [
              "\n",
              "Call:  glm(formula = Survived ~ (Class + Age + Sex)^3, family = \"binomial\", \n",
              "    data = titanic_df)\n",
              "\n",
              "Coefficients:\n",
              "               (Intercept)                    Class2nd  \n",
              "                   3.55535                    -1.73827  \n",
              "                  Class3rd                   ClassCrew  \n",
              "                  -3.71325                    -1.65823  \n",
              "                  AgeChild                     SexMale  \n",
              "                  12.01072                    -4.28298  \n",
              "         Class2nd:AgeChild           Class3rd:AgeChild  \n",
              "                   1.73827                   -12.04697  \n",
              "        ClassCrew:AgeChild            Class2nd:SexMale  \n",
              "                        NA                     0.06801  \n",
              "          Class3rd:SexMale           ClassCrew:SexMale  \n",
              "                   2.79995                     1.13608  \n",
              "          AgeChild:SexMale   Class2nd:AgeChild:SexMale  \n",
              "                   4.28298                    -0.06801  \n",
              " Class3rd:AgeChild:SexMale  ClassCrew:AgeChild:SexMale  \n",
              "                  -3.59619                          NA  \n",
              "\n",
              "Degrees of Freedom: 2200 Total (i.e. Null);  2187 Residual\n",
              "Null Deviance:\t    2769 \n",
              "Residual Deviance: 2097 \tAIC: 2125"
            ]
          },
          "metadata": {},
          "output_type": "display_data"
        }
      ],
      "source": [
        "mdl2 <- glm(Survived ~ (Class + Age + Sex)^3, data = titanic_df, family = \"binomial\")\n",
        "mdl2"
      ]
    },
    {
      "cell_type": "markdown",
      "metadata": {
        "id": "4YYtcbW8uQ-I"
      },
      "source": [
        "Intuition tells us that this larger model should do a better job of classifying survivorship. To check this, we can compare ROC curves for the two models:"
      ]
    },
    {
      "cell_type": "code",
      "execution_count": null,
      "metadata": {
        "id": "RN3RCRjzuQ-I",
        "outputId": "577c5b16-1350-42e8-d6da-19a1ede4988e"
      },
      "outputs": [
        {
          "name": "stderr",
          "output_type": "stream",
          "text": [
            "Warning message in predict.lm(object, newdata, se.fit, scale = 1, type = if (type == :\n",
            "“prediction from a rank-deficient fit may be misleading”\n"
          ]
        },
        {
          "data": {
            "image/png": "[encoded data removed]",
            "text/plain": [
              "plot without title"
            ]
          },
          "metadata": {
            "image/png": {
              "height": 300,
              "width": 480
            }
          },
          "output_type": "display_data"
        }
      ],
      "source": [
        "roc2 <- titanic_df %>% add_predictions(mdl2) %>% roc_curve(factor(!Survived), pred)\n",
        "autoplot(roc2)"
      ]
    },
    {
      "cell_type": "code",
      "execution_count": null,
      "metadata": {
        "id": "qmKkv_4euQ-I",
        "outputId": "89d24cba-fb16-443b-bb5e-61d26271b601"
      },
      "outputs": [
        {
          "data": {
            "image/png": "[encoded data removed]",
            "text/plain": [
              "plot without title"
            ]
          },
          "metadata": {
            "image/png": {
              "height": 300,
              "width": 480
            }
          },
          "output_type": "display_data"
        }
      ],
      "source": [
        "bind_rows(mutate(roc, model=1), mutate(roc2, model=2)) %>% \n",
        "    ggplot(aes(x = 1 - specificity, y = sensitivity, color = factor(model))) + geom_line() +\n",
        "    coord_equal() + geom_abline(linetype=\"dotted\")"
      ]
    },
    {
      "cell_type": "markdown",
      "metadata": {
        "id": "Sra56TCjuQ-I"
      },
      "source": [
        "### Area under curve\n",
        "A useful summary of the ROC curve is the area under the curve (AUC), which ranges between 1/2 and 1. A classifier that has AUC=1 can perfectly classify the data since it achieves TPR=1 and FPR=0."
      ]
    },
    {
      "cell_type": "code",
      "execution_count": null,
      "metadata": {
        "id": "dq3JS605uQ-I",
        "outputId": "8b83c7e6-4927-4210-bd23-19544c9dfc7c"
      },
      "outputs": [
        {
          "data": {
            "text/html": [
              "<table class=\"dataframe\">\n",
              "<caption>A tibble: 1 × 3</caption>\n",
              "<thead>\n",
              "\t<tr><th scope=col>.metric</th><th scope=col>.estimator</th><th scope=col>.estimate</th></tr>\n",
              "\t<tr><th scope=col>&lt;chr&gt;</th><th scope=col>&lt;chr&gt;</th><th scope=col>&lt;dbl&gt;</th></tr>\n",
              "</thead>\n",
              "<tbody>\n",
              "\t<tr><td>roc_auc</td><td>binary</td><td>0.7597259</td></tr>\n",
              "</tbody>\n",
              "</table>\n"
            ],
            "text/latex": [
              "A tibble: 1 × 3\n",
              "\\begin{tabular}{lll}\n",
              " .metric & .estimator & .estimate\\\\\n",
              " <chr> & <chr> & <dbl>\\\\\n",
              "\\hline\n",
              "\t roc\\_auc & binary & 0.7597259\\\\\n",
              "\\end{tabular}\n"
            ],
            "text/markdown": [
              "\n",
              "A tibble: 1 × 3\n",
              "\n",
              "| .metric &lt;chr&gt; | .estimator &lt;chr&gt; | .estimate &lt;dbl&gt; |\n",
              "|---|---|---|\n",
              "| roc_auc | binary | 0.7597259 |\n",
              "\n"
            ],
            "text/plain": [
              "  .metric .estimator .estimate\n",
              "1 roc_auc binary     0.7597259"
            ]
          },
          "metadata": {},
          "output_type": "display_data"
        },
        {
          "name": "stderr",
          "output_type": "stream",
          "text": [
            "Warning message in predict.lm(object, newdata, se.fit, scale = 1, type = if (type == :\n",
            "“prediction from a rank-deficient fit may be misleading”\n"
          ]
        },
        {
          "data": {
            "text/html": [
              "<table class=\"dataframe\">\n",
              "<caption>A tibble: 1 × 3</caption>\n",
              "<thead>\n",
              "\t<tr><th scope=col>.metric</th><th scope=col>.estimator</th><th scope=col>.estimate</th></tr>\n",
              "\t<tr><th scope=col>&lt;chr&gt;</th><th scope=col>&lt;chr&gt;</th><th scope=col>&lt;dbl&gt;</th></tr>\n",
              "</thead>\n",
              "<tbody>\n",
              "\t<tr><td>roc_auc</td><td>binary</td><td>0.7684337</td></tr>\n",
              "</tbody>\n",
              "</table>\n"
            ],
            "text/latex": [
              "A tibble: 1 × 3\n",
              "\\begin{tabular}{lll}\n",
              " .metric & .estimator & .estimate\\\\\n",
              " <chr> & <chr> & <dbl>\\\\\n",
              "\\hline\n",
              "\t roc\\_auc & binary & 0.7684337\\\\\n",
              "\\end{tabular}\n"
            ],
            "text/markdown": [
              "\n",
              "A tibble: 1 × 3\n",
              "\n",
              "| .metric &lt;chr&gt; | .estimator &lt;chr&gt; | .estimate &lt;dbl&gt; |\n",
              "|---|---|---|\n",
              "| roc_auc | binary | 0.7684337 |\n",
              "\n"
            ],
            "text/plain": [
              "  .metric .estimator .estimate\n",
              "1 roc_auc binary     0.7684337"
            ]
          },
          "metadata": {},
          "output_type": "display_data"
        }
      ],
      "source": [
        "titanic_df %>% add_predictions(mdl) %>% roc_auc(factor(!Survived), pred)\n",
        "titanic_df %>% add_predictions(mdl2) %>% roc_auc(factor(!Survived), pred)"
      ]
    },
    {
      "cell_type": "markdown",
      "metadata": {
        "id": "fE5fu6LMuQ-I"
      },
      "source": [
        "## Who will win?\n",
        "![image.png](attachment:image.png)\n",
        "Tonight is the final game of March Madness: UConn will play San Diego State for the national championship. Who will win the game? Given some data about each team, can we build a statistical model that predicts who will win?"
      ]
    },
    {
      "cell_type": "code",
      "execution_count": null,
      "metadata": {
        "id": "Icw_FG2RuQ-I"
      },
      "outputs": [],
      "source": [
        "load(url('https://datasets.stats306.org/ncaa.RData'))"
      ]
    },
    {
      "cell_type": "markdown",
      "metadata": {
        "id": "8FmGFBN4uQ-I"
      },
      "source": [
        "This command loads three tables:\n",
        "- `ncaa_games`: outcomes of every game from 2002-2018.\n",
        "- `ncaa_players`: all players and their stats for the same time period.\n",
        "- `ncaa_schools`: table mapping schools to their numerical ID."
      ]
    },
    {
      "cell_type": "code",
      "execution_count": null,
      "metadata": {
        "id": "KMxYbotWuQ-I",
        "outputId": "0decd360-ffc0-4b34-eb30-9b7604e3a2e0"
      },
      "outputs": [
        {
          "data": {
            "text/html": [
              "<table class=\"dataframe\">\n",
              "<caption>A tibble: 6 × 11</caption>\n",
              "<thead>\n",
              "\t<tr><th scope=col>opponent_name</th><th scope=col>game_date</th><th scope=col>score</th><th scope=col>opponent_score</th><th scope=col>location</th><th scope=col>neutral_site_location</th><th scope=col>game_length</th><th scope=col>attendence</th><th scope=col>opponent_id</th><th scope=col>year</th><th scope=col>school_id</th></tr>\n",
              "\t<tr><th scope=col>&lt;chr&gt;</th><th scope=col>&lt;date&gt;</th><th scope=col>&lt;int&gt;</th><th scope=col>&lt;int&gt;</th><th scope=col>&lt;fct&gt;</th><th scope=col>&lt;chr&gt;</th><th scope=col>&lt;fct&gt;</th><th scope=col>&lt;int&gt;</th><th scope=col>&lt;int&gt;</th><th scope=col>&lt;int&gt;</th><th scope=col>&lt;int&gt;</th></tr>\n",
              "</thead>\n",
              "<tbody>\n",
              "\t<tr><td>Sul Ross St.  </td><td>2001-11-16</td><td>93</td><td>59</td><td>Home</td><td>NA</td><td>NA</td><td> 2041</td><td>1390</td><td>2002</td><td>26172</td></tr>\n",
              "\t<tr><td>Texas St.     </td><td>2001-11-25</td><td>89</td><td>99</td><td>Home</td><td>NA</td><td>NA</td><td> 1493</td><td> 670</td><td>2002</td><td>26172</td></tr>\n",
              "\t<tr><td>Loyola Chicago</td><td>2001-11-29</td><td>66</td><td>86</td><td>Away</td><td>NA</td><td>NA</td><td> 1128</td><td> 371</td><td>2002</td><td>26172</td></tr>\n",
              "\t<tr><td>Illinois      </td><td>2001-12-01</td><td>56</td><td>80</td><td>Away</td><td>NA</td><td>NA</td><td>16500</td><td> 301</td><td>2002</td><td>26172</td></tr>\n",
              "\t<tr><td>Texas         </td><td>2001-12-05</td><td>64</td><td>89</td><td>Away</td><td>NA</td><td>NA</td><td> 6099</td><td> 703</td><td>2002</td><td>26172</td></tr>\n",
              "\t<tr><td>UTEP          </td><td>2001-12-08</td><td>56</td><td>82</td><td>Away</td><td>NA</td><td>NA</td><td> 6203</td><td> 704</td><td>2002</td><td>26172</td></tr>\n",
              "</tbody>\n",
              "</table>\n"
            ],
            "text/latex": [
              "A tibble: 6 × 11\n",
              "\\begin{tabular}{lllllllllll}\n",
              " opponent\\_name & game\\_date & score & opponent\\_score & location & neutral\\_site\\_location & game\\_length & attendence & opponent\\_id & year & school\\_id\\\\\n",
              " <chr> & <date> & <int> & <int> & <fct> & <chr> & <fct> & <int> & <int> & <int> & <int>\\\\\n",
              "\\hline\n",
              "\t Sul Ross St.   & 2001-11-16 & 93 & 59 & Home & NA & NA &  2041 & 1390 & 2002 & 26172\\\\\n",
              "\t Texas St.      & 2001-11-25 & 89 & 99 & Home & NA & NA &  1493 &  670 & 2002 & 26172\\\\\n",
              "\t Loyola Chicago & 2001-11-29 & 66 & 86 & Away & NA & NA &  1128 &  371 & 2002 & 26172\\\\\n",
              "\t Illinois       & 2001-12-01 & 56 & 80 & Away & NA & NA & 16500 &  301 & 2002 & 26172\\\\\n",
              "\t Texas          & 2001-12-05 & 64 & 89 & Away & NA & NA &  6099 &  703 & 2002 & 26172\\\\\n",
              "\t UTEP           & 2001-12-08 & 56 & 82 & Away & NA & NA &  6203 &  704 & 2002 & 26172\\\\\n",
              "\\end{tabular}\n"
            ],
            "text/markdown": [
              "\n",
              "A tibble: 6 × 11\n",
              "\n",
              "| opponent_name &lt;chr&gt; | game_date &lt;date&gt; | score &lt;int&gt; | opponent_score &lt;int&gt; | location &lt;fct&gt; | neutral_site_location &lt;chr&gt; | game_length &lt;fct&gt; | attendence &lt;int&gt; | opponent_id &lt;int&gt; | year &lt;int&gt; | school_id &lt;int&gt; |\n",
              "|---|---|---|---|---|---|---|---|---|---|---|\n",
              "| Sul Ross St.   | 2001-11-16 | 93 | 59 | Home | NA | NA |  2041 | 1390 | 2002 | 26172 |\n",
              "| Texas St.      | 2001-11-25 | 89 | 99 | Home | NA | NA |  1493 |  670 | 2002 | 26172 |\n",
              "| Loyola Chicago | 2001-11-29 | 66 | 86 | Away | NA | NA |  1128 |  371 | 2002 | 26172 |\n",
              "| Illinois       | 2001-12-01 | 56 | 80 | Away | NA | NA | 16500 |  301 | 2002 | 26172 |\n",
              "| Texas          | 2001-12-05 | 64 | 89 | Away | NA | NA |  6099 |  703 | 2002 | 26172 |\n",
              "| UTEP           | 2001-12-08 | 56 | 82 | Away | NA | NA |  6203 |  704 | 2002 | 26172 |\n",
              "\n"
            ],
            "text/plain": [
              "  opponent_name  game_date  score opponent_score location neutral_site_location\n",
              "1 Sul Ross St.   2001-11-16 93    59             Home     NA                   \n",
              "2 Texas St.      2001-11-25 89    99             Home     NA                   \n",
              "3 Loyola Chicago 2001-11-29 66    86             Away     NA                   \n",
              "4 Illinois       2001-12-01 56    80             Away     NA                   \n",
              "5 Texas          2001-12-05 64    89             Away     NA                   \n",
              "6 UTEP           2001-12-08 56    82             Away     NA                   \n",
              "  game_length attendence opponent_id year school_id\n",
              "1 NA           2041      1390        2002 26172    \n",
              "2 NA           1493       670        2002 26172    \n",
              "3 NA           1128       371        2002 26172    \n",
              "4 NA          16500       301        2002 26172    \n",
              "5 NA           6099       703        2002 26172    \n",
              "6 NA           6203       704        2002 26172    "
            ]
          },
          "metadata": {},
          "output_type": "display_data"
        }
      ],
      "source": [
        "ncaa_games %>% head"
      ]
    },
    {
      "cell_type": "code",
      "execution_count": null,
      "metadata": {
        "id": "WEeyBGv1uQ-I",
        "outputId": "7ce90844-8058-4cd8-cc35-4eae7a6b3cb3"
      },
      "outputs": [
        {
          "data": {
            "text/html": [
              "<table class=\"dataframe\">\n",
              "<caption>A spec_tbl_df: 2 × 2</caption>\n",
              "<thead>\n",
              "\t<tr><th scope=col>school_id</th><th scope=col>school_name</th></tr>\n",
              "\t<tr><th scope=col>&lt;int&gt;</th><th scope=col>&lt;chr&gt;</th></tr>\n",
              "</thead>\n",
              "<tbody>\n",
              "\t<tr><td>26172</td><td>A&amp;M-Corpus Christi</td></tr>\n",
              "\t<tr><td> 1390</td><td>Sul Ross St.      </td></tr>\n",
              "</tbody>\n",
              "</table>\n"
            ],
            "text/latex": [
              "A spec\\_tbl\\_df: 2 × 2\n",
              "\\begin{tabular}{ll}\n",
              " school\\_id & school\\_name\\\\\n",
              " <int> & <chr>\\\\\n",
              "\\hline\n",
              "\t 26172 & A\\&M-Corpus Christi\\\\\n",
              "\t  1390 & Sul Ross St.      \\\\\n",
              "\\end{tabular}\n"
            ],
            "text/markdown": [
              "\n",
              "A spec_tbl_df: 2 × 2\n",
              "\n",
              "| school_id &lt;int&gt; | school_name &lt;chr&gt; |\n",
              "|---|---|\n",
              "| 26172 | A&amp;M-Corpus Christi |\n",
              "|  1390 | Sul Ross St.       |\n",
              "\n"
            ],
            "text/plain": [
              "  school_id school_name       \n",
              "1 26172     A&M-Corpus Christi\n",
              "2  1390     Sul Ross St.      "
            ]
          },
          "metadata": {},
          "output_type": "display_data"
        }
      ],
      "source": [
        "ncaa_schools %>% filter(school_id %in% c(1390, 26172))"
      ]
    },
    {
      "cell_type": "code",
      "execution_count": null,
      "metadata": {
        "id": "ujhBqO1PuQ-I",
        "outputId": "35e2d396-35ba-4167-f78c-936ee419e4e4"
      },
      "outputs": [
        {
          "data": {
            "text/html": [
              "<table class=\"dataframe\">\n",
              "<caption>A tibble: 6 × 31</caption>\n",
              "<thead>\n",
              "\t<tr><th scope=col>player_name</th><th scope=col>class</th><th scope=col>season</th><th scope=col>position</th><th scope=col>height</th><th scope=col>g</th><th scope=col>fg_made</th><th scope=col>fg_attempts</th><th scope=col>fg_percent</th><th scope=col>3pt_made</th><th scope=col>⋯</th><th scope=col>steals_num</th><th scope=col>steals_avg</th><th scope=col>points_num</th><th scope=col>points_avg</th><th scope=col>turnovers</th><th scope=col>dd</th><th scope=col>td</th><th scope=col>player_id</th><th scope=col>year</th><th scope=col>school_id</th></tr>\n",
              "\t<tr><th scope=col>&lt;chr&gt;</th><th scope=col>&lt;chr&gt;</th><th scope=col>&lt;chr&gt;</th><th scope=col>&lt;chr&gt;</th><th scope=col>&lt;dbl&gt;</th><th scope=col>&lt;dbl&gt;</th><th scope=col>&lt;dbl&gt;</th><th scope=col>&lt;dbl&gt;</th><th scope=col>&lt;dbl&gt;</th><th scope=col>&lt;dbl&gt;</th><th scope=col>⋯</th><th scope=col>&lt;dbl&gt;</th><th scope=col>&lt;dbl&gt;</th><th scope=col>&lt;dbl&gt;</th><th scope=col>&lt;dbl&gt;</th><th scope=col>&lt;dbl&gt;</th><th scope=col>&lt;dbl&gt;</th><th scope=col>&lt;dbl&gt;</th><th scope=col>&lt;int&gt;</th><th scope=col>&lt;int&gt;</th><th scope=col>&lt;int&gt;</th></tr>\n",
              "</thead>\n",
              "<tbody>\n",
              "\t<tr><td>Brown, Jeremy  </td><td>Fr.</td><td>2001-02</td><td>F </td><td>79</td><td>26</td><td> 87</td><td>152</td><td>57.237</td><td> 0</td><td>⋯</td><td>17</td><td>0.654</td><td>217</td><td> 8.346</td><td>NA</td><td>NA</td><td>NA</td><td>110758</td><td>2002</td><td>2</td></tr>\n",
              "\t<tr><td>Coleman, Ryan  </td><td>So.</td><td>2001-02</td><td>NA</td><td>NA</td><td>24</td><td> 32</td><td> 86</td><td>37.209</td><td>14</td><td>⋯</td><td>29</td><td>1.208</td><td> 97</td><td> 4.042</td><td>NA</td><td>NA</td><td>NA</td><td> 61265</td><td>2002</td><td>2</td></tr>\n",
              "\t<tr><td>Johnson, Jeff  </td><td>Fr.</td><td>2001-02</td><td>F </td><td>77</td><td>26</td><td> 78</td><td>158</td><td>49.367</td><td> 0</td><td>⋯</td><td>20</td><td>0.769</td><td>229</td><td> 8.808</td><td>NA</td><td>NA</td><td>NA</td><td>162714</td><td>2002</td><td>2</td></tr>\n",
              "\t<tr><td>Johnson, Howard</td><td>So.</td><td>2001-02</td><td>NA</td><td>NA</td><td>24</td><td> 80</td><td>222</td><td>36.036</td><td>43</td><td>⋯</td><td>34</td><td>1.417</td><td>232</td><td> 9.667</td><td>NA</td><td>NA</td><td>NA</td><td> 61260</td><td>2002</td><td>2</td></tr>\n",
              "\t<tr><td>Knight, Calvin </td><td>Fr.</td><td>2001-02</td><td>C </td><td>78</td><td>26</td><td> 49</td><td>141</td><td>34.752</td><td>13</td><td>⋯</td><td>19</td><td>0.731</td><td>133</td><td> 5.115</td><td>NA</td><td>NA</td><td>NA</td><td>162716</td><td>2002</td><td>2</td></tr>\n",
              "\t<tr><td>Lee, Rodney    </td><td>Sr.</td><td>2001-02</td><td>G </td><td>75</td><td>26</td><td>119</td><td>301</td><td>39.535</td><td>64</td><td>⋯</td><td>28</td><td>1.077</td><td>353</td><td>13.577</td><td>NA</td><td>NA</td><td>NA</td><td>473441</td><td>2002</td><td>2</td></tr>\n",
              "</tbody>\n",
              "</table>\n"
            ],
            "text/latex": [
              "A tibble: 6 × 31\n",
              "\\begin{tabular}{lllllllllllllllllllll}\n",
              " player\\_name & class & season & position & height & g & fg\\_made & fg\\_attempts & fg\\_percent & 3pt\\_made & ⋯ & steals\\_num & steals\\_avg & points\\_num & points\\_avg & turnovers & dd & td & player\\_id & year & school\\_id\\\\\n",
              " <chr> & <chr> & <chr> & <chr> & <dbl> & <dbl> & <dbl> & <dbl> & <dbl> & <dbl> & ⋯ & <dbl> & <dbl> & <dbl> & <dbl> & <dbl> & <dbl> & <dbl> & <int> & <int> & <int>\\\\\n",
              "\\hline\n",
              "\t Brown, Jeremy   & Fr. & 2001-02 & F  & 79 & 26 &  87 & 152 & 57.237 &  0 & ⋯ & 17 & 0.654 & 217 &  8.346 & NA & NA & NA & 110758 & 2002 & 2\\\\\n",
              "\t Coleman, Ryan   & So. & 2001-02 & NA & NA & 24 &  32 &  86 & 37.209 & 14 & ⋯ & 29 & 1.208 &  97 &  4.042 & NA & NA & NA &  61265 & 2002 & 2\\\\\n",
              "\t Johnson, Jeff   & Fr. & 2001-02 & F  & 77 & 26 &  78 & 158 & 49.367 &  0 & ⋯ & 20 & 0.769 & 229 &  8.808 & NA & NA & NA & 162714 & 2002 & 2\\\\\n",
              "\t Johnson, Howard & So. & 2001-02 & NA & NA & 24 &  80 & 222 & 36.036 & 43 & ⋯ & 34 & 1.417 & 232 &  9.667 & NA & NA & NA &  61260 & 2002 & 2\\\\\n",
              "\t Knight, Calvin  & Fr. & 2001-02 & C  & 78 & 26 &  49 & 141 & 34.752 & 13 & ⋯ & 19 & 0.731 & 133 &  5.115 & NA & NA & NA & 162716 & 2002 & 2\\\\\n",
              "\t Lee, Rodney     & Sr. & 2001-02 & G  & 75 & 26 & 119 & 301 & 39.535 & 64 & ⋯ & 28 & 1.077 & 353 & 13.577 & NA & NA & NA & 473441 & 2002 & 2\\\\\n",
              "\\end{tabular}\n"
            ],
            "text/markdown": [
              "\n",
              "A tibble: 6 × 31\n",
              "\n",
              "| player_name &lt;chr&gt; | class &lt;chr&gt; | season &lt;chr&gt; | position &lt;chr&gt; | height &lt;dbl&gt; | g &lt;dbl&gt; | fg_made &lt;dbl&gt; | fg_attempts &lt;dbl&gt; | fg_percent &lt;dbl&gt; | 3pt_made &lt;dbl&gt; | ⋯ ⋯ | steals_num &lt;dbl&gt; | steals_avg &lt;dbl&gt; | points_num &lt;dbl&gt; | points_avg &lt;dbl&gt; | turnovers &lt;dbl&gt; | dd &lt;dbl&gt; | td &lt;dbl&gt; | player_id &lt;int&gt; | year &lt;int&gt; | school_id &lt;int&gt; |\n",
              "|---|---|---|---|---|---|---|---|---|---|---|---|---|---|---|---|---|---|---|---|---|\n",
              "| Brown, Jeremy   | Fr. | 2001-02 | F  | 79 | 26 |  87 | 152 | 57.237 |  0 | ⋯ | 17 | 0.654 | 217 |  8.346 | NA | NA | NA | 110758 | 2002 | 2 |\n",
              "| Coleman, Ryan   | So. | 2001-02 | NA | NA | 24 |  32 |  86 | 37.209 | 14 | ⋯ | 29 | 1.208 |  97 |  4.042 | NA | NA | NA |  61265 | 2002 | 2 |\n",
              "| Johnson, Jeff   | Fr. | 2001-02 | F  | 77 | 26 |  78 | 158 | 49.367 |  0 | ⋯ | 20 | 0.769 | 229 |  8.808 | NA | NA | NA | 162714 | 2002 | 2 |\n",
              "| Johnson, Howard | So. | 2001-02 | NA | NA | 24 |  80 | 222 | 36.036 | 43 | ⋯ | 34 | 1.417 | 232 |  9.667 | NA | NA | NA |  61260 | 2002 | 2 |\n",
              "| Knight, Calvin  | Fr. | 2001-02 | C  | 78 | 26 |  49 | 141 | 34.752 | 13 | ⋯ | 19 | 0.731 | 133 |  5.115 | NA | NA | NA | 162716 | 2002 | 2 |\n",
              "| Lee, Rodney     | Sr. | 2001-02 | G  | 75 | 26 | 119 | 301 | 39.535 | 64 | ⋯ | 28 | 1.077 | 353 | 13.577 | NA | NA | NA | 473441 | 2002 | 2 |\n",
              "\n"
            ],
            "text/plain": [
              "  player_name     class season  position height g  fg_made fg_attempts\n",
              "1 Brown, Jeremy   Fr.   2001-02 F        79     26  87     152        \n",
              "2 Coleman, Ryan   So.   2001-02 NA       NA     24  32      86        \n",
              "3 Johnson, Jeff   Fr.   2001-02 F        77     26  78     158        \n",
              "4 Johnson, Howard So.   2001-02 NA       NA     24  80     222        \n",
              "5 Knight, Calvin  Fr.   2001-02 C        78     26  49     141        \n",
              "6 Lee, Rodney     Sr.   2001-02 G        75     26 119     301        \n",
              "  fg_percent 3pt_made ⋯ steals_num steals_avg points_num points_avg turnovers\n",
              "1 57.237      0       ⋯ 17         0.654      217         8.346     NA       \n",
              "2 37.209     14       ⋯ 29         1.208       97         4.042     NA       \n",
              "3 49.367      0       ⋯ 20         0.769      229         8.808     NA       \n",
              "4 36.036     43       ⋯ 34         1.417      232         9.667     NA       \n",
              "5 34.752     13       ⋯ 19         0.731      133         5.115     NA       \n",
              "6 39.535     64       ⋯ 28         1.077      353        13.577     NA       \n",
              "  dd td player_id year school_id\n",
              "1 NA NA 110758    2002 2        \n",
              "2 NA NA  61265    2002 2        \n",
              "3 NA NA 162714    2002 2        \n",
              "4 NA NA  61260    2002 2        \n",
              "5 NA NA 162716    2002 2        \n",
              "6 NA NA 473441    2002 2        "
            ]
          },
          "metadata": {},
          "output_type": "display_data"
        }
      ],
      "source": [
        "ncaa_players %>% head"
      ]
    },
    {
      "cell_type": "code",
      "execution_count": null,
      "metadata": {
        "id": "9qrIXL33uQ-I",
        "outputId": "e49a2195-77e4-4bff-d02a-466096d09eb1"
      },
      "outputs": [
        {
          "data": {
            "text/html": [
              "<table class=\"dataframe\">\n",
              "<caption>A matrix: 31 × 1 of type chr</caption>\n",
              "<tbody>\n",
              "\t<tr><th scope=row>player_name</th><td>Brown, Jeremy</td></tr>\n",
              "\t<tr><th scope=row>class</th><td>Fr.          </td></tr>\n",
              "\t<tr><th scope=row>season</th><td>2001-02      </td></tr>\n",
              "\t<tr><th scope=row>position</th><td>F            </td></tr>\n",
              "\t<tr><th scope=row>height</th><td>79           </td></tr>\n",
              "\t<tr><th scope=row>g</th><td>26           </td></tr>\n",
              "\t<tr><th scope=row>fg_made</th><td>87           </td></tr>\n",
              "\t<tr><th scope=row>fg_attempts</th><td>152          </td></tr>\n",
              "\t<tr><th scope=row>fg_percent</th><td>57.237       </td></tr>\n",
              "\t<tr><th scope=row>3pt_made</th><td>0            </td></tr>\n",
              "\t<tr><th scope=row>3pt_attempts</th><td>1            </td></tr>\n",
              "\t<tr><th scope=row>3pt_percent</th><td>0            </td></tr>\n",
              "\t<tr><th scope=row>freethrows_made</th><td>43           </td></tr>\n",
              "\t<tr><th scope=row>freethrows_attempts</th><td>55           </td></tr>\n",
              "\t<tr><th scope=row>freethrows_percent</th><td>78.182       </td></tr>\n",
              "\t<tr><th scope=row>rebounds_num</th><td>128          </td></tr>\n",
              "\t<tr><th scope=row>rebounds_avg</th><td>4.923        </td></tr>\n",
              "\t<tr><th scope=row>assists_num</th><td>35           </td></tr>\n",
              "\t<tr><th scope=row>assists_avg</th><td>1.346        </td></tr>\n",
              "\t<tr><th scope=row>blocks_num</th><td>28           </td></tr>\n",
              "\t<tr><th scope=row>blocks_avg</th><td>1.077        </td></tr>\n",
              "\t<tr><th scope=row>steals_num</th><td>17           </td></tr>\n",
              "\t<tr><th scope=row>steals_avg</th><td>0.654        </td></tr>\n",
              "\t<tr><th scope=row>points_num</th><td>217          </td></tr>\n",
              "\t<tr><th scope=row>points_avg</th><td>8.346        </td></tr>\n",
              "\t<tr><th scope=row>turnovers</th><td>NA           </td></tr>\n",
              "\t<tr><th scope=row>dd</th><td>NA           </td></tr>\n",
              "\t<tr><th scope=row>td</th><td>NA           </td></tr>\n",
              "\t<tr><th scope=row>player_id</th><td>110758       </td></tr>\n",
              "\t<tr><th scope=row>year</th><td>2002         </td></tr>\n",
              "\t<tr><th scope=row>school_id</th><td>2            </td></tr>\n",
              "</tbody>\n",
              "</table>\n"
            ],
            "text/latex": [
              "A matrix: 31 × 1 of type chr\n",
              "\\begin{tabular}{r|l}\n",
              "\tplayer\\_name & Brown, Jeremy\\\\\n",
              "\tclass & Fr.          \\\\\n",
              "\tseason & 2001-02      \\\\\n",
              "\tposition & F            \\\\\n",
              "\theight & 79           \\\\\n",
              "\tg & 26           \\\\\n",
              "\tfg\\_made & 87           \\\\\n",
              "\tfg\\_attempts & 152          \\\\\n",
              "\tfg\\_percent & 57.237       \\\\\n",
              "\t3pt\\_made & 0            \\\\\n",
              "\t3pt\\_attempts & 1            \\\\\n",
              "\t3pt\\_percent & 0            \\\\\n",
              "\tfreethrows\\_made & 43           \\\\\n",
              "\tfreethrows\\_attempts & 55           \\\\\n",
              "\tfreethrows\\_percent & 78.182       \\\\\n",
              "\trebounds\\_num & 128          \\\\\n",
              "\trebounds\\_avg & 4.923        \\\\\n",
              "\tassists\\_num & 35           \\\\\n",
              "\tassists\\_avg & 1.346        \\\\\n",
              "\tblocks\\_num & 28           \\\\\n",
              "\tblocks\\_avg & 1.077        \\\\\n",
              "\tsteals\\_num & 17           \\\\\n",
              "\tsteals\\_avg & 0.654        \\\\\n",
              "\tpoints\\_num & 217          \\\\\n",
              "\tpoints\\_avg & 8.346        \\\\\n",
              "\tturnovers & NA           \\\\\n",
              "\tdd & NA           \\\\\n",
              "\ttd & NA           \\\\\n",
              "\tplayer\\_id & 110758       \\\\\n",
              "\tyear & 2002         \\\\\n",
              "\tschool\\_id & 2            \\\\\n",
              "\\end{tabular}\n"
            ],
            "text/markdown": [
              "\n",
              "A matrix: 31 × 1 of type chr\n",
              "\n",
              "| player_name | Brown, Jeremy |\n",
              "| class | Fr.           |\n",
              "| season | 2001-02       |\n",
              "| position | F             |\n",
              "| height | 79            |\n",
              "| g | 26            |\n",
              "| fg_made | 87            |\n",
              "| fg_attempts | 152           |\n",
              "| fg_percent | 57.237        |\n",
              "| 3pt_made | 0             |\n",
              "| 3pt_attempts | 1             |\n",
              "| 3pt_percent | 0             |\n",
              "| freethrows_made | 43            |\n",
              "| freethrows_attempts | 55            |\n",
              "| freethrows_percent | 78.182        |\n",
              "| rebounds_num | 128           |\n",
              "| rebounds_avg | 4.923         |\n",
              "| assists_num | 35            |\n",
              "| assists_avg | 1.346         |\n",
              "| blocks_num | 28            |\n",
              "| blocks_avg | 1.077         |\n",
              "| steals_num | 17            |\n",
              "| steals_avg | 0.654         |\n",
              "| points_num | 217           |\n",
              "| points_avg | 8.346         |\n",
              "| turnovers | NA            |\n",
              "| dd | NA            |\n",
              "| td | NA            |\n",
              "| player_id | 110758        |\n",
              "| year | 2002          |\n",
              "| school_id | 2             |\n",
              "\n"
            ],
            "text/plain": [
              "                    [,1]         \n",
              "player_name         Brown, Jeremy\n",
              "class               Fr.          \n",
              "season              2001-02      \n",
              "position            F            \n",
              "height              79           \n",
              "g                   26           \n",
              "fg_made             87           \n",
              "fg_attempts         152          \n",
              "fg_percent          57.237       \n",
              "3pt_made            0            \n",
              "3pt_attempts        1            \n",
              "3pt_percent         0            \n",
              "freethrows_made     43           \n",
              "freethrows_attempts 55           \n",
              "freethrows_percent  78.182       \n",
              "rebounds_num        128          \n",
              "rebounds_avg        4.923        \n",
              "assists_num         35           \n",
              "assists_avg         1.346        \n",
              "blocks_num          28           \n",
              "blocks_avg          1.077        \n",
              "steals_num          17           \n",
              "steals_avg          0.654        \n",
              "points_num          217          \n",
              "points_avg          8.346        \n",
              "turnovers           NA           \n",
              "dd                  NA           \n",
              "td                  NA           \n",
              "player_id           110758       \n",
              "year                2002         \n",
              "school_id           2            "
            ]
          },
          "metadata": {},
          "output_type": "display_data"
        }
      ],
      "source": [
        "ncaa_players[1,] %>% t"
      ]
    },
    {
      "cell_type": "markdown",
      "metadata": {
        "id": "Tpr84mwluQ-I"
      },
      "source": [
        "For this analysis, we will summarize each team by simply averaging the stats of each player on the team for that year:"
      ]
    },
    {
      "cell_type": "code",
      "execution_count": null,
      "metadata": {
        "id": "qmnOtW2vuQ-I",
        "outputId": "2430f7ca-5d00-4c13-f2da-c35d4533b2d1"
      },
      "outputs": [
        {
          "name": "stderr",
          "output_type": "stream",
          "text": [
            "\u001b[1m\u001b[22m`summarise()` has grouped output by 'school_id'. You can override using the `.groups` argument.\n"
          ]
        }
      ],
      "source": [
        "school_stats <- ncaa_players %>% \n",
        "    group_by(school_id, year) %>% \n",
        "    summarize(across(where(is.double), \\(x) mean(x, na.rm = T))) %>% \n",
        "    select(-c(dd, td, turnovers))  # these are missing for almost every player/team"
      ]
    },
    {
      "cell_type": "markdown",
      "metadata": {
        "id": "CzDppZtLuQ-I"
      },
      "source": [
        "Next, we need to create the data frame that we will use to train our model. This means joining data for each pair of teams that played in each game. Note that each game is represented twice in the dataset, with each team being called \"opponent\", e.g.:"
      ]
    },
    {
      "cell_type": "code",
      "execution_count": null,
      "metadata": {
        "id": "J70NLRYquQ-I",
        "outputId": "58ec1656-91f2-4b87-972e-212ecd7e2863"
      },
      "outputs": [
        {
          "data": {
            "text/html": [
              "<table class=\"dataframe\">\n",
              "<caption>A tibble: 2 × 11</caption>\n",
              "<thead>\n",
              "\t<tr><th scope=col>opponent_name</th><th scope=col>game_date</th><th scope=col>score</th><th scope=col>opponent_score</th><th scope=col>location</th><th scope=col>neutral_site_location</th><th scope=col>game_length</th><th scope=col>attendence</th><th scope=col>opponent_id</th><th scope=col>year</th><th scope=col>school_id</th></tr>\n",
              "\t<tr><th scope=col>&lt;chr&gt;</th><th scope=col>&lt;date&gt;</th><th scope=col>&lt;int&gt;</th><th scope=col>&lt;int&gt;</th><th scope=col>&lt;fct&gt;</th><th scope=col>&lt;chr&gt;</th><th scope=col>&lt;fct&gt;</th><th scope=col>&lt;int&gt;</th><th scope=col>&lt;int&gt;</th><th scope=col>&lt;int&gt;</th><th scope=col>&lt;int&gt;</th></tr>\n",
              "</thead>\n",
              "<tbody>\n",
              "\t<tr><td>Sul Ross St.      </td><td>2001-11-16</td><td>93</td><td>59</td><td>Home</td><td>NA</td><td>NA</td><td>2041</td><td> 1390</td><td>2002</td><td>26172</td></tr>\n",
              "\t<tr><td>A&amp;M-Corpus Christi</td><td>2001-11-16</td><td>59</td><td>93</td><td>Away</td><td>NA</td><td>NA</td><td>2041</td><td>26172</td><td>2002</td><td> 1390</td></tr>\n",
              "</tbody>\n",
              "</table>\n"
            ],
            "text/latex": [
              "A tibble: 2 × 11\n",
              "\\begin{tabular}{lllllllllll}\n",
              " opponent\\_name & game\\_date & score & opponent\\_score & location & neutral\\_site\\_location & game\\_length & attendence & opponent\\_id & year & school\\_id\\\\\n",
              " <chr> & <date> & <int> & <int> & <fct> & <chr> & <fct> & <int> & <int> & <int> & <int>\\\\\n",
              "\\hline\n",
              "\t Sul Ross St.       & 2001-11-16 & 93 & 59 & Home & NA & NA & 2041 &  1390 & 2002 & 26172\\\\\n",
              "\t A\\&M-Corpus Christi & 2001-11-16 & 59 & 93 & Away & NA & NA & 2041 & 26172 & 2002 &  1390\\\\\n",
              "\\end{tabular}\n"
            ],
            "text/markdown": [
              "\n",
              "A tibble: 2 × 11\n",
              "\n",
              "| opponent_name &lt;chr&gt; | game_date &lt;date&gt; | score &lt;int&gt; | opponent_score &lt;int&gt; | location &lt;fct&gt; | neutral_site_location &lt;chr&gt; | game_length &lt;fct&gt; | attendence &lt;int&gt; | opponent_id &lt;int&gt; | year &lt;int&gt; | school_id &lt;int&gt; |\n",
              "|---|---|---|---|---|---|---|---|---|---|---|\n",
              "| Sul Ross St.       | 2001-11-16 | 93 | 59 | Home | NA | NA | 2041 |  1390 | 2002 | 26172 |\n",
              "| A&amp;M-Corpus Christi | 2001-11-16 | 59 | 93 | Away | NA | NA | 2041 | 26172 | 2002 |  1390 |\n",
              "\n"
            ],
            "text/plain": [
              "  opponent_name      game_date  score opponent_score location\n",
              "1 Sul Ross St.       2001-11-16 93    59             Home    \n",
              "2 A&M-Corpus Christi 2001-11-16 59    93             Away    \n",
              "  neutral_site_location game_length attendence opponent_id year school_id\n",
              "1 NA                    NA          2041        1390       2002 26172    \n",
              "2 NA                    NA          2041       26172       2002  1390    "
            ]
          },
          "metadata": {},
          "output_type": "display_data"
        }
      ],
      "source": [
        "ncaa_games %>% filter(game_date == \"2001-11-16\", school_id == 26172 | opponent_id == 26172)"
      ]
    },
    {
      "cell_type": "markdown",
      "metadata": {
        "id": "-lLI8VMduQ-I"
      },
      "source": [
        "Now we perform the join. (To make things go faster we are going to downsample the data to only 30,000 games.)"
      ]
    },
    {
      "cell_type": "code",
      "execution_count": null,
      "metadata": {
        "id": "oGP0nQNmuQ-J",
        "outputId": "f6896233-1d1b-4c14-c29f-49b32b1688de"
      },
      "outputs": [
        {
          "name": "stderr",
          "output_type": "stream",
          "text": [
            "\u001b[1m\u001b[22mJoining with `by = join_by(year, school_id)`\n"
          ]
        }
      ],
      "source": [
        "ncaa_data <- ncaa_games %>% sample_n(30000) %>% inner_join(school_stats) %>% \n",
        "    inner_join(school_stats, join_by(opponent_id == school_id, year), suffix = c(\"\", \"_opponent\")) %>% \n",
        "    mutate(win = score > opponent_score) "
      ]
    },
    {
      "cell_type": "markdown",
      "metadata": {
        "id": "UQI0j_hxuQ-J"
      },
      "source": [
        "### Selecting a good model\n",
        "Last lecture, we saw how to create large, rich regression models by including more and more predictors into our regression. But we also saw that this could actually decrease predictive accuracy when analyzing data that the model had never seen before. \n",
        "\n",
        "Now, we will learn ways to systematically find a good model by dividing our data and using out-of-sample predictive performance to guide model selection."
      ]
    },
    {
      "cell_type": "markdown",
      "metadata": {
        "id": "yasppCGguQ-J"
      },
      "source": [
        "The first step will be to divide our data into two sets, training and test.\n",
        "- We will use the **training** set to train our model, and then\n",
        "- The **testing** set will be used to judge how accurate it is on new data."
      ]
    },
    {
      "cell_type": "code",
      "execution_count": null,
      "metadata": {
        "id": "WiFGrFlXuQ-J",
        "outputId": "6c703df1-28fa-4ebc-f779-1ea0f2d0a904"
      },
      "outputs": [
        {
          "name": "stdout",
          "output_type": "stream",
          "text": [
            "Rows: 24,925\n",
            "Columns: 45\n",
            "$ win                          \u001b[3m\u001b[90m<lgl>\u001b[39m\u001b[23m FALSE, FALSE, TRUE, FALSE, TRUE, FALSE, F…\n",
            "$ height                       \u001b[3m\u001b[90m<dbl>\u001b[39m\u001b[23m 74.70588, 76.69231, 77.00000, 73.80000, 7…\n",
            "$ g                            \u001b[3m\u001b[90m<dbl>\u001b[39m\u001b[23m 18.87500, 28.23077, 24.07692, 15.70000, 2…\n",
            "$ fg_made                      \u001b[3m\u001b[90m<dbl>\u001b[39m\u001b[23m 40.81250, 72.07692, 62.00000, 27.65000, 4…\n",
            "$ fg_attempts                  \u001b[3m\u001b[90m<dbl>\u001b[39m\u001b[23m 96.37500, 153.53846, 133.38462, 71.00000,…\n",
            "$ fg_percent                   \u001b[3m\u001b[90m<dbl>\u001b[39m\u001b[23m 0.3857500, 0.4405385, 0.3886923, 2.532421…\n",
            "$ `3pt_made`                   \u001b[3m\u001b[90m<dbl>\u001b[39m\u001b[23m 13.437500, 21.076923, 16.307692, 6.300000…\n",
            "$ `3pt_attempts`               \u001b[3m\u001b[90m<dbl>\u001b[39m\u001b[23m 37.18750, 52.84615, 46.23077, 18.65000, 3…\n",
            "$ `3pt_percent`                \u001b[3m\u001b[90m<dbl>\u001b[39m\u001b[23m 0.2818571, 0.2865455, 0.2271000, 1.802857…\n",
            "$ freethrows_made              \u001b[3m\u001b[90m<dbl>\u001b[39m\u001b[23m 22.93750, 48.30769, 33.69231, 16.25000, 2…\n",
            "$ freethrows_attempts          \u001b[3m\u001b[90m<dbl>\u001b[39m\u001b[23m 36.18750, 65.15385, 51.15385, 23.20000, 3…\n",
            "$ freethrows_percent           \u001b[3m\u001b[90m<dbl>\u001b[39m\u001b[23m 0.7392308, 0.6266923, 0.6112500, 5.599437…\n",
            "$ rebounds_num                 \u001b[3m\u001b[90m<dbl>\u001b[39m\u001b[23m 57.87500, 87.76923, 86.69231, 36.80000, 5…\n",
            "$ rebounds_avg                 \u001b[3m\u001b[90m<dbl>\u001b[39m\u001b[23m 2.580600, 2.717615, 2.968538, 1.921842, 2…\n",
            "$ assists_num                  \u001b[3m\u001b[90m<dbl>\u001b[39m\u001b[23m 19.37500, 43.92308, 39.30769, 13.70000, 2…\n",
            "$ assists_avg                  \u001b[3m\u001b[90m<dbl>\u001b[39m\u001b[23m 1.0026923, 1.4400000, 1.4210000, 0.860666…\n",
            "$ blocks_num                   \u001b[3m\u001b[90m<dbl>\u001b[39m\u001b[23m 3.375000, 6.615385, 12.153846, 2.800000, …\n",
            "$ blocks_avg                   \u001b[3m\u001b[90m<dbl>\u001b[39m\u001b[23m 0.2782500, 0.2653000, 0.5851111, 0.239363…\n",
            "$ steals_num                   \u001b[3m\u001b[90m<dbl>\u001b[39m\u001b[23m 8.875000, 16.846154, 13.384615, 10.750000…\n",
            "$ steals_avg                   \u001b[3m\u001b[90m<dbl>\u001b[39m\u001b[23m 0.5837000, 0.5253846, 0.4960833, 0.650705…\n",
            "$ points_num                   \u001b[3m\u001b[90m<dbl>\u001b[39m\u001b[23m 118.00000, 213.53846, 174.00000, 77.85000…\n",
            "$ points_avg                   \u001b[3m\u001b[90m<dbl>\u001b[39m\u001b[23m 4.884313, 6.372769, 6.354833, 4.351889, 5…\n",
            "$ height_opponent              \u001b[3m\u001b[90m<dbl>\u001b[39m\u001b[23m 76.20000, 77.12500, 76.00000, 74.47059, 7…\n",
            "$ g_opponent                   \u001b[3m\u001b[90m<dbl>\u001b[39m\u001b[23m 17.53333, 26.35714, 25.14286, 20.23529, 1…\n",
            "$ fg_made_opponent             \u001b[3m\u001b[90m<dbl>\u001b[39m\u001b[23m 41.26667, 56.21429, 42.42857, 45.70588, 5…\n",
            "$ fg_attempts_opponent         \u001b[3m\u001b[90m<dbl>\u001b[39m\u001b[23m 92.46667, 126.71429, 114.42857, 101.11765…\n",
            "$ fg_percent_opponent          \u001b[3m\u001b[90m<dbl>\u001b[39m\u001b[23m 0.3810667, 0.3965714, 0.3355714, 0.428000…\n",
            "$ `3pt_made_opponent`          \u001b[3m\u001b[90m<dbl>\u001b[39m\u001b[23m 14.466667, 17.428571, 13.214286, 7.470588…\n",
            "$ `3pt_attempts_opponent`      \u001b[3m\u001b[90m<dbl>\u001b[39m\u001b[23m 41.06667, 49.85714, 41.71429, 24.52941, 3…\n",
            "$ `3pt_percent_opponent`       \u001b[3m\u001b[90m<dbl>\u001b[39m\u001b[23m 0.2783077, 0.3091000, 0.2378333, 0.221500…\n",
            "$ freethrows_made_opponent     \u001b[3m\u001b[90m<dbl>\u001b[39m\u001b[23m 21.06667, 32.07143, 24.50000, 26.64706, 2…\n",
            "$ freethrows_attempts_opponent \u001b[3m\u001b[90m<dbl>\u001b[39m\u001b[23m 30.93333, 41.00000, 36.50000, 39.23529, 3…\n",
            "$ freethrows_percent_opponent  \u001b[3m\u001b[90m<dbl>\u001b[39m\u001b[23m 0.6159167, 0.6953333, 0.7230714, 0.614312…\n",
            "$ rebounds_num_opponent        \u001b[3m\u001b[90m<dbl>\u001b[39m\u001b[23m 57.60000, 75.78571, 69.28571, 57.29412, 6…\n",
            "$ rebounds_avg_opponent        \u001b[3m\u001b[90m<dbl>\u001b[39m\u001b[23m 2.603600, 2.696846, 2.568071, 2.458647, 3…\n",
            "$ assists_num_opponent         \u001b[3m\u001b[90m<dbl>\u001b[39m\u001b[23m 22.26667, 30.85714, 21.71429, 23.35294, 2…\n",
            "$ assists_avg_opponent         \u001b[3m\u001b[90m<dbl>\u001b[39m\u001b[23m 1.1305333, 1.1006923, 0.8414615, 1.044187…\n",
            "$ blocks_num_opponent          \u001b[3m\u001b[90m<dbl>\u001b[39m\u001b[23m 3.800000, 5.285714, 5.214286, 6.352941, 5…\n",
            "$ blocks_avg_opponent          \u001b[3m\u001b[90m<dbl>\u001b[39m\u001b[23m 0.2284615, 0.2407000, 0.2505455, 0.343230…\n",
            "$ steals_num_opponent          \u001b[3m\u001b[90m<dbl>\u001b[39m\u001b[23m 6.466667, 9.571429, 11.142857, 12.294118,…\n",
            "$ steals_avg_opponent          \u001b[3m\u001b[90m<dbl>\u001b[39m\u001b[23m 0.3822857, 0.3446923, 0.4154286, 0.594800…\n",
            "$ points_num_opponent          \u001b[3m\u001b[90m<dbl>\u001b[39m\u001b[23m 118.06667, 161.92857, 122.57143, 125.5294…\n",
            "$ points_avg_opponent          \u001b[3m\u001b[90m<dbl>\u001b[39m\u001b[23m 5.817429, 5.722000, 4.547857, 5.147529, 7…\n",
            "$ location                     \u001b[3m\u001b[90m<fct>\u001b[39m\u001b[23m Away, Away, Away, Away, Neutral, Away, Ho…\n",
            "$ attendence                   \u001b[3m\u001b[90m<int>\u001b[39m\u001b[23m 362, 3021, 1427, 480, 400, 514, 750, 3500…\n",
            "Rows: 2,770\n",
            "Columns: 45\n",
            "$ win                          \u001b[3m\u001b[90m<lgl>\u001b[39m\u001b[23m FALSE, FALSE, TRUE, FALSE, TRUE, TRUE, FA…\n",
            "$ height                       \u001b[3m\u001b[90m<dbl>\u001b[39m\u001b[23m 75.28571, 74.06250, 73.14286, 77.25000, 7…\n",
            "$ g                            \u001b[3m\u001b[90m<dbl>\u001b[39m\u001b[23m 20.66667, 18.88889, 14.27778, 27.00000, 2…\n",
            "$ fg_made                      \u001b[3m\u001b[90m<dbl>\u001b[39m\u001b[23m 44.93333, 32.61111, 37.55556, 74.83333, 6…\n",
            "$ fg_attempts                  \u001b[3m\u001b[90m<dbl>\u001b[39m\u001b[23m 100.00000, 79.22222, 81.88889, 157.00000,…\n",
            "$ fg_percent                   \u001b[3m\u001b[90m<dbl>\u001b[39m\u001b[23m 42.0230000, 0.3578333, 0.3409412, 0.49733…\n",
            "$ `3pt_made`                   \u001b[3m\u001b[90m<dbl>\u001b[39m\u001b[23m 13.533333, 6.555556, 11.611111, 17.583333…\n",
            "$ `3pt_attempts`               \u001b[3m\u001b[90m<dbl>\u001b[39m\u001b[23m 35.26667, 21.55556, 31.44444, 51.91667, 4…\n",
            "$ `3pt_percent`                \u001b[3m\u001b[90m<dbl>\u001b[39m\u001b[23m 23.4914667, 0.2385714, 0.2916875, 0.29190…\n",
            "$ freethrows_made              \u001b[3m\u001b[90m<dbl>\u001b[39m\u001b[23m 30.86667, 19.55556, 23.94444, 29.83333, 3…\n",
            "$ freethrows_attempts          \u001b[3m\u001b[90m<dbl>\u001b[39m\u001b[23m 40.66667, 29.83333, 34.05556, 43.41667, 5…\n",
            "$ freethrows_percent           \u001b[3m\u001b[90m<dbl>\u001b[39m\u001b[23m 66.5827333, 0.5650000, 0.5801333, 0.60236…\n",
            "$ rebounds_num                 \u001b[3m\u001b[90m<dbl>\u001b[39m\u001b[23m 60.26667, 45.72222, 41.38889, 75.16667, 7…\n",
            "$ rebounds_avg                 \u001b[3m\u001b[90m<dbl>\u001b[39m\u001b[23m 2.348267, 2.135333, 2.364529, 2.503417, 3…\n",
            "$ assists_num                  \u001b[3m\u001b[90m<dbl>\u001b[39m\u001b[23m 27.66667, 12.44444, 19.27778, 36.33333, 3…\n",
            "$ assists_avg                  \u001b[3m\u001b[90m<dbl>\u001b[39m\u001b[23m 1.1672000, 0.6016471, 1.2333333, 1.320545…\n",
            "$ blocks_num                   \u001b[3m\u001b[90m<dbl>\u001b[39m\u001b[23m 4.533333, 3.222222, 1.722222, 4.083333, 1…\n",
            "$ blocks_avg                   \u001b[3m\u001b[90m<dbl>\u001b[39m\u001b[23m 0.1808000, 0.2667000, 0.1596667, 0.177777…\n",
            "$ steals_num                   \u001b[3m\u001b[90m<dbl>\u001b[39m\u001b[23m 12.200000, 7.222222, 10.222222, 22.083333…\n",
            "$ steals_avg                   \u001b[3m\u001b[90m<dbl>\u001b[39m\u001b[23m 0.5052667, 0.3805625, 0.6427143, 0.804363…\n",
            "$ points_num                   \u001b[3m\u001b[90m<dbl>\u001b[39m\u001b[23m 134.26667, 91.33333, 110.66667, 197.08333…\n",
            "$ points_avg                   \u001b[3m\u001b[90m<dbl>\u001b[39m\u001b[23m 5.272867, 4.141611, 6.111400, 7.100545, 7…\n",
            "$ height_opponent              \u001b[3m\u001b[90m<dbl>\u001b[39m\u001b[23m 75.13333, 74.76471, 54.66667, 75.92857, 7…\n",
            "$ g_opponent                   \u001b[3m\u001b[90m<dbl>\u001b[39m\u001b[23m 18.33333, 19.47059, 21.33333, 22.92857, 1…\n",
            "$ fg_made_opponent             \u001b[3m\u001b[90m<dbl>\u001b[39m\u001b[23m 39.13333, 46.64706, 53.40000, 59.57143, 4…\n",
            "$ fg_attempts_opponent         \u001b[3m\u001b[90m<dbl>\u001b[39m\u001b[23m 86.93333, 103.35294, 118.20000, 136.50000…\n",
            "$ fg_percent_opponent          \u001b[3m\u001b[90m<dbl>\u001b[39m\u001b[23m 46.1309333, 0.4133125, 0.4183333, 0.37907…\n",
            "$ `3pt_made_opponent`          \u001b[3m\u001b[90m<dbl>\u001b[39m\u001b[23m 7.133333, 10.117647, 17.333333, 19.000000…\n",
            "$ `3pt_attempts_opponent`      \u001b[3m\u001b[90m<dbl>\u001b[39m\u001b[23m 23.73333, 32.35294, 46.73333, 56.35714, 3…\n",
            "$ `3pt_percent_opponent`       \u001b[3m\u001b[90m<dbl>\u001b[39m\u001b[23m 23.3323333, 0.2475000, 0.2101538, 0.24200…\n",
            "$ freethrows_made_opponent     \u001b[3m\u001b[90m<dbl>\u001b[39m\u001b[23m 22.86667, 28.52941, 23.13333, 34.00000, 2…\n",
            "$ freethrows_attempts_opponent \u001b[3m\u001b[90m<dbl>\u001b[39m\u001b[23m 36.13333, 42.41176, 34.20000, 47.00000, 3…\n",
            "$ freethrows_percent_opponent  \u001b[3m\u001b[90m<dbl>\u001b[39m\u001b[23m 60.0688667, 0.5928125, 0.5668571, 0.69941…\n",
            "$ rebounds_num_opponent        \u001b[3m\u001b[90m<dbl>\u001b[39m\u001b[23m 53.93333, 67.29412, 61.66667, 77.85714, 5…\n",
            "$ rebounds_avg_opponent        \u001b[3m\u001b[90m<dbl>\u001b[39m\u001b[23m 2.542733, 2.789706, 2.465800, 2.621786, 2…\n",
            "$ assists_num_opponent         \u001b[3m\u001b[90m<dbl>\u001b[39m\u001b[23m 24.40000, 20.47059, 31.66667, 31.35714, 2…\n",
            "$ assists_avg_opponent         \u001b[3m\u001b[90m<dbl>\u001b[39m\u001b[23m 1.1228000, 0.8613125, 1.2626429, 1.307727…\n",
            "$ blocks_num_opponent          \u001b[3m\u001b[90m<dbl>\u001b[39m\u001b[23m 6.400000, 5.764706, 2.866667, 9.928571, 6…\n",
            "$ blocks_avg_opponent          \u001b[3m\u001b[90m<dbl>\u001b[39m\u001b[23m 0.2920000, 0.3506364, 0.1652000, 0.545000…\n",
            "$ steals_num_opponent          \u001b[3m\u001b[90m<dbl>\u001b[39m\u001b[23m 14.46667, 10.94118, 14.06667, 14.92857, 1…\n",
            "$ steals_avg_opponent          \u001b[3m\u001b[90m<dbl>\u001b[39m\u001b[23m 0.6768667, 0.6187500, 0.5887143, 0.617090…\n",
            "$ points_num_opponent          \u001b[3m\u001b[90m<dbl>\u001b[39m\u001b[23m 108.26667, 131.94118, 147.26667, 172.1428…\n",
            "$ points_avg_opponent          \u001b[3m\u001b[90m<dbl>\u001b[39m\u001b[23m 5.070000, 5.588625, 5.990071, 5.992846, 5…\n",
            "$ location                     \u001b[3m\u001b[90m<fct>\u001b[39m\u001b[23m Neutral, Home, Away, Away, Neutral, Home,…\n",
            "$ attendence                   \u001b[3m\u001b[90m<int>\u001b[39m\u001b[23m 100, 227, 211, 1673, 368, 3011, 2237, 259…\n"
          ]
        }
      ],
      "source": [
        "ncaa_split <- ncaa_data %>% \n",
        "    select(win, where(is.double), location, attendence, -game_date) %>% \n",
        "    filter(complete.cases(.)) %>% \n",
        "    initial_split(prop = .9)\n",
        "training(ncaa_split) %>% glimpse\n",
        "testing(ncaa_split) %>% glimpse"
      ]
    },
    {
      "cell_type": "markdown",
      "metadata": {
        "id": "dga6Sl8euQ-J"
      },
      "source": [
        "Let's try fitting the logistic regression model to this data set, and measure its performance using cross-entropy loss:"
      ]
    },
    {
      "cell_type": "code",
      "execution_count": null,
      "metadata": {
        "id": "WRo0UBl1uQ-J"
      },
      "outputs": [],
      "source": [
        "mdl <- glm(win ~ (height + g + fg_made + rebounds_avg + height_opponent + fg_made_opponent)^2,\n",
        "                  data = training(ncaa_split), family = \"binomial\")"
      ]
    },
    {
      "cell_type": "code",
      "execution_count": null,
      "metadata": {
        "id": "FtXrY7dNuQ-J",
        "outputId": "7ce4fbc1-d2c0-4b0d-e169-2c89104185ec"
      },
      "outputs": [
        {
          "data": {
            "text/plain": [
              "\n",
              "Call:\n",
              "glm(formula = win ~ (height + g + fg_made + rebounds_avg + height_opponent + \n",
              "    fg_made_opponent)^2, family = \"binomial\", data = training(ncaa_split))\n",
              "\n",
              "Deviance Residuals: \n",
              "    Min       1Q   Median       3Q      Max  \n",
              "-3.3595  -1.0956   0.5353   1.0786   4.8240  \n",
              "\n",
              "Coefficients:\n",
              "                                   Estimate Std. Error z value Pr(>|z|)    \n",
              "(Intercept)                      -5.193e+01  2.790e+01  -1.861  0.06274 .  \n",
              "height                            5.987e-01  3.970e-01   1.508  0.13156    \n",
              "g                                -1.553e-01  3.922e-01  -0.396  0.69220    \n",
              "fg_made                           1.356e-01  1.372e-01   0.989  0.32289    \n",
              "rebounds_avg                     -1.050e-01  2.593e+00  -0.040  0.96770    \n",
              "height_opponent                   7.041e-01  3.898e-01   1.806  0.07087 .  \n",
              "fg_made_opponent                  1.117e-01  7.923e-02   1.409  0.15874    \n",
              "height:g                         -2.144e-04  4.752e-03  -0.045  0.96402    \n",
              "height:fg_made                    2.043e-03  1.708e-03   1.196  0.23167    \n",
              "height:rebounds_avg              -1.072e-02  3.243e-02  -0.330  0.74103    \n",
              "height:height_opponent           -7.911e-03  5.458e-03  -1.449  0.14722    \n",
              "height:fg_made_opponent           7.055e-04  9.851e-04   0.716  0.47392    \n",
              "g:fg_made                        -3.596e-04  4.200e-04  -0.856  0.39185    \n",
              "g:rebounds_avg                    1.857e-02  1.483e-02   1.252  0.21058    \n",
              "g:height_opponent                 1.497e-03  5.048e-03   0.296  0.76688    \n",
              "g:fg_made_opponent                5.387e-04  5.936e-04   0.907  0.36417    \n",
              "fg_made:rebounds_avg             -1.217e-02  2.293e-03  -5.308 1.11e-07 ***\n",
              "fg_made:height_opponent          -2.523e-03  1.777e-03  -1.420  0.15555    \n",
              "fg_made:fg_made_opponent          2.284e-05  1.764e-04   0.130  0.89695    \n",
              "rebounds_avg:height_opponent      2.864e-03  3.107e-02   0.092  0.92656    \n",
              "rebounds_avg:fg_made_opponent     5.977e-03  4.225e-03   1.415  0.15715    \n",
              "height_opponent:fg_made_opponent -3.142e-03  9.204e-04  -3.414  0.00064 ***\n",
              "---\n",
              "Signif. codes:  0 ‘***’ 0.001 ‘**’ 0.01 ‘*’ 0.05 ‘.’ 0.1 ‘ ’ 1\n",
              "\n",
              "(Dispersion parameter for binomial family taken to be 1)\n",
              "\n",
              "    Null deviance: 34551  on 24924  degrees of freedom\n",
              "Residual deviance: 31956  on 24903  degrees of freedom\n",
              "AIC: 32000\n",
              "\n",
              "Number of Fisher Scoring iterations: 4\n"
            ]
          },
          "metadata": {},
          "output_type": "display_data"
        }
      ],
      "source": [
        "summary(mdl)"
      ]
    },
    {
      "cell_type": "markdown",
      "metadata": {
        "id": "lQdWlzYMuQ-J"
      },
      "source": [
        "### Cross-entropy loss\n",
        "\n",
        "Now let's define what it means for a binary prediction to be good. For a binary variable $y \\in \\{0, 1\\}$ with predicted value $\\hat{y} \\in [0, 1]$, the *cross-entropy loss* is defined as \n",
        "\n",
        "$$ -y \\log(\\hat{y}) - (1 - y) \\log(1 - \\hat{y}) $$\n",
        "\n",
        "(lower is better)"
      ]
    },
    {
      "cell_type": "code",
      "execution_count": null,
      "metadata": {
        "id": "VsYa84zmuQ-J"
      },
      "outputs": [],
      "source": [
        "cross.entropy <- function(y, yhat) {\n",
        "    -y * log(yhat) - (1 - y) * log1p(-yhat)\n",
        "}"
      ]
    },
    {
      "cell_type": "code",
      "execution_count": null,
      "metadata": {
        "id": "c_aLp92ruQ-J",
        "outputId": "f41abd5c-3330-4594-c5d4-d3dcf6b9e6be"
      },
      "outputs": [
        {
          "data": {
            "text/html": [
              "<table class=\"dataframe\">\n",
              "<caption>A tibble: 1 × 1</caption>\n",
              "<thead>\n",
              "\t<tr><th scope=col>mean(loss, na.rm = T)</th></tr>\n",
              "\t<tr><th scope=col>&lt;dbl&gt;</th></tr>\n",
              "</thead>\n",
              "<tbody>\n",
              "\t<tr><td>0.6410477</td></tr>\n",
              "</tbody>\n",
              "</table>\n"
            ],
            "text/latex": [
              "A tibble: 1 × 1\n",
              "\\begin{tabular}{l}\n",
              " mean(loss, na.rm = T)\\\\\n",
              " <dbl>\\\\\n",
              "\\hline\n",
              "\t 0.6410477\\\\\n",
              "\\end{tabular}\n"
            ],
            "text/markdown": [
              "\n",
              "A tibble: 1 × 1\n",
              "\n",
              "| mean(loss, na.rm = T) &lt;dbl&gt; |\n",
              "|---|\n",
              "| 0.6410477 |\n",
              "\n"
            ],
            "text/plain": [
              "  mean(loss, na.rm = T)\n",
              "1 0.6410477            "
            ]
          },
          "metadata": {},
          "output_type": "display_data"
        }
      ],
      "source": [
        "training(ncaa_split) %>% add_predictions(mdl, type = \"response\") %>% \n",
        "    mutate(loss = cross.entropy(win, pred)) %>% summarize(mean(loss, na.rm = T))"
      ]
    },
    {
      "cell_type": "markdown",
      "metadata": {
        "id": "mrKt7ldCuQ-J"
      },
      "source": [
        "## Automatic model selection\n",
        "Next, we will use the `tidymodels` packing to automate the process of finding a good model. First, we tell tidymodels that we want to perform logistic regression:"
      ]
    },
    {
      "cell_type": "code",
      "execution_count": null,
      "metadata": {
        "id": "T7RcLn2tuQ-J"
      },
      "outputs": [],
      "source": [
        "lr_mod <- \n",
        "  logistic_reg(penalty = tune(), mixture = 1) %>% \n",
        "  set_engine(\"glmnet\")"
      ]
    },
    {
      "cell_type": "markdown",
      "metadata": {
        "id": "vSUPNWBXuQ-J"
      },
      "source": [
        "Next, we create a \"recipe\" that tells tidymodels how to set up the data for our prediction problem."
      ]
    },
    {
      "cell_type": "code",
      "execution_count": null,
      "metadata": {
        "id": "BMuw5V6WuQ-J"
      },
      "outputs": [],
      "source": [
        "lr_recipe <- recipe(win ~ ., data = ncaa_split) %>% \n",
        "    step_bin2factor(win) %>% \n",
        "    step_dummy(location)"
      ]
    },
    {
      "cell_type": "code",
      "execution_count": null,
      "metadata": {
        "id": "UOKrvco4uQ-J"
      },
      "outputs": [],
      "source": [
        "lr_workflow <- \n",
        "  workflow() %>% \n",
        "  add_model(lr_mod) %>% \n",
        "  add_recipe(lr_recipe)"
      ]
    },
    {
      "cell_type": "code",
      "execution_count": null,
      "metadata": {
        "id": "ivXLBj76uQ-J"
      },
      "outputs": [],
      "source": [
        "val_set <- validation_split(training(ncaa_split))\n",
        "lr_reg_grid <- tibble(penalty = 10^seq(-4, -1, length.out = 30))\n",
        "lr_res <- \n",
        "  lr_workflow %>% \n",
        "  tune_grid(val_set,\n",
        "            grid = lr_reg_grid,\n",
        "            control = control_grid(save_pred = TRUE),\n",
        "            metrics = metric_set(roc_auc))"
      ]
    },
    {
      "cell_type": "code",
      "execution_count": null,
      "metadata": {
        "id": "7U6gbcpzuQ-J"
      },
      "outputs": [],
      "source": [
        "lr_res"
      ]
    },
    {
      "cell_type": "code",
      "execution_count": null,
      "metadata": {
        "id": "e2QCDDAnuQ-J"
      },
      "outputs": [],
      "source": [
        "## A different algorithm"
      ]
    },
    {
      "cell_type": "code",
      "execution_count": null,
      "metadata": {
        "id": "uyRvXvSxuQ-J"
      },
      "outputs": [],
      "source": [
        "rf_mod <- \n",
        "  rand_forest(mtry = tune(), min_n = tune(), trees = 1000) %>% \n",
        "  set_engine(\"ranger\", num.threads = cores) %>% \n",
        "  set_mode(\"classification\")"
      ]
    }
  ],
  "metadata": {
    "celltoolbar": "Slideshow",
    "kernelspec": {
      "display_name": "R",
      "language": "R",
      "name": "ir"
    },
    "language_info": {
      "codemirror_mode": "r",
      "file_extension": ".r",
      "mimetype": "text/x-r-source",
      "name": "R",
      "pygments_lexer": "r",
      "version": "4.2.1"
    },
    "colab": {
      "provenance": [],
      "include_colab_link": true
    }
  },
  "nbformat": 4,
  "nbformat_minor": 0
}
