{
  "cells": [
    {
      "cell_type": "markdown",
      "metadata": {
        "id": "view-in-github",
        "colab_type": "text"
      },
      "source": [
        "<a href=\"https://colab.research.google.com/github/sharonma1218/stats306/blob/main/week12_readings.ipynb\" target=\"_parent\"><img src=\"https://colab.research.google.com/assets/colab-badge.svg\" alt=\"Open In Colab\"/></a>"
      ]
    },
    {
      "cell_type": "code",
      "execution_count": null,
      "metadata": {
        "id": "B-U07Ub1Wejm",
        "nbgrader": {
          "grade": false,
          "grade_id": "cell-1be04a157d86c84b",
          "locked": true,
          "schema_version": 3,
          "solution": false
        },
        "colab": {
          "base_uri": "https://localhost:8080/"
        },
        "outputId": "2b96e836-5b56-4735-fa39-78d23cf6fd94"
      },
      "outputs": [
        {
          "output_type": "stream",
          "name": "stderr",
          "text": [
            "Installing package into ‘/usr/local/lib/R/site-library’\n",
            "(as ‘lib’ is unspecified)\n",
            "\n",
            "Warning message in system(\"timedatectl\", intern = TRUE):\n",
            "“running command 'timedatectl' had status 1”\n",
            "── \u001b[1mAttaching packages\u001b[22m ─────────────────────────────────────── tidyverse 1.3.1 ──\n",
            "\n",
            "\u001b[32m✔\u001b[39m \u001b[34mggplot2\u001b[39m 3.4.1     \u001b[32m✔\u001b[39m \u001b[34mpurrr  \u001b[39m 1.0.1\n",
            "\u001b[32m✔\u001b[39m \u001b[34mtibble \u001b[39m 3.2.0     \u001b[32m✔\u001b[39m \u001b[34mdplyr  \u001b[39m 1.1.0\n",
            "\u001b[32m✔\u001b[39m \u001b[34mtidyr  \u001b[39m 1.3.0     \u001b[32m✔\u001b[39m \u001b[34mstringr\u001b[39m 1.4.1\n",
            "\u001b[32m✔\u001b[39m \u001b[34mreadr  \u001b[39m 2.1.4     \u001b[32m✔\u001b[39m \u001b[34mforcats\u001b[39m 1.0.0\n",
            "\n",
            "── \u001b[1mConflicts\u001b[22m ────────────────────────────────────────── tidyverse_conflicts() ──\n",
            "\u001b[31m✖\u001b[39m \u001b[34mdplyr\u001b[39m::\u001b[32mfilter()\u001b[39m masks \u001b[34mstats\u001b[39m::filter()\n",
            "\u001b[31m✖\u001b[39m \u001b[34mdplyr\u001b[39m::\u001b[32mlag()\u001b[39m    masks \u001b[34mstats\u001b[39m::lag()\n",
            "\n"
          ]
        }
      ],
      "source": [
        "install.packages(\"nycflights13\")\n",
        "library(nycflights13)\n",
        "library(tidyverse)\n",
        "options(repr.plot.width = 5, repr.plot.height = 4)"
      ]
    },
    {
      "cell_type": "markdown",
      "metadata": {
        "deletable": false,
        "editable": false,
        "id": "VFPX3STQWejq",
        "nbgrader": {
          "grade": false,
          "grade_id": "cell-281caadd66986182",
          "locked": true,
          "schema_version": 3,
          "solution": false
        },
        "run_control": {
          "frozen": true
        }
      },
      "source": [
        "# Week 12 Readings"
      ]
    },
    {
      "cell_type": "markdown",
      "metadata": {
        "deletable": false,
        "editable": false,
        "id": "WkwFQ7vlWejr",
        "nbgrader": {
          "grade": false,
          "grade_id": "cell-421557d86106e43b",
          "locked": true,
          "schema_version": 3,
          "solution": false
        },
        "run_control": {
          "frozen": true
        }
      },
      "source": [
        "## 27: Functions"
      ]
    },
    {
      "cell_type": "markdown",
      "source": [
        "**3 useful types of functions:**\n",
        "1. Vectors\n",
        "  * Input = vector(s)\n",
        "  * Output = vector\n",
        "2. Data frame\n",
        "  * Input = data frame\n",
        "  * Output = data frame\n",
        "3. Plot\n",
        "  * Input = data frame \n",
        "  * output = plot "
      ],
      "metadata": {
        "id": "SicXHdFUwAo4"
      }
    },
    {
      "cell_type": "markdown",
      "source": [
        "**Reasons to learn how to write functions, rather than copying and pasting:**\n",
        "\n",
        "1. Prevents typos \n",
        "2. Allows you to make many histograms of many variables very quickly\n"
      ],
      "metadata": {
        "id": "wxcdTLuKwzpL"
      }
    },
    {
      "cell_type": "markdown",
      "source": [
        "**How to write functions:**\n",
        "1. Analyze your repeated code to figure what parts are constant and what parts vary \n",
        "  * Replace the bits that vary with a black box \n",
        "2. Know the 3 things that are needed for functions:\n",
        "  1. Name\n",
        "  2. Arguments\n",
        "  3. Body \n",
        "3. Tips:\n",
        "  * Make a common pattern easier to remember by giving it a memorable name "
      ],
      "metadata": {
        "id": "B2Eo7mpUxHnR"
      }
    },
    {
      "cell_type": "markdown",
      "source": [
        "### Vector functions"
      ],
      "metadata": {
        "id": "HqioxsT-wjp_"
      }
    },
    {
      "cell_type": "code",
      "source": [
        "# Function Template:\n",
        "# name<-function(arguments{\n",
        "#   body\n",
        "# })\n",
        "\n",
        "# Manual Ex:\n",
        "df<-tibble(\n",
        "  a=rnorm(5),\n",
        "  b=rnorm(5),\n",
        "  c=rnorm(5),\n",
        "  d=rnorm(5),\n",
        ")\n",
        "\n",
        "df%>%\n",
        "  mutate(\n",
        "    a=(a-min(a,na.rm=TRUE))/(max(a,na.rm=TRUE)-min(a,na.rm=TRUE)),\n",
        "    b=(b-min(b,na.rm=TRUE))/(max(b,na.rm=TRUE)-min(b,na.rm=TRUE)),\n",
        "    c=(c-min(c,na.rm=TRUE))/(max(c,na.rm=TRUE)-min(c,na.rm=TRUE)),\n",
        "    d=(d-min(d,na.rm=TRUE))/(max(d,na.rm=TRUE)-min(d,na.rm=TRUE)),\n",
        "  )\n",
        "\n",
        "# Function Ex: \n",
        "rescale01<-function(x){\n",
        "  (x-min(x,na.rm=TRUE))/(max(x,na.rm=TRUE)-min(x,na.rm=TRUE))\n",
        "}\n",
        "\n",
        "df%>%\n",
        "  mutate(\n",
        "    a=rescale01(a),\n",
        "    b=rescale01(b),\n",
        "    c=rescale01(c),\n",
        "    d=rescale01(d),\n",
        "  )"
      ],
      "metadata": {
        "colab": {
          "base_uri": "https://localhost:8080/",
          "height": 493
        },
        "id": "qLdg847lv_9I",
        "outputId": "c2107c9d-b754-44ef-b8b2-d6ccb2cb9242"
      },
      "execution_count": null,
      "outputs": [
        {
          "output_type": "display_data",
          "data": {
            "text/html": [
              "<table class=\"dataframe\">\n",
              "<caption>A tibble: 5 × 4</caption>\n",
              "<thead>\n",
              "\t<tr><th scope=col>a</th><th scope=col>b</th><th scope=col>c</th><th scope=col>d</th></tr>\n",
              "\t<tr><th scope=col>&lt;dbl&gt;</th><th scope=col>&lt;dbl&gt;</th><th scope=col>&lt;dbl&gt;</th><th scope=col>&lt;dbl&gt;</th></tr>\n",
              "</thead>\n",
              "<tbody>\n",
              "\t<tr><td>1.00000000</td><td>1.0000000</td><td>0.3445241</td><td>0.7915437</td></tr>\n",
              "\t<tr><td>0.00000000</td><td>0.0000000</td><td>0.7499331</td><td>0.5268120</td></tr>\n",
              "\t<tr><td>0.26262998</td><td>0.5617231</td><td>1.0000000</td><td>0.3365725</td></tr>\n",
              "\t<tr><td>0.17659964</td><td>0.7836948</td><td>0.0000000</td><td>0.0000000</td></tr>\n",
              "\t<tr><td>0.05436361</td><td>0.8596389</td><td>0.3951039</td><td>1.0000000</td></tr>\n",
              "</tbody>\n",
              "</table>\n"
            ],
            "text/markdown": "\nA tibble: 5 × 4\n\n| a &lt;dbl&gt; | b &lt;dbl&gt; | c &lt;dbl&gt; | d &lt;dbl&gt; |\n|---|---|---|---|\n| 1.00000000 | 1.0000000 | 0.3445241 | 0.7915437 |\n| 0.00000000 | 0.0000000 | 0.7499331 | 0.5268120 |\n| 0.26262998 | 0.5617231 | 1.0000000 | 0.3365725 |\n| 0.17659964 | 0.7836948 | 0.0000000 | 0.0000000 |\n| 0.05436361 | 0.8596389 | 0.3951039 | 1.0000000 |\n\n",
            "text/latex": "A tibble: 5 × 4\n\\begin{tabular}{llll}\n a & b & c & d\\\\\n <dbl> & <dbl> & <dbl> & <dbl>\\\\\n\\hline\n\t 1.00000000 & 1.0000000 & 0.3445241 & 0.7915437\\\\\n\t 0.00000000 & 0.0000000 & 0.7499331 & 0.5268120\\\\\n\t 0.26262998 & 0.5617231 & 1.0000000 & 0.3365725\\\\\n\t 0.17659964 & 0.7836948 & 0.0000000 & 0.0000000\\\\\n\t 0.05436361 & 0.8596389 & 0.3951039 & 1.0000000\\\\\n\\end{tabular}\n",
            "text/plain": [
              "  a          b         c         d        \n",
              "1 1.00000000 1.0000000 0.3445241 0.7915437\n",
              "2 0.00000000 0.0000000 0.7499331 0.5268120\n",
              "3 0.26262998 0.5617231 1.0000000 0.3365725\n",
              "4 0.17659964 0.7836948 0.0000000 0.0000000\n",
              "5 0.05436361 0.8596389 0.3951039 1.0000000"
            ]
          },
          "metadata": {}
        },
        {
          "output_type": "display_data",
          "data": {
            "text/html": [
              "<table class=\"dataframe\">\n",
              "<caption>A tibble: 5 × 4</caption>\n",
              "<thead>\n",
              "\t<tr><th scope=col>a</th><th scope=col>b</th><th scope=col>c</th><th scope=col>d</th></tr>\n",
              "\t<tr><th scope=col>&lt;dbl&gt;</th><th scope=col>&lt;dbl&gt;</th><th scope=col>&lt;dbl&gt;</th><th scope=col>&lt;dbl&gt;</th></tr>\n",
              "</thead>\n",
              "<tbody>\n",
              "\t<tr><td>1.00000000</td><td>1.0000000</td><td>0.3445241</td><td>0.7915437</td></tr>\n",
              "\t<tr><td>0.00000000</td><td>0.0000000</td><td>0.7499331</td><td>0.5268120</td></tr>\n",
              "\t<tr><td>0.26262998</td><td>0.5617231</td><td>1.0000000</td><td>0.3365725</td></tr>\n",
              "\t<tr><td>0.17659964</td><td>0.7836948</td><td>0.0000000</td><td>0.0000000</td></tr>\n",
              "\t<tr><td>0.05436361</td><td>0.8596389</td><td>0.3951039</td><td>1.0000000</td></tr>\n",
              "</tbody>\n",
              "</table>\n"
            ],
            "text/markdown": "\nA tibble: 5 × 4\n\n| a &lt;dbl&gt; | b &lt;dbl&gt; | c &lt;dbl&gt; | d &lt;dbl&gt; |\n|---|---|---|---|\n| 1.00000000 | 1.0000000 | 0.3445241 | 0.7915437 |\n| 0.00000000 | 0.0000000 | 0.7499331 | 0.5268120 |\n| 0.26262998 | 0.5617231 | 1.0000000 | 0.3365725 |\n| 0.17659964 | 0.7836948 | 0.0000000 | 0.0000000 |\n| 0.05436361 | 0.8596389 | 0.3951039 | 1.0000000 |\n\n",
            "text/latex": "A tibble: 5 × 4\n\\begin{tabular}{llll}\n a & b & c & d\\\\\n <dbl> & <dbl> & <dbl> & <dbl>\\\\\n\\hline\n\t 1.00000000 & 1.0000000 & 0.3445241 & 0.7915437\\\\\n\t 0.00000000 & 0.0000000 & 0.7499331 & 0.5268120\\\\\n\t 0.26262998 & 0.5617231 & 1.0000000 & 0.3365725\\\\\n\t 0.17659964 & 0.7836948 & 0.0000000 & 0.0000000\\\\\n\t 0.05436361 & 0.8596389 & 0.3951039 & 1.0000000\\\\\n\\end{tabular}\n",
            "text/plain": [
              "  a          b         c         d        \n",
              "1 1.00000000 1.0000000 0.3445241 0.7915437\n",
              "2 0.00000000 0.0000000 0.7499331 0.5268120\n",
              "3 0.26262998 0.5617231 1.0000000 0.3365725\n",
              "4 0.17659964 0.7836948 0.0000000 0.0000000\n",
              "5 0.05436361 0.8596389 0.3951039 1.0000000"
            ]
          },
          "metadata": {}
        }
      ]
    },
    {
      "cell_type": "markdown",
      "source": [
        "**Mutate functions**\n",
        "\n",
        "Functions that work well inside `mutate()` and `filter()` "
      ],
      "metadata": {
        "id": "KHOtpWdkzDP-"
      }
    },
    {
      "cell_type": "code",
      "source": [
        "# Z-score: rescales a vector to have a mean of zero & a sd of one \n",
        "\n",
        "z_score<-function(x){\n",
        "  (x-mean(x,na.rm=TRUE))/sd(x,na.rm=TRUE)\n",
        "}"
      ],
      "metadata": {
        "id": "zYvHdVSVzKn3"
      },
      "execution_count": null,
      "outputs": []
    },
    {
      "cell_type": "code",
      "source": [
        "# Clamp: ensures all values of a vector lie b/w a min & max\n",
        "\n",
        "clamp<-function(x,min,max){\n",
        "  case_when(\n",
        "    x<min~min,\n",
        "    x>max~max,\n",
        "    .default=x\n",
        "  )\n",
        "}\n",
        "\n",
        "clamp(1:10,min=3,max=7) # produces only the values within the range\n",
        "\n",
        "# na_outside(1:10,min=3,max=7) marks the values outside the range as NAs"
      ],
      "metadata": {
        "colab": {
          "base_uri": "https://localhost:8080/",
          "height": 34
        },
        "id": "aChqB1Jr0z9d",
        "outputId": "6f5243fc-99f1-4520-fad5-0a15a10c2438"
      },
      "execution_count": null,
      "outputs": [
        {
          "output_type": "display_data",
          "data": {
            "text/html": [
              "<style>\n",
              ".list-inline {list-style: none; margin:0; padding: 0}\n",
              ".list-inline>li {display: inline-block}\n",
              ".list-inline>li:not(:last-child)::after {content: \"\\00b7\"; padding: 0 .5ex}\n",
              "</style>\n",
              "<ol class=list-inline><li>3</li><li>3</li><li>3</li><li>4</li><li>5</li><li>6</li><li>7</li><li>7</li><li>7</li><li>7</li></ol>\n"
            ],
            "text/markdown": "1. 3\n2. 3\n3. 3\n4. 4\n5. 5\n6. 6\n7. 7\n8. 7\n9. 7\n10. 7\n\n\n",
            "text/latex": "\\begin{enumerate*}\n\\item 3\n\\item 3\n\\item 3\n\\item 4\n\\item 5\n\\item 6\n\\item 7\n\\item 7\n\\item 7\n\\item 7\n\\end{enumerate*}\n",
            "text/plain": [
              " [1] 3 3 3 4 5 6 7 7 7 7"
            ]
          },
          "metadata": {}
        }
      ]
    },
    {
      "cell_type": "code",
      "source": [
        "# Make first character upper case:\n",
        "\n",
        "first_upper<-function(x){\n",
        "  str_sub(x,1,1)<-str_to_upper(str_sub(x,1,1))\n",
        "  x\n",
        "}\n",
        "\n",
        "first_upper(\"hello\")"
      ],
      "metadata": {
        "colab": {
          "base_uri": "https://localhost:8080/",
          "height": 34
        },
        "id": "vEVcqGgM00TF",
        "outputId": "235d76aa-35cb-44b2-ead1-16866decdac0"
      },
      "execution_count": null,
      "outputs": [
        {
          "output_type": "display_data",
          "data": {
            "text/html": [
              "'Hello'"
            ],
            "text/markdown": "'Hello'",
            "text/latex": "'Hello'",
            "text/plain": [
              "[1] \"Hello\""
            ]
          },
          "metadata": {}
        }
      ]
    },
    {
      "cell_type": "code",
      "source": [
        "# Remove % , $ from a string before converting into number:\n",
        "\n",
        "clean_number<-function(x){\n",
        "    is_pct<-str_detect(x,\"%\")\n",
        "    num<-x%>%\n",
        "      str_remove_all(\"%\")%>%\n",
        "      str_remove_all(\",\")%>%\n",
        "      str_remove_all(fixed(\"$\"))%>%\n",
        "      as.numeric(x)\n",
        "    if_else(is_pct,num/100,num)\n",
        "}\n",
        "\n",
        "clean_number(\"$12,300\")\n",
        "clean_number(\"45%\")"
      ],
      "metadata": {
        "colab": {
          "base_uri": "https://localhost:8080/",
          "height": 52
        },
        "id": "5-WgABNL1F5o",
        "outputId": "6537139e-6741-40b9-936b-283c379cf77d"
      },
      "execution_count": null,
      "outputs": [
        {
          "output_type": "display_data",
          "data": {
            "text/html": [
              "12300"
            ],
            "text/markdown": "12300",
            "text/latex": "12300",
            "text/plain": [
              "[1] 12300"
            ]
          },
          "metadata": {}
        },
        {
          "output_type": "display_data",
          "data": {
            "text/html": [
              "0.45"
            ],
            "text/markdown": "0.45",
            "text/latex": "0.45",
            "text/plain": [
              "[1] 0.45"
            ]
          },
          "metadata": {}
        }
      ]
    },
    {
      "cell_type": "code",
      "source": [
        "# Replace missing values that are recorded as 999 w NA:\n",
        "fix_na<-function(x){\n",
        "  if_else(x %in% c(999),NA,x)\n",
        "}"
      ],
      "metadata": {
        "id": "BWUhcfFl1m5i"
      },
      "execution_count": null,
      "outputs": []
    },
    {
      "cell_type": "markdown",
      "source": [
        "**Summary functions**\n",
        "\n",
        "Functions that return a single value in `summarize()`"
      ],
      "metadata": {
        "id": "zeiqtJb25Alk"
      }
    },
    {
      "cell_type": "code",
      "source": [
        "# # Add commas:\n",
        "\n",
        "# commas <- function(x) {\n",
        "#   str_flatten(x, collapse = \",\", last = \" and \")\n",
        "# }\n",
        "\n",
        "# commas(c(\"cat\",\"dog\",\"pigeon\"))"
      ],
      "metadata": {
        "id": "CmCXDt-x5HR2"
      },
      "execution_count": null,
      "outputs": []
    },
    {
      "cell_type": "markdown",
      "source": [
        "### Data frame functions"
      ],
      "metadata": {
        "id": "YZQKNSKa6f17"
      }
    },
    {
      "cell_type": "markdown",
      "source": [
        "**Embracing a variable**\n",
        "\n",
        "To wrap it in braces \n",
        "\n",
        "`{{ var }}` "
      ],
      "metadata": {
        "id": "KENA7YBI6pHK"
      }
    },
    {
      "cell_type": "markdown",
      "source": [
        "**When to embrace:**\n",
        "* **Data-masking:** in functions that compute w vars like `arrange()`, `filter()`, and `summarize()` \n",
        "* **Tidy-selection:** in functions that select vars like `select()`, `relocate()`, and `rename()` "
      ],
      "metadata": {
        "id": "lxOsDdH67ohv"
      }
    },
    {
      "cell_type": "code",
      "source": [
        "# Mean of a group: \n",
        "\n",
        "grouped_mean<-function(df,group_var,mean_var){\n",
        "  df%>%\n",
        "    group_by({{group_var}})%>%\n",
        "    summarize(mean({{mean_var}}))\n",
        "}\n",
        "\n",
        "diamonds%>%\n",
        "  grouped_mean(cut,carat)"
      ],
      "metadata": {
        "colab": {
          "base_uri": "https://localhost:8080/",
          "height": 255
        },
        "id": "A1Tp_3or6ork",
        "outputId": "4ca96115-ca39-4784-d6c0-7a33d2248c09"
      },
      "execution_count": null,
      "outputs": [
        {
          "output_type": "display_data",
          "data": {
            "text/html": [
              "<table class=\"dataframe\">\n",
              "<caption>A tibble: 5 × 2</caption>\n",
              "<thead>\n",
              "\t<tr><th scope=col>cut</th><th scope=col>mean(carat)</th></tr>\n",
              "\t<tr><th scope=col>&lt;ord&gt;</th><th scope=col>&lt;dbl&gt;</th></tr>\n",
              "</thead>\n",
              "<tbody>\n",
              "\t<tr><td>Fair     </td><td>1.0461366</td></tr>\n",
              "\t<tr><td>Good     </td><td>0.8491847</td></tr>\n",
              "\t<tr><td>Very Good</td><td>0.8063814</td></tr>\n",
              "\t<tr><td>Premium  </td><td>0.8919549</td></tr>\n",
              "\t<tr><td>Ideal    </td><td>0.7028370</td></tr>\n",
              "</tbody>\n",
              "</table>\n"
            ],
            "text/markdown": "\nA tibble: 5 × 2\n\n| cut &lt;ord&gt; | mean(carat) &lt;dbl&gt; |\n|---|---|\n| Fair      | 1.0461366 |\n| Good      | 0.8491847 |\n| Very Good | 0.8063814 |\n| Premium   | 0.8919549 |\n| Ideal     | 0.7028370 |\n\n",
            "text/latex": "A tibble: 5 × 2\n\\begin{tabular}{ll}\n cut & mean(carat)\\\\\n <ord> & <dbl>\\\\\n\\hline\n\t Fair      & 1.0461366\\\\\n\t Good      & 0.8491847\\\\\n\t Very Good & 0.8063814\\\\\n\t Premium   & 0.8919549\\\\\n\t Ideal     & 0.7028370\\\\\n\\end{tabular}\n",
            "text/plain": [
              "  cut       mean(carat)\n",
              "1 Fair      1.0461366  \n",
              "2 Good      0.8491847  \n",
              "3 Very Good 0.8063814  \n",
              "4 Premium   0.8919549  \n",
              "5 Ideal     0.7028370  "
            ]
          },
          "metadata": {}
        }
      ]
    },
    {
      "cell_type": "code",
      "source": [
        "# Common case: \n",
        "# Count() that computes proportions:\n",
        "\n",
        "count_prop<-function(df,var,sort=FALSE){\n",
        "  df%>%\n",
        "    count({{var}},sort=sort)%>%\n",
        "    mutate(prop=n/sum(n))\n",
        "}\n",
        "\n",
        "diamonds%>%\n",
        "  count_prop(clarity)"
      ],
      "metadata": {
        "colab": {
          "base_uri": "https://localhost:8080/",
          "height": 349
        },
        "id": "8rbX_Njy8fA_",
        "outputId": "d3cd1448-eaef-4b46-9247-b4db49ca74ff"
      },
      "execution_count": null,
      "outputs": [
        {
          "output_type": "display_data",
          "data": {
            "text/html": [
              "<table class=\"dataframe\">\n",
              "<caption>A tibble: 8 × 3</caption>\n",
              "<thead>\n",
              "\t<tr><th scope=col>clarity</th><th scope=col>n</th><th scope=col>prop</th></tr>\n",
              "\t<tr><th scope=col>&lt;ord&gt;</th><th scope=col>&lt;int&gt;</th><th scope=col>&lt;dbl&gt;</th></tr>\n",
              "</thead>\n",
              "<tbody>\n",
              "\t<tr><td>I1  </td><td>  741</td><td>0.01373749</td></tr>\n",
              "\t<tr><td>SI2 </td><td> 9194</td><td>0.17044865</td></tr>\n",
              "\t<tr><td>SI1 </td><td>13065</td><td>0.24221357</td></tr>\n",
              "\t<tr><td>VS2 </td><td>12258</td><td>0.22725250</td></tr>\n",
              "\t<tr><td>VS1 </td><td> 8171</td><td>0.15148313</td></tr>\n",
              "\t<tr><td>VVS2</td><td> 5066</td><td>0.09391917</td></tr>\n",
              "\t<tr><td>VVS1</td><td> 3655</td><td>0.06776047</td></tr>\n",
              "\t<tr><td>IF  </td><td> 1790</td><td>0.03318502</td></tr>\n",
              "</tbody>\n",
              "</table>\n"
            ],
            "text/markdown": "\nA tibble: 8 × 3\n\n| clarity &lt;ord&gt; | n &lt;int&gt; | prop &lt;dbl&gt; |\n|---|---|---|\n| I1   |   741 | 0.01373749 |\n| SI2  |  9194 | 0.17044865 |\n| SI1  | 13065 | 0.24221357 |\n| VS2  | 12258 | 0.22725250 |\n| VS1  |  8171 | 0.15148313 |\n| VVS2 |  5066 | 0.09391917 |\n| VVS1 |  3655 | 0.06776047 |\n| IF   |  1790 | 0.03318502 |\n\n",
            "text/latex": "A tibble: 8 × 3\n\\begin{tabular}{lll}\n clarity & n & prop\\\\\n <ord> & <int> & <dbl>\\\\\n\\hline\n\t I1   &   741 & 0.01373749\\\\\n\t SI2  &  9194 & 0.17044865\\\\\n\t SI1  & 13065 & 0.24221357\\\\\n\t VS2  & 12258 & 0.22725250\\\\\n\t VS1  &  8171 & 0.15148313\\\\\n\t VVS2 &  5066 & 0.09391917\\\\\n\t VVS1 &  3655 & 0.06776047\\\\\n\t IF   &  1790 & 0.03318502\\\\\n\\end{tabular}\n",
            "text/plain": [
              "  clarity n     prop      \n",
              "1 I1        741 0.01373749\n",
              "2 SI2      9194 0.17044865\n",
              "3 SI1     13065 0.24221357\n",
              "4 VS2     12258 0.22725250\n",
              "5 VS1      8171 0.15148313\n",
              "6 VVS2     5066 0.09391917\n",
              "7 VVS1     3655 0.06776047\n",
              "8 IF       1790 0.03318502"
            ]
          },
          "metadata": {}
        }
      ]
    },
    {
      "cell_type": "code",
      "source": [
        "# Common case: \n",
        "# Unique values in a data set:\n",
        "\n",
        "unique_where<-function(df,condition,var){\n",
        "  df%>%\n",
        "    filter({{condition}})%>%\n",
        "    distinct({{var}})%>%\n",
        "    arrange({{var}})\n",
        "}"
      ],
      "metadata": {
        "id": "GniZ444D9y3J"
      },
      "execution_count": null,
      "outputs": []
    },
    {
      "cell_type": "code",
      "source": [
        "# Ex:\n",
        "\n",
        "flights_sub<-function(rows,cols){\n",
        "  flights%>%\n",
        "    filter({{rows}})%>%\n",
        "    select(time_hour,carrier,flight,{{cols}})\n",
        "}\n",
        "\n",
        "flights_sub(dest==\"IAH\",contains(\"time\"))"
      ],
      "metadata": {
        "colab": {
          "base_uri": "https://localhost:8080/",
          "height": 1000
        },
        "id": "Xcqw1lAo-0u4",
        "outputId": "ac654e13-3a99-4495-e6d6-b812481e9cb4"
      },
      "execution_count": null,
      "outputs": [
        {
          "output_type": "display_data",
          "data": {
            "text/html": [
              "<table class=\"dataframe\">\n",
              "<caption>A tibble: 7198 × 8</caption>\n",
              "<thead>\n",
              "\t<tr><th scope=col>time_hour</th><th scope=col>carrier</th><th scope=col>flight</th><th scope=col>dep_time</th><th scope=col>sched_dep_time</th><th scope=col>arr_time</th><th scope=col>sched_arr_time</th><th scope=col>air_time</th></tr>\n",
              "\t<tr><th scope=col>&lt;dttm&gt;</th><th scope=col>&lt;chr&gt;</th><th scope=col>&lt;int&gt;</th><th scope=col>&lt;int&gt;</th><th scope=col>&lt;int&gt;</th><th scope=col>&lt;int&gt;</th><th scope=col>&lt;int&gt;</th><th scope=col>&lt;dbl&gt;</th></tr>\n",
              "</thead>\n",
              "<tbody>\n",
              "\t<tr><td>2013-01-01 05:00:00</td><td>UA</td><td>1545</td><td> 517</td><td> 515</td><td> 830</td><td> 819</td><td>227</td></tr>\n",
              "\t<tr><td>2013-01-01 05:00:00</td><td>UA</td><td>1714</td><td> 533</td><td> 529</td><td> 850</td><td> 830</td><td>227</td></tr>\n",
              "\t<tr><td>2013-01-01 06:00:00</td><td>UA</td><td> 496</td><td> 623</td><td> 627</td><td> 933</td><td> 932</td><td>229</td></tr>\n",
              "\t<tr><td>2013-01-01 07:00:00</td><td>UA</td><td> 473</td><td> 728</td><td> 732</td><td>1041</td><td>1038</td><td>238</td></tr>\n",
              "\t<tr><td>2013-01-01 07:00:00</td><td>UA</td><td>1479</td><td> 739</td><td> 739</td><td>1104</td><td>1038</td><td>249</td></tr>\n",
              "\t<tr><td>2013-01-01 09:00:00</td><td>UA</td><td>1220</td><td> 908</td><td> 908</td><td>1228</td><td>1219</td><td>233</td></tr>\n",
              "\t<tr><td>2013-01-01 10:00:00</td><td>UA</td><td>1004</td><td>1028</td><td>1026</td><td>1350</td><td>1339</td><td>237</td></tr>\n",
              "\t<tr><td>2013-01-01 10:00:00</td><td>UA</td><td> 455</td><td>1044</td><td>1045</td><td>1352</td><td>1351</td><td>229</td></tr>\n",
              "\t<tr><td>2013-01-01 09:00:00</td><td>UA</td><td>1086</td><td>1114</td><td> 900</td><td>1447</td><td>1222</td><td>248</td></tr>\n",
              "\t<tr><td>2013-01-01 12:00:00</td><td>UA</td><td>1461</td><td>1205</td><td>1200</td><td>1503</td><td>1505</td><td>221</td></tr>\n",
              "\t<tr><td>2013-01-01 12:00:00</td><td>UA</td><td>1280</td><td>1248</td><td>1250</td><td>1607</td><td>1607</td><td>238</td></tr>\n",
              "\t<tr><td>2013-01-01 13:00:00</td><td>UA</td><td>1258</td><td>1356</td><td>1350</td><td>1659</td><td>1640</td><td>218</td></tr>\n",
              "\t<tr><td>2013-01-01 14:00:00</td><td>UA</td><td> 997</td><td>1430</td><td>1430</td><td>1735</td><td>1744</td><td>227</td></tr>\n",
              "\t<tr><td>2013-01-01 15:00:00</td><td>UA</td><td>1695</td><td>1527</td><td>1515</td><td>1854</td><td>1810</td><td>210</td></tr>\n",
              "\t<tr><td>2013-01-01 16:00:00</td><td>UA</td><td>1178</td><td>1620</td><td>1620</td><td>1945</td><td>1922</td><td>242</td></tr>\n",
              "\t<tr><td>2013-01-01 17:00:00</td><td>UA</td><td>1259</td><td>1702</td><td>1700</td><td>2044</td><td>2028</td><td>234</td></tr>\n",
              "\t<tr><td>2013-01-01 17:00:00</td><td>UA</td><td>1712</td><td>1725</td><td>1720</td><td>2045</td><td>2021</td><td>235</td></tr>\n",
              "\t<tr><td>2013-01-01 18:00:00</td><td>UA</td><td>1128</td><td>1855</td><td>1848</td><td>2203</td><td>2200</td><td>231</td></tr>\n",
              "\t<tr><td>2013-01-01 20:00:00</td><td>UA</td><td>1233</td><td>1959</td><td>2000</td><td>2310</td><td>2307</td><td>232</td></tr>\n",
              "\t<tr><td>2013-01-01 20:00:00</td><td>UA</td><td> 834</td><td>2031</td><td>2030</td><td>2344</td><td>2335</td><td>223</td></tr>\n",
              "\t<tr><td>2013-01-02 05:00:00</td><td>UA</td><td>1453</td><td> 512</td><td> 515</td><td> 809</td><td> 819</td><td>214</td></tr>\n",
              "\t<tr><td>2013-01-02 05:00:00</td><td>UA</td><td> 407</td><td> 536</td><td> 529</td><td> 840</td><td> 828</td><td>231</td></tr>\n",
              "\t<tr><td>2013-01-02 06:00:00</td><td>UA</td><td> 473</td><td> 625</td><td> 629</td><td> 935</td><td> 934</td><td>230</td></tr>\n",
              "\t<tr><td>2013-01-02 07:00:00</td><td>UA</td><td>1509</td><td> 732</td><td> 732</td><td>1047</td><td>1040</td><td>230</td></tr>\n",
              "\t<tr><td>2013-01-02 07:00:00</td><td>UA</td><td> 251</td><td> 752</td><td> 745</td><td>1055</td><td>1042</td><td>215</td></tr>\n",
              "\t<tr><td>2013-01-02 09:00:00</td><td>UA</td><td> 667</td><td> 859</td><td> 900</td><td>1204</td><td>1220</td><td>230</td></tr>\n",
              "\t<tr><td>2013-01-02 09:00:00</td><td>UA</td><td> 493</td><td> 913</td><td> 908</td><td>1252</td><td>1215</td><td>227</td></tr>\n",
              "\t<tr><td>2013-01-02 10:00:00</td><td>UA</td><td>1563</td><td>1027</td><td>1026</td><td>1328</td><td>1339</td><td>219</td></tr>\n",
              "\t<tr><td>2013-01-02 10:00:00</td><td>UA</td><td> 491</td><td>1057</td><td>1045</td><td>1406</td><td>1351</td><td>226</td></tr>\n",
              "\t<tr><td>2013-01-02 12:00:00</td><td>UA</td><td>1461</td><td>1200</td><td>1200</td><td>1513</td><td>1505</td><td>232</td></tr>\n",
              "\t<tr><td>⋮</td><td>⋮</td><td>⋮</td><td>⋮</td><td>⋮</td><td>⋮</td><td>⋮</td><td>⋮</td></tr>\n",
              "\t<tr><td>2013-09-29 14:00:00</td><td>UA</td><td>1232</td><td>1428</td><td>1415</td><td>1719</td><td>1707</td><td>204</td></tr>\n",
              "\t<tr><td>2013-09-29 15:00:00</td><td>UA</td><td> 404</td><td>1519</td><td>1520</td><td>1826</td><td>1805</td><td>216</td></tr>\n",
              "\t<tr><td>2013-09-29 16:00:00</td><td>UA</td><td>1695</td><td>1631</td><td>1629</td><td>1923</td><td>1919</td><td>212</td></tr>\n",
              "\t<tr><td>2013-09-29 17:00:00</td><td>AA</td><td> 211</td><td>1656</td><td>1700</td><td>1954</td><td>1955</td><td>200</td></tr>\n",
              "\t<tr><td>2013-09-29 17:00:00</td><td>UA</td><td> 488</td><td>1721</td><td>1720</td><td>2020</td><td>2010</td><td>211</td></tr>\n",
              "\t<tr><td>2013-09-29 17:00:00</td><td>UA</td><td> 501</td><td>1722</td><td>1700</td><td>2026</td><td>1953</td><td>194</td></tr>\n",
              "\t<tr><td>2013-09-29 18:00:00</td><td>UA</td><td>1128</td><td>1859</td><td>1859</td><td>2149</td><td>2159</td><td>200</td></tr>\n",
              "\t<tr><td>2013-09-29 20:00:00</td><td>UA</td><td> 352</td><td>1959</td><td>2000</td><td>2220</td><td>2250</td><td>179</td></tr>\n",
              "\t<tr><td>2013-09-29 20:00:00</td><td>UA</td><td> 475</td><td>2103</td><td>2051</td><td>2326</td><td>2340</td><td>183</td></tr>\n",
              "\t<tr><td>2013-09-30 05:00:00</td><td>UA</td><td> 252</td><td> 516</td><td> 517</td><td> 734</td><td> 757</td><td>181</td></tr>\n",
              "\t<tr><td>2013-09-30 05:00:00</td><td>UA</td><td>1714</td><td> 549</td><td> 545</td><td> 825</td><td> 827</td><td>190</td></tr>\n",
              "\t<tr><td>2013-09-30 06:00:00</td><td>UA</td><td>1454</td><td> 628</td><td> 630</td><td> 852</td><td> 919</td><td>180</td></tr>\n",
              "\t<tr><td>2013-09-30 07:00:00</td><td>UA</td><td> 261</td><td> 714</td><td> 720</td><td> 955</td><td>1000</td><td>183</td></tr>\n",
              "\t<tr><td>2013-09-30 07:00:00</td><td>UA</td><td> 598</td><td> 746</td><td> 745</td><td>1034</td><td>1028</td><td>204</td></tr>\n",
              "\t<tr><td>2013-09-30 08:00:00</td><td>UA</td><td> 207</td><td> 850</td><td> 855</td><td>1144</td><td>1156</td><td>193</td></tr>\n",
              "\t<tr><td>2013-09-30 09:00:00</td><td>UA</td><td>1711</td><td> 906</td><td> 910</td><td>1151</td><td>1156</td><td>198</td></tr>\n",
              "\t<tr><td>2013-09-30 10:00:00</td><td>UA</td><td> 488</td><td>1022</td><td>1029</td><td>1237</td><td>1318</td><td>178</td></tr>\n",
              "\t<tr><td>2013-09-30 10:00:00</td><td>UA</td><td>1025</td><td>1029</td><td>1030</td><td>1337</td><td>1326</td><td>203</td></tr>\n",
              "\t<tr><td>2013-09-30 11:00:00</td><td>UA</td><td> 566</td><td>1151</td><td>1155</td><td>1423</td><td>1437</td><td>184</td></tr>\n",
              "\t<tr><td>2013-09-30 12:00:00</td><td>UA</td><td>1280</td><td>1257</td><td>1259</td><td>1541</td><td>1555</td><td>200</td></tr>\n",
              "\t<tr><td>2013-09-30 14:00:00</td><td>UA</td><td>1232</td><td>1410</td><td>1415</td><td>1635</td><td>1704</td><td>181</td></tr>\n",
              "\t<tr><td>2013-09-30 14:00:00</td><td>UA</td><td> 255</td><td>1447</td><td>1452</td><td>1735</td><td>1757</td><td>197</td></tr>\n",
              "\t<tr><td>2013-09-30 15:00:00</td><td>UA</td><td> 404</td><td>1551</td><td>1521</td><td>1825</td><td>1807</td><td>190</td></tr>\n",
              "\t<tr><td>2013-09-30 16:00:00</td><td>UA</td><td>1695</td><td>1623</td><td>1629</td><td>1852</td><td>1919</td><td>177</td></tr>\n",
              "\t<tr><td>2013-09-30 17:00:00</td><td>AA</td><td> 211</td><td>1656</td><td>1700</td><td>1950</td><td>1955</td><td>192</td></tr>\n",
              "\t<tr><td>2013-09-30 17:00:00</td><td>UA</td><td> 525</td><td>1701</td><td>1704</td><td>1939</td><td>1958</td><td>182</td></tr>\n",
              "\t<tr><td>2013-09-30 17:00:00</td><td>UA</td><td> 652</td><td>1729</td><td>1720</td><td>2001</td><td>2010</td><td>173</td></tr>\n",
              "\t<tr><td>2013-09-30 18:00:00</td><td>UA</td><td>1128</td><td>1859</td><td>1859</td><td>2134</td><td>2159</td><td>180</td></tr>\n",
              "\t<tr><td>2013-09-30 20:00:00</td><td>UA</td><td>1545</td><td>2015</td><td>2015</td><td>2244</td><td>2307</td><td>174</td></tr>\n",
              "\t<tr><td>2013-09-30 21:00:00</td><td>UA</td><td> 475</td><td>2105</td><td>2106</td><td>2329</td><td>2354</td><td>175</td></tr>\n",
              "</tbody>\n",
              "</table>\n"
            ],
            "text/markdown": "\nA tibble: 7198 × 8\n\n| time_hour &lt;dttm&gt; | carrier &lt;chr&gt; | flight &lt;int&gt; | dep_time &lt;int&gt; | sched_dep_time &lt;int&gt; | arr_time &lt;int&gt; | sched_arr_time &lt;int&gt; | air_time &lt;dbl&gt; |\n|---|---|---|---|---|---|---|---|\n| 2013-01-01 05:00:00 | UA | 1545 |  517 |  515 |  830 |  819 | 227 |\n| 2013-01-01 05:00:00 | UA | 1714 |  533 |  529 |  850 |  830 | 227 |\n| 2013-01-01 06:00:00 | UA |  496 |  623 |  627 |  933 |  932 | 229 |\n| 2013-01-01 07:00:00 | UA |  473 |  728 |  732 | 1041 | 1038 | 238 |\n| 2013-01-01 07:00:00 | UA | 1479 |  739 |  739 | 1104 | 1038 | 249 |\n| 2013-01-01 09:00:00 | UA | 1220 |  908 |  908 | 1228 | 1219 | 233 |\n| 2013-01-01 10:00:00 | UA | 1004 | 1028 | 1026 | 1350 | 1339 | 237 |\n| 2013-01-01 10:00:00 | UA |  455 | 1044 | 1045 | 1352 | 1351 | 229 |\n| 2013-01-01 09:00:00 | UA | 1086 | 1114 |  900 | 1447 | 1222 | 248 |\n| 2013-01-01 12:00:00 | UA | 1461 | 1205 | 1200 | 1503 | 1505 | 221 |\n| 2013-01-01 12:00:00 | UA | 1280 | 1248 | 1250 | 1607 | 1607 | 238 |\n| 2013-01-01 13:00:00 | UA | 1258 | 1356 | 1350 | 1659 | 1640 | 218 |\n| 2013-01-01 14:00:00 | UA |  997 | 1430 | 1430 | 1735 | 1744 | 227 |\n| 2013-01-01 15:00:00 | UA | 1695 | 1527 | 1515 | 1854 | 1810 | 210 |\n| 2013-01-01 16:00:00 | UA | 1178 | 1620 | 1620 | 1945 | 1922 | 242 |\n| 2013-01-01 17:00:00 | UA | 1259 | 1702 | 1700 | 2044 | 2028 | 234 |\n| 2013-01-01 17:00:00 | UA | 1712 | 1725 | 1720 | 2045 | 2021 | 235 |\n| 2013-01-01 18:00:00 | UA | 1128 | 1855 | 1848 | 2203 | 2200 | 231 |\n| 2013-01-01 20:00:00 | UA | 1233 | 1959 | 2000 | 2310 | 2307 | 232 |\n| 2013-01-01 20:00:00 | UA |  834 | 2031 | 2030 | 2344 | 2335 | 223 |\n| 2013-01-02 05:00:00 | UA | 1453 |  512 |  515 |  809 |  819 | 214 |\n| 2013-01-02 05:00:00 | UA |  407 |  536 |  529 |  840 |  828 | 231 |\n| 2013-01-02 06:00:00 | UA |  473 |  625 |  629 |  935 |  934 | 230 |\n| 2013-01-02 07:00:00 | UA | 1509 |  732 |  732 | 1047 | 1040 | 230 |\n| 2013-01-02 07:00:00 | UA |  251 |  752 |  745 | 1055 | 1042 | 215 |\n| 2013-01-02 09:00:00 | UA |  667 |  859 |  900 | 1204 | 1220 | 230 |\n| 2013-01-02 09:00:00 | UA |  493 |  913 |  908 | 1252 | 1215 | 227 |\n| 2013-01-02 10:00:00 | UA | 1563 | 1027 | 1026 | 1328 | 1339 | 219 |\n| 2013-01-02 10:00:00 | UA |  491 | 1057 | 1045 | 1406 | 1351 | 226 |\n| 2013-01-02 12:00:00 | UA | 1461 | 1200 | 1200 | 1513 | 1505 | 232 |\n| ⋮ | ⋮ | ⋮ | ⋮ | ⋮ | ⋮ | ⋮ | ⋮ |\n| 2013-09-29 14:00:00 | UA | 1232 | 1428 | 1415 | 1719 | 1707 | 204 |\n| 2013-09-29 15:00:00 | UA |  404 | 1519 | 1520 | 1826 | 1805 | 216 |\n| 2013-09-29 16:00:00 | UA | 1695 | 1631 | 1629 | 1923 | 1919 | 212 |\n| 2013-09-29 17:00:00 | AA |  211 | 1656 | 1700 | 1954 | 1955 | 200 |\n| 2013-09-29 17:00:00 | UA |  488 | 1721 | 1720 | 2020 | 2010 | 211 |\n| 2013-09-29 17:00:00 | UA |  501 | 1722 | 1700 | 2026 | 1953 | 194 |\n| 2013-09-29 18:00:00 | UA | 1128 | 1859 | 1859 | 2149 | 2159 | 200 |\n| 2013-09-29 20:00:00 | UA |  352 | 1959 | 2000 | 2220 | 2250 | 179 |\n| 2013-09-29 20:00:00 | UA |  475 | 2103 | 2051 | 2326 | 2340 | 183 |\n| 2013-09-30 05:00:00 | UA |  252 |  516 |  517 |  734 |  757 | 181 |\n| 2013-09-30 05:00:00 | UA | 1714 |  549 |  545 |  825 |  827 | 190 |\n| 2013-09-30 06:00:00 | UA | 1454 |  628 |  630 |  852 |  919 | 180 |\n| 2013-09-30 07:00:00 | UA |  261 |  714 |  720 |  955 | 1000 | 183 |\n| 2013-09-30 07:00:00 | UA |  598 |  746 |  745 | 1034 | 1028 | 204 |\n| 2013-09-30 08:00:00 | UA |  207 |  850 |  855 | 1144 | 1156 | 193 |\n| 2013-09-30 09:00:00 | UA | 1711 |  906 |  910 | 1151 | 1156 | 198 |\n| 2013-09-30 10:00:00 | UA |  488 | 1022 | 1029 | 1237 | 1318 | 178 |\n| 2013-09-30 10:00:00 | UA | 1025 | 1029 | 1030 | 1337 | 1326 | 203 |\n| 2013-09-30 11:00:00 | UA |  566 | 1151 | 1155 | 1423 | 1437 | 184 |\n| 2013-09-30 12:00:00 | UA | 1280 | 1257 | 1259 | 1541 | 1555 | 200 |\n| 2013-09-30 14:00:00 | UA | 1232 | 1410 | 1415 | 1635 | 1704 | 181 |\n| 2013-09-30 14:00:00 | UA |  255 | 1447 | 1452 | 1735 | 1757 | 197 |\n| 2013-09-30 15:00:00 | UA |  404 | 1551 | 1521 | 1825 | 1807 | 190 |\n| 2013-09-30 16:00:00 | UA | 1695 | 1623 | 1629 | 1852 | 1919 | 177 |\n| 2013-09-30 17:00:00 | AA |  211 | 1656 | 1700 | 1950 | 1955 | 192 |\n| 2013-09-30 17:00:00 | UA |  525 | 1701 | 1704 | 1939 | 1958 | 182 |\n| 2013-09-30 17:00:00 | UA |  652 | 1729 | 1720 | 2001 | 2010 | 173 |\n| 2013-09-30 18:00:00 | UA | 1128 | 1859 | 1859 | 2134 | 2159 | 180 |\n| 2013-09-30 20:00:00 | UA | 1545 | 2015 | 2015 | 2244 | 2307 | 174 |\n| 2013-09-30 21:00:00 | UA |  475 | 2105 | 2106 | 2329 | 2354 | 175 |\n\n",
            "text/latex": "A tibble: 7198 × 8\n\\begin{tabular}{llllllll}\n time\\_hour & carrier & flight & dep\\_time & sched\\_dep\\_time & arr\\_time & sched\\_arr\\_time & air\\_time\\\\\n <dttm> & <chr> & <int> & <int> & <int> & <int> & <int> & <dbl>\\\\\n\\hline\n\t 2013-01-01 05:00:00 & UA & 1545 &  517 &  515 &  830 &  819 & 227\\\\\n\t 2013-01-01 05:00:00 & UA & 1714 &  533 &  529 &  850 &  830 & 227\\\\\n\t 2013-01-01 06:00:00 & UA &  496 &  623 &  627 &  933 &  932 & 229\\\\\n\t 2013-01-01 07:00:00 & UA &  473 &  728 &  732 & 1041 & 1038 & 238\\\\\n\t 2013-01-01 07:00:00 & UA & 1479 &  739 &  739 & 1104 & 1038 & 249\\\\\n\t 2013-01-01 09:00:00 & UA & 1220 &  908 &  908 & 1228 & 1219 & 233\\\\\n\t 2013-01-01 10:00:00 & UA & 1004 & 1028 & 1026 & 1350 & 1339 & 237\\\\\n\t 2013-01-01 10:00:00 & UA &  455 & 1044 & 1045 & 1352 & 1351 & 229\\\\\n\t 2013-01-01 09:00:00 & UA & 1086 & 1114 &  900 & 1447 & 1222 & 248\\\\\n\t 2013-01-01 12:00:00 & UA & 1461 & 1205 & 1200 & 1503 & 1505 & 221\\\\\n\t 2013-01-01 12:00:00 & UA & 1280 & 1248 & 1250 & 1607 & 1607 & 238\\\\\n\t 2013-01-01 13:00:00 & UA & 1258 & 1356 & 1350 & 1659 & 1640 & 218\\\\\n\t 2013-01-01 14:00:00 & UA &  997 & 1430 & 1430 & 1735 & 1744 & 227\\\\\n\t 2013-01-01 15:00:00 & UA & 1695 & 1527 & 1515 & 1854 & 1810 & 210\\\\\n\t 2013-01-01 16:00:00 & UA & 1178 & 1620 & 1620 & 1945 & 1922 & 242\\\\\n\t 2013-01-01 17:00:00 & UA & 1259 & 1702 & 1700 & 2044 & 2028 & 234\\\\\n\t 2013-01-01 17:00:00 & UA & 1712 & 1725 & 1720 & 2045 & 2021 & 235\\\\\n\t 2013-01-01 18:00:00 & UA & 1128 & 1855 & 1848 & 2203 & 2200 & 231\\\\\n\t 2013-01-01 20:00:00 & UA & 1233 & 1959 & 2000 & 2310 & 2307 & 232\\\\\n\t 2013-01-01 20:00:00 & UA &  834 & 2031 & 2030 & 2344 & 2335 & 223\\\\\n\t 2013-01-02 05:00:00 & UA & 1453 &  512 &  515 &  809 &  819 & 214\\\\\n\t 2013-01-02 05:00:00 & UA &  407 &  536 &  529 &  840 &  828 & 231\\\\\n\t 2013-01-02 06:00:00 & UA &  473 &  625 &  629 &  935 &  934 & 230\\\\\n\t 2013-01-02 07:00:00 & UA & 1509 &  732 &  732 & 1047 & 1040 & 230\\\\\n\t 2013-01-02 07:00:00 & UA &  251 &  752 &  745 & 1055 & 1042 & 215\\\\\n\t 2013-01-02 09:00:00 & UA &  667 &  859 &  900 & 1204 & 1220 & 230\\\\\n\t 2013-01-02 09:00:00 & UA &  493 &  913 &  908 & 1252 & 1215 & 227\\\\\n\t 2013-01-02 10:00:00 & UA & 1563 & 1027 & 1026 & 1328 & 1339 & 219\\\\\n\t 2013-01-02 10:00:00 & UA &  491 & 1057 & 1045 & 1406 & 1351 & 226\\\\\n\t 2013-01-02 12:00:00 & UA & 1461 & 1200 & 1200 & 1513 & 1505 & 232\\\\\n\t ⋮ & ⋮ & ⋮ & ⋮ & ⋮ & ⋮ & ⋮ & ⋮\\\\\n\t 2013-09-29 14:00:00 & UA & 1232 & 1428 & 1415 & 1719 & 1707 & 204\\\\\n\t 2013-09-29 15:00:00 & UA &  404 & 1519 & 1520 & 1826 & 1805 & 216\\\\\n\t 2013-09-29 16:00:00 & UA & 1695 & 1631 & 1629 & 1923 & 1919 & 212\\\\\n\t 2013-09-29 17:00:00 & AA &  211 & 1656 & 1700 & 1954 & 1955 & 200\\\\\n\t 2013-09-29 17:00:00 & UA &  488 & 1721 & 1720 & 2020 & 2010 & 211\\\\\n\t 2013-09-29 17:00:00 & UA &  501 & 1722 & 1700 & 2026 & 1953 & 194\\\\\n\t 2013-09-29 18:00:00 & UA & 1128 & 1859 & 1859 & 2149 & 2159 & 200\\\\\n\t 2013-09-29 20:00:00 & UA &  352 & 1959 & 2000 & 2220 & 2250 & 179\\\\\n\t 2013-09-29 20:00:00 & UA &  475 & 2103 & 2051 & 2326 & 2340 & 183\\\\\n\t 2013-09-30 05:00:00 & UA &  252 &  516 &  517 &  734 &  757 & 181\\\\\n\t 2013-09-30 05:00:00 & UA & 1714 &  549 &  545 &  825 &  827 & 190\\\\\n\t 2013-09-30 06:00:00 & UA & 1454 &  628 &  630 &  852 &  919 & 180\\\\\n\t 2013-09-30 07:00:00 & UA &  261 &  714 &  720 &  955 & 1000 & 183\\\\\n\t 2013-09-30 07:00:00 & UA &  598 &  746 &  745 & 1034 & 1028 & 204\\\\\n\t 2013-09-30 08:00:00 & UA &  207 &  850 &  855 & 1144 & 1156 & 193\\\\\n\t 2013-09-30 09:00:00 & UA & 1711 &  906 &  910 & 1151 & 1156 & 198\\\\\n\t 2013-09-30 10:00:00 & UA &  488 & 1022 & 1029 & 1237 & 1318 & 178\\\\\n\t 2013-09-30 10:00:00 & UA & 1025 & 1029 & 1030 & 1337 & 1326 & 203\\\\\n\t 2013-09-30 11:00:00 & UA &  566 & 1151 & 1155 & 1423 & 1437 & 184\\\\\n\t 2013-09-30 12:00:00 & UA & 1280 & 1257 & 1259 & 1541 & 1555 & 200\\\\\n\t 2013-09-30 14:00:00 & UA & 1232 & 1410 & 1415 & 1635 & 1704 & 181\\\\\n\t 2013-09-30 14:00:00 & UA &  255 & 1447 & 1452 & 1735 & 1757 & 197\\\\\n\t 2013-09-30 15:00:00 & UA &  404 & 1551 & 1521 & 1825 & 1807 & 190\\\\\n\t 2013-09-30 16:00:00 & UA & 1695 & 1623 & 1629 & 1852 & 1919 & 177\\\\\n\t 2013-09-30 17:00:00 & AA &  211 & 1656 & 1700 & 1950 & 1955 & 192\\\\\n\t 2013-09-30 17:00:00 & UA &  525 & 1701 & 1704 & 1939 & 1958 & 182\\\\\n\t 2013-09-30 17:00:00 & UA &  652 & 1729 & 1720 & 2001 & 2010 & 173\\\\\n\t 2013-09-30 18:00:00 & UA & 1128 & 1859 & 1859 & 2134 & 2159 & 180\\\\\n\t 2013-09-30 20:00:00 & UA & 1545 & 2015 & 2015 & 2244 & 2307 & 174\\\\\n\t 2013-09-30 21:00:00 & UA &  475 & 2105 & 2106 & 2329 & 2354 & 175\\\\\n\\end{tabular}\n",
            "text/plain": [
              "     time_hour           carrier flight dep_time sched_dep_time arr_time\n",
              "1    2013-01-01 05:00:00 UA      1545    517      515            830    \n",
              "2    2013-01-01 05:00:00 UA      1714    533      529            850    \n",
              "3    2013-01-01 06:00:00 UA       496    623      627            933    \n",
              "4    2013-01-01 07:00:00 UA       473    728      732           1041    \n",
              "5    2013-01-01 07:00:00 UA      1479    739      739           1104    \n",
              "6    2013-01-01 09:00:00 UA      1220    908      908           1228    \n",
              "7    2013-01-01 10:00:00 UA      1004   1028     1026           1350    \n",
              "8    2013-01-01 10:00:00 UA       455   1044     1045           1352    \n",
              "9    2013-01-01 09:00:00 UA      1086   1114      900           1447    \n",
              "10   2013-01-01 12:00:00 UA      1461   1205     1200           1503    \n",
              "11   2013-01-01 12:00:00 UA      1280   1248     1250           1607    \n",
              "12   2013-01-01 13:00:00 UA      1258   1356     1350           1659    \n",
              "13   2013-01-01 14:00:00 UA       997   1430     1430           1735    \n",
              "14   2013-01-01 15:00:00 UA      1695   1527     1515           1854    \n",
              "15   2013-01-01 16:00:00 UA      1178   1620     1620           1945    \n",
              "16   2013-01-01 17:00:00 UA      1259   1702     1700           2044    \n",
              "17   2013-01-01 17:00:00 UA      1712   1725     1720           2045    \n",
              "18   2013-01-01 18:00:00 UA      1128   1855     1848           2203    \n",
              "19   2013-01-01 20:00:00 UA      1233   1959     2000           2310    \n",
              "20   2013-01-01 20:00:00 UA       834   2031     2030           2344    \n",
              "21   2013-01-02 05:00:00 UA      1453    512      515            809    \n",
              "22   2013-01-02 05:00:00 UA       407    536      529            840    \n",
              "23   2013-01-02 06:00:00 UA       473    625      629            935    \n",
              "24   2013-01-02 07:00:00 UA      1509    732      732           1047    \n",
              "25   2013-01-02 07:00:00 UA       251    752      745           1055    \n",
              "26   2013-01-02 09:00:00 UA       667    859      900           1204    \n",
              "27   2013-01-02 09:00:00 UA       493    913      908           1252    \n",
              "28   2013-01-02 10:00:00 UA      1563   1027     1026           1328    \n",
              "29   2013-01-02 10:00:00 UA       491   1057     1045           1406    \n",
              "30   2013-01-02 12:00:00 UA      1461   1200     1200           1513    \n",
              "⋮    ⋮                   ⋮       ⋮      ⋮        ⋮              ⋮       \n",
              "7169 2013-09-29 14:00:00 UA      1232   1428     1415           1719    \n",
              "7170 2013-09-29 15:00:00 UA       404   1519     1520           1826    \n",
              "7171 2013-09-29 16:00:00 UA      1695   1631     1629           1923    \n",
              "7172 2013-09-29 17:00:00 AA       211   1656     1700           1954    \n",
              "7173 2013-09-29 17:00:00 UA       488   1721     1720           2020    \n",
              "7174 2013-09-29 17:00:00 UA       501   1722     1700           2026    \n",
              "7175 2013-09-29 18:00:00 UA      1128   1859     1859           2149    \n",
              "7176 2013-09-29 20:00:00 UA       352   1959     2000           2220    \n",
              "7177 2013-09-29 20:00:00 UA       475   2103     2051           2326    \n",
              "7178 2013-09-30 05:00:00 UA       252    516      517            734    \n",
              "7179 2013-09-30 05:00:00 UA      1714    549      545            825    \n",
              "7180 2013-09-30 06:00:00 UA      1454    628      630            852    \n",
              "7181 2013-09-30 07:00:00 UA       261    714      720            955    \n",
              "7182 2013-09-30 07:00:00 UA       598    746      745           1034    \n",
              "7183 2013-09-30 08:00:00 UA       207    850      855           1144    \n",
              "7184 2013-09-30 09:00:00 UA      1711    906      910           1151    \n",
              "7185 2013-09-30 10:00:00 UA       488   1022     1029           1237    \n",
              "7186 2013-09-30 10:00:00 UA      1025   1029     1030           1337    \n",
              "7187 2013-09-30 11:00:00 UA       566   1151     1155           1423    \n",
              "7188 2013-09-30 12:00:00 UA      1280   1257     1259           1541    \n",
              "7189 2013-09-30 14:00:00 UA      1232   1410     1415           1635    \n",
              "7190 2013-09-30 14:00:00 UA       255   1447     1452           1735    \n",
              "7191 2013-09-30 15:00:00 UA       404   1551     1521           1825    \n",
              "7192 2013-09-30 16:00:00 UA      1695   1623     1629           1852    \n",
              "7193 2013-09-30 17:00:00 AA       211   1656     1700           1950    \n",
              "7194 2013-09-30 17:00:00 UA       525   1701     1704           1939    \n",
              "7195 2013-09-30 17:00:00 UA       652   1729     1720           2001    \n",
              "7196 2013-09-30 18:00:00 UA      1128   1859     1859           2134    \n",
              "7197 2013-09-30 20:00:00 UA      1545   2015     2015           2244    \n",
              "7198 2013-09-30 21:00:00 UA       475   2105     2106           2329    \n",
              "     sched_arr_time air_time\n",
              "1     819           227     \n",
              "2     830           227     \n",
              "3     932           229     \n",
              "4    1038           238     \n",
              "5    1038           249     \n",
              "6    1219           233     \n",
              "7    1339           237     \n",
              "8    1351           229     \n",
              "9    1222           248     \n",
              "10   1505           221     \n",
              "11   1607           238     \n",
              "12   1640           218     \n",
              "13   1744           227     \n",
              "14   1810           210     \n",
              "15   1922           242     \n",
              "16   2028           234     \n",
              "17   2021           235     \n",
              "18   2200           231     \n",
              "19   2307           232     \n",
              "20   2335           223     \n",
              "21    819           214     \n",
              "22    828           231     \n",
              "23    934           230     \n",
              "24   1040           230     \n",
              "25   1042           215     \n",
              "26   1220           230     \n",
              "27   1215           227     \n",
              "28   1339           219     \n",
              "29   1351           226     \n",
              "30   1505           232     \n",
              "⋮    ⋮              ⋮       \n",
              "7169 1707           204     \n",
              "7170 1805           216     \n",
              "7171 1919           212     \n",
              "7172 1955           200     \n",
              "7173 2010           211     \n",
              "7174 1953           194     \n",
              "7175 2159           200     \n",
              "7176 2250           179     \n",
              "7177 2340           183     \n",
              "7178  757           181     \n",
              "7179  827           190     \n",
              "7180  919           180     \n",
              "7181 1000           183     \n",
              "7182 1028           204     \n",
              "7183 1156           193     \n",
              "7184 1156           198     \n",
              "7185 1318           178     \n",
              "7186 1326           203     \n",
              "7187 1437           184     \n",
              "7188 1555           200     \n",
              "7189 1704           181     \n",
              "7190 1757           197     \n",
              "7191 1807           190     \n",
              "7192 1919           177     \n",
              "7193 1955           192     \n",
              "7194 1958           182     \n",
              "7195 2010           173     \n",
              "7196 2159           180     \n",
              "7197 2307           174     \n",
              "7198 2354           175     "
            ]
          },
          "metadata": {}
        }
      ]
    },
    {
      "cell_type": "markdown",
      "source": [],
      "metadata": {
        "id": "0SeLYSzN9yuO"
      }
    },
    {
      "cell_type": "markdown",
      "source": [
        "### Plot functions "
      ],
      "metadata": {
        "id": "49wOqngO6iDV"
      }
    },
    {
      "cell_type": "code",
      "source": [
        "# Many histograms \n",
        "\n",
        "histogram<-function(df,var,binwidth=NULL){\n",
        "  df%>%\n",
        "    ggplot(aes(x={{var}}))+\n",
        "    geom_histogram(binwidth=binwidth)\n",
        "}\n",
        "\n",
        "diamonds%>%\n",
        "  histogram(carat,0.1)"
      ],
      "metadata": {
        "colab": {
          "base_uri": "https://localhost:8080/",
          "height": 257
        },
        "id": "L1thbhMe_PXj",
        "outputId": "13b70314-8005-47a2-d070-e634e10fd128"
      },
      "execution_count": null,
      "outputs": [
        {
          "output_type": "display_data",
          "data": {
            "text/plain": [
              "plot without title"
            ],
            "image/png": "[encoded data removed]"
          },
          "metadata": {
            "image/png": {
              "width": 300,
              "height": 240
            }
          }
        }
      ]
    },
    {
      "cell_type": "code",
      "source": [
        "# Bar chart where you automatically sort bars in frequency order\n",
        "\n",
        "sorted_bars<-function(df,var){\n",
        "  df%>%\n",
        "    mutate({{var}}:=fct_rev(fct_infreq({{var}})))%>%\n",
        "    ggplot(aes(y={{var}}))+\n",
        "    geom_bar()\n",
        "}\n",
        "\n",
        "diamonds%>%\n",
        "  sorted_bars(cut)"
      ],
      "metadata": {
        "colab": {
          "base_uri": "https://localhost:8080/",
          "height": 257
        },
        "id": "whXlz8jcATHM",
        "outputId": "08281f51-0aa5-4bad-d8f7-dc1607fdf570"
      },
      "execution_count": null,
      "outputs": [
        {
          "output_type": "display_data",
          "data": {
            "text/plain": [
              "plot without title"
            ],
            "image/png": "[encoded data removed]"
          },
          "metadata": {
            "image/png": {
              "width": 300,
              "height": 240
            }
          }
        }
      ]
    },
    {
      "cell_type": "code",
      "source": [
        "# Bar chart for just a subset:\n",
        "\n",
        "conditional_bars<-function(df,condition,var){\n",
        "  df%>%\n",
        "    filter({{condition}})%>%\n",
        "    ggplot(aes(x={{var}}))+\n",
        "    geom_bar()\n",
        "}\n",
        "\n",
        "diamonds%>%\n",
        "  conditional_bars(cut==\"Good\",clarity)"
      ],
      "metadata": {
        "colab": {
          "base_uri": "https://localhost:8080/",
          "height": 257
        },
        "id": "RSMq9neLAqbr",
        "outputId": "b087be09-289c-4c44-ab96-946ce6211574"
      },
      "execution_count": null,
      "outputs": [
        {
          "output_type": "display_data",
          "data": {
            "text/plain": [
              "plot without title"
            ],
            "image/png": "[encoded data removed]"
          },
          "metadata": {
            "image/png": {
              "width": 300,
              "height": 240
            }
          }
        }
      ]
    },
    {
      "cell_type": "markdown",
      "source": [
        "## 28: Interation"
      ],
      "metadata": {
        "id": "_zRlLaBFBe1n"
      }
    },
    {
      "cell_type": "markdown",
      "source": [
        "**Iteration:** repeatedly performing the same action on different objects\n",
        "\n",
        "Examples:\n",
        "* `facet_wrap()` & `facet_grid()`: draws a plot for ech subset\n",
        "* `group_by()` + `summarize()`: computes a summary statistics for ech subset\n",
        "* `unnest_wider()` & `unnest_longer()`: create new rows and cols for ech elemtent\n",
        "\n",
        "**Functional programming:** built around functions that take other functions as inputs "
      ],
      "metadata": {
        "id": "UARLaml7yEaK"
      }
    },
    {
      "cell_type": "markdown",
      "source": [
        "**Count the number of observations & compute the median of every col:**"
      ],
      "metadata": {
        "id": "Pp1aZqj5y_Sa"
      }
    },
    {
      "cell_type": "code",
      "source": [
        "df<-tibble(\n",
        "  a=rnorm(10),\n",
        "  b=rnorm(10),\n",
        "  c=rnorm(10),\n",
        "  d=rnorm(10)\n",
        ")"
      ],
      "metadata": {
        "id": "mLQIEJRJzHql"
      },
      "execution_count": null,
      "outputs": []
    },
    {
      "cell_type": "code",
      "source": [
        "# Manual\n",
        "df%>%summarize(\n",
        "  n=n(),\n",
        "  a=median(a),\n",
        "  b=median(b),\n",
        "  c=median(c),\n",
        "  d=median(d),\n",
        ")"
      ],
      "metadata": {
        "colab": {
          "base_uri": "https://localhost:8080/",
          "height": 129
        },
        "id": "3--TONyPzDxn",
        "outputId": "e9833ad6-f0fd-4b9c-a595-294f1b351940"
      },
      "execution_count": null,
      "outputs": [
        {
          "output_type": "display_data",
          "data": {
            "text/html": [
              "<table class=\"dataframe\">\n",
              "<caption>A tibble: 1 × 5</caption>\n",
              "<thead>\n",
              "\t<tr><th scope=col>n</th><th scope=col>a</th><th scope=col>b</th><th scope=col>c</th><th scope=col>d</th></tr>\n",
              "\t<tr><th scope=col>&lt;int&gt;</th><th scope=col>&lt;dbl&gt;</th><th scope=col>&lt;dbl&gt;</th><th scope=col>&lt;dbl&gt;</th><th scope=col>&lt;dbl&gt;</th></tr>\n",
              "</thead>\n",
              "<tbody>\n",
              "\t<tr><td>10</td><td>-0.06868012</td><td>-0.277095</td><td>-0.1419439</td><td>0.9231225</td></tr>\n",
              "</tbody>\n",
              "</table>\n"
            ],
            "text/markdown": "\nA tibble: 1 × 5\n\n| n &lt;int&gt; | a &lt;dbl&gt; | b &lt;dbl&gt; | c &lt;dbl&gt; | d &lt;dbl&gt; |\n|---|---|---|---|---|\n| 10 | -0.06868012 | -0.277095 | -0.1419439 | 0.9231225 |\n\n",
            "text/latex": "A tibble: 1 × 5\n\\begin{tabular}{lllll}\n n & a & b & c & d\\\\\n <int> & <dbl> & <dbl> & <dbl> & <dbl>\\\\\n\\hline\n\t 10 & -0.06868012 & -0.277095 & -0.1419439 & 0.9231225\\\\\n\\end{tabular}\n",
            "text/plain": [
              "  n  a           b         c          d        \n",
              "1 10 -0.06868012 -0.277095 -0.1419439 0.9231225"
            ]
          },
          "metadata": {}
        }
      ]
    },
    {
      "cell_type": "markdown",
      "source": [
        "**Across**\n",
        "\n",
        "`across(.cols - which cols you want to iterate over, .fns - what to do w ech col, .names - use when you need additional control over the names of the output cols)`"
      ],
      "metadata": {
        "id": "ZJ9e1yK2z64t"
      }
    },
    {
      "cell_type": "code",
      "source": [
        "# Summarize w across\n",
        "df%>%\n",
        "  summarize(\n",
        "  n=n(),\n",
        "  across(a:d,median),\n",
        ")"
      ],
      "metadata": {
        "colab": {
          "base_uri": "https://localhost:8080/",
          "height": 129
        },
        "id": "dj7IP8x70Vsl",
        "outputId": "d838322b-6590-49da-a7a9-a4b3f7af0dfc"
      },
      "execution_count": null,
      "outputs": [
        {
          "output_type": "display_data",
          "data": {
            "text/html": [
              "<table class=\"dataframe\">\n",
              "<caption>A tibble: 1 × 5</caption>\n",
              "<thead>\n",
              "\t<tr><th scope=col>n</th><th scope=col>a</th><th scope=col>b</th><th scope=col>c</th><th scope=col>d</th></tr>\n",
              "\t<tr><th scope=col>&lt;int&gt;</th><th scope=col>&lt;dbl&gt;</th><th scope=col>&lt;dbl&gt;</th><th scope=col>&lt;dbl&gt;</th><th scope=col>&lt;dbl&gt;</th></tr>\n",
              "</thead>\n",
              "<tbody>\n",
              "\t<tr><td>10</td><td>-0.06868012</td><td>-0.277095</td><td>-0.1419439</td><td>0.9231225</td></tr>\n",
              "</tbody>\n",
              "</table>\n"
            ],
            "text/markdown": "\nA tibble: 1 × 5\n\n| n &lt;int&gt; | a &lt;dbl&gt; | b &lt;dbl&gt; | c &lt;dbl&gt; | d &lt;dbl&gt; |\n|---|---|---|---|---|\n| 10 | -0.06868012 | -0.277095 | -0.1419439 | 0.9231225 |\n\n",
            "text/latex": "A tibble: 1 × 5\n\\begin{tabular}{lllll}\n n & a & b & c & d\\\\\n <int> & <dbl> & <dbl> & <dbl> & <dbl>\\\\\n\\hline\n\t 10 & -0.06868012 & -0.277095 & -0.1419439 & 0.9231225\\\\\n\\end{tabular}\n",
            "text/plain": [
              "  n  a           b         c          d        \n",
              "1 10 -0.06868012 -0.277095 -0.1419439 0.9231225"
            ]
          },
          "metadata": {}
        }
      ]
    },
    {
      "cell_type": "markdown",
      "source": [
        "**Functions** that are useful for `across()` & `select()`: \n",
        "* `starts_with()` \n",
        "* `ends_with()`\n",
        "* `everything()`\n",
        "* `where()`"
      ],
      "metadata": {
        "id": "bIFlWBh60olM"
      }
    },
    {
      "cell_type": "code",
      "source": [
        "df<-tibble(\n",
        "  grp=sample(2,10,replace=TRUE),\n",
        "  a=rnorm(10),\n",
        "  b=rnorm(10),\n",
        "  c=rnorm(10),\n",
        "  d=rnorm(10)\n",
        ")"
      ],
      "metadata": {
        "id": "5BnQL6641mko"
      },
      "execution_count": null,
      "outputs": []
    },
    {
      "cell_type": "code",
      "source": [
        "# Summarize w across w everything\n",
        "df%>%\n",
        "  group_by(grp)%>%\n",
        "  summarize(across(everything(),median))\n",
        "# grouping columns here are not included in the across b/c they're automatically preserved by summarize"
      ],
      "metadata": {
        "colab": {
          "base_uri": "https://localhost:8080/",
          "height": 161
        },
        "id": "6VpvJwgg1s53",
        "outputId": "2ecdd87c-2694-46f9-f4d8-f74fcad21d85"
      },
      "execution_count": null,
      "outputs": [
        {
          "output_type": "display_data",
          "data": {
            "text/html": [
              "<table class=\"dataframe\">\n",
              "<caption>A tibble: 2 × 5</caption>\n",
              "<thead>\n",
              "\t<tr><th scope=col>grp</th><th scope=col>a</th><th scope=col>b</th><th scope=col>c</th><th scope=col>d</th></tr>\n",
              "\t<tr><th scope=col>&lt;int&gt;</th><th scope=col>&lt;dbl&gt;</th><th scope=col>&lt;dbl&gt;</th><th scope=col>&lt;dbl&gt;</th><th scope=col>&lt;dbl&gt;</th></tr>\n",
              "</thead>\n",
              "<tbody>\n",
              "\t<tr><td>1</td><td>-0.04633077</td><td>-1.2705335</td><td>-0.4257304</td><td>0.5368296</td></tr>\n",
              "\t<tr><td>2</td><td> 0.34096628</td><td> 0.2330597</td><td> 1.1186575</td><td>0.2758161</td></tr>\n",
              "</tbody>\n",
              "</table>\n"
            ],
            "text/markdown": "\nA tibble: 2 × 5\n\n| grp &lt;int&gt; | a &lt;dbl&gt; | b &lt;dbl&gt; | c &lt;dbl&gt; | d &lt;dbl&gt; |\n|---|---|---|---|---|\n| 1 | -0.04633077 | -1.2705335 | -0.4257304 | 0.5368296 |\n| 2 |  0.34096628 |  0.2330597 |  1.1186575 | 0.2758161 |\n\n",
            "text/latex": "A tibble: 2 × 5\n\\begin{tabular}{lllll}\n grp & a & b & c & d\\\\\n <int> & <dbl> & <dbl> & <dbl> & <dbl>\\\\\n\\hline\n\t 1 & -0.04633077 & -1.2705335 & -0.4257304 & 0.5368296\\\\\n\t 2 &  0.34096628 &  0.2330597 &  1.1186575 & 0.2758161\\\\\n\\end{tabular}\n",
            "text/plain": [
              "  grp a           b          c          d        \n",
              "1 1   -0.04633077 -1.2705335 -0.4257304 0.5368296\n",
              "2 2    0.34096628  0.2330597  1.1186575 0.2758161"
            ]
          },
          "metadata": {}
        }
      ]
    },
    {
      "cell_type": "markdown",
      "source": [
        "`where()`: allows you to select cols based on their type\n",
        "* `where(is.numeric)`: selects all numeric cols\n",
        "* `where(is.character)`: string \n",
        "* `where(is.Date)`\n",
        "* `where(is.POSIXct)`: date-time  \n",
        "* `where(is.logical)`: logical  "
      ],
      "metadata": {
        "id": "jTcIEbpy2DiR"
      }
    },
    {
      "cell_type": "code",
      "source": [
        "df_types<-tibble(\n",
        "  x1=1:3,\n",
        "  x2=runif(3),\n",
        "  y1=sample(letters,3),\n",
        "  y2=c(\"banana\",\"apple\",\"egg\")\n",
        ")"
      ],
      "metadata": {
        "id": "vIeTwTOe2rt6"
      },
      "execution_count": null,
      "outputs": []
    },
    {
      "cell_type": "code",
      "source": [
        "# Summarize w across w where \n",
        "df_types%>%\n",
        "  summarize(across(where(is.character),str_flatten))"
      ],
      "metadata": {
        "colab": {
          "base_uri": "https://localhost:8080/",
          "height": 129
        },
        "id": "T1Fch6-527Gz",
        "outputId": "d6b1a62c-dc03-4f7f-c388-f2dd7687ab00"
      },
      "execution_count": null,
      "outputs": [
        {
          "output_type": "display_data",
          "data": {
            "text/html": [
              "<table class=\"dataframe\">\n",
              "<caption>A tibble: 1 × 2</caption>\n",
              "<thead>\n",
              "\t<tr><th scope=col>y1</th><th scope=col>y2</th></tr>\n",
              "\t<tr><th scope=col>&lt;chr&gt;</th><th scope=col>&lt;chr&gt;</th></tr>\n",
              "</thead>\n",
              "<tbody>\n",
              "\t<tr><td>pog</td><td>bananaappleegg</td></tr>\n",
              "</tbody>\n",
              "</table>\n"
            ],
            "text/markdown": "\nA tibble: 1 × 2\n\n| y1 &lt;chr&gt; | y2 &lt;chr&gt; |\n|---|---|\n| pog | bananaappleegg |\n\n",
            "text/latex": "A tibble: 1 × 2\n\\begin{tabular}{ll}\n y1 & y2\\\\\n <chr> & <chr>\\\\\n\\hline\n\t pog & bananaappleegg\\\\\n\\end{tabular}\n",
            "text/plain": [
              "  y1  y2            \n",
              "1 pog bananaappleegg"
            ]
          },
          "metadata": {}
        }
      ]
    },
    {
      "cell_type": "markdown",
      "source": [
        "**Shortcut:** `function(x)` = `\\(x)`"
      ],
      "metadata": {
        "id": "dIXDibYC3u1c"
      }
    },
    {
      "cell_type": "markdown",
      "source": [
        "`.names` argument could be important b/c by default, the output is given the same names as the input. \n",
        "\n",
        "So if you use across inside mutate, it will replace the existing columns. \n",
        "\n",
        "You'd likely want to create new cols instead. "
      ],
      "metadata": {
        "id": "JWWlFb9p44Ur"
      }
    },
    {
      "cell_type": "code",
      "source": [
        "rnorm_na<-function(n,n_na,mean=0,sd=1){\n",
        "  sample(c(rnorm(n-n_na,mean=mean,sd=1),rep(NA,n_na)))\n",
        "}\n",
        "\n",
        "df_miss<-tibble(\n",
        "  a=rnorm_na(5,1),\n",
        "  b=rnorm_na(5,1),\n",
        "  c=rnorm_na(5,2),\n",
        "  d=rnorm(5)\n",
        ")"
      ],
      "metadata": {
        "id": "7DDItHKt5Yfw"
      },
      "execution_count": null,
      "outputs": []
    },
    {
      "cell_type": "code",
      "source": [
        "# Across w names \n",
        "df_miss%>%\n",
        "  summarize(\n",
        "  across(a:d,list(\n",
        "    median=\\(x)median(x,na.rm=T),\n",
        "    n_miss=\\(x)sum(is.na(x))\n",
        "  ),\n",
        "    .names=\"{.fn}_{.col}\"\n",
        "  ),\n",
        "  n=n(),\n",
        "  )"
      ],
      "metadata": {
        "colab": {
          "base_uri": "https://localhost:8080/",
          "height": 129
        },
        "id": "iaqvOrQR5v7A",
        "outputId": "e6138b19-d6dd-43e8-a0eb-e3b7d3434679"
      },
      "execution_count": null,
      "outputs": [
        {
          "output_type": "display_data",
          "data": {
            "text/html": [
              "<table class=\"dataframe\">\n",
              "<caption>A tibble: 1 × 9</caption>\n",
              "<thead>\n",
              "\t<tr><th scope=col>median_a</th><th scope=col>n_miss_a</th><th scope=col>median_b</th><th scope=col>n_miss_b</th><th scope=col>median_c</th><th scope=col>n_miss_c</th><th scope=col>median_d</th><th scope=col>n_miss_d</th><th scope=col>n</th></tr>\n",
              "\t<tr><th scope=col>&lt;dbl&gt;</th><th scope=col>&lt;int&gt;</th><th scope=col>&lt;dbl&gt;</th><th scope=col>&lt;int&gt;</th><th scope=col>&lt;dbl&gt;</th><th scope=col>&lt;int&gt;</th><th scope=col>&lt;dbl&gt;</th><th scope=col>&lt;int&gt;</th><th scope=col>&lt;int&gt;</th></tr>\n",
              "</thead>\n",
              "<tbody>\n",
              "\t<tr><td>-1.195664</td><td>1</td><td>0.5636184</td><td>1</td><td>-1.117516</td><td>2</td><td>-0.229491</td><td>0</td><td>5</td></tr>\n",
              "</tbody>\n",
              "</table>\n"
            ],
            "text/markdown": "\nA tibble: 1 × 9\n\n| median_a &lt;dbl&gt; | n_miss_a &lt;int&gt; | median_b &lt;dbl&gt; | n_miss_b &lt;int&gt; | median_c &lt;dbl&gt; | n_miss_c &lt;int&gt; | median_d &lt;dbl&gt; | n_miss_d &lt;int&gt; | n &lt;int&gt; |\n|---|---|---|---|---|---|---|---|---|\n| -1.195664 | 1 | 0.5636184 | 1 | -1.117516 | 2 | -0.229491 | 0 | 5 |\n\n",
            "text/latex": "A tibble: 1 × 9\n\\begin{tabular}{lllllllll}\n median\\_a & n\\_miss\\_a & median\\_b & n\\_miss\\_b & median\\_c & n\\_miss\\_c & median\\_d & n\\_miss\\_d & n\\\\\n <dbl> & <int> & <dbl> & <int> & <dbl> & <int> & <dbl> & <int> & <int>\\\\\n\\hline\n\t -1.195664 & 1 & 0.5636184 & 1 & -1.117516 & 2 & -0.229491 & 0 & 5\\\\\n\\end{tabular}\n",
            "text/plain": [
              "  median_a  n_miss_a median_b  n_miss_b median_c  n_miss_c median_d  n_miss_d n\n",
              "1 -1.195664 1        0.5636184 1        -1.117516 2        -0.229491 0        5"
            ]
          },
          "metadata": {}
        }
      ]
    },
    {
      "cell_type": "markdown",
      "source": [
        "`across()` is great for `summarize()` and `mutate()` but awk for others.\n",
        "\n",
        "`if_any()` and `if_all()` are great for filter()."
      ],
      "metadata": {
        "id": "bEsEye9m6m_9"
      }
    },
    {
      "cell_type": "code",
      "source": [
        "# Filter w if any  \n",
        "\n",
        "# Manual\n",
        "df_miss%>%\n",
        "  filter(is.na(a)|is.na(b)|is.na(c)|is.na(d))\n",
        "\n",
        "# Auto \n",
        "df_miss%>%\n",
        "  filter(if_any(a:d,is.na))"
      ],
      "metadata": {
        "id": "f0BkKjLC6_QC",
        "colab": {
          "base_uri": "https://localhost:8080/",
          "height": 305
        },
        "outputId": "8128630a-ddba-4375-a11f-35b2953a1be9"
      },
      "execution_count": null,
      "outputs": [
        {
          "output_type": "display_data",
          "data": {
            "text/html": [
              "<table class=\"dataframe\">\n",
              "<caption>A tibble: 2 × 4</caption>\n",
              "<thead>\n",
              "\t<tr><th scope=col>a</th><th scope=col>b</th><th scope=col>c</th><th scope=col>d</th></tr>\n",
              "\t<tr><th scope=col>&lt;dbl&gt;</th><th scope=col>&lt;dbl&gt;</th><th scope=col>&lt;dbl&gt;</th><th scope=col>&lt;dbl&gt;</th></tr>\n",
              "</thead>\n",
              "<tbody>\n",
              "\t<tr><td>       NA</td><td>0.4622093</td><td>NA</td><td>-0.122125</td></tr>\n",
              "\t<tr><td>-1.590655</td><td>       NA</td><td>NA</td><td>-0.413999</td></tr>\n",
              "</tbody>\n",
              "</table>\n"
            ],
            "text/markdown": "\nA tibble: 2 × 4\n\n| a &lt;dbl&gt; | b &lt;dbl&gt; | c &lt;dbl&gt; | d &lt;dbl&gt; |\n|---|---|---|---|\n|        NA | 0.4622093 | NA | -0.122125 |\n| -1.590655 |        NA | NA | -0.413999 |\n\n",
            "text/latex": "A tibble: 2 × 4\n\\begin{tabular}{llll}\n a & b & c & d\\\\\n <dbl> & <dbl> & <dbl> & <dbl>\\\\\n\\hline\n\t        NA & 0.4622093 & NA & -0.122125\\\\\n\t -1.590655 &        NA & NA & -0.413999\\\\\n\\end{tabular}\n",
            "text/plain": [
              "  a         b         c  d        \n",
              "1        NA 0.4622093 NA -0.122125\n",
              "2 -1.590655        NA NA -0.413999"
            ]
          },
          "metadata": {}
        },
        {
          "output_type": "display_data",
          "data": {
            "text/html": [
              "<table class=\"dataframe\">\n",
              "<caption>A tibble: 2 × 4</caption>\n",
              "<thead>\n",
              "\t<tr><th scope=col>a</th><th scope=col>b</th><th scope=col>c</th><th scope=col>d</th></tr>\n",
              "\t<tr><th scope=col>&lt;dbl&gt;</th><th scope=col>&lt;dbl&gt;</th><th scope=col>&lt;dbl&gt;</th><th scope=col>&lt;dbl&gt;</th></tr>\n",
              "</thead>\n",
              "<tbody>\n",
              "\t<tr><td>       NA</td><td>0.4622093</td><td>NA</td><td>-0.122125</td></tr>\n",
              "\t<tr><td>-1.590655</td><td>       NA</td><td>NA</td><td>-0.413999</td></tr>\n",
              "</tbody>\n",
              "</table>\n"
            ],
            "text/markdown": "\nA tibble: 2 × 4\n\n| a &lt;dbl&gt; | b &lt;dbl&gt; | c &lt;dbl&gt; | d &lt;dbl&gt; |\n|---|---|---|---|\n|        NA | 0.4622093 | NA | -0.122125 |\n| -1.590655 |        NA | NA | -0.413999 |\n\n",
            "text/latex": "A tibble: 2 × 4\n\\begin{tabular}{llll}\n a & b & c & d\\\\\n <dbl> & <dbl> & <dbl> & <dbl>\\\\\n\\hline\n\t        NA & 0.4622093 & NA & -0.122125\\\\\n\t -1.590655 &        NA & NA & -0.413999\\\\\n\\end{tabular}\n",
            "text/plain": [
              "  a         b         c  d        \n",
              "1        NA 0.4622093 NA -0.122125\n",
              "2 -1.590655        NA NA -0.413999"
            ]
          },
          "metadata": {}
        }
      ]
    },
    {
      "cell_type": "code",
      "source": [
        "# Filter w if all  \n",
        "\n",
        "# Manual\n",
        "df_miss%>%filter(is.na(a)&is.na(b)&is.na(c)&is.na(d))\n",
        "\n",
        "# Auto \n",
        "df_miss%>%filter(if_all(a:d,is.na))"
      ],
      "metadata": {
        "id": "uv2fc3e_7C1_",
        "colab": {
          "base_uri": "https://localhost:8080/",
          "height": 179
        },
        "outputId": "df440f7b-65a8-47d3-acd4-ba15ded489f7"
      },
      "execution_count": null,
      "outputs": [
        {
          "output_type": "display_data",
          "data": {
            "text/html": [
              "<table class=\"dataframe\">\n",
              "<caption>A tibble: 0 × 4</caption>\n",
              "<thead>\n",
              "\t<tr><th scope=col>a</th><th scope=col>b</th><th scope=col>c</th><th scope=col>d</th></tr>\n",
              "\t<tr><th scope=col>&lt;dbl&gt;</th><th scope=col>&lt;dbl&gt;</th><th scope=col>&lt;dbl&gt;</th><th scope=col>&lt;dbl&gt;</th></tr>\n",
              "</thead>\n",
              "<tbody>\n",
              "</tbody>\n",
              "</table>\n"
            ],
            "text/markdown": "\nA tibble: 0 × 4\n\n| a &lt;dbl&gt; | b &lt;dbl&gt; | c &lt;dbl&gt; | d &lt;dbl&gt; |\n|---|---|---|---|\n\n",
            "text/latex": "A tibble: 0 × 4\n\\begin{tabular}{llll}\n a & b & c & d\\\\\n <dbl> & <dbl> & <dbl> & <dbl>\\\\\n\\hline\n\\end{tabular}\n",
            "text/plain": [
              "     a b c d"
            ]
          },
          "metadata": {}
        },
        {
          "output_type": "display_data",
          "data": {
            "text/html": [
              "<table class=\"dataframe\">\n",
              "<caption>A tibble: 0 × 4</caption>\n",
              "<thead>\n",
              "\t<tr><th scope=col>a</th><th scope=col>b</th><th scope=col>c</th><th scope=col>d</th></tr>\n",
              "\t<tr><th scope=col>&lt;dbl&gt;</th><th scope=col>&lt;dbl&gt;</th><th scope=col>&lt;dbl&gt;</th><th scope=col>&lt;dbl&gt;</th></tr>\n",
              "</thead>\n",
              "<tbody>\n",
              "</tbody>\n",
              "</table>\n"
            ],
            "text/markdown": "\nA tibble: 0 × 4\n\n| a &lt;dbl&gt; | b &lt;dbl&gt; | c &lt;dbl&gt; | d &lt;dbl&gt; |\n|---|---|---|---|\n\n",
            "text/latex": "A tibble: 0 × 4\n\\begin{tabular}{llll}\n a & b & c & d\\\\\n <dbl> & <dbl> & <dbl> & <dbl>\\\\\n\\hline\n\\end{tabular}\n",
            "text/plain": [
              "     a b c d"
            ]
          },
          "metadata": {}
        }
      ]
    },
    {
      "cell_type": "code",
      "source": [
        "library(lubridate)"
      ],
      "metadata": {
        "colab": {
          "base_uri": "https://localhost:8080/"
        },
        "id": "9QCR4MmQA7oW",
        "outputId": "208761ab-7561-401e-fa14-40d0aef9f577"
      },
      "execution_count": null,
      "outputs": [
        {
          "output_type": "stream",
          "name": "stderr",
          "text": [
            "\n",
            "Attaching package: ‘lubridate’\n",
            "\n",
            "\n",
            "The following objects are masked from ‘package:base’:\n",
            "\n",
            "    date, intersect, setdiff, union\n",
            "\n",
            "\n"
          ]
        }
      ]
    },
    {
      "cell_type": "markdown",
      "source": [
        "When there are multiple columns with multiple uinque values (in this case, there are multiple medians and means); the `names_vary` changes the way in which the resulting combined columns are named.\n",
        "\n",
        "\"slowest\" causes the resulting columns to be combined and named \"value1_name1, value2_name1, value1_name2, value2_name2\". This is why the a's, b's, c's, and d's are grouped together in this case.\n",
        "\n",
        "\"fastest\" causes the resulting columns to be combined and named \"value1_name1, value1_name2, value2_name1, value2_name2\". This is the default. In our case, our tibble columns would've been named a_median, b_median, etc; instead. "
      ],
      "metadata": {
        "id": "R4ztqd--B-wt"
      }
    },
    {
      "cell_type": "code",
      "source": [
        "df_paired<-tibble(\n",
        "  a_val=rnorm(10),\n",
        "  a_wts=runif(10),\n",
        "  b_val=rnorm(10),\n",
        "  b_wts=runif(10),\n",
        "  c_val=rnorm(10),\n",
        "  c_wts=runif(10),\n",
        "  d_val=rnorm(10),\n",
        "  d_wts=runif(10)\n",
        ")"
      ],
      "metadata": {
        "id": "jeH4JUwVDYoj"
      },
      "execution_count": null,
      "outputs": []
    },
    {
      "cell_type": "code",
      "source": [
        "# Pivot longer, then across\n",
        "df_long<-df_paired%>%\n",
        "  pivot_longer(\n",
        "  everything(),\n",
        "  names_to=c(\"group\",\".value\"),\n",
        "  names_sep=\"_\"\n",
        "  )%>%\n",
        "    print\n",
        "\n",
        "df_long%>%\n",
        "  group_by(group)%>%\n",
        "  summarize(mean=weighted.mean(val,wts))"
      ],
      "metadata": {
        "colab": {
          "base_uri": "https://localhost:8080/",
          "height": 474
        },
        "id": "cpSpETzYC9NF",
        "outputId": "7ad6dcb1-666b-44d4-c846-2b3481f13af9"
      },
      "execution_count": null,
      "outputs": [
        {
          "output_type": "stream",
          "name": "stdout",
          "text": [
            "\u001b[90m# A tibble: 40 × 3\u001b[39m\n",
            "   group    val    wts\n",
            "   \u001b[3m\u001b[90m<chr>\u001b[39m\u001b[23m  \u001b[3m\u001b[90m<dbl>\u001b[39m\u001b[23m  \u001b[3m\u001b[90m<dbl>\u001b[39m\u001b[23m\n",
            "\u001b[90m 1\u001b[39m a     -\u001b[31m0\u001b[39m\u001b[31m.\u001b[39m\u001b[31m368\u001b[39m 0.303 \n",
            "\u001b[90m 2\u001b[39m b     -\u001b[31m2\u001b[39m\u001b[31m.\u001b[39m\u001b[31m71\u001b[39m  0.668 \n",
            "\u001b[90m 3\u001b[39m c      0.151 0.777 \n",
            "\u001b[90m 4\u001b[39m d      0.373 0.607 \n",
            "\u001b[90m 5\u001b[39m a      2.71  0.473 \n",
            "\u001b[90m 6\u001b[39m b      1.43  0.067\u001b[4m2\u001b[24m\n",
            "\u001b[90m 7\u001b[39m c     -\u001b[31m0\u001b[39m\u001b[31m.\u001b[39m\u001b[31m326\u001b[39m 0.866 \n",
            "\u001b[90m 8\u001b[39m d     -\u001b[31m0\u001b[39m\u001b[31m.\u001b[39m\u001b[31m442\u001b[39m 0.108 \n",
            "\u001b[90m 9\u001b[39m a      0.283 0.107 \n",
            "\u001b[90m10\u001b[39m b      0.605 0.233 \n",
            "\u001b[90m# … with 30 more rows\u001b[39m\n"
          ]
        },
        {
          "output_type": "display_data",
          "data": {
            "text/html": [
              "<table class=\"dataframe\">\n",
              "<caption>A tibble: 4 × 2</caption>\n",
              "<thead>\n",
              "\t<tr><th scope=col>group</th><th scope=col>mean</th></tr>\n",
              "\t<tr><th scope=col>&lt;chr&gt;</th><th scope=col>&lt;dbl&gt;</th></tr>\n",
              "</thead>\n",
              "<tbody>\n",
              "\t<tr><td>a</td><td> 0.18577999</td></tr>\n",
              "\t<tr><td>b</td><td>-0.27452380</td></tr>\n",
              "\t<tr><td>c</td><td>-0.14221357</td></tr>\n",
              "\t<tr><td>d</td><td>-0.03592098</td></tr>\n",
              "</tbody>\n",
              "</table>\n"
            ],
            "text/markdown": "\nA tibble: 4 × 2\n\n| group &lt;chr&gt; | mean &lt;dbl&gt; |\n|---|---|\n| a |  0.18577999 |\n| b | -0.27452380 |\n| c | -0.14221357 |\n| d | -0.03592098 |\n\n",
            "text/latex": "A tibble: 4 × 2\n\\begin{tabular}{ll}\n group & mean\\\\\n <chr> & <dbl>\\\\\n\\hline\n\t a &  0.18577999\\\\\n\t b & -0.27452380\\\\\n\t c & -0.14221357\\\\\n\t d & -0.03592098\\\\\n\\end{tabular}\n",
            "text/plain": [
              "  group mean       \n",
              "1 a      0.18577999\n",
              "2 b     -0.27452380\n",
              "3 c     -0.14221357\n",
              "4 d     -0.03592098"
            ]
          },
          "metadata": {}
        }
      ]
    },
    {
      "cell_type": "markdown",
      "source": [
        "### Multiple files"
      ],
      "metadata": {
        "id": "4mM1cDwuFL-E"
      }
    },
    {
      "cell_type": "markdown",
      "source": [
        "**Reading**"
      ],
      "metadata": {
        "id": "B1j1I-tYOGmE"
      }
    },
    {
      "cell_type": "code",
      "source": [
        "data2019<-readxl::read_excel(\"file1.xlsx\")\n",
        "data2020<-readxl::read_excel(\"file2.xlsx\")\n",
        "data2021<-readxl::read_excel(\"file3.xlsx\")\n",
        "data2022<-readxl::read_excel(\"file4.xlsx\")"
      ],
      "metadata": {
        "id": "SBFDujg0FN--"
      },
      "execution_count": null,
      "outputs": []
    },
    {
      "cell_type": "code",
      "source": [
        "# bind_rows & rbind combines all files into a single df \n",
        "data<-bind_rows(data2019,data2020,data2021,data2022)"
      ],
      "metadata": {
        "id": "IV7tyj57FYBK"
      },
      "execution_count": null,
      "outputs": []
    },
    {
      "cell_type": "markdown",
      "source": [
        "`list.files(path,pattern,full.names)`: lists all the files in a directory \n",
        "\n",
        "* path: the directory to look in\n",
        "* pattern: regular expression used to filter the file names. The most common are `[.]xlsx$` or `[.]csv$` \n",
        "* full.names: determines whether or not the directory name should be included in the output. You almost always want this to be T\n",
        "\n",
        "\n",
        "`purrr::map()`: read each of the files into a list "
      ],
      "metadata": {
        "id": "XnO-Oc1lFhjm"
      }
    },
    {
      "cell_type": "code",
      "source": [
        "# Manual\n",
        "\n",
        "# Find all files:\n",
        "paths<-list.files(path=\"data/gapminder\",pattern=\"[.]xlsx$\",full.names=T)\n",
        "\n",
        "# Read all files:\n",
        "gapminder_1952<-readx1::read_excel(\"data/gapminder/1952.xlsx\")\n",
        "...,\n",
        "gapminder_2007<-readx1::read_excel(\"data/gapminder/2007.xlsx\")\n",
        "\n",
        "# List all files:\n",
        "files<-list(\n",
        "  readx1::read_excel(\"data/gapminder/1952.xlsx\"),\n",
        "  ...,\n",
        "  readx1::read_excel(\"data/gapminder/2007.xlsx\")\n",
        ")\n",
        "\n",
        "# Use files[[i]] to extract the i-th file \n",
        "\n",
        "# Map all files into a list to know which element to extract:\n",
        "files<-map(paths,readx1::read_excel)\n",
        "files[1]\n",
        "\n",
        "# Combine all files into a single df:\n",
        "list_rbind(files)"
      ],
      "metadata": {
        "id": "0-U7LlVwGKR2"
      },
      "execution_count": null,
      "outputs": []
    },
    {
      "cell_type": "markdown",
      "source": [
        "**Saving**"
      ],
      "metadata": {
        "id": "TPbEmyHaOHux"
      }
    },
    {
      "cell_type": "code",
      "source": [
        "# Save your csv file\n",
        "write_csv(gapminder,\"gapminder.csv\")"
      ],
      "metadata": {
        "id": "qLYvbZfSKMG5"
      },
      "execution_count": null,
      "outputs": []
    },
    {
      "cell_type": "code",
      "source": [
        "# Save your plot\n",
        "ggsave(by_clarity$path[[1]],by_clarity$plot[[1]],width=6,height=6)"
      ],
      "metadata": {
        "id": "W3Zfjq7wOKpN"
      },
      "execution_count": null,
      "outputs": []
    }
  ],
  "metadata": {
    "celltoolbar": "Create Assignment",
    "colab": {
      "collapsed_sections": [
        "WkwFQ7vlWejr"
      ],
      "provenance": [],
      "include_colab_link": true
    },
    "kernelspec": {
      "display_name": "R",
      "language": "R",
      "name": "ir"
    },
    "language_info": {
      "codemirror_mode": "r",
      "file_extension": ".r",
      "mimetype": "text/x-r-source",
      "name": "R",
      "pygments_lexer": "r",
      "version": "4.2.1"
    }
  },
  "nbformat": 4,
  "nbformat_minor": 0
}
